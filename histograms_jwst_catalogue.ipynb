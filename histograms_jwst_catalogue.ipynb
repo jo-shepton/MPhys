{
 "cells": [
  {
   "cell_type": "code",
   "execution_count": 1,
   "id": "edce0fe0",
   "metadata": {},
   "outputs": [],
   "source": [
    "import astropy\n",
    "from astropy.table import Table\n",
    "import numpy as np\n",
    "import astropy.units as u\n",
    "import matplotlib.pyplot as plt\n",
    " \n",
    "\n",
    "from numpy import *\n",
    "import matplotlib\n",
    "from matplotlib.ticker import MultipleLocator\n",
    "import matplotlib.patheffects as pe\n",
    "import matplotlib.cm as cm\n",
    "\n",
    "from scipy import stats"
   ]
  },
  {
   "cell_type": "code",
   "execution_count": 2,
   "id": "75f2cc38",
   "metadata": {},
   "outputs": [],
   "source": [
    "def useLatex():\n",
    "    plt.rcParams.update({\"text.usetex\":True,\n",
    "                         \"font.family\":\"lmodern\",\n",
    "                         \"text.latex.preamble\":r\"\\usepackage{amsmath,amssymb}\"})\n",
    "    plt.rcParams.update({\"font.size\":\"12\"})"
   ]
  },
  {
   "cell_type": "markdown",
   "id": "9a007715",
   "metadata": {},
   "source": [
    "# Luptitudes\n"
   ]
  },
  {
   "cell_type": "code",
   "execution_count": 3,
   "id": "37d8cf08",
   "metadata": {},
   "outputs": [],
   "source": [
    "full_lup= Table.read('MPhys/data_release/lupt_jwst_final_cut_allz.fits',format='fits')"
   ]
  },
  {
   "cell_type": "code",
   "execution_count": 4,
   "id": "7cde6ac2",
   "metadata": {},
   "outputs": [
    {
     "data": {
      "text/html": [
       "<div><i>Table length=530526</i>\n",
       "<table id=\"table139815714889552\" class=\"table-striped table-bordered table-condensed\">\n",
       "<thead><tr><th>field</th><th>id</th><th>ra</th><th>dec</th><th>z_spec</th><th>lupt_f1000w_aper1</th><th>lupterr_f1000w_aper1</th><th>lupt_f105w_aper1</th><th>lupterr_f105w_aper1</th><th>lupt_f115w-clear_aper1</th><th>lupterr_f115w-clear_aper1</th><th>lupt_f125w_aper1</th><th>lupterr_f125w_aper1</th><th>lupt_f1280w_aper1</th><th>lupterr_f1280w_aper1</th><th>lupt_f140w_aper1</th><th>lupterr_f140w_aper1</th><th>lupt_f1500w_aper1</th><th>lupterr_f1500w_aper1</th><th>lupt_f150w-clear_aper1</th><th>lupterr_f150w-clear_aper1</th><th>lupt_f160w_aper1</th><th>lupterr_f160w_aper1</th><th>lupt_f1800w_aper1</th><th>lupterr_f1800w_aper1</th><th>lupt_f182m-clear_aper1</th><th>lupterr_f182m-clear_aper1</th><th>lupt_f200w-clear_aper1</th><th>lupterr_f200w-clear_aper1</th><th>lupt_f2100w_aper1</th><th>lupterr_f2100w_aper1</th><th>lupt_f210m-clear_aper1</th><th>lupterr_f210m-clear_aper1</th><th>lupt_f275wu_aper1</th><th>lupterr_f275wu_aper1</th><th>lupt_f277w-clear_aper1</th><th>lupterr_f277w-clear_aper1</th><th>lupt_f356w-clear_aper1</th><th>lupterr_f356w-clear_aper1</th><th>lupt_f410m-clear_aper1</th><th>lupterr_f410m-clear_aper1</th><th>lupt_f435w_aper1</th><th>lupterr_f435w_aper1</th><th>lupt_f444w-clear_aper1</th><th>lupterr_f444w-clear_aper1</th><th>lupt_f560w_aper1</th><th>lupterr_f560w_aper1</th><th>lupt_f606w_aper1</th><th>lupterr_f606w_aper1</th><th>lupt_f606wu_aper1</th><th>lupterr_f606wu_aper1</th><th>lupt_f770w_aper1</th><th>lupterr_f770w_aper1</th><th>lupt_f814w_aper1</th><th>lupterr_f814w_aper1</th><th>lupt_f1000w_aper2</th><th>lupterr_f1000w_aper2</th><th>lupt_f105w_aper2</th><th>lupterr_f105w_aper2</th><th>lupt_f115w-clear_aper2</th><th>lupterr_f115w-clear_aper2</th><th>lupt_f125w_aper2</th><th>lupterr_f125w_aper2</th><th>lupt_f1280w_aper2</th><th>lupterr_f1280w_aper2</th><th>lupt_f140w_aper2</th><th>lupterr_f140w_aper2</th><th>lupt_f1500w_aper2</th><th>lupterr_f1500w_aper2</th><th>lupt_f150w-clear_aper2</th><th>lupterr_f150w-clear_aper2</th><th>lupt_f160w_aper2</th><th>lupterr_f160w_aper2</th><th>lupt_f1800w_aper2</th><th>lupterr_f1800w_aper2</th><th>lupt_f182m-clear_aper2</th><th>lupterr_f182m-clear_aper2</th><th>lupt_f200w-clear_aper2</th><th>lupterr_f200w-clear_aper2</th><th>lupt_f2100w_aper2</th><th>lupterr_f2100w_aper2</th><th>lupt_f210m-clear_aper2</th><th>lupterr_f210m-clear_aper2</th><th>lupt_f275wu_aper2</th><th>lupterr_f275wu_aper2</th><th>lupt_f277w-clear_aper2</th><th>lupterr_f277w-clear_aper2</th><th>lupt_f356w-clear_aper2</th><th>lupterr_f356w-clear_aper2</th><th>lupt_f410m-clear_aper2</th><th>lupterr_f410m-clear_aper2</th><th>lupt_f435w_aper2</th><th>lupterr_f435w_aper2</th><th>lupt_f444w-clear_aper2</th><th>lupterr_f444w-clear_aper2</th><th>lupt_f560w_aper2</th><th>lupterr_f560w_aper2</th><th>lupt_f606w_aper2</th><th>lupterr_f606w_aper2</th><th>lupt_f606wu_aper2</th><th>lupterr_f606wu_aper2</th><th>lupt_f770w_aper2</th><th>lupterr_f770w_aper2</th><th>lupt_f814w_aper2</th><th>lupterr_f814w_aper2</th><th>lupt_clearp-f430m_aper1</th><th>lupterr_clearp-f430m_aper1</th><th>lupt_clearp-f480m_aper1</th><th>lupterr_clearp-f480m_aper1</th><th>lupt_f090w-clear_aper1</th><th>lupterr_f090w-clear_aper1</th><th>lupt_f110w_aper1</th><th>lupterr_f110w_aper1</th><th>lupt_f115wn-clear_aper1</th><th>lupterr_f115wn-clear_aper1</th><th>lupt_f150wn-clear_aper1</th><th>lupterr_f150wn-clear_aper1</th><th>lupt_f200wn-clear_aper1</th><th>lupterr_f200wn-clear_aper1</th><th>lupt_f335m-clear_aper1</th><th>lupterr_f335m-clear_aper1</th><th>lupt_f350lpu_aper1</th><th>lupterr_f350lpu_aper1</th><th>lupt_f430m-clear_aper1</th><th>lupterr_f430m-clear_aper1</th><th>lupt_f460m-clear_aper1</th><th>lupterr_f460m-clear_aper1</th><th>lupt_f475w_aper1</th><th>lupterr_f475w_aper1</th><th>lupt_f480m-clear_aper1</th><th>lupterr_f480m-clear_aper1</th><th>lupt_f775w_aper1</th><th>lupterr_f775w_aper1</th><th>lupt_f814wu_aper1</th><th>lupterr_f814wu_aper1</th><th>lupt_f850lp_aper1</th><th>lupterr_f850lp_aper1</th><th>lupt_f850lpu_aper1</th><th>lupterr_f850lpu_aper1</th><th>lupt_clearp-f430m_aper2</th><th>lupterr_clearp-f430m_aper2</th><th>lupt_clearp-f480m_aper2</th><th>lupterr_clearp-f480m_aper2</th><th>lupt_f090w-clear_aper2</th><th>lupterr_f090w-clear_aper2</th><th>lupt_f110w_aper2</th><th>lupterr_f110w_aper2</th><th>lupt_f115wn-clear_aper2</th><th>lupterr_f115wn-clear_aper2</th><th>lupt_f150wn-clear_aper2</th><th>lupterr_f150wn-clear_aper2</th><th>lupt_f200wn-clear_aper2</th><th>lupterr_f200wn-clear_aper2</th><th>lupt_f335m-clear_aper2</th><th>lupterr_f335m-clear_aper2</th><th>lupt_f350lpu_aper2</th><th>lupterr_f350lpu_aper2</th><th>lupt_f430m-clear_aper2</th><th>lupterr_f430m-clear_aper2</th><th>lupt_f460m-clear_aper2</th><th>lupterr_f460m-clear_aper2</th><th>lupt_f475w_aper2</th><th>lupterr_f475w_aper2</th><th>lupt_f480m-clear_aper2</th><th>lupterr_f480m-clear_aper2</th><th>lupt_f775w_aper2</th><th>lupterr_f775w_aper2</th><th>lupt_f814wu_aper2</th><th>lupterr_f814wu_aper2</th><th>lupt_f850lp_aper2</th><th>lupterr_f850lp_aper2</th><th>lupt_f850lpu_aper2</th><th>lupterr_f850lpu_aper2</th><th>lupt_f336wu_aper1</th><th>lupterr_f336wu_aper1</th><th>lupt_f336wu_aper2</th><th>lupterr_f336wu_aper2</th><th>lupt_clearp-f356w_aper1</th><th>lupterr_clearp-f356w_aper1</th><th>lupt_clearp-f444w_aper1</th><th>lupterr_clearp-f444w_aper1</th><th>lupt_f225wu_aper1</th><th>lupterr_f225wu_aper1</th><th>lupt_clearp-f356w_aper2</th><th>lupterr_clearp-f356w_aper2</th><th>lupt_clearp-f444w_aper2</th><th>lupterr_clearp-f444w_aper2</th><th>lupt_f225wu_aper2</th><th>lupterr_f225wu_aper2</th><th>lupt_f250m-clear_aper1</th><th>lupterr_f250m-clear_aper1</th><th>lupt_f300m-clear_aper1</th><th>lupterr_f300m-clear_aper1</th><th>lupt_f625w_aper1</th><th>lupterr_f625w_aper1</th><th>lupt_f250m-clear_aper2</th><th>lupterr_f250m-clear_aper2</th><th>lupt_f300m-clear_aper2</th><th>lupterr_f300m-clear_aper2</th><th>lupt_f625w_aper2</th><th>lupterr_f625w_aper2</th><th>lupt_f390wu_aper1</th><th>lupterr_f390wu_aper1</th><th>lupt_f555w_aper1</th><th>lupterr_f555w_aper1</th><th>lupt_f390wu_aper2</th><th>lupterr_f390wu_aper2</th><th>lupt_f555w_aper2</th><th>lupterr_f555w_aper2</th></tr></thead>\n",
       "<thead><tr><th>bytes13</th><th>int64</th><th>float64</th><th>float64</th><th>float64</th><th>float64</th><th>float64</th><th>float64</th><th>float64</th><th>float64</th><th>float64</th><th>float64</th><th>float64</th><th>float64</th><th>float64</th><th>float64</th><th>float64</th><th>float64</th><th>float64</th><th>float64</th><th>float64</th><th>float64</th><th>float64</th><th>float64</th><th>float64</th><th>float64</th><th>float64</th><th>float64</th><th>float64</th><th>float64</th><th>float64</th><th>float64</th><th>float64</th><th>float64</th><th>float64</th><th>float64</th><th>float64</th><th>float64</th><th>float64</th><th>float64</th><th>float64</th><th>float64</th><th>float64</th><th>float64</th><th>float64</th><th>float64</th><th>float64</th><th>float64</th><th>float64</th><th>float64</th><th>float64</th><th>float64</th><th>float64</th><th>float64</th><th>float64</th><th>float64</th><th>float64</th><th>float64</th><th>float64</th><th>float64</th><th>float64</th><th>float64</th><th>float64</th><th>float64</th><th>float64</th><th>float64</th><th>float64</th><th>float64</th><th>float64</th><th>float64</th><th>float64</th><th>float64</th><th>float64</th><th>float64</th><th>float64</th><th>float64</th><th>float64</th><th>float64</th><th>float64</th><th>float64</th><th>float64</th><th>float64</th><th>float64</th><th>float64</th><th>float64</th><th>float64</th><th>float64</th><th>float64</th><th>float64</th><th>float64</th><th>float64</th><th>float64</th><th>float64</th><th>float64</th><th>float64</th><th>float64</th><th>float64</th><th>float64</th><th>float64</th><th>float64</th><th>float64</th><th>float64</th><th>float64</th><th>float64</th><th>float64</th><th>float64</th><th>float64</th><th>float64</th><th>float64</th><th>float64</th><th>float64</th><th>float64</th><th>float64</th><th>float64</th><th>float64</th><th>float64</th><th>float64</th><th>float64</th><th>float64</th><th>float64</th><th>float64</th><th>float64</th><th>float64</th><th>float64</th><th>float64</th><th>float64</th><th>float64</th><th>float64</th><th>float64</th><th>float64</th><th>float64</th><th>float64</th><th>float64</th><th>float64</th><th>float64</th><th>float64</th><th>float64</th><th>float64</th><th>float64</th><th>float64</th><th>float64</th><th>float64</th><th>float64</th><th>float64</th><th>float64</th><th>float64</th><th>float64</th><th>float64</th><th>float64</th><th>float64</th><th>float64</th><th>float64</th><th>float64</th><th>float64</th><th>float64</th><th>float64</th><th>float64</th><th>float64</th><th>float64</th><th>float64</th><th>float64</th><th>float64</th><th>float64</th><th>float64</th><th>float64</th><th>float64</th><th>float64</th><th>float64</th><th>float64</th><th>float64</th><th>float64</th><th>float64</th><th>float64</th><th>float64</th><th>float64</th><th>float64</th><th>float64</th><th>float64</th><th>float64</th><th>float64</th><th>float64</th><th>float64</th><th>float64</th><th>float64</th><th>float64</th><th>float64</th><th>float64</th><th>float64</th><th>float64</th><th>float64</th><th>float64</th><th>float64</th><th>float64</th><th>float64</th><th>float64</th><th>float64</th><th>float64</th><th>float64</th><th>float64</th><th>float64</th><th>float64</th><th>float64</th><th>float64</th><th>float64</th><th>float64</th><th>float64</th><th>float64</th><th>float64</th><th>float64</th></tr></thead>\n",
       "<tr><td>ceers</td><td>0</td><td>215.2151731300751</td><td>52.97528909359392</td><td>2.0146</td><td>--</td><td>--</td><td>--</td><td>--</td><td>--</td><td>--</td><td>--</td><td>--</td><td>--</td><td>--</td><td>--</td><td>--</td><td>--</td><td>--</td><td>--</td><td>--</td><td>--</td><td>--</td><td>--</td><td>--</td><td>--</td><td>--</td><td>--</td><td>--</td><td>--</td><td>--</td><td>--</td><td>--</td><td>--</td><td>--</td><td>--</td><td>--</td><td>--</td><td>--</td><td>--</td><td>--</td><td>--</td><td>--</td><td>--</td><td>--</td><td>--</td><td>--</td><td>28.865376835318312</td><td>0.4871614601942338</td><td>--</td><td>--</td><td>--</td><td>--</td><td>29.58592713858022</td><td>0.3890860857952225</td><td>--</td><td>--</td><td>--</td><td>--</td><td>--</td><td>--</td><td>--</td><td>--</td><td>--</td><td>--</td><td>--</td><td>--</td><td>--</td><td>--</td><td>--</td><td>--</td><td>--</td><td>--</td><td>--</td><td>--</td><td>--</td><td>--</td><td>--</td><td>--</td><td>--</td><td>--</td><td>--</td><td>--</td><td>--</td><td>--</td><td>--</td><td>--</td><td>--</td><td>--</td><td>--</td><td>--</td><td>--</td><td>--</td><td>--</td><td>--</td><td>--</td><td>--</td><td>28.421246211006505</td><td>0.4538495307289881</td><td>--</td><td>--</td><td>--</td><td>--</td><td>29.641971508618195</td><td>0.35824277534960647</td><td>--</td><td>--</td><td>--</td><td>--</td><td>--</td><td>--</td><td>--</td><td>--</td><td>--</td><td>--</td><td>--</td><td>--</td><td>--</td><td>--</td><td>--</td><td>--</td><td>--</td><td>--</td><td>--</td><td>--</td><td>--</td><td>--</td><td>--</td><td>--</td><td>--</td><td>--</td><td>--</td><td>--</td><td>--</td><td>--</td><td>--</td><td>--</td><td>--</td><td>--</td><td>--</td><td>--</td><td>--</td><td>--</td><td>--</td><td>--</td><td>--</td><td>--</td><td>--</td><td>--</td><td>--</td><td>--</td><td>--</td><td>--</td><td>--</td><td>--</td><td>--</td><td>--</td><td>--</td><td>--</td><td>--</td><td>--</td><td>--</td><td>--</td><td>--</td><td>--</td><td>--</td><td>--</td><td>--</td><td>--</td><td>--</td><td>--</td><td>--</td><td>--</td><td>--</td><td>--</td><td>--</td><td>--</td><td>--</td><td>--</td><td>--</td><td>--</td><td>--</td><td>--</td><td>--</td><td>--</td><td>--</td><td>--</td><td>--</td><td>--</td><td>--</td><td>--</td><td>--</td><td>--</td><td>--</td><td>--</td><td>--</td><td>--</td><td>--</td><td>--</td><td>--</td><td>--</td><td>--</td><td>--</td><td>--</td><td>--</td><td>--</td><td>--</td><td>--</td><td>--</td></tr>\n",
       "<tr><td>ceers</td><td>1</td><td>215.1865311684452</td><td>52.95489247370195</td><td>3.7492</td><td>--</td><td>--</td><td>--</td><td>--</td><td>--</td><td>--</td><td>28.224335908668944</td><td>0.5030830008653232</td><td>--</td><td>--</td><td>--</td><td>--</td><td>--</td><td>--</td><td>--</td><td>--</td><td>30.25722001965542</td><td>0.48530977959396926</td><td>--</td><td>--</td><td>--</td><td>--</td><td>--</td><td>--</td><td>--</td><td>--</td><td>--</td><td>--</td><td>--</td><td>--</td><td>--</td><td>--</td><td>--</td><td>--</td><td>--</td><td>--</td><td>--</td><td>--</td><td>--</td><td>--</td><td>--</td><td>--</td><td>28.374075181120368</td><td>0.3509602322619253</td><td>--</td><td>--</td><td>--</td><td>--</td><td>29.992040796362414</td><td>0.6108835298015077</td><td>--</td><td>--</td><td>--</td><td>--</td><td>--</td><td>--</td><td>27.957818422217407</td><td>0.5117651870330702</td><td>--</td><td>--</td><td>--</td><td>--</td><td>--</td><td>--</td><td>--</td><td>--</td><td>29.850046244145776</td><td>0.47664681753339394</td><td>--</td><td>--</td><td>--</td><td>--</td><td>--</td><td>--</td><td>--</td><td>--</td><td>--</td><td>--</td><td>--</td><td>--</td><td>--</td><td>--</td><td>--</td><td>--</td><td>--</td><td>--</td><td>--</td><td>--</td><td>--</td><td>--</td><td>--</td><td>--</td><td>28.129830530180385</td><td>0.3715888680505435</td><td>--</td><td>--</td><td>--</td><td>--</td><td>30.20678221277556</td><td>0.45863827542467056</td><td>--</td><td>--</td><td>--</td><td>--</td><td>--</td><td>--</td><td>--</td><td>--</td><td>--</td><td>--</td><td>--</td><td>--</td><td>--</td><td>--</td><td>--</td><td>--</td><td>--</td><td>--</td><td>--</td><td>--</td><td>--</td><td>--</td><td>--</td><td>--</td><td>--</td><td>--</td><td>--</td><td>--</td><td>--</td><td>--</td><td>--</td><td>--</td><td>--</td><td>--</td><td>--</td><td>--</td><td>--</td><td>--</td><td>--</td><td>--</td><td>--</td><td>--</td><td>--</td><td>--</td><td>--</td><td>--</td><td>--</td><td>--</td><td>--</td><td>--</td><td>--</td><td>--</td><td>--</td><td>--</td><td>--</td><td>--</td><td>--</td><td>--</td><td>--</td><td>--</td><td>--</td><td>--</td><td>--</td><td>--</td><td>--</td><td>--</td><td>--</td><td>--</td><td>--</td><td>--</td><td>--</td><td>--</td><td>--</td><td>--</td><td>--</td><td>--</td><td>--</td><td>--</td><td>--</td><td>--</td><td>--</td><td>--</td><td>--</td><td>--</td><td>--</td><td>--</td><td>--</td><td>--</td><td>--</td><td>--</td><td>--</td><td>--</td><td>--</td><td>--</td><td>--</td><td>--</td><td>--</td><td>--</td><td>--</td><td>--</td><td>--</td><td>--</td><td>--</td><td>--</td></tr>\n",
       "<tr><td>ceers</td><td>2</td><td>215.17440399645494</td><td>52.94624855014534</td><td>1.6904</td><td>--</td><td>--</td><td>--</td><td>--</td><td>--</td><td>--</td><td>--</td><td>--</td><td>--</td><td>--</td><td>--</td><td>--</td><td>--</td><td>--</td><td>--</td><td>--</td><td>--</td><td>--</td><td>--</td><td>--</td><td>--</td><td>--</td><td>--</td><td>--</td><td>--</td><td>--</td><td>--</td><td>--</td><td>--</td><td>--</td><td>--</td><td>--</td><td>--</td><td>--</td><td>--</td><td>--</td><td>--</td><td>--</td><td>--</td><td>--</td><td>--</td><td>--</td><td>29.43776219565779</td><td>0.6216204473460754</td><td>--</td><td>--</td><td>--</td><td>--</td><td>29.7387153486617</td><td>0.5029986405302952</td><td>--</td><td>--</td><td>--</td><td>--</td><td>--</td><td>--</td><td>--</td><td>--</td><td>--</td><td>--</td><td>--</td><td>--</td><td>--</td><td>--</td><td>--</td><td>--</td><td>--</td><td>--</td><td>--</td><td>--</td><td>--</td><td>--</td><td>--</td><td>--</td><td>--</td><td>--</td><td>--</td><td>--</td><td>--</td><td>--</td><td>--</td><td>--</td><td>--</td><td>--</td><td>--</td><td>--</td><td>--</td><td>--</td><td>--</td><td>--</td><td>--</td><td>--</td><td>28.624413399694575</td><td>0.5105413618828814</td><td>--</td><td>--</td><td>--</td><td>--</td><td>28.96825065867196</td><td>0.46817899573743854</td><td>--</td><td>--</td><td>--</td><td>--</td><td>--</td><td>--</td><td>--</td><td>--</td><td>--</td><td>--</td><td>--</td><td>--</td><td>--</td><td>--</td><td>--</td><td>--</td><td>--</td><td>--</td><td>--</td><td>--</td><td>--</td><td>--</td><td>--</td><td>--</td><td>--</td><td>--</td><td>--</td><td>--</td><td>--</td><td>--</td><td>--</td><td>--</td><td>--</td><td>--</td><td>--</td><td>--</td><td>--</td><td>--</td><td>--</td><td>--</td><td>--</td><td>--</td><td>--</td><td>--</td><td>--</td><td>--</td><td>--</td><td>--</td><td>--</td><td>--</td><td>--</td><td>--</td><td>--</td><td>--</td><td>--</td><td>--</td><td>--</td><td>--</td><td>--</td><td>--</td><td>--</td><td>--</td><td>--</td><td>--</td><td>--</td><td>--</td><td>--</td><td>--</td><td>--</td><td>--</td><td>--</td><td>--</td><td>--</td><td>--</td><td>--</td><td>--</td><td>--</td><td>--</td><td>--</td><td>--</td><td>--</td><td>--</td><td>--</td><td>--</td><td>--</td><td>--</td><td>--</td><td>--</td><td>--</td><td>--</td><td>--</td><td>--</td><td>--</td><td>--</td><td>--</td><td>--</td><td>--</td><td>--</td><td>--</td><td>--</td><td>--</td><td>--</td><td>--</td><td>--</td></tr>\n",
       "<tr><td>ceers</td><td>3</td><td>215.17066593131037</td><td>52.9435832117646</td><td>4.9779</td><td>--</td><td>--</td><td>--</td><td>--</td><td>--</td><td>--</td><td>--</td><td>--</td><td>--</td><td>--</td><td>--</td><td>--</td><td>--</td><td>--</td><td>--</td><td>--</td><td>--</td><td>--</td><td>--</td><td>--</td><td>--</td><td>--</td><td>--</td><td>--</td><td>--</td><td>--</td><td>--</td><td>--</td><td>--</td><td>--</td><td>--</td><td>--</td><td>--</td><td>--</td><td>--</td><td>--</td><td>--</td><td>--</td><td>--</td><td>--</td><td>--</td><td>--</td><td>29.713013158691936</td><td>0.6319590074794152</td><td>--</td><td>--</td><td>--</td><td>--</td><td>28.487222834313293</td><td>0.3136337647977018</td><td>--</td><td>--</td><td>--</td><td>--</td><td>--</td><td>--</td><td>--</td><td>--</td><td>--</td><td>--</td><td>--</td><td>--</td><td>--</td><td>--</td><td>--</td><td>--</td><td>--</td><td>--</td><td>--</td><td>--</td><td>--</td><td>--</td><td>--</td><td>--</td><td>--</td><td>--</td><td>--</td><td>--</td><td>--</td><td>--</td><td>--</td><td>--</td><td>--</td><td>--</td><td>--</td><td>--</td><td>--</td><td>--</td><td>--</td><td>--</td><td>--</td><td>--</td><td>29.15336679443174</td><td>0.6033442733365263</td><td>--</td><td>--</td><td>--</td><td>--</td><td>28.299469017672294</td><td>0.338648707451623</td><td>--</td><td>--</td><td>--</td><td>--</td><td>--</td><td>--</td><td>--</td><td>--</td><td>--</td><td>--</td><td>--</td><td>--</td><td>--</td><td>--</td><td>--</td><td>--</td><td>--</td><td>--</td><td>--</td><td>--</td><td>--</td><td>--</td><td>--</td><td>--</td><td>--</td><td>--</td><td>--</td><td>--</td><td>--</td><td>--</td><td>--</td><td>--</td><td>--</td><td>--</td><td>--</td><td>--</td><td>--</td><td>--</td><td>--</td><td>--</td><td>--</td><td>--</td><td>--</td><td>--</td><td>--</td><td>--</td><td>--</td><td>--</td><td>--</td><td>--</td><td>--</td><td>--</td><td>--</td><td>--</td><td>--</td><td>--</td><td>--</td><td>--</td><td>--</td><td>--</td><td>--</td><td>--</td><td>--</td><td>--</td><td>--</td><td>--</td><td>--</td><td>--</td><td>--</td><td>--</td><td>--</td><td>--</td><td>--</td><td>--</td><td>--</td><td>--</td><td>--</td><td>--</td><td>--</td><td>--</td><td>--</td><td>--</td><td>--</td><td>--</td><td>--</td><td>--</td><td>--</td><td>--</td><td>--</td><td>--</td><td>--</td><td>--</td><td>--</td><td>--</td><td>--</td><td>--</td><td>--</td><td>--</td><td>--</td><td>--</td><td>--</td><td>--</td><td>--</td><td>--</td></tr>\n",
       "<tr><td>ceers</td><td>4</td><td>215.1665950611378</td><td>52.940680067642184</td><td>--</td><td>--</td><td>--</td><td>--</td><td>--</td><td>--</td><td>--</td><td>--</td><td>--</td><td>--</td><td>--</td><td>--</td><td>--</td><td>--</td><td>--</td><td>--</td><td>--</td><td>--</td><td>--</td><td>--</td><td>--</td><td>--</td><td>--</td><td>--</td><td>--</td><td>--</td><td>--</td><td>--</td><td>--</td><td>--</td><td>--</td><td>--</td><td>--</td><td>--</td><td>--</td><td>--</td><td>--</td><td>--</td><td>--</td><td>--</td><td>--</td><td>--</td><td>--</td><td>29.944224425666185</td><td>0.6115841379924234</td><td>--</td><td>--</td><td>--</td><td>--</td><td>30.011806367649307</td><td>0.4816615389448923</td><td>--</td><td>--</td><td>--</td><td>--</td><td>--</td><td>--</td><td>--</td><td>--</td><td>--</td><td>--</td><td>--</td><td>--</td><td>--</td><td>--</td><td>--</td><td>--</td><td>--</td><td>--</td><td>--</td><td>--</td><td>--</td><td>--</td><td>--</td><td>--</td><td>--</td><td>--</td><td>--</td><td>--</td><td>--</td><td>--</td><td>--</td><td>--</td><td>--</td><td>--</td><td>--</td><td>--</td><td>--</td><td>--</td><td>--</td><td>--</td><td>--</td><td>--</td><td>29.892616902528616</td><td>0.5364145701922075</td><td>--</td><td>--</td><td>--</td><td>--</td><td>29.585693459663496</td><td>0.4765809926348928</td><td>--</td><td>--</td><td>--</td><td>--</td><td>--</td><td>--</td><td>--</td><td>--</td><td>--</td><td>--</td><td>--</td><td>--</td><td>--</td><td>--</td><td>--</td><td>--</td><td>--</td><td>--</td><td>--</td><td>--</td><td>--</td><td>--</td><td>--</td><td>--</td><td>--</td><td>--</td><td>--</td><td>--</td><td>--</td><td>--</td><td>--</td><td>--</td><td>--</td><td>--</td><td>--</td><td>--</td><td>--</td><td>--</td><td>--</td><td>--</td><td>--</td><td>--</td><td>--</td><td>--</td><td>--</td><td>--</td><td>--</td><td>--</td><td>--</td><td>--</td><td>--</td><td>--</td><td>--</td><td>--</td><td>--</td><td>--</td><td>--</td><td>--</td><td>--</td><td>--</td><td>--</td><td>--</td><td>--</td><td>--</td><td>--</td><td>--</td><td>--</td><td>--</td><td>--</td><td>--</td><td>--</td><td>--</td><td>--</td><td>--</td><td>--</td><td>--</td><td>--</td><td>--</td><td>--</td><td>--</td><td>--</td><td>--</td><td>--</td><td>--</td><td>--</td><td>--</td><td>--</td><td>--</td><td>--</td><td>--</td><td>--</td><td>--</td><td>--</td><td>--</td><td>--</td><td>--</td><td>--</td><td>--</td><td>--</td><td>--</td><td>--</td><td>--</td><td>--</td><td>--</td></tr>\n",
       "<tr><td>ceers</td><td>5</td><td>215.1651987046283</td><td>52.939684133167596</td><td>2.4566</td><td>--</td><td>--</td><td>--</td><td>--</td><td>--</td><td>--</td><td>--</td><td>--</td><td>--</td><td>--</td><td>--</td><td>--</td><td>--</td><td>--</td><td>--</td><td>--</td><td>--</td><td>--</td><td>--</td><td>--</td><td>--</td><td>--</td><td>--</td><td>--</td><td>--</td><td>--</td><td>--</td><td>--</td><td>--</td><td>--</td><td>--</td><td>--</td><td>--</td><td>--</td><td>--</td><td>--</td><td>--</td><td>--</td><td>--</td><td>--</td><td>--</td><td>--</td><td>29.0287635893615</td><td>0.5499525677961619</td><td>--</td><td>--</td><td>--</td><td>--</td><td>28.988572321670713</td><td>0.4373323512923633</td><td>--</td><td>--</td><td>--</td><td>--</td><td>--</td><td>--</td><td>--</td><td>--</td><td>--</td><td>--</td><td>--</td><td>--</td><td>--</td><td>--</td><td>--</td><td>--</td><td>--</td><td>--</td><td>--</td><td>--</td><td>--</td><td>--</td><td>--</td><td>--</td><td>--</td><td>--</td><td>--</td><td>--</td><td>--</td><td>--</td><td>--</td><td>--</td><td>--</td><td>--</td><td>--</td><td>--</td><td>--</td><td>--</td><td>--</td><td>--</td><td>--</td><td>--</td><td>29.807408515632982</td><td>0.569843019354894</td><td>--</td><td>--</td><td>--</td><td>--</td><td>29.24989390257026</td><td>0.504202937437713</td><td>--</td><td>--</td><td>--</td><td>--</td><td>--</td><td>--</td><td>--</td><td>--</td><td>--</td><td>--</td><td>--</td><td>--</td><td>--</td><td>--</td><td>--</td><td>--</td><td>--</td><td>--</td><td>--</td><td>--</td><td>--</td><td>--</td><td>--</td><td>--</td><td>--</td><td>--</td><td>--</td><td>--</td><td>--</td><td>--</td><td>--</td><td>--</td><td>--</td><td>--</td><td>--</td><td>--</td><td>--</td><td>--</td><td>--</td><td>--</td><td>--</td><td>--</td><td>--</td><td>--</td><td>--</td><td>--</td><td>--</td><td>--</td><td>--</td><td>--</td><td>--</td><td>--</td><td>--</td><td>--</td><td>--</td><td>--</td><td>--</td><td>--</td><td>--</td><td>--</td><td>--</td><td>--</td><td>--</td><td>--</td><td>--</td><td>--</td><td>--</td><td>--</td><td>--</td><td>--</td><td>--</td><td>--</td><td>--</td><td>--</td><td>--</td><td>--</td><td>--</td><td>--</td><td>--</td><td>--</td><td>--</td><td>--</td><td>--</td><td>--</td><td>--</td><td>--</td><td>--</td><td>--</td><td>--</td><td>--</td><td>--</td><td>--</td><td>--</td><td>--</td><td>--</td><td>--</td><td>--</td><td>--</td><td>--</td><td>--</td><td>--</td><td>--</td><td>--</td><td>--</td></tr>\n",
       "<tr><td>ceers</td><td>6</td><td>215.1458629783668</td><td>52.92588676172599</td><td>--</td><td>--</td><td>--</td><td>--</td><td>--</td><td>--</td><td>--</td><td>--</td><td>--</td><td>--</td><td>--</td><td>--</td><td>--</td><td>--</td><td>--</td><td>--</td><td>--</td><td>--</td><td>--</td><td>--</td><td>--</td><td>--</td><td>--</td><td>--</td><td>--</td><td>--</td><td>--</td><td>--</td><td>--</td><td>--</td><td>--</td><td>--</td><td>--</td><td>--</td><td>--</td><td>--</td><td>--</td><td>--</td><td>--</td><td>--</td><td>--</td><td>--</td><td>--</td><td>24.53181514630947</td><td>0.03653048659649492</td><td>--</td><td>--</td><td>--</td><td>--</td><td>24.29560590490359</td><td>0.013996960333104267</td><td>--</td><td>--</td><td>--</td><td>--</td><td>--</td><td>--</td><td>--</td><td>--</td><td>--</td><td>--</td><td>--</td><td>--</td><td>--</td><td>--</td><td>--</td><td>--</td><td>--</td><td>--</td><td>--</td><td>--</td><td>--</td><td>--</td><td>--</td><td>--</td><td>--</td><td>--</td><td>--</td><td>--</td><td>--</td><td>--</td><td>--</td><td>--</td><td>--</td><td>--</td><td>--</td><td>--</td><td>--</td><td>--</td><td>--</td><td>--</td><td>--</td><td>--</td><td>24.05083794680117</td><td>0.02646761706222096</td><td>--</td><td>--</td><td>--</td><td>--</td><td>23.839347943951232</td><td>0.01205597576530774</td><td>--</td><td>--</td><td>--</td><td>--</td><td>--</td><td>--</td><td>--</td><td>--</td><td>--</td><td>--</td><td>--</td><td>--</td><td>--</td><td>--</td><td>--</td><td>--</td><td>--</td><td>--</td><td>--</td><td>--</td><td>--</td><td>--</td><td>--</td><td>--</td><td>--</td><td>--</td><td>--</td><td>--</td><td>--</td><td>--</td><td>--</td><td>--</td><td>--</td><td>--</td><td>--</td><td>--</td><td>--</td><td>--</td><td>--</td><td>--</td><td>--</td><td>--</td><td>--</td><td>--</td><td>--</td><td>--</td><td>--</td><td>--</td><td>--</td><td>--</td><td>--</td><td>--</td><td>--</td><td>--</td><td>--</td><td>--</td><td>--</td><td>--</td><td>--</td><td>--</td><td>--</td><td>--</td><td>--</td><td>--</td><td>--</td><td>--</td><td>--</td><td>--</td><td>--</td><td>--</td><td>--</td><td>--</td><td>--</td><td>--</td><td>--</td><td>--</td><td>--</td><td>--</td><td>--</td><td>--</td><td>--</td><td>--</td><td>--</td><td>--</td><td>--</td><td>--</td><td>--</td><td>--</td><td>--</td><td>--</td><td>--</td><td>--</td><td>--</td><td>--</td><td>--</td><td>--</td><td>--</td><td>--</td><td>--</td><td>--</td><td>--</td><td>--</td><td>--</td><td>--</td></tr>\n",
       "<tr><td>ceers</td><td>7</td><td>215.13093623809937</td><td>52.91522733871391</td><td>--</td><td>--</td><td>--</td><td>--</td><td>--</td><td>--</td><td>--</td><td>--</td><td>--</td><td>--</td><td>--</td><td>--</td><td>--</td><td>--</td><td>--</td><td>--</td><td>--</td><td>--</td><td>--</td><td>--</td><td>--</td><td>--</td><td>--</td><td>--</td><td>--</td><td>--</td><td>--</td><td>--</td><td>--</td><td>--</td><td>--</td><td>--</td><td>--</td><td>--</td><td>--</td><td>--</td><td>--</td><td>--</td><td>--</td><td>--</td><td>--</td><td>--</td><td>--</td><td>30.622064871253063</td><td>0.453591051941295</td><td>--</td><td>--</td><td>--</td><td>--</td><td>30.835428084049312</td><td>0.3030355136464358</td><td>--</td><td>--</td><td>--</td><td>--</td><td>--</td><td>--</td><td>--</td><td>--</td><td>--</td><td>--</td><td>--</td><td>--</td><td>--</td><td>--</td><td>--</td><td>--</td><td>--</td><td>--</td><td>--</td><td>--</td><td>--</td><td>--</td><td>--</td><td>--</td><td>--</td><td>--</td><td>--</td><td>--</td><td>--</td><td>--</td><td>--</td><td>--</td><td>--</td><td>--</td><td>--</td><td>--</td><td>--</td><td>--</td><td>--</td><td>--</td><td>--</td><td>--</td><td>30.10149115448798</td><td>0.48910523391102745</td><td>--</td><td>--</td><td>--</td><td>--</td><td>29.903833845955045</td><td>0.42038993036198724</td><td>--</td><td>--</td><td>--</td><td>--</td><td>--</td><td>--</td><td>--</td><td>--</td><td>--</td><td>--</td><td>--</td><td>--</td><td>--</td><td>--</td><td>--</td><td>--</td><td>--</td><td>--</td><td>--</td><td>--</td><td>--</td><td>--</td><td>--</td><td>--</td><td>--</td><td>--</td><td>--</td><td>--</td><td>--</td><td>--</td><td>--</td><td>--</td><td>--</td><td>--</td><td>--</td><td>--</td><td>--</td><td>--</td><td>--</td><td>--</td><td>--</td><td>--</td><td>--</td><td>--</td><td>--</td><td>--</td><td>--</td><td>--</td><td>--</td><td>--</td><td>--</td><td>--</td><td>--</td><td>--</td><td>--</td><td>--</td><td>--</td><td>--</td><td>--</td><td>--</td><td>--</td><td>--</td><td>--</td><td>--</td><td>--</td><td>--</td><td>--</td><td>--</td><td>--</td><td>--</td><td>--</td><td>--</td><td>--</td><td>--</td><td>--</td><td>--</td><td>--</td><td>--</td><td>--</td><td>--</td><td>--</td><td>--</td><td>--</td><td>--</td><td>--</td><td>--</td><td>--</td><td>--</td><td>--</td><td>--</td><td>--</td><td>--</td><td>--</td><td>--</td><td>--</td><td>--</td><td>--</td><td>--</td><td>--</td><td>--</td><td>--</td><td>--</td><td>--</td><td>--</td></tr>\n",
       "<tr><td>ceers</td><td>8</td><td>215.12435951625753</td><td>52.91052853715476</td><td>--</td><td>--</td><td>--</td><td>--</td><td>--</td><td>--</td><td>--</td><td>--</td><td>--</td><td>--</td><td>--</td><td>--</td><td>--</td><td>--</td><td>--</td><td>--</td><td>--</td><td>--</td><td>--</td><td>--</td><td>--</td><td>--</td><td>--</td><td>--</td><td>--</td><td>--</td><td>--</td><td>--</td><td>--</td><td>--</td><td>--</td><td>--</td><td>--</td><td>--</td><td>--</td><td>--</td><td>--</td><td>--</td><td>--</td><td>--</td><td>--</td><td>--</td><td>--</td><td>29.58947574942953</td><td>0.6457977363783731</td><td>--</td><td>--</td><td>--</td><td>--</td><td>28.609178955829588</td><td>0.45310826668581733</td><td>--</td><td>--</td><td>--</td><td>--</td><td>--</td><td>--</td><td>--</td><td>--</td><td>--</td><td>--</td><td>--</td><td>--</td><td>--</td><td>--</td><td>--</td><td>--</td><td>--</td><td>--</td><td>--</td><td>--</td><td>--</td><td>--</td><td>--</td><td>--</td><td>--</td><td>--</td><td>--</td><td>--</td><td>--</td><td>--</td><td>--</td><td>--</td><td>--</td><td>--</td><td>--</td><td>--</td><td>--</td><td>--</td><td>--</td><td>--</td><td>--</td><td>--</td><td>29.22701636300279</td><td>0.6209316990080631</td><td>--</td><td>--</td><td>--</td><td>--</td><td>28.594406207151852</td><td>0.5326064928876297</td><td>--</td><td>--</td><td>--</td><td>--</td><td>--</td><td>--</td><td>--</td><td>--</td><td>--</td><td>--</td><td>--</td><td>--</td><td>--</td><td>--</td><td>--</td><td>--</td><td>--</td><td>--</td><td>--</td><td>--</td><td>--</td><td>--</td><td>--</td><td>--</td><td>--</td><td>--</td><td>--</td><td>--</td><td>--</td><td>--</td><td>--</td><td>--</td><td>--</td><td>--</td><td>--</td><td>--</td><td>--</td><td>--</td><td>--</td><td>--</td><td>--</td><td>--</td><td>--</td><td>--</td><td>--</td><td>--</td><td>--</td><td>--</td><td>--</td><td>--</td><td>--</td><td>--</td><td>--</td><td>--</td><td>--</td><td>--</td><td>--</td><td>--</td><td>--</td><td>--</td><td>--</td><td>--</td><td>--</td><td>--</td><td>--</td><td>--</td><td>--</td><td>--</td><td>--</td><td>--</td><td>--</td><td>--</td><td>--</td><td>--</td><td>--</td><td>--</td><td>--</td><td>--</td><td>--</td><td>--</td><td>--</td><td>--</td><td>--</td><td>--</td><td>--</td><td>--</td><td>--</td><td>--</td><td>--</td><td>--</td><td>--</td><td>--</td><td>--</td><td>--</td><td>--</td><td>--</td><td>--</td><td>--</td><td>--</td><td>--</td><td>--</td><td>--</td><td>--</td><td>--</td></tr>\n",
       "<tr><td>...</td><td>...</td><td>...</td><td>...</td><td>...</td><td>...</td><td>...</td><td>...</td><td>...</td><td>...</td><td>...</td><td>...</td><td>...</td><td>...</td><td>...</td><td>...</td><td>...</td><td>...</td><td>...</td><td>...</td><td>...</td><td>...</td><td>...</td><td>...</td><td>...</td><td>...</td><td>...</td><td>...</td><td>...</td><td>...</td><td>...</td><td>...</td><td>...</td><td>...</td><td>...</td><td>...</td><td>...</td><td>...</td><td>...</td><td>...</td><td>...</td><td>...</td><td>...</td><td>...</td><td>...</td><td>...</td><td>...</td><td>...</td><td>...</td><td>...</td><td>...</td><td>...</td><td>...</td><td>...</td><td>...</td><td>...</td><td>...</td><td>...</td><td>...</td><td>...</td><td>...</td><td>...</td><td>...</td><td>...</td><td>...</td><td>...</td><td>...</td><td>...</td><td>...</td><td>...</td><td>...</td><td>...</td><td>...</td><td>...</td><td>...</td><td>...</td><td>...</td><td>...</td><td>...</td><td>...</td><td>...</td><td>...</td><td>...</td><td>...</td><td>...</td><td>...</td><td>...</td><td>...</td><td>...</td><td>...</td><td>...</td><td>...</td><td>...</td><td>...</td><td>...</td><td>...</td><td>...</td><td>...</td><td>...</td><td>...</td><td>...</td><td>...</td><td>...</td><td>...</td><td>...</td><td>...</td><td>...</td><td>...</td><td>...</td><td>...</td><td>...</td><td>...</td><td>...</td><td>...</td><td>...</td><td>...</td><td>...</td><td>...</td><td>...</td><td>...</td><td>...</td><td>...</td><td>...</td><td>...</td><td>...</td><td>...</td><td>...</td><td>...</td><td>...</td><td>...</td><td>...</td><td>...</td><td>...</td><td>...</td><td>...</td><td>...</td><td>...</td><td>...</td><td>...</td><td>...</td><td>...</td><td>...</td><td>...</td><td>...</td><td>...</td><td>...</td><td>...</td><td>...</td><td>...</td><td>...</td><td>...</td><td>...</td><td>...</td><td>...</td><td>...</td><td>...</td><td>...</td><td>...</td><td>...</td><td>...</td><td>...</td><td>...</td><td>...</td><td>...</td><td>...</td><td>...</td><td>...</td><td>...</td><td>...</td><td>...</td><td>...</td><td>...</td><td>...</td><td>...</td><td>...</td><td>...</td><td>...</td><td>...</td><td>...</td><td>...</td><td>...</td><td>...</td><td>...</td><td>...</td><td>...</td><td>...</td><td>...</td><td>...</td><td>...</td><td>...</td><td>...</td><td>...</td><td>...</td><td>...</td><td>...</td><td>...</td><td>...</td><td>...</td><td>...</td><td>...</td><td>...</td><td>...</td><td>...</td><td>...</td><td>...</td><td>...</td><td>...</td><td>...</td><td>...</td></tr>\n",
       "<tr><td>sunrise</td><td>530516</td><td>24.348616196574184</td><td>-8.388370132804898</td><td>--</td><td>--</td><td>--</td><td>--</td><td>--</td><td>28.245149989005697</td><td>0.4235124660652927</td><td>--</td><td>--</td><td>--</td><td>--</td><td>--</td><td>--</td><td>--</td><td>--</td><td>28.48674654183714</td><td>0.4687311682565655</td><td>--</td><td>--</td><td>--</td><td>--</td><td>--</td><td>--</td><td>27.861057074685174</td><td>0.2300738441082878</td><td>--</td><td>--</td><td>--</td><td>--</td><td>--</td><td>--</td><td>28.155271048486274</td><td>0.22893785734225983</td><td>29.05793707736308</td><td>0.45056809516281504</td><td>29.685131436261717</td><td>0.7052247541298089</td><td>--</td><td>--</td><td>30.119796352032832</td><td>0.6959509584298115</td><td>--</td><td>--</td><td>--</td><td>--</td><td>--</td><td>--</td><td>--</td><td>--</td><td>--</td><td>--</td><td>--</td><td>--</td><td>--</td><td>--</td><td>29.33933884488515</td><td>0.7103198153741372</td><td>--</td><td>--</td><td>--</td><td>--</td><td>--</td><td>--</td><td>--</td><td>--</td><td>29.880373935955138</td><td>0.637049244696003</td><td>--</td><td>--</td><td>--</td><td>--</td><td>--</td><td>--</td><td>27.739700736645393</td><td>0.2812956996150774</td><td>--</td><td>--</td><td>--</td><td>--</td><td>--</td><td>--</td><td>28.18820828539165</td><td>0.3288511099616476</td><td>29.65973323649746</td><td>0.7378157359048617</td><td>29.98366331582831</td><td>0.5652928727241394</td><td>--</td><td>--</td><td>30.81229193391634</td><td>0.38593089399981234</td><td>--</td><td>--</td><td>--</td><td>--</td><td>--</td><td>--</td><td>--</td><td>--</td><td>--</td><td>--</td><td>--</td><td>--</td><td>--</td><td>--</td><td>27.528698268321996</td><td>0.23059397671241474</td><td>--</td><td>--</td><td>--</td><td>--</td><td>--</td><td>--</td><td>--</td><td>--</td><td>--</td><td>--</td><td>--</td><td>--</td><td>--</td><td>--</td><td>--</td><td>--</td><td>--</td><td>--</td><td>--</td><td>--</td><td>--</td><td>--</td><td>--</td><td>--</td><td>--</td><td>--</td><td>--</td><td>--</td><td>--</td><td>--</td><td>--</td><td>--</td><td>27.76458716624842</td><td>0.38239491863590785</td><td>--</td><td>--</td><td>--</td><td>--</td><td>--</td><td>--</td><td>--</td><td>--</td><td>--</td><td>--</td><td>--</td><td>--</td><td>--</td><td>--</td><td>--</td><td>--</td><td>--</td><td>--</td><td>--</td><td>--</td><td>--</td><td>--</td><td>--</td><td>--</td><td>--</td><td>--</td><td>--</td><td>--</td><td>--</td><td>--</td><td>--</td><td>--</td><td>--</td><td>--</td><td>--</td><td>--</td><td>--</td><td>--</td><td>--</td><td>--</td><td>--</td><td>--</td><td>--</td><td>--</td><td>--</td><td>--</td><td>--</td><td>--</td><td>--</td><td>--</td><td>--</td><td>--</td><td>--</td><td>--</td><td>--</td><td>--</td><td>--</td><td>--</td><td>--</td><td>--</td><td>--</td><td>--</td><td>--</td><td>--</td></tr>\n",
       "<tr><td>sunrise</td><td>530517</td><td>24.35200311622535</td><td>-8.388430504337059</td><td>--</td><td>--</td><td>--</td><td>--</td><td>--</td><td>24.103813224726384</td><td>0.010862294503900178</td><td>--</td><td>--</td><td>--</td><td>--</td><td>--</td><td>--</td><td>--</td><td>--</td><td>23.947117848985314</td><td>0.008155619520817817</td><td>--</td><td>--</td><td>--</td><td>--</td><td>--</td><td>--</td><td>24.14152305648234</td><td>0.008090771388367756</td><td>--</td><td>--</td><td>--</td><td>--</td><td>--</td><td>--</td><td>24.695012068545452</td><td>0.015140270403708812</td><td>25.073352459513565</td><td>0.024500314930982578</td><td>25.405170793287493</td><td>0.057058305035960426</td><td>--</td><td>--</td><td>25.54959578865591</td><td>0.046391454605321604</td><td>--</td><td>--</td><td>--</td><td>--</td><td>--</td><td>--</td><td>--</td><td>--</td><td>--</td><td>--</td><td>--</td><td>--</td><td>--</td><td>--</td><td>24.056387408442482</td><td>0.014283038356377257</td><td>--</td><td>--</td><td>--</td><td>--</td><td>--</td><td>--</td><td>--</td><td>--</td><td>23.892658507787623</td><td>0.010762770390236353</td><td>--</td><td>--</td><td>--</td><td>--</td><td>--</td><td>--</td><td>24.100697558327898</td><td>0.011337336262462782</td><td>--</td><td>--</td><td>--</td><td>--</td><td>--</td><td>--</td><td>24.652121987909595</td><td>0.31060915704826686</td><td>25.00401727794214</td><td>0.042314428102916454</td><td>25.317636421844618</td><td>0.08128425702598</td><td>--</td><td>--</td><td>25.46283571705972</td><td>0.061537504052664685</td><td>--</td><td>--</td><td>--</td><td>--</td><td>--</td><td>--</td><td>--</td><td>--</td><td>--</td><td>--</td><td>--</td><td>--</td><td>--</td><td>--</td><td>24.391414854451742</td><td>0.014108030497875883</td><td>--</td><td>--</td><td>--</td><td>--</td><td>--</td><td>--</td><td>--</td><td>--</td><td>--</td><td>--</td><td>--</td><td>--</td><td>--</td><td>--</td><td>--</td><td>--</td><td>--</td><td>--</td><td>--</td><td>--</td><td>--</td><td>--</td><td>--</td><td>--</td><td>--</td><td>--</td><td>--</td><td>--</td><td>--</td><td>--</td><td>--</td><td>--</td><td>24.342921122308375</td><td>0.01849368467300544</td><td>--</td><td>--</td><td>--</td><td>--</td><td>--</td><td>--</td><td>--</td><td>--</td><td>--</td><td>--</td><td>--</td><td>--</td><td>--</td><td>--</td><td>--</td><td>--</td><td>--</td><td>--</td><td>--</td><td>--</td><td>--</td><td>--</td><td>--</td><td>--</td><td>--</td><td>--</td><td>--</td><td>--</td><td>--</td><td>--</td><td>--</td><td>--</td><td>--</td><td>--</td><td>--</td><td>--</td><td>--</td><td>--</td><td>--</td><td>--</td><td>--</td><td>--</td><td>--</td><td>--</td><td>--</td><td>--</td><td>--</td><td>--</td><td>--</td><td>--</td><td>--</td><td>--</td><td>--</td><td>--</td><td>--</td><td>--</td><td>--</td><td>--</td><td>--</td><td>--</td><td>--</td><td>--</td><td>--</td><td>--</td></tr>\n",
       "<tr><td>sunrise</td><td>530518</td><td>24.35207329155662</td><td>-8.388324632634458</td><td>--</td><td>--</td><td>--</td><td>--</td><td>--</td><td>27.70293472013021</td><td>0.2790532326298241</td><td>--</td><td>--</td><td>--</td><td>--</td><td>--</td><td>--</td><td>--</td><td>--</td><td>27.45585675345925</td><td>0.19523267144409043</td><td>--</td><td>--</td><td>--</td><td>--</td><td>--</td><td>--</td><td>27.43333588388903</td><td>0.15617381890622548</td><td>--</td><td>--</td><td>--</td><td>--</td><td>--</td><td>--</td><td>27.581793890037016</td><td>0.19386871435084407</td><td>27.32605165156386</td><td>0.1423171033207981</td><td>27.62631879508367</td><td>0.33553646572628887</td><td>--</td><td>--</td><td>27.711327751116908</td><td>0.3053771364205826</td><td>--</td><td>--</td><td>--</td><td>--</td><td>--</td><td>--</td><td>--</td><td>--</td><td>--</td><td>--</td><td>--</td><td>--</td><td>--</td><td>--</td><td>27.877436144921806</td><td>0.4316396751660561</td><td>--</td><td>--</td><td>--</td><td>--</td><td>--</td><td>--</td><td>--</td><td>--</td><td>27.12746390934506</td><td>0.20201084465682254</td><td>--</td><td>--</td><td>--</td><td>--</td><td>--</td><td>--</td><td>27.391718982322413</td><td>0.20856588034151946</td><td>--</td><td>--</td><td>--</td><td>--</td><td>--</td><td>--</td><td>27.634111250385633</td><td>0.282486688910301</td><td>27.10462104298616</td><td>0.16270617264063722</td><td>28.732058721648478</td><td>0.9306815793898424</td><td>--</td><td>--</td><td>27.503190144002037</td><td>0.34968338477949584</td><td>--</td><td>--</td><td>--</td><td>--</td><td>--</td><td>--</td><td>--</td><td>--</td><td>--</td><td>--</td><td>--</td><td>--</td><td>--</td><td>--</td><td>28.381503732891517</td><td>0.46548337905840853</td><td>--</td><td>--</td><td>--</td><td>--</td><td>--</td><td>--</td><td>--</td><td>--</td><td>--</td><td>--</td><td>--</td><td>--</td><td>--</td><td>--</td><td>--</td><td>--</td><td>--</td><td>--</td><td>--</td><td>--</td><td>--</td><td>--</td><td>--</td><td>--</td><td>--</td><td>--</td><td>--</td><td>--</td><td>--</td><td>--</td><td>--</td><td>--</td><td>29.329268090038745</td><td>0.7197628625459696</td><td>--</td><td>--</td><td>--</td><td>--</td><td>--</td><td>--</td><td>--</td><td>--</td><td>--</td><td>--</td><td>--</td><td>--</td><td>--</td><td>--</td><td>--</td><td>--</td><td>--</td><td>--</td><td>--</td><td>--</td><td>--</td><td>--</td><td>--</td><td>--</td><td>--</td><td>--</td><td>--</td><td>--</td><td>--</td><td>--</td><td>--</td><td>--</td><td>--</td><td>--</td><td>--</td><td>--</td><td>--</td><td>--</td><td>--</td><td>--</td><td>--</td><td>--</td><td>--</td><td>--</td><td>--</td><td>--</td><td>--</td><td>--</td><td>--</td><td>--</td><td>--</td><td>--</td><td>--</td><td>--</td><td>--</td><td>--</td><td>--</td><td>--</td><td>--</td><td>--</td><td>--</td><td>--</td><td>--</td><td>--</td></tr>\n",
       "<tr><td>sunrise</td><td>530519</td><td>24.350754465768464</td><td>-8.388285648049125</td><td>--</td><td>--</td><td>--</td><td>--</td><td>--</td><td>28.29077654283651</td><td>0.4625605568307056</td><td>--</td><td>--</td><td>--</td><td>--</td><td>--</td><td>--</td><td>--</td><td>--</td><td>29.016838088487464</td><td>0.6447152731727457</td><td>--</td><td>--</td><td>--</td><td>--</td><td>--</td><td>--</td><td>30.370930707939447</td><td>0.6654973813330938</td><td>--</td><td>--</td><td>--</td><td>--</td><td>--</td><td>--</td><td>28.33395650503361</td><td>0.26577192074452</td><td>28.401668131169043</td><td>0.26094056997190734</td><td>29.11422011791321</td><td>0.6542896977322025</td><td>--</td><td>--</td><td>28.388518375807248</td><td>0.37119935291534406</td><td>--</td><td>--</td><td>--</td><td>--</td><td>--</td><td>--</td><td>--</td><td>--</td><td>--</td><td>--</td><td>--</td><td>--</td><td>--</td><td>--</td><td>28.536435574387173</td><td>3.717186483986489</td><td>--</td><td>--</td><td>--</td><td>--</td><td>--</td><td>--</td><td>--</td><td>--</td><td>29.72490489764782</td><td>0.6818347183978736</td><td>--</td><td>--</td><td>--</td><td>--</td><td>--</td><td>--</td><td>30.486807121022867</td><td>0.5128254852143762</td><td>--</td><td>--</td><td>--</td><td>--</td><td>--</td><td>--</td><td>28.710841004402084</td><td>0.489443912989734</td><td>28.638303160660715</td><td>0.42984352376470575</td><td>29.463941965400586</td><td>0.6949087783611938</td><td>--</td><td>--</td><td>28.516478243215776</td><td>0.5387511448667207</td><td>--</td><td>--</td><td>--</td><td>--</td><td>--</td><td>--</td><td>--</td><td>--</td><td>--</td><td>--</td><td>--</td><td>--</td><td>--</td><td>--</td><td>28.423613839778906</td><td>0.5628342090250396</td><td>--</td><td>--</td><td>--</td><td>--</td><td>--</td><td>--</td><td>--</td><td>--</td><td>--</td><td>--</td><td>--</td><td>--</td><td>--</td><td>--</td><td>--</td><td>--</td><td>--</td><td>--</td><td>--</td><td>--</td><td>--</td><td>--</td><td>--</td><td>--</td><td>--</td><td>--</td><td>--</td><td>--</td><td>--</td><td>--</td><td>--</td><td>--</td><td>28.667968880466553</td><td>0.73399701776879</td><td>--</td><td>--</td><td>--</td><td>--</td><td>--</td><td>--</td><td>--</td><td>--</td><td>--</td><td>--</td><td>--</td><td>--</td><td>--</td><td>--</td><td>--</td><td>--</td><td>--</td><td>--</td><td>--</td><td>--</td><td>--</td><td>--</td><td>--</td><td>--</td><td>--</td><td>--</td><td>--</td><td>--</td><td>--</td><td>--</td><td>--</td><td>--</td><td>--</td><td>--</td><td>--</td><td>--</td><td>--</td><td>--</td><td>--</td><td>--</td><td>--</td><td>--</td><td>--</td><td>--</td><td>--</td><td>--</td><td>--</td><td>--</td><td>--</td><td>--</td><td>--</td><td>--</td><td>--</td><td>--</td><td>--</td><td>--</td><td>--</td><td>--</td><td>--</td><td>--</td><td>--</td><td>--</td><td>--</td><td>--</td></tr>\n",
       "<tr><td>sunrise</td><td>530520</td><td>24.35069000080643</td><td>-8.387912082496785</td><td>--</td><td>--</td><td>--</td><td>--</td><td>--</td><td>24.534695210927993</td><td>0.016446587177260902</td><td>--</td><td>--</td><td>--</td><td>--</td><td>--</td><td>--</td><td>--</td><td>--</td><td>24.240140242624257</td><td>0.010566999338150466</td><td>--</td><td>--</td><td>--</td><td>--</td><td>--</td><td>--</td><td>24.093038895621014</td><td>0.007748642649803693</td><td>--</td><td>--</td><td>--</td><td>--</td><td>--</td><td>--</td><td>23.924235452272654</td><td>0.005429098141681802</td><td>23.825358508009256</td><td>0.004602758582787299</td><td>23.85220389850294</td><td>0.008776675340265279</td><td>--</td><td>--</td><td>23.970733611427416</td><td>0.007449909468241394</td><td>--</td><td>--</td><td>--</td><td>--</td><td>--</td><td>--</td><td>--</td><td>--</td><td>--</td><td>--</td><td>--</td><td>--</td><td>--</td><td>--</td><td>24.333708931737576</td><td>0.0196779460195304</td><td>--</td><td>--</td><td>--</td><td>--</td><td>--</td><td>--</td><td>--</td><td>--</td><td>24.062288964466273</td><td>0.012354765418001876</td><td>--</td><td>--</td><td>--</td><td>--</td><td>--</td><td>--</td><td>23.935197461480588</td><td>0.009166642837062403</td><td>--</td><td>--</td><td>--</td><td>--</td><td>--</td><td>--</td><td>23.74941618081064</td><td>0.006263948643496964</td><td>23.64125897965268</td><td>0.005545341062832955</td><td>23.64314171674389</td><td>0.009581353604321753</td><td>--</td><td>--</td><td>23.747654000995606</td><td>0.011464888759849311</td><td>--</td><td>--</td><td>--</td><td>--</td><td>--</td><td>--</td><td>--</td><td>--</td><td>--</td><td>--</td><td>--</td><td>--</td><td>--</td><td>--</td><td>24.945631459662234</td><td>0.022716622821176605</td><td>--</td><td>--</td><td>--</td><td>--</td><td>--</td><td>--</td><td>--</td><td>--</td><td>--</td><td>--</td><td>--</td><td>--</td><td>--</td><td>--</td><td>--</td><td>--</td><td>--</td><td>--</td><td>--</td><td>--</td><td>--</td><td>--</td><td>--</td><td>--</td><td>--</td><td>--</td><td>--</td><td>--</td><td>--</td><td>--</td><td>--</td><td>--</td><td>24.699876592670446</td><td>0.02502311658243149</td><td>--</td><td>--</td><td>--</td><td>--</td><td>--</td><td>--</td><td>--</td><td>--</td><td>--</td><td>--</td><td>--</td><td>--</td><td>--</td><td>--</td><td>--</td><td>--</td><td>--</td><td>--</td><td>--</td><td>--</td><td>--</td><td>--</td><td>--</td><td>--</td><td>--</td><td>--</td><td>--</td><td>--</td><td>--</td><td>--</td><td>--</td><td>--</td><td>--</td><td>--</td><td>--</td><td>--</td><td>--</td><td>--</td><td>--</td><td>--</td><td>--</td><td>--</td><td>--</td><td>--</td><td>--</td><td>--</td><td>--</td><td>--</td><td>--</td><td>--</td><td>--</td><td>--</td><td>--</td><td>--</td><td>--</td><td>--</td><td>--</td><td>--</td><td>--</td><td>--</td><td>--</td><td>--</td><td>--</td><td>--</td></tr>\n",
       "<tr><td>sunrise</td><td>530521</td><td>24.35014284404191</td><td>-8.387709943341601</td><td>--</td><td>--</td><td>--</td><td>--</td><td>--</td><td>30.848904053506843</td><td>0.3940468110046582</td><td>--</td><td>--</td><td>--</td><td>--</td><td>--</td><td>--</td><td>--</td><td>--</td><td>30.164400057215413</td><td>0.6734062904788803</td><td>--</td><td>--</td><td>--</td><td>--</td><td>--</td><td>--</td><td>29.75100279778075</td><td>0.7533031118207218</td><td>--</td><td>--</td><td>--</td><td>--</td><td>--</td><td>--</td><td>28.473042892324827</td><td>0.3552490597296013</td><td>27.709463146499736</td><td>0.1880852296552307</td><td>27.44869179575613</td><td>0.35181217591206737</td><td>--</td><td>--</td><td>27.286289287430964</td><td>0.4874561586991723</td><td>--</td><td>--</td><td>--</td><td>--</td><td>--</td><td>--</td><td>--</td><td>--</td><td>--</td><td>--</td><td>--</td><td>--</td><td>--</td><td>--</td><td>30.662517360905365</td><td>0.34037356727140616</td><td>--</td><td>--</td><td>--</td><td>--</td><td>--</td><td>--</td><td>--</td><td>--</td><td>29.48439736669701</td><td>0.7367368591485896</td><td>--</td><td>--</td><td>--</td><td>--</td><td>--</td><td>--</td><td>29.173442781248962</td><td>0.7186091915103217</td><td>--</td><td>--</td><td>--</td><td>--</td><td>--</td><td>--</td><td>27.863303733119185</td><td>0.3937375283856423</td><td>27.22238526102599</td><td>0.2939959222471106</td><td>26.90926031938499</td><td>0.48428189396450455</td><td>--</td><td>--</td><td>26.75768942655234</td><td>0.37010307700806205</td><td>--</td><td>--</td><td>--</td><td>--</td><td>--</td><td>--</td><td>--</td><td>--</td><td>--</td><td>--</td><td>--</td><td>--</td><td>--</td><td>--</td><td>30.673186608031983</td><td>0.4550576169620878</td><td>--</td><td>--</td><td>--</td><td>--</td><td>--</td><td>--</td><td>--</td><td>--</td><td>--</td><td>--</td><td>--</td><td>--</td><td>--</td><td>--</td><td>--</td><td>--</td><td>--</td><td>--</td><td>--</td><td>--</td><td>--</td><td>--</td><td>--</td><td>--</td><td>--</td><td>--</td><td>--</td><td>--</td><td>--</td><td>--</td><td>--</td><td>--</td><td>30.16391570820336</td><td>0.5053342442432736</td><td>--</td><td>--</td><td>--</td><td>--</td><td>--</td><td>--</td><td>--</td><td>--</td><td>--</td><td>--</td><td>--</td><td>--</td><td>--</td><td>--</td><td>--</td><td>--</td><td>--</td><td>--</td><td>--</td><td>--</td><td>--</td><td>--</td><td>--</td><td>--</td><td>--</td><td>--</td><td>--</td><td>--</td><td>--</td><td>--</td><td>--</td><td>--</td><td>--</td><td>--</td><td>--</td><td>--</td><td>--</td><td>--</td><td>--</td><td>--</td><td>--</td><td>--</td><td>--</td><td>--</td><td>--</td><td>--</td><td>--</td><td>--</td><td>--</td><td>--</td><td>--</td><td>--</td><td>--</td><td>--</td><td>--</td><td>--</td><td>--</td><td>--</td><td>--</td><td>--</td><td>--</td><td>--</td><td>--</td><td>--</td></tr>\n",
       "<tr><td>sunrise</td><td>530522</td><td>24.349442250368472</td><td>-8.388242453831015</td><td>--</td><td>--</td><td>--</td><td>--</td><td>--</td><td>26.70199014413654</td><td>0.1155998656603166</td><td>--</td><td>--</td><td>--</td><td>--</td><td>--</td><td>--</td><td>--</td><td>--</td><td>26.488717352334685</td><td>0.0825167066192123</td><td>--</td><td>--</td><td>--</td><td>--</td><td>--</td><td>--</td><td>26.180342886234904</td><td>0.05071053769370253</td><td>--</td><td>--</td><td>--</td><td>--</td><td>--</td><td>--</td><td>25.91270452371424</td><td>0.030870707267302153</td><td>25.814943072906058</td><td>0.025337640851251807</td><td>25.565067441612285</td><td>0.03666430638971759</td><td>--</td><td>--</td><td>25.50646696620567</td><td>0.029652736382586385</td><td>--</td><td>--</td><td>--</td><td>--</td><td>--</td><td>--</td><td>--</td><td>--</td><td>--</td><td>--</td><td>--</td><td>--</td><td>--</td><td>--</td><td>25.94989234635905</td><td>0.09072210846863199</td><td>--</td><td>--</td><td>--</td><td>--</td><td>--</td><td>--</td><td>--</td><td>--</td><td>25.624651970994435</td><td>0.051795271031157795</td><td>--</td><td>--</td><td>--</td><td>--</td><td>--</td><td>--</td><td>25.30712798121389</td><td>0.03175296689611557</td><td>--</td><td>--</td><td>--</td><td>--</td><td>--</td><td>--</td><td>24.953792010173668</td><td>0.018514930285136053</td><td>24.764658809510898</td><td>0.013874043177658623</td><td>24.578822689726564</td><td>0.02134749755483075</td><td>--</td><td>--</td><td>24.505219105201242</td><td>0.01698841721299375</td><td>--</td><td>--</td><td>--</td><td>--</td><td>--</td><td>--</td><td>--</td><td>--</td><td>--</td><td>--</td><td>--</td><td>--</td><td>--</td><td>--</td><td>26.906851015168574</td><td>0.1328061921799578</td><td>--</td><td>--</td><td>--</td><td>--</td><td>--</td><td>--</td><td>--</td><td>--</td><td>--</td><td>--</td><td>--</td><td>--</td><td>--</td><td>--</td><td>--</td><td>--</td><td>--</td><td>--</td><td>--</td><td>--</td><td>--</td><td>--</td><td>--</td><td>--</td><td>--</td><td>--</td><td>--</td><td>--</td><td>--</td><td>--</td><td>--</td><td>--</td><td>26.28859521991797</td><td>0.1057294928947532</td><td>--</td><td>--</td><td>--</td><td>--</td><td>--</td><td>--</td><td>--</td><td>--</td><td>--</td><td>--</td><td>--</td><td>--</td><td>--</td><td>--</td><td>--</td><td>--</td><td>--</td><td>--</td><td>--</td><td>--</td><td>--</td><td>--</td><td>--</td><td>--</td><td>--</td><td>--</td><td>--</td><td>--</td><td>--</td><td>--</td><td>--</td><td>--</td><td>--</td><td>--</td><td>--</td><td>--</td><td>--</td><td>--</td><td>--</td><td>--</td><td>--</td><td>--</td><td>--</td><td>--</td><td>--</td><td>--</td><td>--</td><td>--</td><td>--</td><td>--</td><td>--</td><td>--</td><td>--</td><td>--</td><td>--</td><td>--</td><td>--</td><td>--</td><td>--</td><td>--</td><td>--</td><td>--</td><td>--</td><td>--</td></tr>\n",
       "<tr><td>sunrise</td><td>530523</td><td>24.35152168659832</td><td>-8.387736182804973</td><td>--</td><td>--</td><td>--</td><td>--</td><td>--</td><td>26.470880714874177</td><td>0.8886947026673373</td><td>--</td><td>--</td><td>--</td><td>--</td><td>--</td><td>--</td><td>--</td><td>--</td><td>26.361026988507184</td><td>0.11602093322342107</td><td>--</td><td>--</td><td>--</td><td>--</td><td>--</td><td>--</td><td>26.250887470993916</td><td>0.09013746871887664</td><td>--</td><td>--</td><td>--</td><td>--</td><td>--</td><td>--</td><td>26.4263295441313</td><td>0.067715203375285</td><td>26.865608457715105</td><td>0.09394267820567677</td><td>26.89813149946156</td><td>0.17481832934493538</td><td>--</td><td>--</td><td>27.355091038683955</td><td>0.22120475932988598</td><td>--</td><td>--</td><td>--</td><td>--</td><td>--</td><td>--</td><td>--</td><td>--</td><td>--</td><td>--</td><td>--</td><td>--</td><td>--</td><td>--</td><td>25.810774002837746</td><td>0.48724630736309354</td><td>--</td><td>--</td><td>--</td><td>--</td><td>--</td><td>--</td><td>--</td><td>--</td><td>25.682858155450823</td><td>0.08300036781466666</td><td>--</td><td>--</td><td>--</td><td>--</td><td>--</td><td>--</td><td>25.610974905559655</td><td>0.14794333470846938</td><td>--</td><td>--</td><td>--</td><td>--</td><td>--</td><td>--</td><td>25.90632647085983</td><td>0.05895531335381076</td><td>26.324595949376057</td><td>0.08014453452325726</td><td>26.416719902867158</td><td>0.15771716160507612</td><td>--</td><td>--</td><td>26.97779383774169</td><td>0.21894177904799478</td><td>--</td><td>--</td><td>--</td><td>--</td><td>--</td><td>--</td><td>--</td><td>--</td><td>--</td><td>--</td><td>--</td><td>--</td><td>--</td><td>--</td><td>26.47533645129002</td><td>0.1304587267594219</td><td>--</td><td>--</td><td>--</td><td>--</td><td>--</td><td>--</td><td>--</td><td>--</td><td>--</td><td>--</td><td>--</td><td>--</td><td>--</td><td>--</td><td>--</td><td>--</td><td>--</td><td>--</td><td>--</td><td>--</td><td>--</td><td>--</td><td>--</td><td>--</td><td>--</td><td>--</td><td>--</td><td>--</td><td>--</td><td>--</td><td>--</td><td>--</td><td>26.018952784336456</td><td>0.11981225631415224</td><td>--</td><td>--</td><td>--</td><td>--</td><td>--</td><td>--</td><td>--</td><td>--</td><td>--</td><td>--</td><td>--</td><td>--</td><td>--</td><td>--</td><td>--</td><td>--</td><td>--</td><td>--</td><td>--</td><td>--</td><td>--</td><td>--</td><td>--</td><td>--</td><td>--</td><td>--</td><td>--</td><td>--</td><td>--</td><td>--</td><td>--</td><td>--</td><td>--</td><td>--</td><td>--</td><td>--</td><td>--</td><td>--</td><td>--</td><td>--</td><td>--</td><td>--</td><td>--</td><td>--</td><td>--</td><td>--</td><td>--</td><td>--</td><td>--</td><td>--</td><td>--</td><td>--</td><td>--</td><td>--</td><td>--</td><td>--</td><td>--</td><td>--</td><td>--</td><td>--</td><td>--</td><td>--</td><td>--</td><td>--</td></tr>\n",
       "<tr><td>sunrise</td><td>530524</td><td>24.351932307794186</td><td>-8.387461901633543</td><td>--</td><td>--</td><td>--</td><td>--</td><td>--</td><td>25.81033396638703</td><td>0.07327152867506714</td><td>--</td><td>--</td><td>--</td><td>--</td><td>--</td><td>--</td><td>--</td><td>--</td><td>25.5539145336042</td><td>0.06834314577525126</td><td>--</td><td>--</td><td>--</td><td>--</td><td>--</td><td>--</td><td>25.473610770653444</td><td>0.18663514086550892</td><td>--</td><td>--</td><td>--</td><td>--</td><td>--</td><td>--</td><td>25.36577664201528</td><td>0.028836920156322138</td><td>25.342383417258706</td><td>0.32584886684267644</td><td>25.243728985871204</td><td>0.8582300379392023</td><td>--</td><td>--</td><td>25.34469940955841</td><td>0.03592768536037745</td><td>--</td><td>--</td><td>--</td><td>--</td><td>--</td><td>--</td><td>--</td><td>--</td><td>--</td><td>--</td><td>--</td><td>--</td><td>--</td><td>--</td><td>25.334543914382984</td><td>0.06584586525312737</td><td>--</td><td>--</td><td>--</td><td>--</td><td>--</td><td>--</td><td>--</td><td>--</td><td>25.083115003128423</td><td>0.07656299042729103</td><td>--</td><td>--</td><td>--</td><td>--</td><td>--</td><td>--</td><td>25.076807288242914</td><td>0.1355478463164202</td><td>--</td><td>--</td><td>--</td><td>--</td><td>--</td><td>--</td><td>24.99269756696688</td><td>0.040000626105533676</td><td>24.925586535949606</td><td>0.21988065240424826</td><td>24.83306382379327</td><td>0.5909627907218039</td><td>--</td><td>--</td><td>24.868038078294955</td><td>0.032551953600911884</td><td>--</td><td>--</td><td>--</td><td>--</td><td>--</td><td>--</td><td>--</td><td>--</td><td>--</td><td>--</td><td>--</td><td>--</td><td>--</td><td>--</td><td>26.177285291385285</td><td>0.6827485842740415</td><td>--</td><td>--</td><td>--</td><td>--</td><td>--</td><td>--</td><td>--</td><td>--</td><td>--</td><td>--</td><td>--</td><td>--</td><td>--</td><td>--</td><td>--</td><td>--</td><td>--</td><td>--</td><td>--</td><td>--</td><td>--</td><td>--</td><td>--</td><td>--</td><td>--</td><td>--</td><td>--</td><td>--</td><td>--</td><td>--</td><td>--</td><td>--</td><td>25.606661728776576</td><td>0.4060810053764567</td><td>--</td><td>--</td><td>--</td><td>--</td><td>--</td><td>--</td><td>--</td><td>--</td><td>--</td><td>--</td><td>--</td><td>--</td><td>--</td><td>--</td><td>--</td><td>--</td><td>--</td><td>--</td><td>--</td><td>--</td><td>--</td><td>--</td><td>--</td><td>--</td><td>--</td><td>--</td><td>--</td><td>--</td><td>--</td><td>--</td><td>--</td><td>--</td><td>--</td><td>--</td><td>--</td><td>--</td><td>--</td><td>--</td><td>--</td><td>--</td><td>--</td><td>--</td><td>--</td><td>--</td><td>--</td><td>--</td><td>--</td><td>--</td><td>--</td><td>--</td><td>--</td><td>--</td><td>--</td><td>--</td><td>--</td><td>--</td><td>--</td><td>--</td><td>--</td><td>--</td><td>--</td><td>--</td><td>--</td><td>--</td></tr>\n",
       "<tr><td>sunrise</td><td>530525</td><td>24.35127497567209</td><td>-8.387325413931277</td><td>--</td><td>--</td><td>--</td><td>--</td><td>--</td><td>28.066935628451688</td><td>0.5600383123858393</td><td>--</td><td>--</td><td>--</td><td>--</td><td>--</td><td>--</td><td>--</td><td>--</td><td>27.24000097754929</td><td>0.27797729421829415</td><td>--</td><td>--</td><td>--</td><td>--</td><td>--</td><td>--</td><td>26.89681820041117</td><td>0.1398167039623767</td><td>--</td><td>--</td><td>--</td><td>--</td><td>--</td><td>--</td><td>26.899524999030863</td><td>0.1283042368970146</td><td>26.09567133286381</td><td>0.17170692340674315</td><td>26.051321982966424</td><td>1.3738990728710514</td><td>--</td><td>--</td><td>26.136966365418637</td><td>0.08293226502524102</td><td>--</td><td>--</td><td>--</td><td>--</td><td>--</td><td>--</td><td>--</td><td>--</td><td>--</td><td>--</td><td>--</td><td>--</td><td>--</td><td>--</td><td>28.18044274427747</td><td>0.7837467453123994</td><td>--</td><td>--</td><td>--</td><td>--</td><td>--</td><td>--</td><td>--</td><td>--</td><td>27.232054681761646</td><td>0.3647317387699119</td><td>--</td><td>--</td><td>--</td><td>--</td><td>--</td><td>--</td><td>26.53550997548864</td><td>0.13726680838599545</td><td>--</td><td>--</td><td>--</td><td>--</td><td>--</td><td>--</td><td>26.709647705638645</td><td>0.148150303263988</td><td>25.862258951271585</td><td>0.2021194742712853</td><td>25.83012832290672</td><td>1.1770740465539815</td><td>--</td><td>--</td><td>25.916598390331302</td><td>0.10479581011331399</td><td>--</td><td>--</td><td>--</td><td>--</td><td>--</td><td>--</td><td>--</td><td>--</td><td>--</td><td>--</td><td>--</td><td>--</td><td>--</td><td>--</td><td>26.864633158545114</td><td>0.186027901812462</td><td>--</td><td>--</td><td>--</td><td>--</td><td>--</td><td>--</td><td>--</td><td>--</td><td>--</td><td>--</td><td>--</td><td>--</td><td>--</td><td>--</td><td>--</td><td>--</td><td>--</td><td>--</td><td>--</td><td>--</td><td>--</td><td>--</td><td>--</td><td>--</td><td>--</td><td>--</td><td>--</td><td>--</td><td>--</td><td>--</td><td>--</td><td>--</td><td>26.279204453064125</td><td>0.15687794796176874</td><td>--</td><td>--</td><td>--</td><td>--</td><td>--</td><td>--</td><td>--</td><td>--</td><td>--</td><td>--</td><td>--</td><td>--</td><td>--</td><td>--</td><td>--</td><td>--</td><td>--</td><td>--</td><td>--</td><td>--</td><td>--</td><td>--</td><td>--</td><td>--</td><td>--</td><td>--</td><td>--</td><td>--</td><td>--</td><td>--</td><td>--</td><td>--</td><td>--</td><td>--</td><td>--</td><td>--</td><td>--</td><td>--</td><td>--</td><td>--</td><td>--</td><td>--</td><td>--</td><td>--</td><td>--</td><td>--</td><td>--</td><td>--</td><td>--</td><td>--</td><td>--</td><td>--</td><td>--</td><td>--</td><td>--</td><td>--</td><td>--</td><td>--</td><td>--</td><td>--</td><td>--</td><td>--</td><td>--</td><td>--</td></tr>\n",
       "</table></div>"
      ],
      "text/plain": [
       "<Table length=530526>\n",
       " field    id           ra                dec         ... lupterr_f390wu_aper2 lupt_f555w_aper2 lupterr_f555w_aper2\n",
       "bytes13 int64       float64            float64       ...       float64            float64            float64      \n",
       "------- ------ ------------------ ------------------ ... -------------------- ---------------- -------------------\n",
       "  ceers      0  215.2151731300751  52.97528909359392 ...                   --               --                  --\n",
       "  ceers      1  215.1865311684452  52.95489247370195 ...                   --               --                  --\n",
       "  ceers      2 215.17440399645494  52.94624855014534 ...                   --               --                  --\n",
       "  ceers      3 215.17066593131037   52.9435832117646 ...                   --               --                  --\n",
       "  ceers      4  215.1665950611378 52.940680067642184 ...                   --               --                  --\n",
       "  ceers      5  215.1651987046283 52.939684133167596 ...                   --               --                  --\n",
       "  ceers      6  215.1458629783668  52.92588676172599 ...                   --               --                  --\n",
       "  ceers      7 215.13093623809937  52.91522733871391 ...                   --               --                  --\n",
       "  ceers      8 215.12435951625753  52.91052853715476 ...                   --               --                  --\n",
       "    ...    ...                ...                ... ...                  ...              ...                 ...\n",
       "sunrise 530516 24.348616196574184 -8.388370132804898 ...                   --               --                  --\n",
       "sunrise 530517  24.35200311622535 -8.388430504337059 ...                   --               --                  --\n",
       "sunrise 530518  24.35207329155662 -8.388324632634458 ...                   --               --                  --\n",
       "sunrise 530519 24.350754465768464 -8.388285648049125 ...                   --               --                  --\n",
       "sunrise 530520  24.35069000080643 -8.387912082496785 ...                   --               --                  --\n",
       "sunrise 530521  24.35014284404191 -8.387709943341601 ...                   --               --                  --\n",
       "sunrise 530522 24.349442250368472 -8.388242453831015 ...                   --               --                  --\n",
       "sunrise 530523  24.35152168659832 -8.387736182804973 ...                   --               --                  --\n",
       "sunrise 530524 24.351932307794186 -8.387461901633543 ...                   --               --                  --\n",
       "sunrise 530525  24.35127497567209 -8.387325413931277 ...                   --               --                  --"
      ]
     },
     "execution_count": 4,
     "metadata": {},
     "output_type": "execute_result"
    }
   ],
   "source": [
    "full_cat=full_lup\n",
    "full_cat"
   ]
  },
  {
   "cell_type": "code",
   "execution_count": 5,
   "id": "0a24131f",
   "metadata": {},
   "outputs": [],
   "source": [
    "#full_lup['z_spec'][full_lup['z_spec']<=0]=np.ma.masked"
   ]
  },
  {
   "cell_type": "code",
   "execution_count": 6,
   "id": "ca0bcdc3",
   "metadata": {},
   "outputs": [],
   "source": [
    "good= np.ones(len(full_lup))\n",
    "for i in range(len(full_lup)):\n",
    "    if np.ma.is_masked(full_lup['z_spec'][i]):\n",
    "        good[i]=0\n",
    "good_b=np.array(good, dtype=bool)\n",
    "lup = full_lup[good_b]"
   ]
  },
  {
   "cell_type": "code",
   "execution_count": 7,
   "id": "1f76fa93",
   "metadata": {},
   "outputs": [
    {
     "name": "stdout",
     "output_type": "stream",
     "text": [
      "530526 20114\n"
     ]
    }
   ],
   "source": [
    "print(len(full_lup),len(lup))"
   ]
  },
  {
   "cell_type": "code",
   "execution_count": 8,
   "id": "4a9e1928",
   "metadata": {},
   "outputs": [],
   "source": [
    "#miri_filters = ['F1000W','F1280W','F1500W','F1800W','F2100W','F560W','F770W']\n",
    "#wfc3_ir = ['F105W','F125W','F140W','F160W','F110W']\n",
    "#wfc3_uvis=['F275W','F606W','F350LP','F225W','F390W']"
   ]
  },
  {
   "cell_type": "code",
   "execution_count": 9,
   "id": "94272428",
   "metadata": {},
   "outputs": [
    {
     "data": {
      "text/plain": [
       "['f435w',\n",
       " 'f555w',\n",
       " 'f625w',\n",
       " 'f606w',\n",
       " 'f775w',\n",
       " 'f814w',\n",
       " 'f105w',\n",
       " 'f110w',\n",
       " 'f125w',\n",
       " 'f140w',\n",
       " 'f160w',\n",
       " 'f225wu',\n",
       " 'f275wu',\n",
       " 'f350lpu',\n",
       " 'f390wu',\n",
       " 'f090w-clear',\n",
       " 'f115w-clear',\n",
       " 'f150w-clear',\n",
       " 'f200w-clear',\n",
       " 'f210m-clear',\n",
       " 'f277w-clear',\n",
       " 'f356w-clear',\n",
       " 'f335m-clear',\n",
       " 'f444w-clear',\n",
       " 'f410m-clear',\n",
       " 'f430m-clear',\n",
       " 'f460m-clear',\n",
       " 'f480m-clear']"
      ]
     },
     "execution_count": 9,
     "metadata": {},
     "output_type": "execute_result"
    }
   ],
   "source": [
    "filts_good=['f435w','f555w','f625w','f606w','f775w','f814w',\n",
    "            'f105w','f110w','f125w','f140w','f160w','f225wu','f275wu','f350lpu','f390wu',\n",
    "            'f090w-clear','f115w-clear','f150w-clear','f200w-clear','f210m-clear','f277w-clear',\n",
    "           'f356w-clear','f335m-clear','f444w-clear','f410m-clear','f430m-clear','f460m-clear','f480m-clear']\n",
    "filts_good"
   ]
  },
  {
   "cell_type": "code",
   "execution_count": 10,
   "id": "49614625",
   "metadata": {},
   "outputs": [],
   "source": [
    "filts_bad = ['f1000w','f1280w','f1500w','f1800w','f2100w','f560w','f770w']\n",
    "\n",
    "\n",
    "names_bad = ['F1000W','F1280W','F1500W','F1800W','F2100W','F560W','F770W']"
   ]
  },
  {
   "cell_type": "code",
   "execution_count": 11,
   "id": "3941a089",
   "metadata": {},
   "outputs": [
    {
     "data": {
      "text/plain": [
       "['F555W',\n",
       " 'F606W',\n",
       " 'F625W',\n",
       " 'F775W',\n",
       " 'F814W',\n",
       " 'F105W',\n",
       " 'F110W',\n",
       " 'F125W',\n",
       " 'F140W',\n",
       " 'F160W',\n",
       " 'F225WU',\n",
       " 'F275WU',\n",
       " 'F350LPU',\n",
       " 'F390WU',\n",
       " 'F090W',\n",
       " 'F115W',\n",
       " 'F150W',\n",
       " 'F200W',\n",
       " 'F210M',\n",
       " 'F277W',\n",
       " 'F356W',\n",
       " 'F335M',\n",
       " 'F444W',\n",
       " 'F410M',\n",
       " 'F430M',\n",
       " 'F460M',\n",
       " 'F480M']"
      ]
     },
     "execution_count": 11,
     "metadata": {},
     "output_type": "execute_result"
    }
   ],
   "source": [
    "\n",
    "for i in filts_good:\n",
    "    names = [i.split('-')[0]for i in filts_good]\n",
    "#print(names)\n",
    "names_good = ['F555W','F606W', 'F625W','F775W',  'F814W',\n",
    "              'F105W','F110W','F125W','F140W','F160W','F225WU','F275WU','F350LPU','F390WU',\n",
    "              'F090W', 'F115W', 'F150W', 'F200W', 'F210M', 'F277W', 'F356W',\n",
    "             'F335M', 'F444W', 'F410M', 'F430M', 'F460M', 'F480M']\n",
    "#print(len(names_good),len(filts_good))\n",
    "names_good"
   ]
  },
  {
   "cell_type": "code",
   "execution_count": null,
   "id": "da266883",
   "metadata": {},
   "outputs": [
    {
     "name": "stdout",
     "output_type": "stream",
     "text": [
      "f435w\n",
      "f555w\n",
      "f625w\n",
      "f606w\n",
      "f775w\n",
      "f814w\n",
      "f105w\n",
      "f110w\n",
      "f125w\n",
      "f140w\n",
      "f160w\n",
      "f225wu\n",
      "f275wu\n",
      "f350lpu\n",
      "f390wu\n",
      "f090w-clear\n",
      "f115w-clear\n"
     ]
    }
   ],
   "source": [
    "\n",
    "#all_filts.sort()\n",
    "#plt.style.use('sty.mplstyle')\n",
    "\n",
    "fig = plt.figure(figsize=(9,14))\n",
    "ax = fig.add_subplot()\n",
    "\n",
    "xmin = 18\n",
    "xmax = 31\n",
    "\n",
    "y_scale = 0.001\n",
    "y_scale1=y_scale*0.02\n",
    "cols = cm.magma(linspace(0.2,1,len(filts_good)))\n",
    "#cols1 = cm.GnBu_r(linspace(0.2,1,len(filts_good)))\n",
    "#times = arange(datetime.datetime(2023,12,1,23,34,32), datetime.datetime(2023,12,11,2,0), datetime.timedelta(hours=5.0,seconds=23)).astype(datetime.datetime)\n",
    "#print(len(nircam))\n",
    "for filt,i in zip(filts_good,range(len(filts_good))):\n",
    "    name =f'lupt_{filt}_aper1'\n",
    "    f1=[]\n",
    "    for j in range(len(lup)):\n",
    "        f1.append(np.ma.is_masked(lup[f'{name}'][j]))\n",
    "    f1_inv=np.array(np.invert(f1))\n",
    "    f1_cat =lup[f1_inv*(np.ma.is_masked(lup[f'{name}']) == True)] \n",
    "\n",
    "    full=[]\n",
    "    for j in range(len(full_cat)):\n",
    "        full.append(np.ma.is_masked(full_cat[f'{name}'][j]))\n",
    "    full_inv=np.array(np.invert(full))\n",
    "    full_catalogue =full_cat[full_inv*(np.ma.is_masked(full_cat[f'{name}']) == True)] \n",
    "\n",
    "    \n",
    "    full_plot = full_catalogue[f'{name}']\n",
    "\n",
    "    #plt.title(f' {name} Luptitude Histogram')\n",
    "\n",
    "    #ax.hist(f1_cat[f'{name}'],bins =50,histtype = 'step',label=f'{filt}')\n",
    "    #ni = random.choice([1,2,3,4],size=5)\n",
    "    #data = concatenate((random.normal(shift[i]+2,3.9,size=n*ni[0]),random.normal(shift[i]-2.3,9,size=n*ni[1]),random.normal(shift[i]+1.5,6,size=n*ni[2]),random.normal(shift[i]+3,5,size=n*ni[3]),random.normal(shift[i]+5,10,size=n*ni[4])))\n",
    "    useLatex()\n",
    "    h,xe = histogram(f1_cat[f'{name}'],bins = 40)\n",
    "    h1,xe1 = histogram(full_plot,bins = 40) #normalised\n",
    "    plt.fill_between(xe[1:],y_scale*h + i,y2=i,zorder=-i,color=cols[i,:],alpha=0.9)\n",
    "    plt.fill_between(xe1[1:],y_scale1*h1 + i,y2=i,zorder=-i,color='grey',alpha=0.5)\n",
    "    #plt.hist(f1_cat[f'{name}'])\n",
    "    plt.plot(xe1[1:],y_scale1*h1 + i,lw=1.5,zorder=-i,color='grey',path_effects=[pe.Stroke(linewidth=2, foreground='k'), pe.Normal()])\n",
    "    plt.plot(xe[1:],y_scale*h + i,lw=1.5,zorder=-i,color=cols[i,:],path_effects=[pe.Stroke(linewidth=2, foreground='k'), pe.Normal()])\n",
    "    \n",
    "    plt.plot([xmin,xe[1]],[i,i],'k-',zorder=-i,lw=2,alpha=0.5)\n",
    "    plt.plot([xe[-1],xmax],[i,i],'k-',zorder=-i,lw=2,alpha=0.5)\n",
    "   \n",
    "    print(filt)\n",
    "    plt.text(xmin-0.2,i+0.03,names_good[i],ha='right',fontsize=12,va='center')\n",
    "\n",
    "\n",
    "plt.xlim([18,31])\n",
    "plt.ylim(bottom=0)\n",
    "\n",
    "\n",
    "ax.tick_params(which='both',tickdir='out',top=False,right=False)\n",
    "\n",
    "ax.set_yticks([])\n",
    "ax.set_yticklabels([])\n",
    "\n",
    "ax.xaxis.set_minor_locator(MultipleLocator(1))\n",
    "ax.xaxis.set_major_locator(MultipleLocator(1))\n",
    "\n",
    "#plt.xlabel(r'{\\bf Frequency} [kHz]')\n",
    "ax.spines['top'].set_alpha(0) \n",
    "ax.spines['left'].set_alpha(0) \n",
    "ax.spines['right'].set_alpha(0)\n",
    "ax.set_xlabel('asinh Magnitudes',fontsize=12)\n",
    "#ax.annotate('', xy=(1.0-0.0055, 0.2), xycoords='axes fraction', xytext=(1.0-0.0055, -0.0025), \n",
    "  #          bbox=dict(boxstyle=\"round\",facecolor='gray'),clip_on = False,size=45)\n",
    "#plt.gcf().text(0.925,0.45,r'{\\bf Time}',rotation=-90,rotation_mode='anchor',fontsize=40,ha='center')\n",
    "\n",
    "#plt.savefig('luptitude_ridgeplot_all.pdf',bbox_inches='tight')\n",
    "plt.show()"
   ]
  },
  {
   "cell_type": "code",
   "execution_count": null,
   "id": "0f2b6788",
   "metadata": {
    "scrolled": true
   },
   "outputs": [],
   "source": [
    "full_plot = full_cat[f'lupt_f200w-clear_aper1']\n",
    "f1=[]\n",
    "for j in range(len(full_cat)):\n",
    "    f1.append(np.ma.is_masked(full_cat[f'lupt_f200w-clear_aper1'][j]))\n",
    "f1_inv=np.array(np.invert(f1))\n",
    "f1_cat =full_cat[f1_inv*(np.ma.is_masked(full_cat[f'lupt_f200w-clear_aper1']) == True)] \n",
    "f1_cat"
   ]
  },
  {
   "cell_type": "code",
   "execution_count": null,
   "id": "e4cea843",
   "metadata": {},
   "outputs": [],
   "source": [
    "ab=Table.read('MPhys/original_jwst_data/ab_final_skymatched_catalogue_excel_inc.fits',format='fits')\n"
   ]
  },
  {
   "cell_type": "code",
   "execution_count": null,
   "id": "bbbd0b90",
   "metadata": {},
   "outputs": [],
   "source": [
    "ab"
   ]
  },
  {
   "cell_type": "code",
   "execution_count": null,
   "id": "0f1617a7",
   "metadata": {},
   "outputs": [],
   "source": []
  },
  {
   "cell_type": "code",
   "execution_count": null,
   "id": "4230842d",
   "metadata": {},
   "outputs": [],
   "source": [
    "full=[]\n",
    "for j in range(len(full_cat)):\n",
    "    full.append(np.ma.is_masked(full_cat[f'lupt_f200w-clear_aper1'][j]))\n",
    "full_inv=np.array(np.invert(full))\n",
    "full_catalogue =full_cat[full_inv*(np.ma.is_masked(full_cat[f'lupt_f200w-clear_aper1']) == True)] "
   ]
  },
  {
   "cell_type": "code",
   "execution_count": null,
   "id": "8317d235",
   "metadata": {},
   "outputs": [],
   "source": [
    "full2=[]\n",
    "for j in range(len(full_catalogue)):\n",
    "    full2.append(np.isnan(full_catalogue[f'lupt_f200w-clear_aper1'][j]))\n",
    "full_inv2=np.array(np.invert(full2))\n",
    "full_catalogue2 =full_catalogue[full_inv2*(np.isnan(full_catalogue[f'lupt_f200w-clear_aper1']) == False)] \n",
    "full_catalogue2"
   ]
  },
  {
   "cell_type": "markdown",
   "id": "8df79cac",
   "metadata": {},
   "source": [
    "field_good=np.zeros(len(ab))\n",
    "for i in range(len(ab)):\n",
    "    if ab['field'][i]=='gds' or ab['field'][i]=='gdn':\n",
    "        field_good[i] =1\n",
    "field_good_b = np.array(field_good,dtype = bool)\n",
    "ab_new  = ab[field_good_b]"
   ]
  },
  {
   "cell_type": "markdown",
   "id": "d9f2f4bf",
   "metadata": {},
   "source": [
    "\n",
    "--\t--\t--\t--\t--\t--\t--\t--\t--\t28.008354202674017\t0.8765699479370233\t--\t--\t--\t--\t--\t--\t--\t--\t27.11318408200824\t0.4241438625769346\t--\t--\t--\t--\t--\t--\t26.27748149358068\t0.6750610515731179\t--\t--\t--\t--\t--\t--\t26.600294099611496\t0.22341984112581825\t25.749764787782762\t0.4023504322072547\t25.903210550963035\t1.342532498921704\t--\t--\t26.008082217246464\t0.39997787901709864\t--\t--\t--\t--\t--\t--\t--\t--\t--\t--\t--\t--\t--\t--\t28.00673552440455\t0.37236347264911634\t--\t--\t--\t--\t--\t--\t--\t--\t--\t--\t--\t--\t--\t--\t--\t--\t--\t--\t--\t--\t--\t--\t--\t--\t--\t--\t--\t--\t--\t--\t--\t--\t26.864633158545114\t0.186027901812462\t--\t--\t--\t--\t--\t--\t--\t--\t--\t--\t--\t--\t--\t--\t--\t--\t--\t--\t--\t--\t--\t--\t--\t--\t--\t--\t--\t--\t--\t--\t--\t--\t26.279204453064125\t0.15687794796176874\t--\t--\t--\t--\t--\t--\t--\t--\t--\t--\t--\t--\t--\t--\t--\t--\t--\t--\t--\t--\t--\t--\t--\t--\t--\t--\t--\t--\t--\t--\t--\t--\t25.88031266029931\t0.15402908059663173\t--\t--\t--\t--\t--\t--\t--\t--\t--\t--\t--\t--\t--\t--\t--\t--\t--\t--\t--\t--\t--\t--\t--\t--\t--\t--\t--\t--\t--\t--\t--\t--\t--\t--\t--\t--\t--\t--\t--\t--\t--\t--\t--\t--\t--\t--\t--\t--\t--\t--\t--\t--\t--\t--\t--\t--\t--\t--\t--\t--\t--\t--\t--\t--\t--\t--\t--\t--\t--\t--\t--\t--\t--\t--\t--\t--\t--\t--\t--\t--\t--\t--\t--\t--\t--\t--\t--\t--\t--\t--\t--\t--\t--\t--\t--\t--\t--\t--\t--\t--\n",
    "good_ab = np.ones(len(ab))\n",
    "for i in range(len(good_ab)):\n",
    "    if np.ma.is_masked(ab['z_spec'][i]):\n",
    "        good_ab[i]=0\n",
    "good_bool_ab  = np.array(good_ab,dtype=bool)\n",
    "abg = ab[good_bool_ab]\n",
    "abg"
   ]
  },
  {
   "cell_type": "code",
   "execution_count": null,
   "id": "8a956a08",
   "metadata": {},
   "outputs": [],
   "source": [
    "ab['f200w-clear_flux_aper_1'][ab['f200w-clear_flux_aper_1']<=0]=np.ma.masked"
   ]
  },
  {
   "cell_type": "code",
   "execution_count": null,
   "id": "9553b29c",
   "metadata": {},
   "outputs": [],
   "source": [
    "flux =[]\n",
    "mag=[]\n",
    "for j in range(len(ab)):\n",
    "    flux.append(ab['f200w-clear_flux_aper_1'][j])#*ab['flux_auto'][j])/ab['flux_aper_1'][j])\n",
    "for j in range(len(flux)):\n",
    "    mag.append(23.9-2.5*np.log10(flux[j]))\n",
    "mag_t = Table()\n",
    "mag_t['ab']=mag"
   ]
  },
  {
   "cell_type": "code",
   "execution_count": null,
   "id": "cd0d94d4",
   "metadata": {},
   "outputs": [],
   "source": [
    "mag_t['ab'][np.isnan(mag_t['ab'])]=0\n",
    "mag_t"
   ]
  },
  {
   "cell_type": "code",
   "execution_count": null,
   "id": "6db7f991",
   "metadata": {},
   "outputs": [],
   "source": [
    "full_ab=[]\n",
    "for j in range(len(mag_t)):\n",
    "    full_ab.append(np.ma.is_masked(mag_t['ab'][j]))\n",
    "full_ab_inv=np.array(np.invert(full_ab))\n",
    "full_ab_catalogue =mag_t[full_ab_inv*(np.ma.is_masked(mag_t['ab']) == True)] \n",
    "full_ab_catalogue\n"
   ]
  },
  {
   "cell_type": "markdown",
   "id": "e0b79d5d",
   "metadata": {},
   "source": [
    "field_lup=np.zeros(len(lup))\n",
    "for i in range(len(lup)):\n",
    "    if lup['field'][i]=='gds' or lup['field'][i]=='gdn':\n",
    "        field_lup[i] =1\n",
    "field_lup_b = np.array(field_lup,dtype = bool)\n",
    "lup_new  = lup[field_lup_b]"
   ]
  },
  {
   "cell_type": "code",
   "execution_count": null,
   "id": "72a39645",
   "metadata": {},
   "outputs": [],
   "source": [
    "f1_cat"
   ]
  },
  {
   "cell_type": "code",
   "execution_count": null,
   "id": "db52709b",
   "metadata": {},
   "outputs": [],
   "source": [
    "comp = [f1_cat['lupt_f200w-clear_aper1'],full_ab_catalogue['ab']]\n",
    "fig = plt.figure(figsize=(8,4))\n",
    "ax = fig.add_subplot()\n",
    "names_sing =['asinh \\n Magnitudes','AB \\n Magnitudes']\n",
    "xmin = 15\n",
    "xmax = 40\n",
    "\n",
    "y_scale =0.00003\n",
    "cols = cm.magma([0.5,0.9])\n",
    "a=[0.6,1]\n",
    "for i in range(len(comp)):  \n",
    "\n",
    "    useLatex()\n",
    "    h,xe = histogram(comp[i],bins = 40)\n",
    "    plt.fill_between(xe[1:],y_scale*h + i,y2=i,zorder=-i,color=cols[i,:],alpha=a[i])\n",
    "    plt.plot(xe[1:],y_scale*h + i,lw=1.5,zorder=-i,color=cols[i,:],path_effects=[pe.Stroke(linewidth=2, foreground='k'), pe.Normal()])\n",
    "    plt.plot([xmin,xe[1]],[i,i],'k-',zorder=-i,lw=2,alpha=0.5)\n",
    "    plt.plot([xe[-1],xmax],[i,i],'k-',zorder=-i,lw=2,alpha=0.5)\n",
    "\n",
    "    plt.text(xmin-0.2,i+0.03,names_sing[i],ha='right',fontsize=10,va='center')\n",
    "#\n",
    "#plt.legend()\n",
    "plt.xlim([15,40])\n",
    "plt.ylim(bottom=0)\n",
    "\n",
    "\n",
    "ax.tick_params(which='both',tickdir='out',top=False,right=False)\n",
    "\n",
    "ax.set_yticks([])\n",
    "ax.set_yticklabels([])\n",
    "\n",
    "ax.xaxis.set_minor_locator(MultipleLocator(1))\n",
    "ax.xaxis.set_major_locator(MultipleLocator(1))\n",
    "\n",
    "#plt.xlabel(r'{\\bf Frequency} [kHz]')\n",
    "ax.spines['top'].set_alpha(0) \n",
    "ax.spines['left'].set_alpha(0) \n",
    "ax.spines['right'].set_alpha(0)\n",
    "ax.set_xlabel('Magnitudes')\n",
    "#ax.annotate('', xy=(1.0-0.0055, 0.95), xycoords='axes fraction', xytext=(1.0-0.0055, -0.0025), \n",
    "           # arrowprops=dict(arrowstyle=\"simple\",facecolor='gray'),clip_on = False,size=45)\n",
    "#plt.gcf().text(0.925,0.45,r'{\\bf Time}',rotation=-90,rotation_mode='anchor',fontsize=40,ha='center')\n",
    "\n",
    "\n",
    "\n",
    "#plt.savefig('luptitude_ab_comp_ridgeplot.png',bbox_inches='tight')\n",
    "plt.show()"
   ]
  },
  {
   "cell_type": "code",
   "execution_count": null,
   "id": "35da526a",
   "metadata": {},
   "outputs": [],
   "source": [
    "plt.hexbin(comp[0],comp[1],bins='log')\n",
    "plt.xlabel('asinh Magnitudes')\n",
    "plt.ylabel('AB Magnitudes')\n",
    "plt.xlim(15,40)\n",
    "plt.ylim(15,40)\n",
    "x=np.linspace(0,50,50)\n",
    "plt.plot(x,x)\n",
    "plt.savefig('lupt_vs_ab_scatterplot.png',bbox_inches='tight')"
   ]
  },
  {
   "cell_type": "code",
   "execution_count": null,
   "id": "de8950cc",
   "metadata": {},
   "outputs": [],
   "source": []
  }
 ],
 "metadata": {
  "kernelspec": {
   "display_name": "Python 3 (ipykernel)",
   "language": "python",
   "name": "python3"
  },
  "language_info": {
   "codemirror_mode": {
    "name": "ipython",
    "version": 3
   },
   "file_extension": ".py",
   "mimetype": "text/x-python",
   "name": "python",
   "nbconvert_exporter": "python",
   "pygments_lexer": "ipython3",
   "version": "3.11.5"
  }
 },
 "nbformat": 4,
 "nbformat_minor": 5
}
