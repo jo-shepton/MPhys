{
 "cells": [
  {
   "cell_type": "code",
   "execution_count": 1,
   "id": "b4d3aaba",
   "metadata": {},
   "outputs": [],
   "source": [
    "import astropy\n",
    "from astropy.table import Table\n",
    "import numpy as np\n",
    "import astropy.units as u\n",
    "import matplotlib.pyplot as plt\n",
    " "
   ]
  },
  {
   "cell_type": "code",
   "execution_count": 2,
   "id": "dfce8483",
   "metadata": {},
   "outputs": [],
   "source": [
    "t = Table.read('MPhys/catalogues/filter_choice_1.fits',format='fits')\n",
    "#WANT FULL CATALOGUE- NEED CP LAB TO GET THIS "
   ]
  },
  {
   "cell_type": "code",
   "execution_count": 3,
   "id": "1de4f840",
   "metadata": {},
   "outputs": [
    {
     "data": {
      "text/html": [
       "<div><i>Table length=5215</i>\n",
       "<table id=\"table140212429352848\" class=\"table-striped table-bordered table-condensed\">\n",
       "<thead><tr><th>field</th><th>id</th><th>ra</th><th>dec</th><th>lupt_f625w</th><th>lupterr_f625w</th><th>lupt_f110w</th><th>lupterr_f110w</th><th>lupt_f277w-clear</th><th>lupterr_f277w-clear</th><th>lupt_f356w-clear</th><th>lupterr_f356w-clear</th><th>lupt_f444w-clear</th><th>lupterr_f444w-clear</th></tr></thead>\n",
       "<thead><tr><th>bytes13</th><th>int32</th><th>float64</th><th>float64</th><th>float64</th><th>float64</th><th>float64</th><th>float64</th><th>float64</th><th>float64</th><th>float64</th><th>float64</th><th>float64</th><th>float64</th></tr></thead>\n",
       "<tr><td>macs0647</td><td>3976</td><td>101.99435324482509</td><td>70.22764130455266</td><td>27.907247138124504</td><td>0.33218427307960596</td><td>27.453859514592633</td><td>0.17045431320062146</td><td>27.12432381209003</td><td>0.06709840330564235</td><td>26.93216800271955</td><td>0.057968604927670336</td><td>26.96201714167506</td><td>0.09517025119652596</td></tr>\n",
       "<tr><td>macs0647</td><td>3978</td><td>101.9898333307484</td><td>70.227928956308</td><td>28.422757959966393</td><td>0.408052157023811</td><td>28.798417282416835</td><td>0.40856640358624075</td><td>28.120099780069065</td><td>0.1424174492833824</td><td>28.215639317717695</td><td>0.17368960490570712</td><td>28.692321646441016</td><td>0.36319803633173664</td></tr>\n",
       "<tr><td>macs0647</td><td>3979</td><td>101.98921818456209</td><td>70.22794548695317</td><td>28.703258559016305</td><td>0.5381418744463659</td><td>29.016459962801452</td><td>0.4531457118276954</td><td>28.65046195265832</td><td>0.2537761332654163</td><td>29.427274773881383</td><td>0.9089692675161898</td><td>29.050896895432768</td><td>0.5297540114132252</td></tr>\n",
       "<tr><td>macs0647</td><td>3983</td><td>101.99716204697782</td><td>70.22779213635883</td><td>26.748764859824618</td><td>0.1419159293279423</td><td>25.53000272846882</td><td>0.028333051778609064</td><td>24.864766210666904</td><td>0.008894515997537775</td><td>24.77599818880748</td><td>0.008079993649095427</td><td>24.64854819798589</td><td>0.010683250174254278</td></tr>\n",
       "<tr><td>macs0647</td><td>3984</td><td>101.99694580048542</td><td>70.22806024826556</td><td>28.00972957531415</td><td>0.3596359619503329</td><td>27.52642481252893</td><td>0.1548192286377876</td><td>27.52241529256032</td><td>0.09349765164596818</td><td>27.653995486037026</td><td>0.10160811674372949</td><td>27.829345659775033</td><td>0.193430172748305</td></tr>\n",
       "<tr><td>macs0647</td><td>3985</td><td>101.98882790133804</td><td>70.22818239896256</td><td>28.379910726506655</td><td>0.3929663718634982</td><td>28.0826224200209</td><td>0.25143814775246637</td><td>27.704926290795157</td><td>0.10729947354339223</td><td>27.556702074540297</td><td>0.09170029613199109</td><td>27.569587153837556</td><td>0.1451244721712734</td></tr>\n",
       "<tr><td>macs0647</td><td>3986</td><td>101.99815976931545</td><td>70.22837322847</td><td>29.509540384100593</td><td>0.45618323531959826</td><td>29.235737813396494</td><td>0.5054168798669746</td><td>28.19356647567918</td><td>0.15487425410961622</td><td>28.42695964860224</td><td>0.18710910266968664</td><td>28.21963486486782</td><td>0.250486930840804</td></tr>\n",
       "<tr><td>macs0647</td><td>3987</td><td>101.98867665470219</td><td>70.22838770587835</td><td>28.24896361041164</td><td>0.3892873145933041</td><td>29.220548027497426</td><td>0.48136351868358945</td><td>28.533599945504214</td><td>0.2051089488112382</td><td>28.729614742338068</td><td>0.24223742815138571</td><td>28.37130165279834</td><td>0.2770087380176852</td></tr>\n",
       "<tr><td>macs0647</td><td>3988</td><td>101.99791877956773</td><td>70.22840335205194</td><td>28.826781042418034</td><td>0.5557779696034684</td><td>28.99292439680199</td><td>0.447660604554518</td><td>28.92568045097607</td><td>0.2948985294081279</td><td>28.696453265282067</td><td>0.23797712975842156</td><td>28.87424577213734</td><td>0.4158081136723979</td></tr>\n",
       "<tr><td>macs0647</td><td>3989</td><td>101.98853063301335</td><td>70.22863651051648</td><td>28.256260297514615</td><td>0.38487764061898905</td><td>28.496192321073693</td><td>0.331443564798131</td><td>28.60110640312707</td><td>0.2153905412446689</td><td>29.14805077088054</td><td>0.3415523529440488</td><td>28.869375928433012</td><td>0.4091119798419984</td></tr>\n",
       "<tr><td>macs0647</td><td>3990</td><td>101.98681701180209</td><td>70.22869733417903</td><td>29.022834773568196</td><td>0.4712618835910453</td><td>29.28130811443682</td><td>0.49693571138758985</td><td>28.484080202141715</td><td>0.19725689007132632</td><td>28.743179774687565</td><td>0.2434415790078406</td><td>28.700439725783426</td><td>0.35665487591550066</td></tr>\n",
       "<tr><td>...</td><td>...</td><td>...</td><td>...</td><td>...</td><td>...</td><td>...</td><td>...</td><td>...</td><td>...</td><td>...</td><td>...</td><td>...</td><td>...</td></tr>\n",
       "<tr><td>rxj2129</td><td>3263</td><td>322.42192363370316</td><td>0.1141112516711486</td><td>28.825342016951915</td><td>0.47743602827727105</td><td>28.51310942431346</td><td>0.5675082687471364</td><td>28.287646044541805</td><td>0.15408792530038104</td><td>27.870367621734143</td><td>0.06031099197115384</td><td>28.286948082871632</td><td>0.19158645970675084</td></tr>\n",
       "<tr><td>rxj2129</td><td>3265</td><td>322.41950208680987</td><td>0.11416652770273775</td><td>28.70775127139418</td><td>0.4651618174202687</td><td>30.091712086676754</td><td>4.857897559388547</td><td>28.187351700195787</td><td>0.22236142428109448</td><td>28.41014257477219</td><td>0.15097762912226978</td><td>28.374595486953126</td><td>0.32089774771748847</td></tr>\n",
       "<tr><td>rxj2129</td><td>3267</td><td>322.4210837103278</td><td>0.1141369579878353</td><td>27.22228226385694</td><td>0.26215847368944506</td><td>26.766819706549395</td><td>0.12560757536671918</td><td>25.8044893799905</td><td>0.021308046387172586</td><td>25.791937600446555</td><td>0.012613964150458207</td><td>25.827855778983402</td><td>0.02688544446814441</td></tr>\n",
       "<tr><td>rxj2129</td><td>3270</td><td>322.4199959799702</td><td>0.11443195911080078</td><td>27.922284503949847</td><td>0.36480280161907985</td><td>29.594033029626452</td><td>1.3488433188288522</td><td>28.698657317433188</td><td>0.2896043046358769</td><td>28.782945701358447</td><td>0.18058354717727546</td><td>28.491763187493</td><td>0.2906294709136558</td></tr>\n",
       "<tr><td>rxj2129</td><td>3278</td><td>322.4217290883989</td><td>0.1146925782268094</td><td>28.46660889994428</td><td>0.4528826717397181</td><td>29.09056090257582</td><td>0.84385012929067</td><td>28.709640275351894</td><td>0.2858094463796667</td><td>28.73575209072257</td><td>0.16737559765978677</td><td>29.070427056087563</td><td>0.46105208036020867</td></tr>\n",
       "<tr><td>rxj2129</td><td>3279</td><td>322.42061617986155</td><td>0.11482112219472838</td><td>28.73952925459363</td><td>0.5079950229748956</td><td>29.518095092851226</td><td>0.9983932049365987</td><td>28.624151454960856</td><td>0.344149931347972</td><td>29.033600254615905</td><td>0.2820547723081626</td><td>28.305742460828334</td><td>0.3180953883885978</td></tr>\n",
       "<tr><td>rxj2129</td><td>3280</td><td>322.4216931762511</td><td>0.11483808444703625</td><td>28.2923549536625</td><td>0.43532364857965267</td><td>28.452781476684457</td><td>0.5507135756874092</td><td>28.697822456543477</td><td>0.28840076322323566</td><td>28.433099438194837</td><td>0.1272604958097815</td><td>28.20182037051718</td><td>0.22875059477053558</td></tr>\n",
       "<tr><td>rxj2129</td><td>3282</td><td>322.4210015155061</td><td>0.11483155748906314</td><td>28.40987667931703</td><td>0.4500032845226428</td><td>28.750521187533334</td><td>0.68752714224582</td><td>28.036068290050306</td><td>0.15837683488485962</td><td>28.135502443424908</td><td>0.09915557810536794</td><td>28.83295186904255</td><td>0.38265576916711475</td></tr>\n",
       "<tr><td>rxj2129</td><td>3286</td><td>322.4211095016605</td><td>0.1149419347290534</td><td>27.41162028282367</td><td>0.3634643740328195</td><td>26.833816726678656</td><td>0.1393979087227696</td><td>26.469608542152464</td><td>0.03835240664387548</td><td>26.524759923789706</td><td>0.023576748448577153</td><td>26.59753017086055</td><td>0.053571746456158066</td></tr>\n",
       "<tr><td>rxj2129</td><td>3287</td><td>322.42094748435625</td><td>0.1149998992314218</td><td>27.631416167339346</td><td>0.5512833992123121</td><td>27.581186276623825</td><td>0.2669075669082532</td><td>27.358503842237333</td><td>0.08624072706605485</td><td>27.537239406760023</td><td>0.06730479015423559</td><td>27.934843175556825</td><td>0.1898113662766772</td></tr>\n",
       "<tr><td>rxj2129</td><td>3289</td><td>322.42081792954895</td><td>0.11526230759020338</td><td>28.38184175729783</td><td>0.4436050487543606</td><td>27.1299056288588</td><td>2.1085531654521747</td><td>26.93268346037371</td><td>0.060161059895760774</td><td>27.334496753355168</td><td>0.055612698043784235</td><td>27.83836506167502</td><td>0.17461107517936736</td></tr>\n",
       "</table></div>"
      ],
      "text/plain": [
       "<Table length=5215>\n",
       " field     id          ra                 dec         ... lupterr_f356w-clear   lupt_f444w-clear  lupterr_f444w-clear \n",
       "bytes13  int32      float64             float64       ...       float64             float64             float64       \n",
       "-------- ----- ------------------ ------------------- ... -------------------- ------------------ --------------------\n",
       "macs0647  3976 101.99435324482509   70.22764130455266 ... 0.057968604927670336  26.96201714167506  0.09517025119652596\n",
       "macs0647  3978  101.9898333307484     70.227928956308 ...  0.17368960490570712 28.692321646441016  0.36319803633173664\n",
       "macs0647  3979 101.98921818456209   70.22794548695317 ...   0.9089692675161898 29.050896895432768   0.5297540114132252\n",
       "macs0647  3983 101.99716204697782   70.22779213635883 ... 0.008079993649095427  24.64854819798589 0.010683250174254278\n",
       "macs0647  3984 101.99694580048542   70.22806024826556 ...  0.10160811674372949 27.829345659775033    0.193430172748305\n",
       "macs0647  3985 101.98882790133804   70.22818239896256 ...  0.09170029613199109 27.569587153837556   0.1451244721712734\n",
       "macs0647  3986 101.99815976931545      70.22837322847 ...  0.18710910266968664  28.21963486486782    0.250486930840804\n",
       "macs0647  3987 101.98867665470219   70.22838770587835 ...  0.24223742815138571  28.37130165279834   0.2770087380176852\n",
       "macs0647  3988 101.99791877956773   70.22840335205194 ...  0.23797712975842156  28.87424577213734   0.4158081136723979\n",
       "macs0647  3989 101.98853063301335   70.22863651051648 ...   0.3415523529440488 28.869375928433012   0.4091119798419984\n",
       "macs0647  3990 101.98681701180209   70.22869733417903 ...   0.2434415790078406 28.700439725783426  0.35665487591550066\n",
       "     ...   ...                ...                 ... ...                  ...                ...                  ...\n",
       " rxj2129  3263 322.42192363370316  0.1141112516711486 ...  0.06031099197115384 28.286948082871632  0.19158645970675084\n",
       " rxj2129  3265 322.41950208680987 0.11416652770273775 ...  0.15097762912226978 28.374595486953126  0.32089774771748847\n",
       " rxj2129  3267  322.4210837103278  0.1141369579878353 ... 0.012613964150458207 25.827855778983402  0.02688544446814441\n",
       " rxj2129  3270  322.4199959799702 0.11443195911080078 ...  0.18058354717727546    28.491763187493   0.2906294709136558\n",
       " rxj2129  3278  322.4217290883989  0.1146925782268094 ...  0.16737559765978677 29.070427056087563  0.46105208036020867\n",
       " rxj2129  3279 322.42061617986155 0.11482112219472838 ...   0.2820547723081626 28.305742460828334   0.3180953883885978\n",
       " rxj2129  3280  322.4216931762511 0.11483808444703625 ...   0.1272604958097815  28.20182037051718  0.22875059477053558\n",
       " rxj2129  3282  322.4210015155061 0.11483155748906314 ...  0.09915557810536794  28.83295186904255  0.38265576916711475\n",
       " rxj2129  3286  322.4211095016605  0.1149419347290534 ... 0.023576748448577153  26.59753017086055 0.053571746456158066\n",
       " rxj2129  3287 322.42094748435625  0.1149998992314218 ...  0.06730479015423559 27.934843175556825   0.1898113662766772\n",
       " rxj2129  3289 322.42081792954895 0.11526230759020338 ... 0.055612698043784235  27.83836506167502  0.17461107517936736"
      ]
     },
     "execution_count": 3,
     "metadata": {},
     "output_type": "execute_result"
    }
   ],
   "source": [
    "t"
   ]
  },
  {
   "cell_type": "code",
   "execution_count": 68,
   "id": "fc3e805b",
   "metadata": {},
   "outputs": [],
   "source": []
  },
  {
   "cell_type": "code",
   "execution_count": 5,
   "id": "c5860ba3",
   "metadata": {},
   "outputs": [
    {
     "name": "stderr",
     "output_type": "stream",
     "text": [
      "\n",
      "KeyboardInterrupt\n",
      "\n"
     ]
    }
   ],
   "source": [
    "plt.hist(t['lupt_f625w'])\n",
    "plt.show()"
   ]
  },
  {
   "cell_type": "code",
   "execution_count": 73,
   "id": "8a3f14b6",
   "metadata": {},
   "outputs": [
    {
     "name": "stderr",
     "output_type": "stream",
     "text": [
      "/tmp/ipykernel_22049/3731909428.py:51: RuntimeWarning: invalid value encountered in log10\n",
      "  gds_mag.append(23.9-2.5*np.log10(gds_flux[j]))\n",
      "/tmp/ipykernel_22049/3731909428.py:72: RuntimeWarning: invalid value encountered in log10\n",
      "  udss_mag.append(23.9-2.5*np.log10(udsn_flux[j]))\n",
      "/tmp/ipykernel_22049/3731909428.py:67: RuntimeWarning: invalid value encountered in log10\n",
      "  udss_mag.append(23.9-2.5*np.log10(udss_flux[j]))\n"
     ]
    }
   ],
   "source": [
    "gds_index=[]\n",
    "gdn_index=[]\n",
    "ceers_index=[]\n",
    "udsn_index=[]\n",
    "udss_index=[]\n",
    "prcoswest_index=[]\n",
    "prcoseast_index=[]\n",
    "ngdeep_index=[]\n",
    "\n",
    "for i in range(len(cat)):\n",
    "    if cat['field_1'][i]=='gds':\n",
    "        gds_index.append(i)\n",
    "    if cat['field_1'][i]=='gdn':\n",
    "        gdn_index.append(i)\n",
    "    if cat['field_1'][i]=='ceers':\n",
    "        ceers_index.append(i)\n",
    "    if cat['field_1'][i]=='uds_north':\n",
    "        udsn_index.append(i)\n",
    "    if cat['field_1'][i]=='uds_south':\n",
    "        udss_index.append(i)\n",
    "    if cat['field_1'][i]=='primer_cosmos_west':\n",
    "        prcoswest_index.append(i)\n",
    "    if cat['field_1'][i]=='primer_cosmos_east':\n",
    "        prcoseast_index.append(i)\n",
    "    if cat['field_1'][i]=='ngdeep':\n",
    "        ngdeep_index.append(i)\n",
    "    \n",
    "        \n",
    "for name in names:\n",
    "    gds_flux=[]\n",
    "    gdn_flux=[]\n",
    "    ceers_flux=[]\n",
    "    udss_flux=[]\n",
    "    udsn_flux=[]\n",
    "    prcoswest_flux=[]\n",
    "    prcoseast_flux=[]\n",
    "    ngdeep_flux=[]\n",
    "    \n",
    "    gds_mag=[]\n",
    "    #gdn_flux=[]\n",
    "    ceers_mag=[]\n",
    "    udss_mag=[]\n",
    "    #udsn_flux=[]\n",
    "    prcoswest_mag=[]\n",
    "    #prcoseast_flux=[]\n",
    "    ngdeep_mag=[]\n",
    "\n",
    "    for j in gds_index:\n",
    "        gds_flux.append((cat[f'{name}'][j]*cat['flux_auto'][j])/cat['flux_aper_1'][j])\n",
    "    for j in range(len(gds_flux)):\n",
    "        gds_mag.append(23.9-2.5*np.log10(gds_flux[j]))\n",
    "    #print(np.max(gds_flux))\n",
    "        \n",
    "    for j in gdn_index:\n",
    "        gdn_flux.append((cat[f'{name}'][j]*cat['flux_auto'][j])/cat['flux_aper_1'][j])\n",
    "    for j in range(len(gdn_flux)):\n",
    "        gds_mag.append(23.9-2.5*np.log10(gdn_flux[j]))\n",
    "        \n",
    "    for j in ceers_index:\n",
    "        ceers_flux.append((cat[f'{name}'][j]*cat['flux_auto'][j])/cat['flux_aper_1'][j])\n",
    "    for j in range(len(ceers_flux)):\n",
    "        ceers_mag.append(23.9-2.5*np.log10(ceers_flux[j]))\n",
    "        \n",
    "    for j in udss_index:\n",
    "        udss_flux.append((cat[f'{name}'][j]*cat['flux_auto'][j])/cat['flux_aper_1'][j])\n",
    "    for j in range(len(udss_flux)):\n",
    "        udss_mag.append(23.9-2.5*np.log10(udss_flux[j]))\n",
    "        \n",
    "    for j in udsn_index:\n",
    "        udsn_flux.append((cat[f'{name}'][j]*cat['flux_auto'][j])/cat['flux_aper_1'][j])\n",
    "    for j in range(len(udsn_flux)):\n",
    "        udss_mag.append(23.9-2.5*np.log10(udsn_flux[j]))\n",
    "        \n",
    "    for j in prcoswest_index:\n",
    "        prcoswest_flux.append((cat[f'{name}'][j]*cat['flux_auto'][j])/cat['flux_aper_1'][j])\n",
    "    for j in range(len(prcoswest_flux)):\n",
    "        prcoswest_mag.append(23.9-2.5*np.log10(prcoswest_flux[j]))\n",
    "        \n",
    "    for j in prcoseast_index:\n",
    "        prcoseast_flux.append((cat[f'{name}'][j]*cat['flux_auto'][j])/cat['flux_aper_1'][j])\n",
    "    for j in range(len(prcoseast_flux)):\n",
    "        prcoswest_mag.append(23.9-2.5*np.log10(prcoseast_flux[j]))\n",
    "        \n",
    "        \n",
    "    for j in ngdeep_index:\n",
    "        ngdeep_flux.append((cat[f'{name}'][j]*cat['flux_auto'][j])/cat['flux_aper_1'][j])\n",
    "    for j in range(len(ngdeep_flux)):\n",
    "        ngdeep_mag.append(23.9-2.5*np.log10(ngdeep_flux[j]))\n",
    "        \n",
    "        \n",
    "    gds_arr=np.array((gds_mag))\n",
    "   # print(np.max(gds_arr[~np.isnan(gds_arr)]))\n",
    "    #gdn_arr=np.array((gdn_flux))\n",
    "    ceers_arr=np.array((ceers_mag))\n",
    "    udss_arr=np.array((udss_mag))\n",
    "    #udsn_arr=np.array((udsn_flux))\n",
    "    prcoswest_arr=np.array((prcoswest_mag))\n",
    "    #prcoseast_arr=np.array((prcoseast_flux))\n",
    "    ngdeep_arr=np.array((ngdeep_mag))\n",
    "\n",
    "   # A[~np.isnan(A)]\n",
    "    plt.hist(gds_arr[~np.isnan(gds_arr)],bins=100,histtype='step',label='GDS')\n",
    "    #plt.hist(gdn_arr[~np.isnan(gdn_arr)],bins=100,histtype='step',label='GDN')\n",
    "    plt.hist(ceers_arr[~np.isnan(ceers_arr)],bins=100,histtype='step',label='CEERS')\n",
    "    plt.hist(udss_arr[~np.isnan(udss_arr)],bins=100,histtype='step',label='UDS ')\n",
    "    #plt.hist(udsn_arr[~np.isnan(udsn_arr)],bins=100,histtype='step',label='UDS North')\n",
    "    plt.hist(prcoswest_arr[~np.isnan(prcoswest_arr)],bins=100,histtype='step',label='PRIMER COSMOS')\n",
    "    #plt.hist(prcoseast_arr[~np.isnan(prcoseast_arr)],bins=100,histtype='step',label='PRIMER COSMOS EAST')\n",
    "    plt.hist(ngdeep_arr[~np.isnan(ngdeep_arr)],bins=100,histtype='step',label='NGDeep')\n",
    "    plt.xlabel('AB Magnitudes')\n",
    "    plt.ylabel('Source Counts')\n",
    "    plt.title(f'AB Magnitude Distribution for {name}')\n",
    "    plt.legend()\n",
    "    plt.savefig(f'field_combined_abmag_hist_{name}.png')\n",
    "    plt.close()"
   ]
  },
  {
   "cell_type": "code",
   "execution_count": null,
   "id": "12f1ea0c",
   "metadata": {},
   "outputs": [],
   "source": []
  },
  {
   "cell_type": "code",
   "execution_count": 46,
   "id": "89e3177d",
   "metadata": {},
   "outputs": [],
   "source": []
  },
  {
   "cell_type": "code",
   "execution_count": null,
   "id": "ffbbd373",
   "metadata": {},
   "outputs": [],
   "source": []
  },
  {
   "cell_type": "code",
   "execution_count": null,
   "id": "c150be2f",
   "metadata": {},
   "outputs": [],
   "source": []
  },
  {
   "cell_type": "code",
   "execution_count": null,
   "id": "9acd244f",
   "metadata": {},
   "outputs": [],
   "source": []
  },
  {
   "cell_type": "code",
   "execution_count": null,
   "id": "ff19566c",
   "metadata": {},
   "outputs": [],
   "source": []
  }
 ],
 "metadata": {
  "kernelspec": {
   "display_name": "py3",
   "language": "python",
   "name": "py3"
  },
  "language_info": {
   "codemirror_mode": {
    "name": "ipython",
    "version": 3
   },
   "file_extension": ".py",
   "mimetype": "text/x-python",
   "name": "python",
   "nbconvert_exporter": "python",
   "pygments_lexer": "ipython3",
   "version": "3.11.5"
  }
 },
 "nbformat": 4,
 "nbformat_minor": 5
}
