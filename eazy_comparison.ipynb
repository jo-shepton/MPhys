{
 "cells": [
  {
   "cell_type": "code",
   "execution_count": 1,
   "id": "9af17d0d",
   "metadata": {},
   "outputs": [],
   "source": [
    "import numpy as np\n",
    "import astropy\n",
    "from astropy.io import fits\n",
    "import matplotlib.pyplot as plt\n",
    "from astropy.table import Table,vstack, Column\n",
    "import wget\n",
    "import astropy.units as u\n",
    "from numpy.ma import masked\n",
    "from astropy.coordinates import SkyCoord\n",
    "from astropy.coordinates import match_coordinates_sky"
   ]
  },
  {
   "cell_type": "code",
   "execution_count": null,
   "id": "03f5a56e",
   "metadata": {},
   "outputs": [],
   "source": [
    "url=f'https://s3.amazonaws.com/grizli-v2/JwstMosaics/v7/abell2744clu-grizli-v7.0_phot.fits'\n",
    "filename=wget.download(url)"
   ]
  },
  {
   "cell_type": "markdown",
   "id": "4fd030c7",
   "metadata": {},
   "source": [
    "# DAWN Comparison Only\n"
   ]
  },
  {
   "cell_type": "code",
   "execution_count": null,
   "id": "be31522d",
   "metadata": {},
   "outputs": [],
   "source": [
    "#photometric catalogues\n",
    "hdul= fits.open('gdn-grizli-v7.0_phot.fits', memmap=True,formats='fits')\n",
    "abellclu= fits.open('abell2744clu-grizli-v7.0_phot.fits', memmap=True,formats='fits')\n",
    "gdn = Table.read(hdul)\n",
    "abell = Table.read(abellclu)\n"
   ]
  },
  {
   "cell_type": "code",
   "execution_count": 2,
   "id": "b35966a2",
   "metadata": {},
   "outputs": [],
   "source": [
    "#eazy catalogues\n",
    "gdn_e= fits.open('MPhys/eazy_comp/gdn-grizli-v7.3-fix.eazypy.zout.fits', memmap=True,formats='fits')\n",
    "abell_e= fits.open('MPhys/eazy_comp/abell2744clu-grizli-v7.2-fix.eazypy.zout.fits', memmap=True,formats='fits')\n",
    "gdn_eazy = Table.read(gdn_e)\n",
    "abell_eazy = Table.read(abell_e)\n"
   ]
  },
  {
   "cell_type": "code",
   "execution_count": null,
   "id": "d81eff7a",
   "metadata": {},
   "outputs": [],
   "source": [
    "big_cat = Table.read('MPhys/final_skymatched_abmag_catalogue.fits',format='fits')"
   ]
  },
  {
   "cell_type": "code",
   "execution_count": null,
   "id": "c423890c",
   "metadata": {},
   "outputs": [],
   "source": [
    "gdn_checker=np.zeros(len(big_cat))\n",
    "for i in range(len(big_cat)):\n",
    "    if big_cat['field'][i] =='gdn':\n",
    "        gdn_checker[i]=1\n",
    "gdn_specz = big_cat[np.array(gdn_checker,dtype=bool)]\n",
    "gdn_specz['z_phot'] = np.zeros(len(gdn_specz))       "
   ]
  },
  {
   "cell_type": "code",
   "execution_count": null,
   "id": "18a8f696",
   "metadata": {},
   "outputs": [],
   "source": [
    "abell_checker=np.zeros(len(big_cat))\n",
    "for i in range(len(big_cat)):\n",
    "    if big_cat['field'][i] =='abells2744clu':\n",
    "        abell_checker[i]=1\n",
    "abell_specz = big_cat[np.array(abell_checker,dtype=bool)]\n",
    "abell_specz['z_phot'] = np.zeros(len(abell_specz))       "
   ]
  },
  {
   "cell_type": "code",
   "execution_count": null,
   "id": "a9d6c89d",
   "metadata": {},
   "outputs": [],
   "source": [
    "gdn_eazy['z_phot'][gdn_eazy['z_phot'] <= 0] = np.nan\n",
    "cat=np.ones(len(gdn_eazy))\n",
    "for i in range(len(gdn_eazy)):\n",
    "    if np.isnan(gdn_eazy['z_phot'][i]):\n",
    "        cat[i]=0\n",
    "cat_good = np.array(cat,dtype=bool)\n",
    "gdn_eazy=gdn_eazy[cat_good]"
   ]
  },
  {
   "cell_type": "code",
   "execution_count": null,
   "id": "c3976df5",
   "metadata": {},
   "outputs": [],
   "source": [
    "gdn_eazy"
   ]
  },
  {
   "cell_type": "markdown",
   "id": "8e2fa390",
   "metadata": {},
   "source": [
    "### Skymatching"
   ]
  },
  {
   "cell_type": "code",
   "execution_count": null,
   "id": "a0246a30",
   "metadata": {},
   "outputs": [],
   "source": [
    "#matching jwst and candels\n",
    "ra1=gdn['ra']\n",
    "\n",
    "dec1=gdn['dec']\n",
    "ra2=gdn_eazy['ra']\n",
    "dec2=gdn_eazy['dec']\n"
   ]
  },
  {
   "cell_type": "code",
   "execution_count": null,
   "id": "f99387d7",
   "metadata": {},
   "outputs": [],
   "source": [
    "gdn_cat = SkyCoord(ra=ra1, dec=dec1)#dawn\n",
    "eazy_cat = SkyCoord(ra=ra2, dec=dec2)#candels\n"
   ]
  },
  {
   "cell_type": "code",
   "execution_count": null,
   "id": "29a804fe",
   "metadata": {},
   "outputs": [],
   "source": [
    "max_sep = 0.1 * u.arcsec\n",
    "idx, d2d, d3d = gdn_cat.match_to_catalog_sky(eazy_cat)#catalog = candels information\n",
    "idx_gdn, d2d_gdn, d3d_gdn = eazy_cat.match_to_catalog_sky(gdn_cat)\n"
   ]
  },
  {
   "cell_type": "code",
   "execution_count": null,
   "id": "017002bc",
   "metadata": {},
   "outputs": [],
   "source": [
    "c_index=[]\n",
    "j_index=[]\n",
    "for i in range(len(eazy_cat)):\n",
    "    if abs(ra2[i]-ra1[idx_gdn[i]])<0.1:\n",
    "        c_index.append(i)\n",
    "        j_index.append(idx_gdn[i])\n",
    "        gdn['z_phot'][idx_gdn[i]]=gdn_eazy['z_phot'][i]\n"
   ]
  },
  {
   "cell_type": "markdown",
   "id": "50575397",
   "metadata": {},
   "source": [
    "# DAWN+EXCELS Comparison"
   ]
  }
 ],
 "metadata": {
  "kernelspec": {
   "display_name": "Python (py3)",
   "language": "python",
   "name": "py3"
  },
  "language_info": {
   "codemirror_mode": {
    "name": "ipython",
    "version": 3
   },
   "file_extension": ".py",
   "mimetype": "text/x-python",
   "name": "python",
   "nbconvert_exporter": "python",
   "pygments_lexer": "ipython3",
   "version": "3.11.5"
  }
 },
 "nbformat": 4,
 "nbformat_minor": 5
}
