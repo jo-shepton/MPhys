{
 "cells": [
  {
   "cell_type": "code",
   "execution_count": 1,
   "id": "346fd997",
   "metadata": {},
   "outputs": [],
   "source": [
    "from astropy.io import fits\n",
    "import numpy as np"
   ]
  },
  {
   "cell_type": "code",
   "execution_count": 4,
   "id": "102587bb",
   "metadata": {},
   "outputs": [],
   "source": [
    "fields = ['COSMOS','EGS','GOODSN','GOODSS','UDS']\n",
    "for i in fields:\n",
    "    hdul = fits.open('MPhys/CANDELS/CANDELS.'+str(i)+'.F160W.Processed.photz.fits') \n",
    "    data = hdul[1].data\n",
    "    ID = np.array((data['ID']))\n",
    "    ra = np.array((data['ra']))\n",
    "    dec = np.array((data['dec']))\n",
    "    z_spec = np.array((data['z_spec']))\n",
    "    z1_median = np.array((data['z1_median']))\n",
    "    z1_max= np.array((data['z1_max']))\n",
    "    z1_min = np.array((data['z1_min']))\n",
    "    z1_area= np.array((data['z1_area']))\n",
    "    col1 = fits.Column(name='ID', format='10A', array=ID)\n",
    "    col2 = fits.Column(name='ra', format='10A', array=ra)\n",
    "    col3 = fits.Column(name='dec', format='10A', array=dec)\n",
    "    col4 = fits.Column(name='z_spec', format='10A', array=z_spec)\n",
    "    col5 = fits.Column(name='z1_median', format='10A', array=z1_median)\n",
    "    col6 = fits.Column(name='z1_max', format='10A', array=z1_max)\n",
    "    col7 = fits.Column(name='z1_min', format='10A', array=z1_min)\n",
    "    col8 = fits.Column(name='z1_area', format='10A', array=z1_area)\n",
    "    hdu = fits.BinTableHDU.from_columns([col1, col2,col3, col4,col5, col6,col7, col8])\n",
    "    hdu.writeto('newtable'+str(i)+'.fits', overwrite =True)\n"
   ]
  },
  {
   "cell_type": "code",
   "execution_count": 5,
   "id": "9c62e62f",
   "metadata": {},
   "outputs": [],
   "source": [
    "ID = np.array((data['ID']))\n",
    "ra = np.array((data['ra']))\n",
    "dec = np.array((data['dec']))\n",
    "z_spec = np.array((data['z_spec']))\n",
    "z1_median = np.array((data['z1_median']))\n",
    "z1_max= np.array((data['z1_max']))\n",
    "z1_min = np.array((data['z1_min']))\n",
    "z1_area= np.array((data['z1_area']))"
   ]
  },
  {
   "cell_type": "code",
   "execution_count": null,
   "id": "5689e067",
   "metadata": {},
   "outputs": [],
   "source": []
  },
  {
   "cell_type": "code",
   "execution_count": null,
   "id": "c8a2e317",
   "metadata": {},
   "outputs": [],
   "source": []
  },
  {
   "cell_type": "code",
   "execution_count": 6,
   "id": "296ec1eb",
   "metadata": {},
   "outputs": [
    {
     "name": "stdout",
     "output_type": "stream",
     "text": [
      "38671\n"
     ]
    },
    {
     "ename": "ValueError",
     "evalue": "could not broadcast input array from shape (38671,) into shape (41457,)",
     "output_type": "error",
     "traceback": [
      "\u001b[0;31m---------------------------------------------------------------------------\u001b[0m",
      "\u001b[0;31mValueError\u001b[0m                                Traceback (most recent call last)",
      "Cell \u001b[0;32mIn[6], line 24\u001b[0m\n\u001b[1;32m     20\u001b[0m \u001b[38;5;66;03m#for i in names:\u001b[39;00m\n\u001b[1;32m     21\u001b[0m  \u001b[38;5;66;03m#   print(i)\u001b[39;00m\n\u001b[1;32m     23\u001b[0m \u001b[38;5;28;01mfor\u001b[39;00m colname \u001b[38;5;129;01min\u001b[39;00m t1[\u001b[38;5;241m1\u001b[39m]\u001b[38;5;241m.\u001b[39mcolumns\u001b[38;5;241m.\u001b[39mnames:\n\u001b[0;32m---> 24\u001b[0m     hdu\u001b[38;5;241m.\u001b[39mdata[colname][nrows1:] \u001b[38;5;241m=\u001b[39mt1[\u001b[38;5;241m1\u001b[39m]\u001b[38;5;241m.\u001b[39mdata[colname]\n\u001b[1;32m     27\u001b[0m hdu\u001b[38;5;241m.\u001b[39mwriteto(\u001b[38;5;124m'\u001b[39m\u001b[38;5;124mmergetable.fits\u001b[39m\u001b[38;5;124m'\u001b[39m,overwrite \u001b[38;5;241m=\u001b[39m \u001b[38;5;124m'\u001b[39m\u001b[38;5;124mTrue\u001b[39m\u001b[38;5;124m'\u001b[39m)\n",
      "\u001b[0;31mValueError\u001b[0m: could not broadcast input array from shape (38671,) into shape (41457,)"
     ]
    }
   ],
   "source": [
    "t1 = fits.open('newtableCOSMOS.fits')\n",
    "t2 = fits.open('newtableEGS.fits')\n",
    "t3 = fits.open('newtableGOODSN.fits')\n",
    "t4 = fits.open('newtableGOODSS.fits')\n",
    "t5 = fits.open('newtableUDS.fits')\n",
    "nrows1 = t1[1].data.shape[0]\n",
    "nrows2 = t2[1].data.shape[0]\n",
    "nrows3 = t3[1].data.shape[0]\n",
    "nrows4 = t4[1].data.shape[0]\n",
    "nrows5 = t5[1].data.shape[0]\n",
    "\n",
    "nrows = nrows1 + nrows2 \n",
    "print(nrows1)\n",
    "hdu = fits.BinTableHDU.from_columns(t1[1].columns, nrows=nrows)\n",
    "i=1\n",
    "names=[]\n",
    "while i<=5:\n",
    "    names.append('t'+str(i))\n",
    "    i +=1\n",
    "#for i in names:\n",
    " #   print(i)\n",
    "    \n",
    "for colname in t1[1].columns.names:\n",
    "    hdu.data[colname][nrows1:] =t1[1].data[colname]\n",
    "        \n",
    "\n",
    "hdu.writeto('mergetable.fits',overwrite = 'True')\n"
   ]
  },
  {
   "cell_type": "code",
   "execution_count": 7,
   "id": "d35b23f1",
   "metadata": {},
   "outputs": [
    {
     "name": "stdout",
     "output_type": "stream",
     "text": [
      "80128\n"
     ]
    }
   ],
   "source": [
    "names1=[]\n",
    "with fits.open('newtableCOSMOS.fits') as hdul1:\n",
    "    with fits.open('newtableEGS.fits') as hdul2:\n",
    "    \n",
    "        nrows1 = hdul1[1].data.shape[0]\n",
    "        nrows2 = hdul2[1].data.shape[0]\n",
    "       \n",
    "        #nrows5 = hdul5[1].data.shape[0]\n",
    "        nrows = nrows1 + nrows2\n",
    "        print(nrows)\n",
    "        hdu = fits.BinTableHDU.from_columns(hdul1[1].columns, nrows=nrows)\n",
    "        for colname in hdul1[1].columns.names:\n",
    "            hdu.data[colname][nrows1:] = hdul2[1].data[colname]\n",
    "\n",
    "        hdu.writeto('merged_cat_fields_1.fits',overwrite = 'True')\n",
    "\n",
    "\n"
   ]
  },
  {
   "cell_type": "code",
   "execution_count": 8,
   "id": "7b3f77ea",
   "metadata": {},
   "outputs": [
    {
     "name": "stdout",
     "output_type": "stream",
     "text": [
      "70375\n"
     ]
    }
   ],
   "source": [
    "with fits.open('newtableGOODSN.fits') as hdul3:\n",
    "    with fits.open('newtableGOODSS.fits') as hdul4:\n",
    "        nrows3 = hdul3[1].data.shape[0]\n",
    "        nrows4 = hdul4[1].data.shape[0]\n",
    "        nrows_2 = nrows3 + nrows4\n",
    "        print(nrows_2)\n",
    "        hdu_2 = fits.BinTableHDU.from_columns(hdul3[1].columns, nrows=nrows_2)\n",
    "        for colname_2 in hdul3[1].columns.names:\n",
    "            hdu_2.data[colname_2][nrows3:] = hdul4[1].data[colname_2]\n",
    "            #with fits.open('newtableUDS.fits') as hdul5\n",
    "hdu_2.writeto('merged_cat_fields_2.fits',overwrite = 'True')"
   ]
  },
  {
   "cell_type": "code",
   "execution_count": 9,
   "id": "793b7ae8",
   "metadata": {},
   "outputs": [],
   "source": [
    "with fits.open('merged_cat_fields_1.fits') as hdul_merge1:\n",
    "    with fits.open('merged_cat_fields_2.fits') as hdul_merge2:\n",
    "        nrows_merge1 = hdul_merge1[1].data.shape[0]\n",
    "        nrows_merge2 = hdul_merge2[1].data.shape[0]\n",
    "        nrows_3 = nrows_merge1 + nrows_merge2\n",
    "        hdu_3 = fits.BinTableHDU.from_columns(hdul_merge2[1].columns, nrows=nrows_3)\n",
    "        for colname_3 in hdul_merge1[1].columns.names:\n",
    "            hdu_3.data[colname_3][nrows_merge1:] = hdul_merge2[1].data[colname_3]\n",
    "            #with fits.open('newtableUDS.fits') as hdul5\n",
    "hdu_3.writeto('merged_cat_4fields.fits',overwrite = 'True')"
   ]
  },
  {
   "cell_type": "code",
   "execution_count": 10,
   "id": "9feff635",
   "metadata": {},
   "outputs": [],
   "source": [
    "with fits.open('merged_cat_4fields.fits') as hdul_merge:\n",
    "    with fits.open('newtableUDS.fits') as hdul_uds:\n",
    "        nrows_merge = hdul_merge[1].data.shape[0]\n",
    "        nrows_uds = hdul_uds[1].data.shape[0]\n",
    "        nrows_4 = nrows_merge + nrows_uds\n",
    "        hdu_4 = fits.BinTableHDU.from_columns(hdul_uds[1].columns, nrows=nrows_4)\n",
    "        for colname_4 in hdul_merge[1].columns.names:\n",
    "            hdu_4.data[colname_4][nrows_merge:] = hdul_uds[1].data[colname_4]\n",
    "hdu_4.writeto('CANDELS_merged.fits',overwrite = 'True')"
   ]
  },
  {
   "cell_type": "code",
   "execution_count": null,
   "id": "ce7e1385",
   "metadata": {},
   "outputs": [],
   "source": []
  }
 ],
 "metadata": {
  "kernelspec": {
   "display_name": "py3",
   "language": "python",
   "name": "py3"
  },
  "language_info": {
   "codemirror_mode": {
    "name": "ipython",
    "version": 3
   },
   "file_extension": ".py",
   "mimetype": "text/x-python",
   "name": "python",
   "nbconvert_exporter": "python",
   "pygments_lexer": "ipython3",
   "version": "3.11.5"
  }
 },
 "nbformat": 4,
 "nbformat_minor": 5
}
