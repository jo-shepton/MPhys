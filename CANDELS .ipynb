{
 "cells": [
  {
   "cell_type": "code",
   "execution_count": 1,
   "id": "346fd997",
   "metadata": {},
   "outputs": [],
   "source": [
    "import astropy \n",
    "from astropy.table import Table, vstack, Column\n",
    "import numpy as np\n"
   ]
  },
  {
   "cell_type": "code",
   "execution_count": 4,
   "id": "031e5d8e",
   "metadata": {},
   "outputs": [
    {
     "name": "stderr",
     "output_type": "stream",
     "text": [
      "WARNING: UnitsWarning: '0 galaxy, 1 star' did not parse as fits unit: At col 2, Unit 'galaxy' not supported by the FITS standard.  If this is meant to be a custom unit, define it with 'u.def_unit'. To have it recognized inside a file reader or other code, enable it with 'u.add_enabled_units'. For details, see https://docs.astropy.org/en/latest/units/combining_and_defining.html [astropy.units.core]\n",
      "WARNING: UnitsWarning: '0 use, gt 1 no-use' did not parse as fits unit: At col 2, Unit 'use' not supported by the FITS standard. Did you mean uS or us? If this is meant to be a custom unit, define it with 'u.def_unit'. To have it recognized inside a file reader or other code, enable it with 'u.add_enabled_units'. For details, see https://docs.astropy.org/en/latest/units/combining_and_defining.html [astropy.units.core]\n"
     ]
    }
   ],
   "source": [
    "cosmos = Table.read('MPhys/CANDELS/CANDELS.COSMOS.F160W.Processed.photz.fits')\n",
    "egs = Table.read('MPhys/CANDELS/CANDELS.EGS.F160W.Processed.photz.fits')\n",
    "goodss = Table.read('MPhys/CANDELS/CANDELS.GOODSS.F160W.Processed.photz.fits')\n",
    "goodsn = Table.read('MPhys/CANDELS/CANDELS.GOODSN.F160W.Processed.photz.fits')\n",
    "uds = Table.read('MPhys/CANDELS/CANDELS.UDS.F160W.Processed.photz.fits')"
   ]
  },
  {
   "cell_type": "code",
   "execution_count": 5,
   "id": "283aec62",
   "metadata": {},
   "outputs": [],
   "source": [
    "candels = vstack([cosmos, egs,goodss,goodsn,uds])"
   ]
  },
  {
   "cell_type": "code",
   "execution_count": 15,
   "id": "80a1964d",
   "metadata": {},
   "outputs": [],
   "source": [
    "catalogue = candels['ID','RA','DEC','z_spec','spec_qual']\n",
    "catalogue['z_spec'][catalogue['z_spec'] < 0] = np.nan\n",
    "check_nans = np.zeros(len(catalogue))\n",
    "check_nans += np.isnan(catalogue['z_spec'])\n",
    "good = (check_nans == 0) # 'Good' sources for training are those with 0 NaNs\n",
    "cat = catalogue[good * (np.isnan(catalogue['z_spec']) == False)]\n",
    "cat.write('MPhys/CANDELS/CANDELS_catalogue.fits',format='fits',overwrite=True)"
   ]
  },
  {
   "cell_type": "code",
   "execution_count": null,
   "id": "102587bb",
   "metadata": {},
   "outputs": [],
   "source": []
  },
  {
   "cell_type": "code",
   "execution_count": null,
   "id": "9c62e62f",
   "metadata": {},
   "outputs": [],
   "source": []
  },
  {
   "cell_type": "code",
   "execution_count": null,
   "id": "5689e067",
   "metadata": {},
   "outputs": [],
   "source": []
  },
  {
   "cell_type": "code",
   "execution_count": null,
   "id": "c8a2e317",
   "metadata": {},
   "outputs": [],
   "source": []
  },
  {
   "cell_type": "code",
   "execution_count": null,
   "id": "296ec1eb",
   "metadata": {},
   "outputs": [],
   "source": []
  },
  {
   "cell_type": "code",
   "execution_count": null,
   "id": "d35b23f1",
   "metadata": {},
   "outputs": [],
   "source": []
  },
  {
   "cell_type": "code",
   "execution_count": null,
   "id": "7b3f77ea",
   "metadata": {},
   "outputs": [],
   "source": []
  },
  {
   "cell_type": "code",
   "execution_count": null,
   "id": "793b7ae8",
   "metadata": {},
   "outputs": [],
   "source": []
  },
  {
   "cell_type": "code",
   "execution_count": null,
   "id": "9feff635",
   "metadata": {},
   "outputs": [],
   "source": []
  },
  {
   "cell_type": "code",
   "execution_count": null,
   "id": "ce7e1385",
   "metadata": {},
   "outputs": [],
   "source": []
  }
 ],
 "metadata": {
  "kernelspec": {
   "display_name": "py3",
   "language": "python",
   "name": "py3"
  },
  "language_info": {
   "codemirror_mode": {
    "name": "ipython",
    "version": 3
   },
   "file_extension": ".py",
   "mimetype": "text/x-python",
   "name": "python",
   "nbconvert_exporter": "python",
   "pygments_lexer": "ipython3",
   "version": "3.11.5"
  }
 },
 "nbformat": 4,
 "nbformat_minor": 5
}
