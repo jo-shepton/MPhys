{
 "cells": [
  {
   "cell_type": "code",
   "execution_count": 15,
   "id": "57c9d5f6",
   "metadata": {},
   "outputs": [],
   "source": [
    "import astropy\n",
    "from gpz_pype import utilities\n",
    "from astropy.table import Table\n",
    "from subprocess import call\n",
    "import subprocess\n",
    "from astropy.io import fits\n",
    "import numpy as np\n",
    "import astropy.units as u"
   ]
  },
  {
   "cell_type": "code",
   "execution_count": 2,
   "id": "a5564352",
   "metadata": {},
   "outputs": [],
   "source": [
    "lups = utilities.basic_lupt_soft"
   ]
  },
  {
   "cell_type": "code",
   "execution_count": 33,
   "id": "ffaec4e9",
   "metadata": {},
   "outputs": [
    {
     "name": "stdout",
     "output_type": "stream",
     "text": [
      "[       nan        nan        nan ... 0.00131205 0.00118953 0.004239  ]\n"
     ]
    }
   ],
   "source": [
    "hdul =fits.open('MPhys/full_jwst_CANDELS_zspec.fits')\n",
    "data=hdul[1].data\n",
    "\n",
    "cols = hdul[1].columns\n",
    "\n",
    "flux=np.array(data['f200w-clear_flux_aper_0'])\n",
    "flux_err=np.array(data['f200w-clear_fluxerr_aper_0'])\n",
    "#print(flux_err)"
   ]
  },
  {
   "cell_type": "code",
   "execution_count": 29,
   "id": "788f37fe",
   "metadata": {},
   "outputs": [
    {
     "ename": "AttributeError",
     "evalue": "'numpy.ndarray' object has no attribute 'unit'",
     "output_type": "error",
     "traceback": [
      "\u001b[0;31m---------------------------------------------------------------------------\u001b[0m",
      "\u001b[0;31mAttributeError\u001b[0m                            Traceback (most recent call last)",
      "Cell \u001b[0;32mIn[29], line 1\u001b[0m\n\u001b[0;32m----> 1\u001b[0m \u001b[38;5;28mprint\u001b[39m(lups(flux,flux_err,unit\u001b[38;5;241m=\u001b[39mu\u001b[38;5;241m.\u001b[39muJy, f0\u001b[38;5;241m=\u001b[39m\u001b[38;5;241m3631\u001b[39m \u001b[38;5;241m*\u001b[39m u\u001b[38;5;241m.\u001b[39mJy, scale\u001b[38;5;241m=\u001b[39m\u001b[38;5;241m1.05\u001b[39m))\n",
      "File \u001b[0;32m~/miniconda3/envs/py3/lib/python3.11/site-packages/gpz_pype-0.1.0-py3.11.egg/gpz_pype/utilities.py:209\u001b[0m, in \u001b[0;36mbasic_lupt_soft\u001b[0;34m(flux, flux_err, unit, f0, scale)\u001b[0m\n\u001b[1;32m    206\u001b[0m snr \u001b[38;5;241m=\u001b[39m flux \u001b[38;5;241m/\u001b[39m flux_err\n\u001b[1;32m    207\u001b[0m snr_cut \u001b[38;5;241m=\u001b[39m (snr \u001b[38;5;241m>\u001b[39m \u001b[38;5;241m4\u001b[39m) \u001b[38;5;241m*\u001b[39m (snr \u001b[38;5;241m<\u001b[39m \u001b[38;5;241m8\u001b[39m)\n\u001b[0;32m--> 209\u001b[0m \u001b[38;5;28;01mif\u001b[39;00m flux_err\u001b[38;5;241m.\u001b[39munit:\n\u001b[1;32m    210\u001b[0m     \u001b[38;5;28;01mtry\u001b[39;00m:\n\u001b[1;32m    211\u001b[0m         rms_err \u001b[38;5;241m=\u001b[39m (np\u001b[38;5;241m.\u001b[39mnanmedian(flux_err[snr_cut]))\u001b[38;5;241m.\u001b[39mto(unit)\n",
      "\u001b[0;31mAttributeError\u001b[0m: 'numpy.ndarray' object has no attribute 'unit'"
     ]
    }
   ],
   "source": [
    "print(lups(flux,flux_err,unit=u.uJy, f0=3631 * u.Jy, scale=1.05))"
   ]
  },
  {
   "cell_type": "code",
   "execution_count": null,
   "id": "65aef7a0",
   "metadata": {},
   "outputs": [],
   "source": []
  }
 ],
 "metadata": {
  "kernelspec": {
   "display_name": "py3",
   "language": "python",
   "name": "py3"
  },
  "language_info": {
   "codemirror_mode": {
    "name": "ipython",
    "version": 3
   },
   "file_extension": ".py",
   "mimetype": "text/x-python",
   "name": "python",
   "nbconvert_exporter": "python",
   "pygments_lexer": "ipython3",
   "version": "3.11.5"
  }
 },
 "nbformat": 4,
 "nbformat_minor": 5
}
