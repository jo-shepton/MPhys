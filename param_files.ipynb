{
 "cells": [
  {
   "cell_type": "code",
   "execution_count": null,
   "id": "0969234a",
   "metadata": {},
   "outputs": [],
   "source": [
    "pip install astropy"
   ]
  },
  {
   "cell_type": "code",
   "execution_count": null,
   "id": "4be712ee",
   "metadata": {},
   "outputs": [],
   "source": [
    "pip install tqdm"
   ]
  },
  {
   "cell_type": "code",
   "execution_count": null,
   "id": "3bfb1e11",
   "metadata": {},
   "outputs": [],
   "source": [
    "pip install matplotlib"
   ]
  },
  {
   "cell_type": "code",
   "execution_count": 1,
   "id": "0e951af5",
   "metadata": {},
   "outputs": [],
   "source": [
    "import astropy\n",
    "from gpz_pype import utilities\n",
    "from astropy.table import Table\n",
    "from subprocess import call\n",
    "import subprocess\n",
    "\n",
    "\n",
    "from os import listdir\n",
    "from os.path import isfile, join"
   ]
  },
  {
   "cell_type": "code",
   "execution_count": 2,
   "id": "943d2b88",
   "metadata": {},
   "outputs": [],
   "source": [
    "params = utilities.Params('gpzpp/example/gpz.param')\n"
   ]
  },
  {
   "cell_type": "code",
   "execution_count": 12,
   "id": "3402a7d4",
   "metadata": {},
   "outputs": [],
   "source": [
    "predfiles = [f for f in listdir('MPhys/catalogues/base_filter_permutations/PRED') if isfile(join('MPhys/catalogues/base_filter_permutations/PRED', f))]\n",
    "trainfiles = [f for f in listdir('MPhys/catalogues/base_filter_permutations/TRAIN') if isfile(join('MPhys/catalogues/base_filter_permutations/TRAIN', f))]"
   ]
  },
  {
   "cell_type": "code",
   "execution_count": 13,
   "id": "2a21a16d",
   "metadata": {},
   "outputs": [],
   "source": [
    "predfiles.sort()\n"
   ]
  },
  {
   "cell_type": "code",
   "execution_count": 14,
   "id": "30767304",
   "metadata": {},
   "outputs": [],
   "source": [
    "trainfiles.sort()\n"
   ]
  },
  {
   "cell_type": "code",
   "execution_count": 24,
   "id": "fe654541",
   "metadata": {},
   "outputs": [
    {
     "data": {
      "text/plain": [
       "'f410m'"
      ]
     },
     "execution_count": 24,
     "metadata": {},
     "output_type": "execute_result"
    }
   ],
   "source": [
    "\n",
    "for i in trainfiles:\n",
    "    x = [i.split('_')[5]for i in trainfiles]\n",
    "for j in x:\n",
    "    filt = [j.split('.')[0]for j in x]\n",
    "filt[8]"
   ]
  },
  {
   "cell_type": "code",
   "execution_count": 23,
   "id": "41c7b972",
   "metadata": {},
   "outputs": [
    {
     "data": {
      "text/plain": [
       "'TRAIN_filter_choice_f444w_to_f410m.cat'"
      ]
     },
     "execution_count": 23,
     "metadata": {},
     "output_type": "execute_result"
    }
   ],
   "source": [
    "\n",
    "trainfiles[8]"
   ]
  },
  {
   "cell_type": "code",
   "execution_count": 25,
   "id": "9f43fed3",
   "metadata": {},
   "outputs": [],
   "source": [
    "#for i in range(len(trainfiles)):\n",
    "  \n",
    "params['COVARIANCE'] = 'gpvd'\n",
    "params['NUM_BF'] = '100'\n",
    "params['VALID_SAMPLE_METHOD'] = 'random'\n",
    "params['OUTPUT_CATALOG'] = f'MPhys/gpz_files/gpz_jwst_f444w-{filt[8]}.cat'\n",
    "params['MODEL_FILE'] = f'MPhys/gpz_files/gpz_jwst_f444w-{filt[8]}.dat'\n",
    "params['TRAINING_CATALOG'] = f'MPhys/catalogues/base_filter_permutations/TRAIN/{trainfiles[8]}'\n",
    "params['PREDICTION_CATALOG'] = f'MPhys/catalogues/base_filter_permutations/PRED/{predfiles[8]}'\n",
    "filters=['f115w-clear','f200w-clear','f356w-clear',f'{filt[8]}-clear']\n",
    "params[\"BANDS\"] = f'^lupt_({\"|\".join(filters).lower()})$'\n",
    "params['FLUX_COLUMN_PREFIX']='lupt'\n",
    "params['ERROR_COLUMN_PREFIX']='lupterr'\n",
    "params['OUTPUT_COLUMN']='z_spec'\n",
    "params['TRAIN_VALID_RATIO']='0.75'\n",
    "params['REUSE_MODEL']='0'\n",
    "\n",
    "\n",
    "\n",
    "param_file = f'MPhys/gpz_files/gpz_jwst_f444w-{filt[8]}.param'\n",
    "params.write(param_file)\n",
    "sh = call(f'MPhys/gpz_files/gpz++ MPhys/gpz_files/gpz_jwst_f444w-{filt[8]}.param',shell=True)\n",
    "\n"
   ]
  },
  {
   "cell_type": "code",
   "execution_count": 9,
   "id": "df9287c4",
   "metadata": {},
   "outputs": [],
   "source": []
  },
  {
   "cell_type": "code",
   "execution_count": 60,
   "id": "cbfe399f",
   "metadata": {
    "scrolled": true
   },
   "outputs": [],
   "source": []
  },
  {
   "cell_type": "code",
   "execution_count": null,
   "id": "06e0d3f0",
   "metadata": {},
   "outputs": [],
   "source": [
    "\n"
   ]
  },
  {
   "cell_type": "code",
   "execution_count": null,
   "id": "e5befdee",
   "metadata": {},
   "outputs": [],
   "source": []
  },
  {
   "cell_type": "code",
   "execution_count": null,
   "id": "437976e0",
   "metadata": {},
   "outputs": [],
   "source": []
  }
 ],
 "metadata": {
  "kernelspec": {
   "display_name": "Python 3",
   "language": "python",
   "name": "python3"
  },
  "language_info": {
   "codemirror_mode": {
    "name": "ipython",
    "version": 3
   },
   "file_extension": ".py",
   "mimetype": "text/x-python",
   "name": "python",
   "nbconvert_exporter": "python",
   "pygments_lexer": "ipython3",
   "version": "3.8.10"
  }
 },
 "nbformat": 4,
 "nbformat_minor": 5
}
