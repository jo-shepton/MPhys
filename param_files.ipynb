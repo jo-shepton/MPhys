{
 "cells": [
  {
   "cell_type": "code",
   "execution_count": null,
   "id": "d438c6f2",
   "metadata": {},
   "outputs": [],
   "source": [
    "pip install astropy"
   ]
  },
  {
   "cell_type": "code",
   "execution_count": null,
   "id": "4c4dcf59",
   "metadata": {},
   "outputs": [],
   "source": [
    "pip install tqdm"
   ]
  },
  {
   "cell_type": "code",
   "execution_count": null,
   "id": "dacb1306",
   "metadata": {},
   "outputs": [],
   "source": [
    "pip install matplotlib"
   ]
  },
  {
   "cell_type": "code",
   "execution_count": 2,
   "id": "ff83f619",
   "metadata": {},
   "outputs": [],
   "source": [
    "import astropy\n",
    "from gpz_pype import utilities\n",
    "from astropy.table import Table\n",
    "from subprocess import call\n",
    "import subprocess"
   ]
  },
  {
   "cell_type": "code",
   "execution_count": 3,
   "id": "9c44e75b",
   "metadata": {},
   "outputs": [],
   "source": [
    "\n",
    "params = utilities.Params('gpzpp/example/gpz.param')\n",
    "\n",
    "\n"
   ]
  },
  {
   "cell_type": "code",
   "execution_count": null,
   "id": "78c96110",
   "metadata": {},
   "outputs": [],
   "source": []
  },
  {
   "cell_type": "code",
   "execution_count": null,
   "id": "84565626",
   "metadata": {},
   "outputs": [],
   "source": [
    "import numpy as np\n",
    "print(np.linspace(10,100,4, dtype=int))"
   ]
  },
  {
   "cell_type": "code",
   "execution_count": null,
   "id": "e4555d6a",
   "metadata": {},
   "outputs": [],
   "source": [
    "types = ['gpvc']#,'gpvl','gpgd','gpvd','gpgc','gpvc']\n",
    "\n",
    "for nbf in types:#np.linspace(10,100,4, dtype=int):\n",
    "    \n",
    "    params['COVARIANCE'] = 'gpvc'\n",
    "    params['NUM_BF'] = '100'\n",
    "    params['VALID_SAMPLE_METHOD'] = 'sequential'\n",
    "    params['OUTPUT_CATALOG'] = f'MPhys/parameter_files/gpz_{nbf}_seq_cut.cat'\n",
    "    params['MODEL_FILE'] = f'MPhys/parameter_files/gpz_{nbf}_seq_model_cut.dat'\n",
    "    params['TRAINING_CATALOG'] = 'gpzpp/example/sdss_train_randomised_cut.cat'\n",
    "    params['PREDICTION_CATALOG'] = 'gpzpp/example/sdss_pred_randomised_cut.cat'\n",
    "    param_file = f'MPhys/parameter_files/gpz_nbf{nbf}_seq_cut.param'\n",
    "    \n",
    "    params.write(param_file)\n",
    "    sh = call(f'gpzpp/example/gpz++ {param_file}', shell=True)\n",
    "    \n",
    "    "
   ]
  },
  {
   "cell_type": "code",
   "execution_count": null,
   "id": "55ff2786",
   "metadata": {},
   "outputs": [],
   "source": [
    "sh = call(f'gpzpp/example/gpz++ {param_file}', shell=True)\n"
   ]
  },
  {
   "cell_type": "code",
   "execution_count": 10,
   "id": "219d3d60",
   "metadata": {},
   "outputs": [],
   "source": [
    "params['COVARIANCE'] = 'gpgc'\n",
    "params['NUM_BF'] = '100'\n",
    "params['VALID_SAMPLE_METHOD'] = 'random'\n",
    "params['OUTPUT_CATALOG'] = 'MPhys/gpz_files/gpz_jwst_gpgc.cat'\n",
    "params['MODEL_FILE'] = 'MPhys/gpz_files/gpz_jwst_gpgc.dat'\n",
    "params['TRAINING_CATALOG'] = 'MPhys/gpz_files/TRAIN_80_split.cat'\n",
    "params['PREDICTION_CATALOG'] = 'MPhys/gpz_files/PRED_20_split.cat'\n",
    "filters=['f115w','f200w','f277w','f356w','f444w']\n",
    "params[\"BANDS\"] = f'^lupt_({\"|\".join(filters).lower()})$'\n",
    "params['FLUX_COLUMN_PREFIX']='lupt'\n",
    "params['ERROR_COLUMN_PREFIX']='lupterr'\n",
    "params['OUTPUT_COLUMN']='z_spec'\n",
    "params['TRAIN_VALID_RATIO']='0.75'\n",
    "params['REUSE_MODEL']='0'\n",
    "\n",
    "\n",
    "\n",
    "param_file = 'MPhys/gpz_files/gpz_jwst_gpgc.param'\n",
    "#param_file = f'gpzpp/example/gpz_jwst1.param'\n",
    "\n",
    "params.write(param_file)"
   ]
  },
  {
   "cell_type": "code",
   "execution_count": null,
   "id": "fd80b972",
   "metadata": {},
   "outputs": [],
   "source": []
  },
  {
   "cell_type": "code",
   "execution_count": 11,
   "id": "35a2a44a",
   "metadata": {
    "scrolled": true
   },
   "outputs": [
    {
     "name": "stdout",
     "output_type": "stream",
     "text": [
      "begin fitting with 9590 data points\n",
      "found 5 features\n",
      "found uncertainties for the features\n",
      "setting number of features to 5\n",
      "weights: 1 (min), 1 (16%), 1 (med), 1 (84%), 1 (max)\n",
      "split fitting data into 7193 for training and 2397 for validation\n",
      "missing data cache built (1 combinations found)\n",
      "the fit has 816 parameters\n",
      " - 500 BF positions\n",
      " - 100 BF relevances\n",
      " - 15 BF covariances\n",
      " - 201 for output error\n",
      "allocated memory for fit parameters\n",
      "initialized BF positions\n",
      "initialized BF relevances\n",
      "initialized BF covariances\n",
      "initialized output errors\n",
      "initialized all fit parameters\n",
      "starting optimization of model\n",
      "iter: 1, metric train: 1.03406, metric valid: 1.01741 (best: 1.01741)\n",
      "iter: 2, metric train: 0.943112, metric valid: 0.921461 (best: 0.921461)\n",
      "iter: 3, metric train: 0.879966, metric valid: 0.851645 (best: 0.851645)\n",
      "iter: 4, metric train: 0.816505, metric valid: 0.771148 (best: 0.771148)\n",
      "iter: 5, metric train: 0.800883, metric valid: 0.74739 (best: 0.74739)\n",
      "iter: 6, metric train: 0.778266, metric valid: 0.730011 (best: 0.730011)\n",
      "iter: 7, metric train: 0.760003, metric valid: 0.7254 (best: 0.7254)\n",
      "iter: 8, metric train: 0.750922, metric valid: 0.718995 (best: 0.718995)\n",
      "iter: 9, metric train: 0.734764, metric valid: 0.705951 (best: 0.705951)\n",
      "iter: 10, metric train: 0.726032, metric valid: 0.701397 (best: 0.701397)\n",
      "iter: 11, metric train: 0.714141, metric valid: 0.695017 (best: 0.695017)\n",
      "iter: 12, metric train: 0.706107, metric valid: 0.689725 (best: 0.689725)\n",
      "iter: 13, metric train: 0.6972, metric valid: 0.68612 (best: 0.68612)\n",
      "iter: 14, metric train: 0.689161, metric valid: 0.694655 (best: 0.68612)\n",
      "iter: 15, metric train: 0.686754, metric valid: 0.700162 (best: 0.68612)\n",
      "iter: 16, metric train: 0.686544, metric valid: 0.701808 (best: 0.68612)\n",
      "iter: 17, metric train: 0.686344, metric valid: 0.703313 (best: 0.68612)\n",
      "iter: 18, metric train: 0.686205, metric valid: 0.704885 (best: 0.68612)\n",
      "iter: 19, metric train: 0.686089, metric valid: 0.706763 (best: 0.68612)\n",
      "iter: 20, metric train: 0.686027, metric valid: 0.709474 (best: 0.68612)\n",
      "iter: 21, metric train: 0.686013, metric valid: 0.714158 (best: 0.68612)\n",
      "iter: 22, metric train: 0.685543, metric valid: 0.721099 (best: 0.68612)\n",
      "iter: 23, metric train: 0.684639, metric valid: 0.726559 (best: 0.68612)\n",
      "iter: 24, metric train: 0.683027, metric valid: 0.731374 (best: 0.68612)\n",
      "iter: 25, metric train: 0.676044, metric valid: 0.71947 (best: 0.68612)\n",
      "iter: 26, metric train: 0.652728, metric valid: 0.682115 (best: 0.682115)\n",
      "iter: 27, metric train: 0.645268, metric valid: 0.694367 (best: 0.682115)\n",
      "iter: 28, metric train: 0.643312, metric valid: 0.693406 (best: 0.682115)\n",
      "iter: 29, metric train: 0.641209, metric valid: 0.686306 (best: 0.682115)\n",
      "iter: 30, metric train: 0.638384, metric valid: 0.675646 (best: 0.675646)\n",
      "iter: 31, metric train: 0.637283, metric valid: 0.670645 (best: 0.670645)\n",
      "iter: 32, metric train: 0.633878, metric valid: 0.66302 (best: 0.66302)\n",
      "iter: 33, metric train: 0.630357, metric valid: 0.659875 (best: 0.659875)\n",
      "iter: 34, metric train: 0.624323, metric valid: 0.651564 (best: 0.651564)\n",
      "iter: 35, metric train: 0.620565, metric valid: 0.659723 (best: 0.651564)\n",
      "iter: 36, metric train: 0.615984, metric valid: 0.666803 (best: 0.651564)\n",
      "iter: 37, metric train: 0.611953, metric valid: 0.659927 (best: 0.651564)\n",
      "iter: 38, metric train: 0.609655, metric valid: 0.65513 (best: 0.651564)\n",
      "iter: 39, metric train: 0.608878, metric valid: 0.653773 (best: 0.651564)\n",
      "iter: 40, metric train: 0.607124, metric valid: 0.647268 (best: 0.647268)\n",
      "iter: 41, metric train: 0.604738, metric valid: 0.646741 (best: 0.646741)\n",
      "iter: 42, metric train: 0.604196, metric valid: 0.650881 (best: 0.646741)\n",
      "iter: 43, metric train: 0.604196, metric valid: 0.650881 (best: 0.646741)\n",
      "fit converged (step size below threshold)\n",
      "total time required for fit: 65.0222 seconds\n",
      "begin prediction for 2397 data points\n",
      "found 5 features\n",
      "found uncertainties for the features\n",
      "precomputing cache and applying normalization\n",
      "missing data cache built (1 combinations found)\n",
      "starting prediction\n",
      "will use parallel prediction with chunks of 100 elements\n",
      "predicted     0/2397 (0%), time remaining: unknown\n",
      "predicted   197/2397 (8%), time remaining: 11.17s\n",
      "predicted   394/2397 (16%), time remaining: 10.17s\n",
      "predicted   595/2397 (24%), time remaining: 9.08s\n",
      "predicted   805/2397 (33%), time remaining: 7.91s\n",
      "predicted  1024/2397 (42%), time remaining: 6.7s\n",
      "predicted  1231/2397 (51%), time remaining: 5.68s\n",
      "predicted  1434/2397 (59%), time remaining: 4.7s\n",
      "predicted  1631/2397 (68%), time remaining: 3.75s\n",
      "predicted  1820/2397 (75%), time remaining: 2.85s\n",
      "predicted  2023/2397 (84%), time remaining: 1.84s\n",
      "predicted  2212/2397 (92%), time remaining: 0.92s\n",
      "predicted  2393/2397 (99%), time remaining: 0.02s\n",
      "renormalize output values\n",
      "total time required for prediction: 13.0097 seconds\n"
     ]
    }
   ],
   "source": [
    "sh = call(f'MPhys/gpz_files/gpz++ {param_file}',shell=True)"
   ]
  },
  {
   "cell_type": "code",
   "execution_count": 6,
   "id": "0393caaf",
   "metadata": {},
   "outputs": [
    {
     "ename": "NameError",
     "evalue": "name 're' is not defined",
     "output_type": "error",
     "traceback": [
      "\u001b[0;31m---------------------------------------------------------------------------\u001b[0m",
      "\u001b[0;31mNameError\u001b[0m                                 Traceback (most recent call last)",
      "Cell \u001b[0;32mIn[6], line 6\u001b[0m\n\u001b[1;32m      4\u001b[0m     \u001b[38;5;28mnext\u001b[39m(file_spec)\n\u001b[1;32m      5\u001b[0m \u001b[38;5;28;01mfor\u001b[39;00m line_spec \u001b[38;5;129;01min\u001b[39;00m file_spec:\n\u001b[0;32m----> 6\u001b[0m     test_spec \u001b[38;5;241m=\u001b[39m re\u001b[38;5;241m.\u001b[39msub(\u001b[38;5;124m\"\u001b[39m\u001b[38;5;124m\\\u001b[39m\u001b[38;5;124ms+\u001b[39m\u001b[38;5;124m\"\u001b[39m, \u001b[38;5;124m\"\u001b[39m\u001b[38;5;124m,\u001b[39m\u001b[38;5;124m\"\u001b[39m, line_spec\u001b[38;5;241m.\u001b[39mstrip()) \u001b[38;5;66;03m#takes any spaces and replaces with comma to make split easier\u001b[39;00m\n\u001b[1;32m      7\u001b[0m     tokens_spec \u001b[38;5;241m=\u001b[39m test_spec\u001b[38;5;241m.\u001b[39msplit(\u001b[38;5;124m'\u001b[39m\u001b[38;5;124m,\u001b[39m\u001b[38;5;124m'\u001b[39m)\n\u001b[1;32m      8\u001b[0m     \u001b[38;5;66;03m#print(tokens[4])\u001b[39;00m\n",
      "\u001b[0;31mNameError\u001b[0m: name 're' is not defined"
     ]
    }
   ],
   "source": [
    "spec_z=[]\n",
    "with open('gpzpp/example/sdss_pred.cat','r') as file_spec:\n",
    "    for _ in range(1):\n",
    "        next(file_spec)\n",
    "    for line_spec in file_spec:\n",
    "        test_spec = re.sub(\"\\s+\", \",\", line_spec.strip()) #takes any spaces and replaces with comma to make split easier\n",
    "        tokens_spec = test_spec.split(',')\n",
    "        #print(tokens[4])\n",
    "        spec_z.append(tokens_spec[10])\n"
   ]
  },
  {
   "cell_type": "code",
   "execution_count": null,
   "id": "4e975b63",
   "metadata": {},
   "outputs": [],
   "source": [
    "import matplotlib.pyplot as plt\n",
    "plt.hexbin(spec_z, value_z,cmap = 'gnuplot')"
   ]
  },
  {
   "cell_type": "code",
   "execution_count": null,
   "id": "06cb8923",
   "metadata": {},
   "outputs": [],
   "source": []
  }
 ],
 "metadata": {
  "kernelspec": {
   "display_name": "py3",
   "language": "python",
   "name": "py3"
  },
  "language_info": {
   "codemirror_mode": {
    "name": "ipython",
    "version": 3
   },
   "file_extension": ".py",
   "mimetype": "text/x-python",
   "name": "python",
   "nbconvert_exporter": "python",
   "pygments_lexer": "ipython3",
   "version": "3.11.5"
  }
 },
 "nbformat": 4,
 "nbformat_minor": 5
}
