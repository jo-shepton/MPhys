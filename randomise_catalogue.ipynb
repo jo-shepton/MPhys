{
 "cells": [
  {
   "cell_type": "code",
   "execution_count": 113,
   "id": "7a968b57",
   "metadata": {},
   "outputs": [
    {
     "name": "stdout",
     "output_type": "stream",
     "text": [
      "['# mag_u  magerr_u  mag_g  magerr_g  mag_r  magerr_r  mag_i  magerr_i  mag_z  magerr_z      z_spec']\n",
      "1\n"
     ]
    }
   ],
   "source": [
    "import random\n",
    "file = open('gpzpp/example/sdss_pred.cat','r')\n",
    "i=0\n",
    "heads=[]\n",
    "header= file.read().splitlines() \n",
    "for i in range(1):\n",
    "    heads.append(header[i])\n",
    "print(heads)  \n",
    "file.close()\n",
    "\n",
    "print(len(heads))"
   ]
  },
  {
   "cell_type": "code",
   "execution_count": 120,
   "id": "24ea81e4",
   "metadata": {},
   "outputs": [
    {
     "name": "stdout",
     "output_type": "stream",
     "text": [
      "# mag_u  magerr_u  mag_g  magerr_g  mag_r  magerr_r  mag_i  magerr_i  mag_z  magerr_z      z_spec\n"
     ]
    }
   ],
   "source": [
    "file_new = open('gpzpp/example/sdss_train.cat','r')\n",
    "for _ in range(1):\n",
    "    next(file_new)\n",
    "lines = file_new.read().splitlines() \n",
    "i=0\n",
    "lim = int(len(lines)/10)\n",
    "while i<=lim:\n",
    "   \n",
    "\n",
    "    myline =random.choice(lines)\n",
    "    #print(myline)\n",
    "    rand_file = open('gpzpp/example/sdss_train_randomised_cut.cat','a')\n",
    "    if i == 0:\n",
    "        for i in range(len(heads)):\n",
    "            print(heads[i])\n",
    "            rand_file.write(str(heads[i])+'\\n')\n",
    "            \n",
    "    \n",
    "    rand_file.write(str(myline)+'\\n')\n",
    "    i+=1\n",
    "    rand_file.close()"
   ]
  },
  {
   "cell_type": "code",
   "execution_count": 118,
   "id": "f41a3abe",
   "metadata": {},
   "outputs": [
    {
     "name": "stdout",
     "output_type": "stream",
     "text": [
      "17999\n"
     ]
    }
   ],
   "source": [
    "print(lim)"
   ]
  }
 ],
 "metadata": {
  "kernelspec": {
   "display_name": "py3",
   "language": "python",
   "name": "py3"
  },
  "language_info": {
   "codemirror_mode": {
    "name": "ipython",
    "version": 3
   },
   "file_extension": ".py",
   "mimetype": "text/x-python",
   "name": "python",
   "nbconvert_exporter": "python",
   "pygments_lexer": "ipython3",
   "version": "3.11.5"
  }
 },
 "nbformat": 4,
 "nbformat_minor": 5
}
