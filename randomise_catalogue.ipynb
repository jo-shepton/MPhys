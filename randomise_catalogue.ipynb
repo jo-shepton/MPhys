{
 "cells": [
  {
   "cell_type": "code",
   "execution_count": 38,
   "id": "0ea1426f",
   "metadata": {},
   "outputs": [],
   "source": [
    "import random\n",
    "import astropy \n",
    "from astropy.table import Table"
   ]
  },
  {
   "cell_type": "code",
   "execution_count": 22,
   "id": "7a968b57",
   "metadata": {},
   "outputs": [
    {
     "name": "stdout",
     "output_type": "stream",
     "text": [
      "['# id_1 ra_1 dec_1 lupt_f115w lupterr_f115w lupt_f200w lupterr_f200w lupt_f277w lupterr_f277w lupt_f356w lupterr_f356w lupt_f444w lupterr_f444w z_spec']\n"
     ]
    }
   ],
   "source": [
    "\n",
    "file = open('MPhys/gpz_files/jwst_TRAIN_2.cat','r')\n",
    "i=0\n",
    "heads=[]\n",
    "header= file.read().splitlines() \n",
    "for i in range(1):\n",
    "    heads.append(header[i])\n",
    "#print(heads)  \n",
    "file.close()\n",
    "\n",
    "print(heads)"
   ]
  },
  {
   "cell_type": "code",
   "execution_count": 13,
   "id": "24ea81e4",
   "metadata": {},
   "outputs": [
    {
     "name": "stdout",
     "output_type": "stream",
     "text": [
      "# id_1 ra_1 dec_1 lupt_f115w lupterr_f115w lupt_f200w lupterr_f200w lupt_f277w lupterr_f277w lupt_f356w lupterr_f356w lupt_f444w lupterr_f444w z_spec\n"
     ]
    }
   ],
   "source": [
    "file_new = open('MPhys/gpz_files/jwst_TRAIN_2.cat','r')\n",
    "for _ in range(1):\n",
    "    next(file_new)\n",
    "lines = file_new.read().splitlines() \n",
    "i=0\n",
    "lim = len(lines)\n",
    "while i<=lim:\n",
    "   \n",
    "\n",
    "    myline =random.choice(lines)\n",
    "    #print(myline)\n",
    "    rand_file = open('MPhys/gpz_files/jwst_TRAIN_2_rand.cat','a')\n",
    "    if i == 0:\n",
    "        for i in range(len(heads)):\n",
    "            print(heads[i])\n",
    "            rand_file.write(str(heads[i])+'\\n')\n",
    "            \n",
    "    \n",
    "    rand_file.write(str(myline)+'\\n')\n",
    "    i+=1\n",
    "    rand_file.close()"
   ]
  },
  {
   "cell_type": "code",
   "execution_count": null,
   "id": "f41a3abe",
   "metadata": {},
   "outputs": [],
   "source": []
  },
  {
   "cell_type": "code",
   "execution_count": 19,
   "id": "3ed9cc47",
   "metadata": {},
   "outputs": [],
   "source": [
    "file= open('MPhys/gpz_files/jwst_TRAIN_2_rand.cat')#randomised catalogue\n",
    "for _ in range(1):\n",
    "    next(file)\n",
    "lines = file.read().splitlines() \n",
    "file.close()\n"
   ]
  },
  {
   "cell_type": "code",
   "execution_count": 35,
   "id": "2ee2ed56",
   "metadata": {},
   "outputs": [],
   "source": [
    "file_train = open('MPhys/gpz_files/jwst_TRAIN_split.cat','w+')\n",
    "i=0\n",
    "\n",
    "while i <= (int(0.8*len(lines))):\n",
    "    if i == 0:\n",
    "    #for i in range(len(heads)):\n",
    "    #print(heads[i])\n",
    "        file_train.write(str(heads[i])+'\\n')\n",
    "        \n",
    "    file_train.write(lines[i]+'\\n')\n",
    "    i+=1\n",
    "file_train.close()"
   ]
  },
  {
   "cell_type": "code",
   "execution_count": 37,
   "id": "0ec81465",
   "metadata": {},
   "outputs": [],
   "source": [
    "file_pred = open('MPhys/gpz_files/jwst_PRED_split.cat','w+')\n",
    "i=(int(0.8*len(lines)))\n",
    "\n",
    "while (int(0.8*len(lines)))<i <= len(lines):\n",
    "    if i == (int(0.8*len(lines))):\n",
    "    #for i in range(len(heads)):\n",
    "    #print(heads[i])\n",
    "        file_pred.write(str(heads[0])+'\\n')\n",
    "        \n",
    "    file_pred.write(lines[i]+'\\n')\n",
    "    i+=1\n",
    "file_pred.close()"
   ]
  },
  {
   "cell_type": "code",
   "execution_count": 47,
   "id": "4711d6c4",
   "metadata": {},
   "outputs": [
    {
     "ename": "InconsistentTableError",
     "evalue": "\nERROR: Unable to guess table format with the guesses listed below:\nReader:Ecsv fast_reader: {'enable': True} fill_values: [('', '0')] strict_names: True\nReader:FixedWidthTwoLine fast_reader: {'enable': True} fill_values: [('', '0')] strict_names: True\nReader:RST fast_reader: {'enable': True} fill_values: [('', '0')] strict_names: True\nReader:FastBasic fast_reader: {'enable': True} fill_values: [('', '0')] strict_names: True\nReader:Basic fast_reader: {'enable': True} fill_values: [('', '0')] strict_names: True\nReader:FastRdb fast_reader: {'enable': True} fill_values: [('', '0')] strict_names: True\nReader:Rdb fast_reader: {'enable': True} fill_values: [('', '0')] strict_names: True\nReader:FastTab fast_reader: {'enable': True} fill_values: [('', '0')] strict_names: True\nReader:Tab fast_reader: {'enable': True} fill_values: [('', '0')] strict_names: True\nReader:Cds fast_reader: {'enable': True} fill_values: [('', '0')] strict_names: True\nReader:Mrt fast_reader: {'enable': True} fill_values: [('', '0')] strict_names: True\nReader:Daophot fast_reader: {'enable': True} fill_values: [('', '0')] strict_names: True\nReader:SExtractor fast_reader: {'enable': True} fill_values: [('', '0')] strict_names: True\nReader:Ipac fast_reader: {'enable': True} fill_values: [('', '0')] strict_names: True\nReader:Latex fast_reader: {'enable': True} fill_values: [('', '0')] strict_names: True\nReader:AASTex fast_reader: {'enable': True} fill_values: [('', '0')] strict_names: True\nReader:FastCommentedHeader delimiter: '|' fast_reader: {'enable': True} fill_values: [('', '0')] quotechar: '\"' strict_names: True\nReader:FastCommentedHeader delimiter: '|' fast_reader: {'enable': True} fill_values: [('', '0')] quotechar: \"'\" strict_names: True\nReader:FastCommentedHeader delimiter: ',' fast_reader: {'enable': True} fill_values: [('', '0')] quotechar: '\"' strict_names: True\nReader:FastCommentedHeader delimiter: ',' fast_reader: {'enable': True} fill_values: [('', '0')] quotechar: \"'\" strict_names: True\nReader:FastCommentedHeader delimiter: ' ' fast_reader: {'enable': True} fill_values: [('', '0')] quotechar: '\"' strict_names: True\nReader:FastCommentedHeader delimiter: ' ' fast_reader: {'enable': True} fill_values: [('', '0')] quotechar: \"'\" strict_names: True\nReader:FastCommentedHeader delimiter: '\\\\s' fast_reader: {'enable': True} fill_values: [('', '0')] quotechar: '\"' strict_names: True\nReader:FastCommentedHeader delimiter: '\\\\s' fast_reader: {'enable': True} fill_values: [('', '0')] quotechar: \"'\" strict_names: True\nReader:CommentedHeader delimiter: '|' fast_reader: {'enable': True} fill_values: [('', '0')] quotechar: '\"' strict_names: True\nReader:CommentedHeader delimiter: '|' fast_reader: {'enable': True} fill_values: [('', '0')] quotechar: \"'\" strict_names: True\nReader:CommentedHeader delimiter: ',' fast_reader: {'enable': True} fill_values: [('', '0')] quotechar: '\"' strict_names: True\nReader:CommentedHeader delimiter: ',' fast_reader: {'enable': True} fill_values: [('', '0')] quotechar: \"'\" strict_names: True\nReader:CommentedHeader delimiter: ' ' fast_reader: {'enable': True} fill_values: [('', '0')] quotechar: '\"' strict_names: True\nReader:CommentedHeader delimiter: ' ' fast_reader: {'enable': True} fill_values: [('', '0')] quotechar: \"'\" strict_names: True\nReader:CommentedHeader delimiter: '\\\\s' fast_reader: {'enable': True} fill_values: [('', '0')] quotechar: '\"' strict_names: True\nReader:CommentedHeader delimiter: '\\\\s' fast_reader: {'enable': True} fill_values: [('', '0')] quotechar: \"'\" strict_names: True\nReader:FastBasic delimiter: '|' fast_reader: {'enable': True} fill_values: [('', '0')] quotechar: '\"' strict_names: True\nReader:FastBasic delimiter: '|' fast_reader: {'enable': True} fill_values: [('', '0')] quotechar: \"'\" strict_names: True\nReader:FastBasic delimiter: ',' fast_reader: {'enable': True} fill_values: [('', '0')] quotechar: '\"' strict_names: True\nReader:FastBasic delimiter: ',' fast_reader: {'enable': True} fill_values: [('', '0')] quotechar: \"'\" strict_names: True\nReader:FastBasic delimiter: ' ' fast_reader: {'enable': True} fill_values: [('', '0')] quotechar: '\"' strict_names: True\nReader:FastBasic delimiter: ' ' fast_reader: {'enable': True} fill_values: [('', '0')] quotechar: \"'\" strict_names: True\nReader:FastBasic delimiter: '\\\\s' fast_reader: {'enable': True} fill_values: [('', '0')] quotechar: '\"' strict_names: True\nReader:FastBasic delimiter: '\\\\s' fast_reader: {'enable': True} fill_values: [('', '0')] quotechar: \"'\" strict_names: True\nReader:Basic delimiter: '|' fast_reader: {'enable': True} fill_values: [('', '0')] quotechar: '\"' strict_names: True\nReader:Basic delimiter: '|' fast_reader: {'enable': True} fill_values: [('', '0')] quotechar: \"'\" strict_names: True\nReader:Basic delimiter: ',' fast_reader: {'enable': True} fill_values: [('', '0')] quotechar: '\"' strict_names: True\nReader:Basic delimiter: ',' fast_reader: {'enable': True} fill_values: [('', '0')] quotechar: \"'\" strict_names: True\nReader:Basic delimiter: ' ' fast_reader: {'enable': True} fill_values: [('', '0')] quotechar: '\"' strict_names: True\nReader:Basic delimiter: ' ' fast_reader: {'enable': True} fill_values: [('', '0')] quotechar: \"'\" strict_names: True\nReader:Basic delimiter: '\\\\s' fast_reader: {'enable': True} fill_values: [('', '0')] quotechar: '\"' strict_names: True\nReader:Basic delimiter: '\\\\s' fast_reader: {'enable': True} fill_values: [('', '0')] quotechar: \"'\" strict_names: True\nReader:FastNoHeader delimiter: '|' fast_reader: {'enable': True} fill_values: [('', '0')] quotechar: '\"' strict_names: True\nReader:FastNoHeader delimiter: '|' fast_reader: {'enable': True} fill_values: [('', '0')] quotechar: \"'\" strict_names: True\nReader:FastNoHeader delimiter: ',' fast_reader: {'enable': True} fill_values: [('', '0')] quotechar: '\"' strict_names: True\nReader:FastNoHeader delimiter: ',' fast_reader: {'enable': True} fill_values: [('', '0')] quotechar: \"'\" strict_names: True\nReader:FastNoHeader delimiter: ' ' fast_reader: {'enable': True} fill_values: [('', '0')] quotechar: '\"' strict_names: True\nReader:FastNoHeader delimiter: ' ' fast_reader: {'enable': True} fill_values: [('', '0')] quotechar: \"'\" strict_names: True\nReader:FastNoHeader delimiter: '\\\\s' fast_reader: {'enable': True} fill_values: [('', '0')] quotechar: '\"' strict_names: True\nReader:FastNoHeader delimiter: '\\\\s' fast_reader: {'enable': True} fill_values: [('', '0')] quotechar: \"'\" strict_names: True\nReader:NoHeader delimiter: '|' fast_reader: {'enable': True} fill_values: [('', '0')] quotechar: '\"' strict_names: True\nReader:NoHeader delimiter: '|' fast_reader: {'enable': True} fill_values: [('', '0')] quotechar: \"'\" strict_names: True\nReader:NoHeader delimiter: ',' fast_reader: {'enable': True} fill_values: [('', '0')] quotechar: '\"' strict_names: True\nReader:NoHeader delimiter: ',' fast_reader: {'enable': True} fill_values: [('', '0')] quotechar: \"'\" strict_names: True\nReader:NoHeader delimiter: ' ' fast_reader: {'enable': True} fill_values: [('', '0')] quotechar: '\"' strict_names: True\nReader:NoHeader delimiter: ' ' fast_reader: {'enable': True} fill_values: [('', '0')] quotechar: \"'\" strict_names: True\nReader:NoHeader delimiter: '\\\\s' fast_reader: {'enable': True} fill_values: [('', '0')] quotechar: '\"' strict_names: True\nReader:NoHeader delimiter: '\\\\s' fast_reader: {'enable': True} fill_values: [('', '0')] quotechar: \"'\" strict_names: True\nReader:Basic fast_reader: {'enable': True} fill_values: [('', '0')]\n\n************************************************************************\n** ERROR: Unable to guess table format with the guesses listed above. **\n**                                                                    **\n** To figure out why the table did not read, use guess=False and      **\n** fast_reader=False, along with any appropriate arguments to read(). **\n** In particular specify the format and any known attributes like the **\n** delimiter.                                                         **\n************************************************************************",
     "output_type": "error",
     "traceback": [
      "\u001b[0;31m---------------------------------------------------------------------------\u001b[0m",
      "\u001b[0;31mInconsistentTableError\u001b[0m                    Traceback (most recent call last)",
      "Cell \u001b[0;32mIn[47], line 1\u001b[0m\n\u001b[0;32m----> 1\u001b[0m t \u001b[38;5;241m=\u001b[39m Table\u001b[38;5;241m.\u001b[39mread(\u001b[38;5;124m'\u001b[39m\u001b[38;5;124mMPhys/gpz_files/jwst_TRAIN_2.cat\u001b[39m\u001b[38;5;124m'\u001b[39m, \u001b[38;5;28mformat\u001b[39m\u001b[38;5;241m=\u001b[39m\u001b[38;5;124m'\u001b[39m\u001b[38;5;124mascii\u001b[39m\u001b[38;5;124m'\u001b[39m)\n",
      "File \u001b[0;32m~/miniconda3/envs/py3/lib/python3.11/site-packages/astropy/table/connect.py:62\u001b[0m, in \u001b[0;36mTableRead.__call__\u001b[0;34m(self, *args, **kwargs)\u001b[0m\n\u001b[1;32m     59\u001b[0m units \u001b[38;5;241m=\u001b[39m kwargs\u001b[38;5;241m.\u001b[39mpop(\u001b[38;5;124m\"\u001b[39m\u001b[38;5;124munits\u001b[39m\u001b[38;5;124m\"\u001b[39m, \u001b[38;5;28;01mNone\u001b[39;00m)\n\u001b[1;32m     60\u001b[0m descriptions \u001b[38;5;241m=\u001b[39m kwargs\u001b[38;5;241m.\u001b[39mpop(\u001b[38;5;124m\"\u001b[39m\u001b[38;5;124mdescriptions\u001b[39m\u001b[38;5;124m\"\u001b[39m, \u001b[38;5;28;01mNone\u001b[39;00m)\n\u001b[0;32m---> 62\u001b[0m out \u001b[38;5;241m=\u001b[39m \u001b[38;5;28mself\u001b[39m\u001b[38;5;241m.\u001b[39mregistry\u001b[38;5;241m.\u001b[39mread(\u001b[38;5;28mcls\u001b[39m, \u001b[38;5;241m*\u001b[39margs, \u001b[38;5;241m*\u001b[39m\u001b[38;5;241m*\u001b[39mkwargs)\n\u001b[1;32m     64\u001b[0m \u001b[38;5;66;03m# For some readers (e.g., ascii.ecsv), the returned `out` class is not\u001b[39;00m\n\u001b[1;32m     65\u001b[0m \u001b[38;5;66;03m# guaranteed to be the same as the desired output `cls`.  If so,\u001b[39;00m\n\u001b[1;32m     66\u001b[0m \u001b[38;5;66;03m# try coercing to desired class without copying (io.registry.read\u001b[39;00m\n\u001b[1;32m     67\u001b[0m \u001b[38;5;66;03m# would normally do a copy).  The normal case here is swapping\u001b[39;00m\n\u001b[1;32m     68\u001b[0m \u001b[38;5;66;03m# Table <=> QTable.\u001b[39;00m\n\u001b[1;32m     69\u001b[0m \u001b[38;5;28;01mif\u001b[39;00m \u001b[38;5;28mcls\u001b[39m \u001b[38;5;129;01mis\u001b[39;00m \u001b[38;5;129;01mnot\u001b[39;00m out\u001b[38;5;241m.\u001b[39m\u001b[38;5;18m__class__\u001b[39m:\n",
      "File \u001b[0;32m~/miniconda3/envs/py3/lib/python3.11/site-packages/astropy/io/registry/core.py:218\u001b[0m, in \u001b[0;36mUnifiedInputRegistry.read\u001b[0;34m(self, cls, format, cache, *args, **kwargs)\u001b[0m\n\u001b[1;32m    213\u001b[0m     \u001b[38;5;28mformat\u001b[39m \u001b[38;5;241m=\u001b[39m \u001b[38;5;28mself\u001b[39m\u001b[38;5;241m.\u001b[39m_get_valid_format(\n\u001b[1;32m    214\u001b[0m         \u001b[38;5;124m\"\u001b[39m\u001b[38;5;124mread\u001b[39m\u001b[38;5;124m\"\u001b[39m, \u001b[38;5;28mcls\u001b[39m, path, fileobj, args, kwargs\n\u001b[1;32m    215\u001b[0m     )\n\u001b[1;32m    217\u001b[0m reader \u001b[38;5;241m=\u001b[39m \u001b[38;5;28mself\u001b[39m\u001b[38;5;241m.\u001b[39mget_reader(\u001b[38;5;28mformat\u001b[39m, \u001b[38;5;28mcls\u001b[39m)\n\u001b[0;32m--> 218\u001b[0m data \u001b[38;5;241m=\u001b[39m reader(\u001b[38;5;241m*\u001b[39margs, \u001b[38;5;241m*\u001b[39m\u001b[38;5;241m*\u001b[39mkwargs)\n\u001b[1;32m    220\u001b[0m \u001b[38;5;28;01mif\u001b[39;00m \u001b[38;5;129;01mnot\u001b[39;00m \u001b[38;5;28misinstance\u001b[39m(data, \u001b[38;5;28mcls\u001b[39m):\n\u001b[1;32m    221\u001b[0m     \u001b[38;5;66;03m# User has read with a subclass where only the parent class is\u001b[39;00m\n\u001b[1;32m    222\u001b[0m     \u001b[38;5;66;03m# registered.  This returns the parent class, so try coercing\u001b[39;00m\n\u001b[1;32m    223\u001b[0m     \u001b[38;5;66;03m# to desired subclass.\u001b[39;00m\n\u001b[1;32m    224\u001b[0m     \u001b[38;5;28;01mtry\u001b[39;00m:\n",
      "File \u001b[0;32m~/miniconda3/envs/py3/lib/python3.11/site-packages/astropy/io/ascii/connect.py:19\u001b[0m, in \u001b[0;36mio_read\u001b[0;34m(format, filename, **kwargs)\u001b[0m\n\u001b[1;32m     17\u001b[0m     \u001b[38;5;28mformat\u001b[39m \u001b[38;5;241m=\u001b[39m re\u001b[38;5;241m.\u001b[39msub(\u001b[38;5;124mr\u001b[39m\u001b[38;5;124m\"\u001b[39m\u001b[38;5;124m^ascii\u001b[39m\u001b[38;5;124m\\\u001b[39m\u001b[38;5;124m.\u001b[39m\u001b[38;5;124m\"\u001b[39m, \u001b[38;5;124m\"\u001b[39m\u001b[38;5;124m\"\u001b[39m, \u001b[38;5;28mformat\u001b[39m)\n\u001b[1;32m     18\u001b[0m     kwargs[\u001b[38;5;124m\"\u001b[39m\u001b[38;5;124mformat\u001b[39m\u001b[38;5;124m\"\u001b[39m] \u001b[38;5;241m=\u001b[39m \u001b[38;5;28mformat\u001b[39m\n\u001b[0;32m---> 19\u001b[0m \u001b[38;5;28;01mreturn\u001b[39;00m read(filename, \u001b[38;5;241m*\u001b[39m\u001b[38;5;241m*\u001b[39mkwargs)\n",
      "File \u001b[0;32m~/miniconda3/envs/py3/lib/python3.11/site-packages/astropy/io/ascii/ui.py:374\u001b[0m, in \u001b[0;36mread\u001b[0;34m(table, guess, **kwargs)\u001b[0m\n\u001b[1;32m    368\u001b[0m             new_kwargs[\u001b[38;5;124m\"\u001b[39m\u001b[38;5;124mguess_html\u001b[39m\u001b[38;5;124m\"\u001b[39m] \u001b[38;5;241m=\u001b[39m _probably_html(table)\n\u001b[1;32m    370\u001b[0m \u001b[38;5;66;03m# Get the table from guess in ``dat``.  If ``dat`` comes back as None\u001b[39;00m\n\u001b[1;32m    371\u001b[0m \u001b[38;5;66;03m# then there was just one set of kwargs in the guess list so fall\u001b[39;00m\n\u001b[1;32m    372\u001b[0m \u001b[38;5;66;03m# through below to the non-guess way so that any problems result in a\u001b[39;00m\n\u001b[1;32m    373\u001b[0m \u001b[38;5;66;03m# more useful traceback.\u001b[39;00m\n\u001b[0;32m--> 374\u001b[0m dat \u001b[38;5;241m=\u001b[39m _guess(table, new_kwargs, \u001b[38;5;28mformat\u001b[39m, fast_reader)\n\u001b[1;32m    375\u001b[0m \u001b[38;5;28;01mif\u001b[39;00m dat \u001b[38;5;129;01mis\u001b[39;00m \u001b[38;5;28;01mNone\u001b[39;00m:\n\u001b[1;32m    376\u001b[0m     guess \u001b[38;5;241m=\u001b[39m \u001b[38;5;28;01mFalse\u001b[39;00m\n",
      "File \u001b[0;32m~/miniconda3/envs/py3/lib/python3.11/site-packages/astropy/io/ascii/ui.py:650\u001b[0m, in \u001b[0;36m_guess\u001b[0;34m(table, read_kwargs, format, fast_reader)\u001b[0m\n\u001b[1;32m    638\u001b[0m msg \u001b[38;5;241m=\u001b[39m [\n\u001b[1;32m    639\u001b[0m     \u001b[38;5;124m\"\u001b[39m\u001b[38;5;124m\"\u001b[39m,\n\u001b[1;32m    640\u001b[0m     \u001b[38;5;124m\"\u001b[39m\u001b[38;5;124m************************************************************************\u001b[39m\u001b[38;5;124m\"\u001b[39m,\n\u001b[0;32m   (...)\u001b[0m\n\u001b[1;32m    647\u001b[0m     \u001b[38;5;124m\"\u001b[39m\u001b[38;5;124m************************************************************************\u001b[39m\u001b[38;5;124m\"\u001b[39m,\n\u001b[1;32m    648\u001b[0m ]\n\u001b[1;32m    649\u001b[0m lines\u001b[38;5;241m.\u001b[39mextend(msg)\n\u001b[0;32m--> 650\u001b[0m \u001b[38;5;28;01mraise\u001b[39;00m core\u001b[38;5;241m.\u001b[39mInconsistentTableError(\u001b[38;5;124m\"\u001b[39m\u001b[38;5;130;01m\\n\u001b[39;00m\u001b[38;5;124m\"\u001b[39m\u001b[38;5;241m.\u001b[39mjoin(lines)) \u001b[38;5;28;01mfrom\u001b[39;00m \u001b[38;5;28mNone\u001b[39m\n",
      "\u001b[0;31mInconsistentTableError\u001b[0m: \nERROR: Unable to guess table format with the guesses listed below:\nReader:Ecsv fast_reader: {'enable': True} fill_values: [('', '0')] strict_names: True\nReader:FixedWidthTwoLine fast_reader: {'enable': True} fill_values: [('', '0')] strict_names: True\nReader:RST fast_reader: {'enable': True} fill_values: [('', '0')] strict_names: True\nReader:FastBasic fast_reader: {'enable': True} fill_values: [('', '0')] strict_names: True\nReader:Basic fast_reader: {'enable': True} fill_values: [('', '0')] strict_names: True\nReader:FastRdb fast_reader: {'enable': True} fill_values: [('', '0')] strict_names: True\nReader:Rdb fast_reader: {'enable': True} fill_values: [('', '0')] strict_names: True\nReader:FastTab fast_reader: {'enable': True} fill_values: [('', '0')] strict_names: True\nReader:Tab fast_reader: {'enable': True} fill_values: [('', '0')] strict_names: True\nReader:Cds fast_reader: {'enable': True} fill_values: [('', '0')] strict_names: True\nReader:Mrt fast_reader: {'enable': True} fill_values: [('', '0')] strict_names: True\nReader:Daophot fast_reader: {'enable': True} fill_values: [('', '0')] strict_names: True\nReader:SExtractor fast_reader: {'enable': True} fill_values: [('', '0')] strict_names: True\nReader:Ipac fast_reader: {'enable': True} fill_values: [('', '0')] strict_names: True\nReader:Latex fast_reader: {'enable': True} fill_values: [('', '0')] strict_names: True\nReader:AASTex fast_reader: {'enable': True} fill_values: [('', '0')] strict_names: True\nReader:FastCommentedHeader delimiter: '|' fast_reader: {'enable': True} fill_values: [('', '0')] quotechar: '\"' strict_names: True\nReader:FastCommentedHeader delimiter: '|' fast_reader: {'enable': True} fill_values: [('', '0')] quotechar: \"'\" strict_names: True\nReader:FastCommentedHeader delimiter: ',' fast_reader: {'enable': True} fill_values: [('', '0')] quotechar: '\"' strict_names: True\nReader:FastCommentedHeader delimiter: ',' fast_reader: {'enable': True} fill_values: [('', '0')] quotechar: \"'\" strict_names: True\nReader:FastCommentedHeader delimiter: ' ' fast_reader: {'enable': True} fill_values: [('', '0')] quotechar: '\"' strict_names: True\nReader:FastCommentedHeader delimiter: ' ' fast_reader: {'enable': True} fill_values: [('', '0')] quotechar: \"'\" strict_names: True\nReader:FastCommentedHeader delimiter: '\\\\s' fast_reader: {'enable': True} fill_values: [('', '0')] quotechar: '\"' strict_names: True\nReader:FastCommentedHeader delimiter: '\\\\s' fast_reader: {'enable': True} fill_values: [('', '0')] quotechar: \"'\" strict_names: True\nReader:CommentedHeader delimiter: '|' fast_reader: {'enable': True} fill_values: [('', '0')] quotechar: '\"' strict_names: True\nReader:CommentedHeader delimiter: '|' fast_reader: {'enable': True} fill_values: [('', '0')] quotechar: \"'\" strict_names: True\nReader:CommentedHeader delimiter: ',' fast_reader: {'enable': True} fill_values: [('', '0')] quotechar: '\"' strict_names: True\nReader:CommentedHeader delimiter: ',' fast_reader: {'enable': True} fill_values: [('', '0')] quotechar: \"'\" strict_names: True\nReader:CommentedHeader delimiter: ' ' fast_reader: {'enable': True} fill_values: [('', '0')] quotechar: '\"' strict_names: True\nReader:CommentedHeader delimiter: ' ' fast_reader: {'enable': True} fill_values: [('', '0')] quotechar: \"'\" strict_names: True\nReader:CommentedHeader delimiter: '\\\\s' fast_reader: {'enable': True} fill_values: [('', '0')] quotechar: '\"' strict_names: True\nReader:CommentedHeader delimiter: '\\\\s' fast_reader: {'enable': True} fill_values: [('', '0')] quotechar: \"'\" strict_names: True\nReader:FastBasic delimiter: '|' fast_reader: {'enable': True} fill_values: [('', '0')] quotechar: '\"' strict_names: True\nReader:FastBasic delimiter: '|' fast_reader: {'enable': True} fill_values: [('', '0')] quotechar: \"'\" strict_names: True\nReader:FastBasic delimiter: ',' fast_reader: {'enable': True} fill_values: [('', '0')] quotechar: '\"' strict_names: True\nReader:FastBasic delimiter: ',' fast_reader: {'enable': True} fill_values: [('', '0')] quotechar: \"'\" strict_names: True\nReader:FastBasic delimiter: ' ' fast_reader: {'enable': True} fill_values: [('', '0')] quotechar: '\"' strict_names: True\nReader:FastBasic delimiter: ' ' fast_reader: {'enable': True} fill_values: [('', '0')] quotechar: \"'\" strict_names: True\nReader:FastBasic delimiter: '\\\\s' fast_reader: {'enable': True} fill_values: [('', '0')] quotechar: '\"' strict_names: True\nReader:FastBasic delimiter: '\\\\s' fast_reader: {'enable': True} fill_values: [('', '0')] quotechar: \"'\" strict_names: True\nReader:Basic delimiter: '|' fast_reader: {'enable': True} fill_values: [('', '0')] quotechar: '\"' strict_names: True\nReader:Basic delimiter: '|' fast_reader: {'enable': True} fill_values: [('', '0')] quotechar: \"'\" strict_names: True\nReader:Basic delimiter: ',' fast_reader: {'enable': True} fill_values: [('', '0')] quotechar: '\"' strict_names: True\nReader:Basic delimiter: ',' fast_reader: {'enable': True} fill_values: [('', '0')] quotechar: \"'\" strict_names: True\nReader:Basic delimiter: ' ' fast_reader: {'enable': True} fill_values: [('', '0')] quotechar: '\"' strict_names: True\nReader:Basic delimiter: ' ' fast_reader: {'enable': True} fill_values: [('', '0')] quotechar: \"'\" strict_names: True\nReader:Basic delimiter: '\\\\s' fast_reader: {'enable': True} fill_values: [('', '0')] quotechar: '\"' strict_names: True\nReader:Basic delimiter: '\\\\s' fast_reader: {'enable': True} fill_values: [('', '0')] quotechar: \"'\" strict_names: True\nReader:FastNoHeader delimiter: '|' fast_reader: {'enable': True} fill_values: [('', '0')] quotechar: '\"' strict_names: True\nReader:FastNoHeader delimiter: '|' fast_reader: {'enable': True} fill_values: [('', '0')] quotechar: \"'\" strict_names: True\nReader:FastNoHeader delimiter: ',' fast_reader: {'enable': True} fill_values: [('', '0')] quotechar: '\"' strict_names: True\nReader:FastNoHeader delimiter: ',' fast_reader: {'enable': True} fill_values: [('', '0')] quotechar: \"'\" strict_names: True\nReader:FastNoHeader delimiter: ' ' fast_reader: {'enable': True} fill_values: [('', '0')] quotechar: '\"' strict_names: True\nReader:FastNoHeader delimiter: ' ' fast_reader: {'enable': True} fill_values: [('', '0')] quotechar: \"'\" strict_names: True\nReader:FastNoHeader delimiter: '\\\\s' fast_reader: {'enable': True} fill_values: [('', '0')] quotechar: '\"' strict_names: True\nReader:FastNoHeader delimiter: '\\\\s' fast_reader: {'enable': True} fill_values: [('', '0')] quotechar: \"'\" strict_names: True\nReader:NoHeader delimiter: '|' fast_reader: {'enable': True} fill_values: [('', '0')] quotechar: '\"' strict_names: True\nReader:NoHeader delimiter: '|' fast_reader: {'enable': True} fill_values: [('', '0')] quotechar: \"'\" strict_names: True\nReader:NoHeader delimiter: ',' fast_reader: {'enable': True} fill_values: [('', '0')] quotechar: '\"' strict_names: True\nReader:NoHeader delimiter: ',' fast_reader: {'enable': True} fill_values: [('', '0')] quotechar: \"'\" strict_names: True\nReader:NoHeader delimiter: ' ' fast_reader: {'enable': True} fill_values: [('', '0')] quotechar: '\"' strict_names: True\nReader:NoHeader delimiter: ' ' fast_reader: {'enable': True} fill_values: [('', '0')] quotechar: \"'\" strict_names: True\nReader:NoHeader delimiter: '\\\\s' fast_reader: {'enable': True} fill_values: [('', '0')] quotechar: '\"' strict_names: True\nReader:NoHeader delimiter: '\\\\s' fast_reader: {'enable': True} fill_values: [('', '0')] quotechar: \"'\" strict_names: True\nReader:Basic fast_reader: {'enable': True} fill_values: [('', '0')]\n\n************************************************************************\n** ERROR: Unable to guess table format with the guesses listed above. **\n**                                                                    **\n** To figure out why the table did not read, use guess=False and      **\n** fast_reader=False, along with any appropriate arguments to read(). **\n** In particular specify the format and any known attributes like the **\n** delimiter.                                                         **\n************************************************************************"
     ]
    }
   ],
   "source": [
    "t = Table.read('MPhys/gpz_files/jwst_TRAIN_2.cat', format='ascii')"
   ]
  },
  {
   "cell_type": "code",
   "execution_count": null,
   "id": "9697003d",
   "metadata": {},
   "outputs": [],
   "source": []
  }
 ],
 "metadata": {
  "kernelspec": {
   "display_name": "py3",
   "language": "python",
   "name": "py3"
  },
  "language_info": {
   "codemirror_mode": {
    "name": "ipython",
    "version": 3
   },
   "file_extension": ".py",
   "mimetype": "text/x-python",
   "name": "python",
   "nbconvert_exporter": "python",
   "pygments_lexer": "ipython3",
   "version": "3.11.5"
  }
 },
 "nbformat": 4,
 "nbformat_minor": 5
}
