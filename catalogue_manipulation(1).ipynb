{
 "cells": [
  {
   "cell_type": "code",
   "execution_count": null,
   "id": "2b6e314b",
   "metadata": {},
   "outputs": [],
   "source": [
    "pip install wget"
   ]
  },
  {
   "cell_type": "code",
   "execution_count": null,
   "id": "1101b7d8",
   "metadata": {},
   "outputs": [],
   "source": [
    "import astropy\n",
    "from astropy.table import Table,vstack, Column\n",
    "from subprocess import call\n",
    "import subprocess\n",
    "from astropy.io import fits\n",
    "import numpy as np\n",
    "import wget\n",
    "import matplotlib.pyplot as plt\n",
    "from gpz_pype import utilities\n",
    "from gpz_pype.utilities import Params, set_gpz_path, basic_lupt_soft, flux_to_lupt\n",
    "import astropy.units as u\n",
    "from numpy.ma import masked\n",
    "from astropy.coordinates import SkyCoord\n",
    "from astropy.coordinates import match_coordinates_sky\n",
    "\n",
    "from os import listdir\n",
    "from os.path import isfile, join"
   ]
  },
  {
   "cell_type": "code",
   "execution_count": null,
   "id": "2c713599",
   "metadata": {},
   "outputs": [],
   "source": [
    "#jwst fields\n",
    "fields= ['gds','ngdeep','primer-cosmos-east','primer-cosmos-west','primer-uds-north','abell2744clu','abells1063','elgordo','j112716p4228','macs0647','rxj2129','smacs0723','sunrise']"
   ]
  },
  {
   "cell_type": "markdown",
   "id": "f43281fb",
   "metadata": {},
   "source": [
    "# Download Field Files\n"
   ]
  },
  {
   "cell_type": "code",
   "execution_count": null,
   "id": "6fb0bf34",
   "metadata": {},
   "outputs": [],
   "source": [
    "url=f'https://s3.amazonaws.com/grizli-v2/JwstMosaics/v7/abell2744clu-grizli-v7.2-fix.eazypy.zout.fits'\n",
    "filename=wget.download(url)\n"
   ]
  },
  {
   "cell_type": "code",
   "execution_count": null,
   "id": "febcca0c",
   "metadata": {},
   "outputs": [],
   "source": [
    "hdul= fits.open('gdn-grizli-v7.0_phot.fits', memmap=True,formats='fits')\n",
    "t = Table.read(hdul)"
   ]
  },
  {
   "cell_type": "code",
   "execution_count": null,
   "id": "81143955",
   "metadata": {},
   "outputs": [],
   "source": [
    "jwst_merge= Table.read('MPhys/cut_flux_photometry_only.fits',format='fits')\n"
   ]
  },
  {
   "cell_type": "markdown",
   "id": "bf45395a",
   "metadata": {},
   "source": [
    "# Initial Catalogue Making - Run Once\n"
   ]
  },
  {
   "cell_type": "code",
   "execution_count": null,
   "id": "453a7c81",
   "metadata": {},
   "outputs": [],
   "source": [
    "###INITIAL CATALOGUE MAKING\n",
    "hdu_list = fits.open('ceers-full-grizli-v7.0_phot.fits', memmap=True,formats='fits')\n",
    "ceers = Table(hdu_list[1].data)\n",
    "hdu_list.close()\n",
    "\n",
    "hdu_list = fits.open('gdn-grizli-v7.0_phot.fits', memmap=True,formats='fits')\n",
    "gdn= Table(hdu_list[1].data)\n",
    "hdu_list.close()\n",
    "\n",
    "hdu_list = fits.open('gds-grizli-v7.0_phot.fits', memmap=True,formats='fits')\n",
    "gds = Table(hdu_list[1].data)\n",
    "hdu_list.close()\n",
    "\n",
    "hdu_list = fits.open('ngdeep-grizli-v7.0_phot.fits', memmap=True,formats='fits')\n",
    "ngdeep = Table(hdu_list[1].data)\n",
    "hdu_list.close()\n",
    "\n",
    "hdu_list = fits.open('primer-cosmos-east-grizli-v7.0_phot.fits', memmap=True,formats='fits')\n",
    "cosmos_east = Table(hdu_list[1].data)\n",
    "hdu_list.close()\n",
    "\n",
    "hdu_list = fits.open('primer-cosmos-west-grizli-v7.0_phot.fits', memmap=True,formats='fits')\n",
    "cosmos_west = Table(hdu_list[1].data)\n",
    "hdu_list.close()\n",
    "\n",
    "hdu_list = fits.open('primer-uds-south-grizli-v7.0_phot.fits', memmap=True,formats='fits')\n",
    "udss = Table(hdu_list[1].data)\n",
    "hdu_list.close()\n",
    "\n",
    "hdu_list = fits.open('primer-uds-north-grizli-v7.0_phot.fits', memmap=True,formats='fits')\n",
    "udsn = Table(hdu_list[1].data)\n",
    "hdu_list.close()"
   ]
  },
  {
   "cell_type": "code",
   "execution_count": null,
   "id": "f3c72b91",
   "metadata": {},
   "outputs": [],
   "source": [
    "#ADDING FIELDS TO CATALOGUE - RUN BOTH CELLS IF STARTING FROM SCRATCH\n",
    "hdu_list = fits.open('abell2744clu-grizli-v7.0_phot.fits', memmap=True,formats='fits')\n",
    "abell2744 = Table(hdu_list[1].data)\n",
    "hdu_list.close()\n",
    "\n",
    "hdu_list = fits.open('abells1063-grizli-v7.0_phot.fits', memmap=True,formats='fits')\n",
    "abells1063= Table(hdu_list[1].data)\n",
    "hdu_list.close()\n",
    "\n",
    "hdu_list = fits.open('elgordo-grizli-v7.0_phot.fits', memmap=True,formats='fits')\n",
    "elgordo = Table(hdu_list[1].data)\n",
    "hdu_list.close()\n",
    "\n",
    "hdu_list = fits.open('j112716p4228-grizli-v7.0_phot.fits', memmap=True,formats='fits')\n",
    "j_field = Table(hdu_list[1].data)\n",
    "hdu_list.close()\n",
    "\n",
    "hdu_list = fits.open('macs0647-grizli-v7.0_phot.fits', memmap=True,formats='fits')\n",
    "macs = Table(hdu_list[1].data)\n",
    "hdu_list.close()\n",
    "\n",
    "hdu_list = fits.open('rxj2129-grizli-v7.0_phot.fits', memmap=True,formats='fits')\n",
    "rxj = Table(hdu_list[1].data)\n",
    "hdu_list.close()\n",
    "\n",
    "hdu_list = fits.open('smacs0723-grizli-v7.0_phot.fits', memmap=True,formats='fits')\n",
    "smacs = Table(hdu_list[1].data)\n",
    "hdu_list.close()\n",
    "\n",
    "hdu_list = fits.open('sunrise-grizli-v7.0_phot.fits', memmap=True,formats='fits')\n",
    "sunrise = Table(hdu_list[1].data)\n",
    "hdu_list.close()"
   ]
  },
  {
   "cell_type": "code",
   "execution_count": null,
   "id": "1080d525",
   "metadata": {},
   "outputs": [],
   "source": [
    "abell2744.add_column('abells2744clu', name='field', index=0)\n",
    "abells1063.add_column('abells1063', name='field', index=0)\n",
    "elgordo.add_column('elgordo', name='field', index=0)\n",
    "j_field.add_column('j112716p4228', name='field', index=0)\n",
    "macs.add_column('macs0647', name='field', index=0)\n",
    "rxj.add_column('rxj2129', name='field', index=0)\n",
    "smacs.add_column('smacs0723', name='field', index=0)\n",
    "sunrise.add_column('sunrise', name='field', index=0)"
   ]
  },
  {
   "cell_type": "code",
   "execution_count": null,
   "id": "526d2dc0",
   "metadata": {},
   "outputs": [],
   "source": [
    "ceers.add_column('ceers', name='field', index=0)\n",
    "gdn.add_column('gdn', name='field', index=0)\n",
    "gds.add_column('gds', name='field', index=0)\n",
    "ngdeep.add_column('ngdeep', name='field', index=0)\n",
    "cosmos_east.add_column('cosmos_east', name='field', index=0)\n",
    "cosmos_west.add_column('cosmos_west', name='field', index=0)\n",
    "udsn.add_column('udsn', name='field', index=0)\n",
    "udss.add_column('udss', name='field', index=0)"
   ]
  },
  {
   "cell_type": "code",
   "execution_count": null,
   "id": "a5b835f9",
   "metadata": {},
   "outputs": [],
   "source": [
    "main = vstack([ceers,gdn,gds,ngdeep,cosmos_east,cosmos_west,udsn,udss])"
   ]
  },
  {
   "cell_type": "code",
   "execution_count": null,
   "id": "82d69fe6",
   "metadata": {},
   "outputs": [],
   "source": [
    "side = vstack([abell2744,abells1063,elgordo,j_field,macs,rxj,smacs,sunrise])"
   ]
  },
  {
   "cell_type": "code",
   "execution_count": null,
   "id": "0dff1264",
   "metadata": {},
   "outputs": [],
   "source": [
    "main.write('MPhys/original_jwst_data/main_merged.fits',format='fits',overwrite=True)"
   ]
  },
  {
   "cell_type": "code",
   "execution_count": null,
   "id": "07260a76",
   "metadata": {},
   "outputs": [],
   "source": [
    "side.write('MPhys/original_jwst_data/other_merged.fits',format='fits',overwrite=True)"
   ]
  },
  {
   "cell_type": "code",
   "execution_count": null,
   "id": "fd7e89b7",
   "metadata": {},
   "outputs": [],
   "source": [
    "all_merge = vstack([m4,side])"
   ]
  },
  {
   "cell_type": "code",
   "execution_count": null,
   "id": "a3c6e106",
   "metadata": {},
   "outputs": [],
   "source": [
    "jwst_merge.write('MPhys/original_jwst_data/all_merged_ab.fits',format='fits',overwrite=True)"
   ]
  },
  {
   "cell_type": "code",
   "execution_count": null,
   "id": "7859c031",
   "metadata": {},
   "outputs": [],
   "source": [
    "jwst_merge = Table.read('MPhys/original_jwst_data/all_merged_ab.fits',format ='fits')"
   ]
  },
  {
   "cell_type": "markdown",
   "id": "55f09942",
   "metadata": {},
   "source": [
    "## CANDELS"
   ]
  },
  {
   "cell_type": "code",
   "execution_count": null,
   "id": "ae5371ff",
   "metadata": {},
   "outputs": [],
   "source": [
    "cosmos = Table.read('MPhys/CANDELS/CANDELS.COSMOS.F160W.Processed.photz.fits',format='fits')\n",
    "egs = Table.read('MPhys/CANDELS/CANDELS.EGS.F160W.Processed.photz.fits',format='fits')\n",
    "uds_candels = Table.read('MPhys/CANDELS/CANDELS.UDS.F160W.Processed.photz.fits',format='fits')\n",
    "gds_candels = Table.read('MPhys/CANDELS/CANDELS.GOODSS.F160W.Processed.photz.fits',format='fits')\n",
    "gdn_candels = Table.read('MPhys/CANDELS/CANDELS.GOODSN.F160W.Processed.photz.fits',format='fits')"
   ]
  },
  {
   "cell_type": "code",
   "execution_count": null,
   "id": "21ffa68d",
   "metadata": {},
   "outputs": [],
   "source": [
    "candels = vstack([cosmos,egs,uds_candels,gds_candels,gdn_candels])"
   ]
  },
  {
   "cell_type": "code",
   "execution_count": null,
   "id": "557ae850",
   "metadata": {},
   "outputs": [],
   "source": [
    "candels.write('MPhys/CANDELS/candels_combined.fits',format='fits')"
   ]
  },
  {
   "cell_type": "markdown",
   "id": "71a85fab",
   "metadata": {},
   "source": [
    "# Convert to Luptiudes for Each Field\n"
   ]
  },
  {
   "cell_type": "code",
   "execution_count": null,
   "id": "7a2800e5",
   "metadata": {},
   "outputs": [],
   "source": [
    "field=gds\n"
   ]
  },
  {
   "cell_type": "code",
   "execution_count": null,
   "id": "1915ac57",
   "metadata": {},
   "outputs": [],
   "source": [
    "filters0 = [col.split('_')[0] for col in field.colnames if col.endswith('flux_aper_0')]\n",
    "filters0=filters0[1:]\n",
    "filters1 = [col.split('_')[0] for col in field.colnames if col.endswith('flux_aper_1')]\n",
    "filters1=filters1[1:]\n",
    "\n",
    "filters2 = [col.split('_')[0] for col in field.colnames if col.endswith('flux_aper_2')]\n",
    "filters2=filters2[1:]\n",
    "\n",
    "filters3 = [col.split('_')[0] for col in field.colnames if col.endswith('flux_aper_3')]\n",
    "filters3=filters3[1:]\n",
    "\n"
   ]
  },
  {
   "cell_type": "code",
   "execution_count": null,
   "id": "70cf70a2",
   "metadata": {},
   "outputs": [],
   "source": [
    "\n",
    "b_arr0 = [basic_lupt_soft(field[f'{filt}_flux_aper_0'], field[f'{filt}_fluxerr_aper_0']) for filt in filters0] \n",
    "b_arr1 = [basic_lupt_soft(field[f'{filt}_flux_aper_1'], field[f'{filt}_fluxerr_aper_1']) for filt in filters1] \n",
    "b_arr2 = [basic_lupt_soft(field[f'{filt}_flux_aper_2'], field[f'{filt}_fluxerr_aper_2']) for filt in filters2] \n",
    "b_arr3 = [basic_lupt_soft(field[f'{filt}_flux_aper_3'], field[f'{filt}_fluxerr_aper_3']) for filt in filters3] "
   ]
  },
  {
   "cell_type": "code",
   "execution_count": null,
   "id": "d1184a91",
   "metadata": {},
   "outputs": [],
   "source": [
    "i=2\n",
    "lupt_cols=field['field','id','ra','dec']\n",
    "\n",
    "for filt,b in zip(filters0,b_arr0):\n",
    "    lupt,lupterr = flux_to_lupt(field[f'{filt}_flux_aper_0'],field[f'{filt}_fluxerr_aper_0'],b)\n",
    "    lupt_cols[f'lupt_{filt}_aper0']=lupt\n",
    "    lupt_cols[f'lupterr_{filt}_aper0']=lupterr\n",
    "for filt,b in zip(filters1,b_arr1):\n",
    "    lupt,lupterr = flux_to_lupt(field[f'{filt}_flux_aper_1'],field[f'{filt}_fluxerr_aper_1'],b)\n",
    "    lupt_cols[f'lupt_{filt}_aper1']=lupt\n",
    "    lupt_cols[f'lupterr_{filt}_aper1']=lupterr\n",
    "for filt,b in zip(filters2,b_arr2):\n",
    "    lupt,lupterr = flux_to_lupt(field[f'{filt}_flux_aper_2'],field[f'{filt}_fluxerr_aper_2'],b)\n",
    "    lupt_cols[f'lupt_{filt}_aper2']=lupt\n",
    "    lupt_cols[f'lupterr_{filt}_aper2']=lupterr\n",
    "for filt,b in zip(filters3,b_arr3):\n",
    "    lupt,lupterr = flux_to_lupt(field[f'{filt}_flux_aper_3'],field[f'{filt}_fluxerr_aper_3'],b)\n",
    "    lupt_cols[f'lupt_{filt}_aper3']=lupt\n",
    "    lupt_cols[f'lupterr_{filt}_aper3']=lupterr\n",
    "\n",
    "lupt_cols.write(f'MPhys/catalogues/{fields[i]}_lupts.fits',format='fits', overwrite=True)"
   ]
  },
  {
   "cell_type": "code",
   "execution_count": null,
   "id": "ed312191",
   "metadata": {},
   "outputs": [],
   "source": [
    "t = Table.read('MPhys/catalogues/gds_lupts.fits',format ='fits')\n",
    "t"
   ]
  },
  {
   "cell_type": "code",
   "execution_count": null,
   "id": "98db9049",
   "metadata": {},
   "outputs": [],
   "source": []
  },
  {
   "cell_type": "code",
   "execution_count": null,
   "id": "40c577f9",
   "metadata": {},
   "outputs": [],
   "source": [
    "lup_ceers=Table.read('MPhys/catalogues/ceers-full_lupts.fits',format='fits')\n",
    "lup_gds=Table.read('MPhys/catalogues/gds_lupts.fits',format='fits')\n",
    "lup_gdn=Table.read('MPhys/catalogues/gdn_lupts.fits',format='fits')\n",
    "lup_ngdeep=Table.read('MPhys/catalogues/ngdeep_lupts.fits',format='fits')\n",
    "lup_udss=Table.read('MPhys/catalogues/primer-uds-south_lupts.fits',format='fits')\n",
    "lup_udsn=Table.read('MPhys/catalogues/primer-uds-north_lupts.fits',format='fits')\n",
    "lup_cosmos_east=Table.read('MPhys/catalogues/primer-cosmos-east_lupts.fits',format='fits')\n",
    "lup_cosmos_west=Table.read('MPhys/catalogues/primer-cosmos-west_lupts.fits',format='fits')"
   ]
  },
  {
   "cell_type": "code",
   "execution_count": null,
   "id": "83e37b52",
   "metadata": {},
   "outputs": [],
   "source": [
    "lup_abell2744clu = Table.read('MPhys/catalogues/abell2744clu_lupts.fits',format='fits')\n",
    "lup_abells1063=Table.read('MPhys/catalogues/abells1063_lupts.fits',format='fits')\n",
    "lup_elgordo=Table.read('MPhys/catalogues/elgordo_lupts.fits',format='fits')\n",
    "lup_j112716p4228=Table.read('MPhys/catalogues/j112716p4228_lupts.fits',format='fits')\n",
    "lup_macs0647=Table.read('MPhys/catalogues/macs0647_lupts.fits',format='fits')\n",
    "lup_rxj2129=Table.read('MPhys/catalogues/rxj2129_lupts.fits',format='fits')\n",
    "lup_smacs0723=Table.read('MPhys/catalogues/smacs0723_lupts.fits',format='fits')\n",
    "lup_sunrise=Table.read('MPhys/catalogues/sunrise_lupts.fits',format='fits')"
   ]
  },
  {
   "cell_type": "code",
   "execution_count": null,
   "id": "06489fad",
   "metadata": {},
   "outputs": [],
   "source": [
    "lup_con =vstack([lup_ceers,lup_gds,lup_gdn,lup_ngdeep,lup_udss,lup_udsn,lup_cosmos_east,lup_cosmos_west,lup_abell2744clu])\n"
   ]
  },
  {
   "cell_type": "code",
   "execution_count": null,
   "id": "df3daf73",
   "metadata": {},
   "outputs": [],
   "source": [
    "lup_con_small = vstack([lup_abell2744clu,lup_abells1063,lup_elgordo,lup_j112716p4228,lup_macs0647,lup_rxj2129,lup_smacs0723,lup_sunrise])"
   ]
  },
  {
   "cell_type": "code",
   "execution_count": null,
   "id": "31e01e4a",
   "metadata": {},
   "outputs": [],
   "source": [
    "lup_total = vstack([lup_con,lup_con_small])"
   ]
  },
  {
   "cell_type": "code",
   "execution_count": null,
   "id": "a528b40f",
   "metadata": {},
   "outputs": [],
   "source": [
    "lup_total.write('luptitudes_all_jwst.fits', format='fits', overwrite=True)"
   ]
  },
  {
   "cell_type": "code",
   "execution_count": null,
   "id": "1548fcdc",
   "metadata": {},
   "outputs": [],
   "source": [
    "t = Table.read('luptitudes_all_jwst.fits', format='fits')\n",
    "t.add_column(np.nan, name='z_spec',index =4)"
   ]
  },
  {
   "cell_type": "code",
   "execution_count": null,
   "id": "bd76fe06",
   "metadata": {},
   "outputs": [],
   "source": [
    "print(len(t))\n",
    "new_id = np.arange(0,len(t),1)\n",
    "print(new_id)\n",
    "t['id']= new_id"
   ]
  },
  {
   "cell_type": "code",
   "execution_count": null,
   "id": "99ecc79e",
   "metadata": {},
   "outputs": [],
   "source": [
    "t"
   ]
  },
  {
   "cell_type": "markdown",
   "id": "0990f7fa",
   "metadata": {},
   "source": [
    "\n",
    "# Skymatching Catalogues\n",
    "Matching the astrophysics coordinates (RA, Dec) of each source in different fits files to then assign the spectroscopic redshift to the photometry"
   ]
  },
  {
   "cell_type": "markdown",
   "id": "0a5bcc85",
   "metadata": {},
   "source": [
    "### JWST match to CANDELS"
   ]
  },
  {
   "cell_type": "code",
   "execution_count": null,
   "id": "70d88f8d",
   "metadata": {},
   "outputs": [],
   "source": [
    "candels=Table.read('MPhys/candels_combined.fits',format='fits')\n",
    "#jwst_merge=Table.read('MPhys/original_jwst_data/all_merged_ab.fits',format = 'fits')\n",
    "\n"
   ]
  },
  {
   "cell_type": "code",
   "execution_count": null,
   "id": "a25a79a2",
   "metadata": {},
   "outputs": [],
   "source": [
    "#matching jwst and candels\n",
    "ra1=jwst_merge['ra']\n",
    "\n",
    "dec1=jwst_merge['dec']\n",
    "ra2=candels['RA']\n",
    "dec2=candels['DEC']\n",
    "print(len(ra2))"
   ]
  },
  {
   "cell_type": "code",
   "execution_count": null,
   "id": "9c45b4ad",
   "metadata": {},
   "outputs": [],
   "source": [
    "jwst_cat = SkyCoord(ra=ra1*u.degree, dec=dec1*u.degree)#dawn\n",
    "candels_cat = SkyCoord(ra=ra2*u.degree, dec=dec2*u.degree)#candels\n"
   ]
  },
  {
   "cell_type": "code",
   "execution_count": null,
   "id": "61680483",
   "metadata": {},
   "outputs": [],
   "source": [
    "max_sep = 0.1 * u.arcsec\n",
    "idx, d2d, d3d = jwst_cat.match_to_catalog_sky(candels_cat)#catalog = candels information\n",
    "idx_jwst, d2d_jwst, d3d_jwst = candels_cat.match_to_catalog_sky(jwst_cat)\n",
    "#idx, d2d, d3d = jwst_cat.match_to_catalog_sky(candels_cat)\n",
    "print(len(idx_jwst))"
   ]
  },
  {
   "cell_type": "code",
   "execution_count": null,
   "id": "b6260ae2",
   "metadata": {},
   "outputs": [],
   "source": [
    "jwst_merge.add_column(np.nan, name= 'z_spec',index=4)"
   ]
  },
  {
   "cell_type": "code",
   "execution_count": null,
   "id": "2c640550",
   "metadata": {},
   "outputs": [],
   "source": [
    "c_index=[]\n",
    "j_index=[]\n",
    "for i in range(len(candels)):\n",
    "    if abs(ra2[i]-ra1[idx_jwst[i]])<0.1:\n",
    "        c_index.append(i)\n",
    "        j_index.append(idx_jwst[i])\n",
    "        jwst_merge['z_spec'][idx_jwst[i]]=candels['z_spec'][i]\n"
   ]
  },
  {
   "cell_type": "markdown",
   "id": "26207506",
   "metadata": {},
   "source": [
    "### JWST match to DAWN"
   ]
  },
  {
   "cell_type": "code",
   "execution_count": null,
   "id": "fa5cae57",
   "metadata": {},
   "outputs": [],
   "source": [
    "dawn = Table.read('MPhys/dja_nirspec_msa_extractions.csv',format='csv')"
   ]
  },
  {
   "cell_type": "code",
   "execution_count": null,
   "id": "ba6f4be4",
   "metadata": {},
   "outputs": [],
   "source": [
    "grade_good = np.zeros(len(dawn))\n",
    "for i in range(len(dawn)):\n",
    "    if dawn['grade'][i]==3:\n",
    "        grade_good[i]=1\n",
    "        \n",
    "dawn = dawn[np.array(grade_good,dtype=bool)]"
   ]
  },
  {
   "cell_type": "code",
   "execution_count": null,
   "id": "ced0190b",
   "metadata": {},
   "outputs": [],
   "source": [
    "\n",
    "ra3 = jwst_merge['ra']\n",
    "dec3=jwst_merge['dec']\n",
    "ra4=dawn['ra']\n",
    "dec4=dawn['dec']\n",
    "j_merge_cat = SkyCoord(ra=ra4*u.degree, dec=dec4*u.degree)\n",
    "dawn_cat = SkyCoord(ra=ra4*u.degree, dec=dec4*u.degree)"
   ]
  },
  {
   "cell_type": "markdown",
   "id": "cbdfaa1e",
   "metadata": {},
   "source": [
    "# EXCELS"
   ]
  },
  {
   "cell_type": "code",
   "execution_count": null,
   "id": "61f9bc5d",
   "metadata": {},
   "outputs": [],
   "source": [
    "idx_all, d2d_all, d3d_all = dawn_cat.match_to_catalog_sky(j_merge_cat)"
   ]
  },
  {
   "cell_type": "code",
   "execution_count": null,
   "id": "d35e41cf",
   "metadata": {},
   "outputs": [],
   "source": [
    "\n",
    "for i in range(len(dawn)):\n",
    "    if abs(ra4[i]-ra3[idx_all[i]])<0.1:\n",
    "        jwst_merge['z_spec'][idx_all[i]]=dawn['z'][i]\n"
   ]
  },
  {
   "cell_type": "code",
   "execution_count": null,
   "id": "8fe2076f",
   "metadata": {},
   "outputs": [],
   "source": [
    "excels = Table.read(filename,format='ascii') #using filename instead of file as data is not public yet\n",
    "flag = np.zeros(len(excels))\n",
    "for i in range(len(excels)):\n",
    "    if excels['zflag_excels_acc'][i]==3 or excels['zflag_excels_acc'][i]==4 or excels['zflag_excels_acc'][i]==9:\n",
    "        flag[i]=1\n",
    "excels = excels[np.array(flag,dtype=bool)]"
   ]
  },
  {
   "cell_type": "code",
   "execution_count": null,
   "id": "480a48cb",
   "metadata": {},
   "outputs": [],
   "source": [
    "jwst_merge['z_spec'][jwst_merge['z_spec']<=0]=np.ma.masked"
   ]
  },
  {
   "cell_type": "code",
   "execution_count": null,
   "id": "09672991",
   "metadata": {},
   "outputs": [],
   "source": [
    "jwst_merge.write('MPhys/original_jwst_data/final_skymatched_catalogue.fits',format = 'fits',overwrite=True)"
   ]
  },
  {
   "cell_type": "markdown",
   "id": "9efc22cd",
   "metadata": {},
   "source": [
    "# Filter Choices for Training Catalogue\n",
    "Need to choose common filters to construct training catalogue for GPz++\n"
   ]
  },
  {
   "cell_type": "code",
   "execution_count": null,
   "id": "740f5e86",
   "metadata": {},
   "outputs": [],
   "source": [
    "\n",
    "train = Table.read('MPhys/gpz_catalogues/final_skymatched_abmag_catalogue.fits',format = 'fits')\n"
   ]
  },
  {
   "cell_type": "code",
   "execution_count": null,
   "id": "7c6a4b86",
   "metadata": {},
   "outputs": [],
   "source": [
    "#Full catalogue filter names \n",
    "filters_1 = [col.split('_')[1] for col in train.colnames if col.endswith('_aper1')]\n"
   ]
  },
  {
   "cell_type": "code",
   "execution_count": null,
   "id": "6432a237",
   "metadata": {},
   "outputs": [],
   "source": [
    "#### FILTER CHOICES\n",
    "bc= ['f115w-clear','f200w-clear','f356w-clear','f444w-clear']\n",
    "\n",
    "#swap f115w for f814w,f606w,f435w,f125w,f140w,f160w,f150w\n",
    "c1 =['f814w','f200w-clear','f356w-clear','f444w-clear']\n",
    "c2 =['f606w','f200w-clear','f356w-clear','f444w-clear']\n",
    "c3 =['f435w','f200w-clear','f356w-clear','f444w-clear']\n",
    "c4 =['f125w','f200w-clear','f356w-clear','f444w-clear']\n",
    "c5 =['f140w','f200w-clear','f356w-clear','f444w-clear']\n",
    "c6 =['f160w','f200w-clear','f356w-clear','f444w-clear']\n",
    "c7 =['f150w-clear','f200w-clear','f356w-clear','f444w-clear']\n",
    "\n",
    "#swap f444w for f410m\n",
    "c9= ['f115w-clear','f200w-clear','f356w-clear','f410m-clear']\n",
    "#other choices \n",
    "c10=['f115w-clear','f606w','f150w-clear','f444w-clear']\n",
    "bc_extra = ['f090w-clear','f115w-clear','f200w-clear','f356w-clear','f444w-clear']\n",
    "\n",
    "#order of swaps\n",
    "swap= ['bc','f814w','f606w','f435w','f125w','f140w','f160w','f150w-clear','f410m-clear','ic','f090w_inc']\n"
   ]
  },
  {
   "cell_type": "code",
   "execution_count": null,
   "id": "9ac64b3b",
   "metadata": {},
   "outputs": [],
   "source": [
    "######change this to make new catalogue of filters and can use aperture sizes 0-4\n",
    "aper=1\n",
    "#aper_size=1\n",
    "\n",
    "choice=bc\n",
    "num = 0\n",
    "\n",
    "print(swap[num])\n",
    "lup_train = train['field','id','ra','dec','z_spec']\n",
    "lup_train[f'lupt_{choice[0]}']=train[f'lupt_{choice[0]}_aper{aper}']\n",
    "lup_train[f'lupterr_{choice[0]}']=train[f'lupterr_{choice[0]}_aper{aper}']\n",
    "lup_train[f'lupt_{choice[1]}']=train[f'lupt_{choice[1]}_aper{aper}']\n",
    "lup_train[f'lupterr_{choice[1]}']=train[f'lupterr_{choice[1]}_aper{aper}']\n",
    "lup_train[f'lupt_{choice[2]}']=train[f'lupt_{choice[2]}_aper{aper}']\n",
    "lup_train[f'lupterr_{choice[2]}']=train[f'lupterr_{choice[2]}_aper{aper}']\n",
    "lup_train[f'lupt_{choice[3]}']=train[f'lupt_{choice[3]}_aper{aper}']\n",
    "lup_train[f'lupterr_{choice[3]}']=train[f'lupterr_{choice[3]}_aper{aper}']\n",
    "\n",
    "#include if using more than 4 filters\n",
    "\n",
    "#lup_train[f'lupt_{choice[4]}']=train[f'lupt_{choice[4]}_aper{aper}']\n",
    "#lup_train[f'lupterr_{choice[4]}']=train[f'lupterr_{choice[4]}_aper{aper}']\n",
    "\n",
    "#Adds size column \n",
    "#lup_train[f'lupt_{choice[3]}_size']=train[f'lupt_{choice[3]}_aper{aper_size}']/train[f'lupt_{choice[3]}_aper{aper}']\n",
    "#lup_train[f'lupterr_{choice[3]}_size']=train[f'lupterr_{choice[3]}_aper{aper_size}']/train[f'lupterr_{choice[3]}_aper{aper}']"
   ]
  },
  {
   "cell_type": "code",
   "execution_count": null,
   "id": "673e2dcd",
   "metadata": {},
   "outputs": [],
   "source": [
    "#removes row if cell is masked\n",
    "#repeated for each filter to ensure final catalogue has full photometry\n",
    "\n",
    "f1=[]\n",
    "for i in range(len(lup_train)):\n",
    "    f1.append(np.ma.is_masked(lup_train[f'lupt_{choice[0]}'][i]))\n",
    "f1_inv=np.array(np.invert(f1))\n",
    "f1_cat =lup_train[f1_inv*(np.ma.is_masked(lup_train[f'lupt_{choice[0]}']) == True)] "
   ]
  },
  {
   "cell_type": "code",
   "execution_count": null,
   "id": "18d86961",
   "metadata": {},
   "outputs": [],
   "source": [
    "\n",
    "f2=[]\n",
    "for i in range(len(f1_cat)):\n",
    "    f2.append(np.ma.is_masked(f1_cat[f'lupt_{choice[1]}'][i]))\n",
    "f2_inv=np.array(np.invert(f2))\n",
    "f2_cat =f1_cat[f2_inv*(np.ma.is_masked(f1_cat[f'lupt_{choice[1]}']) ==True)] "
   ]
  },
  {
   "cell_type": "code",
   "execution_count": null,
   "id": "cf8378a1",
   "metadata": {},
   "outputs": [],
   "source": [
    "\n",
    "f3=[]\n",
    "for i in range(len(f2_cat)):\n",
    "    f3.append(np.ma.is_masked(f2_cat[f'lupt_{choice[2]}'][i]))\n",
    "f3_inv=np.array(np.invert(f3))\n",
    "f3_cat =f2_cat[f3_inv*(np.ma.is_masked(f2_cat[f'lupt_{choice[2]}']) == True)] "
   ]
  },
  {
   "cell_type": "code",
   "execution_count": null,
   "id": "852aec0f",
   "metadata": {},
   "outputs": [],
   "source": [
    "\n",
    "f4=[]\n",
    "for i in range(len(f3_cat)):\n",
    "    f4.append(np.ma.is_masked(f3_cat[f'lupt_{choice[3]}'][i]))\n",
    "f4_inv=np.array(np.invert(f4))\n",
    "f4_cat =f3_cat[f4_inv*(np.ma.is_masked(f3_cat[f'lupt_{choice[3]}']) == True)] #false idk why but works \n"
   ]
  },
  {
   "cell_type": "code",
   "execution_count": null,
   "id": "917b926c",
   "metadata": {},
   "outputs": [],
   "source": [
    "#USE IF USING 5TH FILTER\n",
    "f5=[]\n",
    "for i in range(len(f4_cat)):\n",
    "    f5.append(np.ma.is_masked(f4_cat[f'lupt_{choice[4]}'][i]))\n",
    "f5_inv=np.array(np.invert(f5))\n",
    "f5_cat =f4_cat[f5_inv*(np.ma.is_masked(f4_cat[f'lupterr_{choice[4]}']) ==True)] "
   ]
  },
  {
   "cell_type": "code",
   "execution_count": null,
   "id": "5fc791b4",
   "metadata": {},
   "outputs": [],
   "source": [
    "f4_cat.write(f'MPhys/gmm_files/{swap[num]}_luptitude_full_catalogue.fits',format='fits',overwrite=True)\n",
    "#f5_cat.write(f'MPhys/base_filter_permutations/base_filter_permutations/size/informed_choice_size.cat',format = 'ascii.commented_header',overwrite=True)"
   ]
  },
  {
   "cell_type": "code",
   "execution_count": null,
   "id": "c79e9e01",
   "metadata": {},
   "outputs": [],
   "source": [
    "f5_cat['z_spec'][f5_cat['z_spec']==0]=np.nan"
   ]
  },
  {
   "cell_type": "code",
   "execution_count": null,
   "id": "8be66526",
   "metadata": {},
   "outputs": [],
   "source": [
    "#MAKE THE TRAINING CATALOGUE\n",
    "#USE IF USING 5TH FILTER\n",
    "training=[]\n",
    "for i in range(len(f5_cat)):\n",
    "    training.append(np.isnan(f5_cat['z_spec'][i]))\n",
    "training_inv=np.array(np.invert(training))\n",
    "training_cat =f5_cat[training_inv*(np.isnan(f5_cat['z_spec']) == False)] "
   ]
  },
  {
   "cell_type": "code",
   "execution_count": null,
   "id": "1fcb9513",
   "metadata": {},
   "outputs": [],
   "source": [
    "training_cat.write(f'MPhys/gpz_catalogues/{swap[num]}_full_training_cat.cat',format='ascii.commented_header',overwrite=True)"
   ]
  },
  {
   "cell_type": "markdown",
   "id": "c9b4ff52",
   "metadata": {},
   "source": [
    "# Adding Size Column "
   ]
  },
  {
   "cell_type": "code",
   "execution_count": null,
   "id": "0520cf3f",
   "metadata": {},
   "outputs": [],
   "source": [
    "cat = Table.read('MPhys/gmm_cats/input_catalogues/f160w_extra_apertures_full_catalogue.fits',format='fits')\n",
    "catalogue = Table.read('MPhys/gmm_cats/input_catalogues/f160w_luptitude_full_catalogue_new.fits',format='fits')\n",
    "size = cat['lupt_f444w-clear']/cat['lupt_f444w-clear_aper2']\n",
    "size_err =  cat['lupterr_f444w-clear']/cat['lupterr_f444w-clear_aper2']\n",
    "catalogue.add_column(size,name=('lupt_f444w-clear_size'))\n",
    "catalogue.add_column(size_err,name=('lupterr_f444w-clear_size'))"
   ]
  },
  {
   "cell_type": "code",
   "execution_count": null,
   "id": "888cfa76",
   "metadata": {},
   "outputs": [],
   "source": [
    "cat = Table.read(f'MPhys/gmm_cats/input_catalogues/f410m-clear_extra_apertures_full_catalogue.fits',format='fits')"
   ]
  },
  {
   "cell_type": "markdown",
   "id": "c1b12ba3",
   "metadata": {},
   "source": [
    "# Pred/Train Split\n",
    "#### Set at 70:15:15 split\n",
    "\n",
    "GPz++ has inbuilt pred/valid split (set at 50% currently) so only need to split this section into tra9ning and prediction\n",
    "\n"
   ]
  },
  {
   "cell_type": "code",
   "execution_count": null,
   "id": "204cb783",
   "metadata": {},
   "outputs": [],
   "source": [
    "filt= ['bc','f160w','f435w','f814w','f606w','f435w','f125w','f140w','f160w','f150w-clear','f410m-clear','ic','f090w_inc']\n"
   ]
  },
  {
   "cell_type": "code",
   "execution_count": null,
   "id": "f3fc64cd",
   "metadata": {},
   "outputs": [],
   "source": [
    "for f in filt:\n",
    "    print(f)\n",
    "    #t_full =Table.read(f'MPhys/gpz_catalogues/gpz_catalogues/{swap[num]}_full_training_cat_new.cat',format='ascii.commented_header')\n",
    "    #cat = Table.read(f'MPhys/gmm_cats/input_catalogues/{f}_extra_apertures_full_catalogue.fits',format='fits')\n",
    "    catalogue = Table.read(f'MPhys/gmm_cats/input_catalogues/{f}_luptitude_full_catalogue_new.fits',format='fits')\n",
    "    #size = cat['lupt_f410m-clear']/cat['lupt_f410m-clear_aper2']\n",
    "    #size_err =  cat['lupterr_f410m-clear']/cat['lupterr_f410m-clear_aper2']\n",
    "    #catalogue.add_column(size,name=('lupt_f410m-clear_size'))\n",
    "    #catalogue.add_column(size_err,name=('lupterr_f410m-clear_size'))\n",
    "    t_full = catalogue\n",
    "    #t_full.sort('z_spec')\n",
    "    z= t_full['z_spec']\n",
    "    bins = np.linspace(np.min(z),np.max(z),5)\n",
    "    h2 = np.zeros(len(z))\n",
    "    h3 = np.zeros(len(z))\n",
    "    h4 = np.zeros(len(z))\n",
    "    low = np.zeros(len(z))\n",
    "\n",
    "    for i in range(len(z)):\n",
    "        if bins[0]<=z[i]<=bins[1]:\n",
    "            low[i]=1\n",
    "        elif bins[1]<=z[i]<=bins[2]:\n",
    "            h2[i]=1\n",
    "        elif bins[2]<=z[i]<=bins[3]:\n",
    "            h3[i]=1\n",
    "        elif bins[3]<=z[i]<=bins[4]:\n",
    "            h4[i]=1\n",
    "    h2_bool = np.array(h2, dtype =bool)\n",
    "    h3_bool = np.array(h3, dtype =bool)\n",
    "    h4_bool = np.array(h4, dtype =bool)\n",
    "    low_bool = np.array(low, dtype =bool)\n",
    "\n",
    "    low_cat = t_full[low_bool]\n",
    "    h2_cat = t_full[h2_bool]\n",
    "    h3_cat = t_full[h3_bool]\n",
    "    h4_cat = t_full[h4_bool]\n",
    "    h2_lim = int(len(h2_cat)*0.7)\n",
    "    h3_lim = int(len(h3_cat)*0.7)\n",
    "    h4_lim = int(len(h4_cat)*0.7)\n",
    "    low_lim = int(len(low_cat)*0.7)\n",
    "\n",
    "    t_low = low_cat[0:low_lim]\n",
    "    p_low = low_cat[low_lim:len(low_cat)]\n",
    "\n",
    "    t_h2 = h2_cat[0:h2_lim]\n",
    "    p_h2 = h2_cat[h2_lim:len(h2_cat)]\n",
    "    t_h3 = h3_cat[0:h3_lim]\n",
    "    p_h3 = h3_cat[h3_lim:len(h3_cat)]\n",
    "    t_h4 = h4_cat[0:h4_lim]\n",
    "    p_h4 = h4_cat[h4_lim:len(h4_cat)]\n",
    "\n",
    "\n",
    "    t_high = vstack([t_h2,t_h3,t_h4])\n",
    "    p_high = vstack([p_h2,p_h3,p_h4])\n",
    "\n",
    "    t_all = vstack([t_low,t_high])\n",
    "    p_all = vstack([p_low,p_high])\n",
    "\n",
    "    t_low.write(f'MPhys/gpz_catalogues/gpz_catalogues/reg_z_split/lowz/TRAIN/new/train_lowz_{f}.cat',format = 'ascii.commented_header',overwrite=True)\n",
    "    p_low.write(f'MPhys/gpz_catalogues/gpz_catalogues/reg_z_split/lowz/PRED/new/pred_lowz_{f}.cat',format = 'ascii.commented_header',overwrite=True)\n",
    "    t_high.write(f'MPhys/gpz_catalogues/gpz_catalogues/reg_z_split/highz/TRAIN/new/train_highz_{f}.cat',format = 'ascii.commented_header',overwrite=True)\n",
    "    p_high.write(f'MPhys/gpz_catalogues/gpz_catalogues/reg_z_split/highz/PRED/new/pred_highz_{f}.cat',format = 'ascii.commented_header',overwrite=True)\n",
    "\n",
    "    t_all.write(f'MPhys/gpz_catalogues/gpz_catalogues/reg/TRAIN/new/train_{f}.cat',format = 'ascii.commented_header',overwrite=True)\n",
    "    p_all.write(f'MPhys/gpz_catalogues/gpz_catalogues/reg/PRED/new/pred_{f}.cat',format = 'ascii.commented_header',overwrite=True)\n",
    "\n"
   ]
  },
  {
   "cell_type": "code",
   "execution_count": null,
   "id": "00532ec9",
   "metadata": {},
   "outputs": [],
   "source": []
  }
 ],
 "metadata": {
  "kernelspec": {
   "display_name": "Python 3 (ipykernel)",
   "language": "python",
   "name": "python3"
  },
  "language_info": {
   "codemirror_mode": {
    "name": "ipython",
    "version": 3
   },
   "file_extension": ".py",
   "mimetype": "text/x-python",
   "name": "python",
   "nbconvert_exporter": "python",
   "pygments_lexer": "ipython3",
   "version": "3.11.5"
  }
 },
 "nbformat": 4,
 "nbformat_minor": 5
}
