{
 "cells": [
  {
   "cell_type": "code",
   "execution_count": null,
   "id": "2b6e314b",
   "metadata": {},
   "outputs": [],
   "source": [
    "pip install wget"
   ]
  },
  {
   "cell_type": "code",
   "execution_count": 1,
   "id": "1101b7d8",
   "metadata": {},
   "outputs": [],
   "source": [
    "import astropy\n",
    "from astropy.table import Table,vstack, Column\n",
    "from subprocess import call\n",
    "import subprocess\n",
    "from astropy.io import fits\n",
    "import numpy as np\n",
    "import wget\n",
    "import matplotlib.pyplot as plt\n",
    "from gpz_pype import utilities\n",
    "from gpz_pype.utilities import Params, set_gpz_path, basic_lupt_soft, flux_to_lupt\n",
    "import astropy.units as u\n",
    "from numpy.ma import masked\n",
    "from astropy.coordinates import SkyCoord\n",
    "from astropy.coordinates import match_coordinates_sky\n",
    "\n",
    "from os import listdir\n",
    "from os.path import isfile, join"
   ]
  },
  {
   "cell_type": "code",
   "execution_count": null,
   "id": "2c713599",
   "metadata": {},
   "outputs": [],
   "source": [
    "#['ceers-full','gdn','primer-uds-south'\n",
    "fields= ['gds','ngdeep','primer-cosmos-east','primer-cosmos-west','primer-uds-north','abell2744clu','abells1063','elgordo','j112716p4228','macs0647','rxj2129','smacs0723','sunrise']"
   ]
  },
  {
   "cell_type": "markdown",
   "id": "f43281fb",
   "metadata": {},
   "source": [
    "# Download Field Files\n"
   ]
  },
  {
   "cell_type": "code",
   "execution_count": null,
   "id": "6fb0bf34",
   "metadata": {},
   "outputs": [],
   "source": [
    "#for field in fields:\n",
    "url=f'https://s3.amazonaws.com/grizli-v2/JwstMosaics/v7/gdn-grizli-v7.0_phot.fits'\n",
    "filename=wget.download(url)\n",
    "#print(f' {field} downloaded')"
   ]
  },
  {
   "cell_type": "code",
   "execution_count": null,
   "id": "febcca0c",
   "metadata": {},
   "outputs": [],
   "source": [
    "hdul= fits.open('MPhys/DAWN_JWST/ceers-full-grizli-v7.0_phot.fits', memmap=True,formats='fits')\n",
    "t = Table.read(hdul)\n",
    "t"
   ]
  },
  {
   "cell_type": "markdown",
   "id": "bf45395a",
   "metadata": {},
   "source": [
    "# Initial Catalogue Making - Run Once\n"
   ]
  },
  {
   "cell_type": "code",
   "execution_count": null,
   "id": "453a7c81",
   "metadata": {},
   "outputs": [],
   "source": [
    "    Insert\n",
    "    Cell\n",
    "    Kernel\n",
    "    Widgets\n",
    "    Help\n",
    "\n",
    "###INITIAL CATALOGUE MAKING\n",
    "hdu_list = fits.open('ceers-full-grizli-v7.0_phot.fits', memmap=True,formats='fits')\n",
    "ceers = Table(hdu_list[1].data)\n",
    "hdu_list.close()\n",
    "\n",
    "hdu_list = fits.open('gdn-grizli-v7.0_phot.fits', memmap=True,formats='fits')\n",
    "gdn= Table(hdu_list[1].data)\n",
    "hdu_list.close()\n",
    "\n",
    "hdu_list = fits.open('gds-grizli-v7.0_phot.fits', memmap=True,formats='fits')\n",
    "gds = Table(hdu_list[1].data)\n",
    "hdu_list.close()\n",
    "\n",
    "hdu_list = fits.open('ngdeep-grizli-v7.0_phot.fits', memmap=True,formats='fits')\n",
    "ngdeep = Table(hdu_list[1].data)\n",
    "hdu_list.close()\n",
    "\n",
    "hdu_list = fits.open('primer-cosmos-east-grizli-v7.0_phot.fits', memmap=True,formats='fits')\n",
    "cosmos_east = Table(hdu_list[1].data)\n",
    "hdu_list.close()\n",
    "\n",
    "hdu_list = fits.open('primer-cosmos-west-grizli-v7.0_phot.fits', memmap=True,formats='fits')\n",
    "cosmos_west = Table(hdu_list[1].data)\n",
    "hdu_list.close()\n",
    "\n",
    "hdu_list = fits.open('primer-uds-south-grizli-v7.0_phot.fits', memmap=True,formats='fits')\n",
    "udss = Table(hdu_list[1].data)\n",
    "hdu_list.close()\n",
    "\n",
    "hdu_list = fits.open('primer-uds-north-grizli-v7.0_phot.fits', memmap=True,formats='fits')\n",
    "udsn = Table(hdu_list[1].data)\n",
    "hdu_list.close()"
   ]
  },
  {
   "cell_type": "code",
   "execution_count": null,
   "id": "f3c72b91",
   "metadata": {},
   "outputs": [],
   "source": [
    "#ADDING FIELDS TO CATALOGUE - RUN BOTH CELLS IF STARTING FROM SCRATCH\n",
    "hdu_list = fits.open('abell2744clu-grizli-v7.0_phot.fits', memmap=True,formats='fits')\n",
    "abell2744 = Table(hdu_list[1].data)\n",
    "hdu_list.close()\n",
    "\n",
    "hdu_list = fits.open('abells1063-grizli-v7.0_phot.fits', memmap=True,formats='fits')\n",
    "abells1063= Table(hdu_list[1].data)\n",
    "hdu_list.close()\n",
    "\n",
    "hdu_list = fits.open('elgordo-grizli-v7.0_phot.fits', memmap=True,formats='fits')\n",
    "elgordo = Table(hdu_list[1].data)\n",
    "hdu_list.close()\n",
    "\n",
    "hdu_list = fits.open('j112716p4228-grizli-v7.0_phot.fits', memmap=True,formats='fits')\n",
    "j_field = Table(hdu_list[1].data)\n",
    "hdu_list.close()\n",
    "\n",
    "hdu_list = fits.open('macs0647-grizli-v7.0_phot.fits', memmap=True,formats='fits')\n",
    "macs = Table(hdu_list[1].data)\n",
    "hdu_list.close()\n",
    "\n",
    "hdu_list = fits.open('rxj2129-grizli-v7.0_phot.fits', memmap=True,formats='fits')\n",
    "rxj = Table(hdu_list[1].data)\n",
    "hdu_list.close()\n",
    "\n",
    "hdu_list = fits.open('smacs0723-grizli-v7.0_phot.fits', memmap=True,formats='fits')\n",
    "smacs = Table(hdu_list[1].data)\n",
    "hdu_list.close()\n",
    "\n",
    "hdu_list = fits.open('sunrise-grizli-v7.0_phot.fits', memmap=True,formats='fits')\n",
    "sunrise = Table(hdu_list[1].data)\n",
    "hdu_list.close()"
   ]
  },
  {
   "cell_type": "code",
   "execution_count": null,
   "id": "1080d525",
   "metadata": {},
   "outputs": [],
   "source": [
    "abell2744.add_column('abells2744clu', name='field', index=0)\n",
    "abells1063.add_column('abells1063', name='field', index=0)\n",
    "elgordo.add_column('elgordo', name='field', index=0)\n",
    "j_field.add_column('j112716p4228', name='field', index=0)\n",
    "macs.add_column('macs0647', name='field', index=0)\n",
    "rxj.add_column('rxj2129', name='field', index=0)\n",
    "smacs.add_column('smacs0723', name='field', index=0)\n",
    "sunrise.add_column('sunrise', name='field', index=0)"
   ]
  },
  {
   "cell_type": "code",
   "execution_count": null,
   "id": "526d2dc0",
   "metadata": {},
   "outputs": [],
   "source": [
    "ceers.add_column('ceers', name='field', index=0)\n",
    "gdn.add_column('gdn', name='field', index=0)\n",
    "gds.add_column('gds', name='field', index=0)\n",
    "ngdeep.add_column('ngdeep', name='field', index=0)\n",
    "cosmos_east.add_column('cosmos_east', name='field', index=0)\n",
    "cosmos_west.add_column('cosmos_west', name='field', index=0)\n",
    "udsn.add_column('udsn', name='field', index=0)\n",
    "udss.add_column('udss', name='field', index=0)"
   ]
  },
  {
   "cell_type": "code",
   "execution_count": null,
   "id": "a5b835f9",
   "metadata": {},
   "outputs": [],
   "source": [
    "main = vstack([ceers,gdn,gds])#,ngdeep,cosmos_east,cosmos_west,udsn,udss])"
   ]
  },
  {
   "cell_type": "code",
   "execution_count": null,
   "id": "2db9c98d",
   "metadata": {},
   "outputs": [],
   "source": [
    "m2 = vstack([main,ngdeep,cosmos_east])#,cosmos_west])"
   ]
  },
  {
   "cell_type": "code",
   "execution_count": null,
   "id": "bc28c042",
   "metadata": {},
   "outputs": [],
   "source": [
    "m3 = vstack([m2,udsn,udss])"
   ]
  },
  {
   "cell_type": "code",
   "execution_count": null,
   "id": "26cc3699",
   "metadata": {},
   "outputs": [],
   "source": [
    "m4 = vstack([m3,cosmos_west])"
   ]
  },
  {
   "cell_type": "code",
   "execution_count": null,
   "id": "82d69fe6",
   "metadata": {},
   "outputs": [],
   "source": [
    "side = vstack([abell2744,abells1063,elgordo,j_field,macs,rxj,smacs,sunrise])"
   ]
  },
  {
   "cell_type": "code",
   "execution_count": null,
   "id": "0dff1264",
   "metadata": {},
   "outputs": [],
   "source": [
    "m4.write('MPhys/original_jwst_data/main_merged.fits',format='fits',overwrite=True)"
   ]
  },
  {
   "cell_type": "code",
   "execution_count": null,
   "id": "07260a76",
   "metadata": {},
   "outputs": [],
   "source": [
    "side.write('MPhys/original_jwst_data/other_merged.fits',format='fits',overwrite=True)"
   ]
  },
  {
   "cell_type": "code",
   "execution_count": null,
   "id": "fd7e89b7",
   "metadata": {},
   "outputs": [],
   "source": [
    "all_merge = vstack([m4,side])"
   ]
  },
  {
   "cell_type": "code",
   "execution_count": null,
   "id": "2917756f",
   "metadata": {},
   "outputs": [],
   "source": [
    "#all_merge.write('MPhys/original_jwst_data/all_merged_abmag.fits',format='fits',overwrite=True)"
   ]
  },
  {
   "cell_type": "code",
   "execution_count": null,
   "id": "aa2c448e",
   "metadata": {},
   "outputs": [],
   "source": [
    "#fields_new= ['ceers','gdn','gds','ngdeep','cosmos_east','cosmos_west','udsn','udss','abell2744','abells1063','elgordo','j_field','macs','rxj','smacs','sunrise']"
   ]
  },
  {
   "cell_type": "code",
   "execution_count": null,
   "id": "184f1682",
   "metadata": {},
   "outputs": [],
   "source": [
    "jwst_merge = Table.read('MPhys/original_jwst_data/all_merged_ab.fits',format ='fits')"
   ]
  },
  {
   "cell_type": "code",
   "execution_count": null,
   "id": "a3c6e106",
   "metadata": {},
   "outputs": [],
   "source": [
    "#jwst_merge.add_column(np.nan,name = 'z_spec',index = 3)\n",
    "jwst_merge.write('MPhys/original_jwst_data/all_merged_ab.fits',format='fits',overwrite=True)"
   ]
  },
  {
   "cell_type": "code",
   "execution_count": null,
   "id": "7859c031",
   "metadata": {},
   "outputs": [],
   "source": []
  },
  {
   "cell_type": "markdown",
   "id": "55f09942",
   "metadata": {},
   "source": [
    "## CANDELS"
   ]
  },
  {
   "cell_type": "code",
   "execution_count": null,
   "id": "ae5371ff",
   "metadata": {},
   "outputs": [],
   "source": [
    "cosmos = Table.read('MPhys/CANDELS/CANDELS.COSMOS.F160W.Processed.photz.fits',format='fits')\n",
    "egs = Table.read('MPhys/CANDELS/CANDELS.EGS.F160W.Processed.photz.fits',format='fits')\n",
    "uds_candels = Table.read('MPhys/CANDELS/CANDELS.UDS.F160W.Processed.photz.fits',format='fits')\n",
    "gds_candels = Table.read('MPhys/CANDELS/CANDELS.GOODSS.F160W.Processed.photz.fits',format='fits')\n",
    "gdn_candels = Table.read('MPhys/CANDELS/CANDELS.GOODSN.F160W.Processed.photz.fits',format='fits')"
   ]
  },
  {
   "cell_type": "code",
   "execution_count": null,
   "id": "21ffa68d",
   "metadata": {},
   "outputs": [],
   "source": [
    "candels = vstack([cosmos,egs,uds_candels,gds_candels,gdn_candels])"
   ]
  },
  {
   "cell_type": "code",
   "execution_count": null,
   "id": "557ae850",
   "metadata": {},
   "outputs": [],
   "source": [
    "candels.write('MPhys/CANDELS/candels_combined.fits',format='fits')"
   ]
  },
  {
   "cell_type": "markdown",
   "id": "71a85fab",
   "metadata": {},
   "source": [
    "# Convert to Luptiudes for Each Field\n"
   ]
  },
  {
   "cell_type": "code",
   "execution_count": null,
   "id": "7a2800e5",
   "metadata": {},
   "outputs": [],
   "source": [
    "field=gds\n"
   ]
  },
  {
   "cell_type": "code",
   "execution_count": null,
   "id": "1915ac57",
   "metadata": {},
   "outputs": [],
   "source": [
    "filters0 = [col.split('_')[0] for col in field.colnames if col.endswith('flux_aper_0')]\n",
    "filters0=filters0[1:]\n",
    "filters1 = [col.split('_')[0] for col in field.colnames if col.endswith('flux_aper_1')]\n",
    "filters1=filters1[1:]\n",
    "\n",
    "filters2 = [col.split('_')[0] for col in field.colnames if col.endswith('flux_aper_2')]\n",
    "filters2=filters2[1:]\n",
    "\n",
    "filters3 = [col.split('_')[0] for col in field.colnames if col.endswith('flux_aper_3')]\n",
    "filters3=filters3[1:]\n",
    "\n"
   ]
  },
  {
   "cell_type": "code",
   "execution_count": null,
   "id": "70cf70a2",
   "metadata": {},
   "outputs": [],
   "source": [
    "\n",
    "b_arr0 = [basic_lupt_soft(field[f'{filt}_flux_aper_0'], field[f'{filt}_fluxerr_aper_0']) for filt in filters0] \n",
    "b_arr1 = [basic_lupt_soft(field[f'{filt}_flux_aper_1'], field[f'{filt}_fluxerr_aper_1']) for filt in filters1] \n",
    "b_arr2 = [basic_lupt_soft(field[f'{filt}_flux_aper_2'], field[f'{filt}_fluxerr_aper_2']) for filt in filters2] \n",
    "b_arr3 = [basic_lupt_soft(field[f'{filt}_flux_aper_3'], field[f'{filt}_fluxerr_aper_3']) for filt in filters3] "
   ]
  },
  {
   "cell_type": "code",
   "execution_count": null,
   "id": "d1184a91",
   "metadata": {},
   "outputs": [],
   "source": [
    "i=2\n",
    "lupt_cols=field['field','id','ra','dec']\n",
    "\n",
    "for filt,b in zip(filters0,b_arr0):\n",
    "    lupt,lupterr = flux_to_lupt(field[f'{filt}_flux_aper_0'],field[f'{filt}_fluxerr_aper_0'],b)\n",
    "    lupt_cols[f'lupt_{filt}_aper0']=lupt\n",
    "    lupt_cols[f'lupterr_{filt}_aper0']=lupterr\n",
    "for filt,b in zip(filters1,b_arr1):\n",
    "    lupt,lupterr = flux_to_lupt(field[f'{filt}_flux_aper_1'],field[f'{filt}_fluxerr_aper_1'],b)\n",
    "    lupt_cols[f'lupt_{filt}_aper1']=lupt\n",
    "    lupt_cols[f'lupterr_{filt}_aper1']=lupterr\n",
    "for filt,b in zip(filters2,b_arr2):\n",
    "    lupt,lupterr = flux_to_lupt(field[f'{filt}_flux_aper_2'],field[f'{filt}_fluxerr_aper_2'],b)\n",
    "    lupt_cols[f'lupt_{filt}_aper2']=lupt\n",
    "    lupt_cols[f'lupterr_{filt}_aper2']=lupterr\n",
    "for filt,b in zip(filters3,b_arr3):\n",
    "    lupt,lupterr = flux_to_lupt(field[f'{filt}_flux_aper_3'],field[f'{filt}_fluxerr_aper_3'],b)\n",
    "    lupt_cols[f'lupt_{filt}_aper3']=lupt\n",
    "    lupt_cols[f'lupterr_{filt}_aper3']=lupterr\n",
    "\n",
    "lupt_cols.write(f'MPhys/catalogues/{fields[i]}_lupts.fits',format='fits', overwrite=True)"
   ]
  },
  {
   "cell_type": "code",
   "execution_count": null,
   "id": "ed312191",
   "metadata": {},
   "outputs": [],
   "source": [
    "t = Table.read('MPhys/catalogues/gds_lupts.fits',format ='fits')\n",
    "t"
   ]
  },
  {
   "cell_type": "code",
   "execution_count": null,
   "id": "98db9049",
   "metadata": {},
   "outputs": [],
   "source": []
  },
  {
   "cell_type": "code",
   "execution_count": null,
   "id": "40c577f9",
   "metadata": {},
   "outputs": [],
   "source": [
    "lup_ceers=Table.read('MPhys/catalogues/ceers-full_lupts.fits',format='fits')\n",
    "lup_gds=Table.read('MPhys/catalogues/gds_lupts.fits',format='fits')\n",
    "lup_gdn=Table.read('MPhys/catalogues/gdn_lupts.fits',format='fits')\n",
    "lup_ngdeep=Table.read('MPhys/catalogues/ngdeep_lupts.fits',format='fits')\n",
    "lup_udss=Table.read('MPhys/catalogues/primer-uds-south_lupts.fits',format='fits')\n",
    "lup_udsn=Table.read('MPhys/catalogues/primer-uds-north_lupts.fits',format='fits')\n",
    "lup_cosmos_east=Table.read('MPhys/catalogues/primer-cosmos-east_lupts.fits',format='fits')\n",
    "lup_cosmos_west=Table.read('MPhys/catalogues/primer-cosmos-west_lupts.fits',format='fits')"
   ]
  },
  {
   "cell_type": "code",
   "execution_count": null,
   "id": "83e37b52",
   "metadata": {},
   "outputs": [],
   "source": [
    "lup_abell2744clu = Table.read('MPhys/catalogues/abell2744clu_lupts.fits',format='fits')\n",
    "lup_abells1063=Table.read('MPhys/catalogues/abells1063_lupts.fits',format='fits')\n",
    "lup_elgordo=Table.read('MPhys/catalogues/elgordo_lupts.fits',format='fits')\n",
    "lup_j112716p4228=Table.read('MPhys/catalogues/j112716p4228_lupts.fits',format='fits')\n",
    "lup_macs0647=Table.read('MPhys/catalogues/macs0647_lupts.fits',format='fits')\n",
    "lup_rxj2129=Table.read('MPhys/catalogues/rxj2129_lupts.fits',format='fits')\n",
    "lup_smacs0723=Table.read('MPhys/catalogues/smacs0723_lupts.fits',format='fits')\n",
    "lup_sunrise=Table.read('MPhys/catalogues/sunrise_lupts.fits',format='fits')"
   ]
  },
  {
   "cell_type": "code",
   "execution_count": null,
   "id": "06489fad",
   "metadata": {},
   "outputs": [],
   "source": [
    "#saves laptop dying if split up \n",
    "lup_con =vstack([lup_ceers,lup_gds,lup_gdn,lup_ngdeep,lup_udss,lup_udsn,lup_cosmos_east,lup_cosmos_west,lup_abell2744clu])\n"
   ]
  },
  {
   "cell_type": "code",
   "execution_count": null,
   "id": "d48dd48f",
   "metadata": {},
   "outputs": [],
   "source": []
  },
  {
   "cell_type": "code",
   "execution_count": null,
   "id": "ccc3591a",
   "metadata": {},
   "outputs": [],
   "source": []
  },
  {
   "cell_type": "code",
   "execution_count": null,
   "id": "df3daf73",
   "metadata": {},
   "outputs": [],
   "source": [
    "#most small fields not in specz confirmed so not included rn \n",
    "\n",
    "lup_con_small = vstack([lup_abell2744clu,lup_abells1063,lup_elgordo,lup_j112716p4228,lup_macs0647,lup_rxj2129,lup_smacs0723,lup_sunrise])"
   ]
  },
  {
   "cell_type": "code",
   "execution_count": null,
   "id": "31e01e4a",
   "metadata": {},
   "outputs": [],
   "source": [
    "lup_total = vstack([lup_con,lup_con_small])"
   ]
  },
  {
   "cell_type": "code",
   "execution_count": null,
   "id": "a528b40f",
   "metadata": {},
   "outputs": [],
   "source": [
    "#needs to be done in CP Lab \n",
    "lup_total.write('luptitudes_all_jwst.fits', format='fits', overwrite=True)"
   ]
  },
  {
   "cell_type": "code",
   "execution_count": null,
   "id": "1548fcdc",
   "metadata": {},
   "outputs": [],
   "source": [
    "t = Table.read('luptitudes_all_jwst.fits', format='fits')\n",
    "t.add_column(np.nan, name='z_spec',index =4)\n"
   ]
  },
  {
   "cell_type": "code",
   "execution_count": null,
   "id": "bd76fe06",
   "metadata": {},
   "outputs": [],
   "source": [
    "print(len(t))\n",
    "new_id = np.arange(0,len(t),1)\n",
    "print(new_id)\n",
    "t['id']= new_id"
   ]
  },
  {
   "cell_type": "code",
   "execution_count": null,
   "id": "99ecc79e",
   "metadata": {},
   "outputs": [],
   "source": [
    "t"
   ]
  },
  {
   "cell_type": "markdown",
   "id": "0990f7fa",
   "metadata": {},
   "source": [
    "\n",
    "# Skymatching Catalogues"
   ]
  },
  {
   "cell_type": "code",
   "execution_count": null,
   "id": "7a36801b",
   "metadata": {},
   "outputs": [],
   "source": [
    "candels=Table.read('MPhys/CANDELS/candels_combined.fits',format='fits')\n",
    "#jwst=Table.read('MPhys/original_jwst_data/all_merged_ab.fits',format='fits')\n",
    "\n",
    "dawn = Table.read('csv.csv',format='csv')"
   ]
  },
  {
   "cell_type": "code",
   "execution_count": null,
   "id": "08ec2ddd",
   "metadata": {},
   "outputs": [],
   "source": [
    "z = dawn['zspec']\n",
    "z[z < 0] = np.nan\n",
    "masked=[]\n",
    "for i in range(len(dawn)):\n",
    "    masked.append(np.ma.is_masked(z[i]))\n",
    "masked_inv=np.array(np.invert(masked))\n",
    "masked_cat =dawn[masked_inv*(np.ma.is_masked(z) == True)] \n",
    "nans=[]\n",
    "for i in range(len(masked_cat)):\n",
    "    nans.append(np.isnan(masked_cat['zspec'][i]))\n",
    "nans_inv=np.array(np.invert(nans))\n",
    "dawn_zreal =masked_cat[nans_inv*(np.isnan(masked_cat['zspec']) == False)] "
   ]
  },
  {
   "cell_type": "code",
   "execution_count": null,
   "id": "8930d83d",
   "metadata": {},
   "outputs": [],
   "source": [
    "dawn_zreal"
   ]
  },
  {
   "cell_type": "code",
   "execution_count": null,
   "id": "35fdba47",
   "metadata": {},
   "outputs": [],
   "source": [
    "#ra1=dawn_zreal['ra']\n",
    "#dec1=dawn_zreal['dec']\n",
    "#ra2=candels['RA']\n",
    "#dec2=candels['DEC']\n",
    "ra1=dawn['ra']\n",
    "dec1=dawn['dec']\n",
    "ra2=candels['RA']\n",
    "dec2=candels['DEC']"
   ]
  },
  {
   "cell_type": "code",
   "execution_count": null,
   "id": "3b3afa2f",
   "metadata": {},
   "outputs": [],
   "source": [
    "dawn_cat = SkyCoord(ra=ra1*u.degree, dec=dec1*u.degree)#dawn\n",
    "candels_cat = SkyCoord(ra=ra2*u.degree, dec=dec2*u.degree)#candels\n"
   ]
  },
  {
   "cell_type": "code",
   "execution_count": null,
   "id": "da214c9e",
   "metadata": {},
   "outputs": [],
   "source": [
    "max_sep = 0.2 * u.arcsec\n",
    "idx, d2d, d3d = dawn_cat.match_to_catalog_sky(candels_cat)#catalog = candels information\n",
    "idx_dawn, d2d_dawn, d3d_dawn = candels_cat.match_to_catalog_sky(dawn_cat)"
   ]
  },
  {
   "cell_type": "code",
   "execution_count": null,
   "id": "338573eb",
   "metadata": {},
   "outputs": [],
   "source": [
    "id_candel=[] #ids of candels catalog \n",
    "for i in range(len(ra1)):\n",
    "    if d2d[i]< max_sep:\n",
    "        id_candel.append(idx[i])\n",
    "id_dawn=[] #ids of jwst catalog \n",
    "for i in range(len(ra2)):\n",
    "    if d2d_dawn[i]< max_sep:\n",
    "        id_dawn.append(idx_dawn[i])\n"
   ]
  },
  {
   "cell_type": "code",
   "execution_count": null,
   "id": "b220af00",
   "metadata": {},
   "outputs": [],
   "source": [
    "id_candels_new=list(set(id_candel))\n",
    "id_dawn_new = list(set(id_dawn)) \n",
    "matched_candels = candels[id_candels_new]\n",
    "matched_dawn= dawn[id_dawn_new ]"
   ]
  },
  {
   "cell_type": "code",
   "execution_count": null,
   "id": "c35381c0",
   "metadata": {},
   "outputs": [],
   "source": [
    "#candels.remove_rows(id_candel)\n",
    "dawn.remove_rows(id_dawn)\n",
    "candels"
   ]
  },
  {
   "cell_type": "code",
   "execution_count": null,
   "id": "41aff821",
   "metadata": {},
   "outputs": [],
   "source": [
    "matched_candels['z_spec']=matched_dawn['zspec'] #update candels zspec to jwst zspec"
   ]
  },
  {
   "cell_type": "code",
   "execution_count": null,
   "id": "9384c2ef",
   "metadata": {},
   "outputs": [],
   "source": [
    "#dawn_zreal.rename_column('ra', 'RA')\n",
    "#dawn_zreal.rename_column('dec', 'DEC')\n",
    "#dawn_zreal.rename_column('zspec','z_spec')"
   ]
  },
  {
   "cell_type": "code",
   "execution_count": null,
   "id": "4d4b8a71",
   "metadata": {},
   "outputs": [],
   "source": [
    "matched_candels"
   ]
  },
  {
   "cell_type": "code",
   "execution_count": null,
   "id": "bb48b5b8",
   "metadata": {},
   "outputs": [],
   "source": [
    "zspec_cat = vstack([candels,matched_candels, dawn_zreal])\n",
    "specz_conf = zspec_cat['RA','DEC','z_spec']\n",
    "specz_conf.write('MPhys/catalogues/full_specz_sources.fits',format='fits')"
   ]
  },
  {
   "cell_type": "code",
   "execution_count": null,
   "id": "2f9e940b",
   "metadata": {},
   "outputs": [],
   "source": [
    "specz = Table.read('MPhys/catalogues/full_specz_sources.fits',format='fits')"
   ]
  },
  {
   "cell_type": "code",
   "execution_count": null,
   "id": "53ec8ecd",
   "metadata": {},
   "outputs": [],
   "source": [
    "ra3 = jwst['ra']\n",
    "dec3=jwst['dec']\n",
    "ra4=specz['RA']\n",
    "dec4=specz['DEC']\n",
    "\n",
    "jwst_cat = SkyCoord(ra=ra3*u.degree, dec=dec3*u.degree)#jwst\n",
    "specz_cat = SkyCoord(ra=ra4*u.degree, dec=dec4*u.degree)#jwst"
   ]
  },
  {
   "cell_type": "code",
   "execution_count": null,
   "id": "c5d3c307",
   "metadata": {},
   "outputs": [],
   "source": [
    "idx_specz, d2d_specz, d3d_specz = jwst_cat.match_to_catalog_sky(specz_cat)#catalog = candels information\n",
    "idx_jwst, d2d_jwst, d3d_jwst = specz_cat.match_to_catalog_sky(jwst_cat)"
   ]
  },
  {
   "cell_type": "code",
   "execution_count": null,
   "id": "8ed19444",
   "metadata": {},
   "outputs": [],
   "source": [
    "id_specz=[] #ids of candels catalog \n",
    "for i in range(len(ra3)):\n",
    "    if d2d_specz[i]< max_sep:\n",
    "        id_specz.append(idx_specz[i])\n",
    "id_jwst=[] #ids of jwst catalog \n",
    "for i in range(len(ra4)):\n",
    "    if d2d_jwst[i]< max_sep:\n",
    "        id_jwst.append(idx_jwst[i])\n"
   ]
  },
  {
   "cell_type": "code",
   "execution_count": null,
   "id": "cc2126f7",
   "metadata": {},
   "outputs": [],
   "source": [
    "idx_new = list(set(id_specz)) #list of non-repeating candels indexs\n",
    "idx_new_jwst = list(set(id_jwst)) \n",
    "matched_specz = specz[idx_new]\n",
    "matched_jwst = jwst[idx_new_jwst]\n",
    "matched_specz.sort('RA') #makes them in same order\n",
    "matched_jwst.sort('ra')\n"
   ]
  },
  {
   "cell_type": "code",
   "execution_count": null,
   "id": "13ace400",
   "metadata": {},
   "outputs": [],
   "source": [
    "#matched_jwst.add_column(matched_specz['z_spec'], name='z_spec', index=-1)\n",
    "matched_jwst.write('MPhys/catalogues/jwst_skymatched_specz.fits',format='fits')"
   ]
  },
  {
   "cell_type": "markdown",
   "id": "13dd79de",
   "metadata": {},
   "source": [
    "# Skymatching for GMM+CSL Catalogue Making "
   ]
  },
  {
   "cell_type": "markdown",
   "id": "0a5bcc85",
   "metadata": {},
   "source": [
    "### JWST match to CANDELS"
   ]
  },
  {
   "cell_type": "code",
   "execution_count": null,
   "id": "70d88f8d",
   "metadata": {},
   "outputs": [],
   "source": [
    "candels=Table.read('MPhys/CANDELS/candels_combined.fits',format='fits')\n",
    "#jwst_merge=Table.read('MPhys/original_jwst_data/all_merged_ab.fits',format = 'fits')\n",
    "\n"
   ]
  },
  {
   "cell_type": "code",
   "execution_count": null,
   "id": "3d644bf9",
   "metadata": {},
   "outputs": [],
   "source": [
    "jwst_merge=t"
   ]
  },
  {
   "cell_type": "code",
   "execution_count": null,
   "id": "a25a79a2",
   "metadata": {},
   "outputs": [],
   "source": [
    "#matching jwst and candels\n",
    "ra1=jwst_merge['ra']\n",
    "\n",
    "dec1=jwst_merge['dec']\n",
    "ra2=candels['RA']\n",
    "dec2=candels['DEC']\n",
    "print(len(ra2))"
   ]
  },
  {
   "cell_type": "code",
   "execution_count": null,
   "id": "9c45b4ad",
   "metadata": {},
   "outputs": [],
   "source": [
    "jwst_cat = SkyCoord(ra=ra1*u.degree, dec=dec1*u.degree)#dawn\n",
    "candels_cat = SkyCoord(ra=ra2*u.degree, dec=dec2*u.degree)#candels\n"
   ]
  },
  {
   "cell_type": "code",
   "execution_count": null,
   "id": "61680483",
   "metadata": {},
   "outputs": [],
   "source": [
    "max_sep = 0.1 * u.arcsec\n",
    "idx, d2d, d3d = jwst_cat.match_to_catalog_sky(candels_cat)#catalog = candels information\n",
    "idx_jwst, d2d_jwst, d3d_jwst = candels_cat.match_to_catalog_sky(jwst_cat)\n",
    "#idx, d2d, d3d = jwst_cat.match_to_catalog_sky(candels_cat)\n",
    "print(len(idx_jwst))"
   ]
  },
  {
   "cell_type": "code",
   "execution_count": null,
   "id": "2c640550",
   "metadata": {},
   "outputs": [],
   "source": [
    "c_index=[]\n",
    "j_index=[]\n",
    "for i in range(len(candels)):\n",
    "    if abs(ra2[i]-ra1[idx_jwst[i]])<0.1:\n",
    "        c_index.append(i)\n",
    "        j_index.append(idx_jwst[i])\n",
    "        jwst_merge['z_spec'][idx_jwst[i]]=candels['z_spec'][i]\n"
   ]
  },
  {
   "cell_type": "code",
   "execution_count": null,
   "id": "0c2c2e87",
   "metadata": {},
   "outputs": [],
   "source": []
  },
  {
   "cell_type": "code",
   "execution_count": null,
   "id": "95d610bf",
   "metadata": {},
   "outputs": [],
   "source": []
  },
  {
   "cell_type": "code",
   "execution_count": null,
   "id": "552ae24b",
   "metadata": {},
   "outputs": [],
   "source": []
  },
  {
   "cell_type": "code",
   "execution_count": null,
   "id": "2095a1fc",
   "metadata": {},
   "outputs": [],
   "source": []
  },
  {
   "cell_type": "code",
   "execution_count": null,
   "id": "51f38991",
   "metadata": {},
   "outputs": [],
   "source": []
  },
  {
   "cell_type": "code",
   "execution_count": null,
   "id": "0ee29a5f",
   "metadata": {},
   "outputs": [],
   "source": []
  },
  {
   "cell_type": "markdown",
   "id": "26207506",
   "metadata": {},
   "source": [
    "### JWST match to DAWN"
   ]
  },
  {
   "cell_type": "code",
   "execution_count": null,
   "id": "ced0190b",
   "metadata": {},
   "outputs": [],
   "source": [
    "dawn = Table.read('csv.csv',format='csv')\n",
    "ra3 = jwst_merge['ra']\n",
    "dec3=jwst_merge['dec']\n",
    "ra4=dawn['ra']\n",
    "dec4=dawn['dec']\n",
    "j_merge_cat = SkyCoord(ra=ra4*u.degree, dec=dec4*u.degree)\n",
    "dawn_cat = SkyCoord(ra=ra4*u.degree, dec=dec4*u.degree)"
   ]
  },
  {
   "cell_type": "code",
   "execution_count": null,
   "id": "61f9bc5d",
   "metadata": {},
   "outputs": [],
   "source": [
    "idx_all, d2d_all, d3d_all = dawn_cat.match_to_catalog_sky(j_merge_cat)"
   ]
  },
  {
   "cell_type": "code",
   "execution_count": null,
   "id": "d35e41cf",
   "metadata": {},
   "outputs": [],
   "source": [
    "c_index=[]\n",
    "j_index=[]\n",
    "for i in range(len(dawn)):\n",
    "    if abs(ra4[i]-ra3[idx_all[i]])<0.1:\n",
    "       # c_index.append(i)\n",
    "       # j_index.append(idx_jwst[i])\n",
    "        jwst_merge['z_spec'][idx_all[i]]=dawn['zspec'][i]\n"
   ]
  },
  {
   "cell_type": "code",
   "execution_count": null,
   "id": "480a48cb",
   "metadata": {},
   "outputs": [],
   "source": [
    "jwst_merge['z_spec'][jwst_merge['z_spec']<=0]=np.ma.masked"
   ]
  },
  {
   "cell_type": "code",
   "execution_count": null,
   "id": "adfb58dc",
   "metadata": {},
   "outputs": [],
   "source": [
    "r=[]\n",
    "p=0\n",
    "for i in range(len(jwst_merge)):\n",
    "    if np.isnan(jwst_merge['z_spec'][i]):\n",
    "        p+=1\n",
    "    else:\n",
    "        r.append(jwst_merge['z_spec'][i])\n",
    "print(np.max(r))"
   ]
  },
  {
   "cell_type": "code",
   "execution_count": null,
   "id": "09672991",
   "metadata": {},
   "outputs": [],
   "source": [
    "jwst_merge.write('MPhys/original_jwst_data/final_skymatched_catalogue.fits',format = 'fits',overwrite=True)"
   ]
  },
  {
   "cell_type": "markdown",
   "id": "9efc22cd",
   "metadata": {},
   "source": [
    "# Filter Choices for Training Catalogue\n"
   ]
  },
  {
   "cell_type": "code",
   "execution_count": 2,
   "id": "740f5e86",
   "metadata": {},
   "outputs": [
    {
     "ename": "KeyboardInterrupt",
     "evalue": "",
     "output_type": "error",
     "traceback": [
      "\u001b[0;31m---------------------------------------------------------------------------\u001b[0m",
      "\u001b[0;31mKeyboardInterrupt\u001b[0m                         Traceback (most recent call last)",
      "Cell \u001b[0;32mIn[2], line 2\u001b[0m\n\u001b[1;32m      1\u001b[0m \u001b[38;5;66;03m#train = Table.read('MPhys/catalogues/lupt_jwst_skymatched_specz.fits',format = 'fits')\u001b[39;00m\n\u001b[0;32m----> 2\u001b[0m train \u001b[38;5;241m=\u001b[39m Table\u001b[38;5;241m.\u001b[39mread(\u001b[38;5;124m'\u001b[39m\u001b[38;5;124mMPhys/gpz_catalogues/final_skymatched_abmag_catalogue.fits\u001b[39m\u001b[38;5;124m'\u001b[39m,\u001b[38;5;28mformat\u001b[39m \u001b[38;5;241m=\u001b[39m \u001b[38;5;124m'\u001b[39m\u001b[38;5;124mfits\u001b[39m\u001b[38;5;124m'\u001b[39m)\n",
      "File \u001b[0;32m~/anaconda3/envs/py3/lib/python3.11/site-packages/astropy/table/connect.py:62\u001b[0m, in \u001b[0;36mTableRead.__call__\u001b[0;34m(self, *args, **kwargs)\u001b[0m\n\u001b[1;32m     59\u001b[0m units \u001b[38;5;241m=\u001b[39m kwargs\u001b[38;5;241m.\u001b[39mpop(\u001b[38;5;124m\"\u001b[39m\u001b[38;5;124munits\u001b[39m\u001b[38;5;124m\"\u001b[39m, \u001b[38;5;28;01mNone\u001b[39;00m)\n\u001b[1;32m     60\u001b[0m descriptions \u001b[38;5;241m=\u001b[39m kwargs\u001b[38;5;241m.\u001b[39mpop(\u001b[38;5;124m\"\u001b[39m\u001b[38;5;124mdescriptions\u001b[39m\u001b[38;5;124m\"\u001b[39m, \u001b[38;5;28;01mNone\u001b[39;00m)\n\u001b[0;32m---> 62\u001b[0m out \u001b[38;5;241m=\u001b[39m \u001b[38;5;28mself\u001b[39m\u001b[38;5;241m.\u001b[39mregistry\u001b[38;5;241m.\u001b[39mread(\u001b[38;5;28mcls\u001b[39m, \u001b[38;5;241m*\u001b[39margs, \u001b[38;5;241m*\u001b[39m\u001b[38;5;241m*\u001b[39mkwargs)\n\u001b[1;32m     64\u001b[0m \u001b[38;5;66;03m# For some readers (e.g., ascii.ecsv), the returned `out` class is not\u001b[39;00m\n\u001b[1;32m     65\u001b[0m \u001b[38;5;66;03m# guaranteed to be the same as the desired output `cls`.  If so,\u001b[39;00m\n\u001b[1;32m     66\u001b[0m \u001b[38;5;66;03m# try coercing to desired class without copying (io.registry.read\u001b[39;00m\n\u001b[1;32m     67\u001b[0m \u001b[38;5;66;03m# would normally do a copy).  The normal case here is swapping\u001b[39;00m\n\u001b[1;32m     68\u001b[0m \u001b[38;5;66;03m# Table <=> QTable.\u001b[39;00m\n\u001b[1;32m     69\u001b[0m \u001b[38;5;28;01mif\u001b[39;00m \u001b[38;5;28mcls\u001b[39m \u001b[38;5;129;01mis\u001b[39;00m \u001b[38;5;129;01mnot\u001b[39;00m out\u001b[38;5;241m.\u001b[39m\u001b[38;5;18m__class__\u001b[39m:\n",
      "File \u001b[0;32m~/anaconda3/envs/py3/lib/python3.11/site-packages/astropy/io/registry/core.py:218\u001b[0m, in \u001b[0;36mUnifiedInputRegistry.read\u001b[0;34m(self, cls, format, cache, *args, **kwargs)\u001b[0m\n\u001b[1;32m    213\u001b[0m     \u001b[38;5;28mformat\u001b[39m \u001b[38;5;241m=\u001b[39m \u001b[38;5;28mself\u001b[39m\u001b[38;5;241m.\u001b[39m_get_valid_format(\n\u001b[1;32m    214\u001b[0m         \u001b[38;5;124m\"\u001b[39m\u001b[38;5;124mread\u001b[39m\u001b[38;5;124m\"\u001b[39m, \u001b[38;5;28mcls\u001b[39m, path, fileobj, args, kwargs\n\u001b[1;32m    215\u001b[0m     )\n\u001b[1;32m    217\u001b[0m reader \u001b[38;5;241m=\u001b[39m \u001b[38;5;28mself\u001b[39m\u001b[38;5;241m.\u001b[39mget_reader(\u001b[38;5;28mformat\u001b[39m, \u001b[38;5;28mcls\u001b[39m)\n\u001b[0;32m--> 218\u001b[0m data \u001b[38;5;241m=\u001b[39m reader(\u001b[38;5;241m*\u001b[39margs, \u001b[38;5;241m*\u001b[39m\u001b[38;5;241m*\u001b[39mkwargs)\n\u001b[1;32m    220\u001b[0m \u001b[38;5;28;01mif\u001b[39;00m \u001b[38;5;129;01mnot\u001b[39;00m \u001b[38;5;28misinstance\u001b[39m(data, \u001b[38;5;28mcls\u001b[39m):\n\u001b[1;32m    221\u001b[0m     \u001b[38;5;66;03m# User has read with a subclass where only the parent class is\u001b[39;00m\n\u001b[1;32m    222\u001b[0m     \u001b[38;5;66;03m# registered.  This returns the parent class, so try coercing\u001b[39;00m\n\u001b[1;32m    223\u001b[0m     \u001b[38;5;66;03m# to desired subclass.\u001b[39;00m\n\u001b[1;32m    224\u001b[0m     \u001b[38;5;28;01mtry\u001b[39;00m:\n",
      "File \u001b[0;32m~/anaconda3/envs/py3/lib/python3.11/site-packages/astropy/io/fits/connect.py:246\u001b[0m, in \u001b[0;36mread_table_fits\u001b[0;34m(input, hdu, astropy_native, memmap, character_as_bytes, unit_parse_strict, mask_invalid)\u001b[0m\n\u001b[1;32m    243\u001b[0m hdulist \u001b[38;5;241m=\u001b[39m fits_open(\u001b[38;5;28minput\u001b[39m, character_as_bytes\u001b[38;5;241m=\u001b[39mcharacter_as_bytes, memmap\u001b[38;5;241m=\u001b[39mmemmap)\n\u001b[1;32m    245\u001b[0m \u001b[38;5;28;01mtry\u001b[39;00m:\n\u001b[0;32m--> 246\u001b[0m     \u001b[38;5;28;01mreturn\u001b[39;00m read_table_fits(\n\u001b[1;32m    247\u001b[0m         hdulist,\n\u001b[1;32m    248\u001b[0m         hdu\u001b[38;5;241m=\u001b[39mhdu,\n\u001b[1;32m    249\u001b[0m         astropy_native\u001b[38;5;241m=\u001b[39mastropy_native,\n\u001b[1;32m    250\u001b[0m         unit_parse_strict\u001b[38;5;241m=\u001b[39munit_parse_strict,\n\u001b[1;32m    251\u001b[0m         mask_invalid\u001b[38;5;241m=\u001b[39mmask_invalid,\n\u001b[1;32m    252\u001b[0m     )\n\u001b[1;32m    253\u001b[0m \u001b[38;5;28;01mfinally\u001b[39;00m:\n\u001b[1;32m    254\u001b[0m     hdulist\u001b[38;5;241m.\u001b[39mclose()\n",
      "File \u001b[0;32m~/anaconda3/envs/py3/lib/python3.11/site-packages/astropy/io/fits/connect.py:276\u001b[0m, in \u001b[0;36mread_table_fits\u001b[0;34m(input, hdu, astropy_native, memmap, character_as_bytes, unit_parse_strict, mask_invalid)\u001b[0m\n\u001b[1;32m    274\u001b[0m     masked \u001b[38;5;241m=\u001b[39m \u001b[38;5;28;01mTrue\u001b[39;00m\n\u001b[1;32m    275\u001b[0m \u001b[38;5;28;01melif\u001b[39;00m mask_invalid \u001b[38;5;129;01mand\u001b[39;00m \u001b[38;5;28missubclass\u001b[39m(coltype, np\u001b[38;5;241m.\u001b[39minexact):\n\u001b[0;32m--> 276\u001b[0m     mask \u001b[38;5;241m=\u001b[39m np\u001b[38;5;241m.\u001b[39misnan(data[col\u001b[38;5;241m.\u001b[39mname])\n\u001b[1;32m    277\u001b[0m \u001b[38;5;28;01melif\u001b[39;00m mask_invalid \u001b[38;5;129;01mand\u001b[39;00m \u001b[38;5;28missubclass\u001b[39m(coltype, np\u001b[38;5;241m.\u001b[39mcharacter):\n\u001b[1;32m    278\u001b[0m     mask \u001b[38;5;241m=\u001b[39m col\u001b[38;5;241m.\u001b[39marray \u001b[38;5;241m==\u001b[39m \u001b[38;5;124mb\u001b[39m\u001b[38;5;124m\"\u001b[39m\u001b[38;5;124m\"\u001b[39m\n",
      "\u001b[0;31mKeyboardInterrupt\u001b[0m: "
     ]
    }
   ],
   "source": [
    "#train = Table.read('MPhys/catalogues/lupt_jwst_skymatched_specz.fits',format = 'fits')\n",
    "train = Table.read('MPhys/gpz_catalogues/final_skymatched_abmag_catalogue.fits',format = 'fits')\n"
   ]
  },
  {
   "cell_type": "code",
   "execution_count": null,
   "id": "c7cd41f2",
   "metadata": {},
   "outputs": [],
   "source": [
    "train"
   ]
  },
  {
   "cell_type": "code",
   "execution_count": null,
   "id": "7c6a4b86",
   "metadata": {},
   "outputs": [],
   "source": [
    "#Full catalogue filter names \n",
    "filters_1 = [col.split('_')[1] for col in train.colnames if col.endswith('_aper1')]\n",
    "#print(len(filters_1))\n",
    "print(filters_1)"
   ]
  },
  {
   "cell_type": "code",
   "execution_count": null,
   "id": "6432a237",
   "metadata": {},
   "outputs": [],
   "source": [
    "#### FILTER CHOICES\n",
    "bc= ['f115w-clear','f200w-clear','f356w-clear','f444w-clear']\n",
    "#swap f115w for f814w,f606w,f435w,f125w,f140w,f160w,f150w\n",
    "c1 =['f814w','f200w-clear','f356w-clear','f444w-clear']\n",
    "c2 =['f606w','f200w-clear','f356w-clear','f444w-clear']\n",
    "c3 =['f435w','f200w-clear','f356w-clear','f444w-clear']\n",
    "c4 =['f125w','f200w-clear','f356w-clear','f444w-clear']\n",
    "c5 =['f140w','f200w-clear','f356w-clear','f444w-clear']\n",
    "c6 =['f160w','f200w-clear','f356w-clear','f444w-clear']\n",
    "c7 =['f150w-clear','f200w-clear','f356w-clear','f444w-clear']\n",
    "\n",
    "#swap f444w for f410m\n",
    "c9= ['f115w-clear','f200w-clear','f356w-clear','f410m-clear']\n",
    "c10=['f115w-clear','f606w','f150w-clear','f444w-clear']\n",
    "bc_extra = ['f090w-clear','f115w-clear','f200w-clear','f356w-clear','f444w-clear']\n",
    "swap= ['bc','f814w','f606w','f435w','f125w','f140w','f160w','f150w-clear','f410m-clear','ic','f090w_inc']\n",
    "#num = 0"
   ]
  },
  {
   "cell_type": "code",
   "execution_count": null,
   "id": "9ac64b3b",
   "metadata": {},
   "outputs": [],
   "source": [
    "######change this to make new catalogue of filters\n",
    "aper=1\n",
    "#aper_size=1\n",
    "\n",
    "choice=bc\n",
    "num = 0\n",
    "\n",
    "print(swap[num])\n",
    "lup_train = train['field','id','ra','dec','z_spec']\n",
    "lup_train[f'lupt_{choice[0]}']=train[f'lupt_{choice[0]}_aper{aper}']\n",
    "lup_train[f'lupterr_{choice[0]}']=train[f'lupterr_{choice[0]}_aper{aper}']\n",
    "lup_train[f'lupt_{choice[1]}']=train[f'lupt_{choice[1]}_aper{aper}']\n",
    "lup_train[f'lupterr_{choice[1]}']=train[f'lupterr_{choice[1]}_aper{aper}']\n",
    "lup_train[f'lupt_{choice[2]}']=train[f'lupt_{choice[2]}_aper{aper}']\n",
    "lup_train[f'lupterr_{choice[2]}']=train[f'lupterr_{choice[2]}_aper{aper}']\n",
    "lup_train[f'lupt_{choice[3]}']=train[f'lupt_{choice[3]}_aper{aper}']\n",
    "lup_train[f'lupterr_{choice[3]}']=train[f'lupterr_{choice[3]}_aper{aper}']\n",
    "#lup_train[f'lupt_{choice[4]}']=train[f'lupt_{choice[4]}_aper{aper}']\n",
    "#lup_train[f'lupterr_{choice[4]}']=train[f'lupterr_{choice[4]}_aper{aper}']\n",
    "#Adds size column \n",
    "#lup_train[f'lupt_{choice[3]}_size']=train[f'lupt_{choice[3]}_aper{aper_size}']/train[f'lupt_{choice[3]}_aper{aper}']\n",
    "#lup_train[f'lupterr_{choice[3]}_size']=train[f'lupterr_{choice[3]}_aper{aper_size}']/train[f'lupterr_{choice[3]}_aper{aper}']"
   ]
  },
  {
   "cell_type": "code",
   "execution_count": null,
   "id": "673e2dcd",
   "metadata": {},
   "outputs": [],
   "source": [
    "f1=[]\n",
    "for i in range(len(lup_train)):\n",
    "    f1.append(np.ma.is_masked(lup_train[f'lupt_{choice[0]}'][i]))\n",
    "f1_inv=np.array(np.invert(f1))\n",
    "f1_cat =lup_train[f1_inv*(np.ma.is_masked(lup_train[f'lupt_{choice[0]}']) == True)] "
   ]
  },
  {
   "cell_type": "code",
   "execution_count": null,
   "id": "18d86961",
   "metadata": {},
   "outputs": [],
   "source": [
    "\n",
    "f2=[]\n",
    "for i in range(len(f1_cat)):\n",
    "    f2.append(np.ma.is_masked(f1_cat[f'lupt_{choice[1]}'][i]))\n",
    "f2_inv=np.array(np.invert(f2))\n",
    "f2_cat =f1_cat[f2_inv*(np.ma.is_masked(f1_cat[f'lupt_{choice[1]}']) ==True)] "
   ]
  },
  {
   "cell_type": "code",
   "execution_count": null,
   "id": "cf8378a1",
   "metadata": {},
   "outputs": [],
   "source": [
    "\n",
    "f3=[]\n",
    "for i in range(len(f2_cat)):\n",
    "    f3.append(np.ma.is_masked(f2_cat[f'lupt_{choice[2]}'][i]))\n",
    "f3_inv=np.array(np.invert(f3))\n",
    "f3_cat =f2_cat[f3_inv*(np.ma.is_masked(f2_cat[f'lupt_{choice[2]}']) == True)] "
   ]
  },
  {
   "cell_type": "code",
   "execution_count": null,
   "id": "852aec0f",
   "metadata": {},
   "outputs": [],
   "source": [
    "\n",
    "f4=[]\n",
    "for i in range(len(f3_cat)):\n",
    "    f4.append(np.ma.is_masked(f3_cat[f'lupt_{choice[3]}'][i]))\n",
    "f4_inv=np.array(np.invert(f4))\n",
    "f4_cat =f3_cat[f4_inv*(np.ma.is_masked(f3_cat[f'lupt_{choice[3]}']) == True)] #false idk why but works \n"
   ]
  },
  {
   "cell_type": "code",
   "execution_count": null,
   "id": "9f1eaed0",
   "metadata": {},
   "outputs": [],
   "source": [
    "len(f4_cat)\n"
   ]
  },
  {
   "cell_type": "code",
   "execution_count": null,
   "id": "8bcae069",
   "metadata": {},
   "outputs": [],
   "source": []
  },
  {
   "cell_type": "code",
   "execution_count": null,
   "id": "917b926c",
   "metadata": {},
   "outputs": [],
   "source": [
    "#USE IF USING 5TH FILTER\n",
    "f5=[]\n",
    "for i in range(len(f4_cat)):\n",
    "    f5.append(np.ma.is_masked(f4_cat[f'lupt_{choice[4]}'][i]))\n",
    "f5_inv=np.array(np.invert(f5))\n",
    "f5_cat =f4_cat[f5_inv*(np.ma.is_masked(f4_cat[f'lupterr_{choice[4]}']) ==True)] "
   ]
  },
  {
   "cell_type": "code",
   "execution_count": null,
   "id": "da15c434",
   "metadata": {},
   "outputs": [],
   "source": [
    "f5_cat"
   ]
  },
  {
   "cell_type": "code",
   "execution_count": null,
   "id": "5fc791b4",
   "metadata": {},
   "outputs": [],
   "source": [
    "f4_cat.write(f'MPhys/gmm_files/{swap[num]}_luptitude_full_catalogue.fits',format='fits',overwrite=True)\n",
    "#f5_cat.write(f'MPhys/base_filter_permutations/base_filter_permutations/size/informed_choice_size.cat',format = 'ascii.commented_header',overwrite=True)"
   ]
  },
  {
   "cell_type": "code",
   "execution_count": null,
   "id": "c79e9e01",
   "metadata": {},
   "outputs": [],
   "source": [
    "f5_cat['z_spec'][f5_cat['z_spec']==0]=np.nan"
   ]
  },
  {
   "cell_type": "code",
   "execution_count": null,
   "id": "8be66526",
   "metadata": {},
   "outputs": [],
   "source": [
    "#MAKE THE TRAINING CATALOGUE\n",
    "#USE IF USING 5TH FILTER\n",
    "training=[]\n",
    "for i in range(len(f5_cat)):\n",
    "    training.append(np.isnan(f5_cat['z_spec'][i]))\n",
    "training_inv=np.array(np.invert(training))\n",
    "training_cat =f5_cat[training_inv*(np.isnan(f5_cat['z_spec']) == False)] "
   ]
  },
  {
   "cell_type": "code",
   "execution_count": null,
   "id": "0187c050",
   "metadata": {},
   "outputs": [],
   "source": [
    "training_cat"
   ]
  },
  {
   "cell_type": "code",
   "execution_count": null,
   "id": "1fcb9513",
   "metadata": {},
   "outputs": [],
   "source": [
    "training_cat.write(f'MPhys/gpz_catalogues/{swap[num]}_full_training_cat.cat',format='ascii.commented_header',overwrite=True)"
   ]
  },
  {
   "cell_type": "code",
   "execution_count": null,
   "id": "c7a1b2b6",
   "metadata": {},
   "outputs": [],
   "source": []
  },
  {
   "cell_type": "markdown",
   "id": "c1b12ba3",
   "metadata": {},
   "source": [
    "# Split into high and low redshift\n"
   ]
  },
  {
   "cell_type": "code",
   "execution_count": null,
   "id": "5ad10d7e",
   "metadata": {},
   "outputs": [],
   "source": [
    "num = 11\n",
    "print(swap[num])"
   ]
  },
  {
   "cell_type": "code",
   "execution_count": null,
   "id": "f3fc64cd",
   "metadata": {},
   "outputs": [],
   "source": [
    "\n",
    "t_full =Table.read(f'MPhys/gpz_catalogues/gpz_catalogues/{swap[num]}_full_training_cat.cat',format='ascii.commented_header')\n",
    "#t_full.sort('z_spec')\n",
    "z= t_full['z_spec']\n",
    "bins = np.linspace(np.min(z),np.max(z),5)\n",
    "h2 = np.zeros(len(z))\n",
    "h3 = np.zeros(len(z))\n",
    "h4 = np.zeros(len(z))\n",
    "low = np.zeros(len(z))\n",
    "\n",
    "for i in range(len(z)):\n",
    "    if bins[0]<=z[i]<=bins[1]:\n",
    "        low[i]=1\n",
    "    elif bins[1]<=z[i]<=bins[2]:\n",
    "        h2[i]=1\n",
    "    elif bins[2]<=z[i]<=bins[3]:\n",
    "        h3[i]=1\n",
    "    elif bins[3]<=z[i]<=bins[4]:\n",
    "        h4[i]=1\n",
    "h2_bool = np.array(h2, dtype =bool)\n",
    "h3_bool = np.array(h3, dtype =bool)\n",
    "h4_bool = np.array(h4, dtype =bool)\n",
    "low_bool = np.array(low, dtype =bool)\n",
    "\n",
    "low_cat = t_full[low_bool]\n",
    "h2_cat = t_full[h2_bool]\n",
    "h3_cat = t_full[h3_bool]\n",
    "h4_cat = t_full[h4_bool]\n",
    "h2_lim = int(len(h2_cat)*0.8)\n",
    "h3_lim = int(len(h3_cat)*0.8)\n",
    "h4_lim = int(len(h4_cat)*0.8)\n",
    "low_lim = int(len(low_cat)*0.8)\n",
    "\n",
    "t_low = low_cat[0:low_lim]\n",
    "p_low = low_cat[low_lim:len(low_cat)]\n",
    "\n",
    "t_h2 = h2_cat[0:h2_lim]\n",
    "p_h2 = h2_cat[h2_lim:len(h2_cat)]\n",
    "t_h3 = h3_cat[0:h3_lim]\n",
    "p_h3 = h3_cat[h3_lim:len(h3_cat)]\n",
    "t_h4 = h4_cat[0:h4_lim]\n",
    "p_h4 = h4_cat[h4_lim:len(h4_cat)]\n",
    "\n",
    "\n",
    "t_high = vstack([t_h2,t_h3,t_h4])\n",
    "p_high = vstack([p_h2,p_h3,p_h4])\n"
   ]
  },
  {
   "cell_type": "code",
   "execution_count": null,
   "id": "07059cba",
   "metadata": {},
   "outputs": [],
   "source": [
    "t_all = vstack([t_low,t_high])\n",
    "p_all = vstack([p_low,p_high])\n"
   ]
  },
  {
   "cell_type": "code",
   "execution_count": null,
   "id": "301aab26",
   "metadata": {},
   "outputs": [],
   "source": [
    "t_low.write(f'MPhys/gpz_catalogues/gpz_catalogues/reg_z_split/lowz/TRAIN/train_lowz_{swap[num]}.cat',format = 'ascii.commented_header',overwrite=True)\n",
    "p_low.write(f'MPhys/gpz_catalogues/gpz_catalogues/reg_z_split/lowz/PRED/pred_lowz_{swap[num]}.cat',format = 'ascii.commented_header',overwrite=True)\n",
    "t_high.write(f'MPhys/gpz_catalogues/gpz_catalogues/reg_z_split/highz/TRAIN/train_highz_{swap[num]}.cat',format = 'ascii.commented_header',overwrite=True)\n",
    "p_high.write(f'MPhys/gpz_catalogues/gpz_catalogues/reg_z_split/highz/PRED/pred_highz_{swap[num]}.cat',format = 'ascii.commented_header',overwrite=True)\n",
    "\n",
    "t_all.write(f'MPhys/gpz_catalogues/gpz_catalogues/reg/TRAIN/train_{swap[num]}.cat',format = 'ascii.commented_header',overwrite=True)\n",
    "p_all.write(f'MPhys/gpz_catalogues/gpz_catalogues/reg/PRED/pred_{swap[num]}.cat',format = 'ascii.commented_header',overwrite=True)"
   ]
  },
  {
   "cell_type": "code",
   "execution_count": null,
   "id": "538e286a",
   "metadata": {},
   "outputs": [],
   "source": [
    "#debugging only \n",
    "\n",
    "tmax = np.max(t_high['z_spec'])\n",
    "pmax = np.max(p_high['z_spec'])\n",
    "plt.hist(t_high['z_spec'],label = 'Training')\n",
    "plt.hist(p_high['z_spec'],label ='Prediction')\n",
    "plt.text(8.75,150,f'Training Max = {tmax}')\n",
    "plt.text(8.75,100,f'Pred Max = {pmax}')\n",
    "plt.xlabel('Spec z')\n",
    "plt.legend()\n",
    "plt.title('Base Choice High Redshift Catalogue Distribution')\n",
    "plt.savefig('MPhys/gpz_catalogues/reg_z_split/highz/z_distribution_train_pred.png')"
   ]
  }
 ],
 "metadata": {
  "kernelspec": {
   "display_name": "Python 3 (ipykernel)",
   "language": "python",
   "name": "python3"
  },
  "language_info": {
   "codemirror_mode": {
    "name": "ipython",
    "version": 3
   },
   "file_extension": ".py",
   "mimetype": "text/x-python",
   "name": "python",
   "nbconvert_exporter": "python",
   "pygments_lexer": "ipython3",
   "version": "3.11.5"
  }
 },
 "nbformat": 4,
 "nbformat_minor": 5
}
