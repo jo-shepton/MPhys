{
 "cells": [
  {
   "cell_type": "code",
   "execution_count": null,
   "id": "2b6e314b",
   "metadata": {},
   "outputs": [],
   "source": [
    "pip install wget"
   ]
  },
  {
   "cell_type": "code",
   "execution_count": 1,
   "id": "1101b7d8",
   "metadata": {},
   "outputs": [],
   "source": [
    "import astropy\n",
    "from astropy.table import Table,vstack, Column\n",
    "from subprocess import call\n",
    "import subprocess\n",
    "from astropy.io import fits\n",
    "import numpy as np\n",
    "import wget\n",
    "import matplotlib.pyplot as plt\n",
    "from gpz_pype import utilities\n",
    "from gpz_pype.utilities import Params, set_gpz_path, basic_lupt_soft, flux_to_lupt\n",
    "import astropy.units as u\n",
    "from numpy.ma import masked\n",
    "from astropy.coordinates import SkyCoord\n",
    "from astropy.coordinates import match_coordinates_sky\n",
    "\n",
    "from os import listdir\n",
    "from os.path import isfile, join"
   ]
  },
  {
   "cell_type": "code",
   "execution_count": null,
   "id": "2c713599",
   "metadata": {},
   "outputs": [],
   "source": [
    "#['ceers-full','gdn','primer-uds-south'\n",
    "fields= ['gds','ngdeep','primer-cosmos-east','primer-cosmos-west','primer-uds-north','abell2744clu','abells1063','elgordo','j112716p4228','macs0647','rxj2129','smacs0723','sunrise']"
   ]
  },
  {
   "cell_type": "markdown",
   "id": "f43281fb",
   "metadata": {},
   "source": [
    "# Download Field Files\n"
   ]
  },
  {
   "cell_type": "code",
   "execution_count": null,
   "id": "6fb0bf34",
   "metadata": {},
   "outputs": [],
   "source": [
    "#for field in fields:\n",
    "url=f'https://s3.amazonaws.com/grizli-v2/JwstMosaics/v7/gdn-grizli-v7.0_phot.fits'\n",
    "filename=wget.download(url)\n",
    "#print(f' {field} downloaded')"
   ]
  },
  {
   "cell_type": "code",
   "execution_count": null,
   "id": "febcca0c",
   "metadata": {},
   "outputs": [],
   "source": [
    "hdul= fits.open('MPhys/DAWN_JWST/ceers-full-grizli-v7.0_phot.fits', memmap=True,formats='fits')\n",
    "t = Table.read(hdul)\n",
    "t"
   ]
  },
  {
   "cell_type": "markdown",
   "id": "bf45395a",
   "metadata": {},
   "source": [
    "# Initial Catalogue Making - Run Once\n"
   ]
  },
  {
   "cell_type": "code",
   "execution_count": null,
   "id": "453a7c81",
   "metadata": {},
   "outputs": [],
   "source": [
    "    Insert\n",
    "    Cell\n",
    "    Kernel\n",
    "    Widgets\n",
    "    Help\n",
    "\n",
    "###INITIAL CATALOGUE MAKING\n",
    "hdu_list = fits.open('ceers-full-grizli-v7.0_phot.fits', memmap=True,formats='fits')\n",
    "ceers = Table(hdu_list[1].data)\n",
    "hdu_list.close()\n",
    "\n",
    "hdu_list = fits.open('gdn-grizli-v7.0_phot.fits', memmap=True,formats='fits')\n",
    "gdn= Table(hdu_list[1].data)\n",
    "hdu_list.close()\n",
    "\n",
    "hdu_list = fits.open('gds-grizli-v7.0_phot.fits', memmap=True,formats='fits')\n",
    "gds = Table(hdu_list[1].data)\n",
    "hdu_list.close()\n",
    "\n",
    "hdu_list = fits.open('ngdeep-grizli-v7.0_phot.fits', memmap=True,formats='fits')\n",
    "ngdeep = Table(hdu_list[1].data)\n",
    "hdu_list.close()\n",
    "\n",
    "hdu_list = fits.open('primer-cosmos-east-grizli-v7.0_phot.fits', memmap=True,formats='fits')\n",
    "cosmos_east = Table(hdu_list[1].data)\n",
    "hdu_list.close()\n",
    "\n",
    "hdu_list = fits.open('primer-cosmos-west-grizli-v7.0_phot.fits', memmap=True,formats='fits')\n",
    "cosmos_west = Table(hdu_list[1].data)\n",
    "hdu_list.close()\n",
    "\n",
    "hdu_list = fits.open('primer-uds-south-grizli-v7.0_phot.fits', memmap=True,formats='fits')\n",
    "udss = Table(hdu_list[1].data)\n",
    "hdu_list.close()\n",
    "\n",
    "hdu_list = fits.open('primer-uds-north-grizli-v7.0_phot.fits', memmap=True,formats='fits')\n",
    "udsn = Table(hdu_list[1].data)\n",
    "hdu_list.close()"
   ]
  },
  {
   "cell_type": "code",
   "execution_count": null,
   "id": "f3c72b91",
   "metadata": {},
   "outputs": [],
   "source": [
    "#ADDING FIELDS TO CATALOGUE - RUN BOTH CELLS IF STARTING FROM SCRATCH\n",
    "hdu_list = fits.open('abell2744clu-grizli-v7.0_phot.fits', memmap=True,formats='fits')\n",
    "abell2744 = Table(hdu_list[1].data)\n",
    "hdu_list.close()\n",
    "\n",
    "hdu_list = fits.open('abells1063-grizli-v7.0_phot.fits', memmap=True,formats='fits')\n",
    "abells1063= Table(hdu_list[1].data)\n",
    "hdu_list.close()\n",
    "\n",
    "hdu_list = fits.open('elgordo-grizli-v7.0_phot.fits', memmap=True,formats='fits')\n",
    "elgordo = Table(hdu_list[1].data)\n",
    "hdu_list.close()\n",
    "\n",
    "hdu_list = fits.open('j112716p4228-grizli-v7.0_phot.fits', memmap=True,formats='fits')\n",
    "j_field = Table(hdu_list[1].data)\n",
    "hdu_list.close()\n",
    "\n",
    "hdu_list = fits.open('macs0647-grizli-v7.0_phot.fits', memmap=True,formats='fits')\n",
    "macs = Table(hdu_list[1].data)\n",
    "hdu_list.close()\n",
    "\n",
    "hdu_list = fits.open('rxj2129-grizli-v7.0_phot.fits', memmap=True,formats='fits')\n",
    "rxj = Table(hdu_list[1].data)\n",
    "hdu_list.close()\n",
    "\n",
    "hdu_list = fits.open('smacs0723-grizli-v7.0_phot.fits', memmap=True,formats='fits')\n",
    "smacs = Table(hdu_list[1].data)\n",
    "hdu_list.close()\n",
    "\n",
    "hdu_list = fits.open('sunrise-grizli-v7.0_phot.fits', memmap=True,formats='fits')\n",
    "sunrise = Table(hdu_list[1].data)\n",
    "hdu_list.close()"
   ]
  },
  {
   "cell_type": "code",
   "execution_count": null,
   "id": "1080d525",
   "metadata": {},
   "outputs": [],
   "source": [
    "abell2744.add_column('abells2744clu', name='field', index=0)\n",
    "abells1063.add_column('abells1063', name='field', index=0)\n",
    "elgordo.add_column('elgordo', name='field', index=0)\n",
    "j_field.add_column('j112716p4228', name='field', index=0)\n",
    "macs.add_column('macs0647', name='field', index=0)\n",
    "rxj.add_column('rxj2129', name='field', index=0)\n",
    "smacs.add_column('smacs0723', name='field', index=0)\n",
    "sunrise.add_column('sunrise', name='field', index=0)"
   ]
  },
  {
   "cell_type": "code",
   "execution_count": null,
   "id": "526d2dc0",
   "metadata": {},
   "outputs": [],
   "source": [
    "ceers.add_column('ceers', name='field', index=0)\n",
    "gdn.add_column('gdn', name='field', index=0)\n",
    "gds.add_column('gds', name='field', index=0)\n",
    "ngdeep.add_column('ngdeep', name='field', index=0)\n",
    "cosmos_east.add_column('cosmos_east', name='field', index=0)\n",
    "cosmos_west.add_column('cosmos_west', name='field', index=0)\n",
    "udsn.add_column('udsn', name='field', index=0)\n",
    "udss.add_column('udss', name='field', index=0)"
   ]
  },
  {
   "cell_type": "code",
   "execution_count": null,
   "id": "a5b835f9",
   "metadata": {},
   "outputs": [],
   "source": [
    "main = vstack([ceers,gdn,gds])#,ngdeep,cosmos_east,cosmos_west,udsn,udss])"
   ]
  },
  {
   "cell_type": "code",
   "execution_count": null,
   "id": "2db9c98d",
   "metadata": {},
   "outputs": [],
   "source": [
    "m2 = vstack([main,ngdeep,cosmos_east])#,cosmos_west])"
   ]
  },
  {
   "cell_type": "code",
   "execution_count": null,
   "id": "bc28c042",
   "metadata": {},
   "outputs": [],
   "source": [
    "m3 = vstack([m2,udsn,udss])"
   ]
  },
  {
   "cell_type": "code",
   "execution_count": null,
   "id": "26cc3699",
   "metadata": {},
   "outputs": [],
   "source": [
    "m4 = vstack([m3,cosmos_west])"
   ]
  },
  {
   "cell_type": "code",
   "execution_count": null,
   "id": "82d69fe6",
   "metadata": {},
   "outputs": [],
   "source": [
    "side = vstack([abell2744,abells1063,elgordo,j_field,macs,rxj,smacs,sunrise])"
   ]
  },
  {
   "cell_type": "code",
   "execution_count": null,
   "id": "0dff1264",
   "metadata": {},
   "outputs": [],
   "source": [
    "m4.write('MPhys/original_jwst_data/main_merged.fits',format='fits',overwrite=True)"
   ]
  },
  {
   "cell_type": "code",
   "execution_count": null,
   "id": "07260a76",
   "metadata": {},
   "outputs": [],
   "source": [
    "side.write('MPhys/original_jwst_data/other_merged.fits',format='fits',overwrite=True)"
   ]
  },
  {
   "cell_type": "code",
   "execution_count": null,
   "id": "fd7e89b7",
   "metadata": {},
   "outputs": [],
   "source": [
    "all_merge = vstack([m4,side])"
   ]
  },
  {
   "cell_type": "code",
   "execution_count": null,
   "id": "2917756f",
   "metadata": {},
   "outputs": [],
   "source": [
    "#all_merge.write('MPhys/original_jwst_data/all_merged_abmag.fits',format='fits',overwrite=True)"
   ]
  },
  {
   "cell_type": "code",
   "execution_count": null,
   "id": "aa2c448e",
   "metadata": {},
   "outputs": [],
   "source": [
    "#fields_new= ['ceers','gdn','gds','ngdeep','cosmos_east','cosmos_west','udsn','udss','abell2744','abells1063','elgordo','j_field','macs','rxj','smacs','sunrise']"
   ]
  },
  {
   "cell_type": "code",
   "execution_count": null,
   "id": "184f1682",
   "metadata": {},
   "outputs": [],
   "source": [
    "jwst_merge = Table.read('MPhys/original_jwst_data/all_merged_ab.fits',format ='fits')"
   ]
  },
  {
   "cell_type": "code",
   "execution_count": null,
   "id": "a3c6e106",
   "metadata": {},
   "outputs": [],
   "source": [
    "#jwst_merge.add_column(np.nan,name = 'z_spec',index = 3)\n",
    "jwst_merge.write('MPhys/original_jwst_data/all_merged_ab.fits',format='fits',overwrite=True)"
   ]
  },
  {
   "cell_type": "code",
   "execution_count": null,
   "id": "7859c031",
   "metadata": {},
   "outputs": [],
   "source": []
  },
  {
   "cell_type": "markdown",
   "id": "55f09942",
   "metadata": {},
   "source": [
    "## CANDELS"
   ]
  },
  {
   "cell_type": "code",
   "execution_count": null,
   "id": "ae5371ff",
   "metadata": {},
   "outputs": [],
   "source": [
    "cosmos = Table.read('MPhys/CANDELS/CANDELS.COSMOS.F160W.Processed.photz.fits',format='fits')\n",
    "egs = Table.read('MPhys/CANDELS/CANDELS.EGS.F160W.Processed.photz.fits',format='fits')\n",
    "uds_candels = Table.read('MPhys/CANDELS/CANDELS.UDS.F160W.Processed.photz.fits',format='fits')\n",
    "gds_candels = Table.read('MPhys/CANDELS/CANDELS.GOODSS.F160W.Processed.photz.fits',format='fits')\n",
    "gdn_candels = Table.read('MPhys/CANDELS/CANDELS.GOODSN.F160W.Processed.photz.fits',format='fits')"
   ]
  },
  {
   "cell_type": "code",
   "execution_count": null,
   "id": "21ffa68d",
   "metadata": {},
   "outputs": [],
   "source": [
    "candels = vstack([cosmos,egs,uds_candels,gds_candels,gdn_candels])"
   ]
  },
  {
   "cell_type": "code",
   "execution_count": null,
   "id": "557ae850",
   "metadata": {},
   "outputs": [],
   "source": [
    "candels.write('MPhys/CANDELS/candels_combined.fits',format='fits')"
   ]
  },
  {
   "cell_type": "markdown",
   "id": "71a85fab",
   "metadata": {},
   "source": [
    "# Convert to Luptiudes for Each Field\n"
   ]
  },
  {
   "cell_type": "code",
   "execution_count": null,
   "id": "7a2800e5",
   "metadata": {},
   "outputs": [],
   "source": [
    "field=gds\n"
   ]
  },
  {
   "cell_type": "code",
   "execution_count": null,
   "id": "1915ac57",
   "metadata": {},
   "outputs": [],
   "source": [
    "filters0 = [col.split('_')[0] for col in field.colnames if col.endswith('flux_aper_0')]\n",
    "filters0=filters0[1:]\n",
    "filters1 = [col.split('_')[0] for col in field.colnames if col.endswith('flux_aper_1')]\n",
    "filters1=filters1[1:]\n",
    "\n",
    "filters2 = [col.split('_')[0] for col in field.colnames if col.endswith('flux_aper_2')]\n",
    "filters2=filters2[1:]\n",
    "\n",
    "filters3 = [col.split('_')[0] for col in field.colnames if col.endswith('flux_aper_3')]\n",
    "filters3=filters3[1:]\n",
    "\n"
   ]
  },
  {
   "cell_type": "code",
   "execution_count": null,
   "id": "70cf70a2",
   "metadata": {},
   "outputs": [],
   "source": [
    "\n",
    "b_arr0 = [basic_lupt_soft(field[f'{filt}_flux_aper_0'], field[f'{filt}_fluxerr_aper_0']) for filt in filters0] \n",
    "b_arr1 = [basic_lupt_soft(field[f'{filt}_flux_aper_1'], field[f'{filt}_fluxerr_aper_1']) for filt in filters1] \n",
    "b_arr2 = [basic_lupt_soft(field[f'{filt}_flux_aper_2'], field[f'{filt}_fluxerr_aper_2']) for filt in filters2] \n",
    "b_arr3 = [basic_lupt_soft(field[f'{filt}_flux_aper_3'], field[f'{filt}_fluxerr_aper_3']) for filt in filters3] "
   ]
  },
  {
   "cell_type": "code",
   "execution_count": null,
   "id": "d1184a91",
   "metadata": {},
   "outputs": [],
   "source": [
    "i=2\n",
    "lupt_cols=field['field','id','ra','dec']\n",
    "\n",
    "for filt,b in zip(filters0,b_arr0):\n",
    "    lupt,lupterr = flux_to_lupt(field[f'{filt}_flux_aper_0'],field[f'{filt}_fluxerr_aper_0'],b)\n",
    "    lupt_cols[f'lupt_{filt}_aper0']=lupt\n",
    "    lupt_cols[f'lupterr_{filt}_aper0']=lupterr\n",
    "for filt,b in zip(filters1,b_arr1):\n",
    "    lupt,lupterr = flux_to_lupt(field[f'{filt}_flux_aper_1'],field[f'{filt}_fluxerr_aper_1'],b)\n",
    "    lupt_cols[f'lupt_{filt}_aper1']=lupt\n",
    "    lupt_cols[f'lupterr_{filt}_aper1']=lupterr\n",
    "for filt,b in zip(filters2,b_arr2):\n",
    "    lupt,lupterr = flux_to_lupt(field[f'{filt}_flux_aper_2'],field[f'{filt}_fluxerr_aper_2'],b)\n",
    "    lupt_cols[f'lupt_{filt}_aper2']=lupt\n",
    "    lupt_cols[f'lupterr_{filt}_aper2']=lupterr\n",
    "for filt,b in zip(filters3,b_arr3):\n",
    "    lupt,lupterr = flux_to_lupt(field[f'{filt}_flux_aper_3'],field[f'{filt}_fluxerr_aper_3'],b)\n",
    "    lupt_cols[f'lupt_{filt}_aper3']=lupt\n",
    "    lupt_cols[f'lupterr_{filt}_aper3']=lupterr\n",
    "\n",
    "lupt_cols.write(f'MPhys/catalogues/{fields[i]}_lupts.fits',format='fits', overwrite=True)"
   ]
  },
  {
   "cell_type": "code",
   "execution_count": null,
   "id": "ed312191",
   "metadata": {},
   "outputs": [],
   "source": [
    "t = Table.read('MPhys/catalogues/gds_lupts.fits',format ='fits')\n",
    "t"
   ]
  },
  {
   "cell_type": "code",
   "execution_count": null,
   "id": "98db9049",
   "metadata": {},
   "outputs": [],
   "source": []
  },
  {
   "cell_type": "code",
   "execution_count": null,
   "id": "40c577f9",
   "metadata": {},
   "outputs": [],
   "source": [
    "lup_ceers=Table.read('MPhys/catalogues/ceers-full_lupts.fits',format='fits')\n",
    "lup_gds=Table.read('MPhys/catalogues/gds_lupts.fits',format='fits')\n",
    "lup_gdn=Table.read('MPhys/catalogues/gdn_lupts.fits',format='fits')\n",
    "lup_ngdeep=Table.read('MPhys/catalogues/ngdeep_lupts.fits',format='fits')\n",
    "lup_udss=Table.read('MPhys/catalogues/primer-uds-south_lupts.fits',format='fits')\n",
    "lup_udsn=Table.read('MPhys/catalogues/primer-uds-north_lupts.fits',format='fits')\n",
    "lup_cosmos_east=Table.read('MPhys/catalogues/primer-cosmos-east_lupts.fits',format='fits')\n",
    "lup_cosmos_west=Table.read('MPhys/catalogues/primer-cosmos-west_lupts.fits',format='fits')"
   ]
  },
  {
   "cell_type": "code",
   "execution_count": null,
   "id": "83e37b52",
   "metadata": {},
   "outputs": [],
   "source": [
    "lup_abell2744clu = Table.read('MPhys/catalogues/abell2744clu_lupts.fits',format='fits')\n",
    "lup_abells1063=Table.read('MPhys/catalogues/abells1063_lupts.fits',format='fits')\n",
    "lup_elgordo=Table.read('MPhys/catalogues/elgordo_lupts.fits',format='fits')\n",
    "lup_j112716p4228=Table.read('MPhys/catalogues/j112716p4228_lupts.fits',format='fits')\n",
    "lup_macs0647=Table.read('MPhys/catalogues/macs0647_lupts.fits',format='fits')\n",
    "lup_rxj2129=Table.read('MPhys/catalogues/rxj2129_lupts.fits',format='fits')\n",
    "lup_smacs0723=Table.read('MPhys/catalogues/smacs0723_lupts.fits',format='fits')\n",
    "lup_sunrise=Table.read('MPhys/catalogues/sunrise_lupts.fits',format='fits')"
   ]
  },
  {
   "cell_type": "code",
   "execution_count": null,
   "id": "06489fad",
   "metadata": {},
   "outputs": [],
   "source": [
    "#saves laptop dying if split up \n",
    "lup_con =vstack([lup_ceers,lup_gds,lup_gdn,lup_ngdeep,lup_udss,lup_udsn,lup_cosmos_east,lup_cosmos_west,lup_abell2744clu])\n"
   ]
  },
  {
   "cell_type": "code",
   "execution_count": null,
   "id": "d48dd48f",
   "metadata": {},
   "outputs": [],
   "source": []
  },
  {
   "cell_type": "code",
   "execution_count": null,
   "id": "ccc3591a",
   "metadata": {},
   "outputs": [],
   "source": []
  },
  {
   "cell_type": "code",
   "execution_count": null,
   "id": "df3daf73",
   "metadata": {},
   "outputs": [],
   "source": [
    "#most small fields not in specz confirmed so not included rn \n",
    "\n",
    "lup_con_small = vstack([lup_abell2744clu,lup_abells1063,lup_elgordo,lup_j112716p4228,lup_macs0647,lup_rxj2129,lup_smacs0723,lup_sunrise])"
   ]
  },
  {
   "cell_type": "code",
   "execution_count": null,
   "id": "31e01e4a",
   "metadata": {},
   "outputs": [],
   "source": [
    "lup_total = vstack([lup_con,lup_con_small])"
   ]
  },
  {
   "cell_type": "code",
   "execution_count": null,
   "id": "a528b40f",
   "metadata": {},
   "outputs": [],
   "source": [
    "#needs to be done in CP Lab \n",
    "lup_total.write('luptitudes_all_jwst.fits', format='fits', overwrite=True)"
   ]
  },
  {
   "cell_type": "code",
   "execution_count": 2,
   "id": "1548fcdc",
   "metadata": {},
   "outputs": [],
   "source": [
    "t = Table.read('luptitudes_all_jwst.fits', format='fits')\n",
    "t.add_column(np.nan, name='z_spec',index =4)\n"
   ]
  },
  {
   "cell_type": "code",
   "execution_count": 3,
   "id": "bd76fe06",
   "metadata": {},
   "outputs": [
    {
     "name": "stdout",
     "output_type": "stream",
     "text": [
      "530526\n",
      "[     0      1      2 ... 530523 530524 530525]\n"
     ]
    }
   ],
   "source": [
    "print(len(t))\n",
    "new_id = np.arange(0,len(t),1)\n",
    "print(new_id)\n",
    "t['id']= new_id"
   ]
  },
  {
   "cell_type": "code",
   "execution_count": 22,
   "id": "99ecc79e",
   "metadata": {},
   "outputs": [
    {
     "data": {
      "text/html": [
       "<div><i>Table length=530526</i>\n",
       "<table id=\"table140198608325264\" class=\"table-striped table-bordered table-condensed\">\n",
       "<thead><tr><th>field</th><th>id</th><th>ra</th><th>dec</th><th>z_spec</th><th>lupt_f1000w_aper0</th><th>lupterr_f1000w_aper0</th><th>lupt_f105w_aper0</th><th>lupterr_f105w_aper0</th><th>lupt_f115w-clear_aper0</th><th>lupterr_f115w-clear_aper0</th><th>lupt_f125w_aper0</th><th>lupterr_f125w_aper0</th><th>lupt_f1280w_aper0</th><th>lupterr_f1280w_aper0</th><th>lupt_f140w_aper0</th><th>lupterr_f140w_aper0</th><th>lupt_f1500w_aper0</th><th>lupterr_f1500w_aper0</th><th>lupt_f150w-clear_aper0</th><th>lupterr_f150w-clear_aper0</th><th>lupt_f160w_aper0</th><th>lupterr_f160w_aper0</th><th>lupt_f1800w_aper0</th><th>lupterr_f1800w_aper0</th><th>lupt_f182m-clear_aper0</th><th>lupterr_f182m-clear_aper0</th><th>lupt_f200w-clear_aper0</th><th>lupterr_f200w-clear_aper0</th><th>lupt_f2100w_aper0</th><th>lupterr_f2100w_aper0</th><th>lupt_f210m-clear_aper0</th><th>lupterr_f210m-clear_aper0</th><th>lupt_f275wu_aper0</th><th>lupterr_f275wu_aper0</th><th>lupt_f277w-clear_aper0</th><th>lupterr_f277w-clear_aper0</th><th>lupt_f356w-clear_aper0</th><th>lupterr_f356w-clear_aper0</th><th>lupt_f410m-clear_aper0</th><th>lupterr_f410m-clear_aper0</th><th>lupt_f435w_aper0</th><th>lupterr_f435w_aper0</th><th>lupt_f444w-clear_aper0</th><th>lupterr_f444w-clear_aper0</th><th>lupt_f560w_aper0</th><th>lupterr_f560w_aper0</th><th>lupt_f606w_aper0</th><th>lupterr_f606w_aper0</th><th>lupt_f606wu_aper0</th><th>lupterr_f606wu_aper0</th><th>lupt_f770w_aper0</th><th>lupterr_f770w_aper0</th><th>lupt_f814w_aper0</th><th>lupterr_f814w_aper0</th><th>lupt_f1000w_aper1</th><th>lupterr_f1000w_aper1</th><th>lupt_f105w_aper1</th><th>lupterr_f105w_aper1</th><th>lupt_f115w-clear_aper1</th><th>lupterr_f115w-clear_aper1</th><th>lupt_f125w_aper1</th><th>lupterr_f125w_aper1</th><th>lupt_f1280w_aper1</th><th>lupterr_f1280w_aper1</th><th>lupt_f140w_aper1</th><th>lupterr_f140w_aper1</th><th>lupt_f1500w_aper1</th><th>lupterr_f1500w_aper1</th><th>lupt_f150w-clear_aper1</th><th>lupterr_f150w-clear_aper1</th><th>lupt_f160w_aper1</th><th>lupterr_f160w_aper1</th><th>lupt_f1800w_aper1</th><th>lupterr_f1800w_aper1</th><th>lupt_f182m-clear_aper1</th><th>lupterr_f182m-clear_aper1</th><th>lupt_f200w-clear_aper1</th><th>lupterr_f200w-clear_aper1</th><th>lupt_f2100w_aper1</th><th>lupterr_f2100w_aper1</th><th>lupt_f210m-clear_aper1</th><th>lupterr_f210m-clear_aper1</th><th>lupt_f275wu_aper1</th><th>lupterr_f275wu_aper1</th><th>lupt_f277w-clear_aper1</th><th>lupterr_f277w-clear_aper1</th><th>lupt_f356w-clear_aper1</th><th>lupterr_f356w-clear_aper1</th><th>lupt_f410m-clear_aper1</th><th>lupterr_f410m-clear_aper1</th><th>lupt_f435w_aper1</th><th>lupterr_f435w_aper1</th><th>lupt_f444w-clear_aper1</th><th>lupterr_f444w-clear_aper1</th><th>lupt_f560w_aper1</th><th>lupterr_f560w_aper1</th><th>lupt_f606w_aper1</th><th>lupterr_f606w_aper1</th><th>lupt_f606wu_aper1</th><th>lupterr_f606wu_aper1</th><th>lupt_f770w_aper1</th><th>lupterr_f770w_aper1</th><th>lupt_f814w_aper1</th><th>lupterr_f814w_aper1</th><th>lupt_f1000w_aper2</th><th>lupterr_f1000w_aper2</th><th>lupt_f105w_aper2</th><th>lupterr_f105w_aper2</th><th>lupt_f115w-clear_aper2</th><th>lupterr_f115w-clear_aper2</th><th>lupt_f125w_aper2</th><th>lupterr_f125w_aper2</th><th>lupt_f1280w_aper2</th><th>lupterr_f1280w_aper2</th><th>lupt_f140w_aper2</th><th>lupterr_f140w_aper2</th><th>lupt_f1500w_aper2</th><th>lupterr_f1500w_aper2</th><th>lupt_f150w-clear_aper2</th><th>lupterr_f150w-clear_aper2</th><th>lupt_f160w_aper2</th><th>lupterr_f160w_aper2</th><th>lupt_f1800w_aper2</th><th>lupterr_f1800w_aper2</th><th>lupt_f182m-clear_aper2</th><th>lupterr_f182m-clear_aper2</th><th>lupt_f200w-clear_aper2</th><th>lupterr_f200w-clear_aper2</th><th>lupt_f2100w_aper2</th><th>lupterr_f2100w_aper2</th><th>lupt_f210m-clear_aper2</th><th>lupterr_f210m-clear_aper2</th><th>lupt_f275wu_aper2</th><th>lupterr_f275wu_aper2</th><th>lupt_f277w-clear_aper2</th><th>lupterr_f277w-clear_aper2</th><th>lupt_f356w-clear_aper2</th><th>lupterr_f356w-clear_aper2</th><th>lupt_f410m-clear_aper2</th><th>lupterr_f410m-clear_aper2</th><th>lupt_f435w_aper2</th><th>lupterr_f435w_aper2</th><th>lupt_f444w-clear_aper2</th><th>lupterr_f444w-clear_aper2</th><th>lupt_f560w_aper2</th><th>lupterr_f560w_aper2</th><th>lupt_f606w_aper2</th><th>lupterr_f606w_aper2</th><th>lupt_f606wu_aper2</th><th>lupterr_f606wu_aper2</th><th>lupt_f770w_aper2</th><th>lupterr_f770w_aper2</th><th>lupt_f814w_aper2</th><th>lupterr_f814w_aper2</th><th>lupt_f1000w_aper3</th><th>lupterr_f1000w_aper3</th><th>lupt_f105w_aper3</th><th>lupterr_f105w_aper3</th><th>lupt_f115w-clear_aper3</th><th>lupterr_f115w-clear_aper3</th><th>lupt_f125w_aper3</th><th>lupterr_f125w_aper3</th><th>lupt_f1280w_aper3</th><th>lupterr_f1280w_aper3</th><th>lupt_f140w_aper3</th><th>lupterr_f140w_aper3</th><th>lupt_f1500w_aper3</th><th>lupterr_f1500w_aper3</th><th>lupt_f150w-clear_aper3</th><th>lupterr_f150w-clear_aper3</th><th>lupt_f160w_aper3</th><th>lupterr_f160w_aper3</th><th>lupt_f1800w_aper3</th><th>lupterr_f1800w_aper3</th><th>lupt_f182m-clear_aper3</th><th>lupterr_f182m-clear_aper3</th><th>lupt_f200w-clear_aper3</th><th>lupterr_f200w-clear_aper3</th><th>lupt_f2100w_aper3</th><th>lupterr_f2100w_aper3</th><th>lupt_f210m-clear_aper3</th><th>lupterr_f210m-clear_aper3</th><th>lupt_f275wu_aper3</th><th>lupterr_f275wu_aper3</th><th>lupt_f277w-clear_aper3</th><th>lupterr_f277w-clear_aper3</th><th>lupt_f356w-clear_aper3</th><th>lupterr_f356w-clear_aper3</th><th>lupt_f410m-clear_aper3</th><th>lupterr_f410m-clear_aper3</th><th>lupt_f435w_aper3</th><th>lupterr_f435w_aper3</th><th>lupt_f444w-clear_aper3</th><th>lupterr_f444w-clear_aper3</th><th>lupt_f560w_aper3</th><th>lupterr_f560w_aper3</th><th>lupt_f606w_aper3</th><th>lupterr_f606w_aper3</th><th>lupt_f606wu_aper3</th><th>lupterr_f606wu_aper3</th><th>lupt_f770w_aper3</th><th>lupterr_f770w_aper3</th><th>lupt_f814w_aper3</th><th>lupterr_f814w_aper3</th><th>lupt_clearp-f430m_aper0</th><th>lupterr_clearp-f430m_aper0</th><th>lupt_clearp-f480m_aper0</th><th>lupterr_clearp-f480m_aper0</th><th>lupt_f090w-clear_aper0</th><th>lupterr_f090w-clear_aper0</th><th>lupt_f110w_aper0</th><th>lupterr_f110w_aper0</th><th>lupt_f115wn-clear_aper0</th><th>lupterr_f115wn-clear_aper0</th><th>lupt_f150wn-clear_aper0</th><th>lupterr_f150wn-clear_aper0</th><th>lupt_f200wn-clear_aper0</th><th>lupterr_f200wn-clear_aper0</th><th>lupt_f335m-clear_aper0</th><th>lupterr_f335m-clear_aper0</th><th>lupt_f350lpu_aper0</th><th>lupterr_f350lpu_aper0</th><th>lupt_f430m-clear_aper0</th><th>lupterr_f430m-clear_aper0</th><th>lupt_f460m-clear_aper0</th><th>lupterr_f460m-clear_aper0</th><th>lupt_f475w_aper0</th><th>lupterr_f475w_aper0</th><th>lupt_f480m-clear_aper0</th><th>lupterr_f480m-clear_aper0</th><th>lupt_f775w_aper0</th><th>lupterr_f775w_aper0</th><th>lupt_f814wu_aper0</th><th>lupterr_f814wu_aper0</th><th>lupt_f850lp_aper0</th><th>lupterr_f850lp_aper0</th><th>lupt_f850lpu_aper0</th><th>lupterr_f850lpu_aper0</th><th>lupt_clearp-f430m_aper1</th><th>lupterr_clearp-f430m_aper1</th><th>lupt_clearp-f480m_aper1</th><th>lupterr_clearp-f480m_aper1</th><th>lupt_f090w-clear_aper1</th><th>lupterr_f090w-clear_aper1</th><th>lupt_f110w_aper1</th><th>lupterr_f110w_aper1</th><th>lupt_f115wn-clear_aper1</th><th>lupterr_f115wn-clear_aper1</th><th>lupt_f150wn-clear_aper1</th><th>lupterr_f150wn-clear_aper1</th><th>lupt_f200wn-clear_aper1</th><th>lupterr_f200wn-clear_aper1</th><th>lupt_f335m-clear_aper1</th><th>lupterr_f335m-clear_aper1</th><th>lupt_f350lpu_aper1</th><th>lupterr_f350lpu_aper1</th><th>lupt_f430m-clear_aper1</th><th>lupterr_f430m-clear_aper1</th><th>lupt_f460m-clear_aper1</th><th>lupterr_f460m-clear_aper1</th><th>lupt_f475w_aper1</th><th>lupterr_f475w_aper1</th><th>lupt_f480m-clear_aper1</th><th>lupterr_f480m-clear_aper1</th><th>lupt_f775w_aper1</th><th>lupterr_f775w_aper1</th><th>lupt_f814wu_aper1</th><th>lupterr_f814wu_aper1</th><th>lupt_f850lp_aper1</th><th>lupterr_f850lp_aper1</th><th>lupt_f850lpu_aper1</th><th>lupterr_f850lpu_aper1</th><th>lupt_clearp-f430m_aper2</th><th>lupterr_clearp-f430m_aper2</th><th>lupt_clearp-f480m_aper2</th><th>lupterr_clearp-f480m_aper2</th><th>lupt_f090w-clear_aper2</th><th>lupterr_f090w-clear_aper2</th><th>lupt_f110w_aper2</th><th>lupterr_f110w_aper2</th><th>lupt_f115wn-clear_aper2</th><th>lupterr_f115wn-clear_aper2</th><th>lupt_f150wn-clear_aper2</th><th>lupterr_f150wn-clear_aper2</th><th>lupt_f200wn-clear_aper2</th><th>lupterr_f200wn-clear_aper2</th><th>lupt_f335m-clear_aper2</th><th>lupterr_f335m-clear_aper2</th><th>lupt_f350lpu_aper2</th><th>lupterr_f350lpu_aper2</th><th>lupt_f430m-clear_aper2</th><th>lupterr_f430m-clear_aper2</th><th>lupt_f460m-clear_aper2</th><th>lupterr_f460m-clear_aper2</th><th>lupt_f475w_aper2</th><th>lupterr_f475w_aper2</th><th>lupt_f480m-clear_aper2</th><th>lupterr_f480m-clear_aper2</th><th>lupt_f775w_aper2</th><th>lupterr_f775w_aper2</th><th>lupt_f814wu_aper2</th><th>lupterr_f814wu_aper2</th><th>lupt_f850lp_aper2</th><th>lupterr_f850lp_aper2</th><th>lupt_f850lpu_aper2</th><th>lupterr_f850lpu_aper2</th><th>lupt_clearp-f430m_aper3</th><th>lupterr_clearp-f430m_aper3</th><th>lupt_clearp-f480m_aper3</th><th>lupterr_clearp-f480m_aper3</th><th>lupt_f090w-clear_aper3</th><th>lupterr_f090w-clear_aper3</th><th>lupt_f110w_aper3</th><th>lupterr_f110w_aper3</th><th>lupt_f115wn-clear_aper3</th><th>lupterr_f115wn-clear_aper3</th><th>lupt_f150wn-clear_aper3</th><th>lupterr_f150wn-clear_aper3</th><th>lupt_f200wn-clear_aper3</th><th>lupterr_f200wn-clear_aper3</th><th>lupt_f335m-clear_aper3</th><th>lupterr_f335m-clear_aper3</th><th>lupt_f350lpu_aper3</th><th>lupterr_f350lpu_aper3</th><th>lupt_f430m-clear_aper3</th><th>lupterr_f430m-clear_aper3</th><th>lupt_f460m-clear_aper3</th><th>lupterr_f460m-clear_aper3</th><th>lupt_f475w_aper3</th><th>lupterr_f475w_aper3</th><th>lupt_f480m-clear_aper3</th><th>lupterr_f480m-clear_aper3</th><th>lupt_f775w_aper3</th><th>lupterr_f775w_aper3</th><th>lupt_f814wu_aper3</th><th>lupterr_f814wu_aper3</th><th>lupt_f850lp_aper3</th><th>lupterr_f850lp_aper3</th><th>lupt_f850lpu_aper3</th><th>lupterr_f850lpu_aper3</th><th>lupt_f336wu_aper0</th><th>lupterr_f336wu_aper0</th><th>lupt_f336wu_aper1</th><th>lupterr_f336wu_aper1</th><th>lupt_f336wu_aper2</th><th>lupterr_f336wu_aper2</th><th>lupt_f336wu_aper3</th><th>lupterr_f336wu_aper3</th><th>lupt_clearp-f356w_aper0</th><th>lupterr_clearp-f356w_aper0</th><th>lupt_clearp-f444w_aper0</th><th>lupterr_clearp-f444w_aper0</th><th>lupt_f225wu_aper0</th><th>lupterr_f225wu_aper0</th><th>lupt_clearp-f356w_aper1</th><th>lupterr_clearp-f356w_aper1</th><th>lupt_clearp-f444w_aper1</th><th>lupterr_clearp-f444w_aper1</th><th>lupt_f225wu_aper1</th><th>lupterr_f225wu_aper1</th><th>lupt_clearp-f356w_aper2</th><th>lupterr_clearp-f356w_aper2</th><th>lupt_clearp-f444w_aper2</th><th>lupterr_clearp-f444w_aper2</th><th>lupt_f225wu_aper2</th><th>lupterr_f225wu_aper2</th><th>lupt_clearp-f356w_aper3</th><th>lupterr_clearp-f356w_aper3</th><th>lupt_clearp-f444w_aper3</th><th>lupterr_clearp-f444w_aper3</th><th>lupt_f225wu_aper3</th><th>lupterr_f225wu_aper3</th><th>lupt_f250m-clear_aper0</th><th>lupterr_f250m-clear_aper0</th><th>lupt_f300m-clear_aper0</th><th>lupterr_f300m-clear_aper0</th><th>lupt_f625w_aper0</th><th>lupterr_f625w_aper0</th><th>lupt_f250m-clear_aper1</th><th>lupterr_f250m-clear_aper1</th><th>lupt_f300m-clear_aper1</th><th>lupterr_f300m-clear_aper1</th><th>lupt_f625w_aper1</th><th>lupterr_f625w_aper1</th><th>lupt_f250m-clear_aper2</th><th>lupterr_f250m-clear_aper2</th><th>lupt_f300m-clear_aper2</th><th>lupterr_f300m-clear_aper2</th><th>lupt_f625w_aper2</th><th>lupterr_f625w_aper2</th><th>lupt_f250m-clear_aper3</th><th>lupterr_f250m-clear_aper3</th><th>lupt_f300m-clear_aper3</th><th>lupterr_f300m-clear_aper3</th><th>lupt_f625w_aper3</th><th>lupterr_f625w_aper3</th><th>lupt_f390wu_aper0</th><th>lupterr_f390wu_aper0</th><th>lupt_f555w_aper0</th><th>lupterr_f555w_aper0</th><th>lupt_f390wu_aper1</th><th>lupterr_f390wu_aper1</th><th>lupt_f555w_aper1</th><th>lupterr_f555w_aper1</th><th>lupt_f390wu_aper2</th><th>lupterr_f390wu_aper2</th><th>lupt_f555w_aper2</th><th>lupterr_f555w_aper2</th><th>lupt_f390wu_aper3</th><th>lupterr_f390wu_aper3</th><th>lupt_f555w_aper3</th><th>lupterr_f555w_aper3</th></tr></thead>\n",
       "<thead><tr><th>bytes13</th><th>int64</th><th>float64</th><th>float64</th><th>float64</th><th>float64</th><th>float64</th><th>float64</th><th>float64</th><th>float64</th><th>float64</th><th>float64</th><th>float64</th><th>float64</th><th>float64</th><th>float64</th><th>float64</th><th>float64</th><th>float64</th><th>float64</th><th>float64</th><th>float64</th><th>float64</th><th>float64</th><th>float64</th><th>float64</th><th>float64</th><th>float64</th><th>float64</th><th>float64</th><th>float64</th><th>float64</th><th>float64</th><th>float64</th><th>float64</th><th>float64</th><th>float64</th><th>float64</th><th>float64</th><th>float64</th><th>float64</th><th>float64</th><th>float64</th><th>float64</th><th>float64</th><th>float64</th><th>float64</th><th>float64</th><th>float64</th><th>float64</th><th>float64</th><th>float64</th><th>float64</th><th>float64</th><th>float64</th><th>float64</th><th>float64</th><th>float64</th><th>float64</th><th>float64</th><th>float64</th><th>float64</th><th>float64</th><th>float64</th><th>float64</th><th>float64</th><th>float64</th><th>float64</th><th>float64</th><th>float64</th><th>float64</th><th>float64</th><th>float64</th><th>float64</th><th>float64</th><th>float64</th><th>float64</th><th>float64</th><th>float64</th><th>float64</th><th>float64</th><th>float64</th><th>float64</th><th>float64</th><th>float64</th><th>float64</th><th>float64</th><th>float64</th><th>float64</th><th>float64</th><th>float64</th><th>float64</th><th>float64</th><th>float64</th><th>float64</th><th>float64</th><th>float64</th><th>float64</th><th>float64</th><th>float64</th><th>float64</th><th>float64</th><th>float64</th><th>float64</th><th>float64</th><th>float64</th><th>float64</th><th>float64</th><th>float64</th><th>float64</th><th>float64</th><th>float64</th><th>float64</th><th>float64</th><th>float64</th><th>float64</th><th>float64</th><th>float64</th><th>float64</th><th>float64</th><th>float64</th><th>float64</th><th>float64</th><th>float64</th><th>float64</th><th>float64</th><th>float64</th><th>float64</th><th>float64</th><th>float64</th><th>float64</th><th>float64</th><th>float64</th><th>float64</th><th>float64</th><th>float64</th><th>float64</th><th>float64</th><th>float64</th><th>float64</th><th>float64</th><th>float64</th><th>float64</th><th>float64</th><th>float64</th><th>float64</th><th>float64</th><th>float64</th><th>float64</th><th>float64</th><th>float64</th><th>float64</th><th>float64</th><th>float64</th><th>float64</th><th>float64</th><th>float64</th><th>float64</th><th>float64</th><th>float64</th><th>float64</th><th>float64</th><th>float64</th><th>float64</th><th>float64</th><th>float64</th><th>float64</th><th>float64</th><th>float64</th><th>float64</th><th>float64</th><th>float64</th><th>float64</th><th>float64</th><th>float64</th><th>float64</th><th>float64</th><th>float64</th><th>float64</th><th>float64</th><th>float64</th><th>float64</th><th>float64</th><th>float64</th><th>float64</th><th>float64</th><th>float64</th><th>float64</th><th>float64</th><th>float64</th><th>float64</th><th>float64</th><th>float64</th><th>float64</th><th>float64</th><th>float64</th><th>float64</th><th>float64</th><th>float64</th><th>float64</th><th>float64</th><th>float64</th><th>float64</th><th>float64</th><th>float64</th><th>float64</th><th>float64</th><th>float64</th><th>float64</th><th>float64</th><th>float64</th><th>float64</th><th>float64</th><th>float64</th><th>float64</th><th>float64</th><th>float64</th><th>float64</th><th>float64</th><th>float64</th><th>float64</th><th>float64</th><th>float64</th><th>float64</th><th>float64</th><th>float64</th><th>float64</th><th>float64</th><th>float64</th><th>float64</th><th>float64</th><th>float64</th><th>float64</th><th>float64</th><th>float64</th><th>float64</th><th>float64</th><th>float64</th><th>float64</th><th>float64</th><th>float64</th><th>float64</th><th>float64</th><th>float64</th><th>float64</th><th>float64</th><th>float64</th><th>float64</th><th>float64</th><th>float64</th><th>float64</th><th>float64</th><th>float64</th><th>float64</th><th>float64</th><th>float64</th><th>float64</th><th>float64</th><th>float64</th><th>float64</th><th>float64</th><th>float64</th><th>float64</th><th>float64</th><th>float64</th><th>float64</th><th>float64</th><th>float64</th><th>float64</th><th>float64</th><th>float64</th><th>float64</th><th>float64</th><th>float64</th><th>float64</th><th>float64</th><th>float64</th><th>float64</th><th>float64</th><th>float64</th><th>float64</th><th>float64</th><th>float64</th><th>float64</th><th>float64</th><th>float64</th><th>float64</th><th>float64</th><th>float64</th><th>float64</th><th>float64</th><th>float64</th><th>float64</th><th>float64</th><th>float64</th><th>float64</th><th>float64</th><th>float64</th><th>float64</th><th>float64</th><th>float64</th><th>float64</th><th>float64</th><th>float64</th><th>float64</th><th>float64</th><th>float64</th><th>float64</th><th>float64</th><th>float64</th><th>float64</th><th>float64</th><th>float64</th><th>float64</th><th>float64</th><th>float64</th><th>float64</th><th>float64</th><th>float64</th><th>float64</th><th>float64</th><th>float64</th><th>float64</th><th>float64</th><th>float64</th><th>float64</th><th>float64</th><th>float64</th><th>float64</th><th>float64</th><th>float64</th><th>float64</th><th>float64</th><th>float64</th><th>float64</th><th>float64</th><th>float64</th><th>float64</th><th>float64</th><th>float64</th><th>float64</th><th>float64</th><th>float64</th><th>float64</th><th>float64</th><th>float64</th><th>float64</th><th>float64</th><th>float64</th><th>float64</th><th>float64</th><th>float64</th><th>float64</th><th>float64</th><th>float64</th><th>float64</th><th>float64</th><th>float64</th><th>float64</th><th>float64</th><th>float64</th><th>float64</th><th>float64</th><th>float64</th><th>float64</th><th>float64</th><th>float64</th><th>float64</th><th>float64</th><th>float64</th><th>float64</th><th>float64</th><th>float64</th><th>float64</th><th>float64</th><th>float64</th><th>float64</th><th>float64</th><th>float64</th><th>float64</th><th>float64</th><th>float64</th><th>float64</th><th>float64</th><th>float64</th><th>float64</th><th>float64</th><th>float64</th><th>float64</th><th>float64</th><th>float64</th><th>float64</th><th>float64</th><th>float64</th><th>float64</th><th>float64</th><th>float64</th><th>float64</th><th>float64</th><th>float64</th><th>float64</th><th>float64</th><th>float64</th><th>float64</th><th>float64</th><th>float64</th><th>float64</th><th>float64</th><th>float64</th><th>float64</th><th>float64</th><th>float64</th><th>float64</th></tr></thead>\n",
       "<tr><td>ceers</td><td>0</td><td>215.2151731300751</td><td>52.97528909359392</td><td>nan</td><td>--</td><td>--</td><td>--</td><td>--</td><td>--</td><td>--</td><td>--</td><td>--</td><td>--</td><td>--</td><td>--</td><td>--</td><td>--</td><td>--</td><td>--</td><td>--</td><td>--</td><td>--</td><td>--</td><td>--</td><td>--</td><td>--</td><td>--</td><td>--</td><td>--</td><td>--</td><td>--</td><td>--</td><td>--</td><td>--</td><td>--</td><td>--</td><td>--</td><td>--</td><td>--</td><td>--</td><td>--</td><td>--</td><td>--</td><td>--</td><td>--</td><td>--</td><td>29.556780901764032</td><td>0.5946342561731784</td><td>--</td><td>--</td><td>--</td><td>--</td><td>30.167364298004795</td><td>0.40542561863683224</td><td>--</td><td>--</td><td>--</td><td>--</td><td>--</td><td>--</td><td>--</td><td>--</td><td>--</td><td>--</td><td>--</td><td>--</td><td>--</td><td>--</td><td>--</td><td>--</td><td>--</td><td>--</td><td>--</td><td>--</td><td>--</td><td>--</td><td>--</td><td>--</td><td>--</td><td>--</td><td>--</td><td>--</td><td>--</td><td>--</td><td>--</td><td>--</td><td>--</td><td>--</td><td>--</td><td>--</td><td>--</td><td>--</td><td>--</td><td>--</td><td>--</td><td>--</td><td>28.865376835318312</td><td>0.4871614601942338</td><td>--</td><td>--</td><td>--</td><td>--</td><td>29.58592713858022</td><td>0.3890860857952225</td><td>--</td><td>--</td><td>--</td><td>--</td><td>--</td><td>--</td><td>--</td><td>--</td><td>--</td><td>--</td><td>--</td><td>--</td><td>--</td><td>--</td><td>--</td><td>--</td><td>--</td><td>--</td><td>--</td><td>--</td><td>--</td><td>--</td><td>--</td><td>--</td><td>--</td><td>--</td><td>--</td><td>--</td><td>--</td><td>--</td><td>--</td><td>--</td><td>--</td><td>--</td><td>--</td><td>--</td><td>--</td><td>--</td><td>--</td><td>--</td><td>--</td><td>--</td><td>28.421246211006505</td><td>0.4538495307289881</td><td>--</td><td>--</td><td>--</td><td>--</td><td>29.641971508618195</td><td>0.35824277534960647</td><td>--</td><td>--</td><td>--</td><td>--</td><td>--</td><td>--</td><td>--</td><td>--</td><td>--</td><td>--</td><td>--</td><td>--</td><td>--</td><td>--</td><td>--</td><td>--</td><td>--</td><td>--</td><td>--</td><td>--</td><td>--</td><td>--</td><td>--</td><td>--</td><td>--</td><td>--</td><td>--</td><td>--</td><td>--</td><td>--</td><td>--</td><td>--</td><td>--</td><td>--</td><td>--</td><td>--</td><td>--</td><td>--</td><td>--</td><td>--</td><td>--</td><td>--</td><td>28.15146499350641</td><td>0.47206001572812445</td><td>--</td><td>--</td><td>--</td><td>--</td><td>29.337381092566165</td><td>0.3404395916559392</td><td>--</td><td>--</td><td>--</td><td>--</td><td>--</td><td>--</td><td>--</td><td>--</td><td>--</td><td>--</td><td>--</td><td>--</td><td>--</td><td>--</td><td>--</td><td>--</td><td>--</td><td>--</td><td>--</td><td>--</td><td>--</td><td>--</td><td>--</td><td>--</td><td>--</td><td>--</td><td>--</td><td>--</td><td>--</td><td>--</td><td>--</td><td>--</td><td>--</td><td>--</td><td>--</td><td>--</td><td>--</td><td>--</td><td>--</td><td>--</td><td>--</td><td>--</td><td>--</td><td>--</td><td>--</td><td>--</td><td>--</td><td>--</td><td>--</td><td>--</td><td>--</td><td>--</td><td>--</td><td>--</td><td>--</td><td>--</td><td>--</td><td>--</td><td>--</td><td>--</td><td>--</td><td>--</td><td>--</td><td>--</td><td>--</td><td>--</td><td>--</td><td>--</td><td>--</td><td>--</td><td>--</td><td>--</td><td>--</td><td>--</td><td>--</td><td>--</td><td>--</td><td>--</td><td>--</td><td>--</td><td>--</td><td>--</td><td>--</td><td>--</td><td>--</td><td>--</td><td>--</td><td>--</td><td>--</td><td>--</td><td>--</td><td>--</td><td>--</td><td>--</td><td>--</td><td>--</td><td>--</td><td>--</td><td>--</td><td>--</td><td>--</td><td>--</td><td>--</td><td>--</td><td>--</td><td>--</td><td>--</td><td>--</td><td>--</td><td>--</td><td>--</td><td>--</td><td>--</td><td>--</td><td>--</td><td>--</td><td>--</td><td>--</td><td>--</td><td>--</td><td>--</td><td>--</td><td>--</td><td>--</td><td>--</td><td>--</td><td>--</td><td>--</td><td>--</td><td>--</td><td>--</td><td>--</td><td>--</td><td>--</td><td>--</td><td>--</td><td>--</td><td>--</td><td>--</td><td>--</td><td>--</td><td>--</td><td>--</td><td>--</td><td>--</td><td>--</td><td>--</td><td>--</td><td>--</td><td>--</td><td>--</td><td>--</td><td>--</td><td>--</td><td>--</td><td>--</td><td>--</td><td>--</td><td>--</td><td>--</td><td>--</td><td>--</td><td>--</td><td>--</td><td>--</td><td>--</td><td>--</td><td>--</td><td>--</td><td>--</td><td>--</td><td>--</td><td>--</td><td>--</td><td>--</td><td>--</td><td>--</td><td>--</td><td>--</td><td>--</td><td>--</td><td>--</td><td>--</td><td>--</td><td>--</td><td>--</td><td>--</td><td>--</td><td>--</td><td>--</td><td>--</td><td>--</td><td>--</td><td>--</td><td>--</td><td>--</td><td>--</td><td>--</td><td>--</td><td>--</td><td>--</td><td>--</td><td>--</td><td>--</td><td>--</td><td>--</td><td>--</td><td>--</td></tr>\n",
       "<tr><td>ceers</td><td>1</td><td>215.1865311684452</td><td>52.95489247370195</td><td>nan</td><td>--</td><td>--</td><td>--</td><td>--</td><td>--</td><td>--</td><td>28.864490012742024</td><td>0.555791128691957</td><td>--</td><td>--</td><td>--</td><td>--</td><td>--</td><td>--</td><td>--</td><td>--</td><td>30.369371811045735</td><td>0.6362092789982504</td><td>--</td><td>--</td><td>--</td><td>--</td><td>--</td><td>--</td><td>--</td><td>--</td><td>--</td><td>--</td><td>--</td><td>--</td><td>--</td><td>--</td><td>--</td><td>--</td><td>--</td><td>--</td><td>--</td><td>--</td><td>--</td><td>--</td><td>--</td><td>--</td><td>28.744782309160975</td><td>0.3691622925442938</td><td>--</td><td>--</td><td>--</td><td>--</td><td>30.826463914554488</td><td>0.4985666030286057</td><td>--</td><td>--</td><td>--</td><td>--</td><td>--</td><td>--</td><td>28.224335908668944</td><td>0.5030830008653232</td><td>--</td><td>--</td><td>--</td><td>--</td><td>--</td><td>--</td><td>--</td><td>--</td><td>30.25722001965542</td><td>0.48530977959396926</td><td>--</td><td>--</td><td>--</td><td>--</td><td>--</td><td>--</td><td>--</td><td>--</td><td>--</td><td>--</td><td>--</td><td>--</td><td>--</td><td>--</td><td>--</td><td>--</td><td>--</td><td>--</td><td>--</td><td>--</td><td>--</td><td>--</td><td>--</td><td>--</td><td>28.374075181120368</td><td>0.3509602322619253</td><td>--</td><td>--</td><td>--</td><td>--</td><td>29.992040796362414</td><td>0.6108835298015077</td><td>--</td><td>--</td><td>--</td><td>--</td><td>--</td><td>--</td><td>27.957818422217407</td><td>0.5117651870330702</td><td>--</td><td>--</td><td>--</td><td>--</td><td>--</td><td>--</td><td>--</td><td>--</td><td>29.850046244145776</td><td>0.47664681753339394</td><td>--</td><td>--</td><td>--</td><td>--</td><td>--</td><td>--</td><td>--</td><td>--</td><td>--</td><td>--</td><td>--</td><td>--</td><td>--</td><td>--</td><td>--</td><td>--</td><td>--</td><td>--</td><td>--</td><td>--</td><td>--</td><td>--</td><td>--</td><td>--</td><td>28.129830530180385</td><td>0.3715888680505435</td><td>--</td><td>--</td><td>--</td><td>--</td><td>30.20678221277556</td><td>0.45863827542467056</td><td>--</td><td>--</td><td>--</td><td>--</td><td>--</td><td>--</td><td>27.805505152574952</td><td>0.5564924610028538</td><td>--</td><td>--</td><td>--</td><td>--</td><td>--</td><td>--</td><td>--</td><td>--</td><td>29.0017597852026</td><td>0.6274360100415712</td><td>--</td><td>--</td><td>--</td><td>--</td><td>--</td><td>--</td><td>--</td><td>--</td><td>--</td><td>--</td><td>--</td><td>--</td><td>--</td><td>--</td><td>--</td><td>--</td><td>--</td><td>--</td><td>--</td><td>--</td><td>--</td><td>--</td><td>--</td><td>--</td><td>27.878183386598778</td><td>0.3964826659119883</td><td>--</td><td>--</td><td>--</td><td>--</td><td>28.634392632047863</td><td>0.5883580733663165</td><td>--</td><td>--</td><td>--</td><td>--</td><td>--</td><td>--</td><td>--</td><td>--</td><td>--</td><td>--</td><td>--</td><td>--</td><td>--</td><td>--</td><td>--</td><td>--</td><td>--</td><td>--</td><td>--</td><td>--</td><td>--</td><td>--</td><td>--</td><td>--</td><td>--</td><td>--</td><td>--</td><td>--</td><td>--</td><td>--</td><td>--</td><td>--</td><td>--</td><td>--</td><td>--</td><td>--</td><td>--</td><td>--</td><td>--</td><td>--</td><td>--</td><td>--</td><td>--</td><td>--</td><td>--</td><td>--</td><td>--</td><td>--</td><td>--</td><td>--</td><td>--</td><td>--</td><td>--</td><td>--</td><td>--</td><td>--</td><td>--</td><td>--</td><td>--</td><td>--</td><td>--</td><td>--</td><td>--</td><td>--</td><td>--</td><td>--</td><td>--</td><td>--</td><td>--</td><td>--</td><td>--</td><td>--</td><td>--</td><td>--</td><td>--</td><td>--</td><td>--</td><td>--</td><td>--</td><td>--</td><td>--</td><td>--</td><td>--</td><td>--</td><td>--</td><td>--</td><td>--</td><td>--</td><td>--</td><td>--</td><td>--</td><td>--</td><td>--</td><td>--</td><td>--</td><td>--</td><td>--</td><td>--</td><td>--</td><td>--</td><td>--</td><td>--</td><td>--</td><td>--</td><td>--</td><td>--</td><td>--</td><td>--</td><td>--</td><td>--</td><td>--</td><td>--</td><td>--</td><td>--</td><td>--</td><td>--</td><td>--</td><td>--</td><td>--</td><td>--</td><td>--</td><td>--</td><td>--</td><td>--</td><td>--</td><td>--</td><td>--</td><td>--</td><td>--</td><td>--</td><td>--</td><td>--</td><td>--</td><td>--</td><td>--</td><td>--</td><td>--</td><td>--</td><td>--</td><td>--</td><td>--</td><td>--</td><td>--</td><td>--</td><td>--</td><td>--</td><td>--</td><td>--</td><td>--</td><td>--</td><td>--</td><td>--</td><td>--</td><td>--</td><td>--</td><td>--</td><td>--</td><td>--</td><td>--</td><td>--</td><td>--</td><td>--</td><td>--</td><td>--</td><td>--</td><td>--</td><td>--</td><td>--</td><td>--</td><td>--</td><td>--</td><td>--</td><td>--</td><td>--</td><td>--</td><td>--</td><td>--</td><td>--</td><td>--</td><td>--</td><td>--</td><td>--</td><td>--</td><td>--</td><td>--</td><td>--</td><td>--</td><td>--</td><td>--</td><td>--</td><td>--</td><td>--</td><td>--</td><td>--</td><td>--</td><td>--</td><td>--</td><td>--</td><td>--</td><td>--</td><td>--</td><td>--</td><td>--</td><td>--</td><td>--</td><td>--</td><td>--</td><td>--</td></tr>\n",
       "<tr><td>ceers</td><td>2</td><td>215.17440399645494</td><td>52.94624855014534</td><td>nan</td><td>--</td><td>--</td><td>--</td><td>--</td><td>--</td><td>--</td><td>--</td><td>--</td><td>--</td><td>--</td><td>--</td><td>--</td><td>--</td><td>--</td><td>--</td><td>--</td><td>--</td><td>--</td><td>--</td><td>--</td><td>--</td><td>--</td><td>--</td><td>--</td><td>--</td><td>--</td><td>--</td><td>--</td><td>--</td><td>--</td><td>--</td><td>--</td><td>--</td><td>--</td><td>--</td><td>--</td><td>--</td><td>--</td><td>--</td><td>--</td><td>--</td><td>--</td><td>30.5359365634207</td><td>0.5906980751137015</td><td>--</td><td>--</td><td>--</td><td>--</td><td>30.267633973004124</td><td>0.5086321540982359</td><td>--</td><td>--</td><td>--</td><td>--</td><td>--</td><td>--</td><td>--</td><td>--</td><td>--</td><td>--</td><td>--</td><td>--</td><td>--</td><td>--</td><td>--</td><td>--</td><td>--</td><td>--</td><td>--</td><td>--</td><td>--</td><td>--</td><td>--</td><td>--</td><td>--</td><td>--</td><td>--</td><td>--</td><td>--</td><td>--</td><td>--</td><td>--</td><td>--</td><td>--</td><td>--</td><td>--</td><td>--</td><td>--</td><td>--</td><td>--</td><td>--</td><td>--</td><td>29.43776219565779</td><td>0.6216204473460754</td><td>--</td><td>--</td><td>--</td><td>--</td><td>29.7387153486617</td><td>0.5029986405302952</td><td>--</td><td>--</td><td>--</td><td>--</td><td>--</td><td>--</td><td>--</td><td>--</td><td>--</td><td>--</td><td>--</td><td>--</td><td>--</td><td>--</td><td>--</td><td>--</td><td>--</td><td>--</td><td>--</td><td>--</td><td>--</td><td>--</td><td>--</td><td>--</td><td>--</td><td>--</td><td>--</td><td>--</td><td>--</td><td>--</td><td>--</td><td>--</td><td>--</td><td>--</td><td>--</td><td>--</td><td>--</td><td>--</td><td>--</td><td>--</td><td>--</td><td>--</td><td>28.624413399694575</td><td>0.5105413618828814</td><td>--</td><td>--</td><td>--</td><td>--</td><td>28.96825065867196</td><td>0.46817899573743854</td><td>--</td><td>--</td><td>--</td><td>--</td><td>--</td><td>--</td><td>--</td><td>--</td><td>--</td><td>--</td><td>--</td><td>--</td><td>--</td><td>--</td><td>--</td><td>--</td><td>--</td><td>--</td><td>--</td><td>--</td><td>--</td><td>--</td><td>--</td><td>--</td><td>--</td><td>--</td><td>--</td><td>--</td><td>--</td><td>--</td><td>--</td><td>--</td><td>--</td><td>--</td><td>--</td><td>--</td><td>--</td><td>--</td><td>--</td><td>--</td><td>--</td><td>--</td><td>28.627334830726927</td><td>0.5791151408967197</td><td>--</td><td>--</td><td>--</td><td>--</td><td>28.709176186640644</td><td>0.4679158276375387</td><td>--</td><td>--</td><td>--</td><td>--</td><td>--</td><td>--</td><td>--</td><td>--</td><td>--</td><td>--</td><td>--</td><td>--</td><td>--</td><td>--</td><td>--</td><td>--</td><td>--</td><td>--</td><td>--</td><td>--</td><td>--</td><td>--</td><td>--</td><td>--</td><td>--</td><td>--</td><td>--</td><td>--</td><td>--</td><td>--</td><td>--</td><td>--</td><td>--</td><td>--</td><td>--</td><td>--</td><td>--</td><td>--</td><td>--</td><td>--</td><td>--</td><td>--</td><td>--</td><td>--</td><td>--</td><td>--</td><td>--</td><td>--</td><td>--</td><td>--</td><td>--</td><td>--</td><td>--</td><td>--</td><td>--</td><td>--</td><td>--</td><td>--</td><td>--</td><td>--</td><td>--</td><td>--</td><td>--</td><td>--</td><td>--</td><td>--</td><td>--</td><td>--</td><td>--</td><td>--</td><td>--</td><td>--</td><td>--</td><td>--</td><td>--</td><td>--</td><td>--</td><td>--</td><td>--</td><td>--</td><td>--</td><td>--</td><td>--</td><td>--</td><td>--</td><td>--</td><td>--</td><td>--</td><td>--</td><td>--</td><td>--</td><td>--</td><td>--</td><td>--</td><td>--</td><td>--</td><td>--</td><td>--</td><td>--</td><td>--</td><td>--</td><td>--</td><td>--</td><td>--</td><td>--</td><td>--</td><td>--</td><td>--</td><td>--</td><td>--</td><td>--</td><td>--</td><td>--</td><td>--</td><td>--</td><td>--</td><td>--</td><td>--</td><td>--</td><td>--</td><td>--</td><td>--</td><td>--</td><td>--</td><td>--</td><td>--</td><td>--</td><td>--</td><td>--</td><td>--</td><td>--</td><td>--</td><td>--</td><td>--</td><td>--</td><td>--</td><td>--</td><td>--</td><td>--</td><td>--</td><td>--</td><td>--</td><td>--</td><td>--</td><td>--</td><td>--</td><td>--</td><td>--</td><td>--</td><td>--</td><td>--</td><td>--</td><td>--</td><td>--</td><td>--</td><td>--</td><td>--</td><td>--</td><td>--</td><td>--</td><td>--</td><td>--</td><td>--</td><td>--</td><td>--</td><td>--</td><td>--</td><td>--</td><td>--</td><td>--</td><td>--</td><td>--</td><td>--</td><td>--</td><td>--</td><td>--</td><td>--</td><td>--</td><td>--</td><td>--</td><td>--</td><td>--</td><td>--</td><td>--</td><td>--</td><td>--</td><td>--</td><td>--</td><td>--</td><td>--</td><td>--</td><td>--</td><td>--</td><td>--</td><td>--</td><td>--</td><td>--</td><td>--</td><td>--</td><td>--</td><td>--</td><td>--</td><td>--</td><td>--</td><td>--</td><td>--</td><td>--</td><td>--</td></tr>\n",
       "<tr><td>ceers</td><td>3</td><td>215.17066593131037</td><td>52.9435832117646</td><td>nan</td><td>--</td><td>--</td><td>--</td><td>--</td><td>--</td><td>--</td><td>--</td><td>--</td><td>--</td><td>--</td><td>--</td><td>--</td><td>--</td><td>--</td><td>--</td><td>--</td><td>--</td><td>--</td><td>--</td><td>--</td><td>--</td><td>--</td><td>--</td><td>--</td><td>--</td><td>--</td><td>--</td><td>--</td><td>--</td><td>--</td><td>--</td><td>--</td><td>--</td><td>--</td><td>--</td><td>--</td><td>--</td><td>--</td><td>--</td><td>--</td><td>--</td><td>--</td><td>30.33628891980326</td><td>0.624851440928911</td><td>--</td><td>--</td><td>--</td><td>--</td><td>29.091234942852022</td><td>0.3887937948794678</td><td>--</td><td>--</td><td>--</td><td>--</td><td>--</td><td>--</td><td>--</td><td>--</td><td>--</td><td>--</td><td>--</td><td>--</td><td>--</td><td>--</td><td>--</td><td>--</td><td>--</td><td>--</td><td>--</td><td>--</td><td>--</td><td>--</td><td>--</td><td>--</td><td>--</td><td>--</td><td>--</td><td>--</td><td>--</td><td>--</td><td>--</td><td>--</td><td>--</td><td>--</td><td>--</td><td>--</td><td>--</td><td>--</td><td>--</td><td>--</td><td>--</td><td>--</td><td>29.713013158691936</td><td>0.6319590074794152</td><td>--</td><td>--</td><td>--</td><td>--</td><td>28.487222834313293</td><td>0.3136337647977018</td><td>--</td><td>--</td><td>--</td><td>--</td><td>--</td><td>--</td><td>--</td><td>--</td><td>--</td><td>--</td><td>--</td><td>--</td><td>--</td><td>--</td><td>--</td><td>--</td><td>--</td><td>--</td><td>--</td><td>--</td><td>--</td><td>--</td><td>--</td><td>--</td><td>--</td><td>--</td><td>--</td><td>--</td><td>--</td><td>--</td><td>--</td><td>--</td><td>--</td><td>--</td><td>--</td><td>--</td><td>--</td><td>--</td><td>--</td><td>--</td><td>--</td><td>--</td><td>29.15336679443174</td><td>0.6033442733365263</td><td>--</td><td>--</td><td>--</td><td>--</td><td>28.299469017672294</td><td>0.338648707451623</td><td>--</td><td>--</td><td>--</td><td>--</td><td>--</td><td>--</td><td>--</td><td>--</td><td>--</td><td>--</td><td>--</td><td>--</td><td>--</td><td>--</td><td>--</td><td>--</td><td>--</td><td>--</td><td>--</td><td>--</td><td>--</td><td>--</td><td>--</td><td>--</td><td>--</td><td>--</td><td>--</td><td>--</td><td>--</td><td>--</td><td>--</td><td>--</td><td>--</td><td>--</td><td>--</td><td>--</td><td>--</td><td>--</td><td>--</td><td>--</td><td>--</td><td>--</td><td>29.138119175210154</td><td>0.5904592142973432</td><td>--</td><td>--</td><td>--</td><td>--</td><td>28.03748644380943</td><td>0.3550023927938466</td><td>--</td><td>--</td><td>--</td><td>--</td><td>--</td><td>--</td><td>--</td><td>--</td><td>--</td><td>--</td><td>--</td><td>--</td><td>--</td><td>--</td><td>--</td><td>--</td><td>--</td><td>--</td><td>--</td><td>--</td><td>--</td><td>--</td><td>--</td><td>--</td><td>--</td><td>--</td><td>--</td><td>--</td><td>--</td><td>--</td><td>--</td><td>--</td><td>--</td><td>--</td><td>--</td><td>--</td><td>--</td><td>--</td><td>--</td><td>--</td><td>--</td><td>--</td><td>--</td><td>--</td><td>--</td><td>--</td><td>--</td><td>--</td><td>--</td><td>--</td><td>--</td><td>--</td><td>--</td><td>--</td><td>--</td><td>--</td><td>--</td><td>--</td><td>--</td><td>--</td><td>--</td><td>--</td><td>--</td><td>--</td><td>--</td><td>--</td><td>--</td><td>--</td><td>--</td><td>--</td><td>--</td><td>--</td><td>--</td><td>--</td><td>--</td><td>--</td><td>--</td><td>--</td><td>--</td><td>--</td><td>--</td><td>--</td><td>--</td><td>--</td><td>--</td><td>--</td><td>--</td><td>--</td><td>--</td><td>--</td><td>--</td><td>--</td><td>--</td><td>--</td><td>--</td><td>--</td><td>--</td><td>--</td><td>--</td><td>--</td><td>--</td><td>--</td><td>--</td><td>--</td><td>--</td><td>--</td><td>--</td><td>--</td><td>--</td><td>--</td><td>--</td><td>--</td><td>--</td><td>--</td><td>--</td><td>--</td><td>--</td><td>--</td><td>--</td><td>--</td><td>--</td><td>--</td><td>--</td><td>--</td><td>--</td><td>--</td><td>--</td><td>--</td><td>--</td><td>--</td><td>--</td><td>--</td><td>--</td><td>--</td><td>--</td><td>--</td><td>--</td><td>--</td><td>--</td><td>--</td><td>--</td><td>--</td><td>--</td><td>--</td><td>--</td><td>--</td><td>--</td><td>--</td><td>--</td><td>--</td><td>--</td><td>--</td><td>--</td><td>--</td><td>--</td><td>--</td><td>--</td><td>--</td><td>--</td><td>--</td><td>--</td><td>--</td><td>--</td><td>--</td><td>--</td><td>--</td><td>--</td><td>--</td><td>--</td><td>--</td><td>--</td><td>--</td><td>--</td><td>--</td><td>--</td><td>--</td><td>--</td><td>--</td><td>--</td><td>--</td><td>--</td><td>--</td><td>--</td><td>--</td><td>--</td><td>--</td><td>--</td><td>--</td><td>--</td><td>--</td><td>--</td><td>--</td><td>--</td><td>--</td><td>--</td><td>--</td><td>--</td><td>--</td><td>--</td><td>--</td><td>--</td><td>--</td><td>--</td><td>--</td><td>--</td><td>--</td><td>--</td><td>--</td></tr>\n",
       "<tr><td>ceers</td><td>4</td><td>215.1665950611378</td><td>52.940680067642184</td><td>nan</td><td>--</td><td>--</td><td>--</td><td>--</td><td>--</td><td>--</td><td>--</td><td>--</td><td>--</td><td>--</td><td>--</td><td>--</td><td>--</td><td>--</td><td>--</td><td>--</td><td>--</td><td>--</td><td>--</td><td>--</td><td>--</td><td>--</td><td>--</td><td>--</td><td>--</td><td>--</td><td>--</td><td>--</td><td>--</td><td>--</td><td>--</td><td>--</td><td>--</td><td>--</td><td>--</td><td>--</td><td>--</td><td>--</td><td>--</td><td>--</td><td>--</td><td>--</td><td>30.039431762503852</td><td>0.6493763665679093</td><td>--</td><td>--</td><td>--</td><td>--</td><td>30.03599548083831</td><td>0.5246153121753316</td><td>--</td><td>--</td><td>--</td><td>--</td><td>--</td><td>--</td><td>--</td><td>--</td><td>--</td><td>--</td><td>--</td><td>--</td><td>--</td><td>--</td><td>--</td><td>--</td><td>--</td><td>--</td><td>--</td><td>--</td><td>--</td><td>--</td><td>--</td><td>--</td><td>--</td><td>--</td><td>--</td><td>--</td><td>--</td><td>--</td><td>--</td><td>--</td><td>--</td><td>--</td><td>--</td><td>--</td><td>--</td><td>--</td><td>--</td><td>--</td><td>--</td><td>--</td><td>29.944224425666185</td><td>0.6115841379924234</td><td>--</td><td>--</td><td>--</td><td>--</td><td>30.011806367649307</td><td>0.4816615389448923</td><td>--</td><td>--</td><td>--</td><td>--</td><td>--</td><td>--</td><td>--</td><td>--</td><td>--</td><td>--</td><td>--</td><td>--</td><td>--</td><td>--</td><td>--</td><td>--</td><td>--</td><td>--</td><td>--</td><td>--</td><td>--</td><td>--</td><td>--</td><td>--</td><td>--</td><td>--</td><td>--</td><td>--</td><td>--</td><td>--</td><td>--</td><td>--</td><td>--</td><td>--</td><td>--</td><td>--</td><td>--</td><td>--</td><td>--</td><td>--</td><td>--</td><td>--</td><td>29.892616902528616</td><td>0.5364145701922075</td><td>--</td><td>--</td><td>--</td><td>--</td><td>29.585693459663496</td><td>0.4765809926348928</td><td>--</td><td>--</td><td>--</td><td>--</td><td>--</td><td>--</td><td>--</td><td>--</td><td>--</td><td>--</td><td>--</td><td>--</td><td>--</td><td>--</td><td>--</td><td>--</td><td>--</td><td>--</td><td>--</td><td>--</td><td>--</td><td>--</td><td>--</td><td>--</td><td>--</td><td>--</td><td>--</td><td>--</td><td>--</td><td>--</td><td>--</td><td>--</td><td>--</td><td>--</td><td>--</td><td>--</td><td>--</td><td>--</td><td>--</td><td>--</td><td>--</td><td>--</td><td>29.60930638984595</td><td>0.5036704837603257</td><td>--</td><td>--</td><td>--</td><td>--</td><td>29.17051129660508</td><td>0.46994405392262023</td><td>--</td><td>--</td><td>--</td><td>--</td><td>--</td><td>--</td><td>--</td><td>--</td><td>--</td><td>--</td><td>--</td><td>--</td><td>--</td><td>--</td><td>--</td><td>--</td><td>--</td><td>--</td><td>--</td><td>--</td><td>--</td><td>--</td><td>--</td><td>--</td><td>--</td><td>--</td><td>--</td><td>--</td><td>--</td><td>--</td><td>--</td><td>--</td><td>--</td><td>--</td><td>--</td><td>--</td><td>--</td><td>--</td><td>--</td><td>--</td><td>--</td><td>--</td><td>--</td><td>--</td><td>--</td><td>--</td><td>--</td><td>--</td><td>--</td><td>--</td><td>--</td><td>--</td><td>--</td><td>--</td><td>--</td><td>--</td><td>--</td><td>--</td><td>--</td><td>--</td><td>--</td><td>--</td><td>--</td><td>--</td><td>--</td><td>--</td><td>--</td><td>--</td><td>--</td><td>--</td><td>--</td><td>--</td><td>--</td><td>--</td><td>--</td><td>--</td><td>--</td><td>--</td><td>--</td><td>--</td><td>--</td><td>--</td><td>--</td><td>--</td><td>--</td><td>--</td><td>--</td><td>--</td><td>--</td><td>--</td><td>--</td><td>--</td><td>--</td><td>--</td><td>--</td><td>--</td><td>--</td><td>--</td><td>--</td><td>--</td><td>--</td><td>--</td><td>--</td><td>--</td><td>--</td><td>--</td><td>--</td><td>--</td><td>--</td><td>--</td><td>--</td><td>--</td><td>--</td><td>--</td><td>--</td><td>--</td><td>--</td><td>--</td><td>--</td><td>--</td><td>--</td><td>--</td><td>--</td><td>--</td><td>--</td><td>--</td><td>--</td><td>--</td><td>--</td><td>--</td><td>--</td><td>--</td><td>--</td><td>--</td><td>--</td><td>--</td><td>--</td><td>--</td><td>--</td><td>--</td><td>--</td><td>--</td><td>--</td><td>--</td><td>--</td><td>--</td><td>--</td><td>--</td><td>--</td><td>--</td><td>--</td><td>--</td><td>--</td><td>--</td><td>--</td><td>--</td><td>--</td><td>--</td><td>--</td><td>--</td><td>--</td><td>--</td><td>--</td><td>--</td><td>--</td><td>--</td><td>--</td><td>--</td><td>--</td><td>--</td><td>--</td><td>--</td><td>--</td><td>--</td><td>--</td><td>--</td><td>--</td><td>--</td><td>--</td><td>--</td><td>--</td><td>--</td><td>--</td><td>--</td><td>--</td><td>--</td><td>--</td><td>--</td><td>--</td><td>--</td><td>--</td><td>--</td><td>--</td><td>--</td><td>--</td><td>--</td><td>--</td><td>--</td><td>--</td><td>--</td><td>--</td><td>--</td><td>--</td><td>--</td><td>--</td><td>--</td><td>--</td><td>--</td></tr>\n",
       "<tr><td>ceers</td><td>5</td><td>215.1651987046283</td><td>52.939684133167596</td><td>nan</td><td>--</td><td>--</td><td>--</td><td>--</td><td>--</td><td>--</td><td>--</td><td>--</td><td>--</td><td>--</td><td>--</td><td>--</td><td>--</td><td>--</td><td>--</td><td>--</td><td>--</td><td>--</td><td>--</td><td>--</td><td>--</td><td>--</td><td>--</td><td>--</td><td>--</td><td>--</td><td>--</td><td>--</td><td>--</td><td>--</td><td>--</td><td>--</td><td>--</td><td>--</td><td>--</td><td>--</td><td>--</td><td>--</td><td>--</td><td>--</td><td>--</td><td>--</td><td>28.880511830952422</td><td>0.4311701103603547</td><td>--</td><td>--</td><td>--</td><td>--</td><td>29.424568983938272</td><td>0.4758857469129259</td><td>--</td><td>--</td><td>--</td><td>--</td><td>--</td><td>--</td><td>--</td><td>--</td><td>--</td><td>--</td><td>--</td><td>--</td><td>--</td><td>--</td><td>--</td><td>--</td><td>--</td><td>--</td><td>--</td><td>--</td><td>--</td><td>--</td><td>--</td><td>--</td><td>--</td><td>--</td><td>--</td><td>--</td><td>--</td><td>--</td><td>--</td><td>--</td><td>--</td><td>--</td><td>--</td><td>--</td><td>--</td><td>--</td><td>--</td><td>--</td><td>--</td><td>--</td><td>29.0287635893615</td><td>0.5499525677961619</td><td>--</td><td>--</td><td>--</td><td>--</td><td>28.988572321670713</td><td>0.4373323512923633</td><td>--</td><td>--</td><td>--</td><td>--</td><td>--</td><td>--</td><td>--</td><td>--</td><td>--</td><td>--</td><td>--</td><td>--</td><td>--</td><td>--</td><td>--</td><td>--</td><td>--</td><td>--</td><td>--</td><td>--</td><td>--</td><td>--</td><td>--</td><td>--</td><td>--</td><td>--</td><td>--</td><td>--</td><td>--</td><td>--</td><td>--</td><td>--</td><td>--</td><td>--</td><td>--</td><td>--</td><td>--</td><td>--</td><td>--</td><td>--</td><td>--</td><td>--</td><td>29.807408515632982</td><td>0.569843019354894</td><td>--</td><td>--</td><td>--</td><td>--</td><td>29.24989390257026</td><td>0.504202937437713</td><td>--</td><td>--</td><td>--</td><td>--</td><td>--</td><td>--</td><td>--</td><td>--</td><td>--</td><td>--</td><td>--</td><td>--</td><td>--</td><td>--</td><td>--</td><td>--</td><td>--</td><td>--</td><td>--</td><td>--</td><td>--</td><td>--</td><td>--</td><td>--</td><td>--</td><td>--</td><td>--</td><td>--</td><td>--</td><td>--</td><td>--</td><td>--</td><td>--</td><td>--</td><td>--</td><td>--</td><td>--</td><td>--</td><td>--</td><td>--</td><td>--</td><td>--</td><td>29.614305502012904</td><td>0.5073645200322061</td><td>--</td><td>--</td><td>--</td><td>--</td><td>28.809341885243633</td><td>0.48927710788853807</td><td>--</td><td>--</td><td>--</td><td>--</td><td>--</td><td>--</td><td>--</td><td>--</td><td>--</td><td>--</td><td>--</td><td>--</td><td>--</td><td>--</td><td>--</td><td>--</td><td>--</td><td>--</td><td>--</td><td>--</td><td>--</td><td>--</td><td>--</td><td>--</td><td>--</td><td>--</td><td>--</td><td>--</td><td>--</td><td>--</td><td>--</td><td>--</td><td>--</td><td>--</td><td>--</td><td>--</td><td>--</td><td>--</td><td>--</td><td>--</td><td>--</td><td>--</td><td>--</td><td>--</td><td>--</td><td>--</td><td>--</td><td>--</td><td>--</td><td>--</td><td>--</td><td>--</td><td>--</td><td>--</td><td>--</td><td>--</td><td>--</td><td>--</td><td>--</td><td>--</td><td>--</td><td>--</td><td>--</td><td>--</td><td>--</td><td>--</td><td>--</td><td>--</td><td>--</td><td>--</td><td>--</td><td>--</td><td>--</td><td>--</td><td>--</td><td>--</td><td>--</td><td>--</td><td>--</td><td>--</td><td>--</td><td>--</td><td>--</td><td>--</td><td>--</td><td>--</td><td>--</td><td>--</td><td>--</td><td>--</td><td>--</td><td>--</td><td>--</td><td>--</td><td>--</td><td>--</td><td>--</td><td>--</td><td>--</td><td>--</td><td>--</td><td>--</td><td>--</td><td>--</td><td>--</td><td>--</td><td>--</td><td>--</td><td>--</td><td>--</td><td>--</td><td>--</td><td>--</td><td>--</td><td>--</td><td>--</td><td>--</td><td>--</td><td>--</td><td>--</td><td>--</td><td>--</td><td>--</td><td>--</td><td>--</td><td>--</td><td>--</td><td>--</td><td>--</td><td>--</td><td>--</td><td>--</td><td>--</td><td>--</td><td>--</td><td>--</td><td>--</td><td>--</td><td>--</td><td>--</td><td>--</td><td>--</td><td>--</td><td>--</td><td>--</td><td>--</td><td>--</td><td>--</td><td>--</td><td>--</td><td>--</td><td>--</td><td>--</td><td>--</td><td>--</td><td>--</td><td>--</td><td>--</td><td>--</td><td>--</td><td>--</td><td>--</td><td>--</td><td>--</td><td>--</td><td>--</td><td>--</td><td>--</td><td>--</td><td>--</td><td>--</td><td>--</td><td>--</td><td>--</td><td>--</td><td>--</td><td>--</td><td>--</td><td>--</td><td>--</td><td>--</td><td>--</td><td>--</td><td>--</td><td>--</td><td>--</td><td>--</td><td>--</td><td>--</td><td>--</td><td>--</td><td>--</td><td>--</td><td>--</td><td>--</td><td>--</td><td>--</td><td>--</td><td>--</td><td>--</td><td>--</td><td>--</td><td>--</td><td>--</td><td>--</td><td>--</td><td>--</td><td>--</td></tr>\n",
       "<tr><td>ceers</td><td>6</td><td>215.1458629783668</td><td>52.92588676172599</td><td>nan</td><td>--</td><td>--</td><td>--</td><td>--</td><td>--</td><td>--</td><td>--</td><td>--</td><td>--</td><td>--</td><td>--</td><td>--</td><td>--</td><td>--</td><td>--</td><td>--</td><td>--</td><td>--</td><td>--</td><td>--</td><td>--</td><td>--</td><td>--</td><td>--</td><td>--</td><td>--</td><td>--</td><td>--</td><td>--</td><td>--</td><td>--</td><td>--</td><td>--</td><td>--</td><td>--</td><td>--</td><td>--</td><td>--</td><td>--</td><td>--</td><td>--</td><td>--</td><td>25.04257048559836</td><td>0.05662983390736154</td><td>--</td><td>--</td><td>--</td><td>--</td><td>24.873224228390733</td><td>0.01805763380978862</td><td>--</td><td>--</td><td>--</td><td>--</td><td>--</td><td>--</td><td>--</td><td>--</td><td>--</td><td>--</td><td>--</td><td>--</td><td>--</td><td>--</td><td>--</td><td>--</td><td>--</td><td>--</td><td>--</td><td>--</td><td>--</td><td>--</td><td>--</td><td>--</td><td>--</td><td>--</td><td>--</td><td>--</td><td>--</td><td>--</td><td>--</td><td>--</td><td>--</td><td>--</td><td>--</td><td>--</td><td>--</td><td>--</td><td>--</td><td>--</td><td>--</td><td>--</td><td>24.53181514630947</td><td>0.03653048659649492</td><td>--</td><td>--</td><td>--</td><td>--</td><td>24.29560590490359</td><td>0.013996960333104267</td><td>--</td><td>--</td><td>--</td><td>--</td><td>--</td><td>--</td><td>--</td><td>--</td><td>--</td><td>--</td><td>--</td><td>--</td><td>--</td><td>--</td><td>--</td><td>--</td><td>--</td><td>--</td><td>--</td><td>--</td><td>--</td><td>--</td><td>--</td><td>--</td><td>--</td><td>--</td><td>--</td><td>--</td><td>--</td><td>--</td><td>--</td><td>--</td><td>--</td><td>--</td><td>--</td><td>--</td><td>--</td><td>--</td><td>--</td><td>--</td><td>--</td><td>--</td><td>24.05083794680117</td><td>0.02646761706222096</td><td>--</td><td>--</td><td>--</td><td>--</td><td>23.839347943951232</td><td>0.01205597576530774</td><td>--</td><td>--</td><td>--</td><td>--</td><td>--</td><td>--</td><td>--</td><td>--</td><td>--</td><td>--</td><td>--</td><td>--</td><td>--</td><td>--</td><td>--</td><td>--</td><td>--</td><td>--</td><td>--</td><td>--</td><td>--</td><td>--</td><td>--</td><td>--</td><td>--</td><td>--</td><td>--</td><td>--</td><td>--</td><td>--</td><td>--</td><td>--</td><td>--</td><td>--</td><td>--</td><td>--</td><td>--</td><td>--</td><td>--</td><td>--</td><td>--</td><td>--</td><td>23.668489740160158</td><td>0.022530528110621503</td><td>--</td><td>--</td><td>--</td><td>--</td><td>23.511693166074732</td><td>0.01168943077545935</td><td>--</td><td>--</td><td>--</td><td>--</td><td>--</td><td>--</td><td>--</td><td>--</td><td>--</td><td>--</td><td>--</td><td>--</td><td>--</td><td>--</td><td>--</td><td>--</td><td>--</td><td>--</td><td>--</td><td>--</td><td>--</td><td>--</td><td>--</td><td>--</td><td>--</td><td>--</td><td>--</td><td>--</td><td>--</td><td>--</td><td>--</td><td>--</td><td>--</td><td>--</td><td>--</td><td>--</td><td>--</td><td>--</td><td>--</td><td>--</td><td>--</td><td>--</td><td>--</td><td>--</td><td>--</td><td>--</td><td>--</td><td>--</td><td>--</td><td>--</td><td>--</td><td>--</td><td>--</td><td>--</td><td>--</td><td>--</td><td>--</td><td>--</td><td>--</td><td>--</td><td>--</td><td>--</td><td>--</td><td>--</td><td>--</td><td>--</td><td>--</td><td>--</td><td>--</td><td>--</td><td>--</td><td>--</td><td>--</td><td>--</td><td>--</td><td>--</td><td>--</td><td>--</td><td>--</td><td>--</td><td>--</td><td>--</td><td>--</td><td>--</td><td>--</td><td>--</td><td>--</td><td>--</td><td>--</td><td>--</td><td>--</td><td>--</td><td>--</td><td>--</td><td>--</td><td>--</td><td>--</td><td>--</td><td>--</td><td>--</td><td>--</td><td>--</td><td>--</td><td>--</td><td>--</td><td>--</td><td>--</td><td>--</td><td>--</td><td>--</td><td>--</td><td>--</td><td>--</td><td>--</td><td>--</td><td>--</td><td>--</td><td>--</td><td>--</td><td>--</td><td>--</td><td>--</td><td>--</td><td>--</td><td>--</td><td>--</td><td>--</td><td>--</td><td>--</td><td>--</td><td>--</td><td>--</td><td>--</td><td>--</td><td>--</td><td>--</td><td>--</td><td>--</td><td>--</td><td>--</td><td>--</td><td>--</td><td>--</td><td>--</td><td>--</td><td>--</td><td>--</td><td>--</td><td>--</td><td>--</td><td>--</td><td>--</td><td>--</td><td>--</td><td>--</td><td>--</td><td>--</td><td>--</td><td>--</td><td>--</td><td>--</td><td>--</td><td>--</td><td>--</td><td>--</td><td>--</td><td>--</td><td>--</td><td>--</td><td>--</td><td>--</td><td>--</td><td>--</td><td>--</td><td>--</td><td>--</td><td>--</td><td>--</td><td>--</td><td>--</td><td>--</td><td>--</td><td>--</td><td>--</td><td>--</td><td>--</td><td>--</td><td>--</td><td>--</td><td>--</td><td>--</td><td>--</td><td>--</td><td>--</td><td>--</td><td>--</td><td>--</td><td>--</td><td>--</td><td>--</td><td>--</td><td>--</td><td>--</td><td>--</td><td>--</td><td>--</td><td>--</td><td>--</td></tr>\n",
       "<tr><td>ceers</td><td>7</td><td>215.13093623809937</td><td>52.91522733871391</td><td>nan</td><td>--</td><td>--</td><td>--</td><td>--</td><td>--</td><td>--</td><td>--</td><td>--</td><td>--</td><td>--</td><td>--</td><td>--</td><td>--</td><td>--</td><td>--</td><td>--</td><td>--</td><td>--</td><td>--</td><td>--</td><td>--</td><td>--</td><td>--</td><td>--</td><td>--</td><td>--</td><td>--</td><td>--</td><td>--</td><td>--</td><td>--</td><td>--</td><td>--</td><td>--</td><td>--</td><td>--</td><td>--</td><td>--</td><td>--</td><td>--</td><td>--</td><td>--</td><td>30.98113463283675</td><td>0.46693214149978884</td><td>--</td><td>--</td><td>--</td><td>--</td><td>31.349292777071263</td><td>0.27794188253673646</td><td>--</td><td>--</td><td>--</td><td>--</td><td>--</td><td>--</td><td>--</td><td>--</td><td>--</td><td>--</td><td>--</td><td>--</td><td>--</td><td>--</td><td>--</td><td>--</td><td>--</td><td>--</td><td>--</td><td>--</td><td>--</td><td>--</td><td>--</td><td>--</td><td>--</td><td>--</td><td>--</td><td>--</td><td>--</td><td>--</td><td>--</td><td>--</td><td>--</td><td>--</td><td>--</td><td>--</td><td>--</td><td>--</td><td>--</td><td>--</td><td>--</td><td>--</td><td>30.622064871253063</td><td>0.453591051941295</td><td>--</td><td>--</td><td>--</td><td>--</td><td>30.835428084049312</td><td>0.3030355136464358</td><td>--</td><td>--</td><td>--</td><td>--</td><td>--</td><td>--</td><td>--</td><td>--</td><td>--</td><td>--</td><td>--</td><td>--</td><td>--</td><td>--</td><td>--</td><td>--</td><td>--</td><td>--</td><td>--</td><td>--</td><td>--</td><td>--</td><td>--</td><td>--</td><td>--</td><td>--</td><td>--</td><td>--</td><td>--</td><td>--</td><td>--</td><td>--</td><td>--</td><td>--</td><td>--</td><td>--</td><td>--</td><td>--</td><td>--</td><td>--</td><td>--</td><td>--</td><td>30.10149115448798</td><td>0.48910523391102745</td><td>--</td><td>--</td><td>--</td><td>--</td><td>29.903833845955045</td><td>0.42038993036198724</td><td>--</td><td>--</td><td>--</td><td>--</td><td>--</td><td>--</td><td>--</td><td>--</td><td>--</td><td>--</td><td>--</td><td>--</td><td>--</td><td>--</td><td>--</td><td>--</td><td>--</td><td>--</td><td>--</td><td>--</td><td>--</td><td>--</td><td>--</td><td>--</td><td>--</td><td>--</td><td>--</td><td>--</td><td>--</td><td>--</td><td>--</td><td>--</td><td>--</td><td>--</td><td>--</td><td>--</td><td>--</td><td>--</td><td>--</td><td>--</td><td>--</td><td>--</td><td>29.453917065927843</td><td>0.5490884115469562</td><td>--</td><td>--</td><td>--</td><td>--</td><td>29.14275392384182</td><td>0.46451922628723336</td><td>--</td><td>--</td><td>--</td><td>--</td><td>--</td><td>--</td><td>--</td><td>--</td><td>--</td><td>--</td><td>--</td><td>--</td><td>--</td><td>--</td><td>--</td><td>--</td><td>--</td><td>--</td><td>--</td><td>--</td><td>--</td><td>--</td><td>--</td><td>--</td><td>--</td><td>--</td><td>--</td><td>--</td><td>--</td><td>--</td><td>--</td><td>--</td><td>--</td><td>--</td><td>--</td><td>--</td><td>--</td><td>--</td><td>--</td><td>--</td><td>--</td><td>--</td><td>--</td><td>--</td><td>--</td><td>--</td><td>--</td><td>--</td><td>--</td><td>--</td><td>--</td><td>--</td><td>--</td><td>--</td><td>--</td><td>--</td><td>--</td><td>--</td><td>--</td><td>--</td><td>--</td><td>--</td><td>--</td><td>--</td><td>--</td><td>--</td><td>--</td><td>--</td><td>--</td><td>--</td><td>--</td><td>--</td><td>--</td><td>--</td><td>--</td><td>--</td><td>--</td><td>--</td><td>--</td><td>--</td><td>--</td><td>--</td><td>--</td><td>--</td><td>--</td><td>--</td><td>--</td><td>--</td><td>--</td><td>--</td><td>--</td><td>--</td><td>--</td><td>--</td><td>--</td><td>--</td><td>--</td><td>--</td><td>--</td><td>--</td><td>--</td><td>--</td><td>--</td><td>--</td><td>--</td><td>--</td><td>--</td><td>--</td><td>--</td><td>--</td><td>--</td><td>--</td><td>--</td><td>--</td><td>--</td><td>--</td><td>--</td><td>--</td><td>--</td><td>--</td><td>--</td><td>--</td><td>--</td><td>--</td><td>--</td><td>--</td><td>--</td><td>--</td><td>--</td><td>--</td><td>--</td><td>--</td><td>--</td><td>--</td><td>--</td><td>--</td><td>--</td><td>--</td><td>--</td><td>--</td><td>--</td><td>--</td><td>--</td><td>--</td><td>--</td><td>--</td><td>--</td><td>--</td><td>--</td><td>--</td><td>--</td><td>--</td><td>--</td><td>--</td><td>--</td><td>--</td><td>--</td><td>--</td><td>--</td><td>--</td><td>--</td><td>--</td><td>--</td><td>--</td><td>--</td><td>--</td><td>--</td><td>--</td><td>--</td><td>--</td><td>--</td><td>--</td><td>--</td><td>--</td><td>--</td><td>--</td><td>--</td><td>--</td><td>--</td><td>--</td><td>--</td><td>--</td><td>--</td><td>--</td><td>--</td><td>--</td><td>--</td><td>--</td><td>--</td><td>--</td><td>--</td><td>--</td><td>--</td><td>--</td><td>--</td><td>--</td><td>--</td><td>--</td><td>--</td><td>--</td><td>--</td><td>--</td><td>--</td><td>--</td><td>--</td><td>--</td><td>--</td><td>--</td></tr>\n",
       "<tr><td>ceers</td><td>8</td><td>215.12435951625753</td><td>52.91052853715476</td><td>nan</td><td>--</td><td>--</td><td>--</td><td>--</td><td>--</td><td>--</td><td>--</td><td>--</td><td>--</td><td>--</td><td>--</td><td>--</td><td>--</td><td>--</td><td>--</td><td>--</td><td>--</td><td>--</td><td>--</td><td>--</td><td>--</td><td>--</td><td>--</td><td>--</td><td>--</td><td>--</td><td>--</td><td>--</td><td>--</td><td>--</td><td>--</td><td>--</td><td>--</td><td>--</td><td>--</td><td>--</td><td>--</td><td>--</td><td>--</td><td>--</td><td>--</td><td>--</td><td>30.0292321491326</td><td>0.6861669860612213</td><td>--</td><td>--</td><td>--</td><td>--</td><td>30.113934271976984</td><td>0.7159761076439087</td><td>--</td><td>--</td><td>--</td><td>--</td><td>--</td><td>--</td><td>--</td><td>--</td><td>--</td><td>--</td><td>--</td><td>--</td><td>--</td><td>--</td><td>--</td><td>--</td><td>--</td><td>--</td><td>--</td><td>--</td><td>--</td><td>--</td><td>--</td><td>--</td><td>--</td><td>--</td><td>--</td><td>--</td><td>--</td><td>--</td><td>--</td><td>--</td><td>--</td><td>--</td><td>--</td><td>--</td><td>--</td><td>--</td><td>--</td><td>--</td><td>--</td><td>--</td><td>29.58947574942953</td><td>0.6457977363783731</td><td>--</td><td>--</td><td>--</td><td>--</td><td>28.609178955829588</td><td>0.45310826668581733</td><td>--</td><td>--</td><td>--</td><td>--</td><td>--</td><td>--</td><td>--</td><td>--</td><td>--</td><td>--</td><td>--</td><td>--</td><td>--</td><td>--</td><td>--</td><td>--</td><td>--</td><td>--</td><td>--</td><td>--</td><td>--</td><td>--</td><td>--</td><td>--</td><td>--</td><td>--</td><td>--</td><td>--</td><td>--</td><td>--</td><td>--</td><td>--</td><td>--</td><td>--</td><td>--</td><td>--</td><td>--</td><td>--</td><td>--</td><td>--</td><td>--</td><td>--</td><td>29.22701636300279</td><td>0.6209316990080631</td><td>--</td><td>--</td><td>--</td><td>--</td><td>28.594406207151852</td><td>0.5326064928876297</td><td>--</td><td>--</td><td>--</td><td>--</td><td>--</td><td>--</td><td>--</td><td>--</td><td>--</td><td>--</td><td>--</td><td>--</td><td>--</td><td>--</td><td>--</td><td>--</td><td>--</td><td>--</td><td>--</td><td>--</td><td>--</td><td>--</td><td>--</td><td>--</td><td>--</td><td>--</td><td>--</td><td>--</td><td>--</td><td>--</td><td>--</td><td>--</td><td>--</td><td>--</td><td>--</td><td>--</td><td>--</td><td>--</td><td>--</td><td>--</td><td>--</td><td>--</td><td>28.774494707366998</td><td>0.5956276347864649</td><td>--</td><td>--</td><td>--</td><td>--</td><td>28.218204465937944</td><td>0.5133351291938187</td><td>--</td><td>--</td><td>--</td><td>--</td><td>--</td><td>--</td><td>--</td><td>--</td><td>--</td><td>--</td><td>--</td><td>--</td><td>--</td><td>--</td><td>--</td><td>--</td><td>--</td><td>--</td><td>--</td><td>--</td><td>--</td><td>--</td><td>--</td><td>--</td><td>--</td><td>--</td><td>--</td><td>--</td><td>--</td><td>--</td><td>--</td><td>--</td><td>--</td><td>--</td><td>--</td><td>--</td><td>--</td><td>--</td><td>--</td><td>--</td><td>--</td><td>--</td><td>--</td><td>--</td><td>--</td><td>--</td><td>--</td><td>--</td><td>--</td><td>--</td><td>--</td><td>--</td><td>--</td><td>--</td><td>--</td><td>--</td><td>--</td><td>--</td><td>--</td><td>--</td><td>--</td><td>--</td><td>--</td><td>--</td><td>--</td><td>--</td><td>--</td><td>--</td><td>--</td><td>--</td><td>--</td><td>--</td><td>--</td><td>--</td><td>--</td><td>--</td><td>--</td><td>--</td><td>--</td><td>--</td><td>--</td><td>--</td><td>--</td><td>--</td><td>--</td><td>--</td><td>--</td><td>--</td><td>--</td><td>--</td><td>--</td><td>--</td><td>--</td><td>--</td><td>--</td><td>--</td><td>--</td><td>--</td><td>--</td><td>--</td><td>--</td><td>--</td><td>--</td><td>--</td><td>--</td><td>--</td><td>--</td><td>--</td><td>--</td><td>--</td><td>--</td><td>--</td><td>--</td><td>--</td><td>--</td><td>--</td><td>--</td><td>--</td><td>--</td><td>--</td><td>--</td><td>--</td><td>--</td><td>--</td><td>--</td><td>--</td><td>--</td><td>--</td><td>--</td><td>--</td><td>--</td><td>--</td><td>--</td><td>--</td><td>--</td><td>--</td><td>--</td><td>--</td><td>--</td><td>--</td><td>--</td><td>--</td><td>--</td><td>--</td><td>--</td><td>--</td><td>--</td><td>--</td><td>--</td><td>--</td><td>--</td><td>--</td><td>--</td><td>--</td><td>--</td><td>--</td><td>--</td><td>--</td><td>--</td><td>--</td><td>--</td><td>--</td><td>--</td><td>--</td><td>--</td><td>--</td><td>--</td><td>--</td><td>--</td><td>--</td><td>--</td><td>--</td><td>--</td><td>--</td><td>--</td><td>--</td><td>--</td><td>--</td><td>--</td><td>--</td><td>--</td><td>--</td><td>--</td><td>--</td><td>--</td><td>--</td><td>--</td><td>--</td><td>--</td><td>--</td><td>--</td><td>--</td><td>--</td><td>--</td><td>--</td><td>--</td><td>--</td><td>--</td><td>--</td><td>--</td><td>--</td><td>--</td><td>--</td><td>--</td><td>--</td><td>--</td><td>--</td><td>--</td></tr>\n",
       "<tr><td>ceers</td><td>9</td><td>215.1135278555601</td><td>52.902786739466755</td><td>nan</td><td>--</td><td>--</td><td>--</td><td>--</td><td>--</td><td>--</td><td>--</td><td>--</td><td>--</td><td>--</td><td>--</td><td>--</td><td>--</td><td>--</td><td>--</td><td>--</td><td>--</td><td>--</td><td>--</td><td>--</td><td>--</td><td>--</td><td>--</td><td>--</td><td>--</td><td>--</td><td>--</td><td>--</td><td>--</td><td>--</td><td>--</td><td>--</td><td>--</td><td>--</td><td>--</td><td>--</td><td>--</td><td>--</td><td>--</td><td>--</td><td>--</td><td>--</td><td>31.397366587341192</td><td>0.3421649905385547</td><td>--</td><td>--</td><td>--</td><td>--</td><td>31.23389806074266</td><td>0.38025925556859586</td><td>--</td><td>--</td><td>--</td><td>--</td><td>--</td><td>--</td><td>--</td><td>--</td><td>--</td><td>--</td><td>--</td><td>--</td><td>--</td><td>--</td><td>--</td><td>--</td><td>--</td><td>--</td><td>--</td><td>--</td><td>--</td><td>--</td><td>--</td><td>--</td><td>--</td><td>--</td><td>--</td><td>--</td><td>--</td><td>--</td><td>--</td><td>--</td><td>--</td><td>--</td><td>--</td><td>--</td><td>--</td><td>--</td><td>--</td><td>--</td><td>--</td><td>--</td><td>31.04433320270277</td><td>0.33304452169747617</td><td>--</td><td>--</td><td>--</td><td>--</td><td>30.755390311162028</td><td>0.4063254629998039</td><td>--</td><td>--</td><td>--</td><td>--</td><td>--</td><td>--</td><td>--</td><td>--</td><td>--</td><td>--</td><td>--</td><td>--</td><td>--</td><td>--</td><td>--</td><td>--</td><td>--</td><td>--</td><td>--</td><td>--</td><td>--</td><td>--</td><td>--</td><td>--</td><td>--</td><td>--</td><td>--</td><td>--</td><td>--</td><td>--</td><td>--</td><td>--</td><td>--</td><td>--</td><td>--</td><td>--</td><td>--</td><td>--</td><td>--</td><td>--</td><td>--</td><td>--</td><td>30.780177065834557</td><td>0.30070006150207074</td><td>--</td><td>--</td><td>--</td><td>--</td><td>30.359437098987016</td><td>0.4056280082690711</td><td>--</td><td>--</td><td>--</td><td>--</td><td>--</td><td>--</td><td>--</td><td>--</td><td>--</td><td>--</td><td>--</td><td>--</td><td>--</td><td>--</td><td>--</td><td>--</td><td>--</td><td>--</td><td>--</td><td>--</td><td>--</td><td>--</td><td>--</td><td>--</td><td>--</td><td>--</td><td>--</td><td>--</td><td>--</td><td>--</td><td>--</td><td>--</td><td>--</td><td>--</td><td>--</td><td>--</td><td>--</td><td>--</td><td>--</td><td>--</td><td>--</td><td>--</td><td>30.284291447221676</td><td>0.3233494934757607</td><td>--</td><td>--</td><td>--</td><td>--</td><td>30.51706941347711</td><td>0.2614757173015725</td><td>--</td><td>--</td><td>--</td><td>--</td><td>--</td><td>--</td><td>--</td><td>--</td><td>--</td><td>--</td><td>--</td><td>--</td><td>--</td><td>--</td><td>--</td><td>--</td><td>--</td><td>--</td><td>--</td><td>--</td><td>--</td><td>--</td><td>--</td><td>--</td><td>--</td><td>--</td><td>--</td><td>--</td><td>--</td><td>--</td><td>--</td><td>--</td><td>--</td><td>--</td><td>--</td><td>--</td><td>--</td><td>--</td><td>--</td><td>--</td><td>--</td><td>--</td><td>--</td><td>--</td><td>--</td><td>--</td><td>--</td><td>--</td><td>--</td><td>--</td><td>--</td><td>--</td><td>--</td><td>--</td><td>--</td><td>--</td><td>--</td><td>--</td><td>--</td><td>--</td><td>--</td><td>--</td><td>--</td><td>--</td><td>--</td><td>--</td><td>--</td><td>--</td><td>--</td><td>--</td><td>--</td><td>--</td><td>--</td><td>--</td><td>--</td><td>--</td><td>--</td><td>--</td><td>--</td><td>--</td><td>--</td><td>--</td><td>--</td><td>--</td><td>--</td><td>--</td><td>--</td><td>--</td><td>--</td><td>--</td><td>--</td><td>--</td><td>--</td><td>--</td><td>--</td><td>--</td><td>--</td><td>--</td><td>--</td><td>--</td><td>--</td><td>--</td><td>--</td><td>--</td><td>--</td><td>--</td><td>--</td><td>--</td><td>--</td><td>--</td><td>--</td><td>--</td><td>--</td><td>--</td><td>--</td><td>--</td><td>--</td><td>--</td><td>--</td><td>--</td><td>--</td><td>--</td><td>--</td><td>--</td><td>--</td><td>--</td><td>--</td><td>--</td><td>--</td><td>--</td><td>--</td><td>--</td><td>--</td><td>--</td><td>--</td><td>--</td><td>--</td><td>--</td><td>--</td><td>--</td><td>--</td><td>--</td><td>--</td><td>--</td><td>--</td><td>--</td><td>--</td><td>--</td><td>--</td><td>--</td><td>--</td><td>--</td><td>--</td><td>--</td><td>--</td><td>--</td><td>--</td><td>--</td><td>--</td><td>--</td><td>--</td><td>--</td><td>--</td><td>--</td><td>--</td><td>--</td><td>--</td><td>--</td><td>--</td><td>--</td><td>--</td><td>--</td><td>--</td><td>--</td><td>--</td><td>--</td><td>--</td><td>--</td><td>--</td><td>--</td><td>--</td><td>--</td><td>--</td><td>--</td><td>--</td><td>--</td><td>--</td><td>--</td><td>--</td><td>--</td><td>--</td><td>--</td><td>--</td><td>--</td><td>--</td><td>--</td><td>--</td><td>--</td><td>--</td><td>--</td><td>--</td><td>--</td><td>--</td><td>--</td><td>--</td><td>--</td><td>--</td><td>--</td></tr>\n",
       "<tr><td>...</td><td>...</td><td>...</td><td>...</td><td>...</td><td>...</td><td>...</td><td>...</td><td>...</td><td>...</td><td>...</td><td>...</td><td>...</td><td>...</td><td>...</td><td>...</td><td>...</td><td>...</td><td>...</td><td>...</td><td>...</td><td>...</td><td>...</td><td>...</td><td>...</td><td>...</td><td>...</td><td>...</td><td>...</td><td>...</td><td>...</td><td>...</td><td>...</td><td>...</td><td>...</td><td>...</td><td>...</td><td>...</td><td>...</td><td>...</td><td>...</td><td>...</td><td>...</td><td>...</td><td>...</td><td>...</td><td>...</td><td>...</td><td>...</td><td>...</td><td>...</td><td>...</td><td>...</td><td>...</td><td>...</td><td>...</td><td>...</td><td>...</td><td>...</td><td>...</td><td>...</td><td>...</td><td>...</td><td>...</td><td>...</td><td>...</td><td>...</td><td>...</td><td>...</td><td>...</td><td>...</td><td>...</td><td>...</td><td>...</td><td>...</td><td>...</td><td>...</td><td>...</td><td>...</td><td>...</td><td>...</td><td>...</td><td>...</td><td>...</td><td>...</td><td>...</td><td>...</td><td>...</td><td>...</td><td>...</td><td>...</td><td>...</td><td>...</td><td>...</td><td>...</td><td>...</td><td>...</td><td>...</td><td>...</td><td>...</td><td>...</td><td>...</td><td>...</td><td>...</td><td>...</td><td>...</td><td>...</td><td>...</td><td>...</td><td>...</td><td>...</td><td>...</td><td>...</td><td>...</td><td>...</td><td>...</td><td>...</td><td>...</td><td>...</td><td>...</td><td>...</td><td>...</td><td>...</td><td>...</td><td>...</td><td>...</td><td>...</td><td>...</td><td>...</td><td>...</td><td>...</td><td>...</td><td>...</td><td>...</td><td>...</td><td>...</td><td>...</td><td>...</td><td>...</td><td>...</td><td>...</td><td>...</td><td>...</td><td>...</td><td>...</td><td>...</td><td>...</td><td>...</td><td>...</td><td>...</td><td>...</td><td>...</td><td>...</td><td>...</td><td>...</td><td>...</td><td>...</td><td>...</td><td>...</td><td>...</td><td>...</td><td>...</td><td>...</td><td>...</td><td>...</td><td>...</td><td>...</td><td>...</td><td>...</td><td>...</td><td>...</td><td>...</td><td>...</td><td>...</td><td>...</td><td>...</td><td>...</td><td>...</td><td>...</td><td>...</td><td>...</td><td>...</td><td>...</td><td>...</td><td>...</td><td>...</td><td>...</td><td>...</td><td>...</td><td>...</td><td>...</td><td>...</td><td>...</td><td>...</td><td>...</td><td>...</td><td>...</td><td>...</td><td>...</td><td>...</td><td>...</td><td>...</td><td>...</td><td>...</td><td>...</td><td>...</td><td>...</td><td>...</td><td>...</td><td>...</td><td>...</td><td>...</td><td>...</td><td>...</td><td>...</td><td>...</td><td>...</td><td>...</td><td>...</td><td>...</td><td>...</td><td>...</td><td>...</td><td>...</td><td>...</td><td>...</td><td>...</td><td>...</td><td>...</td><td>...</td><td>...</td><td>...</td><td>...</td><td>...</td><td>...</td><td>...</td><td>...</td><td>...</td><td>...</td><td>...</td><td>...</td><td>...</td><td>...</td><td>...</td><td>...</td><td>...</td><td>...</td><td>...</td><td>...</td><td>...</td><td>...</td><td>...</td><td>...</td><td>...</td><td>...</td><td>...</td><td>...</td><td>...</td><td>...</td><td>...</td><td>...</td><td>...</td><td>...</td><td>...</td><td>...</td><td>...</td><td>...</td><td>...</td><td>...</td><td>...</td><td>...</td><td>...</td><td>...</td><td>...</td><td>...</td><td>...</td><td>...</td><td>...</td><td>...</td><td>...</td><td>...</td><td>...</td><td>...</td><td>...</td><td>...</td><td>...</td><td>...</td><td>...</td><td>...</td><td>...</td><td>...</td><td>...</td><td>...</td><td>...</td><td>...</td><td>...</td><td>...</td><td>...</td><td>...</td><td>...</td><td>...</td><td>...</td><td>...</td><td>...</td><td>...</td><td>...</td><td>...</td><td>...</td><td>...</td><td>...</td><td>...</td><td>...</td><td>...</td><td>...</td><td>...</td><td>...</td><td>...</td><td>...</td><td>...</td><td>...</td><td>...</td><td>...</td><td>...</td><td>...</td><td>...</td><td>...</td><td>...</td><td>...</td><td>...</td><td>...</td><td>...</td><td>...</td><td>...</td><td>...</td><td>...</td><td>...</td><td>...</td><td>...</td><td>...</td><td>...</td><td>...</td><td>...</td><td>...</td><td>...</td><td>...</td><td>...</td><td>...</td><td>...</td><td>...</td><td>...</td><td>...</td><td>...</td><td>...</td><td>...</td><td>...</td><td>...</td><td>...</td><td>...</td><td>...</td><td>...</td><td>...</td><td>...</td><td>...</td><td>...</td><td>...</td><td>...</td><td>...</td><td>...</td><td>...</td><td>...</td><td>...</td><td>...</td><td>...</td><td>...</td><td>...</td><td>...</td><td>...</td><td>...</td><td>...</td><td>...</td><td>...</td><td>...</td><td>...</td><td>...</td><td>...</td><td>...</td><td>...</td><td>...</td><td>...</td><td>...</td><td>...</td><td>...</td><td>...</td><td>...</td><td>...</td><td>...</td><td>...</td><td>...</td><td>...</td><td>...</td><td>...</td><td>...</td><td>...</td><td>...</td><td>...</td><td>...</td><td>...</td><td>...</td><td>...</td><td>...</td><td>...</td><td>...</td><td>...</td></tr>\n",
       "<tr><td>sunrise</td><td>530516</td><td>24.348616196574184</td><td>-8.388370132804898</td><td>nan</td><td>--</td><td>--</td><td>--</td><td>--</td><td>28.1594305227242</td><td>0.29825455487037633</td><td>--</td><td>--</td><td>--</td><td>--</td><td>--</td><td>--</td><td>--</td><td>--</td><td>28.30981081111566</td><td>0.320395020420304</td><td>--</td><td>--</td><td>--</td><td>--</td><td>--</td><td>--</td><td>27.900257281780995</td><td>0.1760211717841009</td><td>--</td><td>--</td><td>--</td><td>--</td><td>--</td><td>--</td><td>28.336245798424915</td><td>0.19657036213416035</td><td>28.965505610538564</td><td>0.3076240429921371</td><td>29.277252517578457</td><td>0.6001922858974327</td><td>--</td><td>--</td><td>29.35890648236256</td><td>0.5808995968802</td><td>--</td><td>--</td><td>--</td><td>--</td><td>--</td><td>--</td><td>--</td><td>--</td><td>--</td><td>--</td><td>--</td><td>--</td><td>--</td><td>--</td><td>28.245149989005697</td><td>0.4235124660652927</td><td>--</td><td>--</td><td>--</td><td>--</td><td>--</td><td>--</td><td>--</td><td>--</td><td>28.48674654183714</td><td>0.4687311682565655</td><td>--</td><td>--</td><td>--</td><td>--</td><td>--</td><td>--</td><td>27.861057074685174</td><td>0.2300738441082878</td><td>--</td><td>--</td><td>--</td><td>--</td><td>--</td><td>--</td><td>28.155271048486274</td><td>0.22893785734225983</td><td>29.05793707736308</td><td>0.45056809516281504</td><td>29.685131436261717</td><td>0.7052247541298089</td><td>--</td><td>--</td><td>30.119796352032832</td><td>0.6959509584298115</td><td>--</td><td>--</td><td>--</td><td>--</td><td>--</td><td>--</td><td>--</td><td>--</td><td>--</td><td>--</td><td>--</td><td>--</td><td>--</td><td>--</td><td>29.33933884488515</td><td>0.7103198153741372</td><td>--</td><td>--</td><td>--</td><td>--</td><td>--</td><td>--</td><td>--</td><td>--</td><td>29.880373935955138</td><td>0.637049244696003</td><td>--</td><td>--</td><td>--</td><td>--</td><td>--</td><td>--</td><td>27.739700736645393</td><td>0.2812956996150774</td><td>--</td><td>--</td><td>--</td><td>--</td><td>--</td><td>--</td><td>28.18820828539165</td><td>0.3288511099616476</td><td>29.65973323649746</td><td>0.7378157359048617</td><td>29.98366331582831</td><td>0.5652928727241394</td><td>--</td><td>--</td><td>30.81229193391634</td><td>0.38593089399981234</td><td>--</td><td>--</td><td>--</td><td>--</td><td>--</td><td>--</td><td>--</td><td>--</td><td>--</td><td>--</td><td>--</td><td>--</td><td>--</td><td>--</td><td>29.78594042527591</td><td>0.47647439808923714</td><td>--</td><td>--</td><td>--</td><td>--</td><td>--</td><td>--</td><td>--</td><td>--</td><td>30.403452688003114</td><td>0.3426424932049023</td><td>--</td><td>--</td><td>--</td><td>--</td><td>--</td><td>--</td><td>27.31315649692259</td><td>0.2701218477867116</td><td>--</td><td>--</td><td>--</td><td>--</td><td>--</td><td>--</td><td>28.243334434255516</td><td>0.46823430973249897</td><td>30.552000583875223</td><td>0.48096969096426534</td><td>29.987487778456423</td><td>0.4374806114741634</td><td>--</td><td>--</td><td>31.051563251041127</td><td>0.22738342692145633</td><td>--</td><td>--</td><td>--</td><td>--</td><td>--</td><td>--</td><td>--</td><td>--</td><td>--</td><td>--</td><td>--</td><td>--</td><td>--</td><td>--</td><td>27.741229605949776</td><td>0.20376813802400717</td><td>--</td><td>--</td><td>--</td><td>--</td><td>--</td><td>--</td><td>--</td><td>--</td><td>--</td><td>--</td><td>--</td><td>--</td><td>--</td><td>--</td><td>--</td><td>--</td><td>--</td><td>--</td><td>--</td><td>--</td><td>--</td><td>--</td><td>--</td><td>--</td><td>--</td><td>--</td><td>--</td><td>--</td><td>--</td><td>--</td><td>--</td><td>--</td><td>27.528698268321996</td><td>0.23059397671241474</td><td>--</td><td>--</td><td>--</td><td>--</td><td>--</td><td>--</td><td>--</td><td>--</td><td>--</td><td>--</td><td>--</td><td>--</td><td>--</td><td>--</td><td>--</td><td>--</td><td>--</td><td>--</td><td>--</td><td>--</td><td>--</td><td>--</td><td>--</td><td>--</td><td>--</td><td>--</td><td>--</td><td>--</td><td>--</td><td>--</td><td>--</td><td>--</td><td>27.76458716624842</td><td>0.38239491863590785</td><td>--</td><td>--</td><td>--</td><td>--</td><td>--</td><td>--</td><td>--</td><td>--</td><td>--</td><td>--</td><td>--</td><td>--</td><td>--</td><td>--</td><td>--</td><td>--</td><td>--</td><td>--</td><td>--</td><td>--</td><td>--</td><td>--</td><td>--</td><td>--</td><td>--</td><td>--</td><td>--</td><td>--</td><td>--</td><td>--</td><td>--</td><td>--</td><td>27.875110200480542</td><td>0.549454993113351</td><td>--</td><td>--</td><td>--</td><td>--</td><td>--</td><td>--</td><td>--</td><td>--</td><td>--</td><td>--</td><td>--</td><td>--</td><td>--</td><td>--</td><td>--</td><td>--</td><td>--</td><td>--</td><td>--</td><td>--</td><td>--</td><td>--</td><td>--</td><td>--</td><td>--</td><td>--</td><td>--</td><td>--</td><td>--</td><td>--</td><td>--</td><td>--</td><td>--</td><td>--</td><td>--</td><td>--</td><td>--</td><td>--</td><td>--</td><td>--</td><td>--</td><td>--</td><td>--</td><td>--</td><td>--</td><td>--</td><td>--</td><td>--</td><td>--</td><td>--</td><td>--</td><td>--</td><td>--</td><td>--</td><td>--</td><td>--</td><td>--</td><td>--</td><td>--</td><td>--</td><td>--</td><td>--</td><td>--</td><td>--</td><td>--</td><td>--</td><td>--</td><td>--</td><td>--</td><td>--</td><td>--</td><td>--</td><td>--</td><td>--</td><td>--</td><td>--</td><td>--</td><td>--</td><td>--</td><td>--</td><td>--</td><td>--</td><td>--</td><td>--</td><td>--</td><td>--</td><td>--</td><td>--</td><td>--</td><td>--</td><td>--</td><td>--</td><td>--</td><td>--</td><td>--</td><td>--</td><td>--</td><td>--</td><td>--</td><td>--</td></tr>\n",
       "<tr><td>sunrise</td><td>530517</td><td>24.35200311622535</td><td>-8.388430504337059</td><td>nan</td><td>--</td><td>--</td><td>--</td><td>--</td><td>24.144219693984475</td><td>0.008376061176618882</td><td>--</td><td>--</td><td>--</td><td>--</td><td>--</td><td>--</td><td>--</td><td>--</td><td>24.0035873406957</td><td>0.006365291767965493</td><td>--</td><td>--</td><td>--</td><td>--</td><td>--</td><td>--</td><td>24.168953698003268</td><td>0.0062310322362423565</td><td>--</td><td>--</td><td>--</td><td>--</td><td>--</td><td>--</td><td>24.783842668669575</td><td>0.011336181802991282</td><td>25.207080701742616</td><td>0.015385938380752227</td><td>25.54259385069405</td><td>0.03670287649220153</td><td>--</td><td>--</td><td>25.638052171383034</td><td>0.03421900649862236</td><td>--</td><td>--</td><td>--</td><td>--</td><td>--</td><td>--</td><td>--</td><td>--</td><td>--</td><td>--</td><td>--</td><td>--</td><td>--</td><td>--</td><td>24.103813224726384</td><td>0.010862294503900178</td><td>--</td><td>--</td><td>--</td><td>--</td><td>--</td><td>--</td><td>--</td><td>--</td><td>23.947117848985314</td><td>0.008155619520817817</td><td>--</td><td>--</td><td>--</td><td>--</td><td>--</td><td>--</td><td>24.14152305648234</td><td>0.008090771388367756</td><td>--</td><td>--</td><td>--</td><td>--</td><td>--</td><td>--</td><td>24.695012068545452</td><td>0.015140270403708812</td><td>25.073352459513565</td><td>0.024500314930982578</td><td>25.405170793287493</td><td>0.057058305035960426</td><td>--</td><td>--</td><td>25.54959578865591</td><td>0.046391454605321604</td><td>--</td><td>--</td><td>--</td><td>--</td><td>--</td><td>--</td><td>--</td><td>--</td><td>--</td><td>--</td><td>--</td><td>--</td><td>--</td><td>--</td><td>24.056387408442482</td><td>0.014283038356377257</td><td>--</td><td>--</td><td>--</td><td>--</td><td>--</td><td>--</td><td>--</td><td>--</td><td>23.892658507787623</td><td>0.010762770390236353</td><td>--</td><td>--</td><td>--</td><td>--</td><td>--</td><td>--</td><td>24.100697558327898</td><td>0.011337336262462782</td><td>--</td><td>--</td><td>--</td><td>--</td><td>--</td><td>--</td><td>24.652121987909595</td><td>0.31060915704826686</td><td>25.00401727794214</td><td>0.042314428102916454</td><td>25.317636421844618</td><td>0.08128425702598</td><td>--</td><td>--</td><td>25.46283571705972</td><td>0.061537504052664685</td><td>--</td><td>--</td><td>--</td><td>--</td><td>--</td><td>--</td><td>--</td><td>--</td><td>--</td><td>--</td><td>--</td><td>--</td><td>--</td><td>--</td><td>24.020190272787808</td><td>0.019904425377579266</td><td>--</td><td>--</td><td>--</td><td>--</td><td>--</td><td>--</td><td>--</td><td>--</td><td>23.856607279456</td><td>0.014673466506972415</td><td>--</td><td>--</td><td>--</td><td>--</td><td>--</td><td>--</td><td>24.073067029094787</td><td>0.015155571394712939</td><td>--</td><td>--</td><td>--</td><td>--</td><td>--</td><td>--</td><td>24.630347817893792</td><td>0.5164526845438294</td><td>24.959285001897488</td><td>0.047580011121843936</td><td>25.278044511865208</td><td>0.09950020523896473</td><td>--</td><td>--</td><td>25.505608167700956</td><td>0.08722394761220686</td><td>--</td><td>--</td><td>--</td><td>--</td><td>--</td><td>--</td><td>--</td><td>--</td><td>--</td><td>--</td><td>--</td><td>--</td><td>--</td><td>--</td><td>24.44664772771132</td><td>0.011215198701753942</td><td>--</td><td>--</td><td>--</td><td>--</td><td>--</td><td>--</td><td>--</td><td>--</td><td>--</td><td>--</td><td>--</td><td>--</td><td>--</td><td>--</td><td>--</td><td>--</td><td>--</td><td>--</td><td>--</td><td>--</td><td>--</td><td>--</td><td>--</td><td>--</td><td>--</td><td>--</td><td>--</td><td>--</td><td>--</td><td>--</td><td>--</td><td>--</td><td>24.391414854451742</td><td>0.014108030497875883</td><td>--</td><td>--</td><td>--</td><td>--</td><td>--</td><td>--</td><td>--</td><td>--</td><td>--</td><td>--</td><td>--</td><td>--</td><td>--</td><td>--</td><td>--</td><td>--</td><td>--</td><td>--</td><td>--</td><td>--</td><td>--</td><td>--</td><td>--</td><td>--</td><td>--</td><td>--</td><td>--</td><td>--</td><td>--</td><td>--</td><td>--</td><td>--</td><td>24.342921122308375</td><td>0.01849368467300544</td><td>--</td><td>--</td><td>--</td><td>--</td><td>--</td><td>--</td><td>--</td><td>--</td><td>--</td><td>--</td><td>--</td><td>--</td><td>--</td><td>--</td><td>--</td><td>--</td><td>--</td><td>--</td><td>--</td><td>--</td><td>--</td><td>--</td><td>--</td><td>--</td><td>--</td><td>--</td><td>--</td><td>--</td><td>--</td><td>--</td><td>--</td><td>--</td><td>24.302159465555107</td><td>0.025036937345490975</td><td>--</td><td>--</td><td>--</td><td>--</td><td>--</td><td>--</td><td>--</td><td>--</td><td>--</td><td>--</td><td>--</td><td>--</td><td>--</td><td>--</td><td>--</td><td>--</td><td>--</td><td>--</td><td>--</td><td>--</td><td>--</td><td>--</td><td>--</td><td>--</td><td>--</td><td>--</td><td>--</td><td>--</td><td>--</td><td>--</td><td>--</td><td>--</td><td>--</td><td>--</td><td>--</td><td>--</td><td>--</td><td>--</td><td>--</td><td>--</td><td>--</td><td>--</td><td>--</td><td>--</td><td>--</td><td>--</td><td>--</td><td>--</td><td>--</td><td>--</td><td>--</td><td>--</td><td>--</td><td>--</td><td>--</td><td>--</td><td>--</td><td>--</td><td>--</td><td>--</td><td>--</td><td>--</td><td>--</td><td>--</td><td>--</td><td>--</td><td>--</td><td>--</td><td>--</td><td>--</td><td>--</td><td>--</td><td>--</td><td>--</td><td>--</td><td>--</td><td>--</td><td>--</td><td>--</td><td>--</td><td>--</td><td>--</td><td>--</td><td>--</td><td>--</td><td>--</td><td>--</td><td>--</td><td>--</td><td>--</td><td>--</td><td>--</td><td>--</td><td>--</td><td>--</td><td>--</td><td>--</td><td>--</td><td>--</td><td>--</td></tr>\n",
       "<tr><td>sunrise</td><td>530518</td><td>24.35207329155662</td><td>-8.388324632634458</td><td>nan</td><td>--</td><td>--</td><td>--</td><td>--</td><td>27.690605149250402</td><td>0.20352979283156888</td><td>--</td><td>--</td><td>--</td><td>--</td><td>--</td><td>--</td><td>--</td><td>--</td><td>27.63781468136937</td><td>0.16802604366950882</td><td>--</td><td>--</td><td>--</td><td>--</td><td>--</td><td>--</td><td>27.52507215936082</td><td>0.12298630750802766</td><td>--</td><td>--</td><td>--</td><td>--</td><td>--</td><td>--</td><td>27.690960961187074</td><td>0.15519914605433766</td><td>27.557893555367766</td><td>0.12696574256305168</td><td>27.812021410962572</td><td>0.2897191970329004</td><td>--</td><td>--</td><td>27.685406962759366</td><td>0.21800878968701118</td><td>--</td><td>--</td><td>--</td><td>--</td><td>--</td><td>--</td><td>--</td><td>--</td><td>--</td><td>--</td><td>--</td><td>--</td><td>--</td><td>--</td><td>27.70293472013021</td><td>0.2790532326298241</td><td>--</td><td>--</td><td>--</td><td>--</td><td>--</td><td>--</td><td>--</td><td>--</td><td>27.45585675345925</td><td>0.19523267144409043</td><td>--</td><td>--</td><td>--</td><td>--</td><td>--</td><td>--</td><td>27.43333588388903</td><td>0.15617381890622548</td><td>--</td><td>--</td><td>--</td><td>--</td><td>--</td><td>--</td><td>27.581793890037016</td><td>0.19386871435084407</td><td>27.32605165156386</td><td>0.1423171033207981</td><td>27.62631879508367</td><td>0.33553646572628887</td><td>--</td><td>--</td><td>27.711327751116908</td><td>0.3053771364205826</td><td>--</td><td>--</td><td>--</td><td>--</td><td>--</td><td>--</td><td>--</td><td>--</td><td>--</td><td>--</td><td>--</td><td>--</td><td>--</td><td>--</td><td>27.877436144921806</td><td>0.4316396751660561</td><td>--</td><td>--</td><td>--</td><td>--</td><td>--</td><td>--</td><td>--</td><td>--</td><td>27.12746390934506</td><td>0.20201084465682254</td><td>--</td><td>--</td><td>--</td><td>--</td><td>--</td><td>--</td><td>27.391718982322413</td><td>0.20856588034151946</td><td>--</td><td>--</td><td>--</td><td>--</td><td>--</td><td>--</td><td>27.634111250385633</td><td>0.282486688910301</td><td>27.10462104298616</td><td>0.16270617264063722</td><td>28.732058721648478</td><td>0.9306815793898424</td><td>--</td><td>--</td><td>27.503190144002037</td><td>0.34968338477949584</td><td>--</td><td>--</td><td>--</td><td>--</td><td>--</td><td>--</td><td>--</td><td>--</td><td>--</td><td>--</td><td>--</td><td>--</td><td>--</td><td>--</td><td>29.08144535798203</td><td>0.7196489465516517</td><td>--</td><td>--</td><td>--</td><td>--</td><td>--</td><td>--</td><td>--</td><td>--</td><td>27.344050358244033</td><td>0.34730391281524386</td><td>--</td><td>--</td><td>--</td><td>--</td><td>--</td><td>--</td><td>27.38707596113024</td><td>0.29484987886619785</td><td>--</td><td>--</td><td>--</td><td>--</td><td>--</td><td>--</td><td>28.231973309374634</td><td>0.6351943984240901</td><td>27.421939628528257</td><td>0.30637162485191427</td><td>30.05657167356536</td><td>0.5752843103132874</td><td>--</td><td>--</td><td>27.284385613666377</td><td>0.40352953844684336</td><td>--</td><td>--</td><td>--</td><td>--</td><td>--</td><td>--</td><td>--</td><td>--</td><td>--</td><td>--</td><td>--</td><td>--</td><td>--</td><td>--</td><td>28.697420018394723</td><td>0.4536764285473655</td><td>--</td><td>--</td><td>--</td><td>--</td><td>--</td><td>--</td><td>--</td><td>--</td><td>--</td><td>--</td><td>--</td><td>--</td><td>--</td><td>--</td><td>--</td><td>--</td><td>--</td><td>--</td><td>--</td><td>--</td><td>--</td><td>--</td><td>--</td><td>--</td><td>--</td><td>--</td><td>--</td><td>--</td><td>--</td><td>--</td><td>--</td><td>--</td><td>28.381503732891517</td><td>0.46548337905840853</td><td>--</td><td>--</td><td>--</td><td>--</td><td>--</td><td>--</td><td>--</td><td>--</td><td>--</td><td>--</td><td>--</td><td>--</td><td>--</td><td>--</td><td>--</td><td>--</td><td>--</td><td>--</td><td>--</td><td>--</td><td>--</td><td>--</td><td>--</td><td>--</td><td>--</td><td>--</td><td>--</td><td>--</td><td>--</td><td>--</td><td>--</td><td>--</td><td>29.329268090038745</td><td>0.7197628625459696</td><td>--</td><td>--</td><td>--</td><td>--</td><td>--</td><td>--</td><td>--</td><td>--</td><td>--</td><td>--</td><td>--</td><td>--</td><td>--</td><td>--</td><td>--</td><td>--</td><td>--</td><td>--</td><td>--</td><td>--</td><td>--</td><td>--</td><td>--</td><td>--</td><td>--</td><td>--</td><td>--</td><td>--</td><td>--</td><td>--</td><td>--</td><td>--</td><td>29.191219131522146</td><td>0.6916063113256814</td><td>--</td><td>--</td><td>--</td><td>--</td><td>--</td><td>--</td><td>--</td><td>--</td><td>--</td><td>--</td><td>--</td><td>--</td><td>--</td><td>--</td><td>--</td><td>--</td><td>--</td><td>--</td><td>--</td><td>--</td><td>--</td><td>--</td><td>--</td><td>--</td><td>--</td><td>--</td><td>--</td><td>--</td><td>--</td><td>--</td><td>--</td><td>--</td><td>--</td><td>--</td><td>--</td><td>--</td><td>--</td><td>--</td><td>--</td><td>--</td><td>--</td><td>--</td><td>--</td><td>--</td><td>--</td><td>--</td><td>--</td><td>--</td><td>--</td><td>--</td><td>--</td><td>--</td><td>--</td><td>--</td><td>--</td><td>--</td><td>--</td><td>--</td><td>--</td><td>--</td><td>--</td><td>--</td><td>--</td><td>--</td><td>--</td><td>--</td><td>--</td><td>--</td><td>--</td><td>--</td><td>--</td><td>--</td><td>--</td><td>--</td><td>--</td><td>--</td><td>--</td><td>--</td><td>--</td><td>--</td><td>--</td><td>--</td><td>--</td><td>--</td><td>--</td><td>--</td><td>--</td><td>--</td><td>--</td><td>--</td><td>--</td><td>--</td><td>--</td><td>--</td><td>--</td><td>--</td><td>--</td><td>--</td><td>--</td><td>--</td></tr>\n",
       "<tr><td>sunrise</td><td>530519</td><td>24.350754465768464</td><td>-8.388285648049125</td><td>nan</td><td>--</td><td>--</td><td>--</td><td>--</td><td>28.629492671844048</td><td>0.4687272633425403</td><td>--</td><td>--</td><td>--</td><td>--</td><td>--</td><td>--</td><td>--</td><td>--</td><td>29.03105014881555</td><td>0.5383941541694052</td><td>--</td><td>--</td><td>--</td><td>--</td><td>--</td><td>--</td><td>30.238868428775888</td><td>0.7400948922496591</td><td>--</td><td>--</td><td>--</td><td>--</td><td>--</td><td>--</td><td>28.569603286771866</td><td>0.23832504640147334</td><td>28.527183766082064</td><td>0.21176477954155323</td><td>29.263892852695452</td><td>0.6024621280825826</td><td>--</td><td>--</td><td>28.51604820740909</td><td>0.30753331037500137</td><td>--</td><td>--</td><td>--</td><td>--</td><td>--</td><td>--</td><td>--</td><td>--</td><td>--</td><td>--</td><td>--</td><td>--</td><td>--</td><td>--</td><td>28.29077654283651</td><td>0.4625605568307056</td><td>--</td><td>--</td><td>--</td><td>--</td><td>--</td><td>--</td><td>--</td><td>--</td><td>29.016838088487464</td><td>0.6447152731727457</td><td>--</td><td>--</td><td>--</td><td>--</td><td>--</td><td>--</td><td>30.370930707939447</td><td>0.6654973813330938</td><td>--</td><td>--</td><td>--</td><td>--</td><td>--</td><td>--</td><td>28.33395650503361</td><td>0.26577192074452</td><td>28.401668131169043</td><td>0.26094056997190734</td><td>29.11422011791321</td><td>0.6542896977322025</td><td>--</td><td>--</td><td>28.388518375807248</td><td>0.37119935291534406</td><td>--</td><td>--</td><td>--</td><td>--</td><td>--</td><td>--</td><td>--</td><td>--</td><td>--</td><td>--</td><td>--</td><td>--</td><td>--</td><td>--</td><td>28.536435574387173</td><td>3.717186483986489</td><td>--</td><td>--</td><td>--</td><td>--</td><td>--</td><td>--</td><td>--</td><td>--</td><td>29.72490489764782</td><td>0.6818347183978736</td><td>--</td><td>--</td><td>--</td><td>--</td><td>--</td><td>--</td><td>30.486807121022867</td><td>0.5128254852143762</td><td>--</td><td>--</td><td>--</td><td>--</td><td>--</td><td>--</td><td>28.710841004402084</td><td>0.489443912989734</td><td>28.638303160660715</td><td>0.42984352376470575</td><td>29.463941965400586</td><td>0.6949087783611938</td><td>--</td><td>--</td><td>28.516478243215776</td><td>0.5387511448667207</td><td>--</td><td>--</td><td>--</td><td>--</td><td>--</td><td>--</td><td>--</td><td>--</td><td>--</td><td>--</td><td>--</td><td>--</td><td>--</td><td>--</td><td>29.939566168878986</td><td>1.7648569551828042</td><td>--</td><td>--</td><td>--</td><td>--</td><td>--</td><td>--</td><td>--</td><td>--</td><td>30.449545270722492</td><td>0.33193484785245014</td><td>--</td><td>--</td><td>--</td><td>--</td><td>--</td><td>--</td><td>30.781439230002373</td><td>0.30574855093479136</td><td>--</td><td>--</td><td>--</td><td>--</td><td>--</td><td>--</td><td>28.623614935216818</td><td>0.6008516154712589</td><td>28.805418679280184</td><td>0.6155616657199794</td><td>29.891449499286136</td><td>0.46871035697699837</td><td>--</td><td>--</td><td>28.522393319292593</td><td>0.6731844123278249</td><td>--</td><td>--</td><td>--</td><td>--</td><td>--</td><td>--</td><td>--</td><td>--</td><td>--</td><td>--</td><td>--</td><td>--</td><td>--</td><td>--</td><td>28.855733102215318</td><td>0.5056365594855665</td><td>--</td><td>--</td><td>--</td><td>--</td><td>--</td><td>--</td><td>--</td><td>--</td><td>--</td><td>--</td><td>--</td><td>--</td><td>--</td><td>--</td><td>--</td><td>--</td><td>--</td><td>--</td><td>--</td><td>--</td><td>--</td><td>--</td><td>--</td><td>--</td><td>--</td><td>--</td><td>--</td><td>--</td><td>--</td><td>--</td><td>--</td><td>--</td><td>28.423613839778906</td><td>0.5628342090250396</td><td>--</td><td>--</td><td>--</td><td>--</td><td>--</td><td>--</td><td>--</td><td>--</td><td>--</td><td>--</td><td>--</td><td>--</td><td>--</td><td>--</td><td>--</td><td>--</td><td>--</td><td>--</td><td>--</td><td>--</td><td>--</td><td>--</td><td>--</td><td>--</td><td>--</td><td>--</td><td>--</td><td>--</td><td>--</td><td>--</td><td>--</td><td>--</td><td>28.667968880466553</td><td>0.73399701776879</td><td>--</td><td>--</td><td>--</td><td>--</td><td>--</td><td>--</td><td>--</td><td>--</td><td>--</td><td>--</td><td>--</td><td>--</td><td>--</td><td>--</td><td>--</td><td>--</td><td>--</td><td>--</td><td>--</td><td>--</td><td>--</td><td>--</td><td>--</td><td>--</td><td>--</td><td>--</td><td>--</td><td>--</td><td>--</td><td>--</td><td>--</td><td>--</td><td>29.819989968040858</td><td>0.49600254602085625</td><td>--</td><td>--</td><td>--</td><td>--</td><td>--</td><td>--</td><td>--</td><td>--</td><td>--</td><td>--</td><td>--</td><td>--</td><td>--</td><td>--</td><td>--</td><td>--</td><td>--</td><td>--</td><td>--</td><td>--</td><td>--</td><td>--</td><td>--</td><td>--</td><td>--</td><td>--</td><td>--</td><td>--</td><td>--</td><td>--</td><td>--</td><td>--</td><td>--</td><td>--</td><td>--</td><td>--</td><td>--</td><td>--</td><td>--</td><td>--</td><td>--</td><td>--</td><td>--</td><td>--</td><td>--</td><td>--</td><td>--</td><td>--</td><td>--</td><td>--</td><td>--</td><td>--</td><td>--</td><td>--</td><td>--</td><td>--</td><td>--</td><td>--</td><td>--</td><td>--</td><td>--</td><td>--</td><td>--</td><td>--</td><td>--</td><td>--</td><td>--</td><td>--</td><td>--</td><td>--</td><td>--</td><td>--</td><td>--</td><td>--</td><td>--</td><td>--</td><td>--</td><td>--</td><td>--</td><td>--</td><td>--</td><td>--</td><td>--</td><td>--</td><td>--</td><td>--</td><td>--</td><td>--</td><td>--</td><td>--</td><td>--</td><td>--</td><td>--</td><td>--</td><td>--</td><td>--</td><td>--</td><td>--</td><td>--</td><td>--</td></tr>\n",
       "<tr><td>sunrise</td><td>530520</td><td>24.35069000080643</td><td>-8.387912082496785</td><td>nan</td><td>--</td><td>--</td><td>--</td><td>--</td><td>24.79553112528384</td><td>0.015305645387836388</td><td>--</td><td>--</td><td>--</td><td>--</td><td>--</td><td>--</td><td>--</td><td>--</td><td>24.49127223359901</td><td>0.00979567512531898</td><td>--</td><td>--</td><td>--</td><td>--</td><td>--</td><td>--</td><td>24.31674890404161</td><td>0.007080677725652296</td><td>--</td><td>--</td><td>--</td><td>--</td><td>--</td><td>--</td><td>24.191040074060666</td><td>0.005188348347811491</td><td>24.109711751131815</td><td>0.00451539453976527</td><td>24.141290818489953</td><td>0.008216925284303017</td><td>--</td><td>--</td><td>24.260566296337498</td><td>0.007083654063516712</td><td>--</td><td>--</td><td>--</td><td>--</td><td>--</td><td>--</td><td>--</td><td>--</td><td>--</td><td>--</td><td>--</td><td>--</td><td>--</td><td>--</td><td>24.534695210927993</td><td>0.016446587177260902</td><td>--</td><td>--</td><td>--</td><td>--</td><td>--</td><td>--</td><td>--</td><td>--</td><td>24.240140242624257</td><td>0.010566999338150466</td><td>--</td><td>--</td><td>--</td><td>--</td><td>--</td><td>--</td><td>24.093038895621014</td><td>0.007748642649803693</td><td>--</td><td>--</td><td>--</td><td>--</td><td>--</td><td>--</td><td>23.924235452272654</td><td>0.005429098141681802</td><td>23.825358508009256</td><td>0.004602758582787299</td><td>23.85220389850294</td><td>0.008776675340265279</td><td>--</td><td>--</td><td>23.970733611427416</td><td>0.007449909468241394</td><td>--</td><td>--</td><td>--</td><td>--</td><td>--</td><td>--</td><td>--</td><td>--</td><td>--</td><td>--</td><td>--</td><td>--</td><td>--</td><td>--</td><td>24.333708931737576</td><td>0.0196779460195304</td><td>--</td><td>--</td><td>--</td><td>--</td><td>--</td><td>--</td><td>--</td><td>--</td><td>24.062288964466273</td><td>0.012354765418001876</td><td>--</td><td>--</td><td>--</td><td>--</td><td>--</td><td>--</td><td>23.935197461480588</td><td>0.009166642837062403</td><td>--</td><td>--</td><td>--</td><td>--</td><td>--</td><td>--</td><td>23.74941618081064</td><td>0.006263948643496964</td><td>23.64125897965268</td><td>0.005545341062832955</td><td>23.64314171674389</td><td>0.009581353604321753</td><td>--</td><td>--</td><td>23.747654000995606</td><td>0.011464888759849311</td><td>--</td><td>--</td><td>--</td><td>--</td><td>--</td><td>--</td><td>--</td><td>--</td><td>--</td><td>--</td><td>--</td><td>--</td><td>--</td><td>--</td><td>24.12497310815946</td><td>0.028643154879984683</td><td>--</td><td>--</td><td>--</td><td>--</td><td>--</td><td>--</td><td>--</td><td>--</td><td>23.95247062195451</td><td>0.015886778239020884</td><td>--</td><td>--</td><td>--</td><td>--</td><td>--</td><td>--</td><td>23.828478170991577</td><td>0.011735860311248663</td><td>--</td><td>--</td><td>--</td><td>--</td><td>--</td><td>--</td><td>23.636225132857593</td><td>0.007974981101180901</td><td>23.5254127477176</td><td>0.007404378516033553</td><td>23.52406481724556</td><td>0.03413212867767282</td><td>--</td><td>--</td><td>23.619951664503002</td><td>0.013573095529076923</td><td>--</td><td>--</td><td>--</td><td>--</td><td>--</td><td>--</td><td>--</td><td>--</td><td>--</td><td>--</td><td>--</td><td>--</td><td>--</td><td>--</td><td>25.215724293787357</td><td>0.02103816856939351</td><td>--</td><td>--</td><td>--</td><td>--</td><td>--</td><td>--</td><td>--</td><td>--</td><td>--</td><td>--</td><td>--</td><td>--</td><td>--</td><td>--</td><td>--</td><td>--</td><td>--</td><td>--</td><td>--</td><td>--</td><td>--</td><td>--</td><td>--</td><td>--</td><td>--</td><td>--</td><td>--</td><td>--</td><td>--</td><td>--</td><td>--</td><td>--</td><td>24.945631459662234</td><td>0.022716622821176605</td><td>--</td><td>--</td><td>--</td><td>--</td><td>--</td><td>--</td><td>--</td><td>--</td><td>--</td><td>--</td><td>--</td><td>--</td><td>--</td><td>--</td><td>--</td><td>--</td><td>--</td><td>--</td><td>--</td><td>--</td><td>--</td><td>--</td><td>--</td><td>--</td><td>--</td><td>--</td><td>--</td><td>--</td><td>--</td><td>--</td><td>--</td><td>--</td><td>24.699876592670446</td><td>0.02502311658243149</td><td>--</td><td>--</td><td>--</td><td>--</td><td>--</td><td>--</td><td>--</td><td>--</td><td>--</td><td>--</td><td>--</td><td>--</td><td>--</td><td>--</td><td>--</td><td>--</td><td>--</td><td>--</td><td>--</td><td>--</td><td>--</td><td>--</td><td>--</td><td>--</td><td>--</td><td>--</td><td>--</td><td>--</td><td>--</td><td>--</td><td>--</td><td>--</td><td>24.542630594333772</td><td>0.0309379679912159</td><td>--</td><td>--</td><td>--</td><td>--</td><td>--</td><td>--</td><td>--</td><td>--</td><td>--</td><td>--</td><td>--</td><td>--</td><td>--</td><td>--</td><td>--</td><td>--</td><td>--</td><td>--</td><td>--</td><td>--</td><td>--</td><td>--</td><td>--</td><td>--</td><td>--</td><td>--</td><td>--</td><td>--</td><td>--</td><td>--</td><td>--</td><td>--</td><td>--</td><td>--</td><td>--</td><td>--</td><td>--</td><td>--</td><td>--</td><td>--</td><td>--</td><td>--</td><td>--</td><td>--</td><td>--</td><td>--</td><td>--</td><td>--</td><td>--</td><td>--</td><td>--</td><td>--</td><td>--</td><td>--</td><td>--</td><td>--</td><td>--</td><td>--</td><td>--</td><td>--</td><td>--</td><td>--</td><td>--</td><td>--</td><td>--</td><td>--</td><td>--</td><td>--</td><td>--</td><td>--</td><td>--</td><td>--</td><td>--</td><td>--</td><td>--</td><td>--</td><td>--</td><td>--</td><td>--</td><td>--</td><td>--</td><td>--</td><td>--</td><td>--</td><td>--</td><td>--</td><td>--</td><td>--</td><td>--</td><td>--</td><td>--</td><td>--</td><td>--</td><td>--</td><td>--</td><td>--</td><td>--</td><td>--</td><td>--</td><td>--</td></tr>\n",
       "<tr><td>sunrise</td><td>530521</td><td>24.35014284404191</td><td>-8.387709943341601</td><td>nan</td><td>--</td><td>--</td><td>--</td><td>--</td><td>30.75936610244277</td><td>0.5418599484219886</td><td>--</td><td>--</td><td>--</td><td>--</td><td>--</td><td>--</td><td>--</td><td>--</td><td>30.570921947141304</td><td>0.657251101454968</td><td>--</td><td>--</td><td>--</td><td>--</td><td>--</td><td>--</td><td>29.479441261612337</td><td>0.6119290865573431</td><td>--</td><td>--</td><td>--</td><td>--</td><td>--</td><td>--</td><td>28.648410254346874</td><td>0.2930317869362298</td><td>28.284223407348705</td><td>0.20701143234627664</td><td>27.910968330279424</td><td>0.3305271968838748</td><td>--</td><td>--</td><td>27.981427902573092</td><td>0.7170237838897334</td><td>--</td><td>--</td><td>--</td><td>--</td><td>--</td><td>--</td><td>--</td><td>--</td><td>--</td><td>--</td><td>--</td><td>--</td><td>--</td><td>--</td><td>30.848904053506843</td><td>0.3940468110046582</td><td>--</td><td>--</td><td>--</td><td>--</td><td>--</td><td>--</td><td>--</td><td>--</td><td>30.164400057215413</td><td>0.6734062904788803</td><td>--</td><td>--</td><td>--</td><td>--</td><td>--</td><td>--</td><td>29.75100279778075</td><td>0.7533031118207218</td><td>--</td><td>--</td><td>--</td><td>--</td><td>--</td><td>--</td><td>28.473042892324827</td><td>0.3552490597296013</td><td>27.709463146499736</td><td>0.1880852296552307</td><td>27.44869179575613</td><td>0.35181217591206737</td><td>--</td><td>--</td><td>27.286289287430964</td><td>0.4874561586991723</td><td>--</td><td>--</td><td>--</td><td>--</td><td>--</td><td>--</td><td>--</td><td>--</td><td>--</td><td>--</td><td>--</td><td>--</td><td>--</td><td>--</td><td>30.662517360905365</td><td>0.34037356727140616</td><td>--</td><td>--</td><td>--</td><td>--</td><td>--</td><td>--</td><td>--</td><td>--</td><td>29.48439736669701</td><td>0.7367368591485896</td><td>--</td><td>--</td><td>--</td><td>--</td><td>--</td><td>--</td><td>29.173442781248962</td><td>0.7186091915103217</td><td>--</td><td>--</td><td>--</td><td>--</td><td>--</td><td>--</td><td>27.863303733119185</td><td>0.3937375283856423</td><td>27.22238526102599</td><td>0.2939959222471106</td><td>26.90926031938499</td><td>0.48428189396450455</td><td>--</td><td>--</td><td>26.75768942655234</td><td>0.37010307700806205</td><td>--</td><td>--</td><td>--</td><td>--</td><td>--</td><td>--</td><td>--</td><td>--</td><td>--</td><td>--</td><td>--</td><td>--</td><td>--</td><td>--</td><td>30.518298756698712</td><td>0.2762917095215337</td><td>--</td><td>--</td><td>--</td><td>--</td><td>--</td><td>--</td><td>--</td><td>--</td><td>30.116041345745355</td><td>0.43718458950327266</td><td>--</td><td>--</td><td>--</td><td>--</td><td>--</td><td>--</td><td>29.316009259175473</td><td>0.7336260103249511</td><td>--</td><td>--</td><td>--</td><td>--</td><td>--</td><td>--</td><td>27.15627455582056</td><td>0.39524199330121607</td><td>26.57726946286748</td><td>0.25331400018019995</td><td>26.47911784190271</td><td>0.37996850257332804</td><td>--</td><td>--</td><td>26.17925026429421</td><td>0.4042971850287545</td><td>--</td><td>--</td><td>--</td><td>--</td><td>--</td><td>--</td><td>--</td><td>--</td><td>--</td><td>--</td><td>--</td><td>--</td><td>--</td><td>--</td><td>31.26796824322545</td><td>0.37878748393097683</td><td>--</td><td>--</td><td>--</td><td>--</td><td>--</td><td>--</td><td>--</td><td>--</td><td>--</td><td>--</td><td>--</td><td>--</td><td>--</td><td>--</td><td>--</td><td>--</td><td>--</td><td>--</td><td>--</td><td>--</td><td>--</td><td>--</td><td>--</td><td>--</td><td>--</td><td>--</td><td>--</td><td>--</td><td>--</td><td>--</td><td>--</td><td>--</td><td>30.673186608031983</td><td>0.4550576169620878</td><td>--</td><td>--</td><td>--</td><td>--</td><td>--</td><td>--</td><td>--</td><td>--</td><td>--</td><td>--</td><td>--</td><td>--</td><td>--</td><td>--</td><td>--</td><td>--</td><td>--</td><td>--</td><td>--</td><td>--</td><td>--</td><td>--</td><td>--</td><td>--</td><td>--</td><td>--</td><td>--</td><td>--</td><td>--</td><td>--</td><td>--</td><td>--</td><td>30.16391570820336</td><td>0.5053342442432736</td><td>--</td><td>--</td><td>--</td><td>--</td><td>--</td><td>--</td><td>--</td><td>--</td><td>--</td><td>--</td><td>--</td><td>--</td><td>--</td><td>--</td><td>--</td><td>--</td><td>--</td><td>--</td><td>--</td><td>--</td><td>--</td><td>--</td><td>--</td><td>--</td><td>--</td><td>--</td><td>--</td><td>--</td><td>--</td><td>--</td><td>--</td><td>--</td><td>29.807544577172422</td><td>0.48599916731008924</td><td>--</td><td>--</td><td>--</td><td>--</td><td>--</td><td>--</td><td>--</td><td>--</td><td>--</td><td>--</td><td>--</td><td>--</td><td>--</td><td>--</td><td>--</td><td>--</td><td>--</td><td>--</td><td>--</td><td>--</td><td>--</td><td>--</td><td>--</td><td>--</td><td>--</td><td>--</td><td>--</td><td>--</td><td>--</td><td>--</td><td>--</td><td>--</td><td>--</td><td>--</td><td>--</td><td>--</td><td>--</td><td>--</td><td>--</td><td>--</td><td>--</td><td>--</td><td>--</td><td>--</td><td>--</td><td>--</td><td>--</td><td>--</td><td>--</td><td>--</td><td>--</td><td>--</td><td>--</td><td>--</td><td>--</td><td>--</td><td>--</td><td>--</td><td>--</td><td>--</td><td>--</td><td>--</td><td>--</td><td>--</td><td>--</td><td>--</td><td>--</td><td>--</td><td>--</td><td>--</td><td>--</td><td>--</td><td>--</td><td>--</td><td>--</td><td>--</td><td>--</td><td>--</td><td>--</td><td>--</td><td>--</td><td>--</td><td>--</td><td>--</td><td>--</td><td>--</td><td>--</td><td>--</td><td>--</td><td>--</td><td>--</td><td>--</td><td>--</td><td>--</td><td>--</td><td>--</td><td>--</td><td>--</td><td>--</td><td>--</td></tr>\n",
       "<tr><td>sunrise</td><td>530522</td><td>24.349442250368472</td><td>-8.388242453831015</td><td>nan</td><td>--</td><td>--</td><td>--</td><td>--</td><td>27.27276204458178</td><td>0.14158643979962257</td><td>--</td><td>--</td><td>--</td><td>--</td><td>--</td><td>--</td><td>--</td><td>--</td><td>27.233602232389796</td><td>0.11828154987637478</td><td>--</td><td>--</td><td>--</td><td>--</td><td>--</td><td>--</td><td>26.966296844697382</td><td>0.0753066660781389</td><td>--</td><td>--</td><td>--</td><td>--</td><td>--</td><td>--</td><td>26.682288809085495</td><td>0.04417049483859355</td><td>26.604877763941673</td><td>0.037325520222901795</td><td>26.372820010140035</td><td>0.054256546742705414</td><td>--</td><td>--</td><td>26.34687068499472</td><td>0.045444838849563046</td><td>--</td><td>--</td><td>--</td><td>--</td><td>--</td><td>--</td><td>--</td><td>--</td><td>--</td><td>--</td><td>--</td><td>--</td><td>--</td><td>--</td><td>26.70199014413654</td><td>0.1155998656603166</td><td>--</td><td>--</td><td>--</td><td>--</td><td>--</td><td>--</td><td>--</td><td>--</td><td>26.488717352334685</td><td>0.0825167066192123</td><td>--</td><td>--</td><td>--</td><td>--</td><td>--</td><td>--</td><td>26.180342886234904</td><td>0.05071053769370253</td><td>--</td><td>--</td><td>--</td><td>--</td><td>--</td><td>--</td><td>25.91270452371424</td><td>0.030870707267302153</td><td>25.814943072906058</td><td>0.025337640851251807</td><td>25.565067441612285</td><td>0.03666430638971759</td><td>--</td><td>--</td><td>25.50646696620567</td><td>0.029652736382586385</td><td>--</td><td>--</td><td>--</td><td>--</td><td>--</td><td>--</td><td>--</td><td>--</td><td>--</td><td>--</td><td>--</td><td>--</td><td>--</td><td>--</td><td>25.94989234635905</td><td>0.09072210846863199</td><td>--</td><td>--</td><td>--</td><td>--</td><td>--</td><td>--</td><td>--</td><td>--</td><td>25.624651970994435</td><td>0.051795271031157795</td><td>--</td><td>--</td><td>--</td><td>--</td><td>--</td><td>--</td><td>25.30712798121389</td><td>0.03175296689611557</td><td>--</td><td>--</td><td>--</td><td>--</td><td>--</td><td>--</td><td>24.953792010173668</td><td>0.018514930285136053</td><td>24.764658809510898</td><td>0.013874043177658623</td><td>24.578822689726564</td><td>0.02134749755483075</td><td>--</td><td>--</td><td>24.505219105201242</td><td>0.01698841721299375</td><td>--</td><td>--</td><td>--</td><td>--</td><td>--</td><td>--</td><td>--</td><td>--</td><td>--</td><td>--</td><td>--</td><td>--</td><td>--</td><td>--</td><td>24.9870956989415</td><td>0.05069406235725219</td><td>--</td><td>--</td><td>--</td><td>--</td><td>--</td><td>--</td><td>--</td><td>--</td><td>24.512752924753745</td><td>0.026400011262287096</td><td>--</td><td>--</td><td>--</td><td>--</td><td>--</td><td>--</td><td>24.03874043003727</td><td>0.014097105931660369</td><td>--</td><td>--</td><td>--</td><td>--</td><td>--</td><td>--</td><td>23.572359904253442</td><td>0.007856537262536753</td><td>23.346603897589198</td><td>0.005783443148513829</td><td>23.20885722603717</td><td>0.009218755216696595</td><td>--</td><td>--</td><td>23.124024683678808</td><td>0.007123295659896516</td><td>--</td><td>--</td><td>--</td><td>--</td><td>--</td><td>--</td><td>--</td><td>--</td><td>--</td><td>--</td><td>--</td><td>--</td><td>--</td><td>--</td><td>27.793194880278293</td><td>0.21151415517688565</td><td>--</td><td>--</td><td>--</td><td>--</td><td>--</td><td>--</td><td>--</td><td>--</td><td>--</td><td>--</td><td>--</td><td>--</td><td>--</td><td>--</td><td>--</td><td>--</td><td>--</td><td>--</td><td>--</td><td>--</td><td>--</td><td>--</td><td>--</td><td>--</td><td>--</td><td>--</td><td>--</td><td>--</td><td>--</td><td>--</td><td>--</td><td>--</td><td>26.906851015168574</td><td>0.1328061921799578</td><td>--</td><td>--</td><td>--</td><td>--</td><td>--</td><td>--</td><td>--</td><td>--</td><td>--</td><td>--</td><td>--</td><td>--</td><td>--</td><td>--</td><td>--</td><td>--</td><td>--</td><td>--</td><td>--</td><td>--</td><td>--</td><td>--</td><td>--</td><td>--</td><td>--</td><td>--</td><td>--</td><td>--</td><td>--</td><td>--</td><td>--</td><td>--</td><td>26.28859521991797</td><td>0.1057294928947532</td><td>--</td><td>--</td><td>--</td><td>--</td><td>--</td><td>--</td><td>--</td><td>--</td><td>--</td><td>--</td><td>--</td><td>--</td><td>--</td><td>--</td><td>--</td><td>--</td><td>--</td><td>--</td><td>--</td><td>--</td><td>--</td><td>--</td><td>--</td><td>--</td><td>--</td><td>--</td><td>--</td><td>--</td><td>--</td><td>--</td><td>--</td><td>--</td><td>25.472307406011062</td><td>0.07179796559973405</td><td>--</td><td>--</td><td>--</td><td>--</td><td>--</td><td>--</td><td>--</td><td>--</td><td>--</td><td>--</td><td>--</td><td>--</td><td>--</td><td>--</td><td>--</td><td>--</td><td>--</td><td>--</td><td>--</td><td>--</td><td>--</td><td>--</td><td>--</td><td>--</td><td>--</td><td>--</td><td>--</td><td>--</td><td>--</td><td>--</td><td>--</td><td>--</td><td>--</td><td>--</td><td>--</td><td>--</td><td>--</td><td>--</td><td>--</td><td>--</td><td>--</td><td>--</td><td>--</td><td>--</td><td>--</td><td>--</td><td>--</td><td>--</td><td>--</td><td>--</td><td>--</td><td>--</td><td>--</td><td>--</td><td>--</td><td>--</td><td>--</td><td>--</td><td>--</td><td>--</td><td>--</td><td>--</td><td>--</td><td>--</td><td>--</td><td>--</td><td>--</td><td>--</td><td>--</td><td>--</td><td>--</td><td>--</td><td>--</td><td>--</td><td>--</td><td>--</td><td>--</td><td>--</td><td>--</td><td>--</td><td>--</td><td>--</td><td>--</td><td>--</td><td>--</td><td>--</td><td>--</td><td>--</td><td>--</td><td>--</td><td>--</td><td>--</td><td>--</td><td>--</td><td>--</td><td>--</td><td>--</td><td>--</td><td>--</td><td>--</td></tr>\n",
       "<tr><td>sunrise</td><td>530523</td><td>24.35152168659832</td><td>-8.387736182804973</td><td>nan</td><td>--</td><td>--</td><td>--</td><td>--</td><td>27.087215686270152</td><td>0.3457205380494534</td><td>--</td><td>--</td><td>--</td><td>--</td><td>--</td><td>--</td><td>--</td><td>--</td><td>26.97751864173649</td><td>0.13384192163703848</td><td>--</td><td>--</td><td>--</td><td>--</td><td>--</td><td>--</td><td>26.838311166565823</td><td>0.09474572647194729</td><td>--</td><td>--</td><td>--</td><td>--</td><td>--</td><td>--</td><td>27.02679874818727</td><td>0.08467109294997494</td><td>27.52262093316225</td><td>0.12363759926099842</td><td>27.418249136616964</td><td>0.20193332983946188</td><td>--</td><td>--</td><td>28.02288801577398</td><td>0.2920680981351748</td><td>--</td><td>--</td><td>--</td><td>--</td><td>--</td><td>--</td><td>--</td><td>--</td><td>--</td><td>--</td><td>--</td><td>--</td><td>--</td><td>--</td><td>26.470880714874177</td><td>0.8886947026673373</td><td>--</td><td>--</td><td>--</td><td>--</td><td>--</td><td>--</td><td>--</td><td>--</td><td>26.361026988507184</td><td>0.11602093322342107</td><td>--</td><td>--</td><td>--</td><td>--</td><td>--</td><td>--</td><td>26.250887470993916</td><td>0.09013746871887664</td><td>--</td><td>--</td><td>--</td><td>--</td><td>--</td><td>--</td><td>26.4263295441313</td><td>0.067715203375285</td><td>26.865608457715105</td><td>0.09394267820567677</td><td>26.89813149946156</td><td>0.17481832934493538</td><td>--</td><td>--</td><td>27.355091038683955</td><td>0.22120475932988598</td><td>--</td><td>--</td><td>--</td><td>--</td><td>--</td><td>--</td><td>--</td><td>--</td><td>--</td><td>--</td><td>--</td><td>--</td><td>--</td><td>--</td><td>25.810774002837746</td><td>0.48724630736309354</td><td>--</td><td>--</td><td>--</td><td>--</td><td>--</td><td>--</td><td>--</td><td>--</td><td>25.682858155450823</td><td>0.08300036781466666</td><td>--</td><td>--</td><td>--</td><td>--</td><td>--</td><td>--</td><td>25.610974905559655</td><td>0.14794333470846938</td><td>--</td><td>--</td><td>--</td><td>--</td><td>--</td><td>--</td><td>25.90632647085983</td><td>0.05895531335381076</td><td>26.324595949376057</td><td>0.08014453452325726</td><td>26.416719902867158</td><td>0.15771716160507612</td><td>--</td><td>--</td><td>26.97779383774169</td><td>0.21894177904799478</td><td>--</td><td>--</td><td>--</td><td>--</td><td>--</td><td>--</td><td>--</td><td>--</td><td>--</td><td>--</td><td>--</td><td>--</td><td>--</td><td>--</td><td>25.23307010025676</td><td>0.29227057344858626</td><td>--</td><td>--</td><td>--</td><td>--</td><td>--</td><td>--</td><td>--</td><td>--</td><td>25.276841938552423</td><td>0.08115864759031202</td><td>--</td><td>--</td><td>--</td><td>--</td><td>--</td><td>--</td><td>25.05283039145073</td><td>0.10540153353803919</td><td>--</td><td>--</td><td>--</td><td>--</td><td>--</td><td>--</td><td>25.391753534307476</td><td>0.05473580549205783</td><td>25.83771262480707</td><td>0.0731638489583715</td><td>25.816534498239005</td><td>0.13084379904439541</td><td>--</td><td>--</td><td>26.45584304980729</td><td>0.19386419634071125</td><td>--</td><td>--</td><td>--</td><td>--</td><td>--</td><td>--</td><td>--</td><td>--</td><td>--</td><td>--</td><td>--</td><td>--</td><td>--</td><td>--</td><td>27.06740980445217</td><td>0.16022045681383407</td><td>--</td><td>--</td><td>--</td><td>--</td><td>--</td><td>--</td><td>--</td><td>--</td><td>--</td><td>--</td><td>--</td><td>--</td><td>--</td><td>--</td><td>--</td><td>--</td><td>--</td><td>--</td><td>--</td><td>--</td><td>--</td><td>--</td><td>--</td><td>--</td><td>--</td><td>--</td><td>--</td><td>--</td><td>--</td><td>--</td><td>--</td><td>--</td><td>26.47533645129002</td><td>0.1304587267594219</td><td>--</td><td>--</td><td>--</td><td>--</td><td>--</td><td>--</td><td>--</td><td>--</td><td>--</td><td>--</td><td>--</td><td>--</td><td>--</td><td>--</td><td>--</td><td>--</td><td>--</td><td>--</td><td>--</td><td>--</td><td>--</td><td>--</td><td>--</td><td>--</td><td>--</td><td>--</td><td>--</td><td>--</td><td>--</td><td>--</td><td>--</td><td>--</td><td>26.018952784336456</td><td>0.11981225631415224</td><td>--</td><td>--</td><td>--</td><td>--</td><td>--</td><td>--</td><td>--</td><td>--</td><td>--</td><td>--</td><td>--</td><td>--</td><td>--</td><td>--</td><td>--</td><td>--</td><td>--</td><td>--</td><td>--</td><td>--</td><td>--</td><td>--</td><td>--</td><td>--</td><td>--</td><td>--</td><td>--</td><td>--</td><td>--</td><td>--</td><td>--</td><td>--</td><td>25.33454216969984</td><td>0.12549155748180832</td><td>--</td><td>--</td><td>--</td><td>--</td><td>--</td><td>--</td><td>--</td><td>--</td><td>--</td><td>--</td><td>--</td><td>--</td><td>--</td><td>--</td><td>--</td><td>--</td><td>--</td><td>--</td><td>--</td><td>--</td><td>--</td><td>--</td><td>--</td><td>--</td><td>--</td><td>--</td><td>--</td><td>--</td><td>--</td><td>--</td><td>--</td><td>--</td><td>--</td><td>--</td><td>--</td><td>--</td><td>--</td><td>--</td><td>--</td><td>--</td><td>--</td><td>--</td><td>--</td><td>--</td><td>--</td><td>--</td><td>--</td><td>--</td><td>--</td><td>--</td><td>--</td><td>--</td><td>--</td><td>--</td><td>--</td><td>--</td><td>--</td><td>--</td><td>--</td><td>--</td><td>--</td><td>--</td><td>--</td><td>--</td><td>--</td><td>--</td><td>--</td><td>--</td><td>--</td><td>--</td><td>--</td><td>--</td><td>--</td><td>--</td><td>--</td><td>--</td><td>--</td><td>--</td><td>--</td><td>--</td><td>--</td><td>--</td><td>--</td><td>--</td><td>--</td><td>--</td><td>--</td><td>--</td><td>--</td><td>--</td><td>--</td><td>--</td><td>--</td><td>--</td><td>--</td><td>--</td><td>--</td><td>--</td><td>--</td><td>--</td></tr>\n",
       "<tr><td>sunrise</td><td>530524</td><td>24.351932307794186</td><td>-8.387461901633543</td><td>nan</td><td>--</td><td>--</td><td>--</td><td>--</td><td>26.26077855600271</td><td>0.0796791817842821</td><td>--</td><td>--</td><td>--</td><td>--</td><td>--</td><td>--</td><td>--</td><td>--</td><td>26.019798142523847</td><td>0.06853104409154752</td><td>--</td><td>--</td><td>--</td><td>--</td><td>--</td><td>--</td><td>25.93682753009392</td><td>0.04280668093233807</td><td>--</td><td>--</td><td>--</td><td>--</td><td>--</td><td>--</td><td>25.83751468931589</td><td>0.02981432247508916</td><td>25.8155554323762</td><td>0.029447336207510322</td><td>25.73319587259458</td><td>1.2569579442709684</td><td>--</td><td>--</td><td>25.846905157454355</td><td>0.04102849281081275</td><td>--</td><td>--</td><td>--</td><td>--</td><td>--</td><td>--</td><td>--</td><td>--</td><td>--</td><td>--</td><td>--</td><td>--</td><td>--</td><td>--</td><td>25.81033396638703</td><td>0.07327152867506714</td><td>--</td><td>--</td><td>--</td><td>--</td><td>--</td><td>--</td><td>--</td><td>--</td><td>25.5539145336042</td><td>0.06834314577525126</td><td>--</td><td>--</td><td>--</td><td>--</td><td>--</td><td>--</td><td>25.473610770653444</td><td>0.18663514086550892</td><td>--</td><td>--</td><td>--</td><td>--</td><td>--</td><td>--</td><td>25.36577664201528</td><td>0.028836920156322138</td><td>25.342383417258706</td><td>0.32584886684267644</td><td>25.243728985871204</td><td>0.8582300379392023</td><td>--</td><td>--</td><td>25.34469940955841</td><td>0.03592768536037745</td><td>--</td><td>--</td><td>--</td><td>--</td><td>--</td><td>--</td><td>--</td><td>--</td><td>--</td><td>--</td><td>--</td><td>--</td><td>--</td><td>--</td><td>25.334543914382984</td><td>0.06584586525312737</td><td>--</td><td>--</td><td>--</td><td>--</td><td>--</td><td>--</td><td>--</td><td>--</td><td>25.083115003128423</td><td>0.07656299042729103</td><td>--</td><td>--</td><td>--</td><td>--</td><td>--</td><td>--</td><td>25.076807288242914</td><td>0.1355478463164202</td><td>--</td><td>--</td><td>--</td><td>--</td><td>--</td><td>--</td><td>24.99269756696688</td><td>0.040000626105533676</td><td>24.925586535949606</td><td>0.21988065240424826</td><td>24.83306382379327</td><td>0.5909627907218039</td><td>--</td><td>--</td><td>24.868038078294955</td><td>0.032551953600911884</td><td>--</td><td>--</td><td>--</td><td>--</td><td>--</td><td>--</td><td>--</td><td>--</td><td>--</td><td>--</td><td>--</td><td>--</td><td>--</td><td>--</td><td>24.750987045424996</td><td>0.05538502391215085</td><td>--</td><td>--</td><td>--</td><td>--</td><td>--</td><td>--</td><td>--</td><td>--</td><td>24.672046594921607</td><td>0.06142196743509475</td><td>--</td><td>--</td><td>--</td><td>--</td><td>--</td><td>--</td><td>24.711464437656044</td><td>0.10015676247005922</td><td>--</td><td>--</td><td>--</td><td>--</td><td>--</td><td>--</td><td>24.588493475495472</td><td>0.034080925088911175</td><td>24.510126032588975</td><td>0.1502272348330892</td><td>24.489042025065462</td><td>0.44507790891697396</td><td>--</td><td>--</td><td>24.447130715465157</td><td>0.032655679394209346</td><td>--</td><td>--</td><td>--</td><td>--</td><td>--</td><td>--</td><td>--</td><td>--</td><td>--</td><td>--</td><td>--</td><td>--</td><td>--</td><td>--</td><td>26.75598127153436</td><td>1.1550503252741162</td><td>--</td><td>--</td><td>--</td><td>--</td><td>--</td><td>--</td><td>--</td><td>--</td><td>--</td><td>--</td><td>--</td><td>--</td><td>--</td><td>--</td><td>--</td><td>--</td><td>--</td><td>--</td><td>--</td><td>--</td><td>--</td><td>--</td><td>--</td><td>--</td><td>--</td><td>--</td><td>--</td><td>--</td><td>--</td><td>--</td><td>--</td><td>--</td><td>26.177285291385285</td><td>0.6827485842740415</td><td>--</td><td>--</td><td>--</td><td>--</td><td>--</td><td>--</td><td>--</td><td>--</td><td>--</td><td>--</td><td>--</td><td>--</td><td>--</td><td>--</td><td>--</td><td>--</td><td>--</td><td>--</td><td>--</td><td>--</td><td>--</td><td>--</td><td>--</td><td>--</td><td>--</td><td>--</td><td>--</td><td>--</td><td>--</td><td>--</td><td>--</td><td>--</td><td>25.606661728776576</td><td>0.4060810053764567</td><td>--</td><td>--</td><td>--</td><td>--</td><td>--</td><td>--</td><td>--</td><td>--</td><td>--</td><td>--</td><td>--</td><td>--</td><td>--</td><td>--</td><td>--</td><td>--</td><td>--</td><td>--</td><td>--</td><td>--</td><td>--</td><td>--</td><td>--</td><td>--</td><td>--</td><td>--</td><td>--</td><td>--</td><td>--</td><td>--</td><td>--</td><td>--</td><td>24.949154303996067</td><td>0.2519562976557138</td><td>--</td><td>--</td><td>--</td><td>--</td><td>--</td><td>--</td><td>--</td><td>--</td><td>--</td><td>--</td><td>--</td><td>--</td><td>--</td><td>--</td><td>--</td><td>--</td><td>--</td><td>--</td><td>--</td><td>--</td><td>--</td><td>--</td><td>--</td><td>--</td><td>--</td><td>--</td><td>--</td><td>--</td><td>--</td><td>--</td><td>--</td><td>--</td><td>--</td><td>--</td><td>--</td><td>--</td><td>--</td><td>--</td><td>--</td><td>--</td><td>--</td><td>--</td><td>--</td><td>--</td><td>--</td><td>--</td><td>--</td><td>--</td><td>--</td><td>--</td><td>--</td><td>--</td><td>--</td><td>--</td><td>--</td><td>--</td><td>--</td><td>--</td><td>--</td><td>--</td><td>--</td><td>--</td><td>--</td><td>--</td><td>--</td><td>--</td><td>--</td><td>--</td><td>--</td><td>--</td><td>--</td><td>--</td><td>--</td><td>--</td><td>--</td><td>--</td><td>--</td><td>--</td><td>--</td><td>--</td><td>--</td><td>--</td><td>--</td><td>--</td><td>--</td><td>--</td><td>--</td><td>--</td><td>--</td><td>--</td><td>--</td><td>--</td><td>--</td><td>--</td><td>--</td><td>--</td><td>--</td><td>--</td><td>--</td><td>--</td></tr>\n",
       "<tr><td>sunrise</td><td>530525</td><td>24.35127497567209</td><td>-8.387325413931277</td><td>nan</td><td>--</td><td>--</td><td>--</td><td>--</td><td>28.617667873287555</td><td>0.6595093040833216</td><td>--</td><td>--</td><td>--</td><td>--</td><td>--</td><td>--</td><td>--</td><td>--</td><td>27.533397215584298</td><td>0.21609834825951194</td><td>--</td><td>--</td><td>--</td><td>--</td><td>--</td><td>--</td><td>27.191633475783455</td><td>0.1328299800053973</td><td>--</td><td>--</td><td>--</td><td>--</td><td>--</td><td>--</td><td>27.144998691077586</td><td>0.12496148172293527</td><td>26.4103145915147</td><td>0.14676947174681088</td><td>26.389583227582634</td><td>1.7656688632001805</td><td>--</td><td>--</td><td>26.46969950077043</td><td>0.08099085159222201</td><td>--</td><td>--</td><td>--</td><td>--</td><td>--</td><td>--</td><td>--</td><td>--</td><td>--</td><td>--</td><td>--</td><td>--</td><td>--</td><td>--</td><td>28.066935628451688</td><td>0.5600383123858393</td><td>--</td><td>--</td><td>--</td><td>--</td><td>--</td><td>--</td><td>--</td><td>--</td><td>27.24000097754929</td><td>0.27797729421829415</td><td>--</td><td>--</td><td>--</td><td>--</td><td>--</td><td>--</td><td>26.89681820041117</td><td>0.1398167039623767</td><td>--</td><td>--</td><td>--</td><td>--</td><td>--</td><td>--</td><td>26.899524999030863</td><td>0.1283042368970146</td><td>26.09567133286381</td><td>0.17170692340674315</td><td>26.051321982966424</td><td>1.3738990728710514</td><td>--</td><td>--</td><td>26.136966365418637</td><td>0.08293226502524102</td><td>--</td><td>--</td><td>--</td><td>--</td><td>--</td><td>--</td><td>--</td><td>--</td><td>--</td><td>--</td><td>--</td><td>--</td><td>--</td><td>--</td><td>28.18044274427747</td><td>0.7837467453123994</td><td>--</td><td>--</td><td>--</td><td>--</td><td>--</td><td>--</td><td>--</td><td>--</td><td>27.232054681761646</td><td>0.3647317387699119</td><td>--</td><td>--</td><td>--</td><td>--</td><td>--</td><td>--</td><td>26.53550997548864</td><td>0.13726680838599545</td><td>--</td><td>--</td><td>--</td><td>--</td><td>--</td><td>--</td><td>26.709647705638645</td><td>0.148150303263988</td><td>25.862258951271585</td><td>0.2021194742712853</td><td>25.83012832290672</td><td>1.1770740465539815</td><td>--</td><td>--</td><td>25.916598390331302</td><td>0.10479581011331399</td><td>--</td><td>--</td><td>--</td><td>--</td><td>--</td><td>--</td><td>--</td><td>--</td><td>--</td><td>--</td><td>--</td><td>--</td><td>--</td><td>--</td><td>28.008354202674017</td><td>0.8765699479370233</td><td>--</td><td>--</td><td>--</td><td>--</td><td>--</td><td>--</td><td>--</td><td>--</td><td>27.11318408200824</td><td>0.4241438625769346</td><td>--</td><td>--</td><td>--</td><td>--</td><td>--</td><td>--</td><td>26.27748149358068</td><td>0.6750610515731179</td><td>--</td><td>--</td><td>--</td><td>--</td><td>--</td><td>--</td><td>26.600294099611496</td><td>0.22341984112581825</td><td>25.749764787782762</td><td>0.4023504322072547</td><td>25.903210550963035</td><td>1.342532498921704</td><td>--</td><td>--</td><td>26.008082217246464</td><td>0.39997787901709864</td><td>--</td><td>--</td><td>--</td><td>--</td><td>--</td><td>--</td><td>--</td><td>--</td><td>--</td><td>--</td><td>--</td><td>--</td><td>--</td><td>--</td><td>28.00673552440455</td><td>0.37236347264911634</td><td>--</td><td>--</td><td>--</td><td>--</td><td>--</td><td>--</td><td>--</td><td>--</td><td>--</td><td>--</td><td>--</td><td>--</td><td>--</td><td>--</td><td>--</td><td>--</td><td>--</td><td>--</td><td>--</td><td>--</td><td>--</td><td>--</td><td>--</td><td>--</td><td>--</td><td>--</td><td>--</td><td>--</td><td>--</td><td>--</td><td>--</td><td>--</td><td>26.864633158545114</td><td>0.186027901812462</td><td>--</td><td>--</td><td>--</td><td>--</td><td>--</td><td>--</td><td>--</td><td>--</td><td>--</td><td>--</td><td>--</td><td>--</td><td>--</td><td>--</td><td>--</td><td>--</td><td>--</td><td>--</td><td>--</td><td>--</td><td>--</td><td>--</td><td>--</td><td>--</td><td>--</td><td>--</td><td>--</td><td>--</td><td>--</td><td>--</td><td>--</td><td>--</td><td>26.279204453064125</td><td>0.15687794796176874</td><td>--</td><td>--</td><td>--</td><td>--</td><td>--</td><td>--</td><td>--</td><td>--</td><td>--</td><td>--</td><td>--</td><td>--</td><td>--</td><td>--</td><td>--</td><td>--</td><td>--</td><td>--</td><td>--</td><td>--</td><td>--</td><td>--</td><td>--</td><td>--</td><td>--</td><td>--</td><td>--</td><td>--</td><td>--</td><td>--</td><td>--</td><td>--</td><td>25.88031266029931</td><td>0.15402908059663173</td><td>--</td><td>--</td><td>--</td><td>--</td><td>--</td><td>--</td><td>--</td><td>--</td><td>--</td><td>--</td><td>--</td><td>--</td><td>--</td><td>--</td><td>--</td><td>--</td><td>--</td><td>--</td><td>--</td><td>--</td><td>--</td><td>--</td><td>--</td><td>--</td><td>--</td><td>--</td><td>--</td><td>--</td><td>--</td><td>--</td><td>--</td><td>--</td><td>--</td><td>--</td><td>--</td><td>--</td><td>--</td><td>--</td><td>--</td><td>--</td><td>--</td><td>--</td><td>--</td><td>--</td><td>--</td><td>--</td><td>--</td><td>--</td><td>--</td><td>--</td><td>--</td><td>--</td><td>--</td><td>--</td><td>--</td><td>--</td><td>--</td><td>--</td><td>--</td><td>--</td><td>--</td><td>--</td><td>--</td><td>--</td><td>--</td><td>--</td><td>--</td><td>--</td><td>--</td><td>--</td><td>--</td><td>--</td><td>--</td><td>--</td><td>--</td><td>--</td><td>--</td><td>--</td><td>--</td><td>--</td><td>--</td><td>--</td><td>--</td><td>--</td><td>--</td><td>--</td><td>--</td><td>--</td><td>--</td><td>--</td><td>--</td><td>--</td><td>--</td><td>--</td><td>--</td><td>--</td><td>--</td><td>--</td><td>--</td><td>--</td></tr>\n",
       "</table></div>"
      ],
      "text/plain": [
       "<Table length=530526>\n",
       " field    id           ra         ... lupt_f555w_aper3 lupterr_f555w_aper3\n",
       "bytes13 int64       float64       ...     float64            float64      \n",
       "------- ------ ------------------ ... ---------------- -------------------\n",
       "  ceers      0  215.2151731300751 ...               --                  --\n",
       "  ceers      1  215.1865311684452 ...               --                  --\n",
       "  ceers      2 215.17440399645494 ...               --                  --\n",
       "  ceers      3 215.17066593131037 ...               --                  --\n",
       "  ceers      4  215.1665950611378 ...               --                  --\n",
       "  ceers      5  215.1651987046283 ...               --                  --\n",
       "  ceers      6  215.1458629783668 ...               --                  --\n",
       "  ceers      7 215.13093623809937 ...               --                  --\n",
       "  ceers      8 215.12435951625753 ...               --                  --\n",
       "  ceers      9  215.1135278555601 ...               --                  --\n",
       "    ...    ...                ... ...              ...                 ...\n",
       "sunrise 530516 24.348616196574184 ...               --                  --\n",
       "sunrise 530517  24.35200311622535 ...               --                  --\n",
       "sunrise 530518  24.35207329155662 ...               --                  --\n",
       "sunrise 530519 24.350754465768464 ...               --                  --\n",
       "sunrise 530520  24.35069000080643 ...               --                  --\n",
       "sunrise 530521  24.35014284404191 ...               --                  --\n",
       "sunrise 530522 24.349442250368472 ...               --                  --\n",
       "sunrise 530523  24.35152168659832 ...               --                  --\n",
       "sunrise 530524 24.351932307794186 ...               --                  --\n",
       "sunrise 530525  24.35127497567209 ...               --                  --"
      ]
     },
     "execution_count": 22,
     "metadata": {},
     "output_type": "execute_result"
    }
   ],
   "source": [
    "t"
   ]
  },
  {
   "cell_type": "markdown",
   "id": "0990f7fa",
   "metadata": {},
   "source": [
    "\n",
    "# Skymatching Catalogues"
   ]
  },
  {
   "cell_type": "code",
   "execution_count": null,
   "id": "7a36801b",
   "metadata": {},
   "outputs": [],
   "source": [
    "candels=Table.read('MPhys/CANDELS/candels_combined.fits',format='fits')\n",
    "#jwst=Table.read('MPhys/original_jwst_data/all_merged_ab.fits',format='fits')\n",
    "\n",
    "dawn = Table.read('csv.csv',format='csv')"
   ]
  },
  {
   "cell_type": "code",
   "execution_count": null,
   "id": "08ec2ddd",
   "metadata": {},
   "outputs": [],
   "source": [
    "z = dawn['zspec']\n",
    "z[z < 0] = np.nan\n",
    "masked=[]\n",
    "for i in range(len(dawn)):\n",
    "    masked.append(np.ma.is_masked(z[i]))\n",
    "masked_inv=np.array(np.invert(masked))\n",
    "masked_cat =dawn[masked_inv*(np.ma.is_masked(z) == True)] \n",
    "nans=[]\n",
    "for i in range(len(masked_cat)):\n",
    "    nans.append(np.isnan(masked_cat['zspec'][i]))\n",
    "nans_inv=np.array(np.invert(nans))\n",
    "dawn_zreal =masked_cat[nans_inv*(np.isnan(masked_cat['zspec']) == False)] "
   ]
  },
  {
   "cell_type": "code",
   "execution_count": null,
   "id": "8930d83d",
   "metadata": {},
   "outputs": [],
   "source": [
    "dawn_zreal"
   ]
  },
  {
   "cell_type": "code",
   "execution_count": null,
   "id": "35fdba47",
   "metadata": {},
   "outputs": [],
   "source": [
    "#ra1=dawn_zreal['ra']\n",
    "#dec1=dawn_zreal['dec']\n",
    "#ra2=candels['RA']\n",
    "#dec2=candels['DEC']\n",
    "ra1=dawn['ra']\n",
    "dec1=dawn['dec']\n",
    "ra2=candels['RA']\n",
    "dec2=candels['DEC']"
   ]
  },
  {
   "cell_type": "code",
   "execution_count": null,
   "id": "3b3afa2f",
   "metadata": {},
   "outputs": [],
   "source": [
    "dawn_cat = SkyCoord(ra=ra1*u.degree, dec=dec1*u.degree)#dawn\n",
    "candels_cat = SkyCoord(ra=ra2*u.degree, dec=dec2*u.degree)#candels\n"
   ]
  },
  {
   "cell_type": "code",
   "execution_count": null,
   "id": "da214c9e",
   "metadata": {},
   "outputs": [],
   "source": [
    "max_sep = 0.2 * u.arcsec\n",
    "idx, d2d, d3d = dawn_cat.match_to_catalog_sky(candels_cat)#catalog = candels information\n",
    "idx_dawn, d2d_dawn, d3d_dawn = candels_cat.match_to_catalog_sky(dawn_cat)"
   ]
  },
  {
   "cell_type": "code",
   "execution_count": null,
   "id": "338573eb",
   "metadata": {},
   "outputs": [],
   "source": [
    "id_candel=[] #ids of candels catalog \n",
    "for i in range(len(ra1)):\n",
    "    if d2d[i]< max_sep:\n",
    "        id_candel.append(idx[i])\n",
    "id_dawn=[] #ids of jwst catalog \n",
    "for i in range(len(ra2)):\n",
    "    if d2d_dawn[i]< max_sep:\n",
    "        id_dawn.append(idx_dawn[i])\n"
   ]
  },
  {
   "cell_type": "code",
   "execution_count": null,
   "id": "b220af00",
   "metadata": {},
   "outputs": [],
   "source": [
    "id_candels_new=list(set(id_candel))\n",
    "id_dawn_new = list(set(id_dawn)) \n",
    "matched_candels = candels[id_candels_new]\n",
    "matched_dawn= dawn[id_dawn_new ]"
   ]
  },
  {
   "cell_type": "code",
   "execution_count": null,
   "id": "c35381c0",
   "metadata": {},
   "outputs": [],
   "source": [
    "#candels.remove_rows(id_candel)\n",
    "dawn.remove_rows(id_dawn)\n",
    "candels"
   ]
  },
  {
   "cell_type": "code",
   "execution_count": null,
   "id": "41aff821",
   "metadata": {},
   "outputs": [],
   "source": [
    "matched_candels['z_spec']=matched_dawn['zspec'] #update candels zspec to jwst zspec"
   ]
  },
  {
   "cell_type": "code",
   "execution_count": null,
   "id": "9384c2ef",
   "metadata": {},
   "outputs": [],
   "source": [
    "#dawn_zreal.rename_column('ra', 'RA')\n",
    "#dawn_zreal.rename_column('dec', 'DEC')\n",
    "#dawn_zreal.rename_column('zspec','z_spec')"
   ]
  },
  {
   "cell_type": "code",
   "execution_count": null,
   "id": "4d4b8a71",
   "metadata": {},
   "outputs": [],
   "source": [
    "matched_candels"
   ]
  },
  {
   "cell_type": "code",
   "execution_count": null,
   "id": "bb48b5b8",
   "metadata": {},
   "outputs": [],
   "source": [
    "zspec_cat = vstack([candels,matched_candels, dawn_zreal])\n",
    "specz_conf = zspec_cat['RA','DEC','z_spec']\n",
    "specz_conf.write('MPhys/catalogues/full_specz_sources.fits',format='fits')"
   ]
  },
  {
   "cell_type": "code",
   "execution_count": null,
   "id": "2f9e940b",
   "metadata": {},
   "outputs": [],
   "source": [
    "specz = Table.read('MPhys/catalogues/full_specz_sources.fits',format='fits')"
   ]
  },
  {
   "cell_type": "code",
   "execution_count": null,
   "id": "53ec8ecd",
   "metadata": {},
   "outputs": [],
   "source": [
    "ra3 = jwst['ra']\n",
    "dec3=jwst['dec']\n",
    "ra4=specz['RA']\n",
    "dec4=specz['DEC']\n",
    "\n",
    "jwst_cat = SkyCoord(ra=ra3*u.degree, dec=dec3*u.degree)#jwst\n",
    "specz_cat = SkyCoord(ra=ra4*u.degree, dec=dec4*u.degree)#jwst"
   ]
  },
  {
   "cell_type": "code",
   "execution_count": null,
   "id": "c5d3c307",
   "metadata": {},
   "outputs": [],
   "source": [
    "idx_specz, d2d_specz, d3d_specz = jwst_cat.match_to_catalog_sky(specz_cat)#catalog = candels information\n",
    "idx_jwst, d2d_jwst, d3d_jwst = specz_cat.match_to_catalog_sky(jwst_cat)"
   ]
  },
  {
   "cell_type": "code",
   "execution_count": null,
   "id": "8ed19444",
   "metadata": {},
   "outputs": [],
   "source": [
    "id_specz=[] #ids of candels catalog \n",
    "for i in range(len(ra3)):\n",
    "    if d2d_specz[i]< max_sep:\n",
    "        id_specz.append(idx_specz[i])\n",
    "id_jwst=[] #ids of jwst catalog \n",
    "for i in range(len(ra4)):\n",
    "    if d2d_jwst[i]< max_sep:\n",
    "        id_jwst.append(idx_jwst[i])\n"
   ]
  },
  {
   "cell_type": "code",
   "execution_count": null,
   "id": "cc2126f7",
   "metadata": {},
   "outputs": [],
   "source": [
    "idx_new = list(set(id_specz)) #list of non-repeating candels indexs\n",
    "idx_new_jwst = list(set(id_jwst)) \n",
    "matched_specz = specz[idx_new]\n",
    "matched_jwst = jwst[idx_new_jwst]\n",
    "matched_specz.sort('RA') #makes them in same order\n",
    "matched_jwst.sort('ra')\n"
   ]
  },
  {
   "cell_type": "code",
   "execution_count": null,
   "id": "13ace400",
   "metadata": {},
   "outputs": [],
   "source": [
    "#matched_jwst.add_column(matched_specz['z_spec'], name='z_spec', index=-1)\n",
    "matched_jwst.write('MPhys/catalogues/jwst_skymatched_specz.fits',format='fits')"
   ]
  },
  {
   "cell_type": "markdown",
   "id": "13dd79de",
   "metadata": {},
   "source": [
    "# Skymatching for GMM+CSL Catalogue Making "
   ]
  },
  {
   "cell_type": "markdown",
   "id": "0a5bcc85",
   "metadata": {},
   "source": [
    "### JWST match to CANDELS"
   ]
  },
  {
   "cell_type": "code",
   "execution_count": 4,
   "id": "70d88f8d",
   "metadata": {},
   "outputs": [
    {
     "name": "stderr",
     "output_type": "stream",
     "text": [
      "WARNING: UnitsWarning: '0 galaxy, 1 star' did not parse as fits unit: At col 2, Unit 'galaxy' not supported by the FITS standard.  If this is meant to be a custom unit, define it with 'u.def_unit'. To have it recognized inside a file reader or other code, enable it with 'u.add_enabled_units'. For details, see https://docs.astropy.org/en/latest/units/combining_and_defining.html [astropy.units.core]\n",
      "WARNING: UnitsWarning: '0 use, gt 1 no-use' did not parse as fits unit: At col 2, Unit 'use' not supported by the FITS standard. Did you mean uS or us? If this is meant to be a custom unit, define it with 'u.def_unit'. To have it recognized inside a file reader or other code, enable it with 'u.add_enabled_units'. For details, see https://docs.astropy.org/en/latest/units/combining_and_defining.html [astropy.units.core]\n"
     ]
    }
   ],
   "source": [
    "candels=Table.read('MPhys/CANDELS/candels_combined.fits',format='fits')\n",
    "#jwst_merge=Table.read('MPhys/original_jwst_data/all_merged_ab.fits',format = 'fits')\n",
    "\n"
   ]
  },
  {
   "cell_type": "code",
   "execution_count": 5,
   "id": "3d644bf9",
   "metadata": {},
   "outputs": [],
   "source": [
    "jwst_merge=t"
   ]
  },
  {
   "cell_type": "code",
   "execution_count": 6,
   "id": "a25a79a2",
   "metadata": {},
   "outputs": [
    {
     "name": "stdout",
     "output_type": "stream",
     "text": [
      "186435\n"
     ]
    }
   ],
   "source": [
    "#matching jwst and candels\n",
    "ra1=jwst_merge['ra']\n",
    "\n",
    "dec1=jwst_merge['dec']\n",
    "ra2=candels['RA']\n",
    "dec2=candels['DEC']\n",
    "print(len(ra2))"
   ]
  },
  {
   "cell_type": "code",
   "execution_count": 7,
   "id": "9c45b4ad",
   "metadata": {},
   "outputs": [],
   "source": [
    "jwst_cat = SkyCoord(ra=ra1*u.degree, dec=dec1*u.degree)#dawn\n",
    "candels_cat = SkyCoord(ra=ra2*u.degree, dec=dec2*u.degree)#candels\n"
   ]
  },
  {
   "cell_type": "code",
   "execution_count": 8,
   "id": "61680483",
   "metadata": {},
   "outputs": [
    {
     "name": "stdout",
     "output_type": "stream",
     "text": [
      "186435\n"
     ]
    }
   ],
   "source": [
    "max_sep = 0.1 * u.arcsec\n",
    "idx, d2d, d3d = jwst_cat.match_to_catalog_sky(candels_cat)#catalog = candels information\n",
    "idx_jwst, d2d_jwst, d3d_jwst = candels_cat.match_to_catalog_sky(jwst_cat)\n",
    "#idx, d2d, d3d = jwst_cat.match_to_catalog_sky(candels_cat)\n",
    "print(len(idx_jwst))"
   ]
  },
  {
   "cell_type": "code",
   "execution_count": 9,
   "id": "2c640550",
   "metadata": {},
   "outputs": [],
   "source": [
    "c_index=[]\n",
    "j_index=[]\n",
    "for i in range(len(candels)):\n",
    "    if abs(ra2[i]-ra1[idx_jwst[i]])<0.1:\n",
    "        c_index.append(i)\n",
    "        j_index.append(idx_jwst[i])\n",
    "        jwst_merge['z_spec'][idx_jwst[i]]=candels['z_spec'][i]\n"
   ]
  },
  {
   "cell_type": "code",
   "execution_count": 148,
   "id": "0c2c2e87",
   "metadata": {},
   "outputs": [],
   "source": []
  },
  {
   "cell_type": "code",
   "execution_count": 123,
   "id": "95d610bf",
   "metadata": {},
   "outputs": [],
   "source": []
  },
  {
   "cell_type": "code",
   "execution_count": null,
   "id": "552ae24b",
   "metadata": {},
   "outputs": [],
   "source": []
  },
  {
   "cell_type": "code",
   "execution_count": null,
   "id": "2095a1fc",
   "metadata": {},
   "outputs": [],
   "source": []
  },
  {
   "cell_type": "code",
   "execution_count": null,
   "id": "51f38991",
   "metadata": {},
   "outputs": [],
   "source": []
  },
  {
   "cell_type": "code",
   "execution_count": null,
   "id": "0ee29a5f",
   "metadata": {},
   "outputs": [],
   "source": []
  },
  {
   "cell_type": "markdown",
   "id": "26207506",
   "metadata": {},
   "source": [
    "### JWST match to DAWN"
   ]
  },
  {
   "cell_type": "code",
   "execution_count": 10,
   "id": "ced0190b",
   "metadata": {},
   "outputs": [],
   "source": [
    "dawn = Table.read('csv.csv',format='csv')\n",
    "ra3 = jwst_merge['ra']\n",
    "dec3=jwst_merge['dec']\n",
    "ra4=dawn['ra']\n",
    "dec4=dawn['dec']\n",
    "j_merge_cat = SkyCoord(ra=ra4*u.degree, dec=dec4*u.degree)\n",
    "dawn_cat = SkyCoord(ra=ra4*u.degree, dec=dec4*u.degree)"
   ]
  },
  {
   "cell_type": "code",
   "execution_count": 11,
   "id": "61f9bc5d",
   "metadata": {},
   "outputs": [],
   "source": [
    "idx_all, d2d_all, d3d_all = dawn_cat.match_to_catalog_sky(j_merge_cat)"
   ]
  },
  {
   "cell_type": "code",
   "execution_count": 12,
   "id": "d35e41cf",
   "metadata": {},
   "outputs": [
    {
     "name": "stderr",
     "output_type": "stream",
     "text": [
      "/home/s1841940/.local/lib/python3.8/site-packages/astropy/table/column.py:1365: UserWarning: Warning: converting a masked element to nan.\n",
      "  self.data[index] = value\n"
     ]
    }
   ],
   "source": [
    "c_index=[]\n",
    "j_index=[]\n",
    "for i in range(len(dawn)):\n",
    "    if abs(ra4[i]-ra3[idx_all[i]])<0.1:\n",
    "       # c_index.append(i)\n",
    "       # j_index.append(idx_jwst[i])\n",
    "        jwst_merge['z_spec'][idx_all[i]]=dawn['zspec'][i]\n"
   ]
  },
  {
   "cell_type": "code",
   "execution_count": 13,
   "id": "480a48cb",
   "metadata": {},
   "outputs": [],
   "source": [
    "jwst_merge['z_spec'][jwst_merge['z_spec']<=0]=np.ma.masked"
   ]
  },
  {
   "cell_type": "code",
   "execution_count": 188,
   "id": "adfb58dc",
   "metadata": {},
   "outputs": [
    {
     "name": "stdout",
     "output_type": "stream",
     "text": [
      "11.44\n"
     ]
    }
   ],
   "source": [
    "r=[]\n",
    "p=0\n",
    "for i in range(len(jwst_merge)):\n",
    "    if np.isnan(jwst_merge['z_spec'][i]):\n",
    "        p+=1\n",
    "    else:\n",
    "        r.append(jwst_merge['z_spec'][i])\n",
    "print(np.max(r))"
   ]
  },
  {
   "cell_type": "code",
   "execution_count": null,
   "id": "09672991",
   "metadata": {},
   "outputs": [],
   "source": [
    "jwst_merge.write('MPhys/original_jwst_data/final_skymatched_catalogue.fits',format = 'fits',overwrite=True)"
   ]
  },
  {
   "cell_type": "markdown",
   "id": "9efc22cd",
   "metadata": {},
   "source": [
    "# Filter Choices for Training Catalogue\n"
   ]
  },
  {
   "cell_type": "code",
   "execution_count": 14,
   "id": "740f5e86",
   "metadata": {},
   "outputs": [],
   "source": [
    "#train = Table.read('MPhys/catalogues/lupt_jwst_skymatched_specz.fits',format = 'fits')\n",
    "#train = Table.read('MPhys/original_jwst_data/final_skymatched_abmag_catalogue.fits',format = 'fits')\n",
    "train = jwst_merge"
   ]
  },
  {
   "cell_type": "code",
   "execution_count": 5,
   "id": "c7cd41f2",
   "metadata": {},
   "outputs": [],
   "source": [
    "#train['z_spec'][train['z_spec']<0]=np.ma.masked\n"
   ]
  },
  {
   "cell_type": "code",
   "execution_count": 150,
   "id": "7c6a4b86",
   "metadata": {},
   "outputs": [
    {
     "name": "stdout",
     "output_type": "stream",
     "text": [
      "['f1000w', 'f1000w', 'f105w', 'f105w', 'f115w-clear', 'f115w-clear', 'f125w', 'f125w', 'f1280w', 'f1280w', 'f140w', 'f140w', 'f1500w', 'f1500w', 'f150w-clear', 'f150w-clear', 'f160w', 'f160w', 'f1800w', 'f1800w', 'f182m-clear', 'f182m-clear', 'f200w-clear', 'f200w-clear', 'f2100w', 'f2100w', 'f210m-clear', 'f210m-clear', 'f275wu', 'f275wu', 'f277w-clear', 'f277w-clear', 'f356w-clear', 'f356w-clear', 'f410m-clear', 'f410m-clear', 'f435w', 'f435w', 'f444w-clear', 'f444w-clear', 'f560w', 'f560w', 'f606w', 'f606w', 'f606wu', 'f606wu', 'f770w', 'f770w', 'f814w', 'f814w', 'clearp-f430m', 'clearp-f430m', 'clearp-f480m', 'clearp-f480m', 'f090w-clear', 'f090w-clear', 'f110w', 'f110w', 'f115wn-clear', 'f115wn-clear', 'f150wn-clear', 'f150wn-clear', 'f200wn-clear', 'f200wn-clear', 'f335m-clear', 'f335m-clear', 'f350lpu', 'f350lpu', 'f430m-clear', 'f430m-clear', 'f460m-clear', 'f460m-clear', 'f475w', 'f475w', 'f480m-clear', 'f480m-clear', 'f775w', 'f775w', 'f814wu', 'f814wu', 'f850lp', 'f850lp', 'f850lpu', 'f850lpu', 'f336wu', 'f336wu', 'clearp-f356w', 'clearp-f356w', 'clearp-f444w', 'clearp-f444w', 'f225wu', 'f225wu', 'f250m-clear', 'f250m-clear', 'f300m-clear', 'f300m-clear', 'f625w', 'f625w', 'f390wu', 'f390wu', 'f555w', 'f555w']\n"
     ]
    }
   ],
   "source": [
    "#Full catalogue filter names \n",
    "filters_1 = [col.split('_')[1] for col in train.colnames if col.endswith('_aper1')]\n",
    "#print(len(filters_1))\n",
    "print(filters_1)"
   ]
  },
  {
   "cell_type": "code",
   "execution_count": 28,
   "id": "6432a237",
   "metadata": {},
   "outputs": [],
   "source": [
    "#### FILTER CHOICES\n",
    "bc= ['f115w-clear','f200w-clear','f356w-clear','f444w-clear']\n",
    "#swap f115w for f814w,f606w,f435w,f125w,f140w,f160w,f150w\n",
    "c1 =['f814w','f200w-clear','f356w-clear','f444w-clear']\n",
    "c2 =['f606w','f200w-clear','f356w-clear','f444w-clear']\n",
    "c3 =['f435w','f200w-clear','f356w-clear','f444w-clear']\n",
    "c4 =['f125w','f200w-clear','f356w-clear','f444w-clear']\n",
    "c5 =['f140w','f200w-clear','f356w-clear','f444w-clear']\n",
    "c6 =['f160w','f200w-clear','f356w-clear','f444w-clear']\n",
    "c7 =['f150w-clear','f200w-clear','f356w-clear','f444w-clear']\n",
    "\n",
    "#swap f444w for f410m\n",
    "c9= ['f115w-clear','f200w-clear','f356w-clear','f410m-clear']\n",
    "c10=['f115w-clear','f606w','f150w-clear','f444w-clear']\n",
    "bc_extra = ['f090w-clear','f115w-clear','f200w-clear','f356w-clear','f444w-clear']\n",
    "swap= ['bc','f814w','f606w','f435w','f125w','f140w','f160w','f150w-clear','f410m-clear','ic','f090w_inc']\n",
    "#num = 0"
   ]
  },
  {
   "cell_type": "code",
   "execution_count": 26,
   "id": "9ac64b3b",
   "metadata": {},
   "outputs": [
    {
     "name": "stdout",
     "output_type": "stream",
     "text": [
      "bc\n"
     ]
    },
    {
     "ename": "NameError",
     "evalue": "name 'train' is not defined",
     "output_type": "error",
     "traceback": [
      "\u001b[0;31m---------------------------------------------------------------------------\u001b[0m",
      "\u001b[0;31mNameError\u001b[0m                                 Traceback (most recent call last)",
      "\u001b[0;32m<ipython-input-26-a88564f0f41f>\u001b[0m in \u001b[0;36m<module>\u001b[0;34m\u001b[0m\n\u001b[1;32m      7\u001b[0m \u001b[0;34m\u001b[0m\u001b[0m\n\u001b[1;32m      8\u001b[0m \u001b[0mprint\u001b[0m\u001b[0;34m(\u001b[0m\u001b[0mswap\u001b[0m\u001b[0;34m[\u001b[0m\u001b[0mnum\u001b[0m\u001b[0;34m]\u001b[0m\u001b[0;34m)\u001b[0m\u001b[0;34m\u001b[0m\u001b[0;34m\u001b[0m\u001b[0m\n\u001b[0;32m----> 9\u001b[0;31m \u001b[0mlup_train\u001b[0m \u001b[0;34m=\u001b[0m \u001b[0mtrain\u001b[0m\u001b[0;34m[\u001b[0m\u001b[0;34m'field'\u001b[0m\u001b[0;34m,\u001b[0m\u001b[0;34m'id'\u001b[0m\u001b[0;34m,\u001b[0m\u001b[0;34m'ra'\u001b[0m\u001b[0;34m,\u001b[0m\u001b[0;34m'dec'\u001b[0m\u001b[0;34m,\u001b[0m\u001b[0;34m'z_spec'\u001b[0m\u001b[0;34m]\u001b[0m\u001b[0;34m\u001b[0m\u001b[0;34m\u001b[0m\u001b[0m\n\u001b[0m\u001b[1;32m     10\u001b[0m \u001b[0mlup_train\u001b[0m\u001b[0;34m[\u001b[0m\u001b[0;34mf'lupt_{choice[0]}'\u001b[0m\u001b[0;34m]\u001b[0m\u001b[0;34m=\u001b[0m\u001b[0mtrain\u001b[0m\u001b[0;34m[\u001b[0m\u001b[0;34mf'lupt_{choice[0]}_aper{aper}'\u001b[0m\u001b[0;34m]\u001b[0m\u001b[0;34m\u001b[0m\u001b[0;34m\u001b[0m\u001b[0m\n\u001b[1;32m     11\u001b[0m \u001b[0mlup_train\u001b[0m\u001b[0;34m[\u001b[0m\u001b[0;34mf'lupterr_{choice[0]}'\u001b[0m\u001b[0;34m]\u001b[0m\u001b[0;34m=\u001b[0m\u001b[0mtrain\u001b[0m\u001b[0;34m[\u001b[0m\u001b[0;34mf'lupterr_{choice[0]}_aper{aper}'\u001b[0m\u001b[0;34m]\u001b[0m\u001b[0;34m\u001b[0m\u001b[0;34m\u001b[0m\u001b[0m\n",
      "\u001b[0;31mNameError\u001b[0m: name 'train' is not defined"
     ]
    }
   ],
   "source": [
    "######change this to make new catalogue of filters\n",
    "aper=1\n",
    "#aper_size=1\n",
    "\n",
    "choice=bc\n",
    "num = 0\n",
    "\n",
    "print(swap[num])\n",
    "lup_train = train['field','id','ra','dec','z_spec']\n",
    "lup_train[f'lupt_{choice[0]}']=train[f'lupt_{choice[0]}_aper{aper}']\n",
    "lup_train[f'lupterr_{choice[0]}']=train[f'lupterr_{choice[0]}_aper{aper}']\n",
    "lup_train[f'lupt_{choice[1]}']=train[f'lupt_{choice[1]}_aper{aper}']\n",
    "lup_train[f'lupterr_{choice[1]}']=train[f'lupterr_{choice[1]}_aper{aper}']\n",
    "lup_train[f'lupt_{choice[2]}']=train[f'lupt_{choice[2]}_aper{aper}']\n",
    "lup_train[f'lupterr_{choice[2]}']=train[f'lupterr_{choice[2]}_aper{aper}']\n",
    "lup_train[f'lupt_{choice[3]}']=train[f'lupt_{choice[3]}_aper{aper}']\n",
    "lup_train[f'lupterr_{choice[3]}']=train[f'lupterr_{choice[3]}_aper{aper}']\n",
    "#lup_train[f'lupt_{choice[4]}']=train[f'lupt_{choice[4]}_aper{aper}']\n",
    "#lup_train[f'lupterr_{choice[4]}']=train[f'lupterr_{choice[4]}_aper{aper}']\n",
    "#Adds size column \n",
    "#lup_train[f'lupt_{choice[3]}_size']=train[f'lupt_{choice[3]}_aper{aper_size}']/train[f'lupt_{choice[3]}_aper{aper}']\n",
    "#lup_train[f'lupterr_{choice[3]}_size']=train[f'lupterr_{choice[3]}_aper{aper_size}']/train[f'lupterr_{choice[3]}_aper{aper}']"
   ]
  },
  {
   "cell_type": "code",
   "execution_count": 224,
   "id": "673e2dcd",
   "metadata": {},
   "outputs": [],
   "source": [
    "f1=[]\n",
    "for i in range(len(lup_train)):\n",
    "    f1.append(np.ma.is_masked(lup_train[f'lupt_{choice[0]}'][i]))\n",
    "f1_inv=np.array(np.invert(f1))\n",
    "f1_cat =lup_train[f1_inv*(np.ma.is_masked(lup_train[f'lupt_{choice[0]}']) == True)] "
   ]
  },
  {
   "cell_type": "code",
   "execution_count": 225,
   "id": "18d86961",
   "metadata": {},
   "outputs": [
    {
     "ename": "KeyboardInterrupt",
     "evalue": "",
     "output_type": "error",
     "traceback": [
      "\u001b[0;31m---------------------------------------------------------------------------\u001b[0m",
      "\u001b[0;31mKeyboardInterrupt\u001b[0m                         Traceback (most recent call last)",
      "\u001b[0;32m<ipython-input-225-67ba9c89b32a>\u001b[0m in \u001b[0;36m<module>\u001b[0;34m\u001b[0m\n\u001b[1;32m      1\u001b[0m \u001b[0mf2\u001b[0m\u001b[0;34m=\u001b[0m\u001b[0;34m[\u001b[0m\u001b[0;34m]\u001b[0m\u001b[0;34m\u001b[0m\u001b[0;34m\u001b[0m\u001b[0m\n\u001b[1;32m      2\u001b[0m \u001b[0;32mfor\u001b[0m \u001b[0mi\u001b[0m \u001b[0;32min\u001b[0m \u001b[0mrange\u001b[0m\u001b[0;34m(\u001b[0m\u001b[0mlen\u001b[0m\u001b[0;34m(\u001b[0m\u001b[0mf1_cat\u001b[0m\u001b[0;34m)\u001b[0m\u001b[0;34m)\u001b[0m\u001b[0;34m:\u001b[0m\u001b[0;34m\u001b[0m\u001b[0;34m\u001b[0m\u001b[0m\n\u001b[0;32m----> 3\u001b[0;31m     \u001b[0mf2\u001b[0m\u001b[0;34m.\u001b[0m\u001b[0mappend\u001b[0m\u001b[0;34m(\u001b[0m\u001b[0mnp\u001b[0m\u001b[0;34m.\u001b[0m\u001b[0mma\u001b[0m\u001b[0;34m.\u001b[0m\u001b[0mis_masked\u001b[0m\u001b[0;34m(\u001b[0m\u001b[0mf1_cat\u001b[0m\u001b[0;34m[\u001b[0m\u001b[0;34mf'lupt_{choice[1]}'\u001b[0m\u001b[0;34m]\u001b[0m\u001b[0;34m[\u001b[0m\u001b[0mi\u001b[0m\u001b[0;34m]\u001b[0m\u001b[0;34m)\u001b[0m\u001b[0;34m)\u001b[0m\u001b[0;34m\u001b[0m\u001b[0;34m\u001b[0m\u001b[0m\n\u001b[0m\u001b[1;32m      4\u001b[0m \u001b[0mf2_inv\u001b[0m\u001b[0;34m=\u001b[0m\u001b[0mnp\u001b[0m\u001b[0;34m.\u001b[0m\u001b[0marray\u001b[0m\u001b[0;34m(\u001b[0m\u001b[0mnp\u001b[0m\u001b[0;34m.\u001b[0m\u001b[0minvert\u001b[0m\u001b[0;34m(\u001b[0m\u001b[0mf2\u001b[0m\u001b[0;34m)\u001b[0m\u001b[0;34m)\u001b[0m\u001b[0;34m\u001b[0m\u001b[0;34m\u001b[0m\u001b[0m\n\u001b[1;32m      5\u001b[0m \u001b[0mf2_cat\u001b[0m \u001b[0;34m=\u001b[0m\u001b[0mf1_cat\u001b[0m\u001b[0;34m[\u001b[0m\u001b[0mf2_inv\u001b[0m\u001b[0;34m*\u001b[0m\u001b[0;34m(\u001b[0m\u001b[0mnp\u001b[0m\u001b[0;34m.\u001b[0m\u001b[0mma\u001b[0m\u001b[0;34m.\u001b[0m\u001b[0mis_masked\u001b[0m\u001b[0;34m(\u001b[0m\u001b[0mf1_cat\u001b[0m\u001b[0;34m[\u001b[0m\u001b[0;34mf'lupt_{choice[1]}'\u001b[0m\u001b[0;34m]\u001b[0m\u001b[0;34m)\u001b[0m \u001b[0;34m==\u001b[0m\u001b[0;32mTrue\u001b[0m\u001b[0;34m)\u001b[0m\u001b[0;34m]\u001b[0m\u001b[0;34m\u001b[0m\u001b[0;34m\u001b[0m\u001b[0m\n",
      "\u001b[0;32mastropy/table/_column_mixins.pyx\u001b[0m in \u001b[0;36mastropy.table._column_mixins._MaskedColumnGetitemShim.__getitem__\u001b[0;34m()\u001b[0m\n",
      "\u001b[0;32mastropy/table/_column_mixins.pyx\u001b[0m in \u001b[0;36mastropy.table._column_mixins.base_getitem\u001b[0;34m()\u001b[0m\n",
      "\u001b[0;32mastropy/table/_column_mixins.pyx\u001b[0m in \u001b[0;36mastropy.table._column_mixins.masked_column_getitem\u001b[0;34m()\u001b[0m\n",
      "\u001b[0;32m~/.local/lib/python3.8/site-packages/numpy/ma/core.py\u001b[0m in \u001b[0;36m__getitem__\u001b[0;34m(self, indx)\u001b[0m\n\u001b[1;32m   3220\u001b[0m         \u001b[0;31m# mask of being reshaped if it hasn't been set up properly yet\u001b[0m\u001b[0;34m\u001b[0m\u001b[0;34m\u001b[0m\u001b[0;34m\u001b[0m\u001b[0m\n\u001b[1;32m   3221\u001b[0m         \u001b[0;31m# So it's easier to stick to the current version\u001b[0m\u001b[0;34m\u001b[0m\u001b[0;34m\u001b[0m\u001b[0;34m\u001b[0m\u001b[0m\n\u001b[0;32m-> 3222\u001b[0;31m         \u001b[0mdout\u001b[0m \u001b[0;34m=\u001b[0m \u001b[0mself\u001b[0m\u001b[0;34m.\u001b[0m\u001b[0mdata\u001b[0m\u001b[0;34m[\u001b[0m\u001b[0mindx\u001b[0m\u001b[0;34m]\u001b[0m\u001b[0;34m\u001b[0m\u001b[0;34m\u001b[0m\u001b[0m\n\u001b[0m\u001b[1;32m   3223\u001b[0m         \u001b[0m_mask\u001b[0m \u001b[0;34m=\u001b[0m \u001b[0mself\u001b[0m\u001b[0;34m.\u001b[0m\u001b[0m_mask\u001b[0m\u001b[0;34m\u001b[0m\u001b[0;34m\u001b[0m\u001b[0m\n\u001b[1;32m   3224\u001b[0m \u001b[0;34m\u001b[0m\u001b[0m\n",
      "\u001b[0;32m~/.local/lib/python3.8/site-packages/astropy/table/column.py\u001b[0m in \u001b[0;36mdata\u001b[0;34m(self)\u001b[0m\n\u001b[1;32m   1692\u001b[0m     \u001b[0;32mdef\u001b[0m \u001b[0mdata\u001b[0m\u001b[0;34m(\u001b[0m\u001b[0mself\u001b[0m\u001b[0;34m)\u001b[0m\u001b[0;34m:\u001b[0m\u001b[0;34m\u001b[0m\u001b[0;34m\u001b[0m\u001b[0m\n\u001b[1;32m   1693\u001b[0m         \u001b[0;34m\"\"\"The plain MaskedArray data held by this column.\"\"\"\u001b[0m\u001b[0;34m\u001b[0m\u001b[0;34m\u001b[0m\u001b[0m\n\u001b[0;32m-> 1694\u001b[0;31m         \u001b[0mout\u001b[0m \u001b[0;34m=\u001b[0m \u001b[0mself\u001b[0m\u001b[0;34m.\u001b[0m\u001b[0mview\u001b[0m\u001b[0;34m(\u001b[0m\u001b[0mnp\u001b[0m\u001b[0;34m.\u001b[0m\u001b[0mma\u001b[0m\u001b[0;34m.\u001b[0m\u001b[0mMaskedArray\u001b[0m\u001b[0;34m)\u001b[0m\u001b[0;34m\u001b[0m\u001b[0;34m\u001b[0m\u001b[0m\n\u001b[0m\u001b[1;32m   1695\u001b[0m         \u001b[0;31m# By default, a MaskedArray view will set the _baseclass to be the\u001b[0m\u001b[0;34m\u001b[0m\u001b[0;34m\u001b[0m\u001b[0;34m\u001b[0m\u001b[0m\n\u001b[1;32m   1696\u001b[0m         \u001b[0;31m# same as that of our own class, i.e., BaseColumn.  Since we want\u001b[0m\u001b[0;34m\u001b[0m\u001b[0;34m\u001b[0m\u001b[0;34m\u001b[0m\u001b[0m\n",
      "\u001b[0;32m~/.local/lib/python3.8/site-packages/numpy/ma/core.py\u001b[0m in \u001b[0;36mview\u001b[0;34m(self, dtype, type, fill_value)\u001b[0m\n\u001b[1;32m   3183\u001b[0m             \u001b[0;32mtry\u001b[0m\u001b[0;34m:\u001b[0m\u001b[0;34m\u001b[0m\u001b[0;34m\u001b[0m\u001b[0m\n\u001b[1;32m   3184\u001b[0m                 \u001b[0;32mif\u001b[0m \u001b[0missubclass\u001b[0m\u001b[0;34m(\u001b[0m\u001b[0mdtype\u001b[0m\u001b[0;34m,\u001b[0m \u001b[0mndarray\u001b[0m\u001b[0;34m)\u001b[0m\u001b[0;34m:\u001b[0m\u001b[0;34m\u001b[0m\u001b[0;34m\u001b[0m\u001b[0m\n\u001b[0;32m-> 3185\u001b[0;31m                     \u001b[0moutput\u001b[0m \u001b[0;34m=\u001b[0m \u001b[0mndarray\u001b[0m\u001b[0;34m.\u001b[0m\u001b[0mview\u001b[0m\u001b[0;34m(\u001b[0m\u001b[0mself\u001b[0m\u001b[0;34m,\u001b[0m \u001b[0mdtype\u001b[0m\u001b[0;34m)\u001b[0m\u001b[0;34m\u001b[0m\u001b[0;34m\u001b[0m\u001b[0m\n\u001b[0m\u001b[1;32m   3186\u001b[0m                     \u001b[0mdtype\u001b[0m \u001b[0;34m=\u001b[0m \u001b[0;32mNone\u001b[0m\u001b[0;34m\u001b[0m\u001b[0;34m\u001b[0m\u001b[0m\n\u001b[1;32m   3187\u001b[0m                 \u001b[0;32melse\u001b[0m\u001b[0;34m:\u001b[0m\u001b[0;34m\u001b[0m\u001b[0;34m\u001b[0m\u001b[0m\n",
      "\u001b[0;32m~/.local/lib/python3.8/site-packages/numpy/ma/core.py\u001b[0m in \u001b[0;36m__array_finalize__\u001b[0;34m(self, obj)\u001b[0m\n\u001b[1;32m   2976\u001b[0m         \"\"\"\n\u001b[1;32m   2977\u001b[0m         \u001b[0;31m# Get main attributes.\u001b[0m\u001b[0;34m\u001b[0m\u001b[0;34m\u001b[0m\u001b[0;34m\u001b[0m\u001b[0m\n\u001b[0;32m-> 2978\u001b[0;31m         \u001b[0mself\u001b[0m\u001b[0;34m.\u001b[0m\u001b[0m_update_from\u001b[0m\u001b[0;34m(\u001b[0m\u001b[0mobj\u001b[0m\u001b[0;34m)\u001b[0m\u001b[0;34m\u001b[0m\u001b[0;34m\u001b[0m\u001b[0m\n\u001b[0m\u001b[1;32m   2979\u001b[0m \u001b[0;34m\u001b[0m\u001b[0m\n\u001b[1;32m   2980\u001b[0m         \u001b[0;31m# We have to decide how to initialize self.mask, based on\u001b[0m\u001b[0;34m\u001b[0m\u001b[0;34m\u001b[0m\u001b[0;34m\u001b[0m\u001b[0m\n",
      "\u001b[0;32m~/.local/lib/python3.8/site-packages/numpy/ma/core.py\u001b[0m in \u001b[0;36m_update_from\u001b[0;34m(self, obj)\u001b[0m\n\u001b[1;32m   2955\u001b[0m         \u001b[0;31m# We need to copy the _basedict to avoid backward propagation\u001b[0m\u001b[0;34m\u001b[0m\u001b[0;34m\u001b[0m\u001b[0;34m\u001b[0m\u001b[0m\n\u001b[1;32m   2956\u001b[0m         \u001b[0m_optinfo\u001b[0m \u001b[0;34m=\u001b[0m \u001b[0;34m{\u001b[0m\u001b[0;34m}\u001b[0m\u001b[0;34m\u001b[0m\u001b[0;34m\u001b[0m\u001b[0m\n\u001b[0;32m-> 2957\u001b[0;31m         \u001b[0m_optinfo\u001b[0m\u001b[0;34m.\u001b[0m\u001b[0mupdate\u001b[0m\u001b[0;34m(\u001b[0m\u001b[0mgetattr\u001b[0m\u001b[0;34m(\u001b[0m\u001b[0mobj\u001b[0m\u001b[0;34m,\u001b[0m \u001b[0;34m'_optinfo'\u001b[0m\u001b[0;34m,\u001b[0m \u001b[0;34m{\u001b[0m\u001b[0;34m}\u001b[0m\u001b[0;34m)\u001b[0m\u001b[0;34m)\u001b[0m\u001b[0;34m\u001b[0m\u001b[0;34m\u001b[0m\u001b[0m\n\u001b[0m\u001b[1;32m   2958\u001b[0m         \u001b[0m_optinfo\u001b[0m\u001b[0;34m.\u001b[0m\u001b[0mupdate\u001b[0m\u001b[0;34m(\u001b[0m\u001b[0mgetattr\u001b[0m\u001b[0;34m(\u001b[0m\u001b[0mobj\u001b[0m\u001b[0;34m,\u001b[0m \u001b[0;34m'_basedict'\u001b[0m\u001b[0;34m,\u001b[0m \u001b[0;34m{\u001b[0m\u001b[0;34m}\u001b[0m\u001b[0;34m)\u001b[0m\u001b[0;34m)\u001b[0m\u001b[0;34m\u001b[0m\u001b[0;34m\u001b[0m\u001b[0m\n\u001b[1;32m   2959\u001b[0m         \u001b[0;32mif\u001b[0m \u001b[0;32mnot\u001b[0m \u001b[0misinstance\u001b[0m\u001b[0;34m(\u001b[0m\u001b[0mobj\u001b[0m\u001b[0;34m,\u001b[0m \u001b[0mMaskedArray\u001b[0m\u001b[0;34m)\u001b[0m\u001b[0;34m:\u001b[0m\u001b[0;34m\u001b[0m\u001b[0;34m\u001b[0m\u001b[0m\n",
      "\u001b[0;31mKeyboardInterrupt\u001b[0m: "
     ]
    }
   ],
   "source": [
    "\n",
    "f2=[]\n",
    "for i in range(len(f1_cat)):\n",
    "    f2.append(np.ma.is_masked(f1_cat[f'lupt_{choice[1]}'][i]))\n",
    "f2_inv=np.array(np.invert(f2))\n",
    "f2_cat =f1_cat[f2_inv*(np.ma.is_masked(f1_cat[f'lupt_{choice[1]}']) ==True)] "
   ]
  },
  {
   "cell_type": "code",
   "execution_count": null,
   "id": "cf8378a1",
   "metadata": {},
   "outputs": [],
   "source": [
    "\n",
    "f3=[]\n",
    "for i in range(len(f2_cat)):\n",
    "    f3.append(np.ma.is_masked(f2_cat[f'lupt_{choice[2]}'][i]))\n",
    "f3_inv=np.array(np.invert(f3))\n",
    "f3_cat =f2_cat[f3_inv*(np.ma.is_masked(f2_cat[f'lupt_{choice[2]}']) == True)] "
   ]
  },
  {
   "cell_type": "code",
   "execution_count": null,
   "id": "852aec0f",
   "metadata": {},
   "outputs": [],
   "source": [
    "\n",
    "f4=[]\n",
    "for i in range(len(f3_cat)):\n",
    "    f4.append(np.ma.is_masked(f3_cat[f'lupt_{choice[3]}'][i]))\n",
    "f4_inv=np.array(np.invert(f4))\n",
    "f4_cat =f3_cat[f4_inv*(np.ma.is_masked(f3_cat[f'lupt_{choice[3]}']) == True)] #false idk why but works \n"
   ]
  },
  {
   "cell_type": "code",
   "execution_count": null,
   "id": "9f1eaed0",
   "metadata": {},
   "outputs": [],
   "source": [
    "len(f4_cat)\n"
   ]
  },
  {
   "cell_type": "code",
   "execution_count": null,
   "id": "8bcae069",
   "metadata": {},
   "outputs": [],
   "source": []
  },
  {
   "cell_type": "code",
   "execution_count": 206,
   "id": "917b926c",
   "metadata": {},
   "outputs": [],
   "source": [
    "#USE IF USING 5TH FILTER\n",
    "f5=[]\n",
    "for i in range(len(f4_cat)):\n",
    "    f5.append(np.ma.is_masked(f4_cat[f'lupt_{choice[4]}'][i]))\n",
    "f5_inv=np.array(np.invert(f5))\n",
    "f5_cat =f4_cat[f5_inv*(np.ma.is_masked(f4_cat[f'lupterr_{choice[4]}']) ==True)] "
   ]
  },
  {
   "cell_type": "code",
   "execution_count": 207,
   "id": "da15c434",
   "metadata": {},
   "outputs": [
    {
     "data": {
      "text/html": [
       "<div><i>Table length=293982</i>\n",
       "<table id=\"table140388372333568\" class=\"table-striped table-bordered table-condensed\">\n",
       "<thead><tr><th>field</th><th>id</th><th>ra</th><th>dec</th><th>z_spec</th><th>lupt_f090w-clear</th><th>lupterr_f090w-clear</th><th>lupt_f115w-clear</th><th>lupterr_f115w-clear</th><th>lupt_f200w-clear</th><th>lupterr_f200w-clear</th><th>lupt_f356w-clear</th><th>lupterr_f356w-clear</th><th>lupt_f444w-clear</th><th>lupterr_f444w-clear</th></tr></thead>\n",
       "<thead><tr><th>bytes13</th><th>int64</th><th>float64</th><th>float64</th><th>float64</th><th>float64</th><th>float64</th><th>float64</th><th>float64</th><th>float64</th><th>float64</th><th>float64</th><th>float64</th><th>float64</th><th>float64</th></tr></thead>\n",
       "<tr><td>gds</td><td>84442</td><td>53.15312069395635</td><td>-27.838176619557473</td><td>nan</td><td>28.612175640219032</td><td>0.2740563517380495</td><td>28.955336994740783</td><td>0.2541191639307682</td><td>28.79300111207098</td><td>0.20977400294945572</td><td>28.353119983415915</td><td>0.2077802158545767</td><td>28.732885898421937</td><td>0.27739644366943716</td></tr>\n",
       "<tr><td>gds</td><td>84497</td><td>53.15289046837419</td><td>-27.837962940589613</td><td>nan</td><td>29.37486723005038</td><td>0.36555056062776314</td><td>29.20133084676431</td><td>0.22129053601786838</td><td>28.66546360657941</td><td>0.1341152749638822</td><td>29.20896013934385</td><td>0.2285537834515071</td><td>29.253423374867328</td><td>0.3326005913373959</td></tr>\n",
       "<tr><td>gds</td><td>84575</td><td>53.15347458317748</td><td>-27.837668623936302</td><td>nan</td><td>31.64451314530344</td><td>0.8494922502249955</td><td>32.23971437036588</td><td>0.5996287757200772</td><td>29.72458767966508</td><td>0.36546820612283487</td><td>29.67425716358448</td><td>0.19547558305926696</td><td>29.86648266233793</td><td>0.3232244108284005</td></tr>\n",
       "<tr><td>gds</td><td>84577</td><td>53.15386257673715</td><td>-27.837670340874553</td><td>nan</td><td>32.82892570664863</td><td>1.4275567550112025</td><td>31.895089910168817</td><td>1.6319610449905384</td><td>29.322752498840554</td><td>1.611865596755323</td><td>28.77578482893785</td><td>0.08840346025561312</td><td>28.62911633573584</td><td>0.11600543747643308</td></tr>\n",
       "<tr><td>gds</td><td>84670</td><td>53.15149276335404</td><td>-27.83742668764051</td><td>nan</td><td>29.39296643552126</td><td>0.46682217768207207</td><td>29.149674154163687</td><td>0.26313118344013003</td><td>27.672377675478504</td><td>0.06574206645170373</td><td>27.598743141150113</td><td>0.1937196867600376</td><td>27.728986228847532</td><td>0.13451501487082337</td></tr>\n",
       "<tr><td>gds</td><td>84725</td><td>53.15301942075186</td><td>-27.83775628902553</td><td>0.5339</td><td>24.91050868591555</td><td>0.006404395334493787</td><td>24.73429056531034</td><td>0.004676804186425011</td><td>24.530776151626515</td><td>0.004072246901030708</td><td>25.01185123675668</td><td>0.005154757565680513</td><td>25.381556880385755</td><td>0.008269700452996393</td></tr>\n",
       "<tr><td>gds</td><td>84726</td><td>53.15314977966602</td><td>-27.83738143341791</td><td>0.0</td><td>27.2111200756424</td><td>0.04519461196303408</td><td>26.985009222214124</td><td>0.025845578887532254</td><td>25.70894302471603</td><td>0.009012655307659757</td><td>25.805387910815007</td><td>0.008347199371830523</td><td>25.75854132382422</td><td>0.010011888195632496</td></tr>\n",
       "<tr><td>gds</td><td>84736</td><td>53.15241287527497</td><td>-27.837312051327448</td><td>nan</td><td>28.874696763131578</td><td>0.20188934270042702</td><td>28.73768074392995</td><td>0.12025137531004831</td><td>28.258733086016797</td><td>0.07623110695728895</td><td>27.99628403949516</td><td>0.04536571579235782</td><td>28.150719716037774</td><td>0.07604536373074855</td></tr>\n",
       "<tr><td>gds</td><td>84737</td><td>53.15257421226139</td><td>-27.837291600032096</td><td>0.0</td><td>26.931042514897783</td><td>0.03373483897206528</td><td>26.36188938164233</td><td>0.015375059386950097</td><td>26.016987108418213</td><td>0.011390005354670723</td><td>26.07302104217229</td><td>0.009674997704992168</td><td>26.111820101520667</td><td>0.013116002129996885</td></tr>\n",
       "<tr><td>gds</td><td>84743</td><td>53.15368367926603</td><td>-27.837382266714968</td><td>nan</td><td>28.4693136695759</td><td>0.18290358831094028</td><td>27.829050506941222</td><td>0.07222398578834395</td><td>27.586449732955547</td><td>0.05827164204247269</td><td>27.659200278360448</td><td>0.034618958572424995</td><td>28.088386764111508</td><td>0.07042032981738092</td></tr>\n",
       "<tr><td>...</td><td>...</td><td>...</td><td>...</td><td>...</td><td>...</td><td>...</td><td>...</td><td>...</td><td>...</td><td>...</td><td>...</td><td>...</td><td>...</td><td>...</td></tr>\n",
       "<tr><td>sunrise</td><td>530516</td><td>24.348616196574184</td><td>-8.388370132804898</td><td>nan</td><td>27.528698268321996</td><td>0.23059397671241474</td><td>28.245149989005697</td><td>0.4235124660652927</td><td>27.861057074685174</td><td>0.2300738441082878</td><td>29.05793707736308</td><td>0.45056809516281504</td><td>30.119796352032832</td><td>0.6959509584298115</td></tr>\n",
       "<tr><td>sunrise</td><td>530517</td><td>24.35200311622535</td><td>-8.388430504337059</td><td>nan</td><td>24.391414854451742</td><td>0.014108030497875883</td><td>24.103813224726384</td><td>0.010862294503900178</td><td>24.14152305648234</td><td>0.008090771388367756</td><td>25.073352459513565</td><td>0.024500314930982578</td><td>25.54959578865591</td><td>0.046391454605321604</td></tr>\n",
       "<tr><td>sunrise</td><td>530518</td><td>24.35207329155662</td><td>-8.388324632634458</td><td>nan</td><td>28.381503732891517</td><td>0.46548337905840853</td><td>27.70293472013021</td><td>0.2790532326298241</td><td>27.43333588388903</td><td>0.15617381890622548</td><td>27.32605165156386</td><td>0.1423171033207981</td><td>27.711327751116908</td><td>0.3053771364205826</td></tr>\n",
       "<tr><td>sunrise</td><td>530519</td><td>24.350754465768464</td><td>-8.388285648049125</td><td>nan</td><td>28.423613839778906</td><td>0.5628342090250396</td><td>28.29077654283651</td><td>0.4625605568307056</td><td>30.370930707939447</td><td>0.6654973813330938</td><td>28.401668131169043</td><td>0.26094056997190734</td><td>28.388518375807248</td><td>0.37119935291534406</td></tr>\n",
       "<tr><td>sunrise</td><td>530520</td><td>24.35069000080643</td><td>-8.387912082496785</td><td>nan</td><td>24.945631459662234</td><td>0.022716622821176605</td><td>24.534695210927993</td><td>0.016446587177260902</td><td>24.093038895621014</td><td>0.007748642649803693</td><td>23.825358508009256</td><td>0.004602758582787299</td><td>23.970733611427416</td><td>0.007449909468241394</td></tr>\n",
       "<tr><td>sunrise</td><td>530521</td><td>24.35014284404191</td><td>-8.387709943341601</td><td>nan</td><td>30.673186608031983</td><td>0.4550576169620878</td><td>30.848904053506843</td><td>0.3940468110046582</td><td>29.75100279778075</td><td>0.7533031118207218</td><td>27.709463146499736</td><td>0.1880852296552307</td><td>27.286289287430964</td><td>0.4874561586991723</td></tr>\n",
       "<tr><td>sunrise</td><td>530522</td><td>24.349442250368472</td><td>-8.388242453831015</td><td>nan</td><td>26.906851015168574</td><td>0.1328061921799578</td><td>26.70199014413654</td><td>0.1155998656603166</td><td>26.180342886234904</td><td>0.05071053769370253</td><td>25.814943072906058</td><td>0.025337640851251807</td><td>25.50646696620567</td><td>0.029652736382586385</td></tr>\n",
       "<tr><td>sunrise</td><td>530523</td><td>24.35152168659832</td><td>-8.387736182804973</td><td>nan</td><td>26.47533645129002</td><td>0.1304587267594219</td><td>26.470880714874177</td><td>0.8886947026673373</td><td>26.250887470993916</td><td>0.09013746871887664</td><td>26.865608457715105</td><td>0.09394267820567677</td><td>27.355091038683955</td><td>0.22120475932988598</td></tr>\n",
       "<tr><td>sunrise</td><td>530524</td><td>24.351932307794186</td><td>-8.387461901633543</td><td>nan</td><td>26.177285291385285</td><td>0.6827485842740415</td><td>25.81033396638703</td><td>0.07327152867506714</td><td>25.473610770653444</td><td>0.18663514086550892</td><td>25.342383417258706</td><td>0.32584886684267644</td><td>25.34469940955841</td><td>0.03592768536037745</td></tr>\n",
       "<tr><td>sunrise</td><td>530525</td><td>24.35127497567209</td><td>-8.387325413931277</td><td>nan</td><td>26.864633158545114</td><td>0.186027901812462</td><td>28.066935628451688</td><td>0.5600383123858393</td><td>26.89681820041117</td><td>0.1398167039623767</td><td>26.09567133286381</td><td>0.17170692340674315</td><td>26.136966365418637</td><td>0.08293226502524102</td></tr>\n",
       "</table></div>"
      ],
      "text/plain": [
       "<Table length=293982>\n",
       " field    id           ra         ...  lupt_f444w-clear  lupterr_f444w-clear \n",
       "bytes13 int64       float64       ...      float64             float64       \n",
       "------- ------ ------------------ ... ------------------ --------------------\n",
       "    gds  84442  53.15312069395635 ... 28.732885898421937  0.27739644366943716\n",
       "    gds  84497  53.15289046837419 ... 29.253423374867328   0.3326005913373959\n",
       "    gds  84575  53.15347458317748 ...  29.86648266233793   0.3232244108284005\n",
       "    gds  84577  53.15386257673715 ...  28.62911633573584  0.11600543747643308\n",
       "    gds  84670  53.15149276335404 ... 27.728986228847532  0.13451501487082337\n",
       "    gds  84725  53.15301942075186 ... 25.381556880385755 0.008269700452996393\n",
       "    gds  84726  53.15314977966602 ...  25.75854132382422 0.010011888195632496\n",
       "    gds  84736  53.15241287527497 ... 28.150719716037774  0.07604536373074855\n",
       "    gds  84737  53.15257421226139 ... 26.111820101520667 0.013116002129996885\n",
       "    gds  84743  53.15368367926603 ... 28.088386764111508  0.07042032981738092\n",
       "    ...    ...                ... ...                ...                  ...\n",
       "sunrise 530516 24.348616196574184 ... 30.119796352032832   0.6959509584298115\n",
       "sunrise 530517  24.35200311622535 ...  25.54959578865591 0.046391454605321604\n",
       "sunrise 530518  24.35207329155662 ... 27.711327751116908   0.3053771364205826\n",
       "sunrise 530519 24.350754465768464 ... 28.388518375807248  0.37119935291534406\n",
       "sunrise 530520  24.35069000080643 ... 23.970733611427416 0.007449909468241394\n",
       "sunrise 530521  24.35014284404191 ... 27.286289287430964   0.4874561586991723\n",
       "sunrise 530522 24.349442250368472 ...  25.50646696620567 0.029652736382586385\n",
       "sunrise 530523  24.35152168659832 ... 27.355091038683955  0.22120475932988598\n",
       "sunrise 530524 24.351932307794186 ...  25.34469940955841  0.03592768536037745\n",
       "sunrise 530525  24.35127497567209 ... 26.136966365418637  0.08293226502524102"
      ]
     },
     "execution_count": 207,
     "metadata": {},
     "output_type": "execute_result"
    }
   ],
   "source": [
    "f5_cat"
   ]
  },
  {
   "cell_type": "code",
   "execution_count": 208,
   "id": "5fc791b4",
   "metadata": {},
   "outputs": [],
   "source": [
    "f4_cat.write(f'MPhys/gmm_files/{swap[num]}_luptitude_full_catalogue.fits',format='fits',overwrite=True)\n",
    "#f5_cat.write(f'MPhys/base_filter_permutations/base_filter_permutations/size/informed_choice_size.cat',format = 'ascii.commented_header',overwrite=True)"
   ]
  },
  {
   "cell_type": "code",
   "execution_count": 209,
   "id": "c79e9e01",
   "metadata": {},
   "outputs": [],
   "source": [
    "f5_cat['z_spec'][f5_cat['z_spec']==0]=np.nan"
   ]
  },
  {
   "cell_type": "code",
   "execution_count": 210,
   "id": "8be66526",
   "metadata": {},
   "outputs": [],
   "source": [
    "#MAKE THE TRAINING CATALOGUE\n",
    "#USE IF USING 5TH FILTER\n",
    "training=[]\n",
    "for i in range(len(f5_cat)):\n",
    "    training.append(np.isnan(f5_cat['z_spec'][i]))\n",
    "training_inv=np.array(np.invert(training))\n",
    "training_cat =f5_cat[training_inv*(np.isnan(f5_cat['z_spec']) == False)] "
   ]
  },
  {
   "cell_type": "code",
   "execution_count": 211,
   "id": "0187c050",
   "metadata": {},
   "outputs": [
    {
     "data": {
      "text/html": [
       "<div><i>Table length=9449</i>\n",
       "<table id=\"table140388372559472\" class=\"table-striped table-bordered table-condensed\">\n",
       "<thead><tr><th>field</th><th>id</th><th>ra</th><th>dec</th><th>z_spec</th><th>lupt_f090w-clear</th><th>lupterr_f090w-clear</th><th>lupt_f115w-clear</th><th>lupterr_f115w-clear</th><th>lupt_f200w-clear</th><th>lupterr_f200w-clear</th><th>lupt_f356w-clear</th><th>lupterr_f356w-clear</th><th>lupt_f444w-clear</th><th>lupterr_f444w-clear</th></tr></thead>\n",
       "<thead><tr><th>bytes13</th><th>int64</th><th>float64</th><th>float64</th><th>float64</th><th>float64</th><th>float64</th><th>float64</th><th>float64</th><th>float64</th><th>float64</th><th>float64</th><th>float64</th><th>float64</th><th>float64</th></tr></thead>\n",
       "<tr><td>gds</td><td>84725</td><td>53.15301942075186</td><td>-27.83775628902553</td><td>0.5339</td><td>24.91050868591555</td><td>0.006404395334493787</td><td>24.73429056531034</td><td>0.004676804186425011</td><td>24.530776151626515</td><td>0.004072246901030708</td><td>25.01185123675668</td><td>0.005154757565680513</td><td>25.381556880385755</td><td>0.008269700452996393</td></tr>\n",
       "<tr><td>gds</td><td>84744</td><td>53.153991711952344</td><td>-27.837274309050876</td><td>1.1394</td><td>25.41308877541038</td><td>0.016138011174590072</td><td>25.139831224739318</td><td>0.00936399993006501</td><td>25.23977879461196</td><td>0.010596798597185472</td><td>25.233086086984343</td><td>0.005518340182648722</td><td>25.382431187510758</td><td>0.007407168907608066</td></tr>\n",
       "<tr><td>gds</td><td>84977</td><td>53.15389042457367</td><td>-27.836643209982824</td><td>0.6885</td><td>25.208488267816715</td><td>0.008658340660559592</td><td>25.078414070398104</td><td>0.006220397393249812</td><td>24.9783384163022</td><td>0.005747721056549976</td><td>25.27513339402176</td><td>0.005810394340221271</td><td>25.68865792410201</td><td>0.009234717807439096</td></tr>\n",
       "<tr><td>gds</td><td>85072</td><td>53.15450603869377</td><td>-27.836557483758842</td><td>2.027</td><td>26.120012508617982</td><td>0.03451728861077329</td><td>25.521578215407796</td><td>0.01438220062642559</td><td>25.012041723832656</td><td>0.009885089402746133</td><td>24.919314247755416</td><td>0.004627886636087988</td><td>24.888390662813556</td><td>0.00529955792727953</td></tr>\n",
       "<tr><td>gds</td><td>85628</td><td>53.14627357416206</td><td>-27.83460668288939</td><td>5.1629</td><td>27.140842730853688</td><td>0.04553023623342922</td><td>26.909747412097893</td><td>0.02639729083575395</td><td>26.70359636133943</td><td>0.0215940973317694</td><td>26.931545839136984</td><td>0.025949317001213345</td><td>26.217300880234372</td><td>0.019464483496084293</td></tr>\n",
       "<tr><td>gds</td><td>85640</td><td>53.14859111280495</td><td>-27.834988357410623</td><td>0.0377</td><td>25.436756684118507</td><td>0.00955892578640426</td><td>25.33867084161439</td><td>0.0070550838714465314</td><td>25.53270043785423</td><td>0.007936226340446806</td><td>26.554605796704255</td><td>0.01377767941190054</td><td>26.952983198825635</td><td>0.0263457451662863</td></tr>\n",
       "<tr><td>gds</td><td>85903</td><td>53.15021655422448</td><td>-27.834594996128725</td><td>1.612</td><td>24.101255796547424</td><td>0.0035746003537348195</td><td>22.607435583125444</td><td>0.0014040130286821998</td><td>21.809334802196037</td><td>0.0009487945507877301</td><td>21.404068187330093</td><td>0.0007751849305806351</td><td>21.315128571524202</td><td>0.0007507341220355967</td></tr>\n",
       "<tr><td>gds</td><td>85922</td><td>53.15218689808116</td><td>-27.835171241305126</td><td>0.9891</td><td>23.574840895612738</td><td>0.002561098323294711</td><td>23.12330134380971</td><td>0.0018280459102243763</td><td>22.502432693516496</td><td>0.0013285554911403586</td><td>22.48341357307042</td><td>0.0012907407104712787</td><td>22.85495803203944</td><td>0.0015963398009391132</td></tr>\n",
       "<tr><td>gds</td><td>85924</td><td>53.15250869248979</td><td>-27.834380266470944</td><td>0.719</td><td>23.9867993014355</td><td>0.0034108123390193027</td><td>23.55521697594587</td><td>0.002306300675889817</td><td>22.993425724132667</td><td>0.0017008800662767093</td><td>22.97658705703089</td><td>0.001642067791576103</td><td>23.359214088505286</td><td>0.002100778155888657</td></tr>\n",
       "<tr><td>gds</td><td>86123</td><td>53.147808712096534</td><td>-27.83363546137939</td><td>0.5454</td><td>24.74448585552633</td><td>0.005656061712974536</td><td>24.4690921815436</td><td>0.003939453352113666</td><td>24.249091761005264</td><td>0.0034014547227122745</td><td>24.661329788380378</td><td>0.00399667548576334</td><td>25.00714228110411</td><td>0.005833760184729011</td></tr>\n",
       "<tr><td>...</td><td>...</td><td>...</td><td>...</td><td>...</td><td>...</td><td>...</td><td>...</td><td>...</td><td>...</td><td>...</td><td>...</td><td>...</td><td>...</td><td>...</td></tr>\n",
       "<tr><td>cosmos_west</td><td>440391</td><td>150.12196747389396</td><td>2.46150865901628</td><td>0.3673</td><td>23.529816033284757</td><td>0.005515776715751383</td><td>23.385741278982177</td><td>0.004761759222062249</td><td>23.186784466347234</td><td>0.003097925560725122</td><td>23.8499070084514</td><td>0.004209095352889139</td><td>24.05854918809842</td><td>0.006726051468302317</td></tr>\n",
       "<tr><td>cosmos_west</td><td>440393</td><td>150.1220770501913</td><td>2.469526082083545</td><td>1.5935</td><td>24.709654972693695</td><td>0.01703218689460615</td><td>24.196244832260902</td><td>0.01004927935389498</td><td>23.28799637801242</td><td>0.004646752965191403</td><td>22.867842084935397</td><td>0.002536750999141757</td><td>22.733525577652138</td><td>0.0029523679842621254</td></tr>\n",
       "<tr><td>cosmos_west</td><td>440394</td><td>150.12206022698538</td><td>2.4701900414054854</td><td>1.5935</td><td>24.15696257011136</td><td>0.009701773729607002</td><td>23.873110739918854</td><td>0.007663896344247914</td><td>23.477234267878437</td><td>0.005427842671833233</td><td>23.329010150493517</td><td>0.003421002952957117</td><td>23.24602192612904</td><td>0.004209650376227184</td></tr>\n",
       "<tr><td>cosmos_west</td><td>440396</td><td>150.1168466239417</td><td>2.4518577628006306</td><td>0.748</td><td>23.75951833271377</td><td>0.005727070532439792</td><td>23.411748203495467</td><td>0.004159139691483706</td><td>22.806209478886952</td><td>0.0023495098128327964</td><td>22.795162101292885</td><td>0.0018650631381256142</td><td>23.141163577169564</td><td>0.0029048223691262973</td></tr>\n",
       "<tr><td>cosmos_west</td><td>440397</td><td>150.12334319599307</td><td>2.460830462981486</td><td>1.6552</td><td>25.224070420861565</td><td>0.0251340546311995</td><td>24.428434927425133</td><td>0.011833587388920905</td><td>23.760657770318574</td><td>0.004954531632502995</td><td>23.48613667430884</td><td>0.0031406783957964334</td><td>23.39014254671924</td><td>0.003781522085762356</td></tr>\n",
       "<tr><td>cosmos_west</td><td>440422</td><td>150.1302553164553</td><td>2.47262933956504</td><td>0.7015</td><td>24.24637480637828</td><td>0.01050302494108447</td><td>24.021887345180982</td><td>0.008702789614728501</td><td>23.22631835986288</td><td>0.004454184947355493</td><td>23.421840953390483</td><td>0.0034519393766305625</td><td>23.720897576005402</td><td>0.006774115969746443</td></tr>\n",
       "<tr><td>cosmos_west</td><td>440640</td><td>150.11919986039385</td><td>2.4775209411055314</td><td>0.375</td><td>21.447509079892466</td><td>0.0010990238635851803</td><td>20.96069366014578</td><td>0.0009543648606939484</td><td>20.165305775215764</td><td>0.0004973704883794343</td><td>20.687443427214824</td><td>0.0006015352781739225</td><td>20.74695789641253</td><td>0.000677785429393657</td></tr>\n",
       "<tr><td>cosmos_west</td><td>440788</td><td>150.12772539621585</td><td>2.481505325455564</td><td>1.873</td><td>25.8853555153901</td><td>0.06997489181308938</td><td>24.81884701207013</td><td>0.025294344513541515</td><td>23.711932007789358</td><td>0.006898918815515652</td><td>22.988214254509295</td><td>0.0024061607957702705</td><td>22.710697768353224</td><td>0.002692014934997304</td></tr>\n",
       "<tr><td>cosmos_west</td><td>440809</td><td>150.1201847942948</td><td>2.482246277506186</td><td>2.4794</td><td>25.608339324233917</td><td>0.035591833427256706</td><td>25.009838172877952</td><td>0.020617914724651878</td><td>23.754657544177665</td><td>0.007067705716748309</td><td>23.46445595393727</td><td>0.0034621550334415787</td><td>23.251233916913392</td><td>0.004124024194435828</td></tr>\n",
       "<tr><td>cosmos_west</td><td>440863</td><td>150.12337605270062</td><td>2.4826645999357293</td><td>0.8884</td><td>22.155607065009402</td><td>0.0018196592530184499</td><td>21.44540081860591</td><td>0.0013518503231519676</td><td>20.548559754411947</td><td>0.0006195384641891108</td><td>20.376345424823707</td><td>0.0005134010552538999</td><td>20.72944812690629</td><td>0.0006720178644503698</td></tr>\n",
       "</table></div>"
      ],
      "text/plain": [
       "<Table length=9449>\n",
       "   field      id   ...  lupt_f444w-clear   lupterr_f444w-clear \n",
       "  bytes13   int64  ...      float64              float64       \n",
       "----------- ------ ... ------------------ ---------------------\n",
       "        gds  84725 ... 25.381556880385755  0.008269700452996393\n",
       "        gds  84744 ... 25.382431187510758  0.007407168907608066\n",
       "        gds  84977 ...  25.68865792410201  0.009234717807439096\n",
       "        gds  85072 ... 24.888390662813556   0.00529955792727953\n",
       "        gds  85628 ... 26.217300880234372  0.019464483496084293\n",
       "        gds  85640 ... 26.952983198825635    0.0263457451662863\n",
       "        gds  85903 ... 21.315128571524202 0.0007507341220355967\n",
       "        gds  85922 ...  22.85495803203944 0.0015963398009391132\n",
       "        gds  85924 ... 23.359214088505286  0.002100778155888657\n",
       "        gds  86123 ...  25.00714228110411  0.005833760184729011\n",
       "        ...    ... ...                ...                   ...\n",
       "cosmos_west 440391 ...  24.05854918809842  0.006726051468302317\n",
       "cosmos_west 440393 ... 22.733525577652138 0.0029523679842621254\n",
       "cosmos_west 440394 ...  23.24602192612904  0.004209650376227184\n",
       "cosmos_west 440396 ... 23.141163577169564 0.0029048223691262973\n",
       "cosmos_west 440397 ...  23.39014254671924  0.003781522085762356\n",
       "cosmos_west 440422 ... 23.720897576005402  0.006774115969746443\n",
       "cosmos_west 440640 ...  20.74695789641253  0.000677785429393657\n",
       "cosmos_west 440788 ... 22.710697768353224  0.002692014934997304\n",
       "cosmos_west 440809 ... 23.251233916913392  0.004124024194435828\n",
       "cosmos_west 440863 ...  20.72944812690629 0.0006720178644503698"
      ]
     },
     "execution_count": 211,
     "metadata": {},
     "output_type": "execute_result"
    }
   ],
   "source": [
    "training_cat"
   ]
  },
  {
   "cell_type": "code",
   "execution_count": 212,
   "id": "1fcb9513",
   "metadata": {},
   "outputs": [],
   "source": [
    "training_cat.write(f'MPhys/gpz_catalogues/{swap[num]}_full_training_cat.cat',format='ascii.commented_header',overwrite=True)"
   ]
  },
  {
   "cell_type": "code",
   "execution_count": 2,
   "id": "c7a1b2b6",
   "metadata": {},
   "outputs": [],
   "source": [
    "#REGULAR\n",
    "\n",
    "\n",
    "t_full =Table.read(f'MPhys/gpz_catalogues/bc_full_training_cat.cat',format = 'ascii.commented_header')\n",
    "#t_full = training_cat\n",
    "train_sample = int(len(t_full)*0.8)\n",
    "t = t_full[0:train_sample]\n",
    "p = t_full[train_sample:-1]\n",
    "#t.write(f'MPhys/gpz_catalogues/reg/TRAIN/train_{swap[num]}.cat',format = 'ascii.commented_header',overwrite=True)\n",
    "#p.write(f'MPhys/gpz_catalogues/reg/PRED/pred_{swap[num]}.cat',format = 'ascii.commented_header',overwrite=True)"
   ]
  },
  {
   "cell_type": "markdown",
   "id": "c1b12ba3",
   "metadata": {},
   "source": [
    "# Split into high and low redshift\n"
   ]
  },
  {
   "cell_type": "code",
   "execution_count": 3,
   "id": "f3fc64cd",
   "metadata": {},
   "outputs": [],
   "source": [
    "from numpy import random as np_random"
   ]
  },
  {
   "cell_type": "code",
   "execution_count": 89,
   "id": "301aab26",
   "metadata": {},
   "outputs": [],
   "source": [
    "\n",
    "#t_full =Table.read('MPhys/gmm_files/bc_training_cat.cat',format = 'ascii.commented_header')\n",
    "t_full.sort('z_spec')\n",
    "z= t_full['z_spec']\n",
    "\n",
    "#print(z)\n"
   ]
  },
  {
   "cell_type": "code",
   "execution_count": 62,
   "id": "c9e18615",
   "metadata": {},
   "outputs": [
    {
     "name": "stdout",
     "output_type": "stream",
     "text": [
      "11.44\n"
     ]
    }
   ],
   "source": [
    "bins = np.linspace(np.min(z),np.max(z),7)\n",
    "print(bins[6])"
   ]
  },
  {
   "cell_type": "code",
   "execution_count": 92,
   "id": "91309f86",
   "metadata": {},
   "outputs": [
    {
     "name": "stdout",
     "output_type": "stream",
     "text": [
      "[12034, 12035, 12036, 12037]\n"
     ]
    }
   ],
   "source": [
    "\n",
    "bins = np.linspace(np.min(z),np.max(z),5)\n",
    "bin1=[]\n",
    "bin2=[]\n",
    "bin3=[]\n",
    "bin4=[]\n",
    "bin5=[]\n",
    "bin6=[]\n",
    "for i in range(len(z)):\n",
    "    if bins[0]<=z[i]<=bins[1]:\n",
    "        bin1.append(i)\n",
    "    elif bins[1]<=z[i]<=bins[2]:\n",
    "        bin2.append(i)\n",
    "    elif bins[2]<=z[i]<=bins[3]:\n",
    "        bin3.append(i)\n",
    "    elif bins[3]<=z[i]<=bins[4]:\n",
    "        bin4.append(i)\n",
    "    #elif bins[4]<=z[i]<=bins[5]:\n",
    "    #    bin5.append(z[i])\n",
    "    ##elif bins[5]<=z[i]<=bins[6]:\n",
    "    #    bin6.append(z[i])\n",
    "print(bin4)"
   ]
  },
  {
   "cell_type": "code",
   "execution_count": 95,
   "id": "5dde161e",
   "metadata": {},
   "outputs": [],
   "source": [
    "low = t_full[bin1]\n",
    "h2= t_full[bin2]\n",
    "h3= t_full[bin3]\n",
    "h4= t_full[bin4]"
   ]
  },
  {
   "cell_type": "code",
   "execution_count": 98,
   "id": "afce9809",
   "metadata": {},
   "outputs": [],
   "source": [
    "low_lim = int(len(low)*0.8)\n",
    "np_random.permutation(low)\n",
    "t_low = low[0:low_lim]\n",
    "p_low = low[low_lim:-1]\n",
    "t_low.write(f'MPhys/gpz_catalogues/reg_z_split/lowz/TRAIN/train_lowz_bc_test.cat',format = 'ascii.commented_header',overwrite=True)\n",
    "p_low.write(f'MPhys/gpz_catalogues/reg_z_split/lowz/PRED/train_lowz_bc_test.cat',format = 'ascii.commented_header',overwrite=True)"
   ]
  },
  {
   "cell_type": "code",
   "execution_count": 119,
   "id": "a2338330",
   "metadata": {},
   "outputs": [],
   "source": [
    "h2_lim = int(len(h2)*0.8)\n",
    "np_random.permutation(h2)\n",
    "t_h2 = h2[0:h2_lim]\n",
    "p_h2 = h2[h2_lim:len(h2)]\n",
    "\n",
    "h3_lim = int(len(h3)*0.8)\n",
    "np_random.permutation(h3)\n",
    "t_h3 = h3[0:h3_lim]\n",
    "p_h3 = h3[h3_lim:len(h3)]\n",
    "\n",
    "h4_lim = int(len(h4)*0.8)\n",
    "np_random.permutation(h4)\n",
    "t_h4 = h4[0:h4_lim]\n",
    "p_h4 = h4[h4_lim:len(h4)]\n",
    "\n",
    "t_high = vstack([t_h2,t_h3,t_h4])\n",
    "p_high = vstack([p_h2,p_h3,p_h4])\n",
    "\n",
    "t_high.write(f'MPhys/gpz_catalogues/reg_z_split/highz/TRAIN/train_highz_bc_test.cat',format = 'ascii.commented_header',overwrite=True)\n",
    "p_high.write(f'MPhys/gpz_catalogues/reg_z_split/highz/PRED/pred_highz_bc_test.cat',format = 'ascii.commented_header',overwrite=True)\n",
    "#highz"
   ]
  },
  {
   "cell_type": "code",
   "execution_count": 117,
   "id": "f44fcddb",
   "metadata": {},
   "outputs": [
    {
     "data": {
      "text/html": [
       "<div><i>Table length=190</i>\n",
       "<table id=\"table140151060979232\" class=\"table-striped table-bordered table-condensed\">\n",
       "<thead><tr><th>field</th><th>id</th><th>ra</th><th>dec</th><th>z_spec</th><th>lupt_f115w-clear</th><th>lupterr_f115w-clear</th><th>lupt_f200w-clear</th><th>lupterr_f200w-clear</th><th>lupt_f356w-clear</th><th>lupterr_f356w-clear</th><th>lupt_f444w-clear</th><th>lupterr_f444w-clear</th></tr></thead>\n",
       "<thead><tr><th>str11</th><th>int64</th><th>float64</th><th>float64</th><th>float64</th><th>float64</th><th>float64</th><th>float64</th><th>float64</th><th>float64</th><th>float64</th><th>float64</th><th>float64</th></tr></thead>\n",
       "<tr><td>cosmos_west</td><td>435259</td><td>150.10810461393186</td><td>2.411128874435633</td><td>4.5128</td><td>24.75640010158339</td><td>0.014930325060666338</td><td>24.507630506149923</td><td>0.008312181119043313</td><td>24.30474295510995</td><td>0.004678392817871511</td><td>24.254967119220446</td><td>0.005974239289478581</td></tr>\n",
       "<tr><td>cosmos_west</td><td>435270</td><td>150.08905681614095</td><td>2.4111741090093814</td><td>4.5139</td><td>24.19974745796653</td><td>0.012082665345950061</td><td>23.707773757585528</td><td>0.005364950624090088</td><td>23.72567000771922</td><td>0.004972081039961968</td><td>23.737092733808183</td><td>0.007275990756997513</td></tr>\n",
       "<tr><td>cosmos_west</td><td>435286</td><td>150.11033351596168</td><td>2.4113523743755603</td><td>4.514</td><td>24.799072513452515</td><td>0.012494553312942396</td><td>24.556646234755398</td><td>0.008418386626750908</td><td>25.494037558734437</td><td>0.011493829147206655</td><td>25.85787459390799</td><td>0.025327530489643313</td></tr>\n",
       "<tr><td>cosmos_west</td><td>435335</td><td>150.10359849381462</td><td>2.4117326114196187</td><td>4.52</td><td>25.26328810559153</td><td>0.023528481403721397</td><td>24.458956648436395</td><td>0.007919969889610976</td><td>24.32047047594385</td><td>0.005146497924167178</td><td>24.26873411974946</td><td>0.006660634304548352</td></tr>\n",
       "<tr><td>cosmos_west</td><td>435334</td><td>150.10325702275762</td><td>2.411516538015043</td><td>4.52</td><td>24.652145903287774</td><td>0.01360538200388024</td><td>24.333397575418132</td><td>0.007223724006862441</td><td>24.2891116502421</td><td>0.00491972161520817</td><td>24.56529843327038</td><td>0.008375250312180196</td></tr>\n",
       "<tr><td>cosmos_west</td><td>435364</td><td>150.1183473622051</td><td>2.411851202377988</td><td>4.5202</td><td>25.656797985778315</td><td>0.03583181259741208</td><td>25.453547053622156</td><td>0.030908084224975187</td><td>25.603939478993134</td><td>0.0166585470854016</td><td>26.05411917190613</td><td>0.049450471391856696</td></tr>\n",
       "<tr><td>cosmos_west</td><td>435400</td><td>150.0812399435542</td><td>2.412261265396384</td><td>4.5221</td><td>24.624128657476188</td><td>0.022167141016679034</td><td>24.455102714819365</td><td>0.01315338205524624</td><td>25.408387327269015</td><td>0.02211648745323173</td><td>25.75878476501234</td><td>0.04926726303705102</td></tr>\n",
       "<tr><td>cosmos_west</td><td>435401</td><td>150.07270927346076</td><td>2.411252979268262</td><td>4.529</td><td>23.591064240641785</td><td>0.008797628983729256</td><td>23.59795976444922</td><td>0.006303923587583123</td><td>24.423766910727583</td><td>0.009163689511394636</td><td>24.740883535826267</td><td>0.01882481895547938</td></tr>\n",
       "<tr><td>cosmos_west</td><td>435412</td><td>150.0909582674333</td><td>2.4123338520061153</td><td>4.5293</td><td>25.12574588723717</td><td>0.02606546856090646</td><td>24.658791688958882</td><td>0.011975904987327621</td><td>24.79181715949873</td><td>0.008585642838349793</td><td>24.80815473668609</td><td>0.01260850302066955</td></tr>\n",
       "<tr><td>cosmos_west</td><td>435420</td><td>150.09035880039903</td><td>2.412316247632989</td><td>4.5365</td><td>26.42422723248868</td><td>0.11274629376682824</td><td>24.94727691871227</td><td>0.019394612074506906</td><td>24.1582647646494</td><td>0.005145457899810426</td><td>23.813152628593244</td><td>0.005390016965781734</td></tr>\n",
       "<tr><td>...</td><td>...</td><td>...</td><td>...</td><td>...</td><td>...</td><td>...</td><td>...</td><td>...</td><td>...</td><td>...</td><td>...</td><td>...</td></tr>\n",
       "<tr><td>cosmos_west</td><td>440332</td><td>150.12985034016916</td><td>2.4703235924968405</td><td>7.104</td><td>26.334475356493027</td><td>0.07023429110838413</td><td>24.96361071329739</td><td>0.020551412558847612</td><td>24.83497258647994</td><td>0.011242315223872253</td><td>24.580575151335367</td><td>0.01881133428852771</td></tr>\n",
       "<tr><td>cosmos_west</td><td>440342</td><td>150.13263644053245</td><td>2.4708114845234865</td><td>7.197</td><td>24.742115018817536</td><td>0.023234828689030696</td><td>24.917017218468583</td><td>0.048301530174213216</td><td>24.670010865694326</td><td>0.008651964342046027</td><td>24.557276211960374</td><td>0.012652857287361138</td></tr>\n",
       "<tr><td>cosmos_west</td><td>440390</td><td>150.1106641490247</td><td>2.460618106645549</td><td>7.47</td><td>20.56751608476684</td><td>0.0006879659094606209</td><td>20.597613373388693</td><td>0.0006221323272113935</td><td>21.2604196473529</td><td>0.0008396211340544695</td><td>21.61301016701972</td><td>0.001238631000903864</td></tr>\n",
       "<tr><td>cosmos_west</td><td>440391</td><td>150.12196747389396</td><td>2.46150865901628</td><td>7.47</td><td>23.385741278982177</td><td>0.004761759222062249</td><td>23.186784466347234</td><td>0.003097925560725122</td><td>23.8499070084514</td><td>0.004209095352889139</td><td>24.05854918809842</td><td>0.006726051468302317</td></tr>\n",
       "<tr><td>cosmos_west</td><td>440393</td><td>150.1220770501913</td><td>2.469526082083545</td><td>7.549</td><td>24.196244832260902</td><td>0.01004927935389498</td><td>23.28799637801242</td><td>0.004646752965191403</td><td>22.867842084935397</td><td>0.002536750999141757</td><td>22.733525577652138</td><td>0.0029523679842621254</td></tr>\n",
       "<tr><td>cosmos_west</td><td>440394</td><td>150.12206022698538</td><td>2.4701900414054854</td><td>7.925</td><td>23.873110739918854</td><td>0.007663896344247914</td><td>23.477234267878437</td><td>0.005427842671833233</td><td>23.329010150493517</td><td>0.003421002952957117</td><td>23.24602192612904</td><td>0.004209650376227184</td></tr>\n",
       "<tr><td>cosmos_west</td><td>440396</td><td>150.1168466239417</td><td>2.4518577628006306</td><td>8.005</td><td>23.411748203495467</td><td>0.004159139691483706</td><td>22.806209478886952</td><td>0.0023495098128327964</td><td>22.795162101292885</td><td>0.0018650631381256142</td><td>23.141163577169564</td><td>0.0029048223691262973</td></tr>\n",
       "<tr><td>cosmos_west</td><td>440397</td><td>150.12334319599307</td><td>2.460830462981486</td><td>8.175</td><td>24.428434927425133</td><td>0.011833587388920905</td><td>23.760657770318574</td><td>0.004954531632502995</td><td>23.48613667430884</td><td>0.0031406783957964334</td><td>23.39014254671924</td><td>0.003781522085762356</td></tr>\n",
       "<tr><td>cosmos_west</td><td>440422</td><td>150.1302553164553</td><td>2.47262933956504</td><td>8.179</td><td>24.021887345180982</td><td>0.008702789614728501</td><td>23.22631835986288</td><td>0.004454184947355493</td><td>23.421840953390483</td><td>0.0034519393766305625</td><td>23.720897576005402</td><td>0.006774115969746443</td></tr>\n",
       "<tr><td>cosmos_west</td><td>440863</td><td>150.12337605270062</td><td>2.4826645999357293</td><td>11.44</td><td>21.44540081860591</td><td>0.0013518503231519676</td><td>20.548559754411947</td><td>0.0006195384641891108</td><td>20.376345424823707</td><td>0.0005134010552538999</td><td>20.72944812690629</td><td>0.0006720178644503698</td></tr>\n",
       "</table></div>"
      ],
      "text/plain": [
       "<Table length=190>\n",
       "   field      id   ...  lupt_f444w-clear   lupterr_f444w-clear \n",
       "   str11    int64  ...      float64              float64       \n",
       "----------- ------ ... ------------------ ---------------------\n",
       "cosmos_west 435259 ... 24.254967119220446  0.005974239289478581\n",
       "cosmos_west 435270 ... 23.737092733808183  0.007275990756997513\n",
       "cosmos_west 435286 ...  25.85787459390799  0.025327530489643313\n",
       "cosmos_west 435335 ...  24.26873411974946  0.006660634304548352\n",
       "cosmos_west 435334 ...  24.56529843327038  0.008375250312180196\n",
       "cosmos_west 435364 ...  26.05411917190613  0.049450471391856696\n",
       "cosmos_west 435400 ...  25.75878476501234   0.04926726303705102\n",
       "cosmos_west 435401 ... 24.740883535826267   0.01882481895547938\n",
       "cosmos_west 435412 ...  24.80815473668609   0.01260850302066955\n",
       "cosmos_west 435420 ... 23.813152628593244  0.005390016965781734\n",
       "        ...    ... ...                ...                   ...\n",
       "cosmos_west 440332 ... 24.580575151335367   0.01881133428852771\n",
       "cosmos_west 440342 ... 24.557276211960374  0.012652857287361138\n",
       "cosmos_west 440390 ...  21.61301016701972  0.001238631000903864\n",
       "cosmos_west 440391 ...  24.05854918809842  0.006726051468302317\n",
       "cosmos_west 440393 ... 22.733525577652138 0.0029523679842621254\n",
       "cosmos_west 440394 ...  23.24602192612904  0.004209650376227184\n",
       "cosmos_west 440396 ... 23.141163577169564 0.0029048223691262973\n",
       "cosmos_west 440397 ...  23.39014254671924  0.003781522085762356\n",
       "cosmos_west 440422 ... 23.720897576005402  0.006774115969746443\n",
       "cosmos_west 440863 ...  20.72944812690629 0.0006720178644503698"
      ]
     },
     "execution_count": 117,
     "metadata": {},
     "output_type": "execute_result"
    }
   ],
   "source": [
    "p_high"
   ]
  },
  {
   "cell_type": "code",
   "execution_count": 35,
   "id": "55c03624",
   "metadata": {},
   "outputs": [
    {
     "data": {
      "text/html": [
       "<div><i>Table length=851</i>\n",
       "<table id=\"table140151060976208\" class=\"table-striped table-bordered table-condensed\">\n",
       "<thead><tr><th>field</th><th>id</th><th>ra</th><th>dec</th><th>z_spec</th><th>lupt_f115w-clear</th><th>lupterr_f115w-clear</th><th>lupt_f200w-clear</th><th>lupterr_f200w-clear</th><th>lupt_f356w-clear</th><th>lupterr_f356w-clear</th><th>lupt_f444w-clear</th><th>lupterr_f444w-clear</th></tr></thead>\n",
       "<thead><tr><th>str11</th><th>int64</th><th>float64</th><th>float64</th><th>float64</th><th>float64</th><th>float64</th><th>float64</th><th>float64</th><th>float64</th><th>float64</th><th>float64</th><th>float64</th></tr></thead>\n",
       "<tr><td>ceers</td><td>747</td><td>215.03282004463466</td><td>52.86871328699893</td><td>11.44</td><td>27.812221722260862</td><td>0.10906428838526847</td><td>27.59686072640545</td><td>0.05740026163055145</td><td>27.649371635070633</td><td>0.045167982929613854</td><td>27.813657102912337</td><td>0.08103168735108594</td></tr>\n",
       "<tr><td>ceers</td><td>752</td><td>215.03497835161798</td><td>52.87033071817733</td><td>7.925</td><td>27.479461971221358</td><td>0.0670707023695105</td><td>27.058105187108474</td><td>0.035408746869323424</td><td>27.615031909617446</td><td>0.044095002081602296</td><td>27.63966364698064</td><td>0.06988247210449088</td></tr>\n",
       "<tr><td>ceers</td><td>756</td><td>215.0293207773088</td><td>52.866346134392025</td><td>5.736</td><td>30.343276761983862</td><td>0.46018626184335515</td><td>28.861700039869756</td><td>0.1684123219805679</td><td>29.60913217155395</td><td>0.3103202411514569</td><td>29.03530048313842</td><td>0.29890654438998593</td></tr>\n",
       "<tr><td>ceers</td><td>764</td><td>215.06641471288282</td><td>52.89292987575567</td><td>8.715</td><td>26.68935270487809</td><td>0.034333149515812275</td><td>26.518336736945535</td><td>0.022787301077008104</td><td>26.748392332070242</td><td>0.02141568961626523</td><td>27.145783917868584</td><td>0.04632835059558383</td></tr>\n",
       "<tr><td>ceers</td><td>765</td><td>215.0309350695175</td><td>52.86716029975772</td><td>5.033</td><td>27.240570497182233</td><td>0.05400692259806774</td><td>27.336786530308412</td><td>0.055143398915362574</td><td>27.509811484788045</td><td>0.0489708349020034</td><td>27.440909172002034</td><td>0.058596494175204863</td></tr>\n",
       "<tr><td>ceers</td><td>766</td><td>215.03097594114888</td><td>52.86727642722956</td><td>5.036</td><td>26.529462482822733</td><td>0.029325691056644985</td><td>26.53526455618279</td><td>0.028487760941918218</td><td>26.82257058567948</td><td>0.026853282703450998</td><td>26.9861094227204</td><td>0.03900138497520511</td></tr>\n",
       "<tr><td>ceers</td><td>768</td><td>215.03097046779803</td><td>52.867570376017454</td><td>4.888</td><td>28.995635076877804</td><td>0.31320587375245607</td><td>28.79267264628926</td><td>0.19590171504106704</td><td>28.81334376432643</td><td>0.15381665465022928</td><td>28.750961698454034</td><td>0.1781832031018616</td></tr>\n",
       "<tr><td>ceers</td><td>772</td><td>215.06005738312484</td><td>52.88838053307308</td><td>4.61</td><td>27.311681028035316</td><td>0.06000853747978702</td><td>26.9018207916046</td><td>0.038474670672074336</td><td>26.897250594032936</td><td>0.02886109536457596</td><td>27.09683012200814</td><td>0.05179494732158073</td></tr>\n",
       "<tr><td>ceers</td><td>773</td><td>215.06355675473594</td><td>52.890929921342966</td><td>4.642</td><td>28.306036930053892</td><td>0.14537783610073732</td><td>27.303026379508477</td><td>0.048213549608230294</td><td>27.738756511691772</td><td>0.05426618018151659</td><td>27.788536213848555</td><td>0.10059486554880138</td></tr>\n",
       "<tr><td>ceers</td><td>780</td><td>215.03393275567436</td><td>52.869752574608654</td><td>4.608</td><td>28.464791102580048</td><td>0.15803088563162979</td><td>27.47129463615804</td><td>0.05093621112008079</td><td>27.49100913543707</td><td>0.044126734783754354</td><td>27.556392125268555</td><td>0.07106360833924362</td></tr>\n",
       "<tr><td>...</td><td>...</td><td>...</td><td>...</td><td>...</td><td>...</td><td>...</td><td>...</td><td>...</td><td>...</td><td>...</td><td>...</td><td>...</td></tr>\n",
       "<tr><td>cosmos_west</td><td>436781</td><td>150.07943573390656</td><td>2.423208092383524</td><td>3.1185</td><td>25.53273681529168</td><td>0.05178686906109269</td><td>24.654311267028486</td><td>0.015818532891597972</td><td>25.335980767618523</td><td>0.020506847343539983</td><td>25.343349897400984</td><td>0.03588276991822906</td></tr>\n",
       "<tr><td>cosmos_west</td><td>436941</td><td>150.10126219270214</td><td>2.4247272484804983</td><td>3.1898</td><td>25.934956788511517</td><td>0.07161037121274247</td><td>25.065097637674697</td><td>0.021735415772937687</td><td>25.6159746827065</td><td>0.021864360922903826</td><td>25.583736187042597</td><td>0.030775911837608708</td></tr>\n",
       "<tr><td>cosmos_west</td><td>437009</td><td>150.09635186455696</td><td>2.4253647077247855</td><td>3.1103</td><td>24.222683004760892</td><td>0.014953776459969833</td><td>23.679228896347002</td><td>0.006323223973954305</td><td>23.407139245557406</td><td>0.0034744338194745766</td><td>23.21873934526394</td><td>0.004181487018048733</td></tr>\n",
       "<tr><td>cosmos_west</td><td>437247</td><td>150.12750680772274</td><td>2.4279129174291816</td><td>4.72</td><td>26.468903603442886</td><td>0.05516143252588738</td><td>26.090319101069607</td><td>0.030469647741278437</td><td>25.813958792806208</td><td>0.014277600668334351</td><td>25.995043296851957</td><td>0.026987268958963046</td></tr>\n",
       "<tr><td>cosmos_west</td><td>437609</td><td>150.1120975798477</td><td>2.4319358064854453</td><td>3.2521</td><td>25.494437225858448</td><td>0.02872493145260776</td><td>24.908838941311686</td><td>0.01326075404279708</td><td>25.279031990014207</td><td>0.011798572715298468</td><td>25.169353511455526</td><td>0.017213966196809795</td></tr>\n",
       "<tr><td>cosmos_west</td><td>437620</td><td>150.11251159938627</td><td>2.4320525427730884</td><td>3.2566</td><td>26.661247497506256</td><td>0.07717254168641857</td><td>25.818183368597722</td><td>0.03025355435122022</td><td>26.88523576477571</td><td>0.04732816647615737</td><td>26.7203639614939</td><td>0.06560517168504396</td></tr>\n",
       "<tr><td>cosmos_west</td><td>437696</td><td>150.11792137402986</td><td>2.432813299887776</td><td>3.1081</td><td>25.339458332568565</td><td>0.020925446850639285</td><td>25.081280064830697</td><td>0.01586699943587398</td><td>26.06126528285919</td><td>0.022866066474083218</td><td>26.432880525083597</td><td>0.05238055706244269</td></tr>\n",
       "<tr><td>cosmos_west</td><td>437788</td><td>150.09972575337696</td><td>2.4335508479468078</td><td>4.114</td><td>25.439823368818942</td><td>0.033978593621252724</td><td>24.944353733729912</td><td>0.02017981738729119</td><td>24.818095655006648</td><td>0.009791470632622989</td><td>24.867702029646228</td><td>0.017178109031471697</td></tr>\n",
       "<tr><td>cosmos_west</td><td>438080</td><td>150.1059708897935</td><td>2.4361859040521376</td><td>3.0735</td><td>24.409045597175304</td><td>0.012973165780128908</td><td>23.348619841913504</td><td>0.004773122623200191</td><td>22.903243950340983</td><td>0.002496861609642248</td><td>22.5542934430392</td><td>0.0024738978821992447</td></tr>\n",
       "<tr><td>cosmos_west</td><td>439748</td><td>150.13363442529524</td><td>2.457419797783335</td><td>3.0431</td><td>24.138279713821053</td><td>0.01052512935805049</td><td>22.73104361744766</td><td>0.002380760794145575</td><td>22.33596465677636</td><td>0.0016596387001637783</td><td>22.09426947739743</td><td>0.0019660424302648527</td></tr>\n",
       "</table></div>"
      ],
      "text/plain": [
       "<Table length=851>\n",
       "   field      id   ...  lupt_f444w-clear   lupterr_f444w-clear \n",
       "   str11    int64  ...      float64              float64       \n",
       "----------- ------ ... ------------------ ---------------------\n",
       "      ceers    747 ... 27.813657102912337   0.08103168735108594\n",
       "      ceers    752 ...  27.63966364698064   0.06988247210449088\n",
       "      ceers    756 ...  29.03530048313842   0.29890654438998593\n",
       "      ceers    764 ... 27.145783917868584   0.04632835059558383\n",
       "      ceers    765 ... 27.440909172002034  0.058596494175204863\n",
       "      ceers    766 ...   26.9861094227204   0.03900138497520511\n",
       "      ceers    768 ... 28.750961698454034    0.1781832031018616\n",
       "      ceers    772 ...  27.09683012200814   0.05179494732158073\n",
       "      ceers    773 ... 27.788536213848555   0.10059486554880138\n",
       "      ceers    780 ... 27.556392125268555   0.07106360833924362\n",
       "        ...    ... ...                ...                   ...\n",
       "cosmos_west 436781 ... 25.343349897400984   0.03588276991822906\n",
       "cosmos_west 436941 ... 25.583736187042597  0.030775911837608708\n",
       "cosmos_west 437009 ...  23.21873934526394  0.004181487018048733\n",
       "cosmos_west 437247 ... 25.995043296851957  0.026987268958963046\n",
       "cosmos_west 437609 ... 25.169353511455526  0.017213966196809795\n",
       "cosmos_west 437620 ...   26.7203639614939   0.06560517168504396\n",
       "cosmos_west 437696 ... 26.432880525083597   0.05238055706244269\n",
       "cosmos_west 437788 ... 24.867702029646228  0.017178109031471697\n",
       "cosmos_west 438080 ...   22.5542934430392 0.0024738978821992447\n",
       "cosmos_west 439748 ...  22.09426947739743 0.0019660424302648527"
      ]
     },
     "execution_count": 35,
     "metadata": {},
     "output_type": "execute_result"
    }
   ],
   "source": [
    "\n",
    "#highz.write(f'MPhys/base_filter_permutations/base_filter_permutations/zsplit/highz_base_choice.cat', format = 'ascii.commented_header')\n",
    "#lowz.write(f'MPhys/base_filter_permutations/base_filter_permutations/zsplit/lowz_base_choice.cat', format =  'ascii.commented_header')\n",
    "\n",
    "#HIGH\n",
    "train_sample_high = int(len(highz)*0.8)\n",
    "\n",
    "\n",
    "t_high = highz[0:train_sample_high]\n",
    "\n",
    "p_high = highz[train_sample_high:-1]\n",
    "t_high.write(f'MPhys/gpz_catalogues/reg_z_split/highz/TRAIN/train_highz_{swap[num]}_no_perm.cat',format = 'ascii.commented_header',overwrite=True)\n",
    "p_high.write(f'MPhys/gpz_catalogues/reg_z_split/highz/PRED/pred_highz_{swap[num]}_no_perm.cat',format = 'ascii.commented_header',overwrite=True)\n",
    "\n",
    "#LOW\n",
    "#low_full =Table.read('MPhys/base_filter_permutations/base_filter_permutations/zsplit/lowz_base_choice.cat',format = 'ascii.commented_header')\n",
    "train_sample_low = int(len(lowz)*0.8)\n",
    "t_low = lowz[0:train_sample_low]\n",
    "p_low = lowz[train_sample_low:-1]\n",
    "t_low.write(f'MPhys/gpz_catalogues/reg_z_split/lowz/TRAIN/train_lowz_{swap[num]}_no_perm.cat',format = 'ascii.commented_header',overwrite=True)\n",
    "p_low.write(f'MPhys/gpz_catalogues/reg_z_split/lowz/PRED/pred_lowz_{swap[num]}_no_perm.cat',format = 'ascii.commented_header',overwrite=True)\n",
    "highz"
   ]
  },
  {
   "cell_type": "code",
   "execution_count": 11,
   "id": "59d49e00",
   "metadata": {
    "scrolled": true
   },
   "outputs": [
    {
     "name": "stdout",
     "output_type": "stream",
     "text": [
      "312 11.44\n",
      "582 9.696\n",
      "3.0008\n"
     ]
    }
   ],
   "source": [
    "for i in range(len(t_high['z_spec'])):\n",
    "    if t_high['z_spec'][i]>np.max(p_high['z_spec']):\n",
    "        print(i,t_high['z_spec'][i])\n",
    "print(np.min(t_high['z_spec']))"
   ]
  },
  {
   "cell_type": "code",
   "execution_count": 15,
   "id": "8d9bfcf7",
   "metadata": {},
   "outputs": [
    {
     "data": {
      "image/png": "[encoded data removed]",
      "text/plain": [
       "<Figure size 432x288 with 1 Axes>"
      ]
     },
     "metadata": {
      "needs_background": "light"
     },
     "output_type": "display_data"
    }
   ],
   "source": [
    "tmax = np.max(t_high['z_spec'])\n",
    "pmax = np.max(p_high['z_spec'])\n",
    "plt.hist(t_high['z_spec'],label = 'Training')\n",
    "plt.hist(p_high['z_spec'],label ='Prediction')\n",
    "plt.text(8.75,150,f'Training Max = {tmax}')\n",
    "plt.text(8.75,100,f'Pred Max = {pmax}')\n",
    "plt.xlabel('Spec z')\n",
    "plt.legend()\n",
    "plt.title('Base Choice High Redshift Catalogue Distribution')\n",
    "plt.savefig('MPhys/gpz_catalogues/reg_z_split/highz/z_distribution_train_pred.png')"
   ]
  },
  {
   "cell_type": "code",
   "execution_count": 31,
   "id": "3b36d75f",
   "metadata": {},
   "outputs": [
    {
     "name": "stdout",
     "output_type": "stream",
     "text": [
      "11.44\n"
     ]
    }
   ],
   "source": [
    "tst = Table.read(f'MPhys/gpz_catalogues/reg_z_split/highz/PRED/pred_highz_bc.cat',format = 'ascii.commented_header')\n",
    "print(np.max(tst['z_spec']))"
   ]
  },
  {
   "cell_type": "code",
   "execution_count": 32,
   "id": "3818da4f",
   "metadata": {},
   "outputs": [
    {
     "name": "stdout",
     "output_type": "stream",
     "text": [
      "9.696\n"
     ]
    }
   ],
   "source": [
    "tstt = Table.read(f'MPhys/gpz_catalogues/reg_z_split/highz/TRAIN/train_highz_bc.cat',format = 'ascii.commented_header')\n",
    "print(np.max(tstt['z_spec']))"
   ]
  },
  {
   "cell_type": "code",
   "execution_count": 33,
   "id": "51cb47e1",
   "metadata": {},
   "outputs": [
    {
     "name": "stdout",
     "output_type": "stream",
     "text": [
      "680 170\n"
     ]
    }
   ],
   "source": [
    "print(len(t_high),len(p_high))"
   ]
  },
  {
   "cell_type": "code",
   "execution_count": null,
   "id": "b9903992",
   "metadata": {},
   "outputs": [],
   "source": []
  }
 ],
 "metadata": {
  "kernelspec": {
   "display_name": "Python 3",
   "language": "python",
   "name": "python3"
  },
  "language_info": {
   "codemirror_mode": {
    "name": "ipython",
    "version": 3
   },
   "file_extension": ".py",
   "mimetype": "text/x-python",
   "name": "python",
   "nbconvert_exporter": "python",
   "pygments_lexer": "ipython3",
   "version": "3.8.10"
  }
 },
 "nbformat": 4,
 "nbformat_minor": 5
}
