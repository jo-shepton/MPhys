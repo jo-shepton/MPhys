{
 "cells": [
  {
   "cell_type": "code",
   "execution_count": null,
   "id": "ce90974a",
   "metadata": {},
   "outputs": [
    {
     "name": "stdout",
     "output_type": "stream",
     "text": [
      "\u001b[33mDEPRECATION: Loading egg at /home/jo_shepton/miniconda3/envs/py3/lib/python3.11/site-packages/gpz_pype-0.1.0-py3.11.egg is deprecated. pip 23.3 will enforce this behaviour change. A possible replacement is to use pip for package installation..\u001b[0m\u001b[33m\n",
      "\u001b[0mCollecting plotly\n",
      "  Obtaining dependency information for plotly from https://files.pythonhosted.org/packages/df/79/c80174d711ee26ee5da55a9cc3e248f1ec7a0188b5e4d6bbbbcd09b974b0/plotly-5.17.0-py2.py3-none-any.whl.metadata\n",
      "  Downloading plotly-5.17.0-py2.py3-none-any.whl.metadata (7.0 kB)\n",
      "Collecting tenacity>=6.2.0 (from plotly)\n",
      "  Obtaining dependency information for tenacity>=6.2.0 from https://files.pythonhosted.org/packages/f4/f1/990741d5bb2487d529d20a433210ffa136a367751e454214013b441c4575/tenacity-8.2.3-py3-none-any.whl.metadata\n",
      "  Downloading tenacity-8.2.3-py3-none-any.whl.metadata (1.0 kB)\n",
      "Requirement already satisfied: packaging in ./miniconda3/envs/py3/lib/python3.11/site-packages (from plotly) (21.3)\n",
      "Requirement already satisfied: pyparsing!=3.0.5,>=2.0.2 in ./miniconda3/envs/py3/lib/python3.11/site-packages (from packaging->plotly) (3.0.4)\n",
      "Downloading plotly-5.17.0-py2.py3-none-any.whl (15.6 MB)\n",
      "\u001b[2K   \u001b[90m━━━━━━━━━━━━━━━━━━━━━━━━━━━━━━━━━━━━━━━━\u001b[0m \u001b[32m15.6/15.6 MB\u001b[0m \u001b[31m13.4 MB/s\u001b[0m eta \u001b[36m0:00:00\u001b[0m00:01\u001b[0m00:01\u001b[0m\n",
      "\u001b[?25hDownloading tenacity-8.2.3-py3-none-any.whl (24 kB)\n"
     ]
    }
   ],
   "source": [
    "\n",
    "pip install plotly\n"
   ]
  },
  {
   "cell_type": "code",
   "execution_count": 18,
   "id": "e2cfac28",
   "metadata": {},
   "outputs": [],
   "source": [
    "import numpy as np\n",
    "import re\n",
    "import statistics as stat\n",
    "import matplotlib.pyplot as plt\n",
    "import math\n",
    "import scipy\n",
    "from scipy import stats\n",
    "import statsmodels.distributions.empirical_distribution as edf\n",
    "import statistics"
   ]
  },
  {
   "cell_type": "code",
   "execution_count": 2,
   "id": "00313e56",
   "metadata": {},
   "outputs": [],
   "source": [
    "spec_z=[]\n",
    "with open('gpzpp/example/sdss_pred_randomised_cut.cat','r') as file_spec:\n",
    "    for _ in range(1):\n",
    "        next(file_spec)\n",
    "    for line_spec in file_spec:\n",
    "        test_spec = re.sub(\"\\s+\", \",\", line_spec.strip()) #takes any spaces and replaces with comma to make split easier\n",
    "        tokens_spec = test_spec.split(',')\n",
    "        #print(tokens[4])\n",
    "        spec_z.append(tokens_spec[10])\n"
   ]
  },
  {
   "cell_type": "code",
   "execution_count": 26,
   "id": "39c13ae1",
   "metadata": {},
   "outputs": [
    {
     "name": "stdout",
     "output_type": "stream",
     "text": [
      "[100. 150. 200. 250. 300. 350. 400. 450. 500.]\n"
     ]
    }
   ],
   "source": [
    "print(np.linspace(100,500,9))"
   ]
  },
  {
   "cell_type": "code",
   "execution_count": 57,
   "id": "55ab90f2",
   "metadata": {},
   "outputs": [],
   "source": [
    "for nbf in np.linspace(10,100,4, dtype=int):\n",
    "    delta_z = []\n",
    "    outliers = []\n",
    "    j=0\n",
    "    phot_z =[]\n",
    "    uncert = []\n",
    "    with open(f'MPhys/parameter_files/gpz_{nbf}_seq_cut.cat','r') as file:\n",
    "        for _ in range(11):\n",
    "            next(file)\n",
    "        for line in file:\n",
    "            test = re.sub(\"\\s+\", \",\", line.strip()) #takes any spaces and replaces with comma to make split easier\n",
    "            tokens = test.split(',')\n",
    "            #print(tokens[4])\n",
    "            phot_z.append(float(tokens[0]))\n",
    "            uncert.append(float(tokens[1]))\n",
    "\n",
    "    for i in range(len(phot_z)):\n",
    "        delta_z.append(abs(float(phot_z[i])-float(spec_z[i])))\n",
    "        outliers.append(float(delta_z[i])/(1+float(spec_z[i])))\n",
    "        \n",
    "        if abs(outliers[i])>0.15:\n",
    "            j+=1\n",
    "    outlier_frac = j/len(spec_z)\n",
    "    sig_nmad = (scipy.stats.median_abs_deviation(outliers))\n",
    "    sig_nmad_2 = 1.48*(np.median(outliers))\n",
    "    with open(f'MPhys/sig_nmad_seq_cut_MAD_test.txt', 'a') as file_sig:\n",
    "        if nbf == 100:\n",
    "            file_sig.write('NUMBF'+'    '+'sig_nmad'+'    '+'outlier_frac'+'\\n')\n",
    "        file_sig.write(str(nbf)+','+ str(sig_nmad)+','+str(outlier_frac)+'\\n')\n",
    "file_sig.close()"
   ]
  },
  {
   "cell_type": "code",
   "execution_count": 54,
   "id": "c596be5b",
   "metadata": {},
   "outputs": [
    {
     "name": "stdout",
     "output_type": "stream",
     "text": [
      "500\n",
      "0.025782638657550986\n",
      "0.02334990050722129\n"
     ]
    },
    {
     "data": {
      "text/plain": [
       "[<matplotlib.lines.Line2D at 0x7fc30a40cfd0>]"
      ]
     },
     "execution_count": 54,
     "metadata": {},
     "output_type": "execute_result"
    },
    {
     "data": {
      "image/png": "[encoded data removed]",
      "text/plain": [
       "<Figure size 432x288 with 1 Axes>"
      ]
     },
     "metadata": {
      "needs_background": "light"
     },
     "output_type": "display_data"
    }
   ],
   "source": []
  },
  {
   "cell_type": "code",
   "execution_count": 80,
   "id": "f704adbd",
   "metadata": {},
   "outputs": [
    {
     "name": "stdout",
     "output_type": "stream",
     "text": [
      "0.4069103045788999\n"
     ]
    }
   ],
   "source": [
    "for nbf in [100]:#np.linspace(100,500,9, dtype=int):\n",
    "    #sig = []\n",
    "    delta_z = []\n",
    "    outliers = []\n",
    "    j=0\n",
    "    phot_z =[]\n",
    "    n=[]\n",
    "    c=[]\n",
    "    f=[]\n",
    "    uncert=[]\n",
    "    with open(f'MPhys/parameter_files/gpz_{nbf}_seq_cut.cat','r') as file:\n",
    "        for _ in range(11):\n",
    "            next(file)\n",
    "        for line in file:\n",
    "            test = re.sub(\"\\s+\", \",\", line.strip()) #takes any spaces and replaces with comma to make split easier\n",
    "            tokens = test.split(',')\n",
    "            #print(tokens[4])\n",
    "            phot_z.append(float(tokens[0]))\n",
    "            uncert.append(float(tokens[1]))\n",
    "\n",
    "    for i in range(len(phot_z)):\n",
    "        delta_z.append(float(phot_z[i])-float(spec_z[i]))\n",
    "        outliers.append(float(delta_z[i])/(1+float(spec_z[i])))\n",
    "    \n",
    "        if outliers[i]>0.15:\n",
    "            j+=1\n",
    "    outlier_frac = j/len(spec_z)\n",
    "    sig_nmad = 1.48*(np.median(outliers))\n",
    "\n",
    "    for j in range(len(delta_z)):\n",
    "        n.append(float(-delta_z[j])/(uncert[j]*np.sqrt(2)))\n",
    "        c.append(np.abs(math.erf(n[j])))\n",
    "    \n",
    "    print(np.mean(c))\n",
    "    plt.ecdf(c, color ='k')\n",
    "    plt.xlabel('c')\n",
    "    plt.ylabel('F(c)')\n",
    "    plt.title(f'Diagonal Covarience')\n",
    "    x = np.linspace(0,1,10)\n",
    "\n",
    "    plt.plot(x,x,linestyle = '--', color = 'grey', alpha= 0.5)\n",
    "    plt.savefig('MPhys/parameter_plots/dia_cov_seq_cut_ecdf.png', bbox_inches='tight')\n",
    "    plt.close()\n",
    "#f = scipy.stats.ecdf(c)\n",
    "#sample_edf = edf.ECDF(c)\n",
    "#print(sample_edf.y)\n",
    "\n",
    "#print(sig)\n",
    "#plt.plot(sample_edf.y)\n",
    "\n",
    " #   with open(f'MPhys/sig_nmad.txt', 'a') as file_sig:\n",
    "  #      file_sig.write(str(nbf)+','+ str(sig_nmad)+','+str(outlier_frac)+'\\n')\n",
    "    #print(sig_nmad)\n"
   ]
  },
  {
   "cell_type": "code",
   "execution_count": 93,
   "id": "37d9e9b6",
   "metadata": {},
   "outputs": [
    {
     "data": {
      "text/plain": [
       "[<matplotlib.lines.Line2D at 0x7ff834239f90>]"
      ]
     },
     "execution_count": 93,
     "metadata": {},
     "output_type": "execute_result"
    },
    {
     "data": {
      "image/png": "[encoded data removed]",
      "text/plain": [
       "<Figure size 432x288 with 1 Axes>"
      ]
     },
     "metadata": {
      "needs_background": "light"
     },
     "output_type": "display_data"
    }
   ],
   "source": [
    "\n",
    "\n"
   ]
  },
  {
   "cell_type": "code",
   "execution_count": 76,
   "id": "4b5d3b1d",
   "metadata": {},
   "outputs": [
    {
     "data": {
      "image/png": "[encoded data removed]",
      "text/plain": [
       "<Figure size 432x288 with 2 Axes>"
      ]
     },
     "metadata": {
      "needs_background": "light"
     },
     "output_type": "display_data"
    }
   ],
   "source": [
    "file_nmad = open('MPhys/sig_nmad_seq_cut_MAD_test.txt','r')\n",
    "numbf=[]\n",
    "sig_nmad=[]\n",
    "outlier_new=[]\n",
    "for _ in range(1):\n",
    "    next(file_nmad)\n",
    "for line in file_nmad:\n",
    "    split = re.sub(\"\\s+\", \",\", line.strip()) #takes any spaces and replaces with comma to make split easier\n",
    "    tokens = split.split(',')\n",
    "    #print(tokens[4])\n",
    "    numbf.append(float(tokens[0]))\n",
    "    sig_nmad.append(float(tokens[1]))\n",
    "    outlier_new.append(float(tokens[2]))\n",
    "fig,axs= plt.subplots(2,1, sharex =True, constrained_layout = True)\n",
    "#print(sig_nmad)\n",
    "y_tix = np.linspace(np.min(sig_nmad),np.max(sig_nmad),len(sig_nmad))\n",
    "axs[0].plot(numbf,sig_nmad, marker = 'o')\n",
    "axs[0].set_title(''r'$\\sigma_{NMAD}$ against NUMBF')\n",
    "axs[1].set_xlabel('Number of Base Functions')\n",
    "axs[0].set_ylabel(''r'$\\sigma_{NMAD}$')\n",
    "axs[0].set_xticks(numbf, minor=True)\n",
    "axs[1].plot(numbf,outlier_new, color='orange', marker = 'D')\n",
    "axs[1].set_title('Outlier Fraction against NUMBF')\n",
    "axs[1].set_ylabel('Outlier Fraction')\n",
    "#ax.invert_yaxis()\n",
    "fig.savefig('MPhys/parameter_plots/sigma_NMAD_seq_cut_MAD_test.png', bbox_inches='tight')"
   ]
  },
  {
   "cell_type": "code",
   "execution_count": null,
   "id": "bceb48e6",
   "metadata": {},
   "outputs": [],
   "source": [
    "##quantifying errors\n"
   ]
  }
 ],
 "metadata": {
  "kernelspec": {
   "display_name": "py3",
   "language": "python",
   "name": "py3"
  },
  "language_info": {
   "codemirror_mode": {
    "name": "ipython",
    "version": 3
   },
   "file_extension": ".py",
   "mimetype": "text/x-python",
   "name": "python",
   "nbconvert_exporter": "python",
   "pygments_lexer": "ipython3",
   "version": "3.11.5"
  }
 },
 "nbformat": 4,
 "nbformat_minor": 5
}
