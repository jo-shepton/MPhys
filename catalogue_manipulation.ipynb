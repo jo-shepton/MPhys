{
 "cells": [
  {
   "cell_type": "code",
   "execution_count": null,
   "id": "fe28b4a7",
   "metadata": {},
   "outputs": [],
   "source": [
    "pip install wget"
   ]
  },
  {
   "cell_type": "code",
   "execution_count": 1,
   "id": "86dad701",
   "metadata": {},
   "outputs": [],
   "source": [
    "import astropy\n",
    "from astropy.table import Table,vstack, Column\n",
    "from subprocess import call\n",
    "import subprocess\n",
    "from astropy.io import fits\n",
    "import numpy as np\n",
    "import wget\n",
    "import matplotlib.pyplot as plt\n",
    "from gpz_pype import utilities\n",
    "from gpz_pype.utilities import Params, set_gpz_path, basic_lupt_soft, flux_to_lupt\n",
    "import astropy.units as u\n",
    "from numpy.ma import masked\n",
    "from astropy.coordinates import SkyCoord\n",
    "from astropy.coordinates import match_coordinates_sky\n",
    "\n",
    "from os import listdir\n",
    "from os.path import isfile, join"
   ]
  },
  {
   "cell_type": "code",
   "execution_count": null,
   "id": "4d3ed030",
   "metadata": {},
   "outputs": [],
   "source": [
    "fields= ['ceers-full','gdn','gds','ngdeep','primer-cosmos-east','primer-cosmos-west','primer-uds-north','primer-uds-south','abell2744clu','abells1063','elgordo','j112716p4228','macs0647','rxj2129','smacs0723','sunrise']"
   ]
  },
  {
   "cell_type": "markdown",
   "id": "9d4705ee",
   "metadata": {},
   "source": [
    "# Download Field Files\n"
   ]
  },
  {
   "cell_type": "code",
   "execution_count": null,
   "id": "63997737",
   "metadata": {},
   "outputs": [],
   "source": [
    "#for field in fields:\n",
    "url=f'https://s3.amazonaws.com/grizli-v2/JwstMosaics/v7/{fields[7]}-grizli-v7.0_phot.fits'\n",
    "filename=wget.download(url)\n",
    "#print(f' {field} downloaded')"
   ]
  },
  {
   "cell_type": "code",
   "execution_count": null,
   "id": "c522bae6",
   "metadata": {},
   "outputs": [],
   "source": [
    "hdul= fits.open('MPhys/DAWN_JWST/ceers-full-grizli-v7.0_phot.fits', memmap=True,formats='fits')\n",
    "t = Table.read(hdul)\n",
    "t"
   ]
  },
  {
   "cell_type": "markdown",
   "id": "bf2c0f40",
   "metadata": {},
   "source": [
    "# Initial Catalogue Making - Run Once\n"
   ]
  },
  {
   "cell_type": "code",
   "execution_count": null,
   "id": "039ad109",
   "metadata": {},
   "outputs": [],
   "source": [
    "###INITIAL CATALOGUE MAKING\n",
    "hdu_list = fits.open('MPhys/DAWN_JWST/ceers-full-grizli-v7.0_phot.fits', memmap=True,formats='fits')\n",
    "ceers = Table(hdu_list[1].data)\n",
    "hdu_list.close()\n",
    "\n",
    "hdu_list = fits.open('MPhys/DAWN_JWST/gdn-grizli-v7.0_phot.fits', memmap=True,formats='fits')\n",
    "gdn= Table(hdu_list[1].data)\n",
    "hdu_list.close()\n",
    "\n",
    "hdu_list = fits.open('MPhys/DAWN_JWST/gds-grizli-v7.0_phot.fits', memmap=True,formats='fits')\n",
    "gds = Table(hdu_list[1].data)\n",
    "hdu_list.close()\n",
    "\n",
    "hdu_list = fits.open('MPhys/DAWN_JWST/ngdeep-grizli-v7.0_phot.fits', memmap=True,formats='fits')\n",
    "ngdeep = Table(hdu_list[1].data)\n",
    "hdu_list.close()\n",
    "\n",
    "hdu_list = fits.open('MPhys/DAWN_JWST/primer-cosmos-east-grizli-v7.0_phot.fits', memmap=True,formats='fits')\n",
    "cosmos_east = Table(hdu_list[1].data)\n",
    "hdu_list.close()\n",
    "\n",
    "hdu_list = fits.open('MPhys/DAWN_JWST/primer-cosmos-west-grizli-v7.0_phot.fits', memmap=True,formats='fits')\n",
    "cosmos_west = Table(hdu_list[1].data)\n",
    "hdu_list.close()\n",
    "\n",
    "hdu_list = fits.open('MPhys/DAWN_JWST/primer-uds-south-grizli-v7.0_phot.fits', memmap=True,formats='fits')\n",
    "udss = Table(hdu_list[1].data)\n",
    "hdu_list.close()\n",
    "\n",
    "hdu_list = fits.open('MPhys/DAWN_JWST/primer-uds-north-grizli-v7.0_phot.fits', memmap=True,formats='fits')\n",
    "udsn = Table(hdu_list[1].data)\n",
    "hdu_list.close()"
   ]
  },
  {
   "cell_type": "code",
   "execution_count": null,
   "id": "ee206217",
   "metadata": {},
   "outputs": [],
   "source": [
    "#ADDING FIELDS TO CATALOGUE - RUN BOTH CELLS IF STARTING FROM SCRATCH\n",
    "hdu_list = fits.open('MPhys/DAWN_JWST/abell2744clu-grizli-v7.0_phot.fits', memmap=True,formats='fits')\n",
    "abell2744 = Table(hdu_list[1].data)\n",
    "hdu_list.close()\n",
    "\n",
    "hdu_list = fits.open('MPhys/DAWN_JWST/abells1063-grizli-v7.0_phot.fits', memmap=True,formats='fits')\n",
    "abells1063= Table(hdu_list[1].data)\n",
    "hdu_list.close()\n",
    "\n",
    "hdu_list = fits.open('MPhys/DAWN_JWST/elgordo-grizli-v7.0_phot.fits', memmap=True,formats='fits')\n",
    "elgordo = Table(hdu_list[1].data)\n",
    "hdu_list.close()\n",
    "\n",
    "hdu_list = fits.open('MPhys/DAWN_JWST/j112716p4228-grizli-v7.0_phot.fits', memmap=True,formats='fits')\n",
    "j_field = Table(hdu_list[1].data)\n",
    "hdu_list.close()\n",
    "\n",
    "hdu_list = fits.open('MPhys/DAWN_JWST/macs0647-grizli-v7.0_phot.fits', memmap=True,formats='fits')\n",
    "macs = Table(hdu_list[1].data)\n",
    "hdu_list.close()\n",
    "\n",
    "hdu_list = fits.open('MPhys/DAWN_JWST/rxj2129-grizli-v7.0_phot.fits', memmap=True,formats='fits')\n",
    "rxj = Table(hdu_list[1].data)\n",
    "hdu_list.close()\n",
    "\n",
    "hdu_list = fits.open('MPhys/DAWN_JWST/smacs0723-grizli-v7.0_phot.fits', memmap=True,formats='fits')\n",
    "smacs = Table(hdu_list[1].data)\n",
    "hdu_list.close()\n",
    "\n",
    "hdu_list = fits.open('MPhys/DAWN_JWST/sunrise-grizli-v7.0_phot.fits', memmap=True,formats='fits')\n",
    "sunrise = Table(hdu_list[1].data)\n",
    "hdu_list.close()"
   ]
  },
  {
   "cell_type": "code",
   "execution_count": null,
   "id": "16d2fc6f",
   "metadata": {},
   "outputs": [],
   "source": [
    "abell2744.add_column('abells2744clu', name='field', index=0)\n",
    "abells1063.add_column('abells1063', name='field', index=0)\n",
    "elgordo.add_column('elgordo', name='field', index=0)\n",
    "j_field.add_column('j112716p4228', name='field', index=0)\n",
    "macs.add_column('macs0647', name='field', index=0)\n",
    "rxj.add_column('rxj2129', name='field', index=0)\n",
    "smacs.add_column('smacs0723', name='field', index=0)\n",
    "sunrise.add_column('sunrise', name='field', index=0)"
   ]
  },
  {
   "cell_type": "code",
   "execution_count": null,
   "id": "01d6d70d",
   "metadata": {},
   "outputs": [],
   "source": [
    "ceers.add_column('ceers', name='field', index=0)\n",
    "gdn.add_column('gdn', name='field', index=0)\n",
    "gds.add_column('gds', name='field', index=0)\n",
    "ngdeep.add_column('ngdeep', name='field', index=0)\n",
    "cosmos_east.add_column('cosmos_east', name='field', index=0)\n",
    "cosmos_west.add_column('cosmos_west', name='field', index=0)\n",
    "udsn.add_column('udsn', name='field', index=0)\n",
    "udss.add_column('udss', name='field', index=0)"
   ]
  },
  {
   "cell_type": "code",
   "execution_count": null,
   "id": "3a0fb135",
   "metadata": {},
   "outputs": [],
   "source": [
    "main = vstack([ceers,gdn,gds])#,ngdeep,cosmos_east,cosmos_west,udsn,udss])"
   ]
  },
  {
   "cell_type": "code",
   "execution_count": null,
   "id": "5e5cbd1e",
   "metadata": {},
   "outputs": [],
   "source": [
    "m2 = vstack([main,ngdeep,cosmos_east])#,cosmos_west])"
   ]
  },
  {
   "cell_type": "code",
   "execution_count": null,
   "id": "43ee3d1a",
   "metadata": {},
   "outputs": [],
   "source": [
    "m3 = vstack([m2,udsn,udss])"
   ]
  },
  {
   "cell_type": "code",
   "execution_count": null,
   "id": "28f8e3e9",
   "metadata": {},
   "outputs": [],
   "source": [
    "main.write('MPhys/DAWN_JWST/main_merged.fits',format='fits',overwrite=True)"
   ]
  },
  {
   "cell_type": "code",
   "execution_count": null,
   "id": "176dc778",
   "metadata": {},
   "outputs": [],
   "source": [
    "fields_new= ['ceers','gdn','gds','ngdeep','cosmos_east','cosmos_west','udsn','udss','abell2744','abells1063','elgordo','j_field','macs','rxj','smacs','sunrise']"
   ]
  },
  {
   "cell_type": "markdown",
   "id": "bd021732",
   "metadata": {},
   "source": [
    "# Convert to Luptiudes for Each Field\n"
   ]
  },
  {
   "cell_type": "code",
   "execution_count": null,
   "id": "b5930645",
   "metadata": {},
   "outputs": [],
   "source": [
    "field=gds\n"
   ]
  },
  {
   "cell_type": "code",
   "execution_count": null,
   "id": "abcf2908",
   "metadata": {},
   "outputs": [],
   "source": [
    "filters0 = [col.split('_')[0] for col in field.colnames if col.endswith('flux_aper_0')]\n",
    "filters0=filters0[1:]\n",
    "filters1 = [col.split('_')[0] for col in field.colnames if col.endswith('flux_aper_1')]\n",
    "filters1=filters1[1:]\n",
    "\n",
    "filters2 = [col.split('_')[0] for col in field.colnames if col.endswith('flux_aper_2')]\n",
    "filters2=filters2[1:]\n",
    "\n",
    "filters3 = [col.split('_')[0] for col in field.colnames if col.endswith('flux_aper_3')]\n",
    "filters3=filters3[1:]\n",
    "\n"
   ]
  },
  {
   "cell_type": "code",
   "execution_count": null,
   "id": "58d2cb99",
   "metadata": {},
   "outputs": [],
   "source": [
    "\n",
    "b_arr0 = [basic_lupt_soft(field[f'{filt}_flux_aper_0'], field[f'{filt}_fluxerr_aper_0']) for filt in filters0] \n",
    "b_arr1 = [basic_lupt_soft(field[f'{filt}_flux_aper_1'], field[f'{filt}_fluxerr_aper_1']) for filt in filters1] \n",
    "b_arr2 = [basic_lupt_soft(field[f'{filt}_flux_aper_2'], field[f'{filt}_fluxerr_aper_2']) for filt in filters2] \n",
    "b_arr3 = [basic_lupt_soft(field[f'{filt}_flux_aper_3'], field[f'{filt}_fluxerr_aper_3']) for filt in filters3] "
   ]
  },
  {
   "cell_type": "code",
   "execution_count": null,
   "id": "5020e9a2",
   "metadata": {},
   "outputs": [],
   "source": [
    "i=2\n",
    "lupt_cols=field['field','id','ra','dec']\n",
    "\n",
    "for filt,b in zip(filters0,b_arr0):\n",
    "    lupt,lupterr = flux_to_lupt(field[f'{filt}_flux_aper_0'],field[f'{filt}_fluxerr_aper_0'],b)\n",
    "    lupt_cols[f'lupt_{filt}_aper0']=lupt\n",
    "    lupt_cols[f'lupterr_{filt}_aper0']=lupterr\n",
    "for filt,b in zip(filters1,b_arr1):\n",
    "    lupt,lupterr = flux_to_lupt(field[f'{filt}_flux_aper_1'],field[f'{filt}_fluxerr_aper_1'],b)\n",
    "    lupt_cols[f'lupt_{filt}_aper1']=lupt\n",
    "    lupt_cols[f'lupterr_{filt}_aper1']=lupterr\n",
    "for filt,b in zip(filters2,b_arr2):\n",
    "    lupt,lupterr = flux_to_lupt(field[f'{filt}_flux_aper_2'],field[f'{filt}_fluxerr_aper_2'],b)\n",
    "    lupt_cols[f'lupt_{filt}_aper2']=lupt\n",
    "    lupt_cols[f'lupterr_{filt}_aper2']=lupterr\n",
    "for filt,b in zip(filters3,b_arr3):\n",
    "    lupt,lupterr = flux_to_lupt(field[f'{filt}_flux_aper_3'],field[f'{filt}_fluxerr_aper_3'],b)\n",
    "    lupt_cols[f'lupt_{filt}_aper3']=lupt\n",
    "    lupt_cols[f'lupterr_{filt}_aper3']=lupterr\n",
    "\n",
    "lupt_cols.write(f'MPhys/catalogues/{fields[i]}_lupts.fits',format='fits', overwrite=True)"
   ]
  },
  {
   "cell_type": "code",
   "execution_count": null,
   "id": "05e9b95b",
   "metadata": {},
   "outputs": [],
   "source": [
    "t = Table.read('MPhys/catalogues/gds_lupts.fits',format ='fits')\n",
    "t"
   ]
  },
  {
   "cell_type": "code",
   "execution_count": null,
   "id": "d00bfaab",
   "metadata": {},
   "outputs": [],
   "source": []
  },
  {
   "cell_type": "code",
   "execution_count": null,
   "id": "3a024905",
   "metadata": {},
   "outputs": [],
   "source": [
    "lup_ceers=Table.read('MPhys/catalogues/ceers-full_lupts.fits',format='fits')\n",
    "lup_gds=Table.read('MPhys/catalogues/gds_lupts.fits',format='fits')\n",
    "lup_gdn=Table.read('MPhys/catalogues/gdn_lupts.fits',format='fits')\n",
    "lup_ngdeep=Table.read('MPhys/catalogues/ngdeep_lupts.fits',format='fits')\n",
    "lup_udss=Table.read('MPhys/catalogues/primer-uds-south_lupts.fits',format='fits')\n",
    "lup_udsn=Table.read('MPhys/catalogues/primer-uds-north_lupts.fits',format='fits')\n",
    "lup_cosmos_east=Table.read('MPhys/catalogues/primer-cosmos-east_lupts.fits',format='fits')\n",
    "lup_cosmos_west=Table.read('MPhys/catalogues/primer-cosmos-west_lupts.fits',format='fits')"
   ]
  },
  {
   "cell_type": "code",
   "execution_count": null,
   "id": "3b73e3b6",
   "metadata": {},
   "outputs": [],
   "source": [
    "lup_abell2744clu = Table.read('MPhys/catalogues/abell2744clu_lupts.fits',format='fits')\n",
    "lup_abells1063=Table.read('MPhys/catalogues/abells1063_lupts.fits',format='fits')\n",
    "lup_elgordo=Table.read('MPhys/catalogues/elgordo_lupts.fits',format='fits')\n",
    "lup_j112716p4228=Table.read('MPhys/catalogues/j112716p4228_lupts.fits',format='fits')\n",
    "lup_macs0647=Table.read('MPhys/catalogues/macs0647_lupts.fits',format='fits')\n",
    "lup_rxj2129=Table.read('MPhys/catalogues/rxj2129_lupts.fits',format='fits')\n",
    "lup_smacs0723=Table.read('MPhys/catalogues/smacs0723_lupts.fits',format='fits')\n",
    "lup_sunrise=Table.read('MPhys/catalogues/sunrise_lupts.fits',format='fits')"
   ]
  },
  {
   "cell_type": "code",
   "execution_count": null,
   "id": "76e791a7",
   "metadata": {},
   "outputs": [],
   "source": [
    "#saves laptop dying if split up \n",
    "lup_con =vstack([lup_ceers,lup_gds,lup_gdn,lup_ngdeep,lup_udss,lup_udsn,lup_cosmos_east,lup_cosmos_west,lup_abell2744clu])\n"
   ]
  },
  {
   "cell_type": "code",
   "execution_count": null,
   "id": "de57d54a",
   "metadata": {},
   "outputs": [],
   "source": []
  },
  {
   "cell_type": "code",
   "execution_count": null,
   "id": "a042970a",
   "metadata": {},
   "outputs": [],
   "source": []
  },
  {
   "cell_type": "code",
   "execution_count": null,
   "id": "d9bba1c8",
   "metadata": {},
   "outputs": [],
   "source": []
  },
  {
   "cell_type": "code",
   "execution_count": null,
   "id": "993a5718",
   "metadata": {},
   "outputs": [],
   "source": []
  },
  {
   "cell_type": "code",
   "execution_count": null,
   "id": "b2631826",
   "metadata": {},
   "outputs": [],
   "source": []
  },
  {
   "cell_type": "code",
   "execution_count": null,
   "id": "01dac73f",
   "metadata": {},
   "outputs": [],
   "source": []
  },
  {
   "cell_type": "code",
   "execution_count": null,
   "id": "fbffa4e8",
   "metadata": {},
   "outputs": [],
   "source": [
    "#most small fields not in specz confirmed so not included rn \n",
    "\n",
    "lup_con_small = vstack([lup_abell2744clu,lup_abells1063,lup_elgordo,lup_j112716p4228,lup_macs0647,lup_rxj2129,lup_smacs0723,lup_sunrise])"
   ]
  },
  {
   "cell_type": "code",
   "execution_count": null,
   "id": "b05f8b2d",
   "metadata": {},
   "outputs": [],
   "source": [
    "lup_total = vstack([lup_con,lup_con_small])"
   ]
  },
  {
   "cell_type": "code",
   "execution_count": null,
   "id": "0efe881a",
   "metadata": {},
   "outputs": [],
   "source": [
    "#needs to be done in CP Lab \n",
    "lup_total.write('luptitudes_all_jwst.fits', format='fits', overwrite=True)"
   ]
  },
  {
   "cell_type": "markdown",
   "id": "9d512709",
   "metadata": {},
   "source": [
    "\n",
    "# Skymatching Catalogues"
   ]
  },
  {
   "cell_type": "code",
   "execution_count": null,
   "id": "7ff9aa48",
   "metadata": {},
   "outputs": [],
   "source": [
    "candels=Table.read('MPhys/CANDELS_dawn_catalogue.fits',format='fits')\n",
    "jwst=Table.read('luptitudes_all_jwst.fits',format='fits')\n",
    "dawn = Table.read('csv.csv',format='csv')"
   ]
  },
  {
   "cell_type": "code",
   "execution_count": null,
   "id": "e3a09e55",
   "metadata": {},
   "outputs": [],
   "source": [
    "z = dawn['zspec']\n",
    "z[z < 0] = np.nan\n",
    "masked=[]\n",
    "for i in range(len(dawn)):\n",
    "    masked.append(np.ma.is_masked(z[i]))\n",
    "masked_inv=np.array(np.invert(masked))\n",
    "masked_cat =dawn[masked_inv*(np.ma.is_masked(z) == True)] \n",
    "nans=[]\n",
    "for i in range(len(masked_cat)):\n",
    "    nans.append(np.isnan(masked_cat['zspec'][i]))\n",
    "nans_inv=np.array(np.invert(nans))\n",
    "dawn_zreal =masked_cat[nans_inv*(np.isnan(masked_cat['zspec']) == False)] "
   ]
  },
  {
   "cell_type": "code",
   "execution_count": null,
   "id": "2bc045e0",
   "metadata": {},
   "outputs": [],
   "source": [
    "dawn_zreal"
   ]
  },
  {
   "cell_type": "code",
   "execution_count": null,
   "id": "5ce45b0e",
   "metadata": {},
   "outputs": [],
   "source": [
    "ra1=dawn_zreal['ra']\n",
    "dec1=dawn_zreal['dec']\n",
    "ra2=candels['RA']\n",
    "dec2=candels['DEC']\n"
   ]
  },
  {
   "cell_type": "code",
   "execution_count": null,
   "id": "e41f3d26",
   "metadata": {},
   "outputs": [],
   "source": [
    "dawn_cat = SkyCoord(ra=ra1*u.degree, dec=dec1*u.degree)#dawn\n",
    "candels_cat = SkyCoord(ra=ra2*u.degree, dec=dec2*u.degree)#candels\n"
   ]
  },
  {
   "cell_type": "code",
   "execution_count": null,
   "id": "4c5d4e5b",
   "metadata": {},
   "outputs": [],
   "source": [
    "max_sep = 0.2 * u.arcsec\n",
    "idx, d2d, d3d = dawn_cat.match_to_catalog_sky(candels_cat)#catalog = candels information\n",
    "idx_dawn, d2d_dawn, d3d_dawn = candels_cat.match_to_catalog_sky(dawn_cat)"
   ]
  },
  {
   "cell_type": "code",
   "execution_count": null,
   "id": "1ebfe782",
   "metadata": {},
   "outputs": [],
   "source": [
    "id_candel=[] #ids of candels catalog \n",
    "for i in range(len(ra1)):\n",
    "    if d2d[i]< max_sep:\n",
    "        id_candel.append(idx[i])\n",
    "id_dawn=[] #ids of jwst catalog \n",
    "for i in range(len(ra2)):\n",
    "    if d2d_dawn[i]< max_sep:\n",
    "        id_dawn.append(idx_dawn[i])\n"
   ]
  },
  {
   "cell_type": "code",
   "execution_count": null,
   "id": "80fd8ef8",
   "metadata": {},
   "outputs": [],
   "source": [
    "id_candels_new=list(set(id_candel))\n",
    "id_dawn_new = list(set(id_dawn)) \n",
    "matched_candels = candels[id_candels_new]\n",
    "matched_dawn= dawn_zreal[id_dawn_new ]"
   ]
  },
  {
   "cell_type": "code",
   "execution_count": null,
   "id": "53618013",
   "metadata": {},
   "outputs": [],
   "source": [
    "#candels.remove_rows(id_candel)\n",
    "dawn_zreal.remove_rows(id_dawn)\n",
    "candels"
   ]
  },
  {
   "cell_type": "code",
   "execution_count": null,
   "id": "c2f2353f",
   "metadata": {},
   "outputs": [],
   "source": [
    "matched_candels['z_spec']=matched_dawn['zspec'] #update candels zspec to jwst zspec"
   ]
  },
  {
   "cell_type": "code",
   "execution_count": null,
   "id": "d27b1fad",
   "metadata": {},
   "outputs": [],
   "source": [
    "#dawn_zreal.rename_column('ra', 'RA')\n",
    "#dawn_zreal.rename_column('dec', 'DEC')\n",
    "#dawn_zreal.rename_column('zspec','z_spec')"
   ]
  },
  {
   "cell_type": "code",
   "execution_count": null,
   "id": "41916cc7",
   "metadata": {},
   "outputs": [],
   "source": []
  },
  {
   "cell_type": "code",
   "execution_count": null,
   "id": "8441314b",
   "metadata": {},
   "outputs": [],
   "source": [
    "zspec_cat = vstack([candels,matched_candels, dawn_zreal])\n",
    "specz_conf = zspec_cat['RA','DEC','z_spec']\n",
    "specz_conf.write('MPhys/catalogues/full_specz_sources.fits',format='fits')"
   ]
  },
  {
   "cell_type": "code",
   "execution_count": null,
   "id": "b4a2c297",
   "metadata": {},
   "outputs": [],
   "source": [
    "specz = Table.read('MPhys/catalogues/full_specz_sources.fits',format='fits')"
   ]
  },
  {
   "cell_type": "code",
   "execution_count": null,
   "id": "3bc5114a",
   "metadata": {},
   "outputs": [],
   "source": [
    "ra3 = jwst['ra']\n",
    "dec3=jwst['dec']\n",
    "ra4=specz['RA']\n",
    "dec4=specz['DEC']\n",
    "\n",
    "jwst_cat = SkyCoord(ra=ra3*u.degree, dec=dec3*u.degree)#jwst\n",
    "specz_cat = SkyCoord(ra=ra4*u.degree, dec=dec4*u.degree)#jwst"
   ]
  },
  {
   "cell_type": "code",
   "execution_count": null,
   "id": "5138ee6e",
   "metadata": {},
   "outputs": [],
   "source": [
    "idx_specz, d2d_specz, d3d_specz = jwst_cat.match_to_catalog_sky(specz_cat)#catalog = candels information\n",
    "idx_jwst, d2d_jwst, d3d_jwst = specz_cat.match_to_catalog_sky(jwst_cat)"
   ]
  },
  {
   "cell_type": "code",
   "execution_count": null,
   "id": "8e27969f",
   "metadata": {},
   "outputs": [],
   "source": [
    "id_specz=[] #ids of candels catalog \n",
    "for i in range(len(ra3)):\n",
    "    if d2d_specz[i]< max_sep:\n",
    "        id_specz.append(idx_specz[i])\n",
    "id_jwst=[] #ids of jwst catalog \n",
    "for i in range(len(ra4)):\n",
    "    if d2d_jwst[i]< max_sep:\n",
    "        id_jwst.append(idx_jwst[i])\n"
   ]
  },
  {
   "cell_type": "code",
   "execution_count": null,
   "id": "a3cf415f",
   "metadata": {},
   "outputs": [],
   "source": [
    "idx_new = list(set(id_specz)) #list of non-repeating candels indexs\n",
    "idx_new_jwst = list(set(id_jwst)) \n",
    "matched_specz = specz[idx_new]\n",
    "matched_jwst = jwst[idx_new_jwst]\n",
    "matched_specz.sort('RA') #makes them in same order\n",
    "matched_jwst.sort('ra')\n"
   ]
  },
  {
   "cell_type": "code",
   "execution_count": null,
   "id": "511705e6",
   "metadata": {},
   "outputs": [],
   "source": [
    "#matched_jwst.add_column(matched_specz['z_spec'], name='z_spec', index=-1)\n",
    "matched_jwst.write('MPhys/catalogues/jwst_skymatched_specz.fits',format='fits')"
   ]
  },
  {
   "cell_type": "code",
   "execution_count": null,
   "id": "cadf3405",
   "metadata": {},
   "outputs": [],
   "source": []
  },
  {
   "cell_type": "code",
   "execution_count": null,
   "id": "d2be70bb",
   "metadata": {},
   "outputs": [],
   "source": []
  },
  {
   "cell_type": "code",
   "execution_count": null,
   "id": "50d775d8",
   "metadata": {},
   "outputs": [],
   "source": []
  },
  {
   "cell_type": "markdown",
   "id": "1ad5d7ca",
   "metadata": {},
   "source": [
    "# Filter Choices for Training Catalogue\n"
   ]
  },
  {
   "cell_type": "code",
   "execution_count": null,
   "id": "db2a7260",
   "metadata": {},
   "outputs": [],
   "source": [
    "train = Table.read('MPhys/catalogues/lupt_jwst_skymatched_specz.fits',format = 'fits')\n",
    "\n"
   ]
  },
  {
   "cell_type": "code",
   "execution_count": null,
   "id": "b94dbc22",
   "metadata": {},
   "outputs": [],
   "source": [
    "for i in range(len(train['field'])):\n",
    "    if train['field'][i]=='gds':\n",
    "        print(train['field'][i])\n"
   ]
  },
  {
   "cell_type": "code",
   "execution_count": null,
   "id": "b49c1973",
   "metadata": {},
   "outputs": [],
   "source": [
    "#Full catalogue filter names \n",
    "filters_1 = [col.split('_')[1] for col in train.colnames if col.endswith('_aper1')]\n",
    "#print(len(filters_1))\n",
    "print(filters_1)"
   ]
  },
  {
   "cell_type": "code",
   "execution_count": null,
   "id": "878a9f5c",
   "metadata": {},
   "outputs": [],
   "source": [
    "#### FILTER CHOICES\n",
    "bc= ['f115w-clear','f200w-clear','f356w-clear','f444w-clear']\n",
    "#swap f115w for f814w,f606w,f435w,f125w,f140w,f160w,f150w\n",
    "c1 =['f814w','f200w-clear','f356w-clear','f444w-clear']\n",
    "c2 =['f606w','f200w-clear','f356w-clear','f444w-clear']\n",
    "c3 =['f435w','f200w-clear','f356w-clear','f444w-clear']\n",
    "c4 =['f125w','f200w-clear','f356w-clear','f444w-clear']\n",
    "c5 =['f140w','f200w-clear','f356w-clear','f444w-clear']\n",
    "c6 =['f160w','f200w-clear','f356w-clear','f444w-clear']\n",
    "c7 =['f150w-clear','f200w-clear','f356w-clear','f444w-clear']\n",
    "#swap f200w for f210m - less sources so should be short cat\n",
    "c8 =  ['f115w-clear','f210m-clear','f356w-clear','f444w-clear']\n",
    "#swap f444w for f410m\n",
    "c9= ['f115w-clear','f200w-clear','f356w-clear','f410m-clear']\n",
    "c10=['f115w-clear','f606w','f150w-clear','f444w-clear']\n"
   ]
  },
  {
   "cell_type": "code",
   "execution_count": null,
   "id": "00658d25",
   "metadata": {},
   "outputs": [],
   "source": [
    "######change this to make new catalogue of filters\n",
    "aper=0\n",
    "aper_size=1\n",
    "choice=c10\n",
    "lup_train = train['field','id','ra','dec','z_spec']\n",
    "lup_train[f'lupt_{choice[0]}']=train[f'lupt_{choice[0]}_aper{aper}']\n",
    "lup_train[f'lupterr_{choice[0]}']=train[f'lupterr_{choice[0]}_aper{aper}']\n",
    "lup_train[f'lupt_{choice[1]}']=train[f'lupt_{choice[1]}_aper{aper}']\n",
    "lup_train[f'lupterr_{choice[1]}']=train[f'lupterr_{choice[1]}_aper{aper}']\n",
    "lup_train[f'lupt_{choice[2]}']=train[f'lupt_{choice[2]}_aper{aper}']\n",
    "lup_train[f'lupterr_{choice[2]}']=train[f'lupterr_{choice[2]}_aper{aper}']\n",
    "lup_train[f'lupt_{choice[3]}']=train[f'lupt_{choice[3]}_aper{aper}']\n",
    "lup_train[f'lupterr_{choice[3]}']=train[f'lupterr_{choice[3]}_aper{aper}']\n",
    "#Adds size column \n",
    "lup_train[f'lupt_{choice[3]}_size']=train[f'lupt_{choice[3]}_aper{aper_size}']/train[f'lupt_{choice[3]}_aper{aper}']\n",
    "lup_train[f'lupterr_{choice[3]}_size']=train[f'lupterr_{choice[3]}_aper{aper_size}']/train[f'lupterr_{choice[3]}_aper{aper}']"
   ]
  },
  {
   "cell_type": "code",
   "execution_count": null,
   "id": "b7e1c3df",
   "metadata": {},
   "outputs": [],
   "source": [
    "#lup_train"
   ]
  },
  {
   "cell_type": "code",
   "execution_count": null,
   "id": "6aa111ee",
   "metadata": {},
   "outputs": [],
   "source": [
    "#filts=['f115w','f200w','f277w','f356w','f444w']"
   ]
  },
  {
   "cell_type": "code",
   "execution_count": null,
   "id": "c0e64eb8",
   "metadata": {},
   "outputs": [],
   "source": [
    "f1=[]\n",
    "for i in range(len(lup_train)):\n",
    "    f1.append(np.ma.is_masked(lup_train[f'lupt_{choice[0]}'][i]))\n",
    "f1_inv=np.array(np.invert(f1))\n",
    "f1_cat =lup_train[f1_inv*(np.ma.is_masked(lup_train[f'lupt_{choice[0]}']) == True)] "
   ]
  },
  {
   "cell_type": "code",
   "execution_count": null,
   "id": "41b8141e",
   "metadata": {},
   "outputs": [],
   "source": [
    "#f1_cat"
   ]
  },
  {
   "cell_type": "code",
   "execution_count": null,
   "id": "1e939880",
   "metadata": {},
   "outputs": [],
   "source": [
    "\n",
    "f2=[]\n",
    "for i in range(len(f1_cat)):\n",
    "    f2.append(np.ma.is_masked(f1_cat[f'lupt_{choice[1]}'][i]))\n",
    "f2_inv=np.array(np.invert(f2))\n",
    "f2_cat =f1_cat[f2_inv*(np.ma.is_masked(f1_cat[f'lupt_{choice[1]}']) ==True)] "
   ]
  },
  {
   "cell_type": "code",
   "execution_count": null,
   "id": "e23fb50d",
   "metadata": {},
   "outputs": [],
   "source": [
    "#f2_cat"
   ]
  },
  {
   "cell_type": "code",
   "execution_count": null,
   "id": "b7e2b802",
   "metadata": {},
   "outputs": [],
   "source": [
    "\n",
    "f3=[]\n",
    "for i in range(len(f2_cat)):\n",
    "    f3.append(np.ma.is_masked(f2_cat[f'lupt_{choice[2]}'][i]))\n",
    "f3_inv=np.array(np.invert(f3))\n",
    "f3_cat =f2_cat[f3_inv*(np.ma.is_masked(f2_cat[f'lupt_{choice[2]}']) == True)] "
   ]
  },
  {
   "cell_type": "code",
   "execution_count": null,
   "id": "d03e1a69",
   "metadata": {},
   "outputs": [],
   "source": [
    "#f3_cat"
   ]
  },
  {
   "cell_type": "code",
   "execution_count": null,
   "id": "e9a868a6",
   "metadata": {},
   "outputs": [],
   "source": [
    "\n",
    "f4=[]\n",
    "for i in range(len(f3_cat)):\n",
    "    f4.append(np.ma.is_masked(f3_cat[f'lupt_{choice[3]}'][i]))\n",
    "f4_inv=np.array(np.invert(f4))\n",
    "f4_cat =f3_cat[f4_inv*(np.ma.is_masked(f3_cat[f'lupt_{choice[3]}']) == True)] #false idk why but works \n"
   ]
  },
  {
   "cell_type": "code",
   "execution_count": null,
   "id": "7c36eada",
   "metadata": {},
   "outputs": [],
   "source": [
    "f4_cat"
   ]
  },
  {
   "cell_type": "code",
   "execution_count": null,
   "id": "ddcac1e9",
   "metadata": {},
   "outputs": [],
   "source": [
    "#USE IF USING 5TH FILTER\n",
    "f5=[]\n",
    "for i in range(len(f4_cat)):\n",
    "    f5.append(np.ma.is_masked(f4_cat[f'lupt_{choice[3]}_size'][i]))\n",
    "f5_inv=np.array(np.invert(f5))\n",
    "f5_cat =f4_cat[f5_inv*(np.ma.is_masked(f4_cat[f'lupterr_{choice[3]}_size']) == False)] "
   ]
  },
  {
   "cell_type": "code",
   "execution_count": null,
   "id": "59ac9362",
   "metadata": {},
   "outputs": [],
   "source": [
    "f5_cat"
   ]
  },
  {
   "cell_type": "code",
   "execution_count": null,
   "id": "f6d58514",
   "metadata": {},
   "outputs": [],
   "source": [
    "#f4_cat.write('MPhys/catalogues/base_filter_choice.fits',format = 'fits',overwrite=True)\n",
    "f5_cat.write(f'MPhys/base_filter_permutations/base_filter_permutations/size/informed_choice_size.cat',format = 'ascii.commented_header',overwrite=True)"
   ]
  },
  {
   "cell_type": "code",
   "execution_count": null,
   "id": "39046a54",
   "metadata": {},
   "outputs": [],
   "source": [
    "onlyfiles = [f for f in listdir('MPhys/base_filter_permutations/base_filter_permutations/no_size') if isfile(join('MPhys/base_filter_permutations/base_filter_permutations/no_size', f))]"
   ]
  },
  {
   "cell_type": "code",
   "execution_count": null,
   "id": "729c718a",
   "metadata": {},
   "outputs": [],
   "source": [
    "files = ['informed_choice_no_size.cat']"
   ]
  },
  {
   "cell_type": "code",
   "execution_count": null,
   "id": "e974a2c3",
   "metadata": {},
   "outputs": [],
   "source": [
    "#for file in onlyfiles:\n",
    "    #print(file)\n",
    "t_full =Table.read(f'MPhys/base_filter_permutations/base_filter_permutations/size/informed_choice_size.cat',format = 'ascii.commented_header')\n",
    "train_sample = int(len(t_full)*0.8)\n",
    "t = t_full[0:train_sample]\n",
    "p = t_full[train_sample:-1]\n",
    "t.write(f'MPhys/base_filter_permutations/base_filter_permutations/TRAIN/TRAIN_informed_choice_size.cat',format = 'ascii.commented_header',overwrite=True)\n",
    "p.write(f'MPhys/base_filter_permutations/base_filter_permutations/PRED/PRED_informed_choice_size.cat',format = 'ascii.commented_header',overwrite=True)"
   ]
  },
  {
   "cell_type": "markdown",
   "id": "9c06fb56",
   "metadata": {},
   "source": [
    "# Split into high and low redshift\n"
   ]
  },
  {
   "cell_type": "code",
   "execution_count": null,
   "id": "9bbbe73a",
   "metadata": {},
   "outputs": [],
   "source": [
    "#for file in files:\n",
    "t_full =Table.read(f'MPhys/base_filter_permutations/base_filter_permutations/size/base_choice_size.cat',format = 'ascii.commented_header')\n",
    "z = t_full['z_spec']\n",
    "low=np.zeros(len(z))\n",
    "high=np.zeros(len(z))\n",
    "for i in range(len(z)):\n",
    "    if z[i]<=3:\n",
    "        low[i] =1\n",
    "\n",
    "\n",
    "    elif z[i]>=3:\n",
    "        high[i]=1\n",
    "low_bool = np.array(low, dtype =bool)\n",
    "high_bool = np.array(high, dtype =bool)\n",
    "\n",
    "lowz=t_full[low_bool]\n",
    "highz=t_full[high_bool]\n",
    "#highz.write(f'MPhys/base_filter_permutations/base_filter_permutations/zsplit/highz_base_choice.cat', format = 'ascii.commented_header')\n",
    "#lowz.write(f'MPhys/base_filter_permutations/base_filter_permutations/zsplit/lowz_base_choice.cat', format =  'ascii.commented_header')\n",
    "\n",
    "#HIGH\n",
    "train_sample_high = int(len(highz)*0.8)\n",
    "t_high = highz[0:train_sample_high]\n",
    "p_high = highz[train_sample_high:-1]\n",
    "t_high.write(f'MPhys/base_filter_permutations/base_filter_permutations/TRAIN/TRAIN_highz_size_base',format = 'ascii.commented_header',overwrite=True)\n",
    "p_high.write(f'MPhys/base_filter_permutations/base_filter_permutations/PRED/PRED_highz_size_base',format = 'ascii.commented_header',overwrite=True)\n",
    "\n",
    "#LOW\n",
    "#low_full =Table.read('MPhys/base_filter_permutations/base_filter_permutations/zsplit/lowz_base_choice.cat',format = 'ascii.commented_header')\n",
    "train_sample_low = int(len(lowz)*0.8)\n",
    "t_low = lowz[0:train_sample_low]\n",
    "p_low = lowz[train_sample_low:-1]\n",
    "t_low.write(f'MPhys/base_filter_permutations/base_filter_permutations/TRAIN/TRAIN_lowz_size_base',format = 'ascii.commented_header',overwrite=True)\n",
    "p_low.write(f'MPhys/base_filter_permutations/base_filter_permutations/PRED/PRED_lowz_size_base',format = 'ascii.commented_header',overwrite=True)"
   ]
  },
  {
   "cell_type": "code",
   "execution_count": null,
   "id": "67847901",
   "metadata": {},
   "outputs": [],
   "source": []
  },
  {
   "cell_type": "code",
   "execution_count": null,
   "id": "c10fab23",
   "metadata": {},
   "outputs": [],
   "source": []
  },
  {
   "cell_type": "code",
   "execution_count": null,
   "id": "d61b33b8",
   "metadata": {},
   "outputs": [],
   "source": []
  },
  {
   "cell_type": "code",
   "execution_count": null,
   "id": "097bb77a",
   "metadata": {},
   "outputs": [],
   "source": [
    "#ignore "
   ]
  },
  {
   "cell_type": "code",
   "execution_count": null,
   "id": "2e38cc6e",
   "metadata": {},
   "outputs": [],
   "source": [
    "fit= Table.read('MPhys/jwst_parameter_files/jwst_nans_removed_lupts_specz_TRAIN.fits', format = 'fits')\n",
    "train = fit['id_1','ra_1','dec_1','lupt_f115w','lupterr_f115w','lupt_f200w','lupterr_f200w','lupt_f277w','lupterr_f277w','lupt_f356w','lupterr_f356w','lupt_f444w','lupterr_f444w','z_spec']\n",
    "train.write('MPhys/gpz_files/jwst_TRAIN_2.cat',format='ascii.commented_header',overwrite=True)"
   ]
  },
  {
   "cell_type": "code",
   "execution_count": null,
   "id": "3309128e",
   "metadata": {},
   "outputs": [],
   "source": [
    "train.sort('id_1')"
   ]
  },
  {
   "cell_type": "code",
   "execution_count": null,
   "id": "71380e4d",
   "metadata": {},
   "outputs": [],
   "source": [
    "train_split=train[0:int(0.8*len(train))]\n",
    "pred_split=train[int(0.8*len(train)):-1]"
   ]
  },
  {
   "cell_type": "code",
   "execution_count": null,
   "id": "7a893f57",
   "metadata": {},
   "outputs": [],
   "source": [
    "train_split.write('MPhys/gpz_files/TRAIN_80_split.cat', format ='ascii.commented_header', overwrite=True)\n",
    "pred_split.write('MPhys/gpz_files/PRED_20_split.cat', format ='ascii.commented_header', overwrite=True)"
   ]
  },
  {
   "cell_type": "code",
   "execution_count": null,
   "id": "444beaa3",
   "metadata": {},
   "outputs": [],
   "source": [
    "pred_split"
   ]
  },
  {
   "cell_type": "code",
   "execution_count": null,
   "id": "08912150",
   "metadata": {},
   "outputs": [],
   "source": [
    "ceers_new.write('ceers_tst.fits',format='fits',overwrite=True)"
   ]
  },
  {
   "cell_type": "code",
   "execution_count": null,
   "id": "9dad50ed",
   "metadata": {},
   "outputs": [],
   "source": [
    "filt='f115w-clear_flux_aper_1'\n",
    "cat_ceers = ceers[f'{filt}','flux_auto','flux_aper_1']\n",
    "cat_gds= gds[f'{filt}','flux_auto','flux_aper_1']\n",
    "cat_gdn = gdn[f'{filt}','flux_auto','flux_aper_1']\n",
    "cat_ngdeep = ngdeep[f'{filt}','flux_auto','flux_aper_1']\n",
    "cat_cosmos_west = cosmos_west[f'{filt}','flux_auto','flux_aper_1']\n",
    "cat_cosmos_east = cosmos_east[f'{filt}','flux_auto','flux_aper_1']\n",
    "cat_udss = udss[f'{filt}','flux_auto','flux_aper_1']\n",
    "cat_udsn = udsn[f'{filt}','flux_auto','flux_aper_1']\n",
    "\n",
    "\n",
    "    \n"
   ]
  },
  {
   "cell_type": "code",
   "execution_count": null,
   "id": "4cfc0dae",
   "metadata": {},
   "outputs": [],
   "source": [
    "flux_ceers=[]\n",
    "mag_ceers=[]\n",
    "\n",
    "flux_gds=[]\n",
    "mag_gds=[]\n",
    "\n",
    "flux_gdn=[]\n",
    "#mag_gdn=[]\n",
    "\n",
    "flux_ngdeep=[]\n",
    "mag_ngdeep=[]\n",
    "\n",
    "flux_cosmos_west=[]\n",
    "mag_cosmos_west=[]\n",
    "\n",
    "flux_udss=[]\n",
    "mag_udss=[]\n",
    "\n",
    "flux_udsn=[]\n",
    "#mag_udsn=[]\n",
    "\n",
    "flux_cosmos_east=[]\n",
    "#mag_cosmos_east=[]\n",
    "\n",
    "for j in range(len(cat_ceers)):\n",
    "    flux_ceers.append((cat_ceers[f'{filt}'][j] * cat_ceers['flux_auto'][j]) /cat_ceers['flux_aper_1'][j])\n",
    "    mag_ceers.append(23.9-(2.5*np.log10(flux_ceers[j])))\n",
    "for j in range(len(cat_gds)):\n",
    "    flux_gds.append((cat_gds[f'{filt}'][j] * cat_gds['flux_auto'][j]) /cat_gds['flux_aper_1'][j])\n",
    "    mag_gds.append(23.9-(2.5*np.log10(flux_gds[j])))\n",
    "for j in range(len(cat_gdn)):\n",
    "    flux_gdn.append((cat_gdn[f'{filt}'][j] * cat_gdn['flux_auto'][j]) /cat_gdn['flux_aper_1'][j])\n",
    "    mag_gds.append(23.9-(2.5*np.log10(flux_gdn[j])))\n",
    "for j in range(len(cat_cosmos_west)):\n",
    "    flux_cosmos_west.append((cat_cosmos_west[f'{filt}'][j] * cat_cosmos_west['flux_auto'][j]) /cat_cosmos_west['flux_aper_1'][j])\n",
    "    mag_cosmos_west.append(23.9-(2.5*np.log10(flux_cosmos_west[j])))\n",
    "for j in range(len(cat_cosmos_east)):\n",
    "    flux_cosmos_east.append((cat_cosmos_east[f'{filt}'][j] * cat_cosmos_east['flux_auto'][j]) /cat_cosmos_east['flux_aper_1'][j])\n",
    "    mag_cosmos_west.append(23.9-(2.5*np.log10(flux_cosmos_east[j])))\n",
    "for j in range(len(cat_udss)):\n",
    "    flux_udss.append((cat_udss[f'{filt}'][j] * cat_udss['flux_auto'][j]) /cat_udss['flux_aper_1'][j])\n",
    "    mag_udss.append(23.9-(2.5*np.log10(flux_udss[j])))\n",
    "for j in range(len(cat_udsn)):\n",
    "    flux_udsn.append((cat_udsn[f'{filt}'][j] * cat_udsn['flux_auto'][j]) /cat_udsn['flux_aper_1'][j])\n",
    "    mag_udss.append(23.9-(2.5*np.log10(flux_udsn[j])))\n",
    "for j in range(len(cat_ngdeep)):\n",
    "    flux_ngdeep.append((cat_ngdeep[f'{filt}'][j] * cat_ngdeep['flux_auto'][j]) /cat_ngdeep['flux_aper_1'][j])\n",
    "    mag_ngdeep.append(23.9-(2.5*np.log10(flux_ngdeep[j])))\n"
   ]
  },
  {
   "cell_type": "code",
   "execution_count": null,
   "id": "5aceb1da",
   "metadata": {},
   "outputs": [],
   "source": [
    "plt.hist(mag_ceers,histtype='step',bins=100,label='CEERS')\n",
    "plt.hist(mag_gds,histtype='step',bins=100,label='GDS')\n",
    "plt.hist(mag_cosmos_west,histtype='step',bins=100,label='PRIMER COSMOS')\n",
    "plt.hist(mag_udss,histtype='step',bins=100,label='UDS')\n",
    "plt.hist(mag_ngdeep,histtype='step',bins=100,label='NGDeep')\n",
    "plt.xlabel('AB Magnitudes')\n",
    "plt.title(f'AB Magnitudes for {filt}')\n",
    "plt.legend()\n",
    "plt.show()\n"
   ]
  },
  {
   "cell_type": "code",
   "execution_count": null,
   "id": "aa38c213",
   "metadata": {},
   "outputs": [],
   "source": []
  },
  {
   "cell_type": "code",
   "execution_count": null,
   "id": "816e221c",
   "metadata": {},
   "outputs": [],
   "source": []
  }
 ],
 "metadata": {
  "kernelspec": {
   "display_name": "Python 3 (ipykernel)",
   "language": "python",
   "name": "python3"
  },
  "language_info": {
   "codemirror_mode": {
    "name": "ipython",
    "version": 3
   },
   "file_extension": ".py",
   "mimetype": "text/x-python",
   "name": "python",
   "nbconvert_exporter": "python",
   "pygments_lexer": "ipython3",
   "version": "3.11.5"
  }
 },
 "nbformat": 4,
 "nbformat_minor": 5
}
