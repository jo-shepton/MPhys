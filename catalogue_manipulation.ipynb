{
 "cells": [
  {
   "cell_type": "code",
   "execution_count": null,
   "id": "d8767805",
   "metadata": {},
   "outputs": [],
   "source": [
    "pip install wget"
   ]
  },
  {
   "cell_type": "code",
   "execution_count": 121,
   "id": "7729d3f3",
   "metadata": {},
   "outputs": [],
   "source": [
    "import astropy\n",
    "from astropy.table import Table,vstack, Column\n",
    "from subprocess import call\n",
    "import subprocess\n",
    "from astropy.io import fits\n",
    "import numpy as np\n",
    "import wget\n",
    "import matplotlib.pyplot as plt\n",
    "from gpz_pype.utilities import Params, set_gpz_path, basic_lupt_soft, flux_to_lupt\n",
    "import astropy.units as u\n",
    "from numpy.ma import masked\n",
    "from astropy.coordinates import SkyCoord\n",
    "from astropy.coordinates import match_coordinates_sky"
   ]
  },
  {
   "cell_type": "code",
   "execution_count": null,
   "id": "73e8dbda",
   "metadata": {},
   "outputs": [],
   "source": [
    "fields= ['ceers-full','gdn','gds','ngdeep','primer-cosmos-east','primer-cosmos-west','primer-uds-north','primer-uds-south','abell2744clu','abells1063','elgordo','j112716p4228','macs0647','rxj2129','smacs0723','sunrise']"
   ]
  },
  {
   "cell_type": "code",
   "execution_count": null,
   "id": "eea3e119",
   "metadata": {},
   "outputs": [],
   "source": [
    "for field in fields:\n",
    "    url=f'https://s3.amazonaws.com/grizli-v2/JwstMosaics/v7/{field}-grizli-v7.0_phot.fits'\n",
    "    filename=wget.download(url)\n",
    "    print(f' {field} downloaded')"
   ]
  },
  {
   "cell_type": "code",
   "execution_count": null,
   "id": "a730669e",
   "metadata": {},
   "outputs": [],
   "source": [
    "###INITIAL CATALOGUE MAKING\n",
    "hdu_list = fits.open('MPhys/DAWN_JWST/ceers-full-grizli-v7.0_phot.fits', memmap=True,formats='fits')\n",
    "ceers = Table(hdu_list[1].data)\n",
    "hdu_list.close()\n",
    "\n",
    "hdu_list = fits.open('MPhys/DAWN_JWST/gdn-grizli-v7.0_phot.fits', memmap=True,formats='fits')\n",
    "gdn= Table(hdu_list[1].data)\n",
    "hdu_list.close()\n",
    "\n",
    "hdu_list = fits.open('MPhys/DAWN_JWST/gds-grizli-v7.0_phot.fits', memmap=True,formats='fits')\n",
    "gds = Table(hdu_list[1].data)\n",
    "hdu_list.close()\n",
    "\n",
    "hdu_list = fits.open('MPhys/DAWN_JWST/ngdeep-grizli-v7.0_phot.fits', memmap=True,formats='fits')\n",
    "ngdeep = Table(hdu_list[1].data)\n",
    "hdu_list.close()\n",
    "\n",
    "hdu_list = fits.open('MPhys/DAWN_JWST/primer-cosmos-east-grizli-v7.0_phot.fits', memmap=True,formats='fits')\n",
    "cosmos_east = Table(hdu_list[1].data)\n",
    "hdu_list.close()\n",
    "\n",
    "hdu_list = fits.open('MPhys/DAWN_JWST/primer-cosmos-west-grizli-v7.0_phot.fits', memmap=True,formats='fits')\n",
    "cosmos_west = Table(hdu_list[1].data)\n",
    "hdu_list.close()\n",
    "\n",
    "hdu_list = fits.open('MPhys/DAWN_JWST/primer-uds-south-grizli-v7.0_phot.fits', memmap=True,formats='fits')\n",
    "udss = Table(hdu_list[1].data)\n",
    "hdu_list.close()\n",
    "\n",
    "hdu_list = fits.open('MPhys/DAWN_JWST/primer-uds-north-grizli-v7.0_phot.fits', memmap=True,formats='fits')\n",
    "udsn = Table(hdu_list[1].data)\n",
    "hdu_list.close()"
   ]
  },
  {
   "cell_type": "code",
   "execution_count": null,
   "id": "77bdc01f",
   "metadata": {},
   "outputs": [],
   "source": [
    "#ADDING FIELDS TO CATALOGUE - RUN BOTH CELLS IF STARTING FROM SCRATCH\n",
    "hdu_list = fits.open('MPhys/DAWN_JWST/abell2744clu-grizli-v7.0_phot.fits', memmap=True,formats='fits')\n",
    "abell2744 = Table(hdu_list[1].data)\n",
    "hdu_list.close()\n",
    "\n",
    "hdu_list = fits.open('MPhys/DAWN_JWST/abells1063-grizli-v7.0_phot.fits', memmap=True,formats='fits')\n",
    "abells1063= Table(hdu_list[1].data)\n",
    "hdu_list.close()\n",
    "\n",
    "hdu_list = fits.open('MPhys/DAWN_JWST/elgordo-grizli-v7.0_phot.fits', memmap=True,formats='fits')\n",
    "elgordo = Table(hdu_list[1].data)\n",
    "hdu_list.close()\n",
    "\n",
    "hdu_list = fits.open('MPhys/DAWN_JWST/j112716p4228-grizli-v7.0_phot.fits', memmap=True,formats='fits')\n",
    "j_field = Table(hdu_list[1].data)\n",
    "hdu_list.close()\n",
    "\n",
    "hdu_list = fits.open('MPhys/DAWN_JWST/macs0647-grizli-v7.0_phot.fits', memmap=True,formats='fits')\n",
    "macs = Table(hdu_list[1].data)\n",
    "hdu_list.close()\n",
    "\n",
    "hdu_list = fits.open('MPhys/DAWN_JWST/rxj2129-grizli-v7.0_phot.fits', memmap=True,formats='fits')\n",
    "rxj = Table(hdu_list[1].data)\n",
    "hdu_list.close()\n",
    "\n",
    "hdu_list = fits.open('MPhys/DAWN_JWST/smacs0723-grizli-v7.0_phot.fits', memmap=True,formats='fits')\n",
    "smacs = Table(hdu_list[1].data)\n",
    "hdu_list.close()\n",
    "\n",
    "hdu_list = fits.open('MPhys/DAWN_JWST/sunrise-grizli-v7.0_phot.fits', memmap=True,formats='fits')\n",
    "sunrise = Table(hdu_list[1].data)\n",
    "hdu_list.close()"
   ]
  },
  {
   "cell_type": "code",
   "execution_count": null,
   "id": "044bfe32",
   "metadata": {},
   "outputs": [],
   "source": [
    "abell2744.add_column('abells2744clu', name='field', index=0)\n",
    "abells1063.add_column('abells1063', name='field', index=0)\n",
    "elgordo.add_column('elgordo', name='field', index=0)\n",
    "j_field.add_column('j112716p4228', name='field', index=0)\n",
    "macs.add_column('macs0647', name='field', index=0)\n",
    "rxj.add_column('rxj2129', name='field', index=0)\n",
    "smacs.add_column('smacs0723', name='field', index=0)\n",
    "sunrise.add_column('sunrise', name='field', index=0)"
   ]
  },
  {
   "cell_type": "code",
   "execution_count": null,
   "id": "d2f6bc6d",
   "metadata": {},
   "outputs": [],
   "source": [
    "ceers.add_column('ceers', name='field', index=0)\n",
    "gdn.add_column('gdn', name='field', index=0)\n",
    "gds.add_column('gds', name='field', index=0)\n",
    "ngdeep.add_column('ngdeep', name='field', index=0)\n",
    "cosmos_east.add_column('cosmos_east', name='field', index=0)\n",
    "cosmos_west.add_column('cosmos_west', name='field', index=0)\n",
    "udsn.add_column('udsn', name='field', index=0)\n",
    "udss.add_column('udss', name='field', index=0)"
   ]
  },
  {
   "cell_type": "code",
   "execution_count": null,
   "id": "23633df3",
   "metadata": {},
   "outputs": [],
   "source": [
    "fields_new= ['ceers','gdn','gds','ngdeep','cosmos_east','cosmos_west','udsn','udss','abell2744','abells1063','elgordo','j_field','macs','rxj','smacs','sunrise']"
   ]
  },
  {
   "cell_type": "code",
   "execution_count": null,
   "id": "1be9f28f",
   "metadata": {},
   "outputs": [],
   "source": [
    "field=sunrise\n"
   ]
  },
  {
   "cell_type": "code",
   "execution_count": null,
   "id": "3f636c7b",
   "metadata": {},
   "outputs": [],
   "source": [
    "filters0 = [col.split('_')[0] for col in field.colnames if col.endswith('flux_aper_0')]\n",
    "filters0=filters0[1:]\n",
    "filters1 = [col.split('_')[0] for col in field.colnames if col.endswith('flux_aper_1')]\n",
    "filters1=filters1[1:]\n",
    "\n",
    "filters2 = [col.split('_')[0] for col in field.colnames if col.endswith('flux_aper_2')]\n",
    "filters2=filters2[1:]\n",
    "\n",
    "filters3 = [col.split('_')[0] for col in field.colnames if col.endswith('flux_aper_3')]\n",
    "filters3=filters3[1:]\n",
    "\n"
   ]
  },
  {
   "cell_type": "code",
   "execution_count": null,
   "id": "4ce5ee81",
   "metadata": {},
   "outputs": [],
   "source": [
    "\n",
    "b_arr0 = [basic_lupt_soft(field[f'{filt}_flux_aper_0'], field[f'{filt}_fluxerr_aper_0']) for filt in filters0] \n",
    "b_arr1 = [basic_lupt_soft(field[f'{filt}_flux_aper_1'], field[f'{filt}_fluxerr_aper_1']) for filt in filters1] \n",
    "b_arr2 = [basic_lupt_soft(field[f'{filt}_flux_aper_2'], field[f'{filt}_fluxerr_aper_2']) for filt in filters2] \n",
    "b_arr3 = [basic_lupt_soft(field[f'{filt}_flux_aper_3'], field[f'{filt}_fluxerr_aper_3']) for filt in filters3] "
   ]
  },
  {
   "cell_type": "code",
   "execution_count": null,
   "id": "61af7c5b",
   "metadata": {},
   "outputs": [],
   "source": [
    "i=15\n",
    "lupt_cols=field['field','id','ra','dec']\n",
    "\n",
    "for filt,b in zip(filters0,b_arr0):\n",
    "    lupt,lupterr = flux_to_lupt(field[f'{filt}_flux_aper_0'],field[f'{filt}_fluxerr_aper_0'],b)\n",
    "    lupt_cols[f'lupt_{filt}_aper0']=lupt\n",
    "    lupt_cols[f'lupterr_{filt}_aper0']=lupterr\n",
    "for filt,b in zip(filters1,b_arr1):\n",
    "    lupt,lupterr = flux_to_lupt(field[f'{filt}_flux_aper_1'],field[f'{filt}_fluxerr_aper_1'],b)\n",
    "    lupt_cols[f'lupt_{filt}_aper1']=lupt\n",
    "    lupt_cols[f'lupterr_{filt}_aper1']=lupterr\n",
    "for filt,b in zip(filters2,b_arr2):\n",
    "    lupt,lupterr = flux_to_lupt(field[f'{filt}_flux_aper_2'],field[f'{filt}_fluxerr_aper_2'],b)\n",
    "    lupt_cols[f'lupt_{filt}_aper2']=lupt\n",
    "    lupt_cols[f'lupterr_{filt}_aper2']=lupterr\n",
    "for filt,b in zip(filters3,b_arr3):\n",
    "    lupt,lupterr = flux_to_lupt(field[f'{filt}_flux_aper_3'],field[f'{filt}_fluxerr_aper_3'],b)\n",
    "    lupt_cols[f'lupt_{filt}_aper3']=lupt\n",
    "    lupt_cols[f'lupterr_{filt}_aper3']=lupterr\n",
    "\n",
    "lupt_cols.write(f'MPhys/catalogues/{fields[i]}_lupts.fits',format='fits', overwrite=True)"
   ]
  },
  {
   "cell_type": "code",
   "execution_count": null,
   "id": "ebf3451c",
   "metadata": {},
   "outputs": [],
   "source": []
  },
  {
   "cell_type": "code",
   "execution_count": null,
   "id": "f46330a8",
   "metadata": {},
   "outputs": [],
   "source": []
  },
  {
   "cell_type": "code",
   "execution_count": 2,
   "id": "1225b23c",
   "metadata": {},
   "outputs": [],
   "source": [
    "lup_ceers=Table.read('MPhys/catalogues/ceers-full_lupts.fits',format='fits')\n",
    "lup_gds=Table.read('MPhys/catalogues/gds_lupts.fits',format='fits')\n",
    "lup_gdn=Table.read('MPhys/catalogues/gdn_lupts.fits',format='fits')\n",
    "lup_ngdeep=Table.read('MPhys/catalogues/ngdeep_lupts.fits',format='fits')\n",
    "lup_udss=Table.read('MPhys/catalogues/primer-uds-south_lupts.fits',format='fits')\n",
    "lup_udsn=Table.read('MPhys/catalogues/primer-uds-north_lupts.fits',format='fits')\n",
    "lup_cosmos_east=Table.read('MPhys/catalogues/primer-cosmos-east_lupts.fits',format='fits')\n",
    "lup_cosmos_west=Table.read('MPhys/catalogues/primer-cosmos-west_lupts.fits',format='fits')"
   ]
  },
  {
   "cell_type": "code",
   "execution_count": 3,
   "id": "da9080db",
   "metadata": {},
   "outputs": [],
   "source": [
    "lup_abell2744clu = Table.read('MPhys/catalogues/abell2744clu_lupts.fits',format='fits')\n",
    "lup_abells1063=Table.read('MPhys/catalogues/abells1063_lupts.fits',format='fits')\n",
    "lup_elgordo=Table.read('MPhys/catalogues/elgordo_lupts.fits',format='fits')\n",
    "lup_j112716p4228=Table.read('MPhys/catalogues/j112716p4228_lupts.fits',format='fits')\n",
    "lup_macs0647=Table.read('MPhys/catalogues/macs0647_lupts.fits',format='fits')\n",
    "lup_rxj2129=Table.read('MPhys/catalogues/rxj2129_lupts.fits',format='fits')\n",
    "lup_smacs0723=Table.read('MPhys/catalogues/smacs0723_lupts.fits',format='fits')\n",
    "lup_sunrise=Table.read('MPhys/catalogues/sunrise_lupts.fits',format='fits')"
   ]
  },
  {
   "cell_type": "code",
   "execution_count": 4,
   "id": "81773dce",
   "metadata": {},
   "outputs": [],
   "source": [
    "\n",
    "lup_con =vstack([lup_ceers,lup_gds,lup_gdn,lup_ngdeep,lup_udss,lup_udsn,lup_cosmos_east,lup_cosmos_west,])\n"
   ]
  },
  {
   "cell_type": "code",
   "execution_count": 5,
   "id": "d06388f1",
   "metadata": {},
   "outputs": [],
   "source": [
    "lup_con_small = vstack([lup_abell2744clu,lup_abells1063,lup_elgordo,lup_j112716p4228,lup_macs0647,lup_rxj2129,lup_smacs0723,lup_sunrise])"
   ]
  },
  {
   "cell_type": "code",
   "execution_count": 6,
   "id": "c4309e2e",
   "metadata": {},
   "outputs": [],
   "source": [
    "lup_total = vstack([lup_con,lup_con_small])"
   ]
  },
  {
   "cell_type": "code",
   "execution_count": null,
   "id": "4afdad15",
   "metadata": {},
   "outputs": [],
   "source": [
    "#needs to be done in CP Lab \n",
    "#lup_total.write('luptitudes_all_jwst.fits', format='fits', overwrite=True)"
   ]
  },
  {
   "cell_type": "code",
   "execution_count": null,
   "id": "3984941d",
   "metadata": {},
   "outputs": [],
   "source": []
  },
  {
   "cell_type": "code",
   "execution_count": null,
   "id": "e1ffd1bd",
   "metadata": {},
   "outputs": [],
   "source": []
  },
  {
   "cell_type": "code",
   "execution_count": 39,
   "id": "a5879779",
   "metadata": {},
   "outputs": [
    {
     "name": "stdout",
     "output_type": "stream",
     "text": [
      "['f1000w', 'f1000w', 'f105w', 'f105w', 'f115w-clear', 'f115w-clear', 'f125w', 'f125w', 'f1280w', 'f1280w', 'f140w', 'f140w', 'f1500w', 'f1500w', 'f150w-clear', 'f150w-clear', 'f160w', 'f160w', 'f1800w', 'f1800w', 'f182m-clear', 'f182m-clear', 'f200w-clear', 'f200w-clear', 'f2100w', 'f2100w', 'f210m-clear', 'f210m-clear', 'f275wu', 'f275wu', 'f277w-clear', 'f277w-clear', 'f356w-clear', 'f356w-clear', 'f410m-clear', 'f410m-clear', 'f435w', 'f435w', 'f444w-clear', 'f444w-clear', 'f560w', 'f560w', 'f606w', 'f606w', 'f606wu', 'f606wu', 'f770w', 'f770w', 'f814w', 'f814w', 'f090w-clear', 'f090w-clear', 'f335m-clear', 'f335m-clear', 'f350lpu', 'f350lpu', 'f475w', 'f475w', 'f775w', 'f775w', 'f850lp', 'f850lp', 'f110w', 'f110w', 'f336wu', 'f336wu', 'f850lpu', 'f850lpu', 'clearp-f356w', 'clearp-f356w', 'clearp-f444w', 'clearp-f444w', 'f115wn-clear', 'f115wn-clear', 'f150wn-clear', 'f150wn-clear', 'f200wn-clear', 'f200wn-clear', 'f225wu', 'f225wu', 'f250m-clear', 'f250m-clear', 'f300m-clear', 'f300m-clear', 'f625w', 'f625w', 'f390wu', 'f390wu', 'f480m-clear', 'f480m-clear', 'f555w', 'f555w']\n"
     ]
    }
   ],
   "source": [
    "#Full catalogue filter names \n",
    "filters_1 = [col.split('_')[1] for col in lup_total.colnames if col.endswith('_aper0')]\n",
    "#print(len(filters_1))\n",
    "x= int(184/4)+4\n",
    "#lup_total['lupt_f250m-clear_aper0']\n",
    "print(filters_1)"
   ]
  },
  {
   "cell_type": "code",
   "execution_count": 57,
   "id": "87c5a680",
   "metadata": {},
   "outputs": [
    {
     "name": "stdout",
     "output_type": "stream",
     "text": [
      "f625w\n"
     ]
    }
   ],
   "source": [
    "#### FILTER CHOICES\n",
    "c1 =['f625w','f110w','f277w-clear','f356w-clear','f444w-clear']\n",
    "c2 =['f606w','f150w-clear','f250m-clear','f300m-clear','f444w-clear']\n",
    "c3 =['f814w','f110w','f277w-clear','f435w','f480m-clear']\n",
    "c4 =['f555w','f140w','f200w-clear','f356w-clear','f480m-clear']\n",
    "c5 =['f606w','f110w','f200w-clear','f356w-clear','f444w-clear']\n",
    "print(c1[0])"
   ]
  },
  {
   "cell_type": "code",
   "execution_count": 80,
   "id": "9d537306",
   "metadata": {},
   "outputs": [],
   "source": [
    "######change this to make new catalogue of filters\n",
    "aper=0\n",
    "choice=c5\n",
    "lup_train = lup_total['field','id','ra','dec']\n",
    "lup_train[f'lupt_{choice[0]}']=lup_total[f'lupt_{choice[0]}_aper{aper}']\n",
    "lup_train[f'lupterr_{choice[0]}']=lup_total[f'lupterr_{choice[0]}_aper{aper}']\n",
    "lup_train[f'lupt_{choice[1]}']=lup_total[f'lupt_{choice[1]}_aper{aper}']\n",
    "lup_train[f'lupterr_{choice[1]}']=lup_total[f'lupterr_{choice[1]}_aper{aper}']\n",
    "lup_train[f'lupt_{choice[2]}']=lup_total[f'lupt_{choice[2]}_aper{aper}']\n",
    "lup_train[f'lupterr_{choice[2]}']=lup_total[f'lupterr_{choice[2]}_aper{aper}']\n",
    "lup_train[f'lupt_{choice[3]}']=lup_total[f'lupt_{choice[3]}_aper{aper}']\n",
    "lup_train[f'lupterr_{choice[3]}']=lup_total[f'lupterr_{choice[3]}_aper{aper}']\n",
    "lup_train[f'lupt_{choice[4]}']=lup_total[f'lupt_{choice[4]}_aper{aper}']\n",
    "lup_train[f'lupterr_{choice[4]}']=lup_total[f'lupterr_{choice[4]}_aper{aper}']"
   ]
  },
  {
   "cell_type": "code",
   "execution_count": 76,
   "id": "ec3c772c",
   "metadata": {},
   "outputs": [
    {
     "data": {
      "text/html": [
       "<div><i>Table length=490548</i>\n",
       "<table id=\"table140316051783952\" class=\"table-striped table-bordered table-condensed\">\n",
       "<thead><tr><th>field</th><th>id</th><th>ra</th><th>dec</th><th>lupt_f606w</th><th>lupterr_f606w</th><th>lupt_f110w</th><th>lupterr_f110w</th><th>lupt_f200w-clear</th><th>lupterr_f200w-clear</th><th>lupt_f356w-clear</th><th>lupterr_f356w-clear</th><th>lupt_f444w-clear</th><th>lupterr_f444w-clear</th></tr></thead>\n",
       "<thead><tr><th>bytes13</th><th>int32</th><th>float64</th><th>float64</th><th>float64</th><th>float64</th><th>float64</th><th>float64</th><th>float64</th><th>float64</th><th>float64</th><th>float64</th><th>float64</th><th>float64</th></tr></thead>\n",
       "<tr><td>ceers</td><td>1</td><td>215.2151731300751</td><td>52.97528909359392</td><td>29.556780901764032</td><td>0.5946342561731784</td><td>--</td><td>--</td><td>--</td><td>--</td><td>--</td><td>--</td><td>--</td><td>--</td></tr>\n",
       "<tr><td>ceers</td><td>2</td><td>215.1865311684452</td><td>52.95489247370195</td><td>28.744782309160975</td><td>0.3691622925442938</td><td>--</td><td>--</td><td>--</td><td>--</td><td>--</td><td>--</td><td>--</td><td>--</td></tr>\n",
       "<tr><td>ceers</td><td>3</td><td>215.17440399645494</td><td>52.94624855014534</td><td>30.5359365634207</td><td>0.5906980751137015</td><td>--</td><td>--</td><td>--</td><td>--</td><td>--</td><td>--</td><td>--</td><td>--</td></tr>\n",
       "<tr><td>ceers</td><td>4</td><td>215.17066593131037</td><td>52.9435832117646</td><td>30.33628891980326</td><td>0.624851440928911</td><td>--</td><td>--</td><td>--</td><td>--</td><td>--</td><td>--</td><td>--</td><td>--</td></tr>\n",
       "<tr><td>ceers</td><td>5</td><td>215.1665950611378</td><td>52.940680067642184</td><td>30.039431762503852</td><td>0.6493763665679093</td><td>--</td><td>--</td><td>--</td><td>--</td><td>--</td><td>--</td><td>--</td><td>--</td></tr>\n",
       "<tr><td>ceers</td><td>6</td><td>215.1651987046283</td><td>52.939684133167596</td><td>28.880511830952422</td><td>0.4311701103603547</td><td>--</td><td>--</td><td>--</td><td>--</td><td>--</td><td>--</td><td>--</td><td>--</td></tr>\n",
       "<tr><td>ceers</td><td>7</td><td>215.1458629783668</td><td>52.92588676172599</td><td>25.04257048559836</td><td>0.05662983390736154</td><td>--</td><td>--</td><td>--</td><td>--</td><td>--</td><td>--</td><td>--</td><td>--</td></tr>\n",
       "<tr><td>ceers</td><td>8</td><td>215.13093623809937</td><td>52.91522733871391</td><td>30.98113463283675</td><td>0.46693214149978884</td><td>--</td><td>--</td><td>--</td><td>--</td><td>--</td><td>--</td><td>--</td><td>--</td></tr>\n",
       "<tr><td>ceers</td><td>9</td><td>215.12435951625753</td><td>52.91052853715476</td><td>30.0292321491326</td><td>0.6861669860612213</td><td>--</td><td>--</td><td>--</td><td>--</td><td>--</td><td>--</td><td>--</td><td>--</td></tr>\n",
       "<tr><td>ceers</td><td>10</td><td>215.1135278555601</td><td>52.902786739466755</td><td>31.397366587341192</td><td>0.3421649905385547</td><td>--</td><td>--</td><td>--</td><td>--</td><td>--</td><td>--</td><td>--</td><td>--</td></tr>\n",
       "<tr><td>ceers</td><td>11</td><td>215.10627858172154</td><td>52.89760331286181</td><td>30.51243893681734</td><td>0.5984677361631207</td><td>--</td><td>--</td><td>--</td><td>--</td><td>--</td><td>--</td><td>--</td><td>--</td></tr>\n",
       "<tr><td>...</td><td>...</td><td>...</td><td>...</td><td>...</td><td>...</td><td>...</td><td>...</td><td>...</td><td>...</td><td>...</td><td>...</td><td>...</td><td>...</td></tr>\n",
       "<tr><td>sunrise</td><td>10184</td><td>24.347416216311096</td><td>-8.388763990047122</td><td>--</td><td>--</td><td>--</td><td>--</td><td>23.282346796293833</td><td>0.003057594563662734</td><td>23.750231415779027</td><td>0.0039730931184716505</td><td>23.876974566067673</td><td>0.005924682432289258</td></tr>\n",
       "<tr><td>sunrise</td><td>10185</td><td>24.348616196574184</td><td>-8.388370132804898</td><td>--</td><td>--</td><td>--</td><td>--</td><td>27.900257281780995</td><td>0.1760211717841009</td><td>28.965505610538564</td><td>0.3076240429921371</td><td>29.35890648236256</td><td>0.5808995968802</td></tr>\n",
       "<tr><td>sunrise</td><td>10186</td><td>24.35200311622535</td><td>-8.388430504337059</td><td>--</td><td>--</td><td>--</td><td>--</td><td>24.168953698003268</td><td>0.0062310322362423565</td><td>25.207080701742616</td><td>0.015385938380752227</td><td>25.638052171383034</td><td>0.03421900649862236</td></tr>\n",
       "<tr><td>sunrise</td><td>10187</td><td>24.35207329155662</td><td>-8.388324632634458</td><td>--</td><td>--</td><td>--</td><td>--</td><td>27.52507215936082</td><td>0.12298630750802766</td><td>27.557893555367766</td><td>0.12696574256305168</td><td>27.685406962759366</td><td>0.21800878968701118</td></tr>\n",
       "<tr><td>sunrise</td><td>10188</td><td>24.350754465768464</td><td>-8.388285648049125</td><td>--</td><td>--</td><td>--</td><td>--</td><td>30.238868428775888</td><td>0.7400948922496591</td><td>28.527183766082064</td><td>0.21176477954155323</td><td>28.51604820740909</td><td>0.30753331037500137</td></tr>\n",
       "<tr><td>sunrise</td><td>10189</td><td>24.35069000080643</td><td>-8.387912082496785</td><td>--</td><td>--</td><td>--</td><td>--</td><td>24.31674890404161</td><td>0.007080677725652296</td><td>24.109711751131815</td><td>0.00451539453976527</td><td>24.260566296337498</td><td>0.007083654063516712</td></tr>\n",
       "<tr><td>sunrise</td><td>10190</td><td>24.35014284404191</td><td>-8.387709943341601</td><td>--</td><td>--</td><td>--</td><td>--</td><td>29.479441261612337</td><td>0.6119290865573431</td><td>28.284223407348705</td><td>0.20701143234627664</td><td>27.981427902573092</td><td>0.7170237838897334</td></tr>\n",
       "<tr><td>sunrise</td><td>10191</td><td>24.349442250368472</td><td>-8.388242453831015</td><td>--</td><td>--</td><td>--</td><td>--</td><td>26.966296844697382</td><td>0.0753066660781389</td><td>26.604877763941673</td><td>0.037325520222901795</td><td>26.34687068499472</td><td>0.045444838849563046</td></tr>\n",
       "<tr><td>sunrise</td><td>10192</td><td>24.35152168659832</td><td>-8.387736182804973</td><td>--</td><td>--</td><td>--</td><td>--</td><td>26.838311166565823</td><td>0.09474572647194729</td><td>27.52262093316225</td><td>0.12363759926099842</td><td>28.02288801577398</td><td>0.2920680981351748</td></tr>\n",
       "<tr><td>sunrise</td><td>10193</td><td>24.351932307794186</td><td>-8.387461901633543</td><td>--</td><td>--</td><td>--</td><td>--</td><td>25.93682753009392</td><td>0.04280668093233807</td><td>25.8155554323762</td><td>0.029447336207510322</td><td>25.846905157454355</td><td>0.04102849281081275</td></tr>\n",
       "<tr><td>sunrise</td><td>10194</td><td>24.35127497567209</td><td>-8.387325413931277</td><td>--</td><td>--</td><td>--</td><td>--</td><td>27.191633475783455</td><td>0.1328299800053973</td><td>26.4103145915147</td><td>0.14676947174681088</td><td>26.46969950077043</td><td>0.08099085159222201</td></tr>\n",
       "</table></div>"
      ],
      "text/plain": [
       "<Table length=490548>\n",
       " field    id          ra                dec         ...  lupterr_f356w-clear   lupt_f444w-clear  lupterr_f444w-clear \n",
       "bytes13 int32      float64            float64       ...        float64             float64             float64       \n",
       "------- ----- ------------------ ------------------ ... --------------------- ------------------ --------------------\n",
       "  ceers     1  215.2151731300751  52.97528909359392 ...                    --                 --                   --\n",
       "  ceers     2  215.1865311684452  52.95489247370195 ...                    --                 --                   --\n",
       "  ceers     3 215.17440399645494  52.94624855014534 ...                    --                 --                   --\n",
       "  ceers     4 215.17066593131037   52.9435832117646 ...                    --                 --                   --\n",
       "  ceers     5  215.1665950611378 52.940680067642184 ...                    --                 --                   --\n",
       "  ceers     6  215.1651987046283 52.939684133167596 ...                    --                 --                   --\n",
       "  ceers     7  215.1458629783668  52.92588676172599 ...                    --                 --                   --\n",
       "  ceers     8 215.13093623809937  52.91522733871391 ...                    --                 --                   --\n",
       "  ceers     9 215.12435951625753  52.91052853715476 ...                    --                 --                   --\n",
       "  ceers    10  215.1135278555601 52.902786739466755 ...                    --                 --                   --\n",
       "  ceers    11 215.10627858172154  52.89760331286181 ...                    --                 --                   --\n",
       "    ...   ...                ...                ... ...                   ...                ...                  ...\n",
       "sunrise 10184 24.347416216311096 -8.388763990047122 ... 0.0039730931184716505 23.876974566067673 0.005924682432289258\n",
       "sunrise 10185 24.348616196574184 -8.388370132804898 ...    0.3076240429921371  29.35890648236256      0.5808995968802\n",
       "sunrise 10186  24.35200311622535 -8.388430504337059 ...  0.015385938380752227 25.638052171383034  0.03421900649862236\n",
       "sunrise 10187  24.35207329155662 -8.388324632634458 ...   0.12696574256305168 27.685406962759366  0.21800878968701118\n",
       "sunrise 10188 24.350754465768464 -8.388285648049125 ...   0.21176477954155323  28.51604820740909  0.30753331037500137\n",
       "sunrise 10189  24.35069000080643 -8.387912082496785 ...   0.00451539453976527 24.260566296337498 0.007083654063516712\n",
       "sunrise 10190  24.35014284404191 -8.387709943341601 ...   0.20701143234627664 27.981427902573092   0.7170237838897334\n",
       "sunrise 10191 24.349442250368472 -8.388242453831015 ...  0.037325520222901795  26.34687068499472 0.045444838849563046\n",
       "sunrise 10192  24.35152168659832 -8.387736182804973 ...   0.12363759926099842  28.02288801577398   0.2920680981351748\n",
       "sunrise 10193 24.351932307794186 -8.387461901633543 ...  0.029447336207510322 25.846905157454355  0.04102849281081275\n",
       "sunrise 10194  24.35127497567209 -8.387325413931277 ...   0.14676947174681088  26.46969950077043  0.08099085159222201"
      ]
     },
     "execution_count": 76,
     "metadata": {},
     "output_type": "execute_result"
    }
   ],
   "source": [
    "lup_train"
   ]
  },
  {
   "cell_type": "code",
   "execution_count": null,
   "id": "965f5c79",
   "metadata": {},
   "outputs": [],
   "source": [
    "#filts=['f115w','f200w','f277w','f356w','f444w']"
   ]
  },
  {
   "cell_type": "code",
   "execution_count": 81,
   "id": "b44dc76b",
   "metadata": {},
   "outputs": [],
   "source": [
    "f1=[]\n",
    "for i in range(len(lup_train)):\n",
    "    f1.append(np.ma.is_masked(lup_train[f'lupt_{choice[0]}'][i]))\n",
    "f1_inv=np.array(np.invert(f1))\n",
    "f1_cat =lup_train[f1_inv*(np.ma.is_masked(lup_train[f'lupt_{choice[0]}']) == True)] "
   ]
  },
  {
   "cell_type": "code",
   "execution_count": null,
   "id": "521af492",
   "metadata": {},
   "outputs": [],
   "source": []
  },
  {
   "cell_type": "code",
   "execution_count": 82,
   "id": "e0999a2b",
   "metadata": {},
   "outputs": [],
   "source": [
    "\n",
    "f2=[]\n",
    "for i in range(len(f1_cat)):\n",
    "    f2.append(np.ma.is_masked(f1_cat[f'lupt_{choice[1]}'][i]))\n",
    "f2_inv=np.array(np.invert(f2))\n",
    "f2_cat =f1_cat[f2_inv*(np.ma.is_masked(f1_cat[f'lupt_{choice[1]}']) == True)] "
   ]
  },
  {
   "cell_type": "code",
   "execution_count": null,
   "id": "a3a63ad2",
   "metadata": {},
   "outputs": [],
   "source": [
    "f2_cat"
   ]
  },
  {
   "cell_type": "code",
   "execution_count": 85,
   "id": "0df6f5cb",
   "metadata": {},
   "outputs": [],
   "source": [
    "\n",
    "f3=[]\n",
    "for i in range(len(f2_cat)):\n",
    "    f3.append(np.ma.is_masked(f2_cat[f'lupt_{choice[2]}'][i]))\n",
    "f3_inv=np.array(np.invert(f3))\n",
    "f3_cat =f2_cat[f3_inv*(np.ma.is_masked(f2_cat[f'lupt_{choice[2]}']) == True)] "
   ]
  },
  {
   "cell_type": "code",
   "execution_count": 86,
   "id": "e56e46f3",
   "metadata": {},
   "outputs": [
    {
     "data": {
      "text/html": [
       "<div><i>Table length=9733</i>\n",
       "<table id=\"table140316023254608\" class=\"table-striped table-bordered table-condensed\">\n",
       "<thead><tr><th>field</th><th>id</th><th>ra</th><th>dec</th><th>lupt_f606w</th><th>lupterr_f606w</th><th>lupt_f110w</th><th>lupterr_f110w</th><th>lupt_f200w-clear</th><th>lupterr_f200w-clear</th><th>lupt_f356w-clear</th><th>lupterr_f356w-clear</th><th>lupt_f444w-clear</th><th>lupterr_f444w-clear</th></tr></thead>\n",
       "<thead><tr><th>bytes13</th><th>int32</th><th>float64</th><th>float64</th><th>float64</th><th>float64</th><th>float64</th><th>float64</th><th>float64</th><th>float64</th><th>float64</th><th>float64</th><th>float64</th><th>float64</th></tr></thead>\n",
       "<tr><td>abells1063</td><td>12</td><td>342.194428067702</td><td>-44.55473213169154</td><td>29.31103798376593</td><td>0.19811724354271665</td><td>33.31977486720569</td><td>0.879857034851387</td><td>27.41069293637933</td><td>0.15205261996150898</td><td>--</td><td>--</td><td>28.034983423632752</td><td>0.24600925412242872</td></tr>\n",
       "<tr><td>abells1063</td><td>13</td><td>342.19277442978813</td><td>-44.554513851853876</td><td>23.407891841927814</td><td>0.0021240320785500884</td><td>22.17952746845046</td><td>0.0036481118567834067</td><td>21.295067127059948</td><td>0.0009284620094364807</td><td>--</td><td>--</td><td>22.343590781768217</td><td>0.0020091802440730805</td></tr>\n",
       "<tr><td>abells1063</td><td>15</td><td>342.194762405608</td><td>-44.554199203818555</td><td>28.8821025975773</td><td>0.13550978153887686</td><td>26.487398725800755</td><td>0.18516738982211983</td><td>26.118570317984467</td><td>0.046802368208558286</td><td>--</td><td>--</td><td>25.82778216817152</td><td>0.033280768015753255</td></tr>\n",
       "<tr><td>abells1063</td><td>16</td><td>342.19268402736463</td><td>-44.553991704265435</td><td>27.742986144313697</td><td>0.04929329209749163</td><td>27.220233116576495</td><td>0.357597080833786</td><td>26.101098995769252</td><td>0.04523483838292508</td><td>--</td><td>--</td><td>26.50737553117812</td><td>4.189170655978912</td></tr>\n",
       "<tr><td>abells1063</td><td>18</td><td>342.19477568427067</td><td>-44.55370398741217</td><td>27.404263774736055</td><td>0.03663555970722581</td><td>26.916978408206155</td><td>0.2929644828162571</td><td>26.377052907997204</td><td>0.04087990607107707</td><td>--</td><td>--</td><td>26.575614736827937</td><td>0.06884616962440734</td></tr>\n",
       "<tr><td>abells1063</td><td>21</td><td>342.18801723161243</td><td>-44.55272705170651</td><td>27.373638681377805</td><td>0.03627608305317661</td><td>26.4094235512353</td><td>0.17443170432499092</td><td>25.876519137276954</td><td>0.03635566937078513</td><td>--</td><td>--</td><td>27.247817001382234</td><td>0.1342805640626889</td></tr>\n",
       "<tr><td>abells1063</td><td>22</td><td>342.188111250398</td><td>-44.55261356292642</td><td>28.209708316456595</td><td>0.07613693780880272</td><td>27.086789625313973</td><td>0.31724388360018757</td><td>26.874744416228694</td><td>0.09161278877338312</td><td>--</td><td>--</td><td>27.285047113319955</td><td>0.12647586326122315</td></tr>\n",
       "<tr><td>abells1063</td><td>23</td><td>342.1938642600391</td><td>-44.552634171934095</td><td>26.549094335971624</td><td>0.017577840398386824</td><td>26.626446133577904</td><td>0.20936125614735593</td><td>25.477227299045527</td><td>0.018300179614078208</td><td>--</td><td>--</td><td>25.500549902217905</td><td>0.017891468618298895</td></tr>\n",
       "<tr><td>abells1063</td><td>24</td><td>342.19414058450724</td><td>-44.55253264875912</td><td>28.878297336612583</td><td>0.1332667185091232</td><td>29.83795909945683</td><td>1.86836138289304</td><td>28.152950133357354</td><td>0.19691505048148028</td><td>--</td><td>--</td><td>27.746781095157598</td><td>0.13182462959115834</td></tr>\n",
       "<tr><td>abells1063</td><td>25</td><td>342.1906800204702</td><td>-44.55243923899711</td><td>27.96300149695761</td><td>0.059590999349000515</td><td>27.436024810035793</td><td>0.43510948510360453</td><td>26.717698150914856</td><td>0.07623711088195435</td><td>--</td><td>--</td><td>26.938635786312595</td><td>0.11101961192659579</td></tr>\n",
       "<tr><td>abells1063</td><td>27</td><td>342.1936740936676</td><td>-44.551983216224215</td><td>25.78996984315697</td><td>0.009816761229679543</td><td>25.443019473565318</td><td>0.07055000716344355</td><td>24.64835601257063</td><td>0.009010925806205066</td><td>--</td><td>--</td><td>24.79231118995324</td><td>0.009803971571363397</td></tr>\n",
       "<tr><td>...</td><td>...</td><td>...</td><td>...</td><td>...</td><td>...</td><td>...</td><td>...</td><td>...</td><td>...</td><td>...</td><td>...</td><td>...</td><td>...</td></tr>\n",
       "<tr><td>sunrise</td><td>6519</td><td>24.359341804967908</td><td>-8.43632025856512</td><td>27.532324918807447</td><td>0.17402871960302024</td><td>26.76360561269337</td><td>0.08821086922112881</td><td>26.198195432953096</td><td>0.035374199118011124</td><td>26.202308475905344</td><td>0.016943673209906796</td><td>26.319885258698395</td><td>0.04251472184524251</td></tr>\n",
       "<tr><td>sunrise</td><td>6521</td><td>24.35706049961981</td><td>-8.436241278020804</td><td>27.17774200284178</td><td>0.1275427099441327</td><td>27.271488420857754</td><td>0.09530397546036773</td><td>26.71027669801661</td><td>0.054868073305904305</td><td>27.018129394312076</td><td>0.060432636422638804</td><td>--</td><td>--</td></tr>\n",
       "<tr><td>sunrise</td><td>6523</td><td>24.356270023204285</td><td>-8.436155459923189</td><td>28.587415542862498</td><td>0.38659742101385897</td><td>28.813336179958778</td><td>0.36636784429822766</td><td>27.496538645285973</td><td>0.1507573851860165</td><td>28.90122904466493</td><td>0.3248366304001651</td><td>--</td><td>--</td></tr>\n",
       "<tr><td>sunrise</td><td>6529</td><td>24.35999434175649</td><td>-8.43605133537361</td><td>27.91975457799805</td><td>0.2380357062955723</td><td>28.411295402403443</td><td>0.47549754059965804</td><td>27.6980645391163</td><td>0.1376685469311751</td><td>27.99007986256518</td><td>0.08200639172569489</td><td>28.268964354683163</td><td>0.24665119993868664</td></tr>\n",
       "<tr><td>sunrise</td><td>6530</td><td>24.356841285143066</td><td>-8.436029727966702</td><td>30.013778827812697</td><td>0.40913013482926386</td><td>29.290072693170725</td><td>0.5996746733254891</td><td>29.96318412367027</td><td>0.7579303328299662</td><td>28.095154669593185</td><td>0.15572258626945892</td><td>--</td><td>--</td></tr>\n",
       "<tr><td>sunrise</td><td>6531</td><td>24.356762551515295</td><td>-8.436014314367199</td><td>29.832000159097785</td><td>0.45312080831738083</td><td>29.157473481839162</td><td>0.5542288114344731</td><td>28.590690726279767</td><td>0.3730583232756036</td><td>27.78557981327326</td><td>0.1173445182169672</td><td>--</td><td>--</td></tr>\n",
       "<tr><td>sunrise</td><td>6532</td><td>24.358210558469505</td><td>-8.43595839541658</td><td>29.36275255860805</td><td>0.5104817497588338</td><td>29.028186666258474</td><td>0.682143966888358</td><td>28.390087255022046</td><td>0.24914650564603102</td><td>28.727618479557986</td><td>0.1958710071610107</td><td>--</td><td>--</td></tr>\n",
       "<tr><td>sunrise</td><td>6533</td><td>24.357261002360378</td><td>-8.436011977445462</td><td>28.39856087667302</td><td>0.3384978281561035</td><td>27.56790439027636</td><td>0.15705186142360253</td><td>27.280285495064472</td><td>0.09274873705830139</td><td>27.256519839412608</td><td>0.07381232020933137</td><td>--</td><td>--</td></tr>\n",
       "<tr><td>sunrise</td><td>6542</td><td>24.35948210915665</td><td>-8.435637359141339</td><td>28.872942011350702</td><td>0.45094920904156843</td><td>29.133485763023927</td><td>1.2403967211470408</td><td>28.560299942376346</td><td>0.29022922233662324</td><td>28.479109009851566</td><td>0.1561821814096316</td><td>--</td><td>--</td></tr>\n",
       "<tr><td>sunrise</td><td>6544</td><td>24.358313025280985</td><td>-8.43549476558818</td><td>28.962676583156956</td><td>0.44736758411613925</td><td>29.488089537958537</td><td>0.9741002994018181</td><td>27.569357299158597</td><td>0.1717124375429061</td><td>28.877608842515492</td><td>0.3060998949467028</td><td>--</td><td>--</td></tr>\n",
       "<tr><td>sunrise</td><td>6553</td><td>24.358931660872365</td><td>-8.435365217850503</td><td>27.56649217174625</td><td>0.17400720764326388</td><td>27.443329647906268</td><td>0.3028243473856769</td><td>26.412730947564086</td><td>0.04437219081233461</td><td>26.569493772367792</td><td>0.03936005508467043</td><td>--</td><td>--</td></tr>\n",
       "</table></div>"
      ],
      "text/plain": [
       "<Table length=9733>\n",
       "  field      id          ra         ... lupterr_f356w-clear   lupt_f444w-clear   lupterr_f444w-clear \n",
       " bytes13   int32      float64       ...       float64             float64              float64       \n",
       "---------- ----- ------------------ ... -------------------- ------------------ ---------------------\n",
       "abells1063    12   342.194428067702 ...                   -- 28.034983423632752   0.24600925412242872\n",
       "abells1063    13 342.19277442978813 ...                   -- 22.343590781768217 0.0020091802440730805\n",
       "abells1063    15   342.194762405608 ...                   --  25.82778216817152  0.033280768015753255\n",
       "abells1063    16 342.19268402736463 ...                   --  26.50737553117812     4.189170655978912\n",
       "abells1063    18 342.19477568427067 ...                   -- 26.575614736827937   0.06884616962440734\n",
       "abells1063    21 342.18801723161243 ...                   -- 27.247817001382234    0.1342805640626889\n",
       "abells1063    22   342.188111250398 ...                   -- 27.285047113319955   0.12647586326122315\n",
       "abells1063    23  342.1938642600391 ...                   -- 25.500549902217905  0.017891468618298895\n",
       "abells1063    24 342.19414058450724 ...                   -- 27.746781095157598   0.13182462959115834\n",
       "abells1063    25  342.1906800204702 ...                   -- 26.938635786312595   0.11101961192659579\n",
       "abells1063    27  342.1936740936676 ...                   --  24.79231118995324  0.009803971571363397\n",
       "       ...   ...                ... ...                  ...                ...                   ...\n",
       "   sunrise  6519 24.359341804967908 ... 0.016943673209906796 26.319885258698395   0.04251472184524251\n",
       "   sunrise  6521  24.35706049961981 ... 0.060432636422638804                 --                    --\n",
       "   sunrise  6523 24.356270023204285 ...   0.3248366304001651                 --                    --\n",
       "   sunrise  6529  24.35999434175649 ...  0.08200639172569489 28.268964354683163   0.24665119993868664\n",
       "   sunrise  6530 24.356841285143066 ...  0.15572258626945892                 --                    --\n",
       "   sunrise  6531 24.356762551515295 ...   0.1173445182169672                 --                    --\n",
       "   sunrise  6532 24.358210558469505 ...   0.1958710071610107                 --                    --\n",
       "   sunrise  6533 24.357261002360378 ...  0.07381232020933137                 --                    --\n",
       "   sunrise  6542  24.35948210915665 ...   0.1561821814096316                 --                    --\n",
       "   sunrise  6544 24.358313025280985 ...   0.3060998949467028                 --                    --\n",
       "   sunrise  6553 24.358931660872365 ...  0.03936005508467043                 --                    --"
      ]
     },
     "execution_count": 86,
     "metadata": {},
     "output_type": "execute_result"
    }
   ],
   "source": [
    "f3_cat"
   ]
  },
  {
   "cell_type": "code",
   "execution_count": 87,
   "id": "06635000",
   "metadata": {},
   "outputs": [],
   "source": [
    "\n",
    "f4=[]\n",
    "for i in range(len(f3_cat)):\n",
    "    f4.append(np.ma.is_masked(f3_cat[f'lupt_{choice[3]}'][i]))\n",
    "f4_inv=np.array(np.invert(f4))\n",
    "f4_cat =f3_cat[f4_inv*(np.ma.is_masked(f3_cat[f'lupt_{choice[3]}']) == True)] #false idk why but works \n"
   ]
  },
  {
   "cell_type": "code",
   "execution_count": 88,
   "id": "86dfd6f9",
   "metadata": {},
   "outputs": [
    {
     "data": {
      "text/html": [
       "<div><i>Table length=8215</i>\n",
       "<table id=\"table140317899933840\" class=\"table-striped table-bordered table-condensed\">\n",
       "<thead><tr><th>field</th><th>id</th><th>ra</th><th>dec</th><th>lupt_f606w</th><th>lupterr_f606w</th><th>lupt_f110w</th><th>lupterr_f110w</th><th>lupt_f200w-clear</th><th>lupterr_f200w-clear</th><th>lupt_f356w-clear</th><th>lupterr_f356w-clear</th><th>lupt_f444w-clear</th><th>lupterr_f444w-clear</th></tr></thead>\n",
       "<thead><tr><th>bytes13</th><th>int32</th><th>float64</th><th>float64</th><th>float64</th><th>float64</th><th>float64</th><th>float64</th><th>float64</th><th>float64</th><th>float64</th><th>float64</th><th>float64</th><th>float64</th></tr></thead>\n",
       "<tr><td>macs0647</td><td>3976</td><td>101.99435324482509</td><td>70.22764130455266</td><td>27.727528478359403</td><td>0.20240082640969292</td><td>27.453859514592633</td><td>0.17045431320062146</td><td>26.917512530195864</td><td>0.06365778761834598</td><td>26.93216800271955</td><td>0.057968604927670336</td><td>26.96201714167506</td><td>0.09517025119652596</td></tr>\n",
       "<tr><td>macs0647</td><td>3978</td><td>101.9898333307484</td><td>70.227928956308</td><td>29.841388042135815</td><td>0.4074897376152559</td><td>28.798417282416835</td><td>0.40856640358624075</td><td>27.843588030051198</td><td>0.14908943382064704</td><td>28.215639317717695</td><td>0.17368960490570712</td><td>28.692321646441016</td><td>0.36319803633173664</td></tr>\n",
       "<tr><td>macs0647</td><td>3979</td><td>101.98921818456209</td><td>70.22794548695317</td><td>29.113981170654487</td><td>0.43146188677665853</td><td>29.016459962801452</td><td>0.4531457118276954</td><td>28.970684544760857</td><td>0.38197728227525185</td><td>29.427274773881383</td><td>0.9089692675161898</td><td>29.050896895432768</td><td>0.5297540114132252</td></tr>\n",
       "<tr><td>macs0647</td><td>3983</td><td>101.99716204697782</td><td>70.22779213635883</td><td>26.796835138356403</td><td>0.09352237189957867</td><td>25.53000272846882</td><td>0.028333051778609064</td><td>24.96434543803402</td><td>0.011203339125944315</td><td>24.77599818880748</td><td>0.008079993649095427</td><td>24.64854819798589</td><td>0.010683250174254278</td></tr>\n",
       "<tr><td>macs0647</td><td>3984</td><td>101.99694580048542</td><td>70.22806024826556</td><td>27.56086309451508</td><td>0.22033584724007277</td><td>27.52642481252893</td><td>0.1548192286377876</td><td>27.003735857427234</td><td>0.0691283172205789</td><td>27.653995486037026</td><td>0.10160811674372949</td><td>27.829345659775033</td><td>0.193430172748305</td></tr>\n",
       "<tr><td>macs0647</td><td>3985</td><td>101.98882790133804</td><td>70.22818239896256</td><td>28.36566290528209</td><td>1.2222330844407558</td><td>28.0826224200209</td><td>0.25143814775246637</td><td>27.453349405241692</td><td>0.1035326472295886</td><td>27.556702074540297</td><td>0.09170029613199109</td><td>27.569587153837556</td><td>0.1451244721712734</td></tr>\n",
       "<tr><td>macs0647</td><td>3986</td><td>101.99815976931545</td><td>70.22837322847</td><td>28.187887766493063</td><td>0.4523776526239224</td><td>29.235737813396494</td><td>0.5054168798669746</td><td>27.884691229866927</td><td>0.1776266847951962</td><td>28.42695964860224</td><td>0.18710910266968664</td><td>28.21963486486782</td><td>0.250486930840804</td></tr>\n",
       "<tr><td>macs0647</td><td>3987</td><td>101.98867665470219</td><td>70.22838770587835</td><td>28.75900663859935</td><td>0.49556597252706414</td><td>29.220548027497426</td><td>0.48136351868358945</td><td>28.95548901354399</td><td>0.4248759284818994</td><td>28.729614742338068</td><td>0.24223742815138571</td><td>28.37130165279834</td><td>0.2770087380176852</td></tr>\n",
       "<tr><td>macs0647</td><td>3988</td><td>101.99791877956773</td><td>70.22840335205194</td><td>28.302172504803156</td><td>2.242493287398623</td><td>28.99292439680199</td><td>0.447660604554518</td><td>28.079127035529723</td><td>0.19586404148722789</td><td>28.696453265282067</td><td>0.23797712975842156</td><td>28.87424577213734</td><td>0.4158081136723979</td></tr>\n",
       "<tr><td>macs0647</td><td>3989</td><td>101.98853063301335</td><td>70.22863651051648</td><td>29.194591123960805</td><td>0.48281257038789255</td><td>28.496192321073693</td><td>0.331443564798131</td><td>27.81984035631673</td><td>0.14228622221672596</td><td>29.14805077088054</td><td>0.3415523529440488</td><td>28.869375928433012</td><td>0.4091119798419984</td></tr>\n",
       "<tr><td>macs0647</td><td>3990</td><td>101.98681701180209</td><td>70.22869733417903</td><td>27.265556662072388</td><td>0.399867436736986</td><td>29.28130811443682</td><td>0.49693571138758985</td><td>28.598335301940892</td><td>0.29592689416397183</td><td>28.743179774687565</td><td>0.2434415790078406</td><td>28.700439725783426</td><td>0.35665487591550066</td></tr>\n",
       "<tr><td>...</td><td>...</td><td>...</td><td>...</td><td>...</td><td>...</td><td>...</td><td>...</td><td>...</td><td>...</td><td>...</td><td>...</td><td>...</td><td>...</td></tr>\n",
       "<tr><td>sunrise</td><td>6519</td><td>24.359341804967908</td><td>-8.43632025856512</td><td>27.532324918807447</td><td>0.17402871960302024</td><td>26.76360561269337</td><td>0.08821086922112881</td><td>26.198195432953096</td><td>0.035374199118011124</td><td>26.202308475905344</td><td>0.016943673209906796</td><td>26.319885258698395</td><td>0.04251472184524251</td></tr>\n",
       "<tr><td>sunrise</td><td>6521</td><td>24.35706049961981</td><td>-8.436241278020804</td><td>27.17774200284178</td><td>0.1275427099441327</td><td>27.271488420857754</td><td>0.09530397546036773</td><td>26.71027669801661</td><td>0.054868073305904305</td><td>27.018129394312076</td><td>0.060432636422638804</td><td>--</td><td>--</td></tr>\n",
       "<tr><td>sunrise</td><td>6523</td><td>24.356270023204285</td><td>-8.436155459923189</td><td>28.587415542862498</td><td>0.38659742101385897</td><td>28.813336179958778</td><td>0.36636784429822766</td><td>27.496538645285973</td><td>0.1507573851860165</td><td>28.90122904466493</td><td>0.3248366304001651</td><td>--</td><td>--</td></tr>\n",
       "<tr><td>sunrise</td><td>6529</td><td>24.35999434175649</td><td>-8.43605133537361</td><td>27.91975457799805</td><td>0.2380357062955723</td><td>28.411295402403443</td><td>0.47549754059965804</td><td>27.6980645391163</td><td>0.1376685469311751</td><td>27.99007986256518</td><td>0.08200639172569489</td><td>28.268964354683163</td><td>0.24665119993868664</td></tr>\n",
       "<tr><td>sunrise</td><td>6530</td><td>24.356841285143066</td><td>-8.436029727966702</td><td>30.013778827812697</td><td>0.40913013482926386</td><td>29.290072693170725</td><td>0.5996746733254891</td><td>29.96318412367027</td><td>0.7579303328299662</td><td>28.095154669593185</td><td>0.15572258626945892</td><td>--</td><td>--</td></tr>\n",
       "<tr><td>sunrise</td><td>6531</td><td>24.356762551515295</td><td>-8.436014314367199</td><td>29.832000159097785</td><td>0.45312080831738083</td><td>29.157473481839162</td><td>0.5542288114344731</td><td>28.590690726279767</td><td>0.3730583232756036</td><td>27.78557981327326</td><td>0.1173445182169672</td><td>--</td><td>--</td></tr>\n",
       "<tr><td>sunrise</td><td>6532</td><td>24.358210558469505</td><td>-8.43595839541658</td><td>29.36275255860805</td><td>0.5104817497588338</td><td>29.028186666258474</td><td>0.682143966888358</td><td>28.390087255022046</td><td>0.24914650564603102</td><td>28.727618479557986</td><td>0.1958710071610107</td><td>--</td><td>--</td></tr>\n",
       "<tr><td>sunrise</td><td>6533</td><td>24.357261002360378</td><td>-8.436011977445462</td><td>28.39856087667302</td><td>0.3384978281561035</td><td>27.56790439027636</td><td>0.15705186142360253</td><td>27.280285495064472</td><td>0.09274873705830139</td><td>27.256519839412608</td><td>0.07381232020933137</td><td>--</td><td>--</td></tr>\n",
       "<tr><td>sunrise</td><td>6542</td><td>24.35948210915665</td><td>-8.435637359141339</td><td>28.872942011350702</td><td>0.45094920904156843</td><td>29.133485763023927</td><td>1.2403967211470408</td><td>28.560299942376346</td><td>0.29022922233662324</td><td>28.479109009851566</td><td>0.1561821814096316</td><td>--</td><td>--</td></tr>\n",
       "<tr><td>sunrise</td><td>6544</td><td>24.358313025280985</td><td>-8.43549476558818</td><td>28.962676583156956</td><td>0.44736758411613925</td><td>29.488089537958537</td><td>0.9741002994018181</td><td>27.569357299158597</td><td>0.1717124375429061</td><td>28.877608842515492</td><td>0.3060998949467028</td><td>--</td><td>--</td></tr>\n",
       "<tr><td>sunrise</td><td>6553</td><td>24.358931660872365</td><td>-8.435365217850503</td><td>27.56649217174625</td><td>0.17400720764326388</td><td>27.443329647906268</td><td>0.3028243473856769</td><td>26.412730947564086</td><td>0.04437219081233461</td><td>26.569493772367792</td><td>0.03936005508467043</td><td>--</td><td>--</td></tr>\n",
       "</table></div>"
      ],
      "text/plain": [
       "<Table length=8215>\n",
       " field     id          ra                dec         ... lupterr_f356w-clear   lupt_f444w-clear  lupterr_f444w-clear \n",
       "bytes13  int32      float64            float64       ...       float64             float64             float64       \n",
       "-------- ----- ------------------ ------------------ ... -------------------- ------------------ --------------------\n",
       "macs0647  3976 101.99435324482509  70.22764130455266 ... 0.057968604927670336  26.96201714167506  0.09517025119652596\n",
       "macs0647  3978  101.9898333307484    70.227928956308 ...  0.17368960490570712 28.692321646441016  0.36319803633173664\n",
       "macs0647  3979 101.98921818456209  70.22794548695317 ...   0.9089692675161898 29.050896895432768   0.5297540114132252\n",
       "macs0647  3983 101.99716204697782  70.22779213635883 ... 0.008079993649095427  24.64854819798589 0.010683250174254278\n",
       "macs0647  3984 101.99694580048542  70.22806024826556 ...  0.10160811674372949 27.829345659775033    0.193430172748305\n",
       "macs0647  3985 101.98882790133804  70.22818239896256 ...  0.09170029613199109 27.569587153837556   0.1451244721712734\n",
       "macs0647  3986 101.99815976931545     70.22837322847 ...  0.18710910266968664  28.21963486486782    0.250486930840804\n",
       "macs0647  3987 101.98867665470219  70.22838770587835 ...  0.24223742815138571  28.37130165279834   0.2770087380176852\n",
       "macs0647  3988 101.99791877956773  70.22840335205194 ...  0.23797712975842156  28.87424577213734   0.4158081136723979\n",
       "macs0647  3989 101.98853063301335  70.22863651051648 ...   0.3415523529440488 28.869375928433012   0.4091119798419984\n",
       "macs0647  3990 101.98681701180209  70.22869733417903 ...   0.2434415790078406 28.700439725783426  0.35665487591550066\n",
       "     ...   ...                ...                ... ...                  ...                ...                  ...\n",
       " sunrise  6519 24.359341804967908  -8.43632025856512 ... 0.016943673209906796 26.319885258698395  0.04251472184524251\n",
       " sunrise  6521  24.35706049961981 -8.436241278020804 ... 0.060432636422638804                 --                   --\n",
       " sunrise  6523 24.356270023204285 -8.436155459923189 ...   0.3248366304001651                 --                   --\n",
       " sunrise  6529  24.35999434175649  -8.43605133537361 ...  0.08200639172569489 28.268964354683163  0.24665119993868664\n",
       " sunrise  6530 24.356841285143066 -8.436029727966702 ...  0.15572258626945892                 --                   --\n",
       " sunrise  6531 24.356762551515295 -8.436014314367199 ...   0.1173445182169672                 --                   --\n",
       " sunrise  6532 24.358210558469505  -8.43595839541658 ...   0.1958710071610107                 --                   --\n",
       " sunrise  6533 24.357261002360378 -8.436011977445462 ...  0.07381232020933137                 --                   --\n",
       " sunrise  6542  24.35948210915665 -8.435637359141339 ...   0.1561821814096316                 --                   --\n",
       " sunrise  6544 24.358313025280985  -8.43549476558818 ...   0.3060998949467028                 --                   --\n",
       " sunrise  6553 24.358931660872365 -8.435365217850503 ...  0.03936005508467043                 --                   --"
      ]
     },
     "execution_count": 88,
     "metadata": {},
     "output_type": "execute_result"
    }
   ],
   "source": [
    "f4_cat"
   ]
  },
  {
   "cell_type": "code",
   "execution_count": 89,
   "id": "1e7a595d",
   "metadata": {},
   "outputs": [],
   "source": [
    "f5=[]\n",
    "for i in range(len(f4_cat)):\n",
    "    f5.append(np.ma.is_masked(f4_cat[f'lupt_{choice[4]}'][i]))\n",
    "f5_inv=np.array(np.invert(f5))\n",
    "f5_cat =f4_cat[f5_inv*(np.ma.is_masked(f4_cat[f'lupt_{choice[4]}']) == True)] "
   ]
  },
  {
   "cell_type": "code",
   "execution_count": 120,
   "id": "cb678384",
   "metadata": {},
   "outputs": [
    {
     "data": {
      "text/plain": [
       "7854"
      ]
     },
     "execution_count": 120,
     "metadata": {},
     "output_type": "execute_result"
    }
   ],
   "source": [
    "np.max(f5_cat['id'])"
   ]
  },
  {
   "cell_type": "code",
   "execution_count": 91,
   "id": "08e744f2",
   "metadata": {},
   "outputs": [],
   "source": [
    "f5_cat.write('MPhys/catalogues/filter_choice_5.fits',format = 'fits',overwrite=True)"
   ]
  },
  {
   "cell_type": "code",
   "execution_count": 98,
   "id": "6ee67ccf",
   "metadata": {},
   "outputs": [
    {
     "data": {
      "text/plain": [
       "['ID', 'RA', 'DEC', 'z_spec', 'spec_qual']"
      ]
     },
     "execution_count": 98,
     "metadata": {},
     "output_type": "execute_result"
    }
   ],
   "source": [
    "candels=Table.read('MPhys/CANDELS/CANDELS_catalogue.fits',format='fits')\n",
    "candels.colnames"
   ]
  },
  {
   "cell_type": "code",
   "execution_count": 99,
   "id": "40d9871e",
   "metadata": {},
   "outputs": [],
   "source": [
    "ra1=f5_cat['ra']\n",
    "dec1=f5_cat['dec']\n",
    "ra2=candels['RA']\n",
    "dec2=candels['DEC']"
   ]
  },
  {
   "cell_type": "code",
   "execution_count": 128,
   "id": "84c180d8",
   "metadata": {},
   "outputs": [],
   "source": [
    "c = SkyCoord(ra=ra1*u.degree, dec=dec1*u.degree)#jwst\n",
    "catalog = SkyCoord(ra=ra2*u.degree, dec=dec2*u.degree)#candels\n",
    "#idx, d2d, d3d = c.match_to_catalog_sky(catalog)#gives id of candels catalogue\n",
    "#id_jwst, d2d_jwst, d3d_jwst = catalog.match_to_catalog_sky(c) #id of jwst catalogue for filter choice\n",
    "\n",
    "#idx, d2d, d3d = match_coordinates_sky(c, catalog)"
   ]
  },
  {
   "cell_type": "code",
   "execution_count": 132,
   "id": "adb28e92",
   "metadata": {},
   "outputs": [],
   "source": [
    "max_sep = 1.0 * u.arcsec\n",
    "idx, d2d, d3d = c.match_to_catalog_sky(catalog)\n",
    "sep_constraint = d2d < max_sep\n",
    "c_matches = c[sep_constraint]\n",
    "catalog_matches = catalog[idx[sep_constraint]]"
   ]
  },
  {
   "cell_type": "code",
   "execution_count": 135,
   "id": "bcaaca70",
   "metadata": {},
   "outputs": [
    {
     "data": {
      "text/plain": [
       "<SkyCoord (ICRS): (ra, dec) in deg\n",
       "    []>"
      ]
     },
     "execution_count": 135,
     "metadata": {},
     "output_type": "execute_result"
    }
   ],
   "source": [
    "catalog_matches"
   ]
  },
  {
   "cell_type": "code",
   "execution_count": 111,
   "id": "d0627657",
   "metadata": {},
   "outputs": [
    {
     "ename": "TypeError",
     "evalue": "'numpy.int32' object does not support item assignment",
     "output_type": "error",
     "traceback": [
      "\u001b[0;31m---------------------------------------------------------------------------\u001b[0m",
      "\u001b[0;31mTypeError\u001b[0m                                 Traceback (most recent call last)",
      "Cell \u001b[0;32mIn[111], line 2\u001b[0m\n\u001b[1;32m      1\u001b[0m \u001b[38;5;28;01mfor\u001b[39;00m i \u001b[38;5;129;01min\u001b[39;00m id_jwst:\n\u001b[0;32m----> 2\u001b[0m     sky_match_choice5[\u001b[38;5;124m'\u001b[39m\u001b[38;5;124mid\u001b[39m\u001b[38;5;124m'\u001b[39m]\u001b[38;5;241m=\u001b[39m f5_cat[\u001b[38;5;124m'\u001b[39m\u001b[38;5;124mid\u001b[39m\u001b[38;5;124m'\u001b[39m][i]\n",
      "\u001b[0;31mTypeError\u001b[0m: 'numpy.int32' object does not support item assignment"
     ]
    }
   ],
   "source": []
  },
  {
   "cell_type": "code",
   "execution_count": 112,
   "id": "d285b073",
   "metadata": {},
   "outputs": [
    {
     "data": {
      "text/plain": [
       "6277"
      ]
     },
     "execution_count": 112,
     "metadata": {},
     "output_type": "execute_result"
    }
   ],
   "source": []
  },
  {
   "cell_type": "code",
   "execution_count": null,
   "id": "29f1cf42",
   "metadata": {},
   "outputs": [],
   "source": [
    "fit= Table.read('MPhys/jwst_parameter_files/jwst_nans_removed_lupts_specz_TRAIN.fits', format = 'fits')\n",
    "train = fit['id_1','ra_1','dec_1','lupt_f115w','lupterr_f115w','lupt_f200w','lupterr_f200w','lupt_f277w','lupterr_f277w','lupt_f356w','lupterr_f356w','lupt_f444w','lupterr_f444w','z_spec']\n",
    "train.write('MPhys/gpz_files/jwst_TRAIN_2.cat',format='ascii.commented_header',overwrite=True)"
   ]
  },
  {
   "cell_type": "code",
   "execution_count": null,
   "id": "4a407679",
   "metadata": {},
   "outputs": [],
   "source": [
    "train.sort('id_1')"
   ]
  },
  {
   "cell_type": "code",
   "execution_count": null,
   "id": "701b0dde",
   "metadata": {},
   "outputs": [],
   "source": [
    "train_split=train[0:int(0.8*len(train))]\n",
    "pred_split=train[int(0.8*len(train)):-1]"
   ]
  },
  {
   "cell_type": "code",
   "execution_count": null,
   "id": "c341ffd1",
   "metadata": {},
   "outputs": [],
   "source": [
    "train_split.write('MPhys/gpz_files/TRAIN_80_split.cat', format ='ascii.commented_header', overwrite=True)\n",
    "pred_split.write('MPhys/gpz_files/PRED_20_split.cat', format ='ascii.commented_header', overwrite=True)"
   ]
  },
  {
   "cell_type": "code",
   "execution_count": null,
   "id": "63e0c17a",
   "metadata": {},
   "outputs": [],
   "source": [
    "pred_split"
   ]
  },
  {
   "cell_type": "code",
   "execution_count": null,
   "id": "d92fc9a8",
   "metadata": {},
   "outputs": [],
   "source": [
    "ceers_new.write('ceers_tst.fits',format='fits',overwrite=True)"
   ]
  },
  {
   "cell_type": "code",
   "execution_count": null,
   "id": "251c4a75",
   "metadata": {},
   "outputs": [],
   "source": [
    "filt='f115w-clear_flux_aper_1'\n",
    "cat_ceers = ceers[f'{filt}','flux_auto','flux_aper_1']\n",
    "cat_gds= gds[f'{filt}','flux_auto','flux_aper_1']\n",
    "cat_gdn = gdn[f'{filt}','flux_auto','flux_aper_1']\n",
    "cat_ngdeep = ngdeep[f'{filt}','flux_auto','flux_aper_1']\n",
    "cat_cosmos_west = cosmos_west[f'{filt}','flux_auto','flux_aper_1']\n",
    "cat_cosmos_east = cosmos_east[f'{filt}','flux_auto','flux_aper_1']\n",
    "cat_udss = udss[f'{filt}','flux_auto','flux_aper_1']\n",
    "cat_udsn = udsn[f'{filt}','flux_auto','flux_aper_1']\n",
    "\n",
    "\n",
    "    \n"
   ]
  },
  {
   "cell_type": "code",
   "execution_count": null,
   "id": "b4781455",
   "metadata": {},
   "outputs": [],
   "source": [
    "flux_ceers=[]\n",
    "mag_ceers=[]\n",
    "\n",
    "flux_gds=[]\n",
    "mag_gds=[]\n",
    "\n",
    "flux_gdn=[]\n",
    "#mag_gdn=[]\n",
    "\n",
    "flux_ngdeep=[]\n",
    "mag_ngdeep=[]\n",
    "\n",
    "flux_cosmos_west=[]\n",
    "mag_cosmos_west=[]\n",
    "\n",
    "flux_udss=[]\n",
    "mag_udss=[]\n",
    "\n",
    "flux_udsn=[]\n",
    "#mag_udsn=[]\n",
    "\n",
    "flux_cosmos_east=[]\n",
    "#mag_cosmos_east=[]\n",
    "\n",
    "for j in range(len(cat_ceers)):\n",
    "    flux_ceers.append((cat_ceers[f'{filt}'][j] * cat_ceers['flux_auto'][j]) /cat_ceers['flux_aper_1'][j])\n",
    "    mag_ceers.append(23.9-(2.5*np.log10(flux_ceers[j])))\n",
    "for j in range(len(cat_gds)):\n",
    "    flux_gds.append((cat_gds[f'{filt}'][j] * cat_gds['flux_auto'][j]) /cat_gds['flux_aper_1'][j])\n",
    "    mag_gds.append(23.9-(2.5*np.log10(flux_gds[j])))\n",
    "for j in range(len(cat_gdn)):\n",
    "    flux_gdn.append((cat_gdn[f'{filt}'][j] * cat_gdn['flux_auto'][j]) /cat_gdn['flux_aper_1'][j])\n",
    "    mag_gds.append(23.9-(2.5*np.log10(flux_gdn[j])))\n",
    "for j in range(len(cat_cosmos_west)):\n",
    "    flux_cosmos_west.append((cat_cosmos_west[f'{filt}'][j] * cat_cosmos_west['flux_auto'][j]) /cat_cosmos_west['flux_aper_1'][j])\n",
    "    mag_cosmos_west.append(23.9-(2.5*np.log10(flux_cosmos_west[j])))\n",
    "for j in range(len(cat_cosmos_east)):\n",
    "    flux_cosmos_east.append((cat_cosmos_east[f'{filt}'][j] * cat_cosmos_east['flux_auto'][j]) /cat_cosmos_east['flux_aper_1'][j])\n",
    "    mag_cosmos_west.append(23.9-(2.5*np.log10(flux_cosmos_east[j])))\n",
    "for j in range(len(cat_udss)):\n",
    "    flux_udss.append((cat_udss[f'{filt}'][j] * cat_udss['flux_auto'][j]) /cat_udss['flux_aper_1'][j])\n",
    "    mag_udss.append(23.9-(2.5*np.log10(flux_udss[j])))\n",
    "for j in range(len(cat_udsn)):\n",
    "    flux_udsn.append((cat_udsn[f'{filt}'][j] * cat_udsn['flux_auto'][j]) /cat_udsn['flux_aper_1'][j])\n",
    "    mag_udss.append(23.9-(2.5*np.log10(flux_udsn[j])))\n",
    "for j in range(len(cat_ngdeep)):\n",
    "    flux_ngdeep.append((cat_ngdeep[f'{filt}'][j] * cat_ngdeep['flux_auto'][j]) /cat_ngdeep['flux_aper_1'][j])\n",
    "    mag_ngdeep.append(23.9-(2.5*np.log10(flux_ngdeep[j])))\n"
   ]
  },
  {
   "cell_type": "code",
   "execution_count": null,
   "id": "66fc4477",
   "metadata": {},
   "outputs": [],
   "source": [
    "plt.hist(mag_ceers,histtype='step',bins=100,label='CEERS')\n",
    "plt.hist(mag_gds,histtype='step',bins=100,label='GDS')\n",
    "plt.hist(mag_cosmos_west,histtype='step',bins=100,label='PRIMER COSMOS')\n",
    "plt.hist(mag_udss,histtype='step',bins=100,label='UDS')\n",
    "plt.hist(mag_ngdeep,histtype='step',bins=100,label='NGDeep')\n",
    "plt.xlabel('AB Magnitudes')\n",
    "plt.title(f'AB Magnitudes for {filt}')\n",
    "plt.legend()\n",
    "plt.show()\n"
   ]
  },
  {
   "cell_type": "code",
   "execution_count": null,
   "id": "1b5d47bf",
   "metadata": {},
   "outputs": [],
   "source": []
  },
  {
   "cell_type": "code",
   "execution_count": null,
   "id": "6f2ebcc7",
   "metadata": {},
   "outputs": [],
   "source": []
  }
 ],
 "metadata": {
  "kernelspec": {
   "display_name": "py3",
   "language": "python",
   "name": "py3"
  },
  "language_info": {
   "codemirror_mode": {
    "name": "ipython",
    "version": 3
   },
   "file_extension": ".py",
   "mimetype": "text/x-python",
   "name": "python",
   "nbconvert_exporter": "python",
   "pygments_lexer": "ipython3",
   "version": "3.11.5"
  }
 },
 "nbformat": 4,
 "nbformat_minor": 5
}
