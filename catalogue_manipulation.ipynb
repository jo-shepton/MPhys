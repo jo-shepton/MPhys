{
 "cells": [
  {
   "cell_type": "code",
   "execution_count": null,
   "id": "fe28b4a7",
   "metadata": {},
   "outputs": [],
   "source": [
    "pip install wget"
   ]
  },
  {
   "cell_type": "code",
   "execution_count": 129,
   "id": "86dad701",
   "metadata": {},
   "outputs": [],
   "source": [
    "import astropy\n",
    "from astropy.table import Table,vstack, Column\n",
    "from subprocess import call\n",
    "import subprocess\n",
    "from astropy.io import fits\n",
    "import numpy as np\n",
    "import wget\n",
    "import matplotlib.pyplot as plt\n",
    "from gpz_pype.utilities import Params, set_gpz_path, basic_lupt_soft, flux_to_lupt\n",
    "import astropy.units as u\n",
    "from numpy.ma import masked\n",
    "from astropy.coordinates import SkyCoord\n",
    "from astropy.coordinates import match_coordinates_sky\n",
    "\n",
    "from os import listdir\n",
    "from os.path import isfile, join"
   ]
  },
  {
   "cell_type": "code",
   "execution_count": null,
   "id": "4d3ed030",
   "metadata": {},
   "outputs": [],
   "source": [
    "fields= ['ceers-full','gdn','gds','ngdeep','primer-cosmos-east','primer-cosmos-west','primer-uds-north','primer-uds-south','abell2744clu','abells1063','elgordo','j112716p4228','macs0647','rxj2129','smacs0723','sunrise']"
   ]
  },
  {
   "cell_type": "markdown",
   "id": "9d4705ee",
   "metadata": {},
   "source": [
    "# Download Field Files\n"
   ]
  },
  {
   "cell_type": "code",
   "execution_count": null,
   "id": "63997737",
   "metadata": {},
   "outputs": [],
   "source": [
    "for field in fields:\n",
    "    url=f'https://s3.amazonaws.com/grizli-v2/JwstMosaics/v7/{field}-grizli-v7.0_phot.fits'\n",
    "    filename=wget.download(url)\n",
    "    print(f' {field} downloaded')"
   ]
  },
  {
   "cell_type": "markdown",
   "id": "bf2c0f40",
   "metadata": {},
   "source": [
    "# Initial Catalogue Making - Run Once\n"
   ]
  },
  {
   "cell_type": "code",
   "execution_count": null,
   "id": "039ad109",
   "metadata": {},
   "outputs": [],
   "source": [
    "###INITIAL CATALOGUE MAKING\n",
    "hdu_list = fits.open('MPhys/DAWN_JWST/ceers-full-grizli-v7.0_phot.fits', memmap=True,formats='fits')\n",
    "ceers = Table(hdu_list[1].data)\n",
    "hdu_list.close()\n",
    "\n",
    "hdu_list = fits.open('MPhys/DAWN_JWST/gdn-grizli-v7.0_phot.fits', memmap=True,formats='fits')\n",
    "gdn= Table(hdu_list[1].data)\n",
    "hdu_list.close()\n",
    "\n",
    "hdu_list = fits.open('MPhys/DAWN_JWST/gds-grizli-v7.0_phot.fits', memmap=True,formats='fits')\n",
    "gds = Table(hdu_list[1].data)\n",
    "hdu_list.close()\n",
    "\n",
    "hdu_list = fits.open('MPhys/DAWN_JWST/ngdeep-grizli-v7.0_phot.fits', memmap=True,formats='fits')\n",
    "ngdeep = Table(hdu_list[1].data)\n",
    "hdu_list.close()\n",
    "\n",
    "hdu_list = fits.open('MPhys/DAWN_JWST/primer-cosmos-east-grizli-v7.0_phot.fits', memmap=True,formats='fits')\n",
    "cosmos_east = Table(hdu_list[1].data)\n",
    "hdu_list.close()\n",
    "\n",
    "hdu_list = fits.open('MPhys/DAWN_JWST/primer-cosmos-west-grizli-v7.0_phot.fits', memmap=True,formats='fits')\n",
    "cosmos_west = Table(hdu_list[1].data)\n",
    "hdu_list.close()\n",
    "\n",
    "hdu_list = fits.open('MPhys/DAWN_JWST/primer-uds-south-grizli-v7.0_phot.fits', memmap=True,formats='fits')\n",
    "udss = Table(hdu_list[1].data)\n",
    "hdu_list.close()\n",
    "\n",
    "hdu_list = fits.open('MPhys/DAWN_JWST/primer-uds-north-grizli-v7.0_phot.fits', memmap=True,formats='fits')\n",
    "udsn = Table(hdu_list[1].data)\n",
    "hdu_list.close()"
   ]
  },
  {
   "cell_type": "code",
   "execution_count": null,
   "id": "ee206217",
   "metadata": {},
   "outputs": [],
   "source": [
    "#ADDING FIELDS TO CATALOGUE - RUN BOTH CELLS IF STARTING FROM SCRATCH\n",
    "hdu_list = fits.open('MPhys/DAWN_JWST/abell2744clu-grizli-v7.0_phot.fits', memmap=True,formats='fits')\n",
    "abell2744 = Table(hdu_list[1].data)\n",
    "hdu_list.close()\n",
    "\n",
    "hdu_list = fits.open('MPhys/DAWN_JWST/abells1063-grizli-v7.0_phot.fits', memmap=True,formats='fits')\n",
    "abells1063= Table(hdu_list[1].data)\n",
    "hdu_list.close()\n",
    "\n",
    "hdu_list = fits.open('MPhys/DAWN_JWST/elgordo-grizli-v7.0_phot.fits', memmap=True,formats='fits')\n",
    "elgordo = Table(hdu_list[1].data)\n",
    "hdu_list.close()\n",
    "\n",
    "hdu_list = fits.open('MPhys/DAWN_JWST/j112716p4228-grizli-v7.0_phot.fits', memmap=True,formats='fits')\n",
    "j_field = Table(hdu_list[1].data)\n",
    "hdu_list.close()\n",
    "\n",
    "hdu_list = fits.open('MPhys/DAWN_JWST/macs0647-grizli-v7.0_phot.fits', memmap=True,formats='fits')\n",
    "macs = Table(hdu_list[1].data)\n",
    "hdu_list.close()\n",
    "\n",
    "hdu_list = fits.open('MPhys/DAWN_JWST/rxj2129-grizli-v7.0_phot.fits', memmap=True,formats='fits')\n",
    "rxj = Table(hdu_list[1].data)\n",
    "hdu_list.close()\n",
    "\n",
    "hdu_list = fits.open('MPhys/DAWN_JWST/smacs0723-grizli-v7.0_phot.fits', memmap=True,formats='fits')\n",
    "smacs = Table(hdu_list[1].data)\n",
    "hdu_list.close()\n",
    "\n",
    "hdu_list = fits.open('MPhys/DAWN_JWST/sunrise-grizli-v7.0_phot.fits', memmap=True,formats='fits')\n",
    "sunrise = Table(hdu_list[1].data)\n",
    "hdu_list.close()"
   ]
  },
  {
   "cell_type": "code",
   "execution_count": null,
   "id": "16d2fc6f",
   "metadata": {},
   "outputs": [],
   "source": [
    "abell2744.add_column('abells2744clu', name='field', index=0)\n",
    "abells1063.add_column('abells1063', name='field', index=0)\n",
    "elgordo.add_column('elgordo', name='field', index=0)\n",
    "j_field.add_column('j112716p4228', name='field', index=0)\n",
    "macs.add_column('macs0647', name='field', index=0)\n",
    "rxj.add_column('rxj2129', name='field', index=0)\n",
    "smacs.add_column('smacs0723', name='field', index=0)\n",
    "sunrise.add_column('sunrise', name='field', index=0)"
   ]
  },
  {
   "cell_type": "code",
   "execution_count": null,
   "id": "01d6d70d",
   "metadata": {},
   "outputs": [],
   "source": [
    "ceers.add_column('ceers', name='field', index=0)\n",
    "gdn.add_column('gdn', name='field', index=0)\n",
    "gds.add_column('gds', name='field', index=0)\n",
    "ngdeep.add_column('ngdeep', name='field', index=0)\n",
    "cosmos_east.add_column('cosmos_east', name='field', index=0)\n",
    "cosmos_west.add_column('cosmos_west', name='field', index=0)\n",
    "udsn.add_column('udsn', name='field', index=0)\n",
    "udss.add_column('udss', name='field', index=0)"
   ]
  },
  {
   "cell_type": "code",
   "execution_count": null,
   "id": "176dc778",
   "metadata": {},
   "outputs": [],
   "source": [
    "fields_new= ['ceers','gdn','gds','ngdeep','cosmos_east','cosmos_west','udsn','udss','abell2744','abells1063','elgordo','j_field','macs','rxj','smacs','sunrise']"
   ]
  },
  {
   "cell_type": "markdown",
   "id": "bd021732",
   "metadata": {},
   "source": [
    "# Convert to Luptiudes for Each Field\n"
   ]
  },
  {
   "cell_type": "code",
   "execution_count": null,
   "id": "b5930645",
   "metadata": {},
   "outputs": [],
   "source": [
    "field=sunrise\n"
   ]
  },
  {
   "cell_type": "code",
   "execution_count": null,
   "id": "abcf2908",
   "metadata": {},
   "outputs": [],
   "source": [
    "filters0 = [col.split('_')[0] for col in field.colnames if col.endswith('flux_aper_0')]\n",
    "filters0=filters0[1:]\n",
    "filters1 = [col.split('_')[0] for col in field.colnames if col.endswith('flux_aper_1')]\n",
    "filters1=filters1[1:]\n",
    "\n",
    "filters2 = [col.split('_')[0] for col in field.colnames if col.endswith('flux_aper_2')]\n",
    "filters2=filters2[1:]\n",
    "\n",
    "filters3 = [col.split('_')[0] for col in field.colnames if col.endswith('flux_aper_3')]\n",
    "filters3=filters3[1:]\n",
    "\n"
   ]
  },
  {
   "cell_type": "code",
   "execution_count": null,
   "id": "58d2cb99",
   "metadata": {},
   "outputs": [],
   "source": [
    "\n",
    "b_arr0 = [basic_lupt_soft(field[f'{filt}_flux_aper_0'], field[f'{filt}_fluxerr_aper_0']) for filt in filters0] \n",
    "b_arr1 = [basic_lupt_soft(field[f'{filt}_flux_aper_1'], field[f'{filt}_fluxerr_aper_1']) for filt in filters1] \n",
    "b_arr2 = [basic_lupt_soft(field[f'{filt}_flux_aper_2'], field[f'{filt}_fluxerr_aper_2']) for filt in filters2] \n",
    "b_arr3 = [basic_lupt_soft(field[f'{filt}_flux_aper_3'], field[f'{filt}_fluxerr_aper_3']) for filt in filters3] "
   ]
  },
  {
   "cell_type": "code",
   "execution_count": null,
   "id": "5020e9a2",
   "metadata": {},
   "outputs": [],
   "source": [
    "i=15\n",
    "lupt_cols=field['field','id','ra','dec']\n",
    "\n",
    "for filt,b in zip(filters0,b_arr0):\n",
    "    lupt,lupterr = flux_to_lupt(field[f'{filt}_flux_aper_0'],field[f'{filt}_fluxerr_aper_0'],b)\n",
    "    lupt_cols[f'lupt_{filt}_aper0']=lupt\n",
    "    lupt_cols[f'lupterr_{filt}_aper0']=lupterr\n",
    "for filt,b in zip(filters1,b_arr1):\n",
    "    lupt,lupterr = flux_to_lupt(field[f'{filt}_flux_aper_1'],field[f'{filt}_fluxerr_aper_1'],b)\n",
    "    lupt_cols[f'lupt_{filt}_aper1']=lupt\n",
    "    lupt_cols[f'lupterr_{filt}_aper1']=lupterr\n",
    "for filt,b in zip(filters2,b_arr2):\n",
    "    lupt,lupterr = flux_to_lupt(field[f'{filt}_flux_aper_2'],field[f'{filt}_fluxerr_aper_2'],b)\n",
    "    lupt_cols[f'lupt_{filt}_aper2']=lupt\n",
    "    lupt_cols[f'lupterr_{filt}_aper2']=lupterr\n",
    "for filt,b in zip(filters3,b_arr3):\n",
    "    lupt,lupterr = flux_to_lupt(field[f'{filt}_flux_aper_3'],field[f'{filt}_fluxerr_aper_3'],b)\n",
    "    lupt_cols[f'lupt_{filt}_aper3']=lupt\n",
    "    lupt_cols[f'lupterr_{filt}_aper3']=lupterr\n",
    "\n",
    "lupt_cols.write(f'MPhys/catalogues/{fields[i]}_lupts.fits',format='fits', overwrite=True)"
   ]
  },
  {
   "cell_type": "code",
   "execution_count": null,
   "id": "05e9b95b",
   "metadata": {},
   "outputs": [],
   "source": []
  },
  {
   "cell_type": "code",
   "execution_count": null,
   "id": "d00bfaab",
   "metadata": {},
   "outputs": [],
   "source": []
  },
  {
   "cell_type": "code",
   "execution_count": 2,
   "id": "3a024905",
   "metadata": {},
   "outputs": [],
   "source": [
    "lup_ceers=Table.read('MPhys/catalogues/ceers-full_lupts.fits',format='fits')\n",
    "lup_gds=Table.read('MPhys/catalogues/gds_lupts.fits',format='fits')\n",
    "lup_gdn=Table.read('MPhys/catalogues/gdn_lupts.fits',format='fits')\n",
    "lup_ngdeep=Table.read('MPhys/catalogues/ngdeep_lupts.fits',format='fits')\n",
    "lup_udss=Table.read('MPhys/catalogues/primer-uds-south_lupts.fits',format='fits')\n",
    "lup_udsn=Table.read('MPhys/catalogues/primer-uds-north_lupts.fits',format='fits')\n",
    "lup_cosmos_east=Table.read('MPhys/catalogues/primer-cosmos-east_lupts.fits',format='fits')\n",
    "lup_cosmos_west=Table.read('MPhys/catalogues/primer-cosmos-west_lupts.fits',format='fits')"
   ]
  },
  {
   "cell_type": "code",
   "execution_count": 3,
   "id": "3b73e3b6",
   "metadata": {},
   "outputs": [],
   "source": [
    "lup_abell2744clu = Table.read('MPhys/catalogues/abell2744clu_lupts.fits',format='fits')\n",
    "lup_abells1063=Table.read('MPhys/catalogues/abells1063_lupts.fits',format='fits')\n",
    "lup_elgordo=Table.read('MPhys/catalogues/elgordo_lupts.fits',format='fits')\n",
    "lup_j112716p4228=Table.read('MPhys/catalogues/j112716p4228_lupts.fits',format='fits')\n",
    "lup_macs0647=Table.read('MPhys/catalogues/macs0647_lupts.fits',format='fits')\n",
    "lup_rxj2129=Table.read('MPhys/catalogues/rxj2129_lupts.fits',format='fits')\n",
    "lup_smacs0723=Table.read('MPhys/catalogues/smacs0723_lupts.fits',format='fits')\n",
    "lup_sunrise=Table.read('MPhys/catalogues/sunrise_lupts.fits',format='fits')"
   ]
  },
  {
   "cell_type": "code",
   "execution_count": 4,
   "id": "76e791a7",
   "metadata": {},
   "outputs": [],
   "source": [
    "#saves laptop dying if split up \n",
    "lup_con =vstack([lup_ceers,lup_gds,lup_gdn,lup_ngdeep,lup_udss,lup_udsn,lup_cosmos_east,lup_cosmos_west,])\n"
   ]
  },
  {
   "cell_type": "code",
   "execution_count": 5,
   "id": "fbffa4e8",
   "metadata": {},
   "outputs": [],
   "source": [
    "lup_con_small = vstack([lup_abell2744clu,lup_abells1063,lup_elgordo,lup_j112716p4228,lup_macs0647,lup_rxj2129,lup_smacs0723,lup_sunrise])"
   ]
  },
  {
   "cell_type": "code",
   "execution_count": 6,
   "id": "b05f8b2d",
   "metadata": {},
   "outputs": [],
   "source": [
    "lup_total = vstack([lup_con,lup_con_small])"
   ]
  },
  {
   "cell_type": "code",
   "execution_count": 7,
   "id": "0efe881a",
   "metadata": {},
   "outputs": [],
   "source": [
    "#needs to be done in CP Lab \n",
    "lup_total.write('luptitudes_all_jwst.fits', format='fits', overwrite=True)"
   ]
  },
  {
   "cell_type": "markdown",
   "id": "9d512709",
   "metadata": {},
   "source": [
    "\n",
    "# Skymatching Catalogues"
   ]
  },
  {
   "cell_type": "code",
   "execution_count": 116,
   "id": "7ff9aa48",
   "metadata": {},
   "outputs": [],
   "source": [
    "candels=Table.read('MPhys/CANDELS_dawn_catalogue.fits',format='fits')\n",
    "jwst=Table.read('luptitudes_all_jwst.fits',format='fits')\n",
    "dawn = Table.read('csv.csv',format='csv')"
   ]
  },
  {
   "cell_type": "code",
   "execution_count": 117,
   "id": "e3a09e55",
   "metadata": {},
   "outputs": [],
   "source": [
    "z = dawn['zspec']\n",
    "z[z < 0] = np.nan\n",
    "masked=[]\n",
    "for i in range(len(dawn)):\n",
    "    masked.append(np.ma.is_masked(z[i]))\n",
    "masked_inv=np.array(np.invert(masked))\n",
    "masked_cat =dawn[masked_inv*(np.ma.is_masked(z) == True)] \n",
    "nans=[]\n",
    "for i in range(len(masked_cat)):\n",
    "    nans.append(np.isnan(masked_cat['zspec'][i]))\n",
    "nans_inv=np.array(np.invert(nans))\n",
    "dawn_zreal =masked_cat[nans_inv*(np.isnan(masked_cat['zspec']) == False)] "
   ]
  },
  {
   "cell_type": "code",
   "execution_count": 141,
   "id": "2bc045e0",
   "metadata": {},
   "outputs": [
    {
     "data": {
      "text/html": [
       "<div><i>Table length=61</i>\n",
       "<table id=\"table139932358847504\" class=\"table-striped table-bordered table-condensed\">\n",
       "<thead><tr><th>jname</th><th>count</th><th>F200W</th><th>F444W</th><th>ra</th><th>dec</th><th>id</th><th>zphot</th><th>zspec</th><th>arxiv</th><th>author</th><th>z_spec</th></tr></thead>\n",
       "<thead><tr><th>str20</th><th>int64</th><th>int64</th><th>int64</th><th>float64</th><th>float64</th><th>str26</th><th>float64</th><th>float64</th><th>float64</th><th>str21</th><th>float64</th></tr></thead>\n",
       "<tr><td>j001418.52m302521.27</td><td>2</td><td>--</td><td>--</td><td>3.577166</td><td>-30.42258</td><td>GLASS-150029</td><td>--</td><td>4.584</td><td>2301.06811</td><td>Yuki Isobe</td><td>4.584</td></tr>\n",
       "<tr><td>j001419.27m302527.85</td><td>2</td><td>--</td><td>--</td><td>3.580275</td><td>-30.4244</td><td>GLASS_160133</td><td>--</td><td>4.015</td><td>2301.12825</td><td>Kimihiko Nakajima</td><td>4.015</td></tr>\n",
       "<tr><td>j001424.93m302256.05</td><td>4</td><td>--</td><td>--</td><td>3.603845</td><td>-30.38224</td><td>GLASS-100001</td><td>--</td><td>7.874</td><td>2301.06811</td><td>Yuki Isobe</td><td>7.874</td></tr>\n",
       "<tr><td>j033225.43m274830.50</td><td>1</td><td>--</td><td>--</td><td>53.105962</td><td>-27.80847</td><td>10036017</td><td>--</td><td>2.016</td><td>2306.02467</td><td>Andrew Bunker</td><td>2.016</td></tr>\n",
       "<tr><td>j033226.59m274749.42</td><td>1</td><td>--</td><td>--</td><td>53.110776</td><td>-27.79706</td><td>10037047</td><td>--</td><td>2.058</td><td>2306.02467</td><td>Andrew Bunker</td><td>2.058</td></tr>\n",
       "<tr><td>j033226.60m274802.37</td><td>1</td><td>--</td><td>--</td><td>53.110847</td><td>-27.80066</td><td>10036834</td><td>--</td><td>2.616</td><td>2306.02467</td><td>Andrew Bunker</td><td>2.616</td></tr>\n",
       "<tr><td>j033226.97m274901.86</td><td>1</td><td>--</td><td>--</td><td>53.112387</td><td>-27.81718</td><td>3753</td><td>--</td><td>1.768</td><td>2306.02467</td><td>Andrew Bunker</td><td>1.768</td></tr>\n",
       "<tr><td>j033228.88m274628.79</td><td>1</td><td>--</td><td>--</td><td>53.120315</td><td>-27.77466</td><td>10012005</td><td>--</td><td>1.864</td><td>2306.02467</td><td>Andrew Bunker</td><td>1.864</td></tr>\n",
       "<tr><td>j033229.07m274628.90</td><td>1</td><td>--</td><td>--</td><td>53.12114</td><td>-27.77469</td><td>10011974</td><td>--</td><td>2.225</td><td>2306.02467</td><td>Andrew Bunker</td><td>2.225</td></tr>\n",
       "<tr><td>j033229.08m274630.45</td><td>1</td><td>--</td><td>--</td><td>53.121156</td><td>-27.77512</td><td>10011955</td><td>--</td><td>2.228</td><td>2306.02467</td><td>Andrew Bunker</td><td>2.228</td></tr>\n",
       "<tr><td>...</td><td>...</td><td>...</td><td>...</td><td>...</td><td>...</td><td>...</td><td>...</td><td>...</td><td>...</td><td>...</td><td>...</td></tr>\n",
       "<tr><td>j142018.10p525951.28</td><td>2</td><td>--</td><td>--</td><td>215.075407</td><td>52.99758</td><td>CEERS-P8M-01605</td><td>--</td><td>4.631</td><td>2301.06811</td><td>Yuki Isobe</td><td>4.631</td></tr>\n",
       "<tr><td>j142020.37p525814.66</td><td>2</td><td>--</td><td>--</td><td>215.08487</td><td>52.97074</td><td>11728</td><td>--</td><td>3.869</td><td>2303.08149</td><td>Ryan Sanders</td><td>3.869</td></tr>\n",
       "<tr><td>j142021.53p525758.26</td><td>4</td><td>--</td><td>--</td><td>215.089714</td><td>52.96618</td><td>CEERS_01149</td><td>--</td><td>8.179</td><td>2301.12825</td><td>Kimihiko Nakajima</td><td>8.179</td></tr>\n",
       "<tr><td>j142036.21p525922.42</td><td>2</td><td>--</td><td>--</td><td>215.150862</td><td>52.98956</td><td>CEERS-686</td><td>--</td><td>7.74</td><td>2301.07072</td><td>Mengtao Tang</td><td>7.74</td></tr>\n",
       "<tr><td>j142037.01p525721.05</td><td>2</td><td>--</td><td>--</td><td>215.154208</td><td>52.95585</td><td>CEERS-P8M-01173</td><td>--</td><td>4.996</td><td>2301.06811</td><td>Yuki Isobe</td><td>4.996</td></tr>\n",
       "<tr><td>j142045.22p530201.13</td><td>3</td><td>--</td><td>--</td><td>215.188413</td><td>53.03365</td><td>CEERS_01023</td><td>--</td><td>7.779</td><td>2301.12825</td><td>Kimihiko Nakajima</td><td>7.779</td></tr>\n",
       "<tr><td>j142045.30p530351.76</td><td>2</td><td>--</td><td>--</td><td>215.188738</td><td>53.06438</td><td>CEERS-P7M-01677</td><td>--</td><td>5.867</td><td>2301.06811</td><td>Yuki Isobe</td><td>5.867</td></tr>\n",
       "<tr><td>j142052.50p530411.50</td><td>3</td><td>--</td><td>--</td><td>215.218762</td><td>53.06986</td><td>CEERS-1029</td><td>--</td><td>8.61</td><td>2301.07072</td><td>Mengtao Tang</td><td>8.61</td></tr>\n",
       "<tr><td>j142052.50p530411.50</td><td>3</td><td>--</td><td>--</td><td>215.218762</td><td>53.06986</td><td>ceers-1345_1029</td><td>--</td><td>8.612</td><td>2212.0289</td><td>Kasper Elm Heintz</td><td>8.612</td></tr>\n",
       "<tr><td>j142058.99p530355.06</td><td>2</td><td>--</td><td>--</td><td>215.245801</td><td>53.0653</td><td>CEERS-P7M-01401</td><td>--</td><td>5.375</td><td>2301.06811</td><td>Yuki Isobe</td><td>5.375</td></tr>\n",
       "</table></div>"
      ],
      "text/plain": [
       "<Table length=61>\n",
       "       jname         count F200W F444W ...   arxiv          author       z_spec\n",
       "       str20         int64 int64 int64 ...  float64         str21       float64\n",
       "-------------------- ----- ----- ----- ... ---------- ----------------- -------\n",
       "j001418.52m302521.27     2    --    -- ... 2301.06811        Yuki Isobe   4.584\n",
       "j001419.27m302527.85     2    --    -- ... 2301.12825 Kimihiko Nakajima   4.015\n",
       "j001424.93m302256.05     4    --    -- ... 2301.06811        Yuki Isobe   7.874\n",
       "j033225.43m274830.50     1    --    -- ... 2306.02467     Andrew Bunker   2.016\n",
       "j033226.59m274749.42     1    --    -- ... 2306.02467     Andrew Bunker   2.058\n",
       "j033226.60m274802.37     1    --    -- ... 2306.02467     Andrew Bunker   2.616\n",
       "j033226.97m274901.86     1    --    -- ... 2306.02467     Andrew Bunker   1.768\n",
       "j033228.88m274628.79     1    --    -- ... 2306.02467     Andrew Bunker   1.864\n",
       "j033229.07m274628.90     1    --    -- ... 2306.02467     Andrew Bunker   2.225\n",
       "j033229.08m274630.45     1    --    -- ... 2306.02467     Andrew Bunker   2.228\n",
       "                 ...   ...   ...   ... ...        ...               ...     ...\n",
       "j142018.10p525951.28     2    --    -- ... 2301.06811        Yuki Isobe   4.631\n",
       "j142020.37p525814.66     2    --    -- ... 2303.08149      Ryan Sanders   3.869\n",
       "j142021.53p525758.26     4    --    -- ... 2301.12825 Kimihiko Nakajima   8.179\n",
       "j142036.21p525922.42     2    --    -- ... 2301.07072      Mengtao Tang    7.74\n",
       "j142037.01p525721.05     2    --    -- ... 2301.06811        Yuki Isobe   4.996\n",
       "j142045.22p530201.13     3    --    -- ... 2301.12825 Kimihiko Nakajima   7.779\n",
       "j142045.30p530351.76     2    --    -- ... 2301.06811        Yuki Isobe   5.867\n",
       "j142052.50p530411.50     3    --    -- ... 2301.07072      Mengtao Tang    8.61\n",
       "j142052.50p530411.50     3    --    -- ...  2212.0289 Kasper Elm Heintz   8.612\n",
       "j142058.99p530355.06     2    --    -- ... 2301.06811        Yuki Isobe   5.375"
      ]
     },
     "execution_count": 141,
     "metadata": {},
     "output_type": "execute_result"
    }
   ],
   "source": [
    "dawn_zreal"
   ]
  },
  {
   "cell_type": "code",
   "execution_count": 119,
   "id": "5ce45b0e",
   "metadata": {},
   "outputs": [],
   "source": [
    "ra1=dawn_zreal['ra']\n",
    "dec1=dawn_zreal['dec']\n",
    "ra2=candels['RA']\n",
    "dec2=candels['DEC']\n"
   ]
  },
  {
   "cell_type": "code",
   "execution_count": 120,
   "id": "e41f3d26",
   "metadata": {},
   "outputs": [],
   "source": [
    "dawn_cat = SkyCoord(ra=ra1*u.degree, dec=dec1*u.degree)#dawn\n",
    "candels_cat = SkyCoord(ra=ra2*u.degree, dec=dec2*u.degree)#candels\n"
   ]
  },
  {
   "cell_type": "code",
   "execution_count": 121,
   "id": "4c5d4e5b",
   "metadata": {},
   "outputs": [],
   "source": [
    "max_sep = 0.2 * u.arcsec\n",
    "idx, d2d, d3d = dawn_cat.match_to_catalog_sky(candels_cat)#catalog = candels information\n",
    "idx_dawn, d2d_dawn, d3d_dawn = candels_cat.match_to_catalog_sky(dawn_cat)"
   ]
  },
  {
   "cell_type": "code",
   "execution_count": 122,
   "id": "1ebfe782",
   "metadata": {},
   "outputs": [],
   "source": [
    "id_candel=[] #ids of candels catalog \n",
    "for i in range(len(ra1)):\n",
    "    if d2d[i]< max_sep:\n",
    "        id_candel.append(idx[i])\n",
    "id_dawn=[] #ids of jwst catalog \n",
    "for i in range(len(ra2)):\n",
    "    if d2d_dawn[i]< max_sep:\n",
    "        id_dawn.append(idx_dawn[i])\n"
   ]
  },
  {
   "cell_type": "code",
   "execution_count": 123,
   "id": "80fd8ef8",
   "metadata": {},
   "outputs": [],
   "source": [
    "id_candels_new=list(set(id_candel))\n",
    "id_dawn_new = list(set(id_dawn)) \n",
    "matched_candels = candels[id_candels_new]\n",
    "matched_dawn= dawn_zreal[id_dawn_new ]"
   ]
  },
  {
   "cell_type": "code",
   "execution_count": 137,
   "id": "53618013",
   "metadata": {},
   "outputs": [
    {
     "data": {
      "text/html": [
       "<div><i>Table length=25555</i>\n",
       "<table id=\"table139932386325936\" class=\"table-striped table-bordered table-condensed\">\n",
       "<thead><tr><th>ID</th><th>RA</th><th>DEC</th><th>CLASS_STAR</th><th>FLAGS</th><th>EBV</th><th>z_spec</th></tr></thead>\n",
       "<thead><tr><th></th><th></th><th></th><th>0 galaxy, 1 star</th><th>0 use, gt 1 no-use</th><th></th><th></th></tr></thead>\n",
       "<thead><tr><th>int64</th><th>float64</th><th>float64</th><th>float64</th><th>int64</th><th>float64</th><th>float64</th></tr></thead>\n",
       "<tr><td>4</td><td>150.0562464</td><td>2.174318</td><td>0.83</td><td>0</td><td>0.01908</td><td>2.1049</td></tr>\n",
       "<tr><td>26</td><td>150.0605723</td><td>2.1755824</td><td>0.03</td><td>0</td><td>0.01906</td><td>0.8088</td></tr>\n",
       "<tr><td>47</td><td>150.0887223</td><td>2.1772836</td><td>0.1</td><td>0</td><td>0.01883</td><td>2.4167</td></tr>\n",
       "<tr><td>53</td><td>150.0830862</td><td>2.1778659</td><td>0.0</td><td>0</td><td>0.01889</td><td>2.9802</td></tr>\n",
       "<tr><td>62</td><td>150.0571343</td><td>2.1774997</td><td>0.0</td><td>0</td><td>0.01912</td><td>1.049</td></tr>\n",
       "<tr><td>68</td><td>150.0702489</td><td>2.1781997</td><td>0.0</td><td>0</td><td>0.01902</td><td>0.937</td></tr>\n",
       "<tr><td>87</td><td>150.1042142</td><td>2.1789081</td><td>0.02</td><td>1</td><td>0.01844</td><td>1.976</td></tr>\n",
       "<tr><td>102</td><td>150.0547914</td><td>2.1782588</td><td>0.0</td><td>1</td><td>0.01915</td><td>0.5617</td></tr>\n",
       "<tr><td>105</td><td>150.0911919</td><td>2.178773</td><td>0.0</td><td>3</td><td>0.0188</td><td>0.9715</td></tr>\n",
       "<tr><td>...</td><td>...</td><td>...</td><td>...</td><td>...</td><td>...</td><td>...</td></tr>\n",
       "<tr><td>-9223372036854775808</td><td>215.245801</td><td>53.0653</td><td>--</td><td>-9223372036854775808</td><td>--</td><td>5.375</td></tr>\n",
       "<tr><td>-9223372036854775808</td><td>214.823453</td><td>52.83028</td><td>--</td><td>-9223372036854775808</td><td>--</td><td>5.242</td></tr>\n",
       "<tr><td>-9223372036854775808</td><td>214.943911</td><td>52.85004</td><td>--</td><td>-9223372036854775808</td><td>--</td><td>4.999</td></tr>\n",
       "<tr><td>-9223372036854775808</td><td>215.154208</td><td>52.95585</td><td>--</td><td>-9223372036854775808</td><td>--</td><td>4.997</td></tr>\n",
       "<tr><td>-9223372036854775808</td><td>214.980078</td><td>52.94266</td><td>--</td><td>-9223372036854775808</td><td>--</td><td>4.884</td></tr>\n",
       "<tr><td>-9223372036854775808</td><td>215.075407</td><td>52.99758</td><td>--</td><td>-9223372036854775808</td><td>--</td><td>4.631</td></tr>\n",
       "<tr><td>-9223372036854775808</td><td>214.985237</td><td>52.92426</td><td>--</td><td>-9223372036854775808</td><td>--</td><td>4.61</td></tr>\n",
       "<tr><td>-9223372036854775808</td><td>3.577166</td><td>-30.42258</td><td>--</td><td>-9223372036854775808</td><td>--</td><td>4.584</td></tr>\n",
       "<tr><td>-9223372036854775808</td><td>3.580275</td><td>-30.4244</td><td>--</td><td>-9223372036854775808</td><td>--</td><td>4.015</td></tr>\n",
       "<tr><td>-9223372036854775808</td><td>215.08487</td><td>52.97074</td><td>--</td><td>-9223372036854775808</td><td>--</td><td>3.887</td></tr>\n",
       "</table></div>"
      ],
      "text/plain": [
       "<Table length=25555>\n",
       "         ID               RA        DEC    ...   EBV    z_spec\n",
       "                                           ...                \n",
       "       int64           float64    float64  ... float64 float64\n",
       "-------------------- ----------- --------- ... ------- -------\n",
       "                   4 150.0562464  2.174318 ... 0.01908  2.1049\n",
       "                  26 150.0605723 2.1755824 ... 0.01906  0.8088\n",
       "                  47 150.0887223 2.1772836 ... 0.01883  2.4167\n",
       "                  53 150.0830862 2.1778659 ... 0.01889  2.9802\n",
       "                  62 150.0571343 2.1774997 ... 0.01912   1.049\n",
       "                  68 150.0702489 2.1781997 ... 0.01902   0.937\n",
       "                  87 150.1042142 2.1789081 ... 0.01844   1.976\n",
       "                 102 150.0547914 2.1782588 ... 0.01915  0.5617\n",
       "                 105 150.0911919  2.178773 ...  0.0188  0.9715\n",
       "                 ...         ...       ... ...     ...     ...\n",
       "-9223372036854775808  215.245801   53.0653 ...      --   5.375\n",
       "-9223372036854775808  214.823453  52.83028 ...      --   5.242\n",
       "-9223372036854775808  214.943911  52.85004 ...      --   4.999\n",
       "-9223372036854775808  215.154208  52.95585 ...      --   4.997\n",
       "-9223372036854775808  214.980078  52.94266 ...      --   4.884\n",
       "-9223372036854775808  215.075407  52.99758 ...      --   4.631\n",
       "-9223372036854775808  214.985237  52.92426 ...      --    4.61\n",
       "-9223372036854775808    3.577166 -30.42258 ...      --   4.584\n",
       "-9223372036854775808    3.580275  -30.4244 ...      --   4.015\n",
       "-9223372036854775808   215.08487  52.97074 ...      --   3.887"
      ]
     },
     "execution_count": 137,
     "metadata": {},
     "output_type": "execute_result"
    }
   ],
   "source": [
    "#candels.remove_rows(id_candel)\n",
    "dawn_zreal.remove_rows(id_dawn)\n",
    "candels"
   ]
  },
  {
   "cell_type": "code",
   "execution_count": 130,
   "id": "c2f2353f",
   "metadata": {},
   "outputs": [],
   "source": [
    "matched_candels['z_spec']=matched_dawn['zspec'] #update candels zspec to jwst zspec"
   ]
  },
  {
   "cell_type": "code",
   "execution_count": 146,
   "id": "d27b1fad",
   "metadata": {},
   "outputs": [
    {
     "ename": "KeyError",
     "evalue": "'Column dec does not exist'",
     "output_type": "error",
     "traceback": [
      "\u001b[0;31m---------------------------------------------------------------------------\u001b[0m",
      "\u001b[0;31mKeyError\u001b[0m                                  Traceback (most recent call last)",
      "\u001b[0;32m<ipython-input-146-103dcd4ffb01>\u001b[0m in \u001b[0;36m<module>\u001b[0;34m\u001b[0m\n\u001b[1;32m      1\u001b[0m \u001b[0;31m#dawn_zreal.rename_column('ra', 'RA')\u001b[0m\u001b[0;34m\u001b[0m\u001b[0;34m\u001b[0m\u001b[0;34m\u001b[0m\u001b[0m\n\u001b[0;32m----> 2\u001b[0;31m \u001b[0mdawn_zreal\u001b[0m\u001b[0;34m.\u001b[0m\u001b[0mrename_column\u001b[0m\u001b[0;34m(\u001b[0m\u001b[0;34m'dec'\u001b[0m\u001b[0;34m,\u001b[0m \u001b[0;34m'DEC'\u001b[0m\u001b[0;34m)\u001b[0m\u001b[0;34m\u001b[0m\u001b[0;34m\u001b[0m\u001b[0m\n\u001b[0m\u001b[1;32m      3\u001b[0m \u001b[0;31m#dawn_zreal.rename_column('zspec','z_spec')\u001b[0m\u001b[0;34m\u001b[0m\u001b[0;34m\u001b[0m\u001b[0;34m\u001b[0m\u001b[0m\n",
      "\u001b[0;32m~/.local/lib/python3.8/site-packages/astropy/table/table.py\u001b[0m in \u001b[0;36mrename_column\u001b[0;34m(self, name, new_name)\u001b[0m\n\u001b[1;32m   3059\u001b[0m \u001b[0;34m\u001b[0m\u001b[0m\n\u001b[1;32m   3060\u001b[0m         \u001b[0;32mif\u001b[0m \u001b[0mname\u001b[0m \u001b[0;32mnot\u001b[0m \u001b[0;32min\u001b[0m \u001b[0mself\u001b[0m\u001b[0;34m.\u001b[0m\u001b[0mkeys\u001b[0m\u001b[0;34m(\u001b[0m\u001b[0;34m)\u001b[0m\u001b[0;34m:\u001b[0m\u001b[0;34m\u001b[0m\u001b[0;34m\u001b[0m\u001b[0m\n\u001b[0;32m-> 3061\u001b[0;31m             \u001b[0;32mraise\u001b[0m \u001b[0mKeyError\u001b[0m\u001b[0;34m(\u001b[0m\u001b[0;34mf\"Column {name} does not exist\"\u001b[0m\u001b[0;34m)\u001b[0m\u001b[0;34m\u001b[0m\u001b[0;34m\u001b[0m\u001b[0m\n\u001b[0m\u001b[1;32m   3062\u001b[0m \u001b[0;34m\u001b[0m\u001b[0m\n\u001b[1;32m   3063\u001b[0m         \u001b[0mself\u001b[0m\u001b[0;34m.\u001b[0m\u001b[0mcolumns\u001b[0m\u001b[0;34m[\u001b[0m\u001b[0mname\u001b[0m\u001b[0;34m]\u001b[0m\u001b[0;34m.\u001b[0m\u001b[0minfo\u001b[0m\u001b[0;34m.\u001b[0m\u001b[0mname\u001b[0m \u001b[0;34m=\u001b[0m \u001b[0mnew_name\u001b[0m\u001b[0;34m\u001b[0m\u001b[0;34m\u001b[0m\u001b[0m\n",
      "\u001b[0;31mKeyError\u001b[0m: 'Column dec does not exist'"
     ]
    }
   ],
   "source": [
    "#dawn_zreal.rename_column('ra', 'RA')\n",
    "#dawn_zreal.rename_column('dec', 'DEC')\n",
    "#dawn_zreal.rename_column('zspec','z_spec')"
   ]
  },
  {
   "cell_type": "code",
   "execution_count": null,
   "id": "41916cc7",
   "metadata": {},
   "outputs": [],
   "source": []
  },
  {
   "cell_type": "code",
   "execution_count": 152,
   "id": "8441314b",
   "metadata": {},
   "outputs": [],
   "source": [
    "zspec_cat = vstack([candels,matched_candels, dawn_zreal])\n",
    "specz_conf = zspec_cat['RA','DEC','z_spec']\n",
    "specz_conf.write('MPhys/catalogues/full_specz_sources.fits',format='fits')"
   ]
  },
  {
   "cell_type": "code",
   "execution_count": 153,
   "id": "b4a2c297",
   "metadata": {},
   "outputs": [],
   "source": [
    "specz = Table.read('MPhys/catalogues/full_specz_sources.fits',format='fits')"
   ]
  },
  {
   "cell_type": "code",
   "execution_count": 154,
   "id": "3bc5114a",
   "metadata": {},
   "outputs": [],
   "source": [
    "ra3 = jwst['ra']\n",
    "dec3=jwst['dec']\n",
    "ra4=specz['RA']\n",
    "dec4=specz['DEC']\n",
    "\n",
    "jwst_cat = SkyCoord(ra=ra3*u.degree, dec=dec3*u.degree)#jwst\n",
    "specz_cat = SkyCoord(ra=ra4*u.degree, dec=dec4*u.degree)#jwst"
   ]
  },
  {
   "cell_type": "code",
   "execution_count": 155,
   "id": "5138ee6e",
   "metadata": {},
   "outputs": [],
   "source": [
    "idx_specz, d2d_specz, d3d_specz = jwst_cat.match_to_catalog_sky(specz_cat)#catalog = candels information\n",
    "idx_jwst, d2d_jwst, d3d_jwst = specz_cat.match_to_catalog_sky(jwst_cat)"
   ]
  },
  {
   "cell_type": "code",
   "execution_count": 157,
   "id": "8e27969f",
   "metadata": {},
   "outputs": [],
   "source": [
    "id_specz=[] #ids of candels catalog \n",
    "for i in range(len(ra3)):\n",
    "    if d2d_specz[i]< max_sep:\n",
    "        id_specz.append(idx_specz[i])\n",
    "id_jwst=[] #ids of jwst catalog \n",
    "for i in range(len(ra4)):\n",
    "    if d2d_jwst[i]< max_sep:\n",
    "        id_jwst.append(idx_jwst[i])\n"
   ]
  },
  {
   "cell_type": "code",
   "execution_count": 162,
   "id": "a3cf415f",
   "metadata": {},
   "outputs": [
    {
     "data": {
      "text/html": [
       "<div><i>Table length=13030</i>\n",
       "<table id=\"table139932358498384\" class=\"table-striped table-bordered table-condensed\">\n",
       "<thead><tr><th>RA</th><th>DEC</th><th>z_spec</th></tr></thead>\n",
       "<thead><tr><th>float64</th><th>float64</th><th>float64</th></tr></thead>\n",
       "<tr><td>3.5652</td><td>-30.39426</td><td>8.473</td></tr>\n",
       "<tr><td>3.570643</td><td>-30.41464</td><td>11.671</td></tr>\n",
       "<tr><td>3.577001</td><td>-30.41552</td><td>5.503</td></tr>\n",
       "<tr><td>3.577166</td><td>-30.42258</td><td>4.584</td></tr>\n",
       "<tr><td>3.580275</td><td>-30.4244</td><td>4.61</td></tr>\n",
       "<tr><td>3.582321</td><td>-30.38765</td><td>4.243</td></tr>\n",
       "<tr><td>3.596084</td><td>-30.38581</td><td>5.944</td></tr>\n",
       "<tr><td>3.599716</td><td>-30.43189</td><td>4.884</td></tr>\n",
       "<tr><td>3.60135</td><td>-30.37921</td><td>4.022</td></tr>\n",
       "<tr><td>3.601594</td><td>-30.3915</td><td>8.175</td></tr>\n",
       "<tr><td>...</td><td>...</td><td>...</td></tr>\n",
       "<tr><td>215.1507903879</td><td>52.9532782539</td><td>0.2012</td></tr>\n",
       "<tr><td>215.150862</td><td>52.98956</td><td>7.74</td></tr>\n",
       "<tr><td>215.15126586</td><td>52.9742351124</td><td>0.8079</td></tr>\n",
       "<tr><td>215.152032</td><td>52.97404</td><td>8.998</td></tr>\n",
       "<tr><td>215.1521218852</td><td>52.9630181186</td><td>0.6915</td></tr>\n",
       "<tr><td>215.154208</td><td>52.95585</td><td>5.28</td></tr>\n",
       "<tr><td>215.1591332381</td><td>52.9754279613</td><td>0.4478</td></tr>\n",
       "<tr><td>215.1656873966</td><td>52.9827034687</td><td>0.9894</td></tr>\n",
       "<tr><td>322.416266</td><td>0.09967</td><td>1.115</td></tr>\n",
       "<tr><td>322.421553</td><td>0.09169</td><td>7.877</td></tr>\n",
       "</table></div>"
      ],
      "text/plain": [
       "<Table length=13030>\n",
       "      RA            DEC       z_spec\n",
       "   float64        float64    float64\n",
       "-------------- ------------- -------\n",
       "        3.5652     -30.39426   8.473\n",
       "      3.570643     -30.41464  11.671\n",
       "      3.577001     -30.41552   5.503\n",
       "      3.577166     -30.42258   4.584\n",
       "      3.580275      -30.4244    4.61\n",
       "      3.582321     -30.38765   4.243\n",
       "      3.596084     -30.38581   5.944\n",
       "      3.599716     -30.43189   4.884\n",
       "       3.60135     -30.37921   4.022\n",
       "      3.601594      -30.3915   8.175\n",
       "           ...           ...     ...\n",
       "215.1507903879 52.9532782539  0.2012\n",
       "    215.150862      52.98956    7.74\n",
       "  215.15126586 52.9742351124  0.8079\n",
       "    215.152032      52.97404   8.998\n",
       "215.1521218852 52.9630181186  0.6915\n",
       "    215.154208      52.95585    5.28\n",
       "215.1591332381 52.9754279613  0.4478\n",
       "215.1656873966 52.9827034687  0.9894\n",
       "    322.416266       0.09967   1.115\n",
       "    322.421553       0.09169   7.877"
      ]
     },
     "execution_count": 162,
     "metadata": {},
     "output_type": "execute_result"
    }
   ],
   "source": [
    "idx_new = list(set(id_specz)) #list of non-repeating candels indexs\n",
    "idx_new_jwst = list(set(id_jwst)) \n",
    "matched_specz = specz[idx_new]\n",
    "matched_jwst = jwst[idx_new_jwst]\n",
    "matched_specz.sort('RA') #makes them in same order\n",
    "matched_jwst.sort('ra')\n"
   ]
  },
  {
   "cell_type": "code",
   "execution_count": 165,
   "id": "511705e6",
   "metadata": {},
   "outputs": [],
   "source": [
    "#matched_jwst.add_column(matched_specz['z_spec'], name='z_spec', index=-1)\n",
    "matched_jwst.write('MPhys/catalogues/jwst_skymatched_specz.fits',format='fits')"
   ]
  },
  {
   "cell_type": "code",
   "execution_count": 12,
   "id": "cadf3405",
   "metadata": {},
   "outputs": [],
   "source": []
  },
  {
   "cell_type": "code",
   "execution_count": 14,
   "id": "d2be70bb",
   "metadata": {},
   "outputs": [],
   "source": []
  },
  {
   "cell_type": "code",
   "execution_count": null,
   "id": "50d775d8",
   "metadata": {},
   "outputs": [],
   "source": []
  },
  {
   "cell_type": "markdown",
   "id": "1ad5d7ca",
   "metadata": {},
   "source": [
    "# Filter Choices for Training Catalogue\n"
   ]
  },
  {
   "cell_type": "code",
   "execution_count": 3,
   "id": "db2a7260",
   "metadata": {},
   "outputs": [
    {
     "data": {
      "text/html": [
       "<div><i>Table length=13030</i>\n",
       "<table id=\"table140713935764592\" class=\"table-striped table-bordered table-condensed\">\n",
       "<thead><tr><th>field</th><th>id</th><th>ra</th><th>dec</th><th>lupt_f1000w_aper0</th><th>lupterr_f1000w_aper0</th><th>lupt_f105w_aper0</th><th>lupterr_f105w_aper0</th><th>lupt_f115w-clear_aper0</th><th>lupterr_f115w-clear_aper0</th><th>lupt_f125w_aper0</th><th>lupterr_f125w_aper0</th><th>lupt_f1280w_aper0</th><th>lupterr_f1280w_aper0</th><th>lupt_f140w_aper0</th><th>lupterr_f140w_aper0</th><th>lupt_f1500w_aper0</th><th>lupterr_f1500w_aper0</th><th>lupt_f150w-clear_aper0</th><th>lupterr_f150w-clear_aper0</th><th>lupt_f160w_aper0</th><th>lupterr_f160w_aper0</th><th>lupt_f1800w_aper0</th><th>lupterr_f1800w_aper0</th><th>lupt_f182m-clear_aper0</th><th>lupterr_f182m-clear_aper0</th><th>lupt_f200w-clear_aper0</th><th>lupterr_f200w-clear_aper0</th><th>lupt_f2100w_aper0</th><th>lupterr_f2100w_aper0</th><th>lupt_f210m-clear_aper0</th><th>lupterr_f210m-clear_aper0</th><th>lupt_f275wu_aper0</th><th>lupterr_f275wu_aper0</th><th>lupt_f277w-clear_aper0</th><th>lupterr_f277w-clear_aper0</th><th>lupt_f356w-clear_aper0</th><th>lupterr_f356w-clear_aper0</th><th>lupt_f410m-clear_aper0</th><th>lupterr_f410m-clear_aper0</th><th>lupt_f435w_aper0</th><th>lupterr_f435w_aper0</th><th>lupt_f444w-clear_aper0</th><th>lupterr_f444w-clear_aper0</th><th>lupt_f560w_aper0</th><th>lupterr_f560w_aper0</th><th>lupt_f606w_aper0</th><th>lupterr_f606w_aper0</th><th>lupt_f606wu_aper0</th><th>lupterr_f606wu_aper0</th><th>lupt_f770w_aper0</th><th>lupterr_f770w_aper0</th><th>lupt_f814w_aper0</th><th>lupterr_f814w_aper0</th><th>lupt_f1000w_aper1</th><th>lupterr_f1000w_aper1</th><th>lupt_f105w_aper1</th><th>lupterr_f105w_aper1</th><th>lupt_f115w-clear_aper1</th><th>lupterr_f115w-clear_aper1</th><th>lupt_f125w_aper1</th><th>lupterr_f125w_aper1</th><th>lupt_f1280w_aper1</th><th>lupterr_f1280w_aper1</th><th>lupt_f140w_aper1</th><th>lupterr_f140w_aper1</th><th>lupt_f1500w_aper1</th><th>lupterr_f1500w_aper1</th><th>lupt_f150w-clear_aper1</th><th>lupterr_f150w-clear_aper1</th><th>lupt_f160w_aper1</th><th>lupterr_f160w_aper1</th><th>lupt_f1800w_aper1</th><th>lupterr_f1800w_aper1</th><th>lupt_f182m-clear_aper1</th><th>lupterr_f182m-clear_aper1</th><th>lupt_f200w-clear_aper1</th><th>lupterr_f200w-clear_aper1</th><th>lupt_f2100w_aper1</th><th>lupterr_f2100w_aper1</th><th>lupt_f210m-clear_aper1</th><th>lupterr_f210m-clear_aper1</th><th>lupt_f275wu_aper1</th><th>lupterr_f275wu_aper1</th><th>lupt_f277w-clear_aper1</th><th>lupterr_f277w-clear_aper1</th><th>lupt_f356w-clear_aper1</th><th>lupterr_f356w-clear_aper1</th><th>lupt_f410m-clear_aper1</th><th>lupterr_f410m-clear_aper1</th><th>lupt_f435w_aper1</th><th>lupterr_f435w_aper1</th><th>lupt_f444w-clear_aper1</th><th>lupterr_f444w-clear_aper1</th><th>lupt_f560w_aper1</th><th>lupterr_f560w_aper1</th><th>lupt_f606w_aper1</th><th>lupterr_f606w_aper1</th><th>lupt_f606wu_aper1</th><th>lupterr_f606wu_aper1</th><th>lupt_f770w_aper1</th><th>lupterr_f770w_aper1</th><th>lupt_f814w_aper1</th><th>lupterr_f814w_aper1</th><th>lupt_f1000w_aper2</th><th>lupterr_f1000w_aper2</th><th>lupt_f105w_aper2</th><th>lupterr_f105w_aper2</th><th>lupt_f115w-clear_aper2</th><th>lupterr_f115w-clear_aper2</th><th>lupt_f125w_aper2</th><th>lupterr_f125w_aper2</th><th>lupt_f1280w_aper2</th><th>lupterr_f1280w_aper2</th><th>lupt_f140w_aper2</th><th>lupterr_f140w_aper2</th><th>lupt_f1500w_aper2</th><th>lupterr_f1500w_aper2</th><th>lupt_f150w-clear_aper2</th><th>lupterr_f150w-clear_aper2</th><th>lupt_f160w_aper2</th><th>lupterr_f160w_aper2</th><th>lupt_f1800w_aper2</th><th>lupterr_f1800w_aper2</th><th>lupt_f182m-clear_aper2</th><th>lupterr_f182m-clear_aper2</th><th>lupt_f200w-clear_aper2</th><th>lupterr_f200w-clear_aper2</th><th>lupt_f2100w_aper2</th><th>lupterr_f2100w_aper2</th><th>lupt_f210m-clear_aper2</th><th>lupterr_f210m-clear_aper2</th><th>lupt_f275wu_aper2</th><th>lupterr_f275wu_aper2</th><th>lupt_f277w-clear_aper2</th><th>lupterr_f277w-clear_aper2</th><th>lupt_f356w-clear_aper2</th><th>lupterr_f356w-clear_aper2</th><th>lupt_f410m-clear_aper2</th><th>lupterr_f410m-clear_aper2</th><th>lupt_f435w_aper2</th><th>lupterr_f435w_aper2</th><th>lupt_f444w-clear_aper2</th><th>lupterr_f444w-clear_aper2</th><th>lupt_f560w_aper2</th><th>lupterr_f560w_aper2</th><th>lupt_f606w_aper2</th><th>lupterr_f606w_aper2</th><th>lupt_f606wu_aper2</th><th>lupterr_f606wu_aper2</th><th>lupt_f770w_aper2</th><th>lupterr_f770w_aper2</th><th>lupt_f814w_aper2</th><th>lupterr_f814w_aper2</th><th>lupt_f1000w_aper3</th><th>lupterr_f1000w_aper3</th><th>lupt_f105w_aper3</th><th>lupterr_f105w_aper3</th><th>lupt_f115w-clear_aper3</th><th>lupterr_f115w-clear_aper3</th><th>lupt_f125w_aper3</th><th>lupterr_f125w_aper3</th><th>lupt_f1280w_aper3</th><th>lupterr_f1280w_aper3</th><th>lupt_f140w_aper3</th><th>lupterr_f140w_aper3</th><th>lupt_f1500w_aper3</th><th>lupterr_f1500w_aper3</th><th>lupt_f150w-clear_aper3</th><th>lupterr_f150w-clear_aper3</th><th>lupt_f160w_aper3</th><th>lupterr_f160w_aper3</th><th>lupt_f1800w_aper3</th><th>lupterr_f1800w_aper3</th><th>lupt_f182m-clear_aper3</th><th>lupterr_f182m-clear_aper3</th><th>lupt_f200w-clear_aper3</th><th>lupterr_f200w-clear_aper3</th><th>lupt_f2100w_aper3</th><th>lupterr_f2100w_aper3</th><th>lupt_f210m-clear_aper3</th><th>lupterr_f210m-clear_aper3</th><th>lupt_f275wu_aper3</th><th>lupterr_f275wu_aper3</th><th>lupt_f277w-clear_aper3</th><th>lupterr_f277w-clear_aper3</th><th>lupt_f356w-clear_aper3</th><th>lupterr_f356w-clear_aper3</th><th>lupt_f410m-clear_aper3</th><th>lupterr_f410m-clear_aper3</th><th>lupt_f435w_aper3</th><th>lupterr_f435w_aper3</th><th>lupt_f444w-clear_aper3</th><th>lupterr_f444w-clear_aper3</th><th>lupt_f560w_aper3</th><th>lupterr_f560w_aper3</th><th>lupt_f606w_aper3</th><th>lupterr_f606w_aper3</th><th>lupt_f606wu_aper3</th><th>lupterr_f606wu_aper3</th><th>lupt_f770w_aper3</th><th>lupterr_f770w_aper3</th><th>lupt_f814w_aper3</th><th>lupterr_f814w_aper3</th><th>lupt_f090w-clear_aper0</th><th>lupterr_f090w-clear_aper0</th><th>lupt_f335m-clear_aper0</th><th>lupterr_f335m-clear_aper0</th><th>lupt_f350lpu_aper0</th><th>lupterr_f350lpu_aper0</th><th>lupt_f475w_aper0</th><th>lupterr_f475w_aper0</th><th>lupt_f775w_aper0</th><th>lupterr_f775w_aper0</th><th>lupt_f850lp_aper0</th><th>lupterr_f850lp_aper0</th><th>lupt_f090w-clear_aper1</th><th>lupterr_f090w-clear_aper1</th><th>lupt_f335m-clear_aper1</th><th>lupterr_f335m-clear_aper1</th><th>lupt_f350lpu_aper1</th><th>lupterr_f350lpu_aper1</th><th>lupt_f475w_aper1</th><th>lupterr_f475w_aper1</th><th>lupt_f775w_aper1</th><th>lupterr_f775w_aper1</th><th>lupt_f850lp_aper1</th><th>lupterr_f850lp_aper1</th><th>lupt_f090w-clear_aper2</th><th>lupterr_f090w-clear_aper2</th><th>lupt_f335m-clear_aper2</th><th>lupterr_f335m-clear_aper2</th><th>lupt_f350lpu_aper2</th><th>lupterr_f350lpu_aper2</th><th>lupt_f475w_aper2</th><th>lupterr_f475w_aper2</th><th>lupt_f775w_aper2</th><th>lupterr_f775w_aper2</th><th>lupt_f850lp_aper2</th><th>lupterr_f850lp_aper2</th><th>lupt_f090w-clear_aper3</th><th>lupterr_f090w-clear_aper3</th><th>lupt_f335m-clear_aper3</th><th>lupterr_f335m-clear_aper3</th><th>lupt_f350lpu_aper3</th><th>lupterr_f350lpu_aper3</th><th>lupt_f475w_aper3</th><th>lupterr_f475w_aper3</th><th>lupt_f775w_aper3</th><th>lupterr_f775w_aper3</th><th>lupt_f850lp_aper3</th><th>lupterr_f850lp_aper3</th><th>lupt_f110w_aper0</th><th>lupterr_f110w_aper0</th><th>lupt_f336wu_aper0</th><th>lupterr_f336wu_aper0</th><th>lupt_f850lpu_aper0</th><th>lupterr_f850lpu_aper0</th><th>lupt_f110w_aper1</th><th>lupterr_f110w_aper1</th><th>lupt_f336wu_aper1</th><th>lupterr_f336wu_aper1</th><th>lupt_f850lpu_aper1</th><th>lupterr_f850lpu_aper1</th><th>lupt_f110w_aper2</th><th>lupterr_f110w_aper2</th><th>lupt_f336wu_aper2</th><th>lupterr_f336wu_aper2</th><th>lupt_f850lpu_aper2</th><th>lupterr_f850lpu_aper2</th><th>lupt_f110w_aper3</th><th>lupterr_f110w_aper3</th><th>lupt_f336wu_aper3</th><th>lupterr_f336wu_aper3</th><th>lupt_f850lpu_aper3</th><th>lupterr_f850lpu_aper3</th><th>lupt_clearp-f356w_aper0</th><th>lupterr_clearp-f356w_aper0</th><th>lupt_clearp-f444w_aper0</th><th>lupterr_clearp-f444w_aper0</th><th>lupt_f115wn-clear_aper0</th><th>lupterr_f115wn-clear_aper0</th><th>lupt_f150wn-clear_aper0</th><th>lupterr_f150wn-clear_aper0</th><th>lupt_f200wn-clear_aper0</th><th>lupterr_f200wn-clear_aper0</th><th>lupt_f225wu_aper0</th><th>lupterr_f225wu_aper0</th><th>lupt_clearp-f356w_aper1</th><th>lupterr_clearp-f356w_aper1</th><th>lupt_clearp-f444w_aper1</th><th>lupterr_clearp-f444w_aper1</th><th>lupt_f115wn-clear_aper1</th><th>lupterr_f115wn-clear_aper1</th><th>lupt_f150wn-clear_aper1</th><th>lupterr_f150wn-clear_aper1</th><th>lupt_f200wn-clear_aper1</th><th>lupterr_f200wn-clear_aper1</th><th>lupt_f225wu_aper1</th><th>lupterr_f225wu_aper1</th><th>lupt_clearp-f356w_aper2</th><th>lupterr_clearp-f356w_aper2</th><th>lupt_clearp-f444w_aper2</th><th>lupterr_clearp-f444w_aper2</th><th>lupt_f115wn-clear_aper2</th><th>lupterr_f115wn-clear_aper2</th><th>lupt_f150wn-clear_aper2</th><th>lupterr_f150wn-clear_aper2</th><th>lupt_f200wn-clear_aper2</th><th>lupterr_f200wn-clear_aper2</th><th>lupt_f225wu_aper2</th><th>lupterr_f225wu_aper2</th><th>lupt_clearp-f356w_aper3</th><th>lupterr_clearp-f356w_aper3</th><th>lupt_clearp-f444w_aper3</th><th>lupterr_clearp-f444w_aper3</th><th>lupt_f115wn-clear_aper3</th><th>lupterr_f115wn-clear_aper3</th><th>lupt_f150wn-clear_aper3</th><th>lupterr_f150wn-clear_aper3</th><th>lupt_f200wn-clear_aper3</th><th>lupterr_f200wn-clear_aper3</th><th>lupt_f225wu_aper3</th><th>lupterr_f225wu_aper3</th><th>lupt_f250m-clear_aper0</th><th>lupterr_f250m-clear_aper0</th><th>lupt_f300m-clear_aper0</th><th>lupterr_f300m-clear_aper0</th><th>lupt_f625w_aper0</th><th>lupterr_f625w_aper0</th><th>lupt_f250m-clear_aper1</th><th>lupterr_f250m-clear_aper1</th><th>lupt_f300m-clear_aper1</th><th>lupterr_f300m-clear_aper1</th><th>lupt_f625w_aper1</th><th>lupterr_f625w_aper1</th><th>lupt_f250m-clear_aper2</th><th>lupterr_f250m-clear_aper2</th><th>lupt_f300m-clear_aper2</th><th>lupterr_f300m-clear_aper2</th><th>lupt_f625w_aper2</th><th>lupterr_f625w_aper2</th><th>lupt_f250m-clear_aper3</th><th>lupterr_f250m-clear_aper3</th><th>lupt_f300m-clear_aper3</th><th>lupterr_f300m-clear_aper3</th><th>lupt_f625w_aper3</th><th>lupterr_f625w_aper3</th><th>lupt_f390wu_aper0</th><th>lupterr_f390wu_aper0</th><th>lupt_f480m-clear_aper0</th><th>lupterr_f480m-clear_aper0</th><th>lupt_f555w_aper0</th><th>lupterr_f555w_aper0</th><th>lupt_f390wu_aper1</th><th>lupterr_f390wu_aper1</th><th>lupt_f480m-clear_aper1</th><th>lupterr_f480m-clear_aper1</th><th>lupt_f555w_aper1</th><th>lupterr_f555w_aper1</th><th>lupt_f390wu_aper2</th><th>lupterr_f390wu_aper2</th><th>lupt_f480m-clear_aper2</th><th>lupterr_f480m-clear_aper2</th><th>lupt_f555w_aper2</th><th>lupterr_f555w_aper2</th><th>lupt_f390wu_aper3</th><th>lupterr_f390wu_aper3</th><th>lupt_f480m-clear_aper3</th><th>lupterr_f480m-clear_aper3</th><th>lupt_f555w_aper3</th><th>lupterr_f555w_aper3</th><th>z_spec</th></tr></thead>\n",
       "<thead><tr><th>bytes13</th><th>int32</th><th>float64</th><th>float64</th><th>float64</th><th>float64</th><th>float64</th><th>float64</th><th>float64</th><th>float64</th><th>float64</th><th>float64</th><th>float64</th><th>float64</th><th>float64</th><th>float64</th><th>float64</th><th>float64</th><th>float64</th><th>float64</th><th>float64</th><th>float64</th><th>float64</th><th>float64</th><th>float64</th><th>float64</th><th>float64</th><th>float64</th><th>float64</th><th>float64</th><th>float64</th><th>float64</th><th>float64</th><th>float64</th><th>float64</th><th>float64</th><th>float64</th><th>float64</th><th>float64</th><th>float64</th><th>float64</th><th>float64</th><th>float64</th><th>float64</th><th>float64</th><th>float64</th><th>float64</th><th>float64</th><th>float64</th><th>float64</th><th>float64</th><th>float64</th><th>float64</th><th>float64</th><th>float64</th><th>float64</th><th>float64</th><th>float64</th><th>float64</th><th>float64</th><th>float64</th><th>float64</th><th>float64</th><th>float64</th><th>float64</th><th>float64</th><th>float64</th><th>float64</th><th>float64</th><th>float64</th><th>float64</th><th>float64</th><th>float64</th><th>float64</th><th>float64</th><th>float64</th><th>float64</th><th>float64</th><th>float64</th><th>float64</th><th>float64</th><th>float64</th><th>float64</th><th>float64</th><th>float64</th><th>float64</th><th>float64</th><th>float64</th><th>float64</th><th>float64</th><th>float64</th><th>float64</th><th>float64</th><th>float64</th><th>float64</th><th>float64</th><th>float64</th><th>float64</th><th>float64</th><th>float64</th><th>float64</th><th>float64</th><th>float64</th><th>float64</th><th>float64</th><th>float64</th><th>float64</th><th>float64</th><th>float64</th><th>float64</th><th>float64</th><th>float64</th><th>float64</th><th>float64</th><th>float64</th><th>float64</th><th>float64</th><th>float64</th><th>float64</th><th>float64</th><th>float64</th><th>float64</th><th>float64</th><th>float64</th><th>float64</th><th>float64</th><th>float64</th><th>float64</th><th>float64</th><th>float64</th><th>float64</th><th>float64</th><th>float64</th><th>float64</th><th>float64</th><th>float64</th><th>float64</th><th>float64</th><th>float64</th><th>float64</th><th>float64</th><th>float64</th><th>float64</th><th>float64</th><th>float64</th><th>float64</th><th>float64</th><th>float64</th><th>float64</th><th>float64</th><th>float64</th><th>float64</th><th>float64</th><th>float64</th><th>float64</th><th>float64</th><th>float64</th><th>float64</th><th>float64</th><th>float64</th><th>float64</th><th>float64</th><th>float64</th><th>float64</th><th>float64</th><th>float64</th><th>float64</th><th>float64</th><th>float64</th><th>float64</th><th>float64</th><th>float64</th><th>float64</th><th>float64</th><th>float64</th><th>float64</th><th>float64</th><th>float64</th><th>float64</th><th>float64</th><th>float64</th><th>float64</th><th>float64</th><th>float64</th><th>float64</th><th>float64</th><th>float64</th><th>float64</th><th>float64</th><th>float64</th><th>float64</th><th>float64</th><th>float64</th><th>float64</th><th>float64</th><th>float64</th><th>float64</th><th>float64</th><th>float64</th><th>float64</th><th>float64</th><th>float64</th><th>float64</th><th>float64</th><th>float64</th><th>float64</th><th>float64</th><th>float64</th><th>float64</th><th>float64</th><th>float64</th><th>float64</th><th>float64</th><th>float64</th><th>float64</th><th>float64</th><th>float64</th><th>float64</th><th>float64</th><th>float64</th><th>float64</th><th>float64</th><th>float64</th><th>float64</th><th>float64</th><th>float64</th><th>float64</th><th>float64</th><th>float64</th><th>float64</th><th>float64</th><th>float64</th><th>float64</th><th>float64</th><th>float64</th><th>float64</th><th>float64</th><th>float64</th><th>float64</th><th>float64</th><th>float64</th><th>float64</th><th>float64</th><th>float64</th><th>float64</th><th>float64</th><th>float64</th><th>float64</th><th>float64</th><th>float64</th><th>float64</th><th>float64</th><th>float64</th><th>float64</th><th>float64</th><th>float64</th><th>float64</th><th>float64</th><th>float64</th><th>float64</th><th>float64</th><th>float64</th><th>float64</th><th>float64</th><th>float64</th><th>float64</th><th>float64</th><th>float64</th><th>float64</th><th>float64</th><th>float64</th><th>float64</th><th>float64</th><th>float64</th><th>float64</th><th>float64</th><th>float64</th><th>float64</th><th>float64</th><th>float64</th><th>float64</th><th>float64</th><th>float64</th><th>float64</th><th>float64</th><th>float64</th><th>float64</th><th>float64</th><th>float64</th><th>float64</th><th>float64</th><th>float64</th><th>float64</th><th>float64</th><th>float64</th><th>float64</th><th>float64</th><th>float64</th><th>float64</th><th>float64</th><th>float64</th><th>float64</th><th>float64</th><th>float64</th><th>float64</th><th>float64</th><th>float64</th><th>float64</th><th>float64</th><th>float64</th><th>float64</th><th>float64</th><th>float64</th><th>float64</th><th>float64</th><th>float64</th><th>float64</th><th>float64</th><th>float64</th><th>float64</th><th>float64</th><th>float64</th><th>float64</th><th>float64</th><th>float64</th><th>float64</th><th>float64</th><th>float64</th><th>float64</th><th>float64</th><th>float64</th><th>float64</th><th>float64</th><th>float64</th><th>float64</th><th>float64</th><th>float64</th><th>float64</th><th>float64</th><th>float64</th><th>float64</th><th>float64</th><th>float64</th><th>float64</th><th>float64</th><th>float64</th><th>float64</th><th>float64</th><th>float64</th><th>float64</th><th>float64</th><th>float64</th><th>float64</th><th>float64</th><th>float64</th><th>float64</th><th>float64</th><th>float64</th><th>float64</th><th>float64</th><th>float64</th><th>float64</th><th>float64</th><th>float64</th><th>float64</th><th>float64</th><th>float64</th><th>float64</th><th>float64</th><th>float64</th><th>float64</th><th>float64</th><th>float64</th></tr></thead>\n",
       "<tr><td>abells2744clu</td><td>12302</td><td>3.565197354609437</td><td>-30.394263533201045</td><td>--</td><td>--</td><td>26.83452234804185</td><td>0.07766353145153085</td><td>26.385944671511172</td><td>0.018128693998787568</td><td>26.587193862767705</td><td>0.10044740514698361</td><td>--</td><td>--</td><td>--</td><td>--</td><td>--</td><td>--</td><td>26.305993617469383</td><td>0.01502655642878515</td><td>26.770373079955842</td><td>0.09505746887261739</td><td>--</td><td>--</td><td>--</td><td>--</td><td>26.312926516861886</td><td>0.015300327078627022</td><td>--</td><td>--</td><td>--</td><td>--</td><td>28.761312010166414</td><td>0.36162304114386984</td><td>25.952207319561275</td><td>0.009877197750167254</td><td>25.771569838027382</td><td>0.00833978488156153</td><td>25.986748166916207</td><td>0.014884257836930462</td><td>29.938584151823974</td><td>0.2979550019323756</td><td>25.878867496813076</td><td>0.011441474848875468</td><td>--</td><td>--</td><td>30.406244284300204</td><td>0.34669521128767067</td><td>--</td><td>--</td><td>--</td><td>--</td><td>27.590818456757866</td><td>0.03453407747099016</td><td>--</td><td>--</td><td>26.472585267331397</td><td>0.07676911304814005</td><td>26.16194597790983</td><td>0.019592463599442195</td><td>26.209088386227524</td><td>0.0964558789677864</td><td>--</td><td>--</td><td>--</td><td>--</td><td>--</td><td>--</td><td>26.074368819579956</td><td>0.01589746313331376</td><td>26.404287078109487</td><td>0.09463923529265804</td><td>--</td><td>--</td><td>--</td><td>--</td><td>26.087478866574386</td><td>0.016533056036876964</td><td>--</td><td>--</td><td>--</td><td>--</td><td>28.437972665431552</td><td>0.37218572486705437</td><td>25.70216990468765</td><td>0.010162935432057565</td><td>25.517356347813802</td><td>0.008397173682703629</td><td>25.703250944689007</td><td>0.015451453275986354</td><td>29.083654775767002</td><td>0.20148481905099938</td><td>25.610174189356723</td><td>0.011861772646863732</td><td>--</td><td>--</td><td>29.942950142185406</td><td>0.32630648711937876</td><td>--</td><td>--</td><td>--</td><td>--</td><td>27.33329961027085</td><td>0.036867219076861676</td><td>--</td><td>--</td><td>26.24626438623639</td><td>0.08685755504610855</td><td>26.017692062147578</td><td>0.02340758062869932</td><td>25.937852509688653</td><td>0.10481763018294032</td><td>--</td><td>--</td><td>--</td><td>--</td><td>--</td><td>--</td><td>25.943382242745678</td><td>0.019018428100379854</td><td>26.058576259846813</td><td>0.09547966589504157</td><td>--</td><td>--</td><td>--</td><td>--</td><td>25.952981849631563</td><td>0.01966690947700195</td><td>--</td><td>--</td><td>--</td><td>--</td><td>28.178152123617703</td><td>0.39925092453585465</td><td>25.53708550451291</td><td>0.011531706851924447</td><td>25.349317183040696</td><td>0.009320764353499624</td><td>25.494947910349552</td><td>0.017447921101743643</td><td>28.521033048126185</td><td>0.17043487818181524</td><td>25.39698672862987</td><td>0.013193474473766039</td><td>--</td><td>--</td><td>29.314143078494414</td><td>0.2914383842450838</td><td>--</td><td>--</td><td>--</td><td>--</td><td>27.114194062598685</td><td>0.041323086512845955</td><td>--</td><td>--</td><td>26.066883001153524</td><td>0.10490117297422873</td><td>25.925238866510913</td><td>0.03048078477467556</td><td>25.748829827198982</td><td>0.12509611809642507</td><td>--</td><td>--</td><td>--</td><td>--</td><td>--</td><td>--</td><td>25.808528006337497</td><td>0.023666654282466695</td><td>25.940255337251184</td><td>0.12184156260223489</td><td>--</td><td>--</td><td>--</td><td>--</td><td>25.82816740501753</td><td>0.024467863600751177</td><td>--</td><td>--</td><td>--</td><td>--</td><td>26.9115469980632</td><td>0.20890897033582553</td><td>25.37654664737749</td><td>0.013633453233231901</td><td>25.194324490890505</td><td>0.010894228825730032</td><td>25.35871692205306</td><td>0.021590825743793986</td><td>28.346705399933125</td><td>0.2039922308846371</td><td>25.227626520125384</td><td>0.01569241793177351</td><td>--</td><td>--</td><td>28.67834006744981</td><td>0.25580309373638926</td><td>--</td><td>--</td><td>--</td><td>--</td><td>26.941536626965135</td><td>0.049677757556183796</td><td>--</td><td>--</td><td>--</td><td>--</td><td>--</td><td>--</td><td>--</td><td>--</td><td>--</td><td>--</td><td>--</td><td>--</td><td>--</td><td>--</td><td>--</td><td>--</td><td>--</td><td>--</td><td>--</td><td>--</td><td>--</td><td>--</td><td>--</td><td>--</td><td>--</td><td>--</td><td>--</td><td>--</td><td>--</td><td>--</td><td>--</td><td>--</td><td>--</td><td>--</td><td>--</td><td>--</td><td>--</td><td>--</td><td>--</td><td>--</td><td>--</td><td>--</td><td>--</td><td>--</td><td>--</td><td>--</td><td>--</td><td>--</td><td>--</td><td>--</td><td>29.607602384522384</td><td>0.4247009446780363</td><td>--</td><td>--</td><td>--</td><td>--</td><td>29.165200551021556</td><td>0.40846749255016185</td><td>--</td><td>--</td><td>--</td><td>--</td><td>28.46903323262362</td><td>0.33081276935218196</td><td>--</td><td>--</td><td>--</td><td>--</td><td>28.26580039995086</td><td>0.375986843397114</td><td>--</td><td>--</td><td>--</td><td>--</td><td>--</td><td>--</td><td>--</td><td>--</td><td>--</td><td>--</td><td>--</td><td>--</td><td>29.896278897447164</td><td>0.5095117915402783</td><td>--</td><td>--</td><td>--</td><td>--</td><td>--</td><td>--</td><td>--</td><td>--</td><td>--</td><td>--</td><td>29.75928526216494</td><td>0.4870280458747074</td><td>--</td><td>--</td><td>--</td><td>--</td><td>--</td><td>--</td><td>--</td><td>--</td><td>--</td><td>--</td><td>29.469636933517826</td><td>0.4777237464447175</td><td>--</td><td>--</td><td>--</td><td>--</td><td>--</td><td>--</td><td>--</td><td>--</td><td>--</td><td>--</td><td>28.713883924469787</td><td>0.5249165380978726</td><td>--</td><td>--</td><td>--</td><td>--</td><td>--</td><td>--</td><td>--</td><td>--</td><td>--</td><td>--</td><td>--</td><td>--</td><td>--</td><td>--</td><td>--</td><td>--</td><td>--</td><td>--</td><td>--</td><td>--</td><td>--</td><td>--</td><td>--</td><td>--</td><td>--</td><td>--</td><td>--</td><td>--</td><td>--</td><td>--</td><td>--</td><td>--</td><td>--</td><td>--</td><td>--</td><td>--</td><td>--</td><td>--</td><td>--</td><td>--</td><td>--</td><td>--</td><td>--</td><td>--</td><td>--</td><td>--</td><td>--</td><td>--</td><td>8.473</td></tr>\n",
       "<tr><td>abells2744clu</td><td>5747</td><td>3.570633264263966</td><td>-30.414636178977904</td><td>--</td><td>--</td><td>27.14600955655609</td><td>0.03740508478991987</td><td>26.88013451074773</td><td>0.022737152114276654</td><td>27.06752536660818</td><td>0.047044935879704014</td><td>--</td><td>--</td><td>27.157744984657125</td><td>0.052752742397086244</td><td>--</td><td>--</td><td>26.764037666730182</td><td>0.018087397914236414</td><td>27.13451861141167</td><td>0.046146343530756084</td><td>--</td><td>--</td><td>--</td><td>--</td><td>26.78780814483598</td><td>0.018094846142642382</td><td>--</td><td>--</td><td>--</td><td>--</td><td>30.098371141793923</td><td>0.49079574303540335</td><td>26.535906763190926</td><td>0.013250871011680326</td><td>26.32286677852706</td><td>0.010947270295365867</td><td>26.689767962367693</td><td>0.02071112478660946</td><td>31.984131667717104</td><td>0.3841671031811805</td><td>26.524410110580472</td><td>0.01549959075990648</td><td>--</td><td>--</td><td>30.9776809244431</td><td>0.39364642174158876</td><td>--</td><td>--</td><td>--</td><td>--</td><td>28.296909282660973</td><td>0.06597154996951254</td><td>--</td><td>--</td><td>26.848559048649623</td><td>0.0388835295897514</td><td>26.712502490965832</td><td>0.026049937208744024</td><td>26.75361554180055</td><td>0.04847167225722632</td><td>--</td><td>--</td><td>26.862710676453677</td><td>0.05562314013970925</td><td>--</td><td>--</td><td>26.568263132047395</td><td>0.01993548779680068</td><td>26.798439631594803</td><td>0.04654769143961386</td><td>--</td><td>--</td><td>--</td><td>--</td><td>26.598132352625665</td><td>0.020032956648043044</td><td>--</td><td>--</td><td>--</td><td>--</td><td>29.969064384353423</td><td>0.44383497060774446</td><td>26.243738951113347</td><td>0.013142010108587988</td><td>26.02128072200748</td><td>0.010687683799440994</td><td>26.35778778164204</td><td>0.020832106830599596</td><td>32.04286279162359</td><td>0.28763598470190865</td><td>26.20187686253175</td><td>0.015423942702449808</td><td>--</td><td>--</td><td>30.217993311216393</td><td>0.38458796494190817</td><td>--</td><td>--</td><td>--</td><td>--</td><td>28.168816696226994</td><td>0.07992593562731737</td><td>--</td><td>--</td><td>26.684105172482877</td><td>0.046225337985608746</td><td>26.62838834359245</td><td>0.03281209242389813</td><td>26.537912268582065</td><td>0.055394831686541086</td><td>--</td><td>--</td><td>26.65156640042228</td><td>0.06350399124877894</td><td>--</td><td>--</td><td>26.428754084377925</td><td>0.023594559726976126</td><td>26.517499618701102</td><td>0.04989391505876973</td><td>--</td><td>--</td><td>--</td><td>--</td><td>26.483025044735555</td><td>0.024207556046476664</td><td>--</td><td>--</td><td>--</td><td>--</td><td>30.174918039576323</td><td>0.3074172542510422</td><td>26.023754079172488</td><td>0.014013790963018953</td><td>25.80436592178158</td><td>0.011302300575145375</td><td>26.125297795898213</td><td>0.02295327813963831</td><td>31.92143303702007</td><td>0.2397745140056067</td><td>25.933693487676152</td><td>0.016193375498268266</td><td>--</td><td>--</td><td>29.8225256736677</td><td>0.378301425172577</td><td>--</td><td>--</td><td>--</td><td>--</td><td>28.115630889853897</td><td>0.10500979094656669</td><td>--</td><td>--</td><td>26.52675711159056</td><td>0.056778266673777805</td><td>26.5386238395823</td><td>0.042431441327835356</td><td>26.398310627797283</td><td>0.06890819862528459</td><td>--</td><td>--</td><td>26.41012790865419</td><td>0.07253298273909926</td><td>--</td><td>--</td><td>26.361335330845005</td><td>0.030788553966132243</td><td>26.287936431846823</td><td>0.05739880718496562</td><td>--</td><td>--</td><td>--</td><td>--</td><td>26.396929652950536</td><td>0.031128108474775016</td><td>--</td><td>--</td><td>--</td><td>--</td><td>29.307953762823193</td><td>0.42419661347186305</td><td>25.865362360669096</td><td>0.016298730590183264</td><td>25.66256678340949</td><td>0.013075995057240844</td><td>25.962918526774747</td><td>0.02743042964605752</td><td>31.71034268074483</td><td>0.20859843039634343</td><td>25.764043470327536</td><td>0.0189747683371681</td><td>--</td><td>--</td><td>29.54848673896429</td><td>0.3907016400843271</td><td>--</td><td>--</td><td>--</td><td>--</td><td>28.13330542714471</td><td>0.14997073500647465</td><td>--</td><td>--</td><td>--</td><td>--</td><td>--</td><td>--</td><td>--</td><td>--</td><td>--</td><td>--</td><td>--</td><td>--</td><td>--</td><td>--</td><td>--</td><td>--</td><td>--</td><td>--</td><td>--</td><td>--</td><td>--</td><td>--</td><td>--</td><td>--</td><td>--</td><td>--</td><td>--</td><td>--</td><td>--</td><td>--</td><td>--</td><td>--</td><td>--</td><td>--</td><td>--</td><td>--</td><td>--</td><td>--</td><td>--</td><td>--</td><td>--</td><td>--</td><td>--</td><td>--</td><td>--</td><td>--</td><td>--</td><td>--</td><td>--</td><td>--</td><td>29.293402481990842</td><td>0.3699512265786991</td><td>--</td><td>--</td><td>--</td><td>--</td><td>29.748228890085237</td><td>0.5171796834198545</td><td>--</td><td>--</td><td>--</td><td>--</td><td>29.645015985058155</td><td>0.514646916364044</td><td>--</td><td>--</td><td>--</td><td>--</td><td>29.284455571458963</td><td>0.5120173899511178</td><td>--</td><td>--</td><td>--</td><td>--</td><td>--</td><td>--</td><td>--</td><td>--</td><td>--</td><td>--</td><td>--</td><td>--</td><td>28.39857107075304</td><td>0.31901097892256935</td><td>--</td><td>--</td><td>--</td><td>--</td><td>--</td><td>--</td><td>--</td><td>--</td><td>--</td><td>--</td><td>27.96623145785235</td><td>0.29983432835425566</td><td>--</td><td>--</td><td>--</td><td>--</td><td>--</td><td>--</td><td>--</td><td>--</td><td>--</td><td>--</td><td>28.29901367316453</td><td>0.46522505208681647</td><td>--</td><td>--</td><td>--</td><td>--</td><td>--</td><td>--</td><td>--</td><td>--</td><td>--</td><td>--</td><td>27.500263117673374</td><td>0.357640252812574</td><td>--</td><td>--</td><td>--</td><td>--</td><td>--</td><td>--</td><td>--</td><td>--</td><td>--</td><td>--</td><td>--</td><td>--</td><td>--</td><td>--</td><td>--</td><td>--</td><td>--</td><td>--</td><td>--</td><td>--</td><td>--</td><td>--</td><td>--</td><td>--</td><td>--</td><td>--</td><td>--</td><td>--</td><td>--</td><td>--</td><td>--</td><td>--</td><td>--</td><td>--</td><td>--</td><td>--</td><td>--</td><td>--</td><td>--</td><td>--</td><td>--</td><td>--</td><td>--</td><td>--</td><td>--</td><td>--</td><td>--</td><td>--</td><td>11.671</td></tr>\n",
       "<tr><td>abells2744clu</td><td>5524</td><td>3.5769964722690366</td><td>-30.415529356392863</td><td>--</td><td>--</td><td>28.08611919109828</td><td>0.08388127686104994</td><td>27.81627670786593</td><td>0.04774620414472883</td><td>27.88478564748656</td><td>0.09376925421364078</td><td>--</td><td>--</td><td>28.05032536681818</td><td>0.11949576834793868</td><td>--</td><td>--</td><td>27.71715142325457</td><td>0.03760651739761042</td><td>28.309592392892323</td><td>0.12700729009397438</td><td>--</td><td>--</td><td>--</td><td>--</td><td>27.848788674033322</td><td>0.04072100984042129</td><td>--</td><td>--</td><td>--</td><td>--</td><td>29.356668490113172</td><td>0.4832934291747729</td><td>26.97205156165605</td><td>0.017702115338783308</td><td>27.409717688028966</td><td>0.0239186811590148</td><td>27.109897320186526</td><td>0.02869659153341679</td><td>30.08253895708628</td><td>0.36048855203967195</td><td>27.274343937593084</td><td>0.027715248634464788</td><td>--</td><td>--</td><td>30.40877221715399</td><td>0.3850262234329418</td><td>--</td><td>--</td><td>--</td><td>--</td><td>28.446908312827627</td><td>0.07536442810214349</td><td>--</td><td>--</td><td>27.49264018966483</td><td>0.06755853786893605</td><td>27.335212863258526</td><td>0.04227717564173052</td><td>27.39742123114084</td><td>0.08190856968581689</td><td>--</td><td>--</td><td>27.528907303060898</td><td>0.10271474810897746</td><td>--</td><td>--</td><td>27.23508258076776</td><td>0.033069589711217366</td><td>27.784689820106202</td><td>0.10844152476408182</td><td>--</td><td>--</td><td>--</td><td>--</td><td>27.355843147908764</td><td>0.03560965654963773</td><td>--</td><td>--</td><td>--</td><td>--</td><td>28.761661930202337</td><td>0.44402106770530136</td><td>26.47116005847882</td><td>0.01510681271459016</td><td>26.881237769347127</td><td>0.020068416472688436</td><td>26.5898773034237</td><td>0.024657382393121575</td><td>30.203166902113598</td><td>0.4706379248373553</td><td>26.78039876595607</td><td>0.02417583300233613</td><td>--</td><td>--</td><td>29.799700253031794</td><td>0.3427843927676669</td><td>--</td><td>--</td><td>--</td><td>--</td><td>27.81248615475336</td><td>0.05851283231299039</td><td>--</td><td>--</td><td>27.010222842582273</td><td>0.06035888636702905</td><td>26.920968763872896</td><td>0.039931929356322525</td><td>26.987283889926534</td><td>0.07920309694903004</td><td>--</td><td>--</td><td>27.22556660449602</td><td>0.10863006888974068</td><td>--</td><td>--</td><td>26.894335791783437</td><td>0.033227358499665446</td><td>27.277400325213698</td><td>0.09536735251065746</td><td>--</td><td>--</td><td>--</td><td>--</td><td>27.069375051855804</td><td>0.03760604671450296</td><td>--</td><td>--</td><td>--</td><td>--</td><td>28.319422686107686</td><td>0.4276678255318794</td><td>26.13025540332715</td><td>0.014876284245184994</td><td>26.506075202214895</td><td>0.019426145986209935</td><td>26.271060818362507</td><td>0.025605377526650548</td><td>29.571889173850263</td><td>0.41095265329683267</td><td>26.44691390793405</td><td>0.02448861295398198</td><td>--</td><td>--</td><td>29.164577199192053</td><td>0.29755287714514345</td><td>--</td><td>--</td><td>--</td><td>--</td><td>27.301158520223584</td><td>0.05095647904656647</td><td>--</td><td>--</td><td>26.69339385047889</td><td>0.0642751191423059</td><td>26.552839165931704</td><td>0.04019682607621215</td><td>26.593564299114764</td><td>0.07904281577320865</td><td>--</td><td>--</td><td>26.87944878281237</td><td>0.11285940505463501</td><td>--</td><td>--</td><td>26.6699478139527</td><td>0.037986634221255956</td><td>26.890480496791483</td><td>0.09533263697839613</td><td>--</td><td>--</td><td>--</td><td>--</td><td>26.87566560195335</td><td>0.0442501449189557</td><td>--</td><td>--</td><td>--</td><td>--</td><td>28.14491591291902</td><td>0.48275724570479694</td><td>25.852720121134663</td><td>0.01591428357909998</td><td>26.196018922814016</td><td>0.02034716055458099</td><td>25.94980891757156</td><td>0.027034170328663377</td><td>29.215913199605765</td><td>0.4188051006468283</td><td>26.15358684989475</td><td>0.026285821334382613</td><td>--</td><td>--</td><td>28.979207356197968</td><td>0.33516885807151015</td><td>--</td><td>--</td><td>--</td><td>--</td><td>26.902583081411002</td><td>0.050006127664074716</td><td>--</td><td>--</td><td>--</td><td>--</td><td>--</td><td>--</td><td>--</td><td>--</td><td>--</td><td>--</td><td>--</td><td>--</td><td>--</td><td>--</td><td>--</td><td>--</td><td>--</td><td>--</td><td>--</td><td>--</td><td>--</td><td>--</td><td>--</td><td>--</td><td>--</td><td>--</td><td>--</td><td>--</td><td>--</td><td>--</td><td>--</td><td>--</td><td>--</td><td>--</td><td>--</td><td>--</td><td>--</td><td>--</td><td>--</td><td>--</td><td>--</td><td>--</td><td>--</td><td>--</td><td>--</td><td>--</td><td>--</td><td>--</td><td>--</td><td>--</td><td>29.537691906473704</td><td>0.4126639670433235</td><td>--</td><td>--</td><td>--</td><td>--</td><td>28.765509684004826</td><td>0.3186363342367743</td><td>--</td><td>--</td><td>--</td><td>--</td><td>28.11066510587678</td><td>0.25764046726921497</td><td>--</td><td>--</td><td>--</td><td>--</td><td>27.666329540769972</td><td>0.2457619972168958</td><td>--</td><td>--</td><td>--</td><td>--</td><td>--</td><td>--</td><td>--</td><td>--</td><td>--</td><td>--</td><td>--</td><td>--</td><td>30.80772908270219</td><td>0.3248279582245934</td><td>--</td><td>--</td><td>--</td><td>--</td><td>--</td><td>--</td><td>--</td><td>--</td><td>--</td><td>--</td><td>30.688288155065322</td><td>0.26729716616345556</td><td>--</td><td>--</td><td>--</td><td>--</td><td>--</td><td>--</td><td>--</td><td>--</td><td>--</td><td>--</td><td>30.33120218857094</td><td>0.26825790283448003</td><td>--</td><td>--</td><td>--</td><td>--</td><td>--</td><td>--</td><td>--</td><td>--</td><td>--</td><td>--</td><td>29.732446252088753</td><td>0.3164482100651395</td><td>--</td><td>--</td><td>--</td><td>--</td><td>--</td><td>--</td><td>--</td><td>--</td><td>--</td><td>--</td><td>--</td><td>--</td><td>--</td><td>--</td><td>--</td><td>--</td><td>--</td><td>--</td><td>--</td><td>--</td><td>--</td><td>--</td><td>--</td><td>--</td><td>--</td><td>--</td><td>--</td><td>--</td><td>--</td><td>--</td><td>--</td><td>--</td><td>--</td><td>--</td><td>--</td><td>--</td><td>--</td><td>--</td><td>--</td><td>--</td><td>--</td><td>--</td><td>--</td><td>--</td><td>--</td><td>--</td><td>--</td><td>--</td><td>5.503</td></tr>\n",
       "<tr><td>abells2744clu</td><td>3960</td><td>3.577146485385779</td><td>-30.422546074196482</td><td>--</td><td>--</td><td>27.28613619962006</td><td>0.25734583248947723</td><td>26.845784912053624</td><td>0.021566969842229486</td><td>27.35027810539687</td><td>0.25699405015676274</td><td>--</td><td>--</td><td>--</td><td>--</td><td>--</td><td>--</td><td>26.886317058570903</td><td>0.019515573618778388</td><td>27.164892355594574</td><td>0.29706012964008777</td><td>--</td><td>--</td><td>--</td><td>--</td><td>26.7082095320847</td><td>0.01654472773350315</td><td>--</td><td>--</td><td>--</td><td>--</td><td>--</td><td>--</td><td>26.06715825135518</td><td>0.009282728544390998</td><td>26.25015313607422</td><td>0.010104985559907097</td><td>26.645644622613265</td><td>0.019813730593361584</td><td>30.520950022792057</td><td>0.46106238215188944</td><td>26.535793266068133</td><td>0.015471339411920242</td><td>--</td><td>--</td><td>28.94338989016238</td><td>0.15424641143188547</td><td>--</td><td>--</td><td>--</td><td>--</td><td>26.995359030012366</td><td>0.02199793603050205</td><td>--</td><td>--</td><td>27.05533336439632</td><td>0.2903606484187862</td><td>26.747794276373764</td><td>0.026114336785139913</td><td>27.220653979659083</td><td>0.31102485628788173</td><td>--</td><td>--</td><td>--</td><td>--</td><td>--</td><td>--</td><td>26.768966267975458</td><td>0.02295135866938</td><td>26.793806075194254</td><td>0.3010819364698669</td><td>--</td><td>--</td><td>--</td><td>--</td><td>26.590892024782605</td><td>0.01935071676051102</td><td>--</td><td>--</td><td>--</td><td>--</td><td>--</td><td>--</td><td>25.894499421007893</td><td>0.009820560721014983</td><td>26.054930654294015</td><td>0.010555599791693675</td><td>26.45665068906766</td><td>0.0222293794966642</td><td>31.140268883797148</td><td>0.49705142314128364</td><td>26.35340219427657</td><td>0.017129164767282733</td><td>--</td><td>--</td><td>28.89751022467931</td><td>0.19707203164215</td><td>--</td><td>--</td><td>--</td><td>--</td><td>26.79624080741078</td><td>0.024374538936913177</td><td>--</td><td>--</td><td>27.22682612520635</td><td>0.4805796857273167</td><td>26.703268200416716</td><td>0.033941820674715344</td><td>27.055140509921465</td><td>0.37852022626549703</td><td>--</td><td>--</td><td>--</td><td>--</td><td>--</td><td>--</td><td>26.706916840058806</td><td>0.029142334871753443</td><td>26.362627091026617</td><td>0.28754449341203414</td><td>--</td><td>--</td><td>--</td><td>--</td><td>26.537673575528018</td><td>0.024600848720244255</td><td>--</td><td>--</td><td>--</td><td>--</td><td>--</td><td>--</td><td>25.815959381755356</td><td>0.011613844643411678</td><td>25.956186693226467</td><td>0.012314479912562253</td><td>26.37505173128415</td><td>0.02812359575498789</td><td>30.538830639768037</td><td>0.5263370243151169</td><td>26.23182257600829</td><td>0.020507930557001758</td><td>--</td><td>--</td><td>29.4081483633574</td><td>0.34570510755776696</td><td>--</td><td>--</td><td>--</td><td>--</td><td>26.7742221723789</td><td>0.03219936296946904</td><td>--</td><td>--</td><td>27.1182531176822</td><td>0.6169802129847095</td><td>26.67718767783128</td><td>0.046352067022725055</td><td>26.92584642160707</td><td>0.4707151625513536</td><td>--</td><td>--</td><td>--</td><td>--</td><td>--</td><td>--</td><td>26.69129216043695</td><td>0.03996140649674985</td><td>26.103236839798377</td><td>0.3268765568458357</td><td>--</td><td>--</td><td>--</td><td>--</td><td>26.51847566812976</td><td>0.033556324967201796</td><td>--</td><td>--</td><td>--</td><td>--</td><td>--</td><td>--</td><td>25.776861500104324</td><td>0.0150576355434506</td><td>25.911068021164247</td><td>0.015850354123315178</td><td>26.360316351496376</td><td>0.039216757230028446</td><td>30.330499827805873</td><td>0.50875051723174</td><td>26.181217830782984</td><td>0.02722243968371673</td><td>--</td><td>--</td><td>29.477552824824734</td><td>0.3967288734477648</td><td>--</td><td>--</td><td>--</td><td>--</td><td>26.74237632505937</td><td>0.04360270648701961</td><td>--</td><td>--</td><td>--</td><td>--</td><td>--</td><td>--</td><td>--</td><td>--</td><td>--</td><td>--</td><td>--</td><td>--</td><td>--</td><td>--</td><td>--</td><td>--</td><td>--</td><td>--</td><td>--</td><td>--</td><td>--</td><td>--</td><td>--</td><td>--</td><td>--</td><td>--</td><td>--</td><td>--</td><td>--</td><td>--</td><td>--</td><td>--</td><td>--</td><td>--</td><td>--</td><td>--</td><td>--</td><td>--</td><td>--</td><td>--</td><td>--</td><td>--</td><td>--</td><td>--</td><td>--</td><td>--</td><td>--</td><td>--</td><td>--</td><td>--</td><td>--</td><td>--</td><td>--</td><td>--</td><td>--</td><td>--</td><td>--</td><td>--</td><td>--</td><td>--</td><td>--</td><td>--</td><td>--</td><td>--</td><td>--</td><td>--</td><td>--</td><td>--</td><td>--</td><td>--</td><td>--</td><td>--</td><td>--</td><td>--</td><td>--</td><td>--</td><td>--</td><td>--</td><td>--</td><td>--</td><td>--</td><td>--</td><td>--</td><td>--</td><td>--</td><td>--</td><td>--</td><td>--</td><td>--</td><td>--</td><td>--</td><td>--</td><td>--</td><td>--</td><td>--</td><td>--</td><td>--</td><td>--</td><td>--</td><td>--</td><td>--</td><td>--</td><td>--</td><td>--</td><td>--</td><td>--</td><td>--</td><td>--</td><td>--</td><td>--</td><td>--</td><td>--</td><td>--</td><td>--</td><td>--</td><td>--</td><td>--</td><td>--</td><td>--</td><td>--</td><td>--</td><td>--</td><td>--</td><td>--</td><td>--</td><td>--</td><td>--</td><td>--</td><td>--</td><td>--</td><td>--</td><td>--</td><td>--</td><td>--</td><td>--</td><td>--</td><td>--</td><td>--</td><td>--</td><td>--</td><td>--</td><td>--</td><td>--</td><td>--</td><td>--</td><td>--</td><td>--</td><td>--</td><td>--</td><td>--</td><td>--</td><td>--</td><td>--</td><td>--</td><td>--</td><td>--</td><td>--</td><td>--</td><td>--</td><td>--</td><td>--</td><td>--</td><td>--</td><td>--</td><td>--</td><td>--</td><td>--</td><td>--</td><td>4.584</td></tr>\n",
       "<tr><td>abells2744clu</td><td>3573</td><td>3.580297174080497</td><td>-30.424408035991412</td><td>--</td><td>--</td><td>27.220169993270478</td><td>0.24366635764247355</td><td>26.88414502903094</td><td>0.022573177310769903</td><td>27.192249316394236</td><td>0.21557942406027747</td><td>--</td><td>--</td><td>--</td><td>--</td><td>--</td><td>--</td><td>26.620360153930047</td><td>0.016144150446302442</td><td>26.92325779473626</td><td>0.23876983431027218</td><td>--</td><td>--</td><td>--</td><td>--</td><td>26.303118831764593</td><td>0.012126240294125271</td><td>--</td><td>--</td><td>--</td><td>--</td><td>--</td><td>--</td><td>25.4805876903063</td><td>0.006272381438627967</td><td>25.868575225506767</td><td>0.007890134387105868</td><td>26.647301979121377</td><td>0.019746430195340708</td><td>31.4049593775147</td><td>0.5034351583945912</td><td>26.58400666422355</td><td>0.015922944302112732</td><td>--</td><td>--</td><td>27.65925736380118</td><td>0.04826420313368504</td><td>--</td><td>--</td><td>--</td><td>--</td><td>26.954211024377628</td><td>0.021065521670773555</td><td>--</td><td>--</td><td>26.94156518088762</td><td>0.2621006982646142</td><td>26.684343145692196</td><td>0.025110204173980785</td><td>26.85435800837445</td><td>0.2214651450410556</td><td>--</td><td>--</td><td>--</td><td>--</td><td>--</td><td>--</td><td>26.444371922784402</td><td>0.017937312808482132</td><td>26.586108940829664</td><td>0.241902353259144</td><td>--</td><td>--</td><td>--</td><td>--</td><td>26.147969527781203</td><td>0.013506975603923254</td><td>--</td><td>--</td><td>--</td><td>--</td><td>--</td><td>--</td><td>25.346323424379392</td><td>0.006604414138466226</td><td>25.680336155924937</td><td>0.008119805154344363</td><td>26.458650434584392</td><td>0.022214372069493643</td><td>31.418935305484208</td><td>0.43883727010963647</td><td>26.384707372869876</td><td>0.017434005059080444</td><td>--</td><td>--</td><td>27.316533104920246</td><td>0.0484616539620892</td><td>--</td><td>--</td><td>--</td><td>--</td><td>26.727149993658983</td><td>0.022738908112155183</td><td>--</td><td>--</td><td>26.74214987721274</td><td>0.30598236788314015</td><td>26.581184544025938</td><td>0.031035165232571067</td><td>26.500898171125943</td><td>0.22671885969239294</td><td>--</td><td>--</td><td>--</td><td>--</td><td>--</td><td>--</td><td>26.312723654405644</td><td>0.02123177895748704</td><td>26.2741352394018</td><td>0.25536670996094946</td><td>--</td><td>--</td><td>--</td><td>--</td><td>25.9947968034454</td><td>0.015577262769255612</td><td>--</td><td>--</td><td>--</td><td>--</td><td>--</td><td>--</td><td>25.242938302413624</td><td>0.007408532646595445</td><td>25.55641056463177</td><td>0.009055479073175339</td><td>26.304402495471226</td><td>0.026318992762306613</td><td>31.04676083356258</td><td>0.4431761518069304</td><td>26.210198663810164</td><td>0.019997004674837674</td><td>--</td><td>--</td><td>27.072784502099783</td><td>0.05380428723679516</td><td>--</td><td>--</td><td>--</td><td>--</td><td>26.541954592963265</td><td>0.02599974299712921</td><td>--</td><td>--</td><td>26.73897178987402</td><td>0.4369541503804352</td><td>26.48125553592823</td><td>0.03967666925576227</td><td>26.206455527044486</td><td>0.24490235920513845</td><td>--</td><td>--</td><td>--</td><td>--</td><td>--</td><td>--</td><td>26.215861587359154</td><td>0.02688116698654616</td><td>26.129464666850538</td><td>0.32079105147491677</td><td>--</td><td>--</td><td>--</td><td>--</td><td>25.89116930913492</td><td>0.019458454549503484</td><td>--</td><td>--</td><td>--</td><td>--</td><td>--</td><td>--</td><td>25.1322135647785</td><td>0.008727855589957022</td><td>25.42744336718289</td><td>0.010582720360165837</td><td>26.17526219686494</td><td>0.032867520466572604</td><td>30.914607169945935</td><td>0.38351590148289205</td><td>26.077902354986534</td><td>0.02461177889544796</td><td>--</td><td>--</td><td>26.93029587459778</td><td>0.0668115656415154</td><td>--</td><td>--</td><td>--</td><td>--</td><td>26.396536123078945</td><td>0.0317223124656646</td><td>--</td><td>--</td><td>--</td><td>--</td><td>--</td><td>--</td><td>--</td><td>--</td><td>--</td><td>--</td><td>--</td><td>--</td><td>--</td><td>--</td><td>--</td><td>--</td><td>--</td><td>--</td><td>--</td><td>--</td><td>--</td><td>--</td><td>--</td><td>--</td><td>--</td><td>--</td><td>--</td><td>--</td><td>--</td><td>--</td><td>--</td><td>--</td><td>--</td><td>--</td><td>--</td><td>--</td><td>--</td><td>--</td><td>--</td><td>--</td><td>--</td><td>--</td><td>--</td><td>--</td><td>--</td><td>--</td><td>--</td><td>--</td><td>--</td><td>--</td><td>--</td><td>--</td><td>--</td><td>--</td><td>--</td><td>--</td><td>--</td><td>--</td><td>--</td><td>--</td><td>--</td><td>--</td><td>--</td><td>--</td><td>--</td><td>--</td><td>--</td><td>--</td><td>--</td><td>--</td><td>--</td><td>--</td><td>--</td><td>--</td><td>--</td><td>--</td><td>--</td><td>--</td><td>--</td><td>--</td><td>--</td><td>--</td><td>--</td><td>--</td><td>--</td><td>--</td><td>--</td><td>--</td><td>--</td><td>--</td><td>--</td><td>--</td><td>--</td><td>--</td><td>--</td><td>--</td><td>--</td><td>--</td><td>--</td><td>--</td><td>--</td><td>--</td><td>--</td><td>--</td><td>--</td><td>--</td><td>--</td><td>--</td><td>--</td><td>--</td><td>--</td><td>--</td><td>--</td><td>--</td><td>--</td><td>--</td><td>--</td><td>--</td><td>--</td><td>--</td><td>--</td><td>--</td><td>--</td><td>--</td><td>--</td><td>--</td><td>--</td><td>--</td><td>--</td><td>--</td><td>--</td><td>--</td><td>--</td><td>--</td><td>--</td><td>--</td><td>--</td><td>--</td><td>--</td><td>--</td><td>--</td><td>--</td><td>--</td><td>--</td><td>--</td><td>--</td><td>--</td><td>--</td><td>--</td><td>--</td><td>--</td><td>--</td><td>--</td><td>--</td><td>--</td><td>--</td><td>--</td><td>--</td><td>--</td><td>--</td><td>--</td><td>--</td><td>--</td><td>--</td><td>--</td><td>--</td><td>--</td><td>--</td><td>4.61</td></tr>\n",
       "<tr><td>abells2744clu</td><td>14953</td><td>3.5823379484224374</td><td>-30.387656731206793</td><td>--</td><td>--</td><td>27.336591267951544</td><td>0.03173630496903657</td><td>27.012020966865443</td><td>0.027138044227394374</td><td>27.38473837412087</td><td>0.04449095649271254</td><td>--</td><td>--</td><td>27.440936906593194</td><td>0.04797325975634928</td><td>--</td><td>--</td><td>27.008300974970226</td><td>0.024206962310776264</td><td>27.51674113411522</td><td>0.04638019455907246</td><td>--</td><td>--</td><td>--</td><td>--</td><td>26.990441991312878</td><td>0.022563201435163566</td><td>--</td><td>--</td><td>--</td><td>--</td><td>28.97607315594182</td><td>0.47523774884718945</td><td>26.559793333252212</td><td>0.013468978433004845</td><td>26.867210564262294</td><td>0.01608218251615183</td><td>27.335713939628572</td><td>0.04666785866436505</td><td>30.966368284140266</td><td>0.52731812620193</td><td>27.329697351315023</td><td>0.03225344866158669</td><td>--</td><td>--</td><td>28.500263497056526</td><td>0.09028312556053283</td><td>--</td><td>--</td><td>--</td><td>--</td><td>27.125687477951193</td><td>0.023344691707339472</td><td>--</td><td>--</td><td>26.95595397416289</td><td>0.0305050243004328</td><td>26.739867329282262</td><td>0.028634184695736836</td><td>27.002911756125737</td><td>0.04293136095903954</td><td>--</td><td>--</td><td>27.053890101380176</td><td>0.04643112630543423</td><td>--</td><td>--</td><td>26.669101866528756</td><td>0.02393700776435378</td><td>27.083174083930505</td><td>0.04263473718257382</td><td>--</td><td>--</td><td>--</td><td>--</td><td>26.64346323365239</td><td>0.022123844345237762</td><td>--</td><td>--</td><td>--</td><td>--</td><td>28.273942525686007</td><td>0.37074394613742045</td><td>26.168712615413934</td><td>0.012416578263260153</td><td>26.462772135342096</td><td>0.014710240368984042</td><td>26.90497576333816</td><td>0.04327610100795141</td><td>30.415591643390695</td><td>0.5032455324370619</td><td>26.95544948461638</td><td>0.031073563920584413</td><td>--</td><td>--</td><td>28.16099850280053</td><td>0.09074675320506317</td><td>--</td><td>--</td><td>--</td><td>--</td><td>26.859750589747115</td><td>0.024468703591582507</td><td>--</td><td>--</td><td>26.69800689280306</td><td>0.03298686707458221</td><td>26.594359049900536</td><td>0.03447826363410906</td><td>26.767561937607514</td><td>0.0479235122621244</td><td>--</td><td>--</td><td>26.763833150336108</td><td>0.04939572715992955</td><td>--</td><td>--</td><td>26.434925921891317</td><td>0.026284738964901484</td><td>26.753225693372222</td><td>0.04346815003077144</td><td>--</td><td>--</td><td>--</td><td>--</td><td>26.423530871685546</td><td>0.02465949106685496</td><td>--</td><td>--</td><td>--</td><td>--</td><td>27.784984877067746</td><td>0.32816994035067815</td><td>25.92948473441436</td><td>0.013184496656626164</td><td>26.190422178638023</td><td>0.015274568279726035</td><td>26.59310070783051</td><td>0.04579310635338128</td><td>30.46080422407857</td><td>0.5254642319511845</td><td>26.699197773068356</td><td>0.033741017784333596</td><td>--</td><td>--</td><td>28.08462452960487</td><td>0.11590751321671969</td><td>--</td><td>--</td><td>--</td><td>--</td><td>26.688834811387846</td><td>0.028333265479400845</td><td>--</td><td>--</td><td>26.553229501579168</td><td>0.04050015692990932</td><td>26.43536888580125</td><td>0.042150854270970504</td><td>26.673717475267086</td><td>0.06159224301331058</td><td>--</td><td>--</td><td>26.47623963157841</td><td>0.05360880784710674</td><td>--</td><td>--</td><td>26.24214351464131</td><td>0.030851127538532277</td><td>26.577747855038673</td><td>0.052175362601903266</td><td>--</td><td>--</td><td>--</td><td>--</td><td>26.310583045986665</td><td>0.03106999558356667</td><td>--</td><td>--</td><td>--</td><td>--</td><td>26.94950351796445</td><td>0.2348944195101479</td><td>25.82217846800699</td><td>0.016227869666709985</td><td>26.03399510359296</td><td>0.01812134501453528</td><td>26.451185373213182</td><td>0.057954070807201954</td><td>30.775488751149233</td><td>0.41637537927883905</td><td>26.51940834740648</td><td>0.04033687387346191</td><td>--</td><td>--</td><td>27.861669153387332</td><td>0.13366268679549537</td><td>--</td><td>--</td><td>--</td><td>--</td><td>26.596339779487984</td><td>0.03642834685912588</td><td>--</td><td>--</td><td>--</td><td>--</td><td>--</td><td>--</td><td>--</td><td>--</td><td>--</td><td>--</td><td>--</td><td>--</td><td>--</td><td>--</td><td>--</td><td>--</td><td>--</td><td>--</td><td>--</td><td>--</td><td>--</td><td>--</td><td>--</td><td>--</td><td>--</td><td>--</td><td>--</td><td>--</td><td>--</td><td>--</td><td>--</td><td>--</td><td>--</td><td>--</td><td>--</td><td>--</td><td>--</td><td>--</td><td>--</td><td>--</td><td>--</td><td>--</td><td>--</td><td>--</td><td>--</td><td>--</td><td>--</td><td>--</td><td>--</td><td>--</td><td>30.57888759415591</td><td>0.5058711172002279</td><td>--</td><td>--</td><td>--</td><td>--</td><td>29.530126400701295</td><td>0.49322541499474815</td><td>--</td><td>--</td><td>--</td><td>--</td><td>29.715840678584726</td><td>0.5093323141366126</td><td>--</td><td>--</td><td>--</td><td>--</td><td>29.577801308536742</td><td>0.4774105789850189</td><td>--</td><td>--</td><td>--</td><td>--</td><td>--</td><td>--</td><td>27.119308285497716</td><td>0.0313970503531448</td><td>27.136308998239933</td><td>0.03325874165101644</td><td>27.06759594547684</td><td>0.04066233743248911</td><td>30.78819470362961</td><td>0.33076128057347787</td><td>--</td><td>--</td><td>--</td><td>--</td><td>26.866337193060435</td><td>0.033273914537462486</td><td>26.870616589049206</td><td>0.03553646157931399</td><td>26.721798182981406</td><td>0.041124203089955846</td><td>29.972730085860267</td><td>0.43399370282851807</td><td>--</td><td>--</td><td>--</td><td>--</td><td>26.76572214171185</td><td>0.04112985505941342</td><td>26.690781359479686</td><td>0.04139484250776679</td><td>26.557010767714715</td><td>0.04938543167278146</td><td>29.691890978394557</td><td>0.41471364731585464</td><td>--</td><td>--</td><td>--</td><td>--</td><td>26.836131221921416</td><td>0.06151630875739965</td><td>26.575824809582304</td><td>0.05237848153712804</td><td>26.490504601311375</td><td>0.06629740111995962</td><td>29.94346124193095</td><td>0.26683870257300646</td><td>--</td><td>--</td><td>--</td><td>--</td><td>--</td><td>--</td><td>--</td><td>--</td><td>--</td><td>--</td><td>--</td><td>--</td><td>--</td><td>--</td><td>--</td><td>--</td><td>--</td><td>--</td><td>--</td><td>--</td><td>--</td><td>--</td><td>--</td><td>--</td><td>--</td><td>--</td><td>--</td><td>--</td><td>--</td><td>--</td><td>--</td><td>--</td><td>--</td><td>--</td><td>--</td><td>--</td><td>--</td><td>--</td><td>--</td><td>--</td><td>--</td><td>--</td><td>--</td><td>--</td><td>--</td><td>--</td><td>--</td><td>--</td><td>4.243</td></tr>\n",
       "<tr><td>abells2744clu</td><td>15786</td><td>3.5960817966475918</td><td>-30.38581783405742</td><td>--</td><td>--</td><td>28.888280552411118</td><td>0.11955442584994691</td><td>27.538334155033716</td><td>0.03646392651483764</td><td>27.501147704186533</td><td>0.04836224592854393</td><td>--</td><td>--</td><td>27.52188979010064</td><td>0.05030111390691747</td><td>--</td><td>--</td><td>27.097698154005112</td><td>0.02180181496894985</td><td>27.551481723669784</td><td>0.046447221407460965</td><td>--</td><td>--</td><td>--</td><td>--</td><td>27.23379739418283</td><td>0.023773852173709684</td><td>--</td><td>--</td><td>--</td><td>--</td><td>30.92282320906872</td><td>0.2931992383146904</td><td>27.359092117916045</td><td>0.021626712802220133</td><td>27.20812686376888</td><td>0.018956025261621233</td><td>27.47880925982189</td><td>0.04247536960282299</td><td>30.091612805370318</td><td>0.3535338399421166</td><td>26.638930049802767</td><td>0.015426210901881955</td><td>--</td><td>--</td><td>31.709813560347516</td><td>0.2530104660563016</td><td>--</td><td>--</td><td>--</td><td>--</td><td>31.847140584220096</td><td>0.43053960834880567</td><td>--</td><td>--</td><td>28.527926631277982</td><td>0.11815482298269314</td><td>27.332434237029688</td><td>0.040919468419549014</td><td>27.10969598958401</td><td>0.04626566749563638</td><td>--</td><td>--</td><td>27.140564651780753</td><td>0.04884212972655612</td><td>--</td><td>--</td><td>26.877354013478158</td><td>0.02365572851177456</td><td>27.169006463686706</td><td>0.044834052512628786</td><td>--</td><td>--</td><td>--</td><td>--</td><td>27.05692740484776</td><td>0.02674398544924948</td><td>--</td><td>--</td><td>--</td><td>--</td><td>30.30622337245261</td><td>0.3526266138280314</td><td>27.088752903525315</td><td>0.022190112285932928</td><td>26.913538608189594</td><td>0.0189528871459329</td><td>27.22837649260014</td><td>0.046135628173958665</td><td>29.55236394450733</td><td>0.3105626875842131</td><td>26.34585598331983</td><td>0.01554064569197952</td><td>--</td><td>--</td><td>31.216915356259047</td><td>0.2574298502593106</td><td>--</td><td>--</td><td>--</td><td>--</td><td>31.901619345159027</td><td>0.3463486588453068</td><td>--</td><td>--</td><td>28.20634980817598</td><td>0.12245807707066536</td><td>27.18661694825572</td><td>0.04922142065998637</td><td>26.837106250643682</td><td>0.05006528347351784</td><td>--</td><td>--</td><td>26.824159824315977</td><td>0.05065243954154334</td><td>--</td><td>--</td><td>26.722006989994025</td><td>0.02776156292382163</td><td>26.931915946834373</td><td>0.04982567015505093</td><td>--</td><td>--</td><td>--</td><td>--</td><td>26.906229894268588</td><td>0.031477937466718654</td><td>--</td><td>--</td><td>--</td><td>--</td><td>29.621604529627064</td><td>0.4178342302499112</td><td>26.917421820814283</td><td>0.02523863043305082</td><td>26.745127560840626</td><td>0.021343005715933464</td><td>27.03613734539892</td><td>0.053287034448600196</td><td>29.257732984217807</td><td>0.3265912167560495</td><td>26.155465257064886</td><td>0.017351592763525717</td><td>--</td><td>--</td><td>30.722054254900833</td><td>0.27154181159076934</td><td>--</td><td>--</td><td>--</td><td>--</td><td>31.903765007020063</td><td>0.2685137965684888</td><td>--</td><td>--</td><td>27.930512802133542</td><td>0.13514415985201775</td><td>27.016523177709164</td><td>0.05935957229006121</td><td>26.66628064995557</td><td>0.06019340779215257</td><td>--</td><td>--</td><td>26.597788848481102</td><td>0.05852528749565741</td><td>--</td><td>--</td><td>26.557306512284644</td><td>0.033444747579158815</td><td>26.814626709359707</td><td>0.06318217397267964</td><td>--</td><td>--</td><td>--</td><td>--</td><td>26.89178835725629</td><td>0.043273292789289125</td><td>--</td><td>--</td><td>--</td><td>--</td><td>29.21724693702789</td><td>0.4218040195174797</td><td>26.811156446369367</td><td>0.03148888739971623</td><td>26.631151674660998</td><td>0.02619730551520253</td><td>26.885035773866115</td><td>0.06499617201781345</td><td>28.47037037973952</td><td>0.24036352234914515</td><td>26.036456821628654</td><td>0.02137884769538909</td><td>--</td><td>--</td><td>30.208935653540454</td><td>0.3008610594345173</td><td>--</td><td>--</td><td>--</td><td>--</td><td>31.966758436412473</td><td>0.18864613657139362</td><td>--</td><td>--</td><td>--</td><td>--</td><td>--</td><td>--</td><td>--</td><td>--</td><td>--</td><td>--</td><td>--</td><td>--</td><td>--</td><td>--</td><td>--</td><td>--</td><td>--</td><td>--</td><td>--</td><td>--</td><td>--</td><td>--</td><td>--</td><td>--</td><td>--</td><td>--</td><td>--</td><td>--</td><td>--</td><td>--</td><td>--</td><td>--</td><td>--</td><td>--</td><td>--</td><td>--</td><td>--</td><td>--</td><td>--</td><td>--</td><td>--</td><td>--</td><td>--</td><td>--</td><td>--</td><td>--</td><td>--</td><td>--</td><td>--</td><td>--</td><td>30.995174547307773</td><td>0.39985151987960205</td><td>--</td><td>--</td><td>--</td><td>--</td><td>30.64517573747054</td><td>0.40130351572961775</td><td>--</td><td>--</td><td>--</td><td>--</td><td>30.01820981222942</td><td>0.457384070422435</td><td>--</td><td>--</td><td>--</td><td>--</td><td>29.974090695446353</td><td>0.38828746634982114</td><td>--</td><td>--</td><td>--</td><td>--</td><td>--</td><td>--</td><td>27.49854185676361</td><td>0.04284371488843587</td><td>27.177913351447465</td><td>0.034869783706281236</td><td>27.238645490501504</td><td>0.047177958312043876</td><td>29.42441220139916</td><td>0.4161680224626936</td><td>--</td><td>--</td><td>--</td><td>--</td><td>27.22876998045761</td><td>0.04598890456114719</td><td>26.93222184537132</td><td>0.03790958903161678</td><td>26.903654299593825</td><td>0.048998779609743484</td><td>28.751753748110524</td><td>0.37693474864531146</td><td>--</td><td>--</td><td>--</td><td>--</td><td>27.05554881401366</td><td>0.05453088450089246</td><td>26.73448395016211</td><td>0.04343087162254004</td><td>26.72848720240515</td><td>0.05863403811614642</td><td>29.181924012473335</td><td>0.416374501968865</td><td>--</td><td>--</td><td>--</td><td>--</td><td>26.916618421666563</td><td>0.0680402070013674</td><td>26.559158489356896</td><td>0.05238464586410331</td><td>26.627633529088023</td><td>0.07521257277518537</td><td>28.70644848055662</td><td>0.42056337701605484</td><td>--</td><td>--</td><td>--</td><td>--</td><td>--</td><td>--</td><td>--</td><td>--</td><td>--</td><td>--</td><td>--</td><td>--</td><td>--</td><td>--</td><td>--</td><td>--</td><td>--</td><td>--</td><td>--</td><td>--</td><td>--</td><td>--</td><td>--</td><td>--</td><td>--</td><td>--</td><td>--</td><td>--</td><td>--</td><td>--</td><td>--</td><td>--</td><td>--</td><td>--</td><td>--</td><td>--</td><td>--</td><td>--</td><td>--</td><td>--</td><td>--</td><td>--</td><td>--</td><td>--</td><td>--</td><td>--</td><td>--</td><td>--</td><td>5.944</td></tr>\n",
       "<tr><td>abells2744clu</td><td>3692</td><td>3.599734632393244</td><td>-30.431896825633363</td><td>--</td><td>--</td><td>25.93570629166175</td><td>0.07702045378740593</td><td>25.654894700639385</td><td>0.014540546252990269</td><td>25.990926986882705</td><td>0.07827189772766206</td><td>--</td><td>--</td><td>--</td><td>--</td><td>--</td><td>--</td><td>25.511730638396113</td><td>0.0111770577055635</td><td>26.10946942082654</td><td>0.10648462387872717</td><td>--</td><td>--</td><td>--</td><td>--</td><td>25.108288593811306</td><td>0.0075162058456865665</td><td>--</td><td>--</td><td>--</td><td>--</td><td>--</td><td>--</td><td>24.78586603080656</td><td>0.005277272712444812</td><td>24.92445961245192</td><td>0.005601833373566337</td><td>25.21038689953605</td><td>0.014035217781852153</td><td>--</td><td>--</td><td>25.1595621455755</td><td>0.008973276799086768</td><td>--</td><td>--</td><td>26.777909771274913</td><td>0.13306886492554998</td><td>--</td><td>--</td><td>--</td><td>--</td><td>25.796204838111272</td><td>0.061964898699714915</td><td>--</td><td>--</td><td>25.614643649541758</td><td>0.08298141650731836</td><td>25.488841174528638</td><td>0.01692145022582151</td><td>25.675099005325187</td><td>0.0806126473051964</td><td>--</td><td>--</td><td>--</td><td>--</td><td>--</td><td>--</td><td>25.29935769994371</td><td>0.012291127129024502</td><td>25.857748086620656</td><td>0.11747205885423531</td><td>--</td><td>--</td><td>--</td><td>--</td><td>24.887280915477884</td><td>0.008044583085121335</td><td>--</td><td>--</td><td>--</td><td>--</td><td>--</td><td>--</td><td>24.562046373648567</td><td>0.005455880857308971</td><td>24.670024427118193</td><td>0.005669710096122684</td><td>24.95775084138466</td><td>0.015635390193512753</td><td>--</td><td>--</td><td>24.88759823770972</td><td>0.009370237712244302</td><td>--</td><td>--</td><td>26.240048637882058</td><td>0.11369229895949466</td><td>--</td><td>--</td><td>--</td><td>--</td><td>25.50809524713092</td><td>0.06290353793355533</td><td>--</td><td>--</td><td>25.42263775143699</td><td>0.09724446427194067</td><td>25.341326785277904</td><td>0.020302121565570576</td><td>25.516779220806246</td><td>0.09698725866793254</td><td>--</td><td>--</td><td>--</td><td>--</td><td>--</td><td>--</td><td>25.129375536234935</td><td>0.01433883813569323</td><td>25.642715949224698</td><td>0.13864716509314015</td><td>--</td><td>--</td><td>--</td><td>--</td><td>24.714767692928156</td><td>0.00921624917097817</td><td>--</td><td>--</td><td>--</td><td>--</td><td>--</td><td>--</td><td>24.41906443584949</td><td>0.006231118168904411</td><td>24.50279813283717</td><td>0.006352707635325908</td><td>24.761137894631766</td><td>0.021661399254470626</td><td>--</td><td>--</td><td>24.694545313583102</td><td>0.010766078162419647</td><td>--</td><td>--</td><td>25.928134762698264</td><td>0.11789629995979009</td><td>--</td><td>--</td><td>--</td><td>--</td><td>25.382187926591968</td><td>0.0742933571258909</td><td>--</td><td>--</td><td>25.25875652023449</td><td>0.11888621946569511</td><td>25.18912524051093</td><td>0.024903475703177014</td><td>25.36117453655039</td><td>0.12144076067738237</td><td>--</td><td>--</td><td>--</td><td>--</td><td>--</td><td>--</td><td>24.916696708404427</td><td>0.01647162578088189</td><td>25.37537790832006</td><td>0.15240122917839952</td><td>--</td><td>--</td><td>--</td><td>--</td><td>24.503988068730056</td><td>0.010552269456234267</td><td>--</td><td>--</td><td>--</td><td>--</td><td>--</td><td>--</td><td>24.288513998563193</td><td>0.007479705321098419</td><td>24.36837803642782</td><td>0.007615947397967896</td><td>24.655347077676662</td><td>0.029838463125771264</td><td>--</td><td>--</td><td>24.559757799513164</td><td>0.013270628222023855</td><td>--</td><td>--</td><td>25.664918076065298</td><td>0.12923669116986994</td><td>--</td><td>--</td><td>--</td><td>--</td><td>25.166870633338863</td><td>0.1138249721910908</td><td>--</td><td>--</td><td>--</td><td>--</td><td>--</td><td>--</td><td>--</td><td>--</td><td>--</td><td>--</td><td>--</td><td>--</td><td>--</td><td>--</td><td>--</td><td>--</td><td>--</td><td>--</td><td>--</td><td>--</td><td>--</td><td>--</td><td>--</td><td>--</td><td>--</td><td>--</td><td>--</td><td>--</td><td>--</td><td>--</td><td>--</td><td>--</td><td>--</td><td>--</td><td>--</td><td>--</td><td>--</td><td>--</td><td>--</td><td>--</td><td>--</td><td>--</td><td>--</td><td>--</td><td>--</td><td>--</td><td>--</td><td>--</td><td>--</td><td>--</td><td>--</td><td>--</td><td>--</td><td>--</td><td>--</td><td>--</td><td>--</td><td>--</td><td>--</td><td>--</td><td>--</td><td>--</td><td>--</td><td>--</td><td>--</td><td>--</td><td>--</td><td>--</td><td>--</td><td>--</td><td>--</td><td>--</td><td>--</td><td>--</td><td>--</td><td>--</td><td>--</td><td>--</td><td>--</td><td>--</td><td>--</td><td>--</td><td>--</td><td>--</td><td>--</td><td>--</td><td>--</td><td>--</td><td>--</td><td>--</td><td>--</td><td>--</td><td>--</td><td>--</td><td>--</td><td>--</td><td>--</td><td>--</td><td>--</td><td>--</td><td>--</td><td>--</td><td>--</td><td>--</td><td>--</td><td>--</td><td>--</td><td>--</td><td>--</td><td>--</td><td>--</td><td>--</td><td>--</td><td>--</td><td>--</td><td>--</td><td>--</td><td>--</td><td>--</td><td>--</td><td>--</td><td>--</td><td>--</td><td>--</td><td>--</td><td>--</td><td>--</td><td>--</td><td>--</td><td>--</td><td>--</td><td>--</td><td>--</td><td>--</td><td>--</td><td>--</td><td>--</td><td>--</td><td>--</td><td>--</td><td>--</td><td>--</td><td>--</td><td>--</td><td>--</td><td>--</td><td>--</td><td>--</td><td>--</td><td>--</td><td>--</td><td>--</td><td>--</td><td>--</td><td>--</td><td>--</td><td>--</td><td>--</td><td>--</td><td>--</td><td>--</td><td>--</td><td>--</td><td>--</td><td>--</td><td>--</td><td>--</td><td>--</td><td>4.884</td></tr>\n",
       "<tr><td>abells2744clu</td><td>19190</td><td>3.601340105065028</td><td>-30.37920379453032</td><td>--</td><td>--</td><td>28.14706497605793</td><td>0.11208187627231724</td><td>27.087499659884994</td><td>0.026332197917922875</td><td>27.09026872034669</td><td>0.05216177672514047</td><td>--</td><td>--</td><td>27.031973381678178</td><td>0.05674445979310111</td><td>--</td><td>--</td><td>26.571606572004722</td><td>0.014947883438389667</td><td>26.96236961114797</td><td>0.04882843457776762</td><td>--</td><td>--</td><td>--</td><td>--</td><td>26.6560539238003</td><td>0.015578842553892278</td><td>--</td><td>--</td><td>--</td><td>--</td><td>28.7348021967071</td><td>0.3557206212390009</td><td>26.627821236349092</td><td>0.012452272859727</td><td>26.534122514377447</td><td>0.011202748775719374</td><td>26.789205166979094</td><td>0.022580721164393313</td><td>32.05400245052021</td><td>0.3564417245642979</td><td>25.700218287144267</td><td>0.007697758561070362</td><td>--</td><td>--</td><td>30.49833219107832</td><td>0.35779538591504695</td><td>--</td><td>--</td><td>--</td><td>--</td><td>31.940824708008627</td><td>0.4191381572687765</td><td>--</td><td>--</td><td>27.835986178107014</td><td>0.11690757067144598</td><td>26.966941290705616</td><td>0.031501245437457526</td><td>26.83302957254093</td><td>0.05706116646312445</td><td>--</td><td>--</td><td>26.76162759881138</td><td>0.06284354951859664</td><td>--</td><td>--</td><td>26.456744965638293</td><td>0.017443840416640398</td><td>26.70451744603283</td><td>0.05385065392180933</td><td>--</td><td>--</td><td>--</td><td>--</td><td>26.57577281136027</td><td>0.01865752139995835</td><td>--</td><td>--</td><td>--</td><td>--</td><td>28.69363075504155</td><td>0.4195618456741133</td><td>26.49043370732984</td><td>0.013735736540928484</td><td>26.360904585984773</td><td>0.011849535885922712</td><td>26.625997264129087</td><td>0.026104490234700375</td><td>31.68313205884339</td><td>0.36241826878078826</td><td>25.537017939844493</td><td>0.00821322787882257</td><td>--</td><td>--</td><td>30.283647564730167</td><td>0.3501697443844362</td><td>--</td><td>--</td><td>--</td><td>--</td><td>31.46254415396064</td><td>0.44734662026589694</td><td>--</td><td>--</td><td>27.569653827396678</td><td>0.12919825214749228</td><td>26.882566656159355</td><td>0.03976463495151263</td><td>26.665326597052964</td><td>0.06964305792922572</td><td>--</td><td>--</td><td>26.54974427651548</td><td>0.07530002741070012</td><td>--</td><td>--</td><td>26.372663925693747</td><td>0.02154362921832828</td><td>26.517829539497722</td><td>0.06528679351222794</td><td>--</td><td>--</td><td>--</td><td>--</td><td>26.517579531692107</td><td>0.02356084665757547</td><td>--</td><td>--</td><td>--</td><td>--</td><td>28.196220397545805</td><td>0.389325784167667</td><td>26.41165400798653</td><td>0.016540766220016653</td><td>26.254775874508717</td><td>0.013706142172248569</td><td>26.46323114478858</td><td>0.03081012040462411</td><td>31.216404398030583</td><td>0.39020272862962707</td><td>25.4009934547957</td><td>0.009298505984242924</td><td>--</td><td>--</td><td>30.403974796088654</td><td>0.3178637820851603</td><td>--</td><td>--</td><td>--</td><td>--</td><td>31.142696747253122</td><td>0.44274164044400766</td><td>--</td><td>--</td><td>27.669773528693455</td><td>0.21335077849938336</td><td>26.762846468464293</td><td>0.050033442602663555</td><td>26.567275859780633</td><td>0.09691014030700437</td><td>--</td><td>--</td><td>26.354900321627756</td><td>0.12303686232124178</td><td>--</td><td>--</td><td>26.324598954897002</td><td>0.028535723323544527</td><td>26.443686219320213</td><td>0.09584828369495346</td><td>--</td><td>--</td><td>--</td><td>--</td><td>26.45380390214016</td><td>0.030858150358950193</td><td>--</td><td>--</td><td>--</td><td>--</td><td>27.46129982117113</td><td>0.3075449620271566</td><td>26.34145912486358</td><td>0.020993167400489877</td><td>26.171134934588114</td><td>0.016913014655294118</td><td>26.39611424130816</td><td>0.04078815398828317</td><td>31.055099162813974</td><td>0.3414487058167035</td><td>25.351386665090708</td><td>0.011833413630771958</td><td>--</td><td>--</td><td>30.14176424020423</td><td>0.3115535774699465</td><td>--</td><td>--</td><td>--</td><td>--</td><td>31.245131648074715</td><td>0.3378557185177128</td><td>--</td><td>--</td><td>--</td><td>--</td><td>--</td><td>--</td><td>--</td><td>--</td><td>--</td><td>--</td><td>--</td><td>--</td><td>--</td><td>--</td><td>--</td><td>--</td><td>--</td><td>--</td><td>--</td><td>--</td><td>--</td><td>--</td><td>--</td><td>--</td><td>--</td><td>--</td><td>--</td><td>--</td><td>--</td><td>--</td><td>--</td><td>--</td><td>--</td><td>--</td><td>--</td><td>--</td><td>--</td><td>--</td><td>--</td><td>--</td><td>--</td><td>--</td><td>--</td><td>--</td><td>--</td><td>--</td><td>--</td><td>--</td><td>--</td><td>--</td><td>31.049589308869948</td><td>0.38517665462965744</td><td>--</td><td>--</td><td>--</td><td>--</td><td>30.874306267147094</td><td>0.34768982478325894</td><td>--</td><td>--</td><td>--</td><td>--</td><td>30.7809152011765</td><td>0.28569749681934414</td><td>--</td><td>--</td><td>--</td><td>--</td><td>30.50262730262491</td><td>0.26332190793552396</td><td>--</td><td>--</td><td>--</td><td>--</td><td>--</td><td>--</td><td>27.11203512271628</td><td>0.02993136564475699</td><td>26.656019452349494</td><td>0.021863309719150636</td><td>26.682568728872788</td><td>0.029760069827715226</td><td>28.298107447740563</td><td>0.23380249524894467</td><td>--</td><td>--</td><td>--</td><td>--</td><td>26.998307849905714</td><td>0.036652157081372976</td><td>26.558916329082734</td><td>0.026583021252870556</td><td>26.548749985931696</td><td>0.0361762012828197</td><td>28.041021064831547</td><td>0.256007656038126</td><td>--</td><td>--</td><td>--</td><td>--</td><td>26.931846234263507</td><td>0.047590582404673315</td><td>26.53955794589654</td><td>0.03557872311672081</td><td>26.41846706328663</td><td>0.04432445383096459</td><td>27.765150444420353</td><td>0.27230045545992854</td><td>--</td><td>--</td><td>--</td><td>--</td><td>26.949433632705208</td><td>0.06846480506200335</td><td>26.479826925882577</td><td>0.0474418309210958</td><td>26.418299571282194</td><td>0.06312755485857503</td><td>27.292069076297825</td><td>0.2495195384590966</td><td>--</td><td>--</td><td>--</td><td>--</td><td>--</td><td>--</td><td>--</td><td>--</td><td>--</td><td>--</td><td>--</td><td>--</td><td>--</td><td>--</td><td>--</td><td>--</td><td>--</td><td>--</td><td>--</td><td>--</td><td>--</td><td>--</td><td>--</td><td>--</td><td>--</td><td>--</td><td>--</td><td>--</td><td>--</td><td>--</td><td>--</td><td>--</td><td>--</td><td>--</td><td>--</td><td>--</td><td>--</td><td>--</td><td>--</td><td>--</td><td>--</td><td>--</td><td>--</td><td>--</td><td>--</td><td>--</td><td>--</td><td>--</td><td>4.022</td></tr>\n",
       "<tr><td>abells2744clu</td><td>13448</td><td>3.6015817864147786</td><td>-30.391486242467675</td><td>--</td><td>--</td><td>27.038244184247635</td><td>0.024055917770932397</td><td>26.405274147256936</td><td>0.014030649278928902</td><td>26.19859478139679</td><td>0.015723674384779524</td><td>--</td><td>--</td><td>25.553158151494497</td><td>0.009460101616654592</td><td>--</td><td>--</td><td>24.872553825475364</td><td>0.004507709244837487</td><td>25.18581325659527</td><td>0.006655630188543883</td><td>--</td><td>--</td><td>--</td><td>--</td><td>24.33821911470353</td><td>0.0033018141195497574</td><td>--</td><td>--</td><td>--</td><td>--</td><td>29.017392713272734</td><td>0.4170140259376216</td><td>24.01633000140825</td><td>0.002693542629601439</td><td>23.82632225666351</td><td>0.0024366353131312856</td><td>23.734268799892817</td><td>0.0025729634861173353</td><td>29.749876730605923</td><td>0.27866911081258816</td><td>23.693938775308755</td><td>0.0023705519267722933</td><td>--</td><td>--</td><td>28.606183483208476</td><td>0.10139854821781125</td><td>--</td><td>--</td><td>--</td><td>--</td><td>27.867644929684083</td><td>0.04441007730503028</td><td>--</td><td>--</td><td>26.655786402126683</td><td>0.022902567946560745</td><td>26.126447943417123</td><td>0.014313866689713375</td><td>25.811271687010006</td><td>0.01485335371881177</td><td>--</td><td>--</td><td>25.168888065476843</td><td>0.00885569980959346</td><td>--</td><td>--</td><td>24.612945402996008</td><td>0.0042849345069094855</td><td>24.784869700334788</td><td>0.006036586191483268</td><td>--</td><td>--</td><td>--</td><td>--</td><td>24.093559676987997</td><td>0.0030987769763716378</td><td>--</td><td>--</td><td>--</td><td>--</td><td>28.61717957335594</td><td>0.4115700768203265</td><td>23.75192085031419</td><td>0.0024422487632310245</td><td>23.54672353455656</td><td>0.0021787225476782106</td><td>23.457767085176066</td><td>0.00239598218579171</td><td>29.386621456799894</td><td>0.2764211274824897</td><td>23.419690122085633</td><td>0.002156885620113408</td><td>--</td><td>--</td><td>28.358071484091862</td><td>0.11043574320822865</td><td>--</td><td>--</td><td>--</td><td>--</td><td>27.486889395824665</td><td>0.04271968580527575</td><td>--</td><td>--</td><td>26.358322834512737</td><td>0.023835726532088666</td><td>25.900265897377942</td><td>0.015561031955953224</td><td>25.49442964463783</td><td>0.01515823311344002</td><td>--</td><td>--</td><td>24.849310492315567</td><td>0.008880040793398174</td><td>--</td><td>--</td><td>24.37598095141087</td><td>0.004236605600389161</td><td>24.444099598981232</td><td>0.00582743290502416</td><td>--</td><td>--</td><td>--</td><td>--</td><td>23.869440906220184</td><td>0.0030082608387482926</td><td>--</td><td>--</td><td>--</td><td>--</td><td>28.001073321241492</td><td>0.3535395051268857</td><td>23.53077203156976</td><td>0.002291950509577573</td><td>23.32173201946887</td><td>0.002020144758267554</td><td>23.220926109553762</td><td>0.002329995623739858</td><td>28.984863874221027</td><td>0.26745828687565804</td><td>23.172125669342602</td><td>0.0020171150179005147</td><td>--</td><td>--</td><td>27.934777152559075</td><td>0.10414345464113572</td><td>--</td><td>--</td><td>--</td><td>--</td><td>27.183075604664722</td><td>0.04455444256653411</td><td>--</td><td>--</td><td>26.10870248405558</td><td>0.02657509217880188</td><td>25.692068116682236</td><td>0.017718697157437405</td><td>25.236343430785993</td><td>0.016754606365088874</td><td>--</td><td>--</td><td>24.596801429358273</td><td>0.009710804339142324</td><td>--</td><td>--</td><td>24.168039401258426</td><td>0.00444283626981866</td><td>24.187222108103704</td><td>0.006213993533334431</td><td>--</td><td>--</td><td>--</td><td>--</td><td>23.671924659144114</td><td>0.0030707394766322665</td><td>--</td><td>--</td><td>--</td><td>--</td><td>27.781909580926897</td><td>0.3871759168589629</td><td>23.327925900836973</td><td>0.0022232198272812255</td><td>23.12595738612124</td><td>0.0019377816206857053</td><td>23.03295991166535</td><td>0.0024246972293420154</td><td>28.462851969681704</td><td>0.2392231109905472</td><td>22.980435585952204</td><td>0.0020030039953961723</td><td>--</td><td>--</td><td>27.578110771799345</td><td>0.10689998439528918</td><td>--</td><td>--</td><td>--</td><td>--</td><td>27.00659572009183</td><td>0.05333343558135267</td><td>--</td><td>--</td><td>--</td><td>--</td><td>--</td><td>--</td><td>--</td><td>--</td><td>--</td><td>--</td><td>--</td><td>--</td><td>--</td><td>--</td><td>--</td><td>--</td><td>--</td><td>--</td><td>--</td><td>--</td><td>--</td><td>--</td><td>--</td><td>--</td><td>--</td><td>--</td><td>--</td><td>--</td><td>--</td><td>--</td><td>--</td><td>--</td><td>--</td><td>--</td><td>--</td><td>--</td><td>--</td><td>--</td><td>--</td><td>--</td><td>--</td><td>--</td><td>--</td><td>--</td><td>--</td><td>--</td><td>--</td><td>--</td><td>--</td><td>--</td><td>29.703570733983852</td><td>0.4432110854582455</td><td>--</td><td>--</td><td>--</td><td>--</td><td>29.193825365903894</td><td>0.41181375789931046</td><td>--</td><td>--</td><td>--</td><td>--</td><td>28.3685282684074</td><td>0.30658166081362703</td><td>--</td><td>--</td><td>--</td><td>--</td><td>27.905095837628497</td><td>0.29423800713307957</td><td>--</td><td>--</td><td>--</td><td>--</td><td>--</td><td>--</td><td>26.436046056374014</td><td>0.01725166186704802</td><td>24.91349991709</td><td>0.005532015674926802</td><td>24.352297641030606</td><td>0.00435698571136585</td><td>28.41099919426843</td><td>0.25682299093423455</td><td>--</td><td>--</td><td>--</td><td>--</td><td>26.123191011861284</td><td>0.017286984256601585</td><td>24.634682152394987</td><td>0.005466894204412416</td><td>24.08083609192527</td><td>0.004340406113259678</td><td>28.06530127500735</td><td>0.25380063471085595</td><td>--</td><td>--</td><td>--</td><td>--</td><td>25.871585580651278</td><td>0.018699306726979663</td><td>24.383458714758763</td><td>0.005671825873941621</td><td>23.841372312409213</td><td>0.004521915554118746</td><td>27.855696837757925</td><td>0.2792182268538949</td><td>--</td><td>--</td><td>--</td><td>--</td><td>25.647384024948536</td><td>0.021341366101715692</td><td>24.158008111805213</td><td>0.006226106894163014</td><td>23.63594569039183</td><td>0.005052889345777033</td><td>29.05316922796617</td><td>0.3860908268607712</td><td>--</td><td>--</td><td>--</td><td>--</td><td>--</td><td>--</td><td>--</td><td>--</td><td>--</td><td>--</td><td>--</td><td>--</td><td>--</td><td>--</td><td>--</td><td>--</td><td>--</td><td>--</td><td>--</td><td>--</td><td>--</td><td>--</td><td>--</td><td>--</td><td>--</td><td>--</td><td>--</td><td>--</td><td>--</td><td>--</td><td>--</td><td>--</td><td>--</td><td>--</td><td>--</td><td>--</td><td>--</td><td>--</td><td>--</td><td>--</td><td>--</td><td>--</td><td>--</td><td>--</td><td>--</td><td>--</td><td>--</td><td>--</td><td>8.175</td></tr>\n",
       "<tr><td>...</td><td>...</td><td>...</td><td>...</td><td>...</td><td>...</td><td>...</td><td>...</td><td>...</td><td>...</td><td>...</td><td>...</td><td>...</td><td>...</td><td>...</td><td>...</td><td>...</td><td>...</td><td>...</td><td>...</td><td>...</td><td>...</td><td>...</td><td>...</td><td>...</td><td>...</td><td>...</td><td>...</td><td>...</td><td>...</td><td>...</td><td>...</td><td>...</td><td>...</td><td>...</td><td>...</td><td>...</td><td>...</td><td>...</td><td>...</td><td>...</td><td>...</td><td>...</td><td>...</td><td>...</td><td>...</td><td>...</td><td>...</td><td>...</td><td>...</td><td>...</td><td>...</td><td>...</td><td>...</td><td>...</td><td>...</td><td>...</td><td>...</td><td>...</td><td>...</td><td>...</td><td>...</td><td>...</td><td>...</td><td>...</td><td>...</td><td>...</td><td>...</td><td>...</td><td>...</td><td>...</td><td>...</td><td>...</td><td>...</td><td>...</td><td>...</td><td>...</td><td>...</td><td>...</td><td>...</td><td>...</td><td>...</td><td>...</td><td>...</td><td>...</td><td>...</td><td>...</td><td>...</td><td>...</td><td>...</td><td>...</td><td>...</td><td>...</td><td>...</td><td>...</td><td>...</td><td>...</td><td>...</td><td>...</td><td>...</td><td>...</td><td>...</td><td>...</td><td>...</td><td>...</td><td>...</td><td>...</td><td>...</td><td>...</td><td>...</td><td>...</td><td>...</td><td>...</td><td>...</td><td>...</td><td>...</td><td>...</td><td>...</td><td>...</td><td>...</td><td>...</td><td>...</td><td>...</td><td>...</td><td>...</td><td>...</td><td>...</td><td>...</td><td>...</td><td>...</td><td>...</td><td>...</td><td>...</td><td>...</td><td>...</td><td>...</td><td>...</td><td>...</td><td>...</td><td>...</td><td>...</td><td>...</td><td>...</td><td>...</td><td>...</td><td>...</td><td>...</td><td>...</td><td>...</td><td>...</td><td>...</td><td>...</td><td>...</td><td>...</td><td>...</td><td>...</td><td>...</td><td>...</td><td>...</td><td>...</td><td>...</td><td>...</td><td>...</td><td>...</td><td>...</td><td>...</td><td>...</td><td>...</td><td>...</td><td>...</td><td>...</td><td>...</td><td>...</td><td>...</td><td>...</td><td>...</td><td>...</td><td>...</td><td>...</td><td>...</td><td>...</td><td>...</td><td>...</td><td>...</td><td>...</td><td>...</td><td>...</td><td>...</td><td>...</td><td>...</td><td>...</td><td>...</td><td>...</td><td>...</td><td>...</td><td>...</td><td>...</td><td>...</td><td>...</td><td>...</td><td>...</td><td>...</td><td>...</td><td>...</td><td>...</td><td>...</td><td>...</td><td>...</td><td>...</td><td>...</td><td>...</td><td>...</td><td>...</td><td>...</td><td>...</td><td>...</td><td>...</td><td>...</td><td>...</td><td>...</td><td>...</td><td>...</td><td>...</td><td>...</td><td>...</td><td>...</td><td>...</td><td>...</td><td>...</td><td>...</td><td>...</td><td>...</td><td>...</td><td>...</td><td>...</td><td>...</td><td>...</td><td>...</td><td>...</td><td>...</td><td>...</td><td>...</td><td>...</td><td>...</td><td>...</td><td>...</td><td>...</td><td>...</td><td>...</td><td>...</td><td>...</td><td>...</td><td>...</td><td>...</td><td>...</td><td>...</td><td>...</td><td>...</td><td>...</td><td>...</td><td>...</td><td>...</td><td>...</td><td>...</td><td>...</td><td>...</td><td>...</td><td>...</td><td>...</td><td>...</td><td>...</td><td>...</td><td>...</td><td>...</td><td>...</td><td>...</td><td>...</td><td>...</td><td>...</td><td>...</td><td>...</td><td>...</td><td>...</td><td>...</td><td>...</td><td>...</td><td>...</td><td>...</td><td>...</td><td>...</td><td>...</td><td>...</td><td>...</td><td>...</td><td>...</td><td>...</td><td>...</td><td>...</td><td>...</td><td>...</td><td>...</td><td>...</td><td>...</td><td>...</td><td>...</td><td>...</td><td>...</td><td>...</td><td>...</td><td>...</td><td>...</td><td>...</td><td>...</td><td>...</td><td>...</td><td>...</td><td>...</td><td>...</td><td>...</td><td>...</td><td>...</td><td>...</td><td>...</td><td>...</td><td>...</td><td>...</td><td>...</td><td>...</td><td>...</td><td>...</td><td>...</td><td>...</td><td>...</td><td>...</td><td>...</td><td>...</td><td>...</td><td>...</td><td>...</td><td>...</td><td>...</td><td>...</td><td>...</td><td>...</td><td>...</td><td>...</td><td>...</td><td>...</td><td>...</td><td>...</td><td>...</td><td>...</td><td>...</td><td>...</td><td>...</td><td>...</td><td>...</td><td>...</td><td>...</td><td>...</td><td>...</td><td>...</td><td>...</td><td>...</td><td>...</td><td>...</td><td>...</td><td>...</td><td>...</td><td>...</td><td>...</td><td>...</td><td>...</td></tr>\n",
       "<tr><td>ceers</td><td>797</td><td>215.1508117551693</td><td>52.95330000792009</td><td>--</td><td>--</td><td>--</td><td>--</td><td>23.444782014058212</td><td>0.008434514651978408</td><td>23.597459526374983</td><td>0.01025523218968297</td><td>--</td><td>--</td><td>--</td><td>--</td><td>--</td><td>--</td><td>--</td><td>--</td><td>23.472622582129606</td><td>0.009287253966466708</td><td>--</td><td>--</td><td>--</td><td>--</td><td>--</td><td>--</td><td>--</td><td>--</td><td>--</td><td>--</td><td>--</td><td>--</td><td>--</td><td>--</td><td>23.96580147949938</td><td>0.006313095325953512</td><td>--</td><td>--</td><td>--</td><td>--</td><td>--</td><td>--</td><td>--</td><td>--</td><td>24.31979077013247</td><td>0.011198017644363031</td><td>--</td><td>--</td><td>--</td><td>--</td><td>23.85637699636609</td><td>0.005971326877627266</td><td>--</td><td>--</td><td>--</td><td>--</td><td>22.917498982609498</td><td>0.007210738341213171</td><td>23.009982687589734</td><td>0.00811379969911346</td><td>--</td><td>--</td><td>--</td><td>--</td><td>--</td><td>--</td><td>--</td><td>--</td><td>22.88245026060498</td><td>0.0072067495072712685</td><td>--</td><td>--</td><td>--</td><td>--</td><td>--</td><td>--</td><td>--</td><td>--</td><td>--</td><td>--</td><td>--</td><td>--</td><td>--</td><td>--</td><td>23.416353090556</td><td>0.005229081632357874</td><td>--</td><td>--</td><td>--</td><td>--</td><td>--</td><td>--</td><td>--</td><td>--</td><td>23.776300752350682</td><td>0.009017263678035107</td><td>--</td><td>--</td><td>--</td><td>--</td><td>23.29121436957417</td><td>0.0047169212932725935</td><td>--</td><td>--</td><td>--</td><td>--</td><td>22.40749257693667</td><td>0.006213017093851549</td><td>22.458295048957613</td><td>0.006511410760641789</td><td>--</td><td>--</td><td>--</td><td>--</td><td>--</td><td>--</td><td>--</td><td>--</td><td>22.318873129890683</td><td>0.005794782690241895</td><td>--</td><td>--</td><td>--</td><td>--</td><td>--</td><td>--</td><td>--</td><td>--</td><td>--</td><td>--</td><td>--</td><td>--</td><td>--</td><td>--</td><td>22.89765041249441</td><td>0.004490900863022362</td><td>--</td><td>--</td><td>--</td><td>--</td><td>--</td><td>--</td><td>--</td><td>--</td><td>23.2439234716672</td><td>0.007326464508995785</td><td>--</td><td>--</td><td>--</td><td>--</td><td>22.75089747033051</td><td>0.0038150854321062915</td><td>--</td><td>--</td><td>--</td><td>--</td><td>21.88464405656909</td><td>0.005393704113634386</td><td>21.918808026228017</td><td>0.005357779045652903</td><td>--</td><td>--</td><td>--</td><td>--</td><td>--</td><td>--</td><td>--</td><td>--</td><td>21.784168621516027</td><td>0.0047595445517357214</td><td>--</td><td>--</td><td>--</td><td>--</td><td>--</td><td>--</td><td>--</td><td>--</td><td>--</td><td>--</td><td>--</td><td>--</td><td>--</td><td>--</td><td>22.366665193208025</td><td>0.004218392677059917</td><td>--</td><td>--</td><td>--</td><td>--</td><td>--</td><td>--</td><td>--</td><td>--</td><td>22.692864857698712</td><td>0.005967396952082411</td><td>--</td><td>--</td><td>--</td><td>--</td><td>22.204968900689302</td><td>0.003118197301838594</td><td>--</td><td>--</td><td>--</td><td>--</td><td>--</td><td>--</td><td>--</td><td>--</td><td>--</td><td>--</td><td>--</td><td>--</td><td>--</td><td>--</td><td>--</td><td>--</td><td>--</td><td>--</td><td>--</td><td>--</td><td>--</td><td>--</td><td>--</td><td>--</td><td>--</td><td>--</td><td>--</td><td>--</td><td>--</td><td>--</td><td>--</td><td>--</td><td>--</td><td>--</td><td>--</td><td>--</td><td>--</td><td>--</td><td>--</td><td>--</td><td>--</td><td>--</td><td>--</td><td>--</td><td>--</td><td>--</td><td>--</td><td>--</td><td>--</td><td>--</td><td>--</td><td>--</td><td>--</td><td>--</td><td>--</td><td>--</td><td>--</td><td>--</td><td>--</td><td>--</td><td>--</td><td>--</td><td>--</td><td>--</td><td>--</td><td>--</td><td>--</td><td>--</td><td>--</td><td>--</td><td>--</td><td>--</td><td>--</td><td>--</td><td>--</td><td>--</td><td>--</td><td>--</td><td>--</td><td>--</td><td>--</td><td>--</td><td>--</td><td>--</td><td>--</td><td>--</td><td>--</td><td>--</td><td>--</td><td>--</td><td>--</td><td>--</td><td>--</td><td>--</td><td>--</td><td>--</td><td>--</td><td>--</td><td>--</td><td>--</td><td>--</td><td>--</td><td>--</td><td>--</td><td>--</td><td>--</td><td>--</td><td>--</td><td>--</td><td>--</td><td>--</td><td>--</td><td>--</td><td>--</td><td>--</td><td>--</td><td>--</td><td>--</td><td>--</td><td>--</td><td>--</td><td>--</td><td>--</td><td>--</td><td>--</td><td>--</td><td>--</td><td>--</td><td>--</td><td>--</td><td>--</td><td>--</td><td>--</td><td>--</td><td>--</td><td>--</td><td>--</td><td>--</td><td>--</td><td>--</td><td>--</td><td>--</td><td>--</td><td>--</td><td>--</td><td>--</td><td>--</td><td>--</td><td>--</td><td>--</td><td>--</td><td>--</td><td>--</td><td>--</td><td>--</td><td>--</td><td>--</td><td>--</td><td>--</td><td>--</td><td>--</td><td>--</td><td>--</td><td>--</td><td>--</td><td>--</td><td>--</td><td>--</td><td>0.2012</td></tr>\n",
       "<tr><td>ceers</td><td>16991</td><td>215.15088639972902</td><td>52.989554617408544</td><td>--</td><td>--</td><td>27.787403446827376</td><td>0.12178060554749814</td><td>27.001280058949863</td><td>0.22140372285057208</td><td>27.079256578101766</td><td>0.0874293380041907</td><td>--</td><td>--</td><td>27.389947189787232</td><td>0.3205851347158563</td><td>--</td><td>--</td><td>--</td><td>--</td><td>27.230836168375706</td><td>0.10721499006255725</td><td>--</td><td>--</td><td>--</td><td>--</td><td>--</td><td>--</td><td>--</td><td>--</td><td>--</td><td>--</td><td>27.58083348863642</td><td>0.2967478041656998</td><td>--</td><td>--</td><td>27.139249834052183</td><td>0.10904054544662965</td><td>--</td><td>--</td><td>30.81606490344799</td><td>0.3409653133043009</td><td>--</td><td>--</td><td>--</td><td>--</td><td>30.625910398538917</td><td>0.4222027217746307</td><td>--</td><td>--</td><td>--</td><td>--</td><td>30.09332118954834</td><td>0.4741000597658788</td><td>--</td><td>--</td><td>27.401426479953017</td><td>0.11729786645305734</td><td>26.971370192627454</td><td>0.30517591987887654</td><td>26.80639355592906</td><td>0.09243350775336215</td><td>--</td><td>--</td><td>26.96901377438654</td><td>0.3070200881604485</td><td>--</td><td>--</td><td>--</td><td>--</td><td>26.856270230938698</td><td>0.10412264906759128</td><td>--</td><td>--</td><td>--</td><td>--</td><td>--</td><td>--</td><td>--</td><td>--</td><td>--</td><td>--</td><td>26.80030093204683</td><td>0.21405713221698475</td><td>--</td><td>--</td><td>26.97698830741394</td><td>0.12904748414635123</td><td>--</td><td>--</td><td>30.46951819719161</td><td>0.33911985421171387</td><td>--</td><td>--</td><td>--</td><td>--</td><td>30.269103967248327</td><td>0.42942859017644947</td><td>--</td><td>--</td><td>--</td><td>--</td><td>30.069869407455737</td><td>0.44262262992967577</td><td>--</td><td>--</td><td>27.171182914459937</td><td>0.1292296763159457</td><td>26.821089249823018</td><td>0.37807690959196844</td><td>26.636327610448294</td><td>0.10735922326035828</td><td>--</td><td>--</td><td>26.747993858328122</td><td>0.3404898238432322</td><td>--</td><td>--</td><td>--</td><td>--</td><td>26.63668135942848</td><td>0.11731055129180637</td><td>--</td><td>--</td><td>--</td><td>--</td><td>--</td><td>--</td><td>--</td><td>--</td><td>--</td><td>--</td><td>27.12751770788479</td><td>0.35484805634887173</td><td>--</td><td>--</td><td>27.143220404462802</td><td>0.20979879679762808</td><td>--</td><td>--</td><td>30.312648094250417</td><td>0.3002252960339099</td><td>--</td><td>--</td><td>--</td><td>--</td><td>29.2598772490536</td><td>0.49521927626723067</td><td>--</td><td>--</td><td>--</td><td>--</td><td>29.61589549696933</td><td>0.45585396325759237</td><td>--</td><td>--</td><td>26.90091064090923</td><td>0.14017976967120135</td><td>26.405627502390427</td><td>0.3783970293610237</td><td>26.481484728879988</td><td>0.1280729730780207</td><td>--</td><td>--</td><td>26.517001759735052</td><td>0.3740240456606037</td><td>--</td><td>--</td><td>--</td><td>--</td><td>26.444531129452024</td><td>0.13823903476972219</td><td>--</td><td>--</td><td>--</td><td>--</td><td>--</td><td>--</td><td>--</td><td>--</td><td>--</td><td>--</td><td>26.618438753051695</td><td>0.3197417955127689</td><td>--</td><td>--</td><td>27.460776761928603</td><td>0.45043415133476916</td><td>--</td><td>--</td><td>29.874483979526772</td><td>0.31501497345090096</td><td>--</td><td>--</td><td>--</td><td>--</td><td>28.548071398856454</td><td>0.4668315493385595</td><td>--</td><td>--</td><td>--</td><td>--</td><td>28.934102109717777</td><td>0.4772818781121417</td><td>--</td><td>--</td><td>--</td><td>--</td><td>--</td><td>--</td><td>--</td><td>--</td><td>--</td><td>--</td><td>--</td><td>--</td><td>--</td><td>--</td><td>--</td><td>--</td><td>--</td><td>--</td><td>--</td><td>--</td><td>--</td><td>--</td><td>--</td><td>--</td><td>--</td><td>--</td><td>--</td><td>--</td><td>--</td><td>--</td><td>--</td><td>--</td><td>--</td><td>--</td><td>--</td><td>--</td><td>--</td><td>--</td><td>--</td><td>--</td><td>--</td><td>--</td><td>--</td><td>--</td><td>--</td><td>--</td><td>--</td><td>--</td><td>--</td><td>--</td><td>--</td><td>--</td><td>--</td><td>--</td><td>--</td><td>--</td><td>--</td><td>--</td><td>--</td><td>--</td><td>--</td><td>--</td><td>--</td><td>--</td><td>--</td><td>--</td><td>--</td><td>--</td><td>--</td><td>--</td><td>--</td><td>--</td><td>--</td><td>--</td><td>--</td><td>--</td><td>--</td><td>--</td><td>--</td><td>--</td><td>--</td><td>--</td><td>--</td><td>--</td><td>--</td><td>--</td><td>--</td><td>--</td><td>--</td><td>--</td><td>--</td><td>--</td><td>--</td><td>--</td><td>--</td><td>--</td><td>--</td><td>--</td><td>--</td><td>--</td><td>--</td><td>--</td><td>--</td><td>--</td><td>--</td><td>--</td><td>--</td><td>--</td><td>--</td><td>--</td><td>--</td><td>--</td><td>--</td><td>--</td><td>--</td><td>--</td><td>--</td><td>--</td><td>--</td><td>--</td><td>--</td><td>--</td><td>--</td><td>--</td><td>--</td><td>--</td><td>--</td><td>--</td><td>--</td><td>--</td><td>--</td><td>--</td><td>--</td><td>--</td><td>--</td><td>--</td><td>--</td><td>--</td><td>--</td><td>--</td><td>--</td><td>--</td><td>--</td><td>--</td><td>--</td><td>--</td><td>--</td><td>--</td><td>--</td><td>--</td><td>--</td><td>--</td><td>--</td><td>--</td><td>--</td><td>--</td><td>--</td><td>--</td><td>--</td><td>--</td><td>--</td><td>--</td><td>--</td><td>--</td><td>--</td><td>--</td><td>--</td><td>--</td><td>7.74</td></tr>\n",
       "<tr><td>ceers</td><td>8910</td><td>215.15126116606314</td><td>52.974230497173565</td><td>--</td><td>--</td><td>--</td><td>--</td><td>24.36957820290869</td><td>0.004017025156299939</td><td>24.536907563418293</td><td>0.015420500449424569</td><td>--</td><td>--</td><td>24.51688721723805</td><td>0.03129113825662768</td><td>--</td><td>--</td><td>24.254484600577452</td><td>0.0044844558159796225</td><td>24.507023210557655</td><td>0.01416943916121781</td><td>--</td><td>--</td><td>--</td><td>--</td><td>24.120338777266642</td><td>0.003678716588501945</td><td>--</td><td>--</td><td>--</td><td>--</td><td>26.31265500823987</td><td>0.0665633991521182</td><td>24.051092097475784</td><td>0.004152345854521009</td><td>24.18869565100897</td><td>0.003337715004645737</td><td>24.40931565370875</td><td>0.006498331830090309</td><td>26.030262348758022</td><td>0.021708650942754485</td><td>24.56963280477458</td><td>0.00666737993913625</td><td>--</td><td>--</td><td>25.51677608891368</td><td>0.022718266737781014</td><td>--</td><td>--</td><td>--</td><td>--</td><td>24.787706787255654</td><td>0.01096372982623193</td><td>--</td><td>--</td><td>--</td><td>--</td><td>23.796811234094285</td><td>0.0031797096974435744</td><td>23.943772322752825</td><td>0.012063001672048391</td><td>--</td><td>--</td><td>23.963236198122733</td><td>0.026839717951916153</td><td>--</td><td>--</td><td>23.685576606628114</td><td>0.0036028089205695753</td><td>23.90703093991513</td><td>0.011177916020113764</td><td>--</td><td>--</td><td>--</td><td>--</td><td>23.558858872011914</td><td>0.0029213066688716888</td><td>--</td><td>--</td><td>--</td><td>--</td><td>25.82479151245401</td><td>0.058462882749407696</td><td>23.48207373004267</td><td>0.004107130377157982</td><td>23.61589657148511</td><td>0.0026140267169754523</td><td>23.83137273982627</td><td>0.005293537357489128</td><td>25.39786444047521</td><td>0.01668780514372582</td><td>23.990547325796058</td><td>0.005465941155212429</td><td>--</td><td>--</td><td>24.925709308045185</td><td>0.01800535739836699</td><td>--</td><td>--</td><td>--</td><td>--</td><td>24.192184864007366</td><td>0.00854027986032847</td><td>--</td><td>--</td><td>--</td><td>--</td><td>23.319374959505982</td><td>0.0027039344391135136</td><td>23.437415966648988</td><td>0.010184390151131373</td><td>--</td><td>--</td><td>23.448557126057253</td><td>0.022601941520898363</td><td>--</td><td>--</td><td>23.207819133118896</td><td>0.0031175126150589684</td><td>23.378442443385012</td><td>0.009334239867549493</td><td>--</td><td>--</td><td>--</td><td>--</td><td>23.079184903159927</td><td>0.002486376696958433</td><td>--</td><td>--</td><td>--</td><td>--</td><td>25.39709567387913</td><td>0.05452643989419384</td><td>22.994836185854368</td><td>0.0029833431922286218</td><td>23.123193578934547</td><td>0.0021499941285473244</td><td>23.33801925233256</td><td>0.004578247575158125</td><td>24.91267909197456</td><td>0.014500419539616638</td><td>23.48644098837716</td><td>0.004645472686846894</td><td>--</td><td>--</td><td>24.43107720321216</td><td>0.015492556177907561</td><td>--</td><td>--</td><td>--</td><td>--</td><td>23.695666586117312</td><td>0.0071553468588545</td><td>--</td><td>--</td><td>--</td><td>--</td><td>22.99440370734486</td><td>0.0026289714208721135</td><td>23.06199418366025</td><td>0.00984589540081336</td><td>--</td><td>--</td><td>23.05478156796146</td><td>0.021593390540544256</td><td>--</td><td>--</td><td>22.874461022111884</td><td>0.0030809662778094713</td><td>22.9931044343304</td><td>0.00882402315689175</td><td>--</td><td>--</td><td>--</td><td>--</td><td>22.746499252618168</td><td>0.0024059104468284243</td><td>--</td><td>--</td><td>--</td><td>--</td><td>25.04010029200277</td><td>0.05562746039024824</td><td>22.651479843908003</td><td>0.0025409899097161145</td><td>22.774911612446516</td><td>0.0019801665715394956</td><td>22.988134873273232</td><td>0.004535450996997457</td><td>24.643506950836983</td><td>0.015440324729214102</td><td>23.12815891532614</td><td>0.004504860256275158</td><td>--</td><td>--</td><td>24.14700680539629</td><td>0.016395371582202625</td><td>--</td><td>--</td><td>--</td><td>--</td><td>23.363766468732315</td><td>0.006989257515934263</td><td>--</td><td>--</td><td>--</td><td>--</td><td>--</td><td>--</td><td>--</td><td>--</td><td>--</td><td>--</td><td>--</td><td>--</td><td>--</td><td>--</td><td>--</td><td>--</td><td>--</td><td>--</td><td>--</td><td>--</td><td>--</td><td>--</td><td>--</td><td>--</td><td>--</td><td>--</td><td>--</td><td>--</td><td>--</td><td>--</td><td>--</td><td>--</td><td>--</td><td>--</td><td>--</td><td>--</td><td>--</td><td>--</td><td>--</td><td>--</td><td>--</td><td>--</td><td>--</td><td>--</td><td>--</td><td>--</td><td>--</td><td>--</td><td>--</td><td>--</td><td>--</td><td>--</td><td>--</td><td>--</td><td>--</td><td>--</td><td>--</td><td>--</td><td>--</td><td>--</td><td>--</td><td>--</td><td>--</td><td>--</td><td>--</td><td>--</td><td>--</td><td>--</td><td>--</td><td>--</td><td>--</td><td>--</td><td>--</td><td>--</td><td>--</td><td>--</td><td>--</td><td>--</td><td>--</td><td>--</td><td>--</td><td>--</td><td>--</td><td>--</td><td>--</td><td>--</td><td>--</td><td>--</td><td>--</td><td>--</td><td>--</td><td>--</td><td>--</td><td>--</td><td>--</td><td>--</td><td>--</td><td>--</td><td>--</td><td>--</td><td>--</td><td>--</td><td>--</td><td>--</td><td>--</td><td>--</td><td>--</td><td>--</td><td>--</td><td>--</td><td>--</td><td>--</td><td>--</td><td>--</td><td>--</td><td>--</td><td>--</td><td>--</td><td>--</td><td>--</td><td>--</td><td>--</td><td>--</td><td>--</td><td>--</td><td>--</td><td>--</td><td>--</td><td>--</td><td>--</td><td>--</td><td>--</td><td>--</td><td>--</td><td>--</td><td>--</td><td>--</td><td>--</td><td>--</td><td>--</td><td>--</td><td>--</td><td>--</td><td>--</td><td>--</td><td>--</td><td>--</td><td>--</td><td>--</td><td>--</td><td>--</td><td>--</td><td>--</td><td>--</td><td>--</td><td>--</td><td>--</td><td>--</td><td>--</td><td>--</td><td>--</td><td>--</td><td>--</td><td>--</td><td>--</td><td>--</td><td>--</td><td>--</td><td>0.8079</td></tr>\n",
       "<tr><td>ceers</td><td>8464</td><td>215.1520355562678</td><td>52.97404432091189</td><td>--</td><td>--</td><td>--</td><td>--</td><td>26.189681875666125</td><td>0.015955752984801515</td><td>26.416621137436284</td><td>0.07054038703075693</td><td>--</td><td>--</td><td>26.333786224076274</td><td>0.14553223292377762</td><td>--</td><td>--</td><td>25.891375058700017</td><td>0.016616415706279766</td><td>26.235870010408135</td><td>0.05623057024635485</td><td>--</td><td>--</td><td>--</td><td>--</td><td>25.40468796202811</td><td>0.009471477964742476</td><td>--</td><td>--</td><td>--</td><td>--</td><td>28.469040421614984</td><td>0.2994511354212218</td><td>24.930449893155338</td><td>0.006022626536135842</td><td>24.78461870915859</td><td>0.004762971084677135</td><td>24.91607301992152</td><td>0.010650561085803782</td><td>29.620498534828254</td><td>0.36779936133681457</td><td>24.857357104962947</td><td>0.009010314078062544</td><td>--</td><td>--</td><td>27.605172103807796</td><td>0.12311039528987168</td><td>--</td><td>--</td><td>--</td><td>--</td><td>26.57369886529646</td><td>0.04387155271150941</td><td>--</td><td>--</td><td>--</td><td>--</td><td>25.739326748757797</td><td>0.014338776240017472</td><td>25.886510858107577</td><td>0.060148923858785654</td><td>--</td><td>--</td><td>25.770457744813896</td><td>0.11942961964540018</td><td>--</td><td>--</td><td>25.458838190606752</td><td>0.015385854047450324</td><td>25.717763854341985</td><td>0.048812592225407195</td><td>--</td><td>--</td><td>--</td><td>--</td><td>24.971509872269475</td><td>0.008532999142621069</td><td>--</td><td>--</td><td>--</td><td>--</td><td>28.29176102178081</td><td>0.31154402377144697</td><td>24.501161950636348</td><td>0.00519567908571379</td><td>24.35238868070152</td><td>0.004104037002873249</td><td>24.496611565759554</td><td>0.009235022995794907</td><td>29.316663593860227</td><td>0.3756954672543001</td><td>24.446547399938122</td><td>0.0078424417140604</td><td>--</td><td>--</td><td>26.978358072403687</td><td>0.10021948590434038</td><td>--</td><td>--</td><td>--</td><td>--</td><td>26.098803658679355</td><td>0.03841764260643087</td><td>--</td><td>--</td><td>--</td><td>--</td><td>25.537242828478995</td><td>0.016115344211898416</td><td>25.513074108194047</td><td>0.058505914621835915</td><td>--</td><td>--</td><td>25.46277394412633</td><td>0.12656169046738786</td><td>--</td><td>--</td><td>25.236520017102542</td><td>0.01704983558231982</td><td>25.34880060623461</td><td>0.04798820043969353</td><td>--</td><td>--</td><td>--</td><td>--</td><td>24.722420024747965</td><td>0.009120075969497399</td><td>--</td><td>--</td><td>--</td><td>--</td><td>28.065501644722314</td><td>0.3204045869285019</td><td>24.23901000621761</td><td>0.005183684037499125</td><td>24.064726677272915</td><td>0.003996837717797111</td><td>24.200472773054454</td><td>0.009154691756719763</td><td>29.051787016161494</td><td>0.3870450505493904</td><td>24.15708559007158</td><td>0.007758224824171378</td><td>--</td><td>--</td><td>26.67888430794539</td><td>0.10899178737197521</td><td>--</td><td>--</td><td>--</td><td>--</td><td>25.8493320583028</td><td>0.04149218881723612</td><td>--</td><td>--</td><td>--</td><td>--</td><td>25.353283888073253</td><td>0.019031274501408565</td><td>25.28506764691391</td><td>0.06715520471791353</td><td>--</td><td>--</td><td>25.289327669827642</td><td>0.15109331959078653</td><td>--</td><td>--</td><td>25.098806798881917</td><td>0.021167968227139285</td><td>25.127219824693874</td><td>0.05495951735523563</td><td>--</td><td>--</td><td>--</td><td>--</td><td>24.548559783923352</td><td>0.010835694695659419</td><td>--</td><td>--</td><td>--</td><td>--</td><td>27.92036578037</td><td>0.32218520204950185</td><td>24.091284672178027</td><td>0.006239107320836538</td><td>23.8939380993218</td><td>0.004489744985164215</td><td>24.04513508990042</td><td>0.011289274601735897</td><td>29.15942340887926</td><td>0.4125998455578266</td><td>23.9842658140872</td><td>0.009328409720490259</td><td>--</td><td>--</td><td>26.551301121136554</td><td>0.13642541510942166</td><td>--</td><td>--</td><td>--</td><td>--</td><td>25.757354720166017</td><td>0.05302460141966789</td><td>--</td><td>--</td><td>--</td><td>--</td><td>--</td><td>--</td><td>--</td><td>--</td><td>--</td><td>--</td><td>--</td><td>--</td><td>--</td><td>--</td><td>--</td><td>--</td><td>--</td><td>--</td><td>--</td><td>--</td><td>--</td><td>--</td><td>--</td><td>--</td><td>--</td><td>--</td><td>--</td><td>--</td><td>--</td><td>--</td><td>--</td><td>--</td><td>--</td><td>--</td><td>--</td><td>--</td><td>--</td><td>--</td><td>--</td><td>--</td><td>--</td><td>--</td><td>--</td><td>--</td><td>--</td><td>--</td><td>--</td><td>--</td><td>--</td><td>--</td><td>--</td><td>--</td><td>--</td><td>--</td><td>--</td><td>--</td><td>--</td><td>--</td><td>--</td><td>--</td><td>--</td><td>--</td><td>--</td><td>--</td><td>--</td><td>--</td><td>--</td><td>--</td><td>--</td><td>--</td><td>--</td><td>--</td><td>--</td><td>--</td><td>--</td><td>--</td><td>--</td><td>--</td><td>--</td><td>--</td><td>--</td><td>--</td><td>--</td><td>--</td><td>--</td><td>--</td><td>--</td><td>--</td><td>--</td><td>--</td><td>--</td><td>--</td><td>--</td><td>--</td><td>--</td><td>--</td><td>--</td><td>--</td><td>--</td><td>--</td><td>--</td><td>--</td><td>--</td><td>--</td><td>--</td><td>--</td><td>--</td><td>--</td><td>--</td><td>--</td><td>--</td><td>--</td><td>--</td><td>--</td><td>--</td><td>--</td><td>--</td><td>--</td><td>--</td><td>--</td><td>--</td><td>--</td><td>--</td><td>--</td><td>--</td><td>--</td><td>--</td><td>--</td><td>--</td><td>--</td><td>--</td><td>--</td><td>--</td><td>--</td><td>--</td><td>--</td><td>--</td><td>--</td><td>--</td><td>--</td><td>--</td><td>--</td><td>--</td><td>--</td><td>--</td><td>--</td><td>--</td><td>--</td><td>--</td><td>--</td><td>--</td><td>--</td><td>--</td><td>--</td><td>--</td><td>--</td><td>--</td><td>--</td><td>--</td><td>--</td><td>--</td><td>--</td><td>--</td><td>--</td><td>--</td><td>--</td><td>--</td><td>--</td><td>8.998</td></tr>\n",
       "<tr><td>ceers</td><td>3134</td><td>215.15210559417966</td><td>52.96301146172713</td><td>--</td><td>--</td><td>--</td><td>--</td><td>23.145395711911156</td><td>0.002239168089110815</td><td>23.392307272011053</td><td>0.006407206789216467</td><td>--</td><td>--</td><td>--</td><td>--</td><td>--</td><td>--</td><td>22.97210171591406</td><td>0.0022355777087935016</td><td>23.319513961370028</td><td>0.005633523001999488</td><td>--</td><td>--</td><td>--</td><td>--</td><td>22.735370606056108</td><td>0.0018188709973009738</td><td>--</td><td>--</td><td>--</td><td>--</td><td>25.615463402232024</td><td>0.05293123537262203</td><td>22.665000532244477</td><td>0.0014686527919782304</td><td>22.84577913886081</td><td>0.0015790245277530104</td><td>23.186233119943854</td><td>0.002381574273432702</td><td>24.940298519538434</td><td>0.009255727847746947</td><td>23.259817379253075</td><td>0.0023809775259288225</td><td>--</td><td>--</td><td>24.2400516097966</td><td>0.010687761744580837</td><td>--</td><td>--</td><td>--</td><td>--</td><td>23.570738013963123</td><td>0.004907571110660335</td><td>--</td><td>--</td><td>--</td><td>--</td><td>22.87855756815452</td><td>0.002176250021806493</td><td>23.0024149952505</td><td>0.005680678689478645</td><td>--</td><td>--</td><td>--</td><td>--</td><td>--</td><td>--</td><td>22.705163490889227</td><td>0.0022961166077379554</td><td>22.918948235066686</td><td>0.004939891766427064</td><td>--</td><td>--</td><td>--</td><td>--</td><td>22.47841638943549</td><td>0.0017578708876170087</td><td>--</td><td>--</td><td>--</td><td>--</td><td>25.3455285588289</td><td>0.055122384022932513</td><td>22.381077444709174</td><td>0.0013314453143732847</td><td>22.54926379517024</td><td>0.0014128204251180818</td><td>22.87695377279449</td><td>0.002301354829847769</td><td>24.67132620652466</td><td>0.00912893175632205</td><td>22.947302640685805</td><td>0.0022768540522628993</td><td>--</td><td>--</td><td>23.973452539471523</td><td>0.01028999723467878</td><td>--</td><td>--</td><td>--</td><td>--</td><td>23.281368894476344</td><td>0.004564323537365147</td><td>--</td><td>--</td><td>--</td><td>--</td><td>22.640296784946923</td><td>0.002233778411923094</td><td>22.7054875537298</td><td>0.005507299829266902</td><td>--</td><td>--</td><td>--</td><td>--</td><td>--</td><td>--</td><td>22.47318628686294</td><td>0.0024545045065218025</td><td>22.59202384589038</td><td>0.00458780463970026</td><td>--</td><td>--</td><td>--</td><td>--</td><td>22.204516499956963</td><td>0.0017202611140362378</td><td>--</td><td>--</td><td>--</td><td>--</td><td>25.191441631668862</td><td>0.06481797928625697</td><td>22.153143463365986</td><td>0.0012662971523416673</td><td>22.314440404329243</td><td>0.0013262734566439425</td><td>22.62148643918756</td><td>0.0023661689251058137</td><td>24.45844960547049</td><td>0.009592788725746638</td><td>22.684860879131637</td><td>0.002302841479469239</td><td>--</td><td>--</td><td>23.73355755750517</td><td>0.010344729442366966</td><td>--</td><td>--</td><td>--</td><td>--</td><td>23.027852567135515</td><td>0.0044535762064516595</td><td>--</td><td>--</td><td>--</td><td>--</td><td>22.445419619432954</td><td>0.0030384036202285073</td><td>22.485359324633457</td><td>0.005833534532980928</td><td>--</td><td>--</td><td>--</td><td>--</td><td>--</td><td>--</td><td>22.236254702259817</td><td>0.0067081488086744795</td><td>22.365373220569705</td><td>0.004744233300196157</td><td>--</td><td>--</td><td>--</td><td>--</td><td>21.947149855918383</td><td>0.0017475877922029372</td><td>--</td><td>--</td><td>--</td><td>--</td><td>25.123384320250057</td><td>0.08468670368076427</td><td>21.9738925578182</td><td>0.0012685781203177677</td><td>22.133968931308193</td><td>0.001318078124869843</td><td>22.4376987561344</td><td>0.002637145381374473</td><td>24.266420824240292</td><td>0.010668564558649382</td><td>22.498807393999503</td><td>0.002529541481650336</td><td>--</td><td>--</td><td>23.546147481945443</td><td>0.011338833141579824</td><td>--</td><td>--</td><td>--</td><td>--</td><td>22.831947757068654</td><td>0.0046949862709285365</td><td>--</td><td>--</td><td>--</td><td>--</td><td>--</td><td>--</td><td>--</td><td>--</td><td>--</td><td>--</td><td>--</td><td>--</td><td>--</td><td>--</td><td>--</td><td>--</td><td>--</td><td>--</td><td>--</td><td>--</td><td>--</td><td>--</td><td>--</td><td>--</td><td>--</td><td>--</td><td>--</td><td>--</td><td>--</td><td>--</td><td>--</td><td>--</td><td>--</td><td>--</td><td>--</td><td>--</td><td>--</td><td>--</td><td>--</td><td>--</td><td>--</td><td>--</td><td>--</td><td>--</td><td>--</td><td>--</td><td>--</td><td>--</td><td>--</td><td>--</td><td>--</td><td>--</td><td>--</td><td>--</td><td>--</td><td>--</td><td>--</td><td>--</td><td>--</td><td>--</td><td>--</td><td>--</td><td>--</td><td>--</td><td>--</td><td>--</td><td>--</td><td>--</td><td>--</td><td>--</td><td>--</td><td>--</td><td>--</td><td>--</td><td>--</td><td>--</td><td>--</td><td>--</td><td>--</td><td>--</td><td>--</td><td>--</td><td>--</td><td>--</td><td>--</td><td>--</td><td>--</td><td>--</td><td>--</td><td>--</td><td>--</td><td>--</td><td>--</td><td>--</td><td>--</td><td>--</td><td>--</td><td>--</td><td>--</td><td>--</td><td>--</td><td>--</td><td>--</td><td>--</td><td>--</td><td>--</td><td>--</td><td>--</td><td>--</td><td>--</td><td>--</td><td>--</td><td>--</td><td>--</td><td>--</td><td>--</td><td>--</td><td>--</td><td>--</td><td>--</td><td>--</td><td>--</td><td>--</td><td>--</td><td>--</td><td>--</td><td>--</td><td>--</td><td>--</td><td>--</td><td>--</td><td>--</td><td>--</td><td>--</td><td>--</td><td>--</td><td>--</td><td>--</td><td>--</td><td>--</td><td>--</td><td>--</td><td>--</td><td>--</td><td>--</td><td>--</td><td>--</td><td>--</td><td>--</td><td>--</td><td>--</td><td>--</td><td>--</td><td>--</td><td>--</td><td>--</td><td>--</td><td>--</td><td>--</td><td>--</td><td>--</td><td>--</td><td>--</td><td>--</td><td>--</td><td>--</td><td>--</td><td>--</td><td>0.6915</td></tr>\n",
       "<tr><td>ceers</td><td>789</td><td>215.15422053802376</td><td>52.95581829662729</td><td>--</td><td>--</td><td>--</td><td>--</td><td>26.540492669228627</td><td>0.13852211219569613</td><td>27.08074437769766</td><td>0.2194336454059194</td><td>--</td><td>--</td><td>--</td><td>--</td><td>--</td><td>--</td><td>--</td><td>--</td><td>26.918700855898283</td><td>0.2404203504522404</td><td>--</td><td>--</td><td>--</td><td>--</td><td>--</td><td>--</td><td>--</td><td>--</td><td>--</td><td>--</td><td>--</td><td>--</td><td>--</td><td>--</td><td>26.136482866132383</td><td>0.043272126037807855</td><td>--</td><td>--</td><td>30.54264947281063</td><td>0.3511188054513726</td><td>--</td><td>--</td><td>--</td><td>--</td><td>28.76879168819117</td><td>0.37732935044705035</td><td>--</td><td>--</td><td>--</td><td>--</td><td>26.929912332339867</td><td>0.07177364429776681</td><td>--</td><td>--</td><td>--</td><td>--</td><td>26.38279448220862</td><td>0.16434629097669232</td><td>26.65572090009109</td><td>0.2128402106802159</td><td>--</td><td>--</td><td>--</td><td>--</td><td>--</td><td>--</td><td>--</td><td>--</td><td>26.520006167980565</td><td>0.23431653900079233</td><td>--</td><td>--</td><td>--</td><td>--</td><td>--</td><td>--</td><td>--</td><td>--</td><td>--</td><td>--</td><td>--</td><td>--</td><td>--</td><td>--</td><td>25.84043952706089</td><td>0.046400117199718344</td><td>--</td><td>--</td><td>30.38163056696546</td><td>0.3323515542435862</td><td>--</td><td>--</td><td>--</td><td>--</td><td>28.075603628957573</td><td>0.2901456217107847</td><td>--</td><td>--</td><td>--</td><td>--</td><td>26.562308629420855</td><td>0.06951189389622815</td><td>--</td><td>--</td><td>--</td><td>--</td><td>26.106567733407875</td><td>0.17882548233529702</td><td>26.33805491991937</td><td>0.22326160164640746</td><td>--</td><td>--</td><td>--</td><td>--</td><td>--</td><td>--</td><td>--</td><td>--</td><td>26.133203771402478</td><td>0.22991157281899588</td><td>--</td><td>--</td><td>--</td><td>--</td><td>--</td><td>--</td><td>--</td><td>--</td><td>--</td><td>--</td><td>--</td><td>--</td><td>--</td><td>--</td><td>25.677396701243776</td><td>0.05596784196260011</td><td>--</td><td>--</td><td>30.201036804151485</td><td>0.30551838494767014</td><td>--</td><td>--</td><td>--</td><td>--</td><td>27.81733089685283</td><td>0.3198391793684374</td><td>--</td><td>--</td><td>--</td><td>--</td><td>26.32727426070759</td><td>0.07662283808859864</td><td>--</td><td>--</td><td>--</td><td>--</td><td>25.655321912925242</td><td>0.16757546341244733</td><td>26.15338907689323</td><td>0.26366015030795215</td><td>--</td><td>--</td><td>--</td><td>--</td><td>--</td><td>--</td><td>--</td><td>--</td><td>25.65472614067931</td><td>0.21136518316088046</td><td>--</td><td>--</td><td>--</td><td>--</td><td>--</td><td>--</td><td>--</td><td>--</td><td>--</td><td>--</td><td>--</td><td>--</td><td>--</td><td>--</td><td>25.45764690143389</td><td>0.26295035736089883</td><td>--</td><td>--</td><td>29.533986679171132</td><td>0.35823832629218005</td><td>--</td><td>--</td><td>--</td><td>--</td><td>27.422907325062063</td><td>0.3149808314246853</td><td>--</td><td>--</td><td>--</td><td>--</td><td>26.16121570305165</td><td>0.0919901110694185</td><td>--</td><td>--</td><td>--</td><td>--</td><td>--</td><td>--</td><td>--</td><td>--</td><td>--</td><td>--</td><td>--</td><td>--</td><td>--</td><td>--</td><td>--</td><td>--</td><td>--</td><td>--</td><td>--</td><td>--</td><td>--</td><td>--</td><td>--</td><td>--</td><td>--</td><td>--</td><td>--</td><td>--</td><td>--</td><td>--</td><td>--</td><td>--</td><td>--</td><td>--</td><td>--</td><td>--</td><td>--</td><td>--</td><td>--</td><td>--</td><td>--</td><td>--</td><td>--</td><td>--</td><td>--</td><td>--</td><td>--</td><td>--</td><td>--</td><td>--</td><td>--</td><td>--</td><td>--</td><td>--</td><td>--</td><td>--</td><td>--</td><td>--</td><td>--</td><td>--</td><td>--</td><td>--</td><td>--</td><td>--</td><td>--</td><td>--</td><td>--</td><td>--</td><td>--</td><td>--</td><td>--</td><td>--</td><td>--</td><td>--</td><td>--</td><td>--</td><td>--</td><td>--</td><td>--</td><td>--</td><td>--</td><td>--</td><td>--</td><td>--</td><td>--</td><td>--</td><td>--</td><td>--</td><td>--</td><td>--</td><td>--</td><td>--</td><td>--</td><td>--</td><td>--</td><td>--</td><td>--</td><td>--</td><td>--</td><td>--</td><td>--</td><td>--</td><td>--</td><td>--</td><td>--</td><td>--</td><td>--</td><td>--</td><td>--</td><td>--</td><td>--</td><td>--</td><td>--</td><td>--</td><td>--</td><td>--</td><td>--</td><td>--</td><td>--</td><td>--</td><td>--</td><td>--</td><td>--</td><td>--</td><td>--</td><td>--</td><td>--</td><td>--</td><td>--</td><td>--</td><td>--</td><td>--</td><td>--</td><td>--</td><td>--</td><td>--</td><td>--</td><td>--</td><td>--</td><td>--</td><td>--</td><td>--</td><td>--</td><td>--</td><td>--</td><td>--</td><td>--</td><td>--</td><td>--</td><td>--</td><td>--</td><td>--</td><td>--</td><td>--</td><td>--</td><td>--</td><td>--</td><td>--</td><td>--</td><td>--</td><td>--</td><td>--</td><td>--</td><td>--</td><td>--</td><td>--</td><td>--</td><td>--</td><td>5.28</td></tr>\n",
       "<tr><td>ceers</td><td>6493</td><td>215.15912116349713</td><td>52.975414822024135</td><td>--</td><td>--</td><td>--</td><td>--</td><td>24.99124987093338</td><td>0.006281056875584053</td><td>25.189734719091188</td><td>0.025823866955117104</td><td>--</td><td>--</td><td>25.131027435252886</td><td>0.050957619174639146</td><td>--</td><td>--</td><td>24.84162312535029</td><td>0.006974194083750956</td><td>25.15311029511509</td><td>0.023373366959332655</td><td>--</td><td>--</td><td>--</td><td>--</td><td>24.808081425355585</td><td>0.0059384518821823115</td><td>--</td><td>--</td><td>--</td><td>--</td><td>26.65340214372382</td><td>0.13535929175334674</td><td>24.959204041818886</td><td>0.005866763600070433</td><td>25.416130894545972</td><td>0.007470603945479664</td><td>25.632005945019785</td><td>0.016050396248767168</td><td>26.01730835655682</td><td>0.023121899108282426</td><td>25.684089512312223</td><td>0.015518807210986394</td><td>--</td><td>--</td><td>25.39741579127707</td><td>0.020330090269108377</td><td>--</td><td>--</td><td>--</td><td>--</td><td>24.970229802992385</td><td>0.014513718677987973</td><td>--</td><td>--</td><td>--</td><td>--</td><td>24.417630943816135</td><td>0.00500368614586996</td><td>24.611788673681936</td><td>0.020472829273584348</td><td>--</td><td>--</td><td>24.53524005727463</td><td>0.04040674393832632</td><td>--</td><td>--</td><td>24.262487571980593</td><td>0.005567511541800407</td><td>24.546123859406528</td><td>0.018277234051094982</td><td>--</td><td>--</td><td>--</td><td>--</td><td>24.247195314605523</td><td>0.004821792069102604</td><td>--</td><td>--</td><td>--</td><td>--</td><td>26.206657745891242</td><td>0.12505696258666843</td><td>24.376837722746295</td><td>0.004637604164479737</td><td>24.837097190118026</td><td>0.005904815826493682</td><td>25.03626364643148</td><td>0.012885551021331267</td><td>25.389090518948873</td><td>0.01759530714726528</td><td>25.116765651279813</td><td>0.012650739846690778</td><td>--</td><td>--</td><td>24.78070607551047</td><td>0.015579237199279339</td><td>--</td><td>--</td><td>--</td><td>--</td><td>24.341827285815747</td><td>0.01097510292659236</td><td>--</td><td>--</td><td>--</td><td>--</td><td>24.024291694580207</td><td>0.004628923413408886</td><td>24.133796621190747</td><td>0.018106653164817754</td><td>--</td><td>--</td><td>24.082360682100827</td><td>0.036919537723577846</td><td>--</td><td>--</td><td>23.868398459212205</td><td>0.005251134759635898</td><td>24.064353504211333</td><td>0.015887021616975926</td><td>--</td><td>--</td><td>--</td><td>--</td><td>23.85645823269057</td><td>0.004505846660174734</td><td>--</td><td>--</td><td>--</td><td>--</td><td>25.674368282678966</td><td>0.10787869659381108</td><td>23.966509989757203</td><td>0.0042079491881316594</td><td>24.403260310272504</td><td>0.0052689475845914035</td><td>24.600924892556286</td><td>0.012082715609520414</td><td>25.035993252571643</td><td>0.017254534903415716</td><td>24.696167922230188</td><td>0.011861564712323946</td><td>--</td><td>--</td><td>24.385580601657853</td><td>0.014381626336117632</td><td>--</td><td>--</td><td>--</td><td>--</td><td>23.93672924312553</td><td>0.009854723536428923</td><td>--</td><td>--</td><td>--</td><td>--</td><td>23.72173652778917</td><td>0.004720309990232743</td><td>23.777295145366516</td><td>0.017920042044963832</td><td>--</td><td>--</td><td>23.772089949623517</td><td>0.03852813968155238</td><td>--</td><td>--</td><td>23.56760743520485</td><td>0.005487725357280342</td><td>23.680169954017966</td><td>0.015358429530681795</td><td>--</td><td>--</td><td>--</td><td>--</td><td>23.55565604278143</td><td>0.004626214644376754</td><td>--</td><td>--</td><td>--</td><td>--</td><td>25.26863203914498</td><td>0.10470293515923308</td><td>23.65579799762402</td><td>0.004279881425690838</td><td>24.0860761255953</td><td>0.005322467704212072</td><td>24.272133692915087</td><td>0.012781323238836809</td><td>24.745869502084506</td><td>0.018008689035049378</td><td>24.37653392861239</td><td>0.012505886264021436</td><td>--</td><td>--</td><td>24.099609383818457</td><td>0.014978050949726632</td><td>--</td><td>--</td><td>--</td><td>--</td><td>23.656677268703078</td><td>0.010013523990665204</td><td>--</td><td>--</td><td>--</td><td>--</td><td>--</td><td>--</td><td>--</td><td>--</td><td>--</td><td>--</td><td>--</td><td>--</td><td>--</td><td>--</td><td>--</td><td>--</td><td>--</td><td>--</td><td>--</td><td>--</td><td>--</td><td>--</td><td>--</td><td>--</td><td>--</td><td>--</td><td>--</td><td>--</td><td>--</td><td>--</td><td>--</td><td>--</td><td>--</td><td>--</td><td>--</td><td>--</td><td>--</td><td>--</td><td>--</td><td>--</td><td>--</td><td>--</td><td>--</td><td>--</td><td>--</td><td>--</td><td>--</td><td>--</td><td>--</td><td>--</td><td>--</td><td>--</td><td>--</td><td>--</td><td>--</td><td>--</td><td>--</td><td>--</td><td>--</td><td>--</td><td>--</td><td>--</td><td>--</td><td>--</td><td>--</td><td>--</td><td>--</td><td>--</td><td>--</td><td>--</td><td>--</td><td>--</td><td>--</td><td>--</td><td>--</td><td>--</td><td>--</td><td>--</td><td>--</td><td>--</td><td>--</td><td>--</td><td>--</td><td>--</td><td>--</td><td>--</td><td>--</td><td>--</td><td>--</td><td>--</td><td>--</td><td>--</td><td>--</td><td>--</td><td>--</td><td>--</td><td>--</td><td>--</td><td>--</td><td>--</td><td>--</td><td>--</td><td>--</td><td>--</td><td>--</td><td>--</td><td>--</td><td>--</td><td>--</td><td>--</td><td>--</td><td>--</td><td>--</td><td>--</td><td>--</td><td>--</td><td>--</td><td>--</td><td>--</td><td>--</td><td>--</td><td>--</td><td>--</td><td>--</td><td>--</td><td>--</td><td>--</td><td>--</td><td>--</td><td>--</td><td>--</td><td>--</td><td>--</td><td>--</td><td>--</td><td>--</td><td>--</td><td>--</td><td>--</td><td>--</td><td>--</td><td>--</td><td>--</td><td>--</td><td>--</td><td>--</td><td>--</td><td>--</td><td>--</td><td>--</td><td>--</td><td>--</td><td>--</td><td>--</td><td>--</td><td>--</td><td>--</td><td>--</td><td>--</td><td>--</td><td>--</td><td>--</td><td>--</td><td>--</td><td>--</td><td>--</td><td>--</td><td>--</td><td>0.4478</td></tr>\n",
       "<tr><td>ceers</td><td>8120</td><td>215.16568782855492</td><td>52.98269966699642</td><td>--</td><td>--</td><td>--</td><td>--</td><td>24.1283136857458</td><td>0.015084308944433853</td><td>24.11948197273091</td><td>0.011574027135318968</td><td>--</td><td>--</td><td>23.880739635605902</td><td>0.01871839583010473</td><td>--</td><td>--</td><td>--</td><td>--</td><td>23.725708721603837</td><td>0.008431415780733757</td><td>--</td><td>--</td><td>--</td><td>--</td><td>--</td><td>--</td><td>--</td><td>--</td><td>--</td><td>--</td><td>29.486900329648602</td><td>0.38622980716893374</td><td>--</td><td>--</td><td>22.311929131749565</td><td>0.0017538600016679014</td><td>--</td><td>--</td><td>--</td><td>--</td><td>--</td><td>--</td><td>--</td><td>--</td><td>26.7566536728249</td><td>0.06451035929901802</td><td>--</td><td>--</td><td>--</td><td>--</td><td>25.375728720436953</td><td>0.017297290373294364</td><td>--</td><td>--</td><td>--</td><td>--</td><td>23.579915159353558</td><td>0.012743980042600385</td><td>23.533069114221046</td><td>0.009082452476887312</td><td>--</td><td>--</td><td>23.32019544219038</td><td>0.015117029842201406</td><td>--</td><td>--</td><td>--</td><td>--</td><td>23.15199510969349</td><td>0.006627302304769269</td><td>--</td><td>--</td><td>--</td><td>--</td><td>--</td><td>--</td><td>--</td><td>--</td><td>--</td><td>--</td><td>28.387514166675977</td><td>0.47478264440563683</td><td>--</td><td>--</td><td>21.799903946575792</td><td>0.001522840978888133</td><td>--</td><td>--</td><td>--</td><td>--</td><td>--</td><td>--</td><td>--</td><td>--</td><td>26.108627250013647</td><td>0.04952643214125973</td><td>--</td><td>--</td><td>--</td><td>--</td><td>24.749874287320946</td><td>0.013367598811579666</td><td>--</td><td>--</td><td>--</td><td>--</td><td>23.0892519463775</td><td>0.011422660738753022</td><td>23.013841557984573</td><td>0.007515473109859906</td><td>--</td><td>--</td><td>22.810907595129713</td><td>0.012860218801103059</td><td>--</td><td>--</td><td>--</td><td>--</td><td>22.63893241745177</td><td>0.005461847455697703</td><td>--</td><td>--</td><td>--</td><td>--</td><td>--</td><td>--</td><td>--</td><td>--</td><td>--</td><td>--</td><td>27.155361341841402</td><td>0.3463898131652848</td><td>--</td><td>--</td><td>21.382296117331933</td><td>0.0013489002933991395</td><td>--</td><td>--</td><td>--</td><td>--</td><td>--</td><td>--</td><td>--</td><td>--</td><td>25.558009036730446</td><td>0.04166415387029221</td><td>--</td><td>--</td><td>--</td><td>--</td><td>24.192029089200307</td><td>0.010980511594041845</td><td>--</td><td>--</td><td>--</td><td>--</td><td>22.678147932654305</td><td>0.011789520795096797</td><td>22.568050269716554</td><td>0.006745078830578684</td><td>--</td><td>--</td><td>22.372621598616178</td><td>0.011600232835535598</td><td>--</td><td>--</td><td>--</td><td>--</td><td>22.209541342419616</td><td>0.00487424956301417</td><td>--</td><td>--</td><td>--</td><td>--</td><td>--</td><td>--</td><td>--</td><td>--</td><td>--</td><td>--</td><td>26.584450562965902</td><td>0.30674742486151707</td><td>--</td><td>--</td><td>21.038342391103214</td><td>0.0013379763260453997</td><td>--</td><td>--</td><td>--</td><td>--</td><td>--</td><td>--</td><td>--</td><td>--</td><td>25.134595117961624</td><td>0.04007584657627247</td><td>--</td><td>--</td><td>--</td><td>--</td><td>23.715829079460743</td><td>0.009830962871622424</td><td>--</td><td>--</td><td>--</td><td>--</td><td>--</td><td>--</td><td>--</td><td>--</td><td>--</td><td>--</td><td>--</td><td>--</td><td>--</td><td>--</td><td>--</td><td>--</td><td>--</td><td>--</td><td>--</td><td>--</td><td>--</td><td>--</td><td>--</td><td>--</td><td>--</td><td>--</td><td>--</td><td>--</td><td>--</td><td>--</td><td>--</td><td>--</td><td>--</td><td>--</td><td>--</td><td>--</td><td>--</td><td>--</td><td>--</td><td>--</td><td>--</td><td>--</td><td>--</td><td>--</td><td>--</td><td>--</td><td>--</td><td>--</td><td>--</td><td>--</td><td>--</td><td>--</td><td>--</td><td>--</td><td>--</td><td>--</td><td>--</td><td>--</td><td>--</td><td>--</td><td>--</td><td>--</td><td>--</td><td>--</td><td>--</td><td>--</td><td>--</td><td>--</td><td>--</td><td>--</td><td>--</td><td>--</td><td>--</td><td>--</td><td>--</td><td>--</td><td>--</td><td>--</td><td>--</td><td>--</td><td>--</td><td>--</td><td>--</td><td>--</td><td>--</td><td>--</td><td>--</td><td>--</td><td>--</td><td>--</td><td>--</td><td>--</td><td>--</td><td>--</td><td>--</td><td>--</td><td>--</td><td>--</td><td>--</td><td>--</td><td>--</td><td>--</td><td>--</td><td>--</td><td>--</td><td>--</td><td>--</td><td>--</td><td>--</td><td>--</td><td>--</td><td>--</td><td>--</td><td>--</td><td>--</td><td>--</td><td>--</td><td>--</td><td>--</td><td>--</td><td>--</td><td>--</td><td>--</td><td>--</td><td>--</td><td>--</td><td>--</td><td>--</td><td>--</td><td>--</td><td>--</td><td>--</td><td>--</td><td>--</td><td>--</td><td>--</td><td>--</td><td>--</td><td>--</td><td>--</td><td>--</td><td>--</td><td>--</td><td>--</td><td>--</td><td>--</td><td>--</td><td>--</td><td>--</td><td>--</td><td>--</td><td>--</td><td>--</td><td>--</td><td>--</td><td>--</td><td>--</td><td>--</td><td>--</td><td>--</td><td>--</td><td>--</td><td>--</td><td>--</td><td>--</td><td>--</td><td>--</td><td>--</td><td>0.9894</td></tr>\n",
       "<tr><td>rxj2129</td><td>2107</td><td>322.41627670660756</td><td>0.09966517070257967</td><td>--</td><td>--</td><td>28.991114385707565</td><td>0.5041064773127462</td><td>28.046152630718986</td><td>0.2697950708207974</td><td>27.723128784504723</td><td>0.2501409547092531</td><td>--</td><td>--</td><td>27.645922201243483</td><td>0.23232804736460314</td><td>--</td><td>--</td><td>27.114370427927305</td><td>0.0564364856182874</td><td>27.60608074706367</td><td>0.19022750187460807</td><td>--</td><td>--</td><td>--</td><td>--</td><td>27.590670188066998</td><td>0.12060680412486255</td><td>--</td><td>--</td><td>--</td><td>--</td><td>--</td><td>--</td><td>27.623188457689107</td><td>0.07760709774118107</td><td>27.624371120415685</td><td>0.04547649434057683</td><td>--</td><td>--</td><td>28.956055310219973</td><td>0.5156985096864705</td><td>26.880551078473044</td><td>0.0497474454347237</td><td>--</td><td>--</td><td>29.15305947840636</td><td>0.48053638569667684</td><td>28.867502687741077</td><td>0.42223555353925346</td><td>--</td><td>--</td><td>30.328385545783703</td><td>0.3990039360689374</td><td>--</td><td>--</td><td>29.025066863446607</td><td>0.49964119514240923</td><td>27.493820502839103</td><td>0.23082589714770926</td><td>27.280300801278816</td><td>0.23339436103112174</td><td>--</td><td>--</td><td>27.27568363727526</td><td>0.2257404590694003</td><td>--</td><td>--</td><td>26.892254987470583</td><td>0.0635822532828182</td><td>27.10392068872883</td><td>0.16695418344010016</td><td>--</td><td>--</td><td>--</td><td>--</td><td>27.307012550643545</td><td>0.12946850358659914</td><td>--</td><td>--</td><td>--</td><td>--</td><td>--</td><td>--</td><td>27.189785312385904</td><td>0.073142414076528</td><td>27.263690076444583</td><td>0.045332317513967595</td><td>--</td><td>--</td><td>28.59373499063636</td><td>0.5197491170214192</td><td>26.62750453796149</td><td>0.05494225426798158</td><td>--</td><td>--</td><td>28.383722965722143</td><td>0.43794407584775125</td><td>28.872656722101393</td><td>0.48506796680937725</td><td>--</td><td>--</td><td>29.934243421936824</td><td>0.40824809106801907</td><td>--</td><td>--</td><td>28.37580582189067</td><td>0.5094737171246525</td><td>27.282721402614147</td><td>0.26067174707806834</td><td>27.225159541272454</td><td>0.29680132555275496</td><td>--</td><td>--</td><td>27.049643466418093</td><td>0.25059165502308944</td><td>--</td><td>--</td><td>26.655802309335574</td><td>0.07136475713930726</td><td>26.74071303393352</td><td>0.1658245476706122</td><td>--</td><td>--</td><td>--</td><td>--</td><td>26.87481415369865</td><td>0.12175595689767672</td><td>--</td><td>--</td><td>--</td><td>--</td><td>--</td><td>--</td><td>26.990039126603996</td><td>0.0866342039128282</td><td>27.025792319040935</td><td>0.05108319184371757</td><td>--</td><td>--</td><td>27.421119788192776</td><td>0.43195741164081947</td><td>26.41290690889077</td><td>0.06380858374218705</td><td>--</td><td>--</td><td>28.080779038216416</td><td>0.45581971778039243</td><td>28.60531568707832</td><td>0.4972864346037579</td><td>--</td><td>--</td><td>29.109630504241597</td><td>0.5045281872233109</td><td>--</td><td>--</td><td>28.37817803790502</td><td>0.48801519871586746</td><td>26.73685541893996</td><td>0.2289191068015856</td><td>26.937621108803505</td><td>0.3204165317827006</td><td>--</td><td>--</td><td>26.606527745144874</td><td>0.23851639366297772</td><td>--</td><td>--</td><td>26.401304864902706</td><td>0.08024686886606085</td><td>26.371070051124786</td><td>0.16840927910683196</td><td>--</td><td>--</td><td>--</td><td>--</td><td>26.585992644989076</td><td>0.1323323668665117</td><td>--</td><td>--</td><td>--</td><td>--</td><td>--</td><td>--</td><td>26.819521450254705</td><td>0.10662273600334679</td><td>26.758345694621372</td><td>0.05709052694674935</td><td>--</td><td>--</td><td>26.818641922975466</td><td>0.4073328356991056</td><td>26.282336007571672</td><td>0.08164376227420717</td><td>--</td><td>--</td><td>27.982026932141487</td><td>0.5055339498897043</td><td>27.734244911031467</td><td>0.4194708045665731</td><td>--</td><td>--</td><td>28.54506967407803</td><td>0.522256782979993</td><td>--</td><td>--</td><td>--</td><td>--</td><td>--</td><td>--</td><td>28.627087176734403</td><td>0.5142426694270228</td><td>29.11364886020298</td><td>0.5027616684552179</td><td>28.74848661187683</td><td>0.40679748201362953</td><td>--</td><td>--</td><td>--</td><td>--</td><td>--</td><td>--</td><td>27.73179336390754</td><td>0.5988990270261119</td><td>28.115723599797786</td><td>0.9083046814490328</td><td>28.049118652717862</td><td>0.4135952035287916</td><td>--</td><td>--</td><td>--</td><td>--</td><td>--</td><td>--</td><td>27.782254803186202</td><td>1.6469059119565</td><td>28.051473949698895</td><td>1.2762932040496755</td><td>27.23527521702039</td><td>0.37181208731204274</td><td>--</td><td>--</td><td>--</td><td>--</td><td>--</td><td>--</td><td>27.872292734841967</td><td>1.4215808979609696</td><td>27.81580880772795</td><td>1.1146893866702343</td><td>26.993473820099606</td><td>0.3930804903002131</td><td>28.343315160161325</td><td>0.23649639132643452</td><td>28.33075504427774</td><td>0.4759340309190485</td><td>--</td><td>--</td><td>27.878998933058885</td><td>0.2160073649218051</td><td>28.578214179338048</td><td>0.47807713210385544</td><td>--</td><td>--</td><td>27.424762144356198</td><td>0.1998115266476952</td><td>28.910379563645677</td><td>0.3441694436226427</td><td>--</td><td>--</td><td>26.99318027737873</td><td>0.19111505655860836</td><td>27.92799469819191</td><td>0.4733078482116119</td><td>--</td><td>--</td><td>--</td><td>--</td><td>--</td><td>--</td><td>--</td><td>--</td><td>--</td><td>--</td><td>--</td><td>--</td><td>28.66148352170043</td><td>0.5270559035372556</td><td>--</td><td>--</td><td>--</td><td>--</td><td>--</td><td>--</td><td>--</td><td>--</td><td>--</td><td>--</td><td>28.227714477765932</td><td>0.5468320953088922</td><td>--</td><td>--</td><td>--</td><td>--</td><td>--</td><td>--</td><td>--</td><td>--</td><td>--</td><td>--</td><td>27.388615735847633</td><td>0.5696157660731691</td><td>--</td><td>--</td><td>--</td><td>--</td><td>--</td><td>--</td><td>--</td><td>--</td><td>--</td><td>--</td><td>27.075199570599846</td><td>0.5779445721514328</td><td>--</td><td>--</td><td>--</td><td>--</td><td>27.439890341845913</td><td>0.5257292880049677</td><td>--</td><td>--</td><td>--</td><td>--</td><td>27.209565584529358</td><td>0.9081864336406994</td><td>--</td><td>--</td><td>--</td><td>--</td><td>26.49984259439848</td><td>0.7463808921475524</td><td>--</td><td>--</td><td>--</td><td>--</td><td>25.88853417411743</td><td>2.5083354661444393</td><td>29.30817842688117</td><td>0.4023147069366572</td><td>--</td><td>--</td><td>--</td><td>--</td><td>29.146375550734298</td><td>0.2653177853885236</td><td>--</td><td>--</td><td>--</td><td>--</td><td>28.391491941235792</td><td>0.32346460771967245</td><td>--</td><td>--</td><td>--</td><td>--</td><td>27.629797336440365</td><td>0.31503784838551435</td><td>--</td><td>--</td><td>--</td><td>--</td><td>1.115</td></tr>\n",
       "<tr><td>rxj2129</td><td>1443</td><td>322.42154678446104</td><td>0.09167076197454226</td><td>--</td><td>--</td><td>28.698719789188388</td><td>0.4680609427447071</td><td>29.217715127754143</td><td>0.503606121643999</td><td>28.279544355241004</td><td>0.37556437415842864</td><td>--</td><td>--</td><td>27.99873090251196</td><td>0.3033519222038802</td><td>--</td><td>--</td><td>27.42415795858375</td><td>0.07539439175700556</td><td>27.46560489577913</td><td>0.1704096059547244</td><td>--</td><td>--</td><td>--</td><td>--</td><td>28.608262129750305</td><td>0.2920002110636712</td><td>--</td><td>--</td><td>--</td><td>--</td><td>--</td><td>--</td><td>27.416036332814432</td><td>0.0680294769378287</td><td>27.428227398974</td><td>0.04220571139566562</td><td>--</td><td>--</td><td>28.201431019306355</td><td>0.5515031702855592</td><td>27.509861026754756</td><td>0.09316655009854802</td><td>--</td><td>--</td><td>29.340628671465744</td><td>0.47790910150334176</td><td>30.03028934898143</td><td>0.46152285268623217</td><td>--</td><td>--</td><td>28.75167375966455</td><td>0.4276318483052461</td><td>--</td><td>--</td><td>28.26809946603983</td><td>0.4607670497985919</td><td>28.74522503087013</td><td>0.4926232892041704</td><td>27.886350374253286</td><td>0.36844567473135614</td><td>--</td><td>--</td><td>27.425236327316647</td><td>0.2545739215777209</td><td>--</td><td>--</td><td>27.03262298964095</td><td>0.07298441868116544</td><td>27.006912089277364</td><td>0.1548963222944527</td><td>--</td><td>--</td><td>--</td><td>--</td><td>29.35152836537023</td><td>0.5127539139829697</td><td>--</td><td>--</td><td>--</td><td>--</td><td>--</td><td>--</td><td>27.09859397068799</td><td>0.07083962574162685</td><td>27.153555887320895</td><td>0.04507332732932152</td><td>--</td><td>--</td><td>28.110618658415888</td><td>2.4345168215044075</td><td>27.119375026957076</td><td>0.09080968131130193</td><td>--</td><td>--</td><td>29.09998422006971</td><td>0.48160096716666545</td><td>29.33889146886298</td><td>0.5115761329978511</td><td>--</td><td>--</td><td>28.831355601159252</td><td>0.49264529413317</td><td>--</td><td>--</td><td>27.69060352905791</td><td>0.4213912989913147</td><td>28.513677584563325</td><td>0.5110630298482843</td><td>27.20391683263953</td><td>0.29441660133533887</td><td>--</td><td>--</td><td>27.20102632582589</td><td>0.28533040368149093</td><td>--</td><td>--</td><td>26.76062578676153</td><td>0.07933627127129951</td><td>26.489713366159652</td><td>0.13586131399454635</td><td>--</td><td>--</td><td>--</td><td>--</td><td>30.373743858839084</td><td>0.30827170292449296</td><td>--</td><td>--</td><td>--</td><td>--</td><td>--</td><td>--</td><td>26.683792374398806</td><td>0.06747032190587225</td><td>26.872273288579944</td><td>0.04795943793530673</td><td>--</td><td>--</td><td>27.94016925048826</td><td>2.1388628126172446</td><td>26.94744638104465</td><td>0.10772763837842597</td><td>--</td><td>--</td><td>28.568502542651256</td><td>0.5035997103783866</td><td>29.220075400068314</td><td>0.4914924899262484</td><td>--</td><td>--</td><td>28.301574404546535</td><td>0.4904397616119608</td><td>--</td><td>--</td><td>27.33046449481425</td><td>0.4283029297418902</td><td>28.121586248209713</td><td>0.5135258334000814</td><td>26.517783643175715</td><td>0.23223599314121207</td><td>--</td><td>--</td><td>26.74468728793954</td><td>0.27031196945183383</td><td>--</td><td>--</td><td>26.45824149971453</td><td>0.08564653676238004</td><td>26.087505007211114</td><td>0.13364632671046878</td><td>--</td><td>--</td><td>--</td><td>--</td><td>31.261162985286838</td><td>0.10517871287039539</td><td>--</td><td>--</td><td>--</td><td>--</td><td>--</td><td>--</td><td>26.232646861413215</td><td>0.06302146545536705</td><td>26.55150642465637</td><td>0.04984994806846073</td><td>--</td><td>--</td><td>27.987704190890682</td><td>1.612779550714115</td><td>26.84750485872025</td><td>0.13749349339131706</td><td>--</td><td>--</td><td>28.67393251518083</td><td>0.47414187332659724</td><td>29.106644951209823</td><td>0.43971449139884083</td><td>--</td><td>--</td><td>27.835332207411454</td><td>0.49768155056002783</td><td>--</td><td>--</td><td>--</td><td>--</td><td>--</td><td>--</td><td>29.085349381658915</td><td>1.6520904800623182</td><td>29.18847167054559</td><td>0.5593818017148589</td><td>28.360953653471743</td><td>0.3834466578300347</td><td>--</td><td>--</td><td>--</td><td>--</td><td>--</td><td>--</td><td>28.478022110857573</td><td>1.3013923936840863</td><td>28.52129898989229</td><td>2.245160034513841</td><td>28.247203835901203</td><td>0.3775142465517123</td><td>--</td><td>--</td><td>--</td><td>--</td><td>--</td><td>--</td><td>28.06069421556445</td><td>1.009148705497286</td><td>27.630044556310136</td><td>2.7426150293974483</td><td>27.686817496726608</td><td>0.3745993917228031</td><td>--</td><td>--</td><td>--</td><td>--</td><td>--</td><td>--</td><td>27.40570495722243</td><td>1.319597385333369</td><td>27.05778188122625</td><td>3.01138719667502</td><td>27.21549341987952</td><td>0.36723333195451563</td><td>29.072024937990196</td><td>0.4012630164660527</td><td>29.865098936252938</td><td>0.27516024497163316</td><td>--</td><td>--</td><td>28.37779465086981</td><td>0.3218940722442255</td><td>29.348385603651028</td><td>0.31784097274426076</td><td>--</td><td>--</td><td>27.74196221551379</td><td>0.26288198843913974</td><td>28.095173646200173</td><td>0.4888781992333603</td><td>--</td><td>--</td><td>27.01426867463913</td><td>0.1991961881862073</td><td>26.689634752658456</td><td>0.3829886809399121</td><td>--</td><td>--</td><td>--</td><td>--</td><td>--</td><td>--</td><td>--</td><td>--</td><td>--</td><td>--</td><td>--</td><td>--</td><td>28.437480883854324</td><td>0.529246904393158</td><td>--</td><td>--</td><td>--</td><td>--</td><td>--</td><td>--</td><td>--</td><td>--</td><td>--</td><td>--</td><td>27.719793422564784</td><td>0.5220508461570679</td><td>--</td><td>--</td><td>--</td><td>--</td><td>--</td><td>--</td><td>--</td><td>--</td><td>--</td><td>--</td><td>27.526993517757102</td><td>0.5733902521051102</td><td>--</td><td>--</td><td>--</td><td>--</td><td>--</td><td>--</td><td>--</td><td>--</td><td>--</td><td>--</td><td>26.58819293393081</td><td>0.47240287329440656</td><td>--</td><td>--</td><td>--</td><td>--</td><td>29.192932803976408</td><td>0.738080998115108</td><td>--</td><td>--</td><td>--</td><td>--</td><td>28.75857483295826</td><td>0.6928938456233347</td><td>--</td><td>--</td><td>--</td><td>--</td><td>28.103018047821465</td><td>0.6271972899531856</td><td>--</td><td>--</td><td>--</td><td>--</td><td>28.64756529901038</td><td>0.3987629361738824</td><td>27.215104956692404</td><td>0.498270233090528</td><td>--</td><td>--</td><td>--</td><td>--</td><td>27.288698896429764</td><td>0.47618220256049226</td><td>--</td><td>--</td><td>--</td><td>--</td><td>27.131211586268982</td><td>0.42004286226694604</td><td>--</td><td>--</td><td>--</td><td>--</td><td>26.856802450929475</td><td>0.4015290909215447</td><td>--</td><td>--</td><td>--</td><td>--</td><td>7.877</td></tr>\n",
       "</table></div>"
      ],
      "text/plain": [
       "<Table length=13030>\n",
       "    field       id          ra         ... lupterr_f555w_aper3  z_spec\n",
       "   bytes13    int32      float64       ...       float64       float64\n",
       "------------- ----- ------------------ ... ------------------- -------\n",
       "abells2744clu 12302  3.565197354609437 ...                  --   8.473\n",
       "abells2744clu  5747  3.570633264263966 ...                  --  11.671\n",
       "abells2744clu  5524 3.5769964722690366 ...                  --   5.503\n",
       "abells2744clu  3960  3.577146485385779 ...                  --   4.584\n",
       "abells2744clu  3573  3.580297174080497 ...                  --    4.61\n",
       "abells2744clu 14953 3.5823379484224374 ...                  --   4.243\n",
       "abells2744clu 15786 3.5960817966475918 ...                  --   5.944\n",
       "abells2744clu  3692  3.599734632393244 ...                  --   4.884\n",
       "abells2744clu 19190  3.601340105065028 ...                  --   4.022\n",
       "abells2744clu 13448 3.6015817864147786 ...                  --   8.175\n",
       "          ...   ...                ... ...                 ...     ...\n",
       "        ceers   797  215.1508117551693 ...                  --  0.2012\n",
       "        ceers 16991 215.15088639972902 ...                  --    7.74\n",
       "        ceers  8910 215.15126116606314 ...                  --  0.8079\n",
       "        ceers  8464  215.1520355562678 ...                  --   8.998\n",
       "        ceers  3134 215.15210559417966 ...                  --  0.6915\n",
       "        ceers   789 215.15422053802376 ...                  --    5.28\n",
       "        ceers  6493 215.15912116349713 ...                  --  0.4478\n",
       "        ceers  8120 215.16568782855492 ...                  --  0.9894\n",
       "      rxj2129  2107 322.41627670660756 ...                  --   1.115\n",
       "      rxj2129  1443 322.42154678446104 ...                  --   7.877"
      ]
     },
     "execution_count": 3,
     "metadata": {},
     "output_type": "execute_result"
    }
   ],
   "source": [
    "train = Table.read('MPhys/catalogues/jwst_skymatched_specz.fits',format = 'fits')\n",
    "train"
   ]
  },
  {
   "cell_type": "code",
   "execution_count": 105,
   "id": "b49c1973",
   "metadata": {},
   "outputs": [
    {
     "name": "stdout",
     "output_type": "stream",
     "text": [
      "['f1000w', 'f1000w', 'f105w', 'f105w', 'f115w-clear', 'f115w-clear', 'f125w', 'f125w', 'f1280w', 'f1280w', 'f140w', 'f140w', 'f1500w', 'f1500w', 'f150w-clear', 'f150w-clear', 'f160w', 'f160w', 'f1800w', 'f1800w', 'f182m-clear', 'f182m-clear', 'f200w-clear', 'f200w-clear', 'f2100w', 'f2100w', 'f210m-clear', 'f210m-clear', 'f275wu', 'f275wu', 'f277w-clear', 'f277w-clear', 'f356w-clear', 'f356w-clear', 'f410m-clear', 'f410m-clear', 'f435w', 'f435w', 'f444w-clear', 'f444w-clear', 'f560w', 'f560w', 'f606w', 'f606w', 'f606wu', 'f606wu', 'f770w', 'f770w', 'f814w', 'f814w', 'f090w-clear', 'f090w-clear', 'f335m-clear', 'f335m-clear', 'f350lpu', 'f350lpu', 'f475w', 'f475w', 'f775w', 'f775w', 'f850lp', 'f850lp', 'f110w', 'f110w', 'f336wu', 'f336wu', 'f850lpu', 'f850lpu', 'clearp-f356w', 'clearp-f356w', 'clearp-f444w', 'clearp-f444w', 'f115wn-clear', 'f115wn-clear', 'f150wn-clear', 'f150wn-clear', 'f200wn-clear', 'f200wn-clear', 'f225wu', 'f225wu', 'f250m-clear', 'f250m-clear', 'f300m-clear', 'f300m-clear', 'f625w', 'f625w', 'f390wu', 'f390wu', 'f480m-clear', 'f480m-clear', 'f555w', 'f555w']\n"
     ]
    }
   ],
   "source": [
    "#Full catalogue filter names \n",
    "filters_1 = [col.split('_')[1] for col in train.colnames if col.endswith('_aper1')]\n",
    "#print(len(filters_1))\n",
    "x= int(184/4)+4\n",
    "#lup_total['lupt_f250m-clear_aper0']\n",
    "print(filters_1)"
   ]
  },
  {
   "cell_type": "code",
   "execution_count": 106,
   "id": "878a9f5c",
   "metadata": {},
   "outputs": [],
   "source": [
    "#### FILTER CHOICES\n",
    "bc= ['f115w-clear','f200w-clear','f356w-clear','f444w-clear']\n",
    "#swap f115w for f814w,f606w,f435w,f125w,f140w,f160w,f150w\n",
    "c1 =['f814w','f200w-clear','f356w-clear','f444w-clear']\n",
    "c2 =['f606w','f200w-clear','f356w-clear','f444w-clear']\n",
    "c3 =['f435w','f200w-clear','f356w-clear','f444w-clear']\n",
    "c4 =['f125w','f200w-clear','f356w-clear','f444w-clear']\n",
    "c5 =['f140w','f200w-clear','f356w-clear','f444w-clear']\n",
    "c6 =['f160w','f200w-clear','f356w-clear','f444w-clear']\n",
    "c7 =['f150w-clear','f200w-clear','f356w-clear','f444w-clear']\n",
    "#swap f200w for f210m - less sources so should be short cat\n",
    "c8 =  ['f115w-clear','f210m-clear','f356w-clear','f444w-clear']\n",
    "#swap f444w for f410m\n",
    "c9= ['f115w-clear','f200w-clear','f356w-clear','f410m-clear']"
   ]
  },
  {
   "cell_type": "code",
   "execution_count": 118,
   "id": "00658d25",
   "metadata": {},
   "outputs": [],
   "source": [
    "######change this to make new catalogue of filters\n",
    "aper=1\n",
    "choice=c9\n",
    "lup_train = train['field','id','ra','dec','z_spec']\n",
    "lup_train[f'lupt_{choice[0]}']=train[f'lupt_{choice[0]}_aper{aper}']\n",
    "lup_train[f'lupterr_{choice[0]}']=train[f'lupterr_{choice[0]}_aper{aper}']\n",
    "lup_train[f'lupt_{choice[1]}']=train[f'lupt_{choice[1]}_aper{aper}']\n",
    "lup_train[f'lupterr_{choice[1]}']=train[f'lupterr_{choice[1]}_aper{aper}']\n",
    "lup_train[f'lupt_{choice[2]}']=train[f'lupt_{choice[2]}_aper{aper}']\n",
    "lup_train[f'lupterr_{choice[2]}']=train[f'lupterr_{choice[2]}_aper{aper}']\n",
    "lup_train[f'lupt_{choice[3]}']=train[f'lupt_{choice[3]}_aper{aper}']\n",
    "lup_train[f'lupterr_{choice[3]}']=train[f'lupterr_{choice[3]}_aper{aper}']\n",
    "#lup_train[f'lupt_{choice[4]}']=train[f'lupt_{choice[4]}_aper{aper}']\n",
    "#lup_train[f'lupterr_{choice[4]}']=train[f'lupterr_{choice[4]}_aper{aper}']"
   ]
  },
  {
   "cell_type": "code",
   "execution_count": null,
   "id": "b7e1c3df",
   "metadata": {},
   "outputs": [],
   "source": []
  },
  {
   "cell_type": "code",
   "execution_count": 119,
   "id": "6aa111ee",
   "metadata": {},
   "outputs": [],
   "source": [
    "#filts=['f115w','f200w','f277w','f356w','f444w']"
   ]
  },
  {
   "cell_type": "code",
   "execution_count": 120,
   "id": "c0e64eb8",
   "metadata": {},
   "outputs": [],
   "source": [
    "f1=[]\n",
    "for i in range(len(lup_train)):\n",
    "    f1.append(np.ma.is_masked(lup_train[f'lupt_{choice[0]}'][i]))\n",
    "f1_inv=np.array(np.invert(f1))\n",
    "f1_cat =lup_train[f1_inv*(np.ma.is_masked(lup_train[f'lupt_{choice[0]}']) == True)] "
   ]
  },
  {
   "cell_type": "code",
   "execution_count": 121,
   "id": "41b8141e",
   "metadata": {},
   "outputs": [],
   "source": [
    "#f1_cat"
   ]
  },
  {
   "cell_type": "code",
   "execution_count": 122,
   "id": "1e939880",
   "metadata": {},
   "outputs": [],
   "source": [
    "\n",
    "f2=[]\n",
    "for i in range(len(f1_cat)):\n",
    "    f2.append(np.ma.is_masked(f1_cat[f'lupt_{choice[1]}'][i]))\n",
    "f2_inv=np.array(np.invert(f2))\n",
    "f2_cat =f1_cat[f2_inv*(np.ma.is_masked(f1_cat[f'lupt_{choice[1]}']) ==True)] "
   ]
  },
  {
   "cell_type": "code",
   "execution_count": 123,
   "id": "e23fb50d",
   "metadata": {},
   "outputs": [],
   "source": [
    "#f2_cat"
   ]
  },
  {
   "cell_type": "code",
   "execution_count": 124,
   "id": "b7e2b802",
   "metadata": {},
   "outputs": [],
   "source": [
    "\n",
    "f3=[]\n",
    "for i in range(len(f2_cat)):\n",
    "    f3.append(np.ma.is_masked(f2_cat[f'lupt_{choice[2]}'][i]))\n",
    "f3_inv=np.array(np.invert(f3))\n",
    "f3_cat =f2_cat[f3_inv*(np.ma.is_masked(f2_cat[f'lupt_{choice[2]}']) == True)] "
   ]
  },
  {
   "cell_type": "code",
   "execution_count": 125,
   "id": "d03e1a69",
   "metadata": {},
   "outputs": [],
   "source": [
    "#f3_cat"
   ]
  },
  {
   "cell_type": "code",
   "execution_count": 126,
   "id": "e9a868a6",
   "metadata": {},
   "outputs": [],
   "source": [
    "\n",
    "f4=[]\n",
    "for i in range(len(f3_cat)):\n",
    "    f4.append(np.ma.is_masked(f3_cat[f'lupt_{choice[3]}'][i]))\n",
    "f4_inv=np.array(np.invert(f4))\n",
    "f4_cat =f3_cat[f4_inv*(np.ma.is_masked(f3_cat[f'lupt_{choice[3]}']) == True)] #false idk why but works \n"
   ]
  },
  {
   "cell_type": "code",
   "execution_count": 127,
   "id": "7c36eada",
   "metadata": {},
   "outputs": [
    {
     "data": {
      "text/html": [
       "<div><i>Table length=9847</i>\n",
       "<table id=\"table140713193933264\" class=\"table-striped table-bordered table-condensed\">\n",
       "<thead><tr><th>field</th><th>id</th><th>ra</th><th>dec</th><th>z_spec</th><th>lupt_f115w-clear</th><th>lupterr_f115w-clear</th><th>lupt_f200w-clear</th><th>lupterr_f200w-clear</th><th>lupt_f356w-clear</th><th>lupterr_f356w-clear</th><th>lupt_f410m-clear</th><th>lupterr_f410m-clear</th></tr></thead>\n",
       "<thead><tr><th>bytes13</th><th>int32</th><th>float64</th><th>float64</th><th>float64</th><th>float64</th><th>float64</th><th>float64</th><th>float64</th><th>float64</th><th>float64</th><th>float64</th><th>float64</th></tr></thead>\n",
       "<tr><td>abells2744clu</td><td>12302</td><td>3.565197354609437</td><td>-30.394263533201045</td><td>8.473</td><td>26.16194597790983</td><td>0.019592463599442195</td><td>26.087478866574386</td><td>0.016533056036876964</td><td>25.517356347813802</td><td>0.008397173682703629</td><td>25.703250944689007</td><td>0.015451453275986354</td></tr>\n",
       "<tr><td>abells2744clu</td><td>5747</td><td>3.570633264263966</td><td>-30.414636178977904</td><td>11.671</td><td>26.712502490965832</td><td>0.026049937208744024</td><td>26.598132352625665</td><td>0.020032956648043044</td><td>26.02128072200748</td><td>0.010687683799440994</td><td>26.35778778164204</td><td>0.020832106830599596</td></tr>\n",
       "<tr><td>abells2744clu</td><td>5524</td><td>3.5769964722690366</td><td>-30.415529356392863</td><td>5.503</td><td>27.335212863258526</td><td>0.04227717564173052</td><td>27.355843147908764</td><td>0.03560965654963773</td><td>26.881237769347127</td><td>0.020068416472688436</td><td>26.5898773034237</td><td>0.024657382393121575</td></tr>\n",
       "<tr><td>abells2744clu</td><td>3960</td><td>3.577146485385779</td><td>-30.422546074196482</td><td>4.584</td><td>26.747794276373764</td><td>0.026114336785139913</td><td>26.590892024782605</td><td>0.01935071676051102</td><td>26.054930654294015</td><td>0.010555599791693675</td><td>26.45665068906766</td><td>0.0222293794966642</td></tr>\n",
       "<tr><td>abells2744clu</td><td>3573</td><td>3.580297174080497</td><td>-30.424408035991412</td><td>4.61</td><td>26.684343145692196</td><td>0.025110204173980785</td><td>26.147969527781203</td><td>0.013506975603923254</td><td>25.680336155924937</td><td>0.008119805154344363</td><td>26.458650434584392</td><td>0.022214372069493643</td></tr>\n",
       "<tr><td>abells2744clu</td><td>14953</td><td>3.5823379484224374</td><td>-30.387656731206793</td><td>4.243</td><td>26.739867329282262</td><td>0.028634184695736836</td><td>26.64346323365239</td><td>0.022123844345237762</td><td>26.462772135342096</td><td>0.014710240368984042</td><td>26.90497576333816</td><td>0.04327610100795141</td></tr>\n",
       "<tr><td>abells2744clu</td><td>15786</td><td>3.5960817966475918</td><td>-30.38581783405742</td><td>5.944</td><td>27.332434237029688</td><td>0.040919468419549014</td><td>27.05692740484776</td><td>0.02674398544924948</td><td>26.913538608189594</td><td>0.0189528871459329</td><td>27.22837649260014</td><td>0.046135628173958665</td></tr>\n",
       "<tr><td>abells2744clu</td><td>3692</td><td>3.599734632393244</td><td>-30.431896825633363</td><td>4.884</td><td>25.488841174528638</td><td>0.01692145022582151</td><td>24.887280915477884</td><td>0.008044583085121335</td><td>24.670024427118193</td><td>0.005669710096122684</td><td>24.95775084138466</td><td>0.015635390193512753</td></tr>\n",
       "<tr><td>abells2744clu</td><td>19190</td><td>3.601340105065028</td><td>-30.37920379453032</td><td>4.022</td><td>26.966941290705616</td><td>0.031501245437457526</td><td>26.57577281136027</td><td>0.01865752139995835</td><td>26.360904585984773</td><td>0.011849535885922712</td><td>26.625997264129087</td><td>0.026104490234700375</td></tr>\n",
       "<tr><td>abells2744clu</td><td>13448</td><td>3.6015817864147786</td><td>-30.391486242467675</td><td>8.175</td><td>26.126447943417123</td><td>0.014313866689713375</td><td>24.093559676987997</td><td>0.0030987769763716378</td><td>23.54672353455656</td><td>0.0021787225476782106</td><td>23.457767085176066</td><td>0.00239598218579171</td></tr>\n",
       "<tr><td>...</td><td>...</td><td>...</td><td>...</td><td>...</td><td>...</td><td>...</td><td>...</td><td>...</td><td>...</td><td>...</td><td>...</td><td>...</td></tr>\n",
       "<tr><td>ceers</td><td>11270</td><td>215.14323846610793</td><td>52.97259700561595</td><td>0.5664</td><td>23.028796429132047</td><td>0.0019403146112379024</td><td>22.776673011665313</td><td>0.0017523290018764794</td><td>23.094776159395483</td><td>0.00192627780855314</td><td>23.310357756234716</td><td>0.0034063577370971546</td></tr>\n",
       "<tr><td>ceers</td><td>10268</td><td>215.1439489350778</td><td>52.971477384460954</td><td>0.7448</td><td>23.34211698093499</td><td>0.0023586882188614752</td><td>22.498169554096783</td><td>0.001487740456322578</td><td>22.39060658047427</td><td>0.0013033562403827884</td><td>22.63714977700252</td><td>0.0019515200437080302</td></tr>\n",
       "<tr><td>ceers</td><td>7389</td><td>215.14530062350434</td><td>52.967285494500544</td><td>4.707</td><td>26.765697375080897</td><td>0.03740285727247187</td><td>26.36944271333177</td><td>0.028036256437981088</td><td>26.144011029718325</td><td>0.016176668421810644</td><td>26.29770690764197</td><td>0.04136969045303226</td></tr>\n",
       "<tr><td>ceers</td><td>3772</td><td>215.147266830763</td><td>52.96103824919965</td><td>0.672</td><td>24.414014842255067</td><td>0.004982669973787699</td><td>24.174385812941704</td><td>0.004484871856060052</td><td>24.395484761226733</td><td>0.00463713297471755</td><td>24.678142098272637</td><td>0.010048240049758541</td></tr>\n",
       "<tr><td>ceers</td><td>1435</td><td>215.14843144267866</td><td>52.95518523364641</td><td>1.2772</td><td>22.83566272754508</td><td>0.0017454085498423751</td><td>22.51918188803808</td><td>0.0015065599841071118</td><td>22.25019657550435</td><td>0.0012059248043021684</td><td>22.16525454969538</td><td>0.0013938145949289715</td></tr>\n",
       "<tr><td>ceers</td><td>4015</td><td>215.14847022545345</td><td>52.962425858397026</td><td>0.9073</td><td>22.16229011428452</td><td>0.0011933916754700447</td><td>21.899383372127314</td><td>0.0010596678255095336</td><td>21.65495241790971</td><td>0.0008971327760585692</td><td>21.810993891381557</td><td>0.0011203233953881412</td></tr>\n",
       "<tr><td>ceers</td><td>8910</td><td>215.15126116606314</td><td>52.974230497173565</td><td>0.8079</td><td>23.796811234094285</td><td>0.0031797096974435744</td><td>23.558858872011914</td><td>0.0029213066688716888</td><td>23.61589657148511</td><td>0.0026140267169754523</td><td>23.83137273982627</td><td>0.005293537357489128</td></tr>\n",
       "<tr><td>ceers</td><td>8464</td><td>215.1520355562678</td><td>52.97404432091189</td><td>8.998</td><td>25.739326748757797</td><td>0.014338776240017472</td><td>24.971509872269475</td><td>0.008532999142621069</td><td>24.35238868070152</td><td>0.004104037002873249</td><td>24.496611565759554</td><td>0.009235022995794907</td></tr>\n",
       "<tr><td>ceers</td><td>3134</td><td>215.15210559417966</td><td>52.96301146172713</td><td>0.6915</td><td>22.87855756815452</td><td>0.002176250021806493</td><td>22.47841638943549</td><td>0.0017578708876170087</td><td>22.54926379517024</td><td>0.0014128204251180818</td><td>22.87695377279449</td><td>0.002301354829847769</td></tr>\n",
       "<tr><td>ceers</td><td>6493</td><td>215.15912116349713</td><td>52.975414822024135</td><td>0.4478</td><td>24.417630943816135</td><td>0.00500368614586996</td><td>24.247195314605523</td><td>0.004821792069102604</td><td>24.837097190118026</td><td>0.005904815826493682</td><td>25.03626364643148</td><td>0.012885551021331267</td></tr>\n",
       "</table></div>"
      ],
      "text/plain": [
       "<Table length=9847>\n",
       "    field       id  ...  lupt_f410m-clear   lupterr_f410m-clear \n",
       "   bytes13    int32 ...      float64              float64       \n",
       "------------- ----- ... ------------------ ---------------------\n",
       "abells2744clu 12302 ... 25.703250944689007  0.015451453275986354\n",
       "abells2744clu  5747 ...  26.35778778164204  0.020832106830599596\n",
       "abells2744clu  5524 ...   26.5898773034237  0.024657382393121575\n",
       "abells2744clu  3960 ...  26.45665068906766    0.0222293794966642\n",
       "abells2744clu  3573 ... 26.458650434584392  0.022214372069493643\n",
       "abells2744clu 14953 ...  26.90497576333816   0.04327610100795141\n",
       "abells2744clu 15786 ...  27.22837649260014  0.046135628173958665\n",
       "abells2744clu  3692 ...  24.95775084138466  0.015635390193512753\n",
       "abells2744clu 19190 ... 26.625997264129087  0.026104490234700375\n",
       "abells2744clu 13448 ... 23.457767085176066   0.00239598218579171\n",
       "          ...   ... ...                ...                   ...\n",
       "        ceers 11270 ... 23.310357756234716 0.0034063577370971546\n",
       "        ceers 10268 ...  22.63714977700252 0.0019515200437080302\n",
       "        ceers  7389 ...  26.29770690764197   0.04136969045303226\n",
       "        ceers  3772 ... 24.678142098272637  0.010048240049758541\n",
       "        ceers  1435 ...  22.16525454969538 0.0013938145949289715\n",
       "        ceers  4015 ... 21.810993891381557 0.0011203233953881412\n",
       "        ceers  8910 ...  23.83137273982627  0.005293537357489128\n",
       "        ceers  8464 ... 24.496611565759554  0.009235022995794907\n",
       "        ceers  3134 ...  22.87695377279449  0.002301354829847769\n",
       "        ceers  6493 ...  25.03626364643148  0.012885551021331267"
      ]
     },
     "execution_count": 127,
     "metadata": {},
     "output_type": "execute_result"
    }
   ],
   "source": [
    "f4_cat"
   ]
  },
  {
   "cell_type": "code",
   "execution_count": 89,
   "id": "ddcac1e9",
   "metadata": {},
   "outputs": [],
   "source": [
    "#USE IF USING 5TH FILTER\n",
    "#f5=[]\n",
    "#for i in range(len(f4_cat)):\n",
    "#    f5.append(np.ma.is_masked(f4_cat[f'lupt_{choice[4]}'][i]))\n",
    "#f5_inv=np.array(np.invert(f5))\n",
    "#f5_cat =f4_cat[f5_inv*(np.ma.is_masked(f4_cat[f'lupt_{choice[4]}']) == True)] "
   ]
  },
  {
   "cell_type": "code",
   "execution_count": null,
   "id": "59ac9362",
   "metadata": {},
   "outputs": [],
   "source": []
  },
  {
   "cell_type": "code",
   "execution_count": 128,
   "id": "f6d58514",
   "metadata": {},
   "outputs": [],
   "source": [
    "#f4_cat.write('MPhys/catalogues/base_filter_choice.fits',format = 'fits',overwrite=True)\n",
    "f4_cat.write('MPhys/catalogues/filter_choice_f444w_to_f410m.cat',format = 'ascii.commented_header',overwrite=True)"
   ]
  },
  {
   "cell_type": "code",
   "execution_count": 131,
   "id": "39046a54",
   "metadata": {},
   "outputs": [],
   "source": [
    "onlyfiles = [f for f in listdir('MPhys/catalogues/base_filter_permutations') if isfile(join('MPhys/catalogues/base_filter_permutations', f))]"
   ]
  },
  {
   "cell_type": "code",
   "execution_count": 132,
   "id": "729c718a",
   "metadata": {},
   "outputs": [
    {
     "name": "stdout",
     "output_type": "stream",
     "text": [
      "['filter_choice_f115w_to_f140w.cat', 'filter_choice_f200w_to_f210m.cat', 'filter_choice_f115w_to_f435w.cat', 'filter_choice_f115w_to_f125w.cat', 'filter_choice_f115w_to_f606w.cat', 'filter_choice_f115w_to_f814w.cat', 'filter_choice_f444w_to_f410m.cat', 'filter_choice_f115w_to_f150w.cat', 'filter_choice_f115w_to_f160w.cat']\n"
     ]
    }
   ],
   "source": []
  },
  {
   "cell_type": "code",
   "execution_count": 134,
   "id": "e974a2c3",
   "metadata": {},
   "outputs": [],
   "source": [
    "for file in onlyfiles:\n",
    "    t_full =Table.read(f'MPhys/catalogues/base_filter_permutations/{file}',format = 'ascii.commented_header')\n",
    "    train_sample = int(len(t_full)*0.8)\n",
    "    t = t_full[0:train_sample]\n",
    "    p = t_full[train_sample:-1]\n",
    "    t.write(f'MPhys/catalogues/base_filter_permutations/TRAIN_{file}',format = 'ascii.commented_header')\n",
    "    p.write(f'MPhys/catalogues/base_filter_permutations/PRED_{file}',format = 'ascii.commented_header')"
   ]
  },
  {
   "cell_type": "code",
   "execution_count": 6,
   "id": "c78e9a2e",
   "metadata": {},
   "outputs": [],
   "source": []
  },
  {
   "cell_type": "code",
   "execution_count": 7,
   "id": "9bbbe73a",
   "metadata": {},
   "outputs": [],
   "source": []
  },
  {
   "cell_type": "code",
   "execution_count": 21,
   "id": "c10fab23",
   "metadata": {},
   "outputs": [],
   "source": [
    "#IGNORE EVERYTHING ELSE - MOVING TO ANOTHER NOTEBOOK "
   ]
  },
  {
   "cell_type": "code",
   "execution_count": null,
   "id": "d61b33b8",
   "metadata": {},
   "outputs": [],
   "source": []
  },
  {
   "cell_type": "code",
   "execution_count": 112,
   "id": "097bb77a",
   "metadata": {},
   "outputs": [
    {
     "data": {
      "text/plain": [
       "6277"
      ]
     },
     "execution_count": 112,
     "metadata": {},
     "output_type": "execute_result"
    }
   ],
   "source": []
  },
  {
   "cell_type": "code",
   "execution_count": null,
   "id": "2e38cc6e",
   "metadata": {},
   "outputs": [],
   "source": [
    "fit= Table.read('MPhys/jwst_parameter_files/jwst_nans_removed_lupts_specz_TRAIN.fits', format = 'fits')\n",
    "train = fit['id_1','ra_1','dec_1','lupt_f115w','lupterr_f115w','lupt_f200w','lupterr_f200w','lupt_f277w','lupterr_f277w','lupt_f356w','lupterr_f356w','lupt_f444w','lupterr_f444w','z_spec']\n",
    "train.write('MPhys/gpz_files/jwst_TRAIN_2.cat',format='ascii.commented_header',overwrite=True)"
   ]
  },
  {
   "cell_type": "code",
   "execution_count": null,
   "id": "3309128e",
   "metadata": {},
   "outputs": [],
   "source": [
    "train.sort('id_1')"
   ]
  },
  {
   "cell_type": "code",
   "execution_count": null,
   "id": "71380e4d",
   "metadata": {},
   "outputs": [],
   "source": [
    "train_split=train[0:int(0.8*len(train))]\n",
    "pred_split=train[int(0.8*len(train)):-1]"
   ]
  },
  {
   "cell_type": "code",
   "execution_count": null,
   "id": "7a893f57",
   "metadata": {},
   "outputs": [],
   "source": [
    "train_split.write('MPhys/gpz_files/TRAIN_80_split.cat', format ='ascii.commented_header', overwrite=True)\n",
    "pred_split.write('MPhys/gpz_files/PRED_20_split.cat', format ='ascii.commented_header', overwrite=True)"
   ]
  },
  {
   "cell_type": "code",
   "execution_count": null,
   "id": "444beaa3",
   "metadata": {},
   "outputs": [],
   "source": [
    "pred_split"
   ]
  },
  {
   "cell_type": "code",
   "execution_count": null,
   "id": "08912150",
   "metadata": {},
   "outputs": [],
   "source": [
    "ceers_new.write('ceers_tst.fits',format='fits',overwrite=True)"
   ]
  },
  {
   "cell_type": "code",
   "execution_count": null,
   "id": "9dad50ed",
   "metadata": {},
   "outputs": [],
   "source": [
    "filt='f115w-clear_flux_aper_1'\n",
    "cat_ceers = ceers[f'{filt}','flux_auto','flux_aper_1']\n",
    "cat_gds= gds[f'{filt}','flux_auto','flux_aper_1']\n",
    "cat_gdn = gdn[f'{filt}','flux_auto','flux_aper_1']\n",
    "cat_ngdeep = ngdeep[f'{filt}','flux_auto','flux_aper_1']\n",
    "cat_cosmos_west = cosmos_west[f'{filt}','flux_auto','flux_aper_1']\n",
    "cat_cosmos_east = cosmos_east[f'{filt}','flux_auto','flux_aper_1']\n",
    "cat_udss = udss[f'{filt}','flux_auto','flux_aper_1']\n",
    "cat_udsn = udsn[f'{filt}','flux_auto','flux_aper_1']\n",
    "\n",
    "\n",
    "    \n"
   ]
  },
  {
   "cell_type": "code",
   "execution_count": null,
   "id": "4cfc0dae",
   "metadata": {},
   "outputs": [],
   "source": [
    "flux_ceers=[]\n",
    "mag_ceers=[]\n",
    "\n",
    "flux_gds=[]\n",
    "mag_gds=[]\n",
    "\n",
    "flux_gdn=[]\n",
    "#mag_gdn=[]\n",
    "\n",
    "flux_ngdeep=[]\n",
    "mag_ngdeep=[]\n",
    "\n",
    "flux_cosmos_west=[]\n",
    "mag_cosmos_west=[]\n",
    "\n",
    "flux_udss=[]\n",
    "mag_udss=[]\n",
    "\n",
    "flux_udsn=[]\n",
    "#mag_udsn=[]\n",
    "\n",
    "flux_cosmos_east=[]\n",
    "#mag_cosmos_east=[]\n",
    "\n",
    "for j in range(len(cat_ceers)):\n",
    "    flux_ceers.append((cat_ceers[f'{filt}'][j] * cat_ceers['flux_auto'][j]) /cat_ceers['flux_aper_1'][j])\n",
    "    mag_ceers.append(23.9-(2.5*np.log10(flux_ceers[j])))\n",
    "for j in range(len(cat_gds)):\n",
    "    flux_gds.append((cat_gds[f'{filt}'][j] * cat_gds['flux_auto'][j]) /cat_gds['flux_aper_1'][j])\n",
    "    mag_gds.append(23.9-(2.5*np.log10(flux_gds[j])))\n",
    "for j in range(len(cat_gdn)):\n",
    "    flux_gdn.append((cat_gdn[f'{filt}'][j] * cat_gdn['flux_auto'][j]) /cat_gdn['flux_aper_1'][j])\n",
    "    mag_gds.append(23.9-(2.5*np.log10(flux_gdn[j])))\n",
    "for j in range(len(cat_cosmos_west)):\n",
    "    flux_cosmos_west.append((cat_cosmos_west[f'{filt}'][j] * cat_cosmos_west['flux_auto'][j]) /cat_cosmos_west['flux_aper_1'][j])\n",
    "    mag_cosmos_west.append(23.9-(2.5*np.log10(flux_cosmos_west[j])))\n",
    "for j in range(len(cat_cosmos_east)):\n",
    "    flux_cosmos_east.append((cat_cosmos_east[f'{filt}'][j] * cat_cosmos_east['flux_auto'][j]) /cat_cosmos_east['flux_aper_1'][j])\n",
    "    mag_cosmos_west.append(23.9-(2.5*np.log10(flux_cosmos_east[j])))\n",
    "for j in range(len(cat_udss)):\n",
    "    flux_udss.append((cat_udss[f'{filt}'][j] * cat_udss['flux_auto'][j]) /cat_udss['flux_aper_1'][j])\n",
    "    mag_udss.append(23.9-(2.5*np.log10(flux_udss[j])))\n",
    "for j in range(len(cat_udsn)):\n",
    "    flux_udsn.append((cat_udsn[f'{filt}'][j] * cat_udsn['flux_auto'][j]) /cat_udsn['flux_aper_1'][j])\n",
    "    mag_udss.append(23.9-(2.5*np.log10(flux_udsn[j])))\n",
    "for j in range(len(cat_ngdeep)):\n",
    "    flux_ngdeep.append((cat_ngdeep[f'{filt}'][j] * cat_ngdeep['flux_auto'][j]) /cat_ngdeep['flux_aper_1'][j])\n",
    "    mag_ngdeep.append(23.9-(2.5*np.log10(flux_ngdeep[j])))\n"
   ]
  },
  {
   "cell_type": "code",
   "execution_count": null,
   "id": "5aceb1da",
   "metadata": {},
   "outputs": [],
   "source": [
    "plt.hist(mag_ceers,histtype='step',bins=100,label='CEERS')\n",
    "plt.hist(mag_gds,histtype='step',bins=100,label='GDS')\n",
    "plt.hist(mag_cosmos_west,histtype='step',bins=100,label='PRIMER COSMOS')\n",
    "plt.hist(mag_udss,histtype='step',bins=100,label='UDS')\n",
    "plt.hist(mag_ngdeep,histtype='step',bins=100,label='NGDeep')\n",
    "plt.xlabel('AB Magnitudes')\n",
    "plt.title(f'AB Magnitudes for {filt}')\n",
    "plt.legend()\n",
    "plt.show()\n"
   ]
  },
  {
   "cell_type": "code",
   "execution_count": null,
   "id": "aa38c213",
   "metadata": {},
   "outputs": [],
   "source": []
  },
  {
   "cell_type": "code",
   "execution_count": null,
   "id": "816e221c",
   "metadata": {},
   "outputs": [],
   "source": []
  }
 ],
 "metadata": {
  "kernelspec": {
   "display_name": "Python 3",
   "language": "python",
   "name": "python3"
  },
  "language_info": {
   "codemirror_mode": {
    "name": "ipython",
    "version": 3
   },
   "file_extension": ".py",
   "mimetype": "text/x-python",
   "name": "python",
   "nbconvert_exporter": "python",
   "pygments_lexer": "ipython3",
   "version": "3.8.10"
  }
 },
 "nbformat": 4,
 "nbformat_minor": 5
}
