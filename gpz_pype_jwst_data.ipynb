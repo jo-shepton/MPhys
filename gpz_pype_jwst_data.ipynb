{
 "cells": [
  {
   "cell_type": "markdown",
   "id": "84351021",
   "metadata": {},
   "source": [
    "# GPz_Pype: How-to for the basic features and usage"
   ]
  },
  {
   "cell_type": "code",
   "execution_count": 1,
   "id": "77316369",
   "metadata": {},
   "outputs": [],
   "source": [
    "import numpy as np\n",
    "\n",
    "# Plotting modules\n",
    "%matplotlib inline\n",
    "import matplotlib.pyplot as plt\n",
    "import matplotlib as mpl\n",
    "mpl.rcParams['figure.dpi']= 100\n",
    "\n",
    "# Astropy modules\n",
    "from astropy.table import Table, join, vstack, hstack,Column\n",
    "from astropy.coordinates import SkyCoord\n",
    "import astropy.units as u\n",
    "from astropy.stats import binom_conf_interval\n",
    "# Import required gpz_pype functions\n",
    "from gpz_pype.utilities import Params, set_gpz_path, basic_lupt_soft, flux_to_lupt\n",
    "from gpz_pype.base import GPz\n",
    "from gpz_pype.gmm import GMMbasic,kl_score\n",
    "from numpy.ma import masked\n",
    "# # Other modules - might not be required\n",
    "# import subprocess\n",
    "# import pickle\n",
    "import os\n",
    "import matplotlib.colors as colors\n",
    "import math\n",
    "from astropy.io import ascii\n",
    "def calcStats(photoz, specz):\n",
    "    cut = np.logical_and(photoz >= 0, specz >= 0.)\n",
    "    #print('NGD: {0}'.format(cut.sum()))\n",
    "    dz = photoz - specz\n",
    "    abs_dz = np.abs(dz)/(1+specz)\n",
    "\n",
    "    p90 = (abs_dz < np.percentile(abs_dz, 90.))\n",
    "    sigma_90 = np.sqrt(np.sum((dz[p90]/(1+specz[p90]))**2) / float(len(dz)))\n",
    "\n",
    "    bias = np.nanmedian(dz[cut]/(1+specz[cut]))\n",
    "    ol1 = (abs_dz > 0.15)\n",
    "    nmad = 1.48 * np.median( np.abs(dz[cut] - np.median(dz[cut])) / (1+specz[cut]))\n",
    "    ol2 = (abs_dz > (3*nmad))\n",
    "    OLF1 = np.sum( ol1[cut] ) / float(len(dz[cut]))\n",
    "    OLF2 = np.sum( ol2[cut] ) / float(len(dz[cut]))\n",
    "    \n",
    "    ol1_s, ol2_s = np.invert(ol1), np.invert(ol2)\n",
    "\n",
    "    return nmad, sigma_90, OLF1, bias\n",
    "\n",
    "def useLatex():\n",
    "    plt.rcParams.update({\n",
    "        \"text.usetex\":True,\n",
    "        \"font.family\":\"lmodern\",\n",
    "        \"text.latex.preamble\":r\"\\usepackage{amsmath,amssymb}\"})"
   ]
  },
  {
   "cell_type": "code",
   "execution_count": 2,
   "id": "f86875f8",
   "metadata": {},
   "outputs": [],
   "source": [
    "import time"
   ]
  },
  {
   "cell_type": "code",
   "execution_count": 3,
   "id": "49a07da6",
   "metadata": {},
   "outputs": [],
   "source": [
    "inputs= Table.read('MPhys/data_release/full_bc.fits',format='fits')\n",
    "\n",
    "#cat = Table.read('MPhys/gmm_cats/input_catalogues/bc_extra_apertures_full_catalogue.fits',format='fits')"
   ]
  },
  {
   "cell_type": "code",
   "execution_count": 8,
   "id": "f6852997",
   "metadata": {},
   "outputs": [],
   "source": [
    "for i in range(len(inputs.colnames)-2):\n",
    "    if inputs.colnames[i].endswith('aper2'):\n",
    "        inputs.remove_column(inputs.colnames[i])"
   ]
  },
  {
   "cell_type": "code",
   "execution_count": 9,
   "id": "9bd8f8a4",
   "metadata": {},
   "outputs": [
    {
     "data": {
      "text/html": [
       "<div><i>Table length=413527</i>\n",
       "<table id=\"table140622030918032\" class=\"table-striped table-bordered table-condensed\">\n",
       "<thead><tr><th>field</th><th>id</th><th>ra</th><th>dec</th><th>z_spec</th><th>lupt_f115w-clear</th><th>lupterr_f115w-clear</th><th>lupt_f200w-clear</th><th>lupterr_f200w-clear</th><th>lupt_f356w-clear</th><th>lupterr_f356w-clear</th><th>lupt_f444w-clear</th><th>lupterr_f444w-clear</th></tr></thead>\n",
       "<thead><tr><th>bytes13</th><th>int64</th><th>float64</th><th>float64</th><th>float64</th><th>float64</th><th>float64</th><th>float64</th><th>float64</th><th>float64</th><th>float64</th><th>float64</th><th>float64</th></tr></thead>\n",
       "<tr><td>ceers</td><td>37</td><td>215.04089678693086</td><td>52.86252607962979</td><td>--</td><td>28.900593025474585</td><td>0.2289647747329917</td><td>28.671425210713117</td><td>0.14474693812689254</td><td>29.082525206010725</td><td>0.15937242086577702</td><td>29.02204002712159</td><td>0.21790410860642065</td></tr>\n",
       "<tr><td>ceers</td><td>38</td><td>215.04122706739298</td><td>52.862902521275245</td><td>--</td><td>28.113186000910655</td><td>0.11767520922534593</td><td>27.8293931160538</td><td>0.07008238390587465</td><td>28.04361729964841</td><td>0.06918416055466493</td><td>28.312869107360576</td><td>0.13552031497221934</td></tr>\n",
       "<tr><td>ceers</td><td>39</td><td>215.0441584728869</td><td>52.86507653672225</td><td>--</td><td>29.60182695195697</td><td>0.3715556111395431</td><td>29.055700857773285</td><td>0.2421574183784082</td><td>29.13393662292411</td><td>0.24104083395036122</td><td>29.805853345723698</td><td>0.5557722728538943</td></tr>\n",
       "<tr><td>ceers</td><td>40</td><td>215.03994188993533</td><td>52.862064644301434</td><td>--</td><td>29.381104664991433</td><td>0.3261894441029812</td><td>29.959672207575895</td><td>0.40307579682200173</td><td>30.237306107050156</td><td>0.40183112734057436</td><td>29.3110120236299</td><td>0.32621380062159017</td></tr>\n",
       "<tr><td>ceers</td><td>41</td><td>215.043508066926</td><td>52.865083791838536</td><td>--</td><td>28.944521444965233</td><td>0.2399538722231896</td><td>29.223449398059824</td><td>0.27580206744237407</td><td>29.426878169284596</td><td>0.21031041670049316</td><td>29.30841857529783</td><td>0.28776846482218704</td></tr>\n",
       "<tr><td>ceers</td><td>42</td><td>215.04492320612118</td><td>52.86610531314976</td><td>--</td><td>28.235381090568854</td><td>0.13061181860858906</td><td>28.137214653561912</td><td>0.1116122115646847</td><td>29.337445064618407</td><td>0.206355246479694</td><td>28.71660141444263</td><td>0.20508421551154732</td></tr>\n",
       "<tr><td>ceers</td><td>43</td><td>215.04046773531454</td><td>52.86294389814078</td><td>--</td><td>28.685171131353993</td><td>0.2421841803218975</td><td>28.59571921264345</td><td>0.1368299864194079</td><td>29.046412163890555</td><td>0.16199429965240433</td><td>28.980503445079265</td><td>0.22206682180402906</td></tr>\n",
       "<tr><td>ceers</td><td>44</td><td>215.04297416136217</td><td>52.864807113157234</td><td>--</td><td>29.0252909413359</td><td>0.25394967285654463</td><td>28.084705156058806</td><td>0.09635532424455949</td><td>28.55126364589065</td><td>0.10178727862075636</td><td>28.517711324709982</td><td>0.16375946190588692</td></tr>\n",
       "<tr><td>ceers</td><td>45</td><td>215.0446545358151</td><td>52.86608899732375</td><td>--</td><td>28.962665052957913</td><td>0.244870263908601</td><td>28.268528801508882</td><td>0.12633015547061094</td><td>28.806826173238402</td><td>0.1260456818381551</td><td>29.15423567779269</td><td>0.279372644520914</td></tr>\n",
       "<tr><td>...</td><td>...</td><td>...</td><td>...</td><td>...</td><td>...</td><td>...</td><td>...</td><td>...</td><td>...</td><td>...</td><td>...</td><td>...</td></tr>\n",
       "<tr><td>sunrise</td><td>530516</td><td>24.348616196574184</td><td>-8.388370132804898</td><td>--</td><td>28.245149989005697</td><td>0.4235124660652927</td><td>27.861057074685174</td><td>0.2300738441082878</td><td>29.05793707736308</td><td>0.45056809516281504</td><td>30.119796352032832</td><td>0.6959509584298115</td></tr>\n",
       "<tr><td>sunrise</td><td>530517</td><td>24.35200311622535</td><td>-8.388430504337059</td><td>--</td><td>24.103813224726384</td><td>0.010862294503900178</td><td>24.14152305648234</td><td>0.008090771388367756</td><td>25.073352459513565</td><td>0.024500314930982578</td><td>25.54959578865591</td><td>0.046391454605321604</td></tr>\n",
       "<tr><td>sunrise</td><td>530518</td><td>24.35207329155662</td><td>-8.388324632634458</td><td>--</td><td>27.70293472013021</td><td>0.2790532326298241</td><td>27.43333588388903</td><td>0.15617381890622548</td><td>27.32605165156386</td><td>0.1423171033207981</td><td>27.711327751116908</td><td>0.3053771364205826</td></tr>\n",
       "<tr><td>sunrise</td><td>530519</td><td>24.350754465768464</td><td>-8.388285648049125</td><td>--</td><td>28.29077654283651</td><td>0.4625605568307056</td><td>30.370930707939447</td><td>0.6654973813330938</td><td>28.401668131169043</td><td>0.26094056997190734</td><td>28.388518375807248</td><td>0.37119935291534406</td></tr>\n",
       "<tr><td>sunrise</td><td>530520</td><td>24.35069000080643</td><td>-8.387912082496785</td><td>--</td><td>24.534695210927993</td><td>0.016446587177260902</td><td>24.093038895621014</td><td>0.007748642649803693</td><td>23.825358508009256</td><td>0.004602758582787299</td><td>23.970733611427416</td><td>0.007449909468241394</td></tr>\n",
       "<tr><td>sunrise</td><td>530521</td><td>24.35014284404191</td><td>-8.387709943341601</td><td>--</td><td>30.848904053506843</td><td>0.3940468110046582</td><td>29.75100279778075</td><td>0.7533031118207218</td><td>27.709463146499736</td><td>0.1880852296552307</td><td>27.286289287430964</td><td>0.4874561586991723</td></tr>\n",
       "<tr><td>sunrise</td><td>530522</td><td>24.349442250368472</td><td>-8.388242453831015</td><td>--</td><td>26.70199014413654</td><td>0.1155998656603166</td><td>26.180342886234904</td><td>0.05071053769370253</td><td>25.814943072906058</td><td>0.025337640851251807</td><td>25.50646696620567</td><td>0.029652736382586385</td></tr>\n",
       "<tr><td>sunrise</td><td>530523</td><td>24.35152168659832</td><td>-8.387736182804973</td><td>--</td><td>26.470880714874177</td><td>0.8886947026673373</td><td>26.250887470993916</td><td>0.09013746871887664</td><td>26.865608457715105</td><td>0.09394267820567677</td><td>27.355091038683955</td><td>0.22120475932988598</td></tr>\n",
       "<tr><td>sunrise</td><td>530524</td><td>24.351932307794186</td><td>-8.387461901633543</td><td>--</td><td>25.81033396638703</td><td>0.07327152867506714</td><td>25.473610770653444</td><td>0.18663514086550892</td><td>25.342383417258706</td><td>0.32584886684267644</td><td>25.34469940955841</td><td>0.03592768536037745</td></tr>\n",
       "<tr><td>sunrise</td><td>530525</td><td>24.35127497567209</td><td>-8.387325413931277</td><td>--</td><td>28.066935628451688</td><td>0.5600383123858393</td><td>26.89681820041117</td><td>0.1398167039623767</td><td>26.09567133286381</td><td>0.17170692340674315</td><td>26.136966365418637</td><td>0.08293226502524102</td></tr>\n",
       "</table></div>"
      ],
      "text/plain": [
       "<Table length=413527>\n",
       " field    id           ra                dec         ... lupterr_f356w-clear   lupt_f444w-clear  lupterr_f444w-clear \n",
       "bytes13 int64       float64            float64       ...       float64             float64             float64       \n",
       "------- ------ ------------------ ------------------ ... -------------------- ------------------ --------------------\n",
       "  ceers     37 215.04089678693086  52.86252607962979 ...  0.15937242086577702  29.02204002712159  0.21790410860642065\n",
       "  ceers     38 215.04122706739298 52.862902521275245 ...  0.06918416055466493 28.312869107360576  0.13552031497221934\n",
       "  ceers     39  215.0441584728869  52.86507653672225 ...  0.24104083395036122 29.805853345723698   0.5557722728538943\n",
       "  ceers     40 215.03994188993533 52.862064644301434 ...  0.40183112734057436   29.3110120236299  0.32621380062159017\n",
       "  ceers     41   215.043508066926 52.865083791838536 ...  0.21031041670049316  29.30841857529783  0.28776846482218704\n",
       "  ceers     42 215.04492320612118  52.86610531314976 ...    0.206355246479694  28.71660141444263  0.20508421551154732\n",
       "  ceers     43 215.04046773531454  52.86294389814078 ...  0.16199429965240433 28.980503445079265  0.22206682180402906\n",
       "  ceers     44 215.04297416136217 52.864807113157234 ...  0.10178727862075636 28.517711324709982  0.16375946190588692\n",
       "  ceers     45  215.0446545358151  52.86608899732375 ...   0.1260456818381551  29.15423567779269    0.279372644520914\n",
       "    ...    ...                ...                ... ...                  ...                ...                  ...\n",
       "sunrise 530516 24.348616196574184 -8.388370132804898 ...  0.45056809516281504 30.119796352032832   0.6959509584298115\n",
       "sunrise 530517  24.35200311622535 -8.388430504337059 ... 0.024500314930982578  25.54959578865591 0.046391454605321604\n",
       "sunrise 530518  24.35207329155662 -8.388324632634458 ...   0.1423171033207981 27.711327751116908   0.3053771364205826\n",
       "sunrise 530519 24.350754465768464 -8.388285648049125 ...  0.26094056997190734 28.388518375807248  0.37119935291534406\n",
       "sunrise 530520  24.35069000080643 -8.387912082496785 ... 0.004602758582787299 23.970733611427416 0.007449909468241394\n",
       "sunrise 530521  24.35014284404191 -8.387709943341601 ...   0.1880852296552307 27.286289287430964   0.4874561586991723\n",
       "sunrise 530522 24.349442250368472 -8.388242453831015 ... 0.025337640851251807  25.50646696620567 0.029652736382586385\n",
       "sunrise 530523  24.35152168659832 -8.387736182804973 ...  0.09394267820567677 27.355091038683955  0.22120475932988598\n",
       "sunrise 530524 24.351932307794186 -8.387461901633543 ...  0.32584886684267644  25.34469940955841  0.03592768536037745\n",
       "sunrise 530525  24.35127497567209 -8.387325413931277 ...  0.17170692340674315 26.136966365418637  0.08293226502524102"
      ]
     },
     "execution_count": 9,
     "metadata": {},
     "output_type": "execute_result"
    }
   ],
   "source": [
    "inputs"
   ]
  },
  {
   "cell_type": "code",
   "execution_count": 5,
   "id": "455e09dc",
   "metadata": {},
   "outputs": [],
   "source": [
    "#size = inputs['lupt_f115w-clear_aper2']/inputs['lupt_f115w-clear']\n",
    "#size_err =  inputs['lupterr_f115w-clear_aper2']/inputs['lupterr_f115w-clear']\n",
    "#inputs.add_column(size,name=('lupt_f115w-clear_size'))\n",
    "#inputs.add_column(size_err,name=('lupterr_f115w-clear_size'))"
   ]
  },
  {
   "cell_type": "code",
   "execution_count": 10,
   "id": "ad2f2efb",
   "metadata": {},
   "outputs": [],
   "source": [
    "primer=np.zeros(len(inputs))\n",
    "for i in range(len(inputs)):\n",
    "    if inputs['field'][i]=='cosmos_east' or inputs['field'][i]=='cosmos_west':\n",
    "        primer[i]=1\n",
    "primer_good = np.array(primer, dtype=bool)        \n",
    "ref_primer = inputs[primer_good]       \n"
   ]
  },
  {
   "cell_type": "code",
   "execution_count": 11,
   "id": "42420890",
   "metadata": {},
   "outputs": [],
   "source": [
    "#train =ref_primer now"
   ]
  },
  {
   "cell_type": "code",
   "execution_count": 12,
   "id": "96814aaf",
   "metadata": {},
   "outputs": [],
   "source": [
    "inputs['z_spec'][inputs['z_spec'] < 0] = np.ma.masked\n",
    "cat=np.ones(len(inputs))\n",
    "for i in range(len(inputs)):\n",
    "    if np.ma.is_masked(inputs['z_spec'][i]):\n",
    "        cat[i]=0\n",
    "cat_good = np.array(cat,dtype=bool)\n",
    "catalogue=inputs[cat_good]\n"
   ]
  },
  {
   "cell_type": "code",
   "execution_count": 13,
   "id": "6758f65d",
   "metadata": {},
   "outputs": [
    {
     "data": {
      "text/html": [
       "<div><i>Table length=99036</i>\n",
       "<table id=\"table140620566902672\" class=\"table-striped table-bordered table-condensed\">\n",
       "<thead><tr><th>field</th><th>id</th><th>ra</th><th>dec</th><th>z_spec</th><th>lupt_f115w-clear</th><th>lupterr_f115w-clear</th><th>lupt_f200w-clear</th><th>lupterr_f200w-clear</th><th>lupt_f356w-clear</th><th>lupterr_f356w-clear</th><th>lupt_f444w-clear</th><th>lupterr_f444w-clear</th></tr></thead>\n",
       "<thead><tr><th>bytes13</th><th>int64</th><th>float64</th><th>float64</th><th>float64</th><th>float64</th><th>float64</th><th>float64</th><th>float64</th><th>float64</th><th>float64</th><th>float64</th><th>float64</th></tr></thead>\n",
       "<tr><td>cosmos_east</td><td>324539</td><td>150.14354845515888</td><td>2.1557736452759113</td><td>--</td><td>28.354523041561258</td><td>0.48752094757279124</td><td>27.89228743629236</td><td>0.2832919971074847</td><td>29.502253770821426</td><td>0.9678329846433574</td><td>28.87867783686536</td><td>0.5028525792221916</td></tr>\n",
       "<tr><td>cosmos_east</td><td>324552</td><td>150.14108794715344</td><td>2.155824135653067</td><td>--</td><td>27.105360158601407</td><td>0.1952177278911981</td><td>26.57280232208483</td><td>0.0952001601355609</td><td>27.309966123715515</td><td>0.442225776719504</td><td>27.159025452422554</td><td>0.1783211698118154</td></tr>\n",
       "<tr><td>cosmos_east</td><td>324641</td><td>150.14064866991922</td><td>2.1562890440688114</td><td>--</td><td>27.400336236496077</td><td>0.22489986260364161</td><td>27.612370476828538</td><td>0.22034980927898154</td><td>28.20140854666452</td><td>0.9768665587333706</td><td>27.903412904702513</td><td>0.27031152738026504</td></tr>\n",
       "<tr><td>cosmos_east</td><td>324667</td><td>150.14286220248312</td><td>2.1565453120687037</td><td>--</td><td>28.26643487448934</td><td>0.4545810145620873</td><td>28.508791097112876</td><td>0.4719625901395739</td><td>28.296905264526682</td><td>0.30944795703939054</td><td>27.853727883860795</td><td>0.22542059557391522</td></tr>\n",
       "<tr><td>cosmos_east</td><td>324738</td><td>150.14434099964714</td><td>2.156702025949277</td><td>--</td><td>25.070211262008023</td><td>0.026627708597011884</td><td>24.15698048946284</td><td>0.0095934927805551</td><td>23.974382078746135</td><td>0.006245197579122184</td><td>23.878429387577597</td><td>0.00624513627570514</td></tr>\n",
       "<tr><td>cosmos_east</td><td>324784</td><td>150.139548108983</td><td>2.15711300432531</td><td>--</td><td>26.53128377021955</td><td>0.10846262420035462</td><td>25.97799712441553</td><td>0.050031304112351564</td><td>26.045304966008466</td><td>0.03628349282734039</td><td>26.019974919895066</td><td>0.041739562719759225</td></tr>\n",
       "<tr><td>cosmos_east</td><td>324786</td><td>150.13891562909293</td><td>2.157238850802762</td><td>--</td><td>30.13782192746779</td><td>0.6604189028264937</td><td>28.30455198617613</td><td>0.40298616174221036</td><td>28.638644393580915</td><td>0.3551377182719618</td><td>28.881974997365067</td><td>0.4798246970858725</td></tr>\n",
       "<tr><td>cosmos_east</td><td>324804</td><td>150.14155266055738</td><td>2.1573812639847394</td><td>--</td><td>29.075937978552968</td><td>0.721496801380443</td><td>28.66233117844173</td><td>0.5278545016634247</td><td>28.979004192140902</td><td>0.507392410534505</td><td>28.584835140279306</td><td>0.3758508787518737</td></tr>\n",
       "<tr><td>cosmos_east</td><td>324813</td><td>150.13754437036673</td><td>2.1574300989081654</td><td>--</td><td>29.359048224435043</td><td>0.7266895835374337</td><td>30.521104797873132</td><td>0.7931993570871425</td><td>28.997660855121925</td><td>0.5759470190004312</td><td>28.373607046798806</td><td>0.35714208386757834</td></tr>\n",
       "<tr><td>...</td><td>...</td><td>...</td><td>...</td><td>...</td><td>...</td><td>...</td><td>...</td><td>...</td><td>...</td><td>...</td><td>...</td><td>...</td></tr>\n",
       "<tr><td>cosmos_west</td><td>440854</td><td>150.12371770755396</td><td>2.483650477081525</td><td>--</td><td>26.980468504081905</td><td>0.12388053731193897</td><td>26.746186368330644</td><td>0.10358379566529906</td><td>26.964779747267126</td><td>0.06581472079465635</td><td>27.586420000552152</td><td>0.21083588811955173</td></tr>\n",
       "<tr><td>cosmos_west</td><td>440856</td><td>150.12587856629634</td><td>2.4834108344395043</td><td>--</td><td>23.42586758399218</td><td>0.005365069270202995</td><td>22.927027974381527</td><td>0.003665464793369213</td><td>23.344442516273432</td><td>0.004334074593208842</td><td>23.571714348957336</td><td>0.014618755940029584</td></tr>\n",
       "<tr><td>cosmos_west</td><td>440857</td><td>150.1212190431438</td><td>2.4837093145729763</td><td>--</td><td>25.090236275977322</td><td>0.02217033471195355</td><td>24.477426896514388</td><td>0.01620320238608545</td><td>25.13088476321752</td><td>0.013711495655048075</td><td>25.326055252078085</td><td>0.026486703739213854</td></tr>\n",
       "<tr><td>cosmos_west</td><td>440863</td><td>150.12337605270062</td><td>2.4826645999357293</td><td>0.8884</td><td>21.44540081860591</td><td>0.0013518503231519676</td><td>20.548559754411947</td><td>0.0006195384641891108</td><td>20.376345424823707</td><td>0.0005134010552538999</td><td>20.72944812690629</td><td>0.0006720178644503698</td></tr>\n",
       "<tr><td>cosmos_west</td><td>440864</td><td>150.123198708273</td><td>2.4836167057530365</td><td>--</td><td>24.531821492762067</td><td>0.01352722643077716</td><td>23.366307213356535</td><td>0.004984184699702739</td><td>23.128548521444348</td><td>0.003159912616085191</td><td>23.448709659024026</td><td>0.00566193319323346</td></tr>\n",
       "<tr><td>cosmos_west</td><td>440875</td><td>150.12118626151658</td><td>2.484546398763513</td><td>--</td><td>27.91257917398402</td><td>0.26708525986623427</td><td>27.764760104638157</td><td>0.25879688902384984</td><td>27.86508663025257</td><td>0.1560653000675634</td><td>28.550708303745974</td><td>0.4909570047504227</td></tr>\n",
       "<tr><td>cosmos_west</td><td>440878</td><td>150.12491713032406</td><td>2.4835677048751403</td><td>--</td><td>25.785733618281785</td><td>0.04168947087777855</td><td>25.48055114230663</td><td>0.032423751358527146</td><td>25.957219642160144</td><td>0.032331009759107646</td><td>26.329087772274697</td><td>0.09586679535452561</td></tr>\n",
       "<tr><td>cosmos_west</td><td>440884</td><td>150.12095660775026</td><td>2.4847911213132194</td><td>--</td><td>26.554884039541335</td><td>0.0838700048870108</td><td>26.283825793696316</td><td>0.06691019581736177</td><td>27.071405536561688</td><td>0.07224531240748829</td><td>27.66707293172855</td><td>0.22402341161160727</td></tr>\n",
       "<tr><td>cosmos_west</td><td>440888</td><td>150.11959808622814</td><td>2.4850341916076477</td><td>--</td><td>26.40492641049309</td><td>0.0729265960994367</td><td>26.176284680949614</td><td>0.06364641207660911</td><td>26.44137557418756</td><td>0.6941864356878197</td><td>27.447806389949882</td><td>1.2599052824640655</td></tr>\n",
       "<tr><td>cosmos_west</td><td>440911</td><td>150.12125814218965</td><td>2.485150347807499</td><td>--</td><td>25.434356445909025</td><td>0.030177663427196928</td><td>25.14041094635493</td><td>0.023677246269205757</td><td>25.493288898643492</td><td>0.02235030188292013</td><td>25.77966703902168</td><td>0.054976573277348346</td></tr>\n",
       "</table></div>"
      ],
      "text/plain": [
       "<Table length=99036>\n",
       "   field      id           ra         ...  lupterr_f356w-clear   lupt_f444w-clear   lupterr_f444w-clear \n",
       "  bytes13   int64       float64       ...        float64             float64              float64       \n",
       "----------- ------ ------------------ ... --------------------- ------------------ ---------------------\n",
       "cosmos_east 324539 150.14354845515888 ...    0.9678329846433574  28.87867783686536    0.5028525792221916\n",
       "cosmos_east 324552 150.14108794715344 ...     0.442225776719504 27.159025452422554    0.1783211698118154\n",
       "cosmos_east 324641 150.14064866991922 ...    0.9768665587333706 27.903412904702513   0.27031152738026504\n",
       "cosmos_east 324667 150.14286220248312 ...   0.30944795703939054 27.853727883860795   0.22542059557391522\n",
       "cosmos_east 324738 150.14434099964714 ...  0.006245197579122184 23.878429387577597   0.00624513627570514\n",
       "cosmos_east 324784   150.139548108983 ...   0.03628349282734039 26.019974919895066  0.041739562719759225\n",
       "cosmos_east 324786 150.13891562909293 ...    0.3551377182719618 28.881974997365067    0.4798246970858725\n",
       "cosmos_east 324804 150.14155266055738 ...     0.507392410534505 28.584835140279306    0.3758508787518737\n",
       "cosmos_east 324813 150.13754437036673 ...    0.5759470190004312 28.373607046798806   0.35714208386757834\n",
       "        ...    ...                ... ...                   ...                ...                   ...\n",
       "cosmos_west 440854 150.12371770755396 ...   0.06581472079465635 27.586420000552152   0.21083588811955173\n",
       "cosmos_west 440856 150.12587856629634 ...  0.004334074593208842 23.571714348957336  0.014618755940029584\n",
       "cosmos_west 440857  150.1212190431438 ...  0.013711495655048075 25.326055252078085  0.026486703739213854\n",
       "cosmos_west 440863 150.12337605270062 ... 0.0005134010552538999  20.72944812690629 0.0006720178644503698\n",
       "cosmos_west 440864   150.123198708273 ...  0.003159912616085191 23.448709659024026   0.00566193319323346\n",
       "cosmos_west 440875 150.12118626151658 ...    0.1560653000675634 28.550708303745974    0.4909570047504227\n",
       "cosmos_west 440878 150.12491713032406 ...  0.032331009759107646 26.329087772274697   0.09586679535452561\n",
       "cosmos_west 440884 150.12095660775026 ...   0.07224531240748829  27.66707293172855   0.22402341161160727\n",
       "cosmos_west 440888 150.11959808622814 ...    0.6941864356878197 27.447806389949882    1.2599052824640655\n",
       "cosmos_west 440911 150.12125814218965 ...   0.02235030188292013  25.77966703902168  0.054976573277348346"
      ]
     },
     "execution_count": 13,
     "metadata": {},
     "output_type": "execute_result"
    }
   ],
   "source": [
    "ref_primer"
   ]
  },
  {
   "cell_type": "markdown",
   "id": "63830dd1",
   "metadata": {},
   "source": [
    "For this example notebook we will use the CANDELS COSMOS catalogue as an input. This includes lots of photometry from both ground + space, but we will restrict analysis to just the HST filters for simplicity (and to mimic the likely limitations of some JWST fields).\n",
    "\n",
    "Inputting the catalogue into GPz however requires some additional pre-processing. We start by extracting the general common columns and setting any missing `z_spec` values to `np.nan`:"
   ]
  },
  {
   "cell_type": "markdown",
   "id": "5b8195f6",
   "metadata": {},
   "source": [
    "To further trim the catalogue down, i next want to pull out only the flux/magnitude columns that belong to HST filters. In this case, columns that start with either 'ACS' or 'WFC'. As with `z_spec`, any value set as -99 in the input catalogue (i.e. no data) is converted to `np.nan`:"
   ]
  },
  {
   "cell_type": "markdown",
   "id": "70ade8f6",
   "metadata": {},
   "source": [
    "filters =[]\n",
    "for col in train.colnames:\n",
    "    if col.startswith('lupt_'):\n",
    "        name = col.split('_')[1]\n",
    "        filters.append(name.split('-')[0])# Split column name into 3 parts based on '_'\n",
    "np.unique(filters)\n",
    "print(np.unique(filters))\n"
   ]
  },
  {
   "cell_type": "markdown",
   "id": "35175cb2",
   "metadata": {},
   "source": [
    "## Running GPz through `gpz_pype`"
   ]
  },
  {
   "cell_type": "markdown",
   "id": "4bdfcccb",
   "metadata": {},
   "source": [
    "The following code assumes that `gpz++` is correctly installed on the system and that it can be run through the command line without issue. The `gpz_pype` classes simply wrap around `gpz++` and streamline the book-keeping required when using more complicated splitting+weighting of training sample.\n",
    "\n",
    "The path to `gpz++` can be set as a system variable so this step might not be required in future. It can also be input directly into the `GPz` class below, but for safety we can use the convenience function `set_gpz_path` to set this for the current session."
   ]
  },
  {
   "cell_type": "code",
   "execution_count": 14,
   "id": "cc894086",
   "metadata": {},
   "outputs": [],
   "source": [
    "set_gpz_path('MPhys/gpz_files/gpz++')\n",
    "test = GPz(param_file='MPhys/gpz_files_new/params/all_bc.param', ncpu=4)\n",
    "test.params['REUSE_MODEL'] = '0'"
   ]
  },
  {
   "cell_type": "markdown",
   "id": "7d35a852",
   "metadata": {},
   "source": [
    "The main workhorse of `gpz_pype` is the `GPz` class, it needs to be instantiated with a set of parameters that we can then update manually (and which `GPz` will automatically set for us when necessary).\n",
    "We can also define the number of CPUs we want `gpz++` to make use of during training:"
   ]
  },
  {
   "cell_type": "markdown",
   "id": "386f71c6",
   "metadata": {},
   "source": [
    "To perform GPz training on an input catalogue in gpz++ in our most straight-forward approach, we can use the `.run_training` function from the `GPz` class.\n",
    "\n",
    "Even in its most straight-forward approach, there are lots of options that must be set. Many of which can be left as their degault value. I have tried to ensure that in-code documentation for `gpz_pype` is relatively complete, so the full set of options available can be seen using the standard python help functionality, e.g.:"
   ]
  },
  {
   "cell_type": "code",
   "execution_count": 85,
   "id": "18e72737",
   "metadata": {},
   "outputs": [
    {
     "name": "stdout",
     "output_type": "stream",
     "text": [
      "64679\n"
     ]
    },
    {
     "data": {
      "text/html": [
       "<i>Row index=64679</i>\n",
       "<table id=\"table140622030918032\">\n",
       "<thead><tr><th>field</th><th>id</th><th>ra</th><th>dec</th><th>z_spec</th><th>lupt_f115w-clear</th><th>lupterr_f115w-clear</th><th>lupt_f200w-clear</th><th>lupterr_f200w-clear</th><th>lupt_f356w-clear</th><th>lupterr_f356w-clear</th><th>lupt_f444w-clear</th><th>lupterr_f444w-clear</th></tr></thead>\n",
       "<thead><tr><th>bytes13</th><th>int64</th><th>float64</th><th>float64</th><th>float64</th><th>float64</th><th>float64</th><th>float64</th><th>float64</th><th>float64</th><th>float64</th><th>float64</th><th>float64</th></tr></thead>\n",
       "<tr><td>ceers</td><td>70788</td><td>214.9145425492511</td><td>52.94302277697758</td><td>4.9084</td><td>31.410219061859856</td><td>0.40194776801636495</td><td>28.47079520785148</td><td>0.14434712529842106</td><td>26.734528800034294</td><td>0.030029742266958415</td><td>26.823881719969204</td><td>0.04406153832349987</td></tr>\n",
       "</table>"
      ],
      "text/plain": [
       "<Row index=64679>\n",
       " field    id          ra               dec         z_spec  lupt_f115w-clear  lupterr_f115w-clear  lupt_f200w-clear lupterr_f200w-clear  lupt_f356w-clear  lupterr_f356w-clear   lupt_f444w-clear  lupterr_f444w-clear\n",
       "bytes13 int64      float64           float64      float64      float64             float64            float64            float64            float64             float64             float64             float64      \n",
       "------- ----- ----------------- ----------------- ------- ------------------ ------------------- ----------------- ------------------- ------------------ -------------------- ------------------ -------------------\n",
       "  ceers 70788 214.9145425492511 52.94302277697758  4.9084 31.410219061859856 0.40194776801636495 28.47079520785148 0.14434712529842106 26.734528800034294 0.030029742266958415 26.823881719969204 0.04406153832349987"
      ]
     },
     "execution_count": 85,
     "metadata": {},
     "output_type": "execute_result"
    }
   ],
   "source": [
    "for i in range(len(inputs)):\n",
    "    if inputs['id'][i]==70788:\n",
    "        print(i)\n",
    "inputs[64679]"
   ]
  },
  {
   "cell_type": "markdown",
   "id": "5c454db4",
   "metadata": {},
   "source": [
    "# Set NBF "
   ]
  },
  {
   "cell_type": "code",
   "execution_count": 16,
   "id": "e7f700ce",
   "metadata": {},
   "outputs": [],
   "source": [
    "n = 150"
   ]
  },
  {
   "cell_type": "code",
   "execution_count": 17,
   "id": "4ab55e08",
   "metadata": {},
   "outputs": [],
   "source": [
    "directory = 'MPhys/data_release/gmm'"
   ]
  },
  {
   "cell_type": "code",
   "execution_count": 79,
   "id": "36dda314",
   "metadata": {},
   "outputs": [
    {
     "name": "stderr",
     "output_type": "stream",
     "text": [
      "WARNING:root:Removing existing model file MPhys/data_release/gmm/new_release_bc_model.dat\n",
      "WARNING:root:Removing existing model file MPhys/data_release/gmm/new_release_bc_model.dat\n",
      "WARNING:root:Removing existing model file MPhys/data_release/gmm/new_release_bc_model.dat\n",
      "WARNING:root:Removing existing model file MPhys/data_release/gmm/new_release_bc_model.dat\n",
      "WARNING:root:Removing existing model file MPhys/data_release/gmm/new_release_bc_model.dat\n",
      "WARNING:root:Removing existing model file MPhys/data_release/gmm/new_release_bc_model.dat\n",
      "WARNING:root:Removing existing model file MPhys/data_release/gmm/new_release_bc_model.dat\n",
      "WARNING:root:Removing existing model file MPhys/data_release/gmm/new_release_bc_model.dat\n",
      "WARNING:root:Removing existing model file MPhys/data_release/gmm/new_release_bc_model.dat\n",
      "WARNING:root:Removing existing model file MPhys/data_release/gmm/new_release_bc_model.dat\n"
     ]
    }
   ],
   "source": [
    "da =np.zeros(1)\n",
    "while da ==0:\n",
    "    simple_run, paths = test.run_training(\n",
    "          catalogue, # Run training on this input catalogue - can be a path or a Table object\n",
    "          outdir=f'{directory}', # Save training/output catalogues in this directory\n",
    "          basename=f'new_release_bc', # Start our output filenames with this\n",
    "          bash_script=False, # Run GPz directly, don't just write the parameter files + commands to bash\n",
    "          mag_prefix='lupt_', # Look for these asinh magnitude columns\n",
    "          error_prefix='lupterr_', # Look for these error columns\n",
    "          output_max = 16,\n",
    "          id_col='id', # ID column to propagate into output files\n",
    "          total_basis_functions=n, # NUMBF passed to gpz++\n",
    "          do_iteration=False, # If True, run second iteration with more complex covariance\n",
    "          verbose=False,# Don't print all of the gpz++ output to screen. Turn on for debugging\n",
    "\n",
    "          bands = f'^lupt_(f115w-clear|f200w-clear|f356w-clear|f444w-clear)$',\n",
    "        )\n",
    "    for i in range(len(simple_run)):\n",
    "        if simple_run['id'][i]==61853:\n",
    "            da=i\n",
    "        "
   ]
  },
  {
   "cell_type": "code",
   "execution_count": 80,
   "id": "fe98db65",
   "metadata": {},
   "outputs": [
    {
     "data": {
      "text/html": [
       "<i>Row index=46</i>\n",
       "<table id=\"table140620325080720\">\n",
       "<thead><tr><th>field</th><th>id</th><th>ra</th><th>dec</th><th>z_spec</th><th>lupt_f115w-clear</th><th>lupterr_f115w-clear</th><th>lupt_f200w-clear</th><th>lupterr_f200w-clear</th><th>lupt_f356w-clear</th><th>lupterr_f356w-clear</th><th>lupt_f444w-clear</th><th>lupterr_f444w-clear</th><th>weights</th><th>value</th><th>uncertainty</th><th>var.density</th><th>var.tr.noise</th><th>var.in.noise</th></tr></thead>\n",
       "<thead><tr><th>str13</th><th>int64</th><th>float64</th><th>float64</th><th>float64</th><th>float64</th><th>float64</th><th>float64</th><th>float64</th><th>float64</th><th>float64</th><th>float64</th><th>float64</th><th>float64</th><th>float64</th><th>float64</th><th>float64</th><th>float64</th><th>float64</th></tr></thead>\n",
       "<tr><td>ceers</td><td>61853</td><td>214.94313835441517</td><td>52.94244510246539</td><td>11.4109</td><td>32.23151178338668</td><td>0.21031000646223602</td><td>27.81805342514984</td><td>0.08975659142896969</td><td>28.197086519373986</td><td>0.1077509091811779</td><td>28.22923942073591</td><td>0.17501765760760163</td><td>22.701407430697053</td><td>5.398328</td><td>4.131295</td><td>0.3409863</td><td>16.71584</td><td>0.01077534</td></tr>\n",
       "</table>"
      ],
      "text/plain": [
       "<Row index=46>\n",
       "field   id          ra                dec         z_spec  lupt_f115w-clear lupterr_f115w-clear  lupt_f200w-clear lupterr_f200w-clear  lupt_f356w-clear  lupterr_f356w-clear  lupt_f444w-clear lupterr_f444w-clear      weights        value   uncertainty var.density var.tr.noise var.in.noise\n",
       "str13 int64      float64            float64      float64      float64            float64            float64            float64            float64             float64            float64            float64            float64       float64    float64     float64     float64      float64   \n",
       "----- ----- ------------------ ----------------- ------- ----------------- ------------------- ----------------- ------------------- ------------------ ------------------- ----------------- ------------------- ------------------ -------- ----------- ----------- ------------ ------------\n",
       "ceers 61853 214.94313835441517 52.94244510246539 11.4109 32.23151178338668 0.21031000646223602 27.81805342514984 0.08975659142896969 28.197086519373986  0.1077509091811779 28.22923942073591 0.17501765760760163 22.701407430697053 5.398328    4.131295   0.3409863     16.71584   0.01077534"
      ]
     },
     "execution_count": 80,
     "metadata": {},
     "output_type": "execute_result"
    }
   ],
   "source": [
    "simple_run[da]"
   ]
  },
  {
   "cell_type": "code",
   "execution_count": 126,
   "id": "07599a46",
   "metadata": {},
   "outputs": [
    {
     "name": "stdout",
     "output_type": "stream",
     "text": [
      "2855 2854.8\n"
     ]
    }
   ],
   "source": [
    "print(len(simple_run), len(catalogue)*0.2)"
   ]
  },
  {
   "cell_type": "markdown",
   "id": "77f4d038",
   "metadata": {},
   "source": [
    "There are two outputs from `.run_training`:\n",
    "\n",
    "1. Catalogue: The 'test' subset of the input catalogue, with `gpz++` prediction columns appended:"
   ]
  },
  {
   "cell_type": "markdown",
   "id": "d3e3c194",
   "metadata": {},
   "source": [
    "2. Output paths: A dictionary containing the relative paths to the various files produced from the gpz++ training - including both input catalogues (in gpz format) and the trained model + associated parameter file:"
   ]
  },
  {
   "cell_type": "markdown",
   "id": "42bc08aa",
   "metadata": {},
   "source": [
    "### Plotting outputs\n",
    "Just for validation purposes, lets plot the predicted photo-$z$ versus spec-$z$ for the test catalogue. We can see that between $1 < z < 3$ the predictions do a decent job, even with just the 4-bands used in training. But at low and high redshifts the performance falls off"
   ]
  },
  {
   "cell_type": "code",
   "execution_count": 20,
   "id": "da554fbc",
   "metadata": {},
   "outputs": [],
   "source": [
    "def forward(x):\n",
    "    return np.log10(1+x)\n",
    "\n",
    "def inverse(x):\n",
    "    return (10**x) - 1\n"
   ]
  },
  {
   "cell_type": "markdown",
   "id": "7cf00147",
   "metadata": {},
   "source": [
    "## Example GMM Divide + Cost-sensitive Learning Calculations\n",
    "\n",
    "The basic functionality for the Gaussian Mixture Model (GMM) sample division and cost-sensitive learning is contained in the `GMMbasic` class. The training of the respective GMMs is done internally within the class, and is effectively a wrapper around the [sci-kit learn/GaussianMixture](https://scikit-learn.org/stable/modules/generated/sklearn.mixture.GaussianMixture.html#sklearn.mixture.GaussianMixture) classes with all its functionality.\n",
    "\n",
    "The key inputs that we need to define for `GMMbasic` are as follows:\n",
    "\n",
    "- `X_pop` : The feature array for the reference population.\n",
    "- `X_train` : The feature array for the training sample.\n",
    "- `Y_train` : The labels for the training sample (i.e. the spectroscopic redshifts).\n",
    "- `ncomp` : Number of mixtures used for the GMM model.\n",
    "\n",
    "For building the mixture models, we need to manually decide on and create a set of features (`X_pop`/`X_train`) with which we want to represent our sample. The 'best' features will be dependent on the input data, the scientific goals etc. These also do not necessarily need to be features used in the GPz training (e.g. luptitudes), or even things derived from luptitudes. \n",
    "\n",
    "In the following example, given the limited number of features we will just use a combination of colours and magnitudes. But sizes or morphological information could also be sensible choices.\n",
    "\n",
    "Since for our example the training set is a subset of the reference population, we can define one set of features and then split:"
   ]
  },
  {
   "cell_type": "code",
   "execution_count": 21,
   "id": "166630be",
   "metadata": {},
   "outputs": [],
   "source": [
    "filters=['f115w-clear', 'f200w-clear', 'f356w-clear', 'f444w-clear']\n",
    "#catalogue"
   ]
  },
  {
   "cell_type": "code",
   "execution_count": 22,
   "id": "aa4135b0",
   "metadata": {},
   "outputs": [],
   "source": [
    "check_nans = np.zeros(len(catalogue)) # Running counter of null values for each object\n",
    "for i,filt in zip(range(len(catalogue)),filters):\n",
    "    if np.ma.is_masked(catalogue[f'lupt_{filt}'][i]):\n",
    "        check_nans[i]=1\n",
    "good=(check_nans==0)"
   ]
  },
  {
   "cell_type": "code",
   "execution_count": 23,
   "id": "d9b3f5fd",
   "metadata": {},
   "outputs": [],
   "source": [
    "check_nans_ref = np.zeros(len(ref_primer)) # Running counter of null values for each object\n",
    "for i,filt in zip(range(len(ref_primer)),filters):\n",
    "    if np.isnan(ref_primer[f'lupt_{filt}'][i]):\n",
    "               check_nans_ref[i]=1\n",
    "good_ref =(check_nans_ref==0)\n"
   ]
  },
  {
   "cell_type": "code",
   "execution_count": 24,
   "id": "942889a2",
   "metadata": {},
   "outputs": [],
   "source": [
    "gmm_features = np.array([catalogue['lupt_f200w-clear']-catalogue['lupt_f356w-clear'],\n",
    "                       catalogue['lupt_f356w-clear'] -catalogue['lupt_f444w-clear'],\n",
    "                        catalogue['lupt_f200w-clear']]).T\n",
    "\n",
    "gmm_features_ref= np.array([ref_primer['lupt_f200w-clear']-ref_primer['lupt_f356w-clear'],\n",
    "                              ref_primer['lupt_f356w-clear']-ref_primer['lupt_f444w-clear'],\n",
    "                           ref_primer['lupt_f200w-clear']]).T\n",
    "\n",
    "X_pop = gmm_features_ref[good_ref] # The full reference population \n",
    "                           # (i.e. representative of the full sample we would like photo-z predictions for)\n",
    "\n",
    "    \n",
    "X_train= gmm_features[good]# The training subset\n",
    "#X_pop= gmm_features[good]"
   ]
  },
  {
   "cell_type": "markdown",
   "id": "36c63c9c",
   "metadata": {},
   "source": [
    "Instantiating the class with the inputs defined above will build the GMMs:"
   ]
  },
  {
   "cell_type": "code",
   "execution_count": 25,
   "id": "98db30cb",
   "metadata": {},
   "outputs": [],
   "source": [
    "gmm = GMMbasic(X_pop=X_pop, \n",
    "               X_train=X_train, \n",
    "               Y_train=catalogue['z_spec'], \n",
    "               ncomp=4,niter=10) # For larger samples and more features, more mixtures could be appropriate"
   ]
  },
  {
   "cell_type": "markdown",
   "id": "eb2d5c1d",
   "metadata": {},
   "source": [
    "## GMM Weight\n",
    "\n",
    "Since the cost-sensitive learning (CSL) is the most straight-forward to include in `gpz++`, we will first generate some CSL weights based on the GMMs we have just produced. To do so is as straight-forward as:"
   ]
  },
  {
   "cell_type": "code",
   "execution_count": 26,
   "id": "5a29f1e3",
   "metadata": {},
   "outputs": [],
   "source": [
    "weights = gmm.calc_weights(X_train, X_pop, max_weight=100)\n"
   ]
  },
  {
   "cell_type": "code",
   "execution_count": null,
   "id": "540186f0",
   "metadata": {},
   "outputs": [],
   "source": [
    "Fig, Ax = plt.subplots(1,3, figsize=(9,3))\n",
    "features=['(F200W-F356W)','(F356W-F444W)', 'F200W']\n",
    "Ax = Ax.flatten()\n",
    "\n",
    "for i, ax in enumerate(Ax):\n",
    "\n",
    "    c, bins, _ = ax.hist(X_pop[:,i], density=True, bins=25, \n",
    "                      range=np.percentile(X_pop[:,i], [0.1, 99.9]), histtype='step', lw=2,\n",
    "                        label='Reference')\n",
    "    useLatex()\n",
    "    plt.rcParams.update({\"font.size\":14})\n",
    "    ax.hist(X_train[:,i], density=True, bins=bins, histtype='step', lw=2, color='firebrick',\n",
    "            label='Training')\n",
    "    ax.hist(X_train[:,i], density=True, bins=bins, histtype='step', lw=2, color='firebrick', \n",
    "            ls='--', weights=weights,\n",
    "            label='Weighted Training')\n",
    "    \n",
    "    ax.set_ylabel('PDF(x)',fontsize=14)\n",
    "    #ax.set_aspect('equal')\n",
    "   # ax.set_xlabel(f'$x_{i+1}$',fontsize=14)\n",
    "    ax.set_xlabel(features[i],fontsize=14)\n",
    "kl = kl_score(X_pop, X_train, weights=weights, nbins=25, min_pct=0.1, max_pct=99.9)\n",
    "\n",
    "s = Fig.subplotpars\n",
    "Fig.text(0.76, 0.92,f'KL = {kl[0]:.3f} \\n KL (weighted) = {kl[1]:.3f} ',\n",
    "         bbox=dict(facecolor='none', edgecolor='grey',alpha =0.5))\n",
    "\n",
    "\n",
    "bb=[s.left-0.05, s.top+0.06, 0.58, 0.05 ]\n",
    "leg = Ax[0].legend(loc='upper center', bbox_to_anchor=bb, ncol= 3, mode=\"expand\", borderaxespad=0,\n",
    "                bbox_transform=Fig.transFigure)\n",
    "plt.subplots_adjust(wspace=0.12,hspace=0)\n",
    "Fig.tight_layout()\n",
    "#plt.savefig(f'MPhys/data_release/plots/pdf_f160w.pdf',bbox_inches='tight')"
   ]
  },
  {
   "cell_type": "markdown",
   "id": "f79411a7",
   "metadata": {},
   "source": [
    "Although not perfect, we can see that the fainter training sources have been significantly up-weighted when compared to the original distribution. The colours are also distributed more like those of the full sample.\n",
    "\n",
    "To include the weights in GPz we can simply add them to our input catalogue and tell GPz to include them in the training:"
   ]
  },
  {
   "cell_type": "code",
   "execution_count": 27,
   "id": "935c64f5",
   "metadata": {},
   "outputs": [],
   "source": [
    "\n",
    "catalogue['weights'] = weights"
   ]
  },
  {
   "cell_type": "code",
   "execution_count": 76,
   "id": "bc69f161",
   "metadata": {},
   "outputs": [
    {
     "name": "stderr",
     "output_type": "stream",
     "text": [
      "WARNING:root:Removing existing model file MPhys/data_release/gmm/new_release_weights_bc_model.dat\n",
      "WARNING:root:Removing existing model file MPhys/data_release/gmm/new_release_weights_bc_model.dat\n",
      "WARNING:root:Removing existing model file MPhys/data_release/gmm/new_release_weights_bc_model.dat\n",
      "WARNING:root:Removing existing model file MPhys/data_release/gmm/new_release_weights_bc_model.dat\n",
      "WARNING:root:Removing existing model file MPhys/data_release/gmm/new_release_weights_bc_model.dat\n",
      "WARNING:root:Removing existing model file MPhys/data_release/gmm/new_release_weights_bc_model.dat\n"
     ]
    }
   ],
   "source": [
    " # Add the weights to our previous catalogue\n",
    "    \n",
    "da_w =np.zeros(1)\n",
    "while da_w ==0:\n",
    "    weights_run, paths = test.run_training( # All of these as above but with minor changes\n",
    "              catalogue, \n",
    "              outdir=f'{directory}', \n",
    "              basename=f'new_release_weights_bc', # Change the prefix to keep separate\n",
    "              bash_script=False,\n",
    "              mag_prefix='lupt_',\n",
    "              error_prefix='lupterr_', \n",
    "              id_col='id',\n",
    "              total_basis_functions=150,\n",
    "              do_iteration=False, \n",
    "              max_output = 16,\n",
    "              verbose=False,\n",
    "              weight_col='weights', # Now weight training by this column\n",
    "              bands = f'^lupt_(f115w-clear|f200w-clear|f356w-clear|f444w-clear)$',\n",
    "            )\n",
    "\n",
    "\n",
    "    for i in range(len(weights_run)):\n",
    "        if weights_run['id'][i]==61853:\n",
    "            da_w= i\n"
   ]
  },
  {
   "cell_type": "code",
   "execution_count": 77,
   "id": "e095e568",
   "metadata": {},
   "outputs": [
    {
     "data": {
      "text/html": [
       "<i>Row index=489</i>\n",
       "<table id=\"table140619908594000\">\n",
       "<thead><tr><th>field</th><th>id</th><th>ra</th><th>dec</th><th>z_spec</th><th>lupt_f115w-clear</th><th>lupterr_f115w-clear</th><th>lupt_f200w-clear</th><th>lupterr_f200w-clear</th><th>lupt_f356w-clear</th><th>lupterr_f356w-clear</th><th>lupt_f444w-clear</th><th>lupterr_f444w-clear</th><th>weights</th><th>value</th><th>uncertainty</th><th>var.density</th><th>var.tr.noise</th><th>var.in.noise</th></tr></thead>\n",
       "<thead><tr><th>str13</th><th>int64</th><th>float64</th><th>float64</th><th>float64</th><th>float64</th><th>float64</th><th>float64</th><th>float64</th><th>float64</th><th>float64</th><th>float64</th><th>float64</th><th>float64</th><th>float64</th><th>float64</th><th>float64</th><th>float64</th><th>float64</th></tr></thead>\n",
       "<tr><td>ceers</td><td>61853</td><td>214.94313835441517</td><td>52.94244510246539</td><td>11.4109</td><td>32.23151178338668</td><td>0.21031000646223602</td><td>27.81805342514984</td><td>0.08975659142896969</td><td>28.197086519373986</td><td>0.1077509091811779</td><td>28.22923942073591</td><td>0.17501765760760163</td><td>22.701407430697053</td><td>3.622819</td><td>1.559316</td><td>0.1760373</td><td>2.216255</td><td>0.03917603</td></tr>\n",
       "</table>"
      ],
      "text/plain": [
       "<Row index=489>\n",
       "field   id          ra                dec         z_spec  lupt_f115w-clear lupterr_f115w-clear  lupt_f200w-clear lupterr_f200w-clear  lupt_f356w-clear  lupterr_f356w-clear  lupt_f444w-clear lupterr_f444w-clear      weights        value   uncertainty var.density var.tr.noise var.in.noise\n",
       "str13 int64      float64            float64      float64      float64            float64            float64            float64            float64             float64            float64            float64            float64       float64    float64     float64     float64      float64   \n",
       "----- ----- ------------------ ----------------- ------- ----------------- ------------------- ----------------- ------------------- ------------------ ------------------- ----------------- ------------------- ------------------ -------- ----------- ----------- ------------ ------------\n",
       "ceers 61853 214.94313835441517 52.94244510246539 11.4109 32.23151178338668 0.21031000646223602 27.81805342514984 0.08975659142896969 28.197086519373986  0.1077509091811779 28.22923942073591 0.17501765760760163 22.701407430697053 3.622819    1.559316   0.1760373     2.216255   0.03917603"
      ]
     },
     "execution_count": 77,
     "metadata": {},
     "output_type": "execute_result"
    }
   ],
   "source": [
    "weights_run[da_w]"
   ]
  },
  {
   "cell_type": "code",
   "execution_count": 29,
   "id": "bd151663",
   "metadata": {},
   "outputs": [],
   "source": [
    "cat_cut=catalogue['id','weights']\n",
    "if 'weights' in simple_run.colnames:\n",
    "    simple_run.remove_columns(['weights'])\n",
    "simple_run=join(simple_run,cat_cut,keys='id')"
   ]
  },
  {
   "cell_type": "code",
   "execution_count": null,
   "id": "6764ffec",
   "metadata": {},
   "outputs": [],
   "source": [
    "count = 0\n",
    "simple_sig=[]\n",
    "simple_olf=[]\n",
    "simple_bias=[]\n",
    "while count<=500:\n",
    "    simple_sub = np.random.choice(simple_run,300,p=simple_run['weights']/np.sum(simple_run['weights']),replace= True)\n",
    "    stats_simple_sub = calcStats(simple_sub['z_spec'], simple_sub['value'])\n",
    "    simple_sig.append(stats_simple_sub[0])\n",
    "    simple_olf.append(stats_simple_sub[2])\n",
    "    simple_bias.append(stats_simple_sub[3])\n",
    "    count+=1\n",
    "    \n",
    "sigs.append(np.nanmedian(simple_sig))\n",
    "olfs.append(np.nanmedian(simple_olf))\n",
    "bias.append(np.nanmedian(simple_bias)) \n"
   ]
  },
  {
   "cell_type": "markdown",
   "id": "0b08abc5",
   "metadata": {},
   "source": [
    "At face value, the weights have not resulted in an overall statistical improvement to the photo-$z$ estimates. But by eye, there is definitely some improvement at the higher redshift end. For now, we move onto the GMM-Divide option.\n",
    "\n",
    "## GMM Divide\n",
    "\n",
    "Dividing the training sample into different mixtures is as equally simple. For this example with its relatively small sample sizes, the number of training sources that could end up assigned to a mixture could be very small. We therefore will lower the threshold above which a source will be assigned to a mixture to 0.2, approximately saying that the source has at least a 20% chance of belonging to that mixture. (Note the default 0.5 effectively assigns each source to its best match)"
   ]
  },
  {
   "cell_type": "code",
   "execution_count": 30,
   "id": "8afcc896",
   "metadata": {},
   "outputs": [],
   "source": [
    "train_mixtures = gmm.divide(X_train[:,:], \n",
    "                            weight=False, # Do not include CSL weights yet\n",
    "                            threshold=0.5) # Change the divide threshold\n",
    "\n",
    "inputs['weights'] = 1. # Re-set the weights to be equal\n",
    "\n",
    "# Save for later\n",
    "#train_mixtures.write(f'MPhys/data_release/gmm/f160w_train_mixtures.csv', format='ascii.csv', overwrite=True)"
   ]
  },
  {
   "cell_type": "code",
   "execution_count": 74,
   "id": "38834847",
   "metadata": {},
   "outputs": [
    {
     "name": "stdout",
     "output_type": "stream",
     "text": [
      "GPz++ Run (mixture 1/4):   0%|                                                                    | 0/4 [00:00<?, ?it/s]"
     ]
    },
    {
     "name": "stderr",
     "output_type": "stream",
     "text": [
      "WARNING:root:Removing existing model file MPhys/data_release/gmm/new_release_bc_divide_m0_model.dat\n"
     ]
    },
    {
     "name": "stdout",
     "output_type": "stream",
     "text": [
      "GPz++ Run (mixture 2/4):  25%|███████████████                                             | 1/4 [00:01<00:03,  1.11s/it]"
     ]
    },
    {
     "name": "stderr",
     "output_type": "stream",
     "text": [
      "WARNING:root:Removing existing model file MPhys/data_release/gmm/new_release_bc_divide_m1_model.dat\n"
     ]
    },
    {
     "name": "stdout",
     "output_type": "stream",
     "text": [
      "GPz++ Run (mixture 3/4):  50%|██████████████████████████████                              | 2/4 [00:03<00:03,  1.99s/it]"
     ]
    },
    {
     "name": "stderr",
     "output_type": "stream",
     "text": [
      "WARNING:root:Removing existing model file MPhys/data_release/gmm/new_release_bc_divide_m2_model.dat\n"
     ]
    },
    {
     "name": "stdout",
     "output_type": "stream",
     "text": [
      "GPz++ Run (mixture 4/4):  75%|█████████████████████████████████████████████               | 3/4 [00:05<00:01,  1.89s/it]"
     ]
    },
    {
     "name": "stderr",
     "output_type": "stream",
     "text": [
      "WARNING:root:Removing existing model file MPhys/data_release/gmm/new_release_bc_divide_m3_model.dat\n"
     ]
    },
    {
     "name": "stdout",
     "output_type": "stream",
     "text": [
      "GPz++ Run (mixture 4/4): 100%|████████████████████████████████████████████████████████████| 4/4 [00:06<00:00,  1.68s/it]\n",
      "GPz++ Run (mixture 1/4):   0%|                                                                    | 0/4 [00:00<?, ?it/s]"
     ]
    },
    {
     "name": "stderr",
     "output_type": "stream",
     "text": [
      "WARNING:root:Removing existing model file MPhys/data_release/gmm/new_release_bc_divide_m0_model.dat\n"
     ]
    },
    {
     "name": "stdout",
     "output_type": "stream",
     "text": [
      "GPz++ Run (mixture 2/4):  25%|███████████████                                             | 1/4 [00:01<00:03,  1.10s/it]"
     ]
    },
    {
     "name": "stderr",
     "output_type": "stream",
     "text": [
      "WARNING:root:Removing existing model file MPhys/data_release/gmm/new_release_bc_divide_m1_model.dat\n"
     ]
    },
    {
     "name": "stdout",
     "output_type": "stream",
     "text": [
      "GPz++ Run (mixture 3/4):  50%|██████████████████████████████                              | 2/4 [00:04<00:04,  2.24s/it]"
     ]
    },
    {
     "name": "stderr",
     "output_type": "stream",
     "text": [
      "WARNING:root:Removing existing model file MPhys/data_release/gmm/new_release_bc_divide_m2_model.dat\n"
     ]
    },
    {
     "name": "stdout",
     "output_type": "stream",
     "text": [
      "GPz++ Run (mixture 4/4):  75%|█████████████████████████████████████████████               | 3/4 [00:05<00:02,  2.06s/it]"
     ]
    },
    {
     "name": "stderr",
     "output_type": "stream",
     "text": [
      "WARNING:root:Removing existing model file MPhys/data_release/gmm/new_release_bc_divide_m3_model.dat\n"
     ]
    },
    {
     "name": "stdout",
     "output_type": "stream",
     "text": [
      "GPz++ Run (mixture 4/4): 100%|████████████████████████████████████████████████████████████| 4/4 [00:07<00:00,  1.80s/it]\n"
     ]
    }
   ],
   "source": [
    "#gmm_output = Table.read(f'MPhys/gmm_cats/gmm_splits/f435w_mixtures_ex_base_mag.csv', format='ascii.csv')\n",
    "cd_ah= np.zeros(1)\n",
    "while cd_ah ==0:\n",
    "\n",
    "    divide_run, paths = test.run_training(catalogue, outdir=f'{directory}', \n",
    "                             basename=f'new_release_bc_divide',\n",
    "                             gmm_output=train_mixtures,\n",
    "                             bash_script=False,\n",
    "                             weight_col='weights',\n",
    "                             mag_prefix='lupt_', \n",
    "                             max_output=16,\n",
    "                             error_prefix='lupterr_', id_col='id',\n",
    "                             bands = f'^lupt_(f115w-clear|f200w-clear|f356w-clear|f444w-clear)$',\n",
    "                             total_basis_functions=n, do_iteration=False, verbose=False)\n",
    "     #   \n",
    "    for i in range(len(divide_run)):\n",
    "        if divide_run['id'][i]==61853:\n",
    "            cd_ah = i"
   ]
  },
  {
   "cell_type": "code",
   "execution_count": 75,
   "id": "4ad9296f",
   "metadata": {},
   "outputs": [
    {
     "data": {
      "text/html": [
       "<i>Row index=449</i>\n",
       "<table id=\"table140620327205328\">\n",
       "<thead><tr><th>field</th><th>id</th><th>ra</th><th>dec</th><th>z_spec</th><th>lupt_f115w-clear</th><th>lupterr_f115w-clear</th><th>lupt_f200w-clear</th><th>lupterr_f200w-clear</th><th>lupt_f356w-clear</th><th>lupterr_f356w-clear</th><th>lupt_f444w-clear</th><th>lupterr_f444w-clear</th><th>weights</th><th>value</th><th>uncertainty</th><th>var.density</th><th>var.tr.noise</th><th>var.in.noise</th></tr></thead>\n",
       "<thead><tr><th>str13</th><th>int64</th><th>float64</th><th>float64</th><th>float64</th><th>float64</th><th>float64</th><th>float64</th><th>float64</th><th>float64</th><th>float64</th><th>float64</th><th>float64</th><th>float64</th><th>float64</th><th>float64</th><th>float64</th><th>float64</th><th>float64</th></tr></thead>\n",
       "<tr><td>ceers</td><td>61853</td><td>214.94313835441517</td><td>52.94244510246539</td><td>11.4109</td><td>32.23151178338668</td><td>0.21031000646223602</td><td>27.81805342514984</td><td>0.08975659142896969</td><td>28.197086519373986</td><td>0.1077509091811779</td><td>28.22923942073591</td><td>0.17501765760760163</td><td>22.701407430697053</td><td>3.654491</td><td>1.836146</td><td>0.109098</td><td>3.236199</td><td>0.02613646</td></tr>\n",
       "</table>"
      ],
      "text/plain": [
       "<Row index=449>\n",
       "field   id          ra                dec         z_spec  lupt_f115w-clear lupterr_f115w-clear  lupt_f200w-clear lupterr_f200w-clear  lupt_f356w-clear  lupterr_f356w-clear  lupt_f444w-clear lupterr_f444w-clear      weights        value   uncertainty var.density var.tr.noise var.in.noise\n",
       "str13 int64      float64            float64      float64      float64            float64            float64            float64            float64             float64            float64            float64            float64       float64    float64     float64     float64      float64   \n",
       "----- ----- ------------------ ----------------- ------- ----------------- ------------------- ----------------- ------------------- ------------------ ------------------- ----------------- ------------------- ------------------ -------- ----------- ----------- ------------ ------------\n",
       "ceers 61853 214.94313835441517 52.94244510246539 11.4109 32.23151178338668 0.21031000646223602 27.81805342514984 0.08975659142896969 28.197086519373986  0.1077509091811779 28.22923942073591 0.17501765760760163 22.701407430697053 3.654491    1.836146    0.109098     3.236199   0.02613646"
      ]
     },
     "execution_count": 75,
     "metadata": {},
     "output_type": "execute_result"
    }
   ],
   "source": [
    "divide_run[cd_ah]"
   ]
  },
  {
   "cell_type": "markdown",
   "id": "d7f5a3a0",
   "metadata": {},
   "source": [
    "This time we can see that overall outlier fraction and scatter are now improved. Visually, we can also see that the high-redshift end is also significantly improved. \n",
    "\n",
    "Lets now do a run using both the GMM Divide and Weights. This can be done using the divide option, but setting `weight = True` in the options. To prevent confusion, we will also now remove the weight column we added above, since the weights will now be propagated through the catalogue included as `gmm_output`:"
   ]
  },
  {
   "cell_type": "code",
   "execution_count": 33,
   "id": "4c2b3e60",
   "metadata": {},
   "outputs": [],
   "source": [
    "train_mixtures2 = gmm.divide(X_train[:,:], \n",
    "                            weight=True,\n",
    "                            threshold=0.5) # Do not include CSL weights yet\n",
    "\n",
    "if 'weights' in inputs.colnames:\n",
    "    inputs.remove_columns(['weights'])  # Weights will be taken from the GMM outputs file now instead"
   ]
  },
  {
   "cell_type": "markdown",
   "id": "74694709",
   "metadata": {},
   "source": [
    "Run the gpz training as normal:"
   ]
  },
  {
   "cell_type": "code",
   "execution_count": 72,
   "id": "ffb4c40f",
   "metadata": {},
   "outputs": [
    {
     "name": "stdout",
     "output_type": "stream",
     "text": [
      "GPz++ Run (mixture 1/4):   0%|                                                                    | 0/4 [00:00<?, ?it/s]"
     ]
    },
    {
     "name": "stderr",
     "output_type": "stream",
     "text": [
      "WARNING:root:Removing existing model file MPhys/data_release/gmm/new_release_bc_both_m0_model.dat\n"
     ]
    },
    {
     "name": "stdout",
     "output_type": "stream",
     "text": [
      "GPz++ Run (mixture 2/4):  25%|███████████████                                             | 1/4 [00:01<00:03,  1.14s/it]"
     ]
    },
    {
     "name": "stderr",
     "output_type": "stream",
     "text": [
      "WARNING:root:Removing existing model file MPhys/data_release/gmm/new_release_bc_both_m1_model.dat\n"
     ]
    },
    {
     "name": "stdout",
     "output_type": "stream",
     "text": [
      "GPz++ Run (mixture 3/4):  50%|██████████████████████████████                              | 2/4 [00:04<00:04,  2.43s/it]"
     ]
    },
    {
     "name": "stderr",
     "output_type": "stream",
     "text": [
      "WARNING:root:Removing existing model file MPhys/data_release/gmm/new_release_bc_both_m2_model.dat\n"
     ]
    },
    {
     "name": "stdout",
     "output_type": "stream",
     "text": [
      "GPz++ Run (mixture 4/4):  75%|█████████████████████████████████████████████               | 3/4 [00:06<00:02,  2.06s/it]"
     ]
    },
    {
     "name": "stderr",
     "output_type": "stream",
     "text": [
      "WARNING:root:Removing existing model file MPhys/data_release/gmm/new_release_bc_both_m3_model.dat\n"
     ]
    },
    {
     "name": "stdout",
     "output_type": "stream",
     "text": [
      "GPz++ Run (mixture 4/4): 100%|████████████████████████████████████████████████████████████| 4/4 [00:07<00:00,  1.83s/it]\n",
      "GPz++ Run (mixture 1/4):   0%|                                                                    | 0/4 [00:00<?, ?it/s]"
     ]
    },
    {
     "name": "stderr",
     "output_type": "stream",
     "text": [
      "WARNING:root:Removing existing model file MPhys/data_release/gmm/new_release_bc_both_m0_model.dat\n"
     ]
    },
    {
     "name": "stdout",
     "output_type": "stream",
     "text": [
      "GPz++ Run (mixture 2/4):  25%|███████████████                                             | 1/4 [00:01<00:03,  1.10s/it]"
     ]
    },
    {
     "name": "stderr",
     "output_type": "stream",
     "text": [
      "WARNING:root:Removing existing model file MPhys/data_release/gmm/new_release_bc_both_m1_model.dat\n"
     ]
    },
    {
     "name": "stdout",
     "output_type": "stream",
     "text": [
      "GPz++ Run (mixture 3/4):  50%|██████████████████████████████                              | 2/4 [00:04<00:04,  2.20s/it]"
     ]
    },
    {
     "name": "stderr",
     "output_type": "stream",
     "text": [
      "WARNING:root:Removing existing model file MPhys/data_release/gmm/new_release_bc_both_m2_model.dat\n"
     ]
    },
    {
     "name": "stdout",
     "output_type": "stream",
     "text": [
      "GPz++ Run (mixture 4/4):  75%|█████████████████████████████████████████████               | 3/4 [00:06<00:02,  2.10s/it]"
     ]
    },
    {
     "name": "stderr",
     "output_type": "stream",
     "text": [
      "WARNING:root:Removing existing model file MPhys/data_release/gmm/new_release_bc_both_m3_model.dat\n"
     ]
    },
    {
     "name": "stdout",
     "output_type": "stream",
     "text": [
      "GPz++ Run (mixture 4/4): 100%|████████████████████████████████████████████████████████████| 4/4 [00:07<00:00,  1.82s/it]\n",
      "GPz++ Run (mixture 1/4):   0%|                                                                    | 0/4 [00:00<?, ?it/s]"
     ]
    },
    {
     "name": "stderr",
     "output_type": "stream",
     "text": [
      "WARNING:root:Removing existing model file MPhys/data_release/gmm/new_release_bc_both_m0_model.dat\n"
     ]
    },
    {
     "name": "stdout",
     "output_type": "stream",
     "text": [
      "GPz++ Run (mixture 2/4):  25%|███████████████                                             | 1/4 [00:01<00:03,  1.11s/it]"
     ]
    },
    {
     "name": "stderr",
     "output_type": "stream",
     "text": [
      "WARNING:root:Removing existing model file MPhys/data_release/gmm/new_release_bc_both_m1_model.dat\n"
     ]
    },
    {
     "name": "stdout",
     "output_type": "stream",
     "text": [
      "GPz++ Run (mixture 3/4):  50%|██████████████████████████████                              | 2/4 [00:03<00:03,  1.84s/it]"
     ]
    },
    {
     "name": "stderr",
     "output_type": "stream",
     "text": [
      "WARNING:root:Removing existing model file MPhys/data_release/gmm/new_release_bc_both_m2_model.dat\n"
     ]
    },
    {
     "name": "stdout",
     "output_type": "stream",
     "text": [
      "GPz++ Run (mixture 4/4):  75%|█████████████████████████████████████████████               | 3/4 [00:05<00:01,  1.71s/it]"
     ]
    },
    {
     "name": "stderr",
     "output_type": "stream",
     "text": [
      "WARNING:root:Removing existing model file MPhys/data_release/gmm/new_release_bc_both_m3_model.dat\n"
     ]
    },
    {
     "name": "stdout",
     "output_type": "stream",
     "text": [
      "GPz++ Run (mixture 4/4): 100%|████████████████████████████████████████████████████████████| 4/4 [00:06<00:00,  1.56s/it]\n",
      "GPz++ Run (mixture 1/4):   0%|                                                                    | 0/4 [00:00<?, ?it/s]"
     ]
    },
    {
     "name": "stderr",
     "output_type": "stream",
     "text": [
      "WARNING:root:Removing existing model file MPhys/data_release/gmm/new_release_bc_both_m0_model.dat\n"
     ]
    },
    {
     "name": "stdout",
     "output_type": "stream",
     "text": [
      "GPz++ Run (mixture 2/4):  25%|███████████████                                             | 1/4 [00:01<00:03,  1.11s/it]"
     ]
    },
    {
     "name": "stderr",
     "output_type": "stream",
     "text": [
      "WARNING:root:Removing existing model file MPhys/data_release/gmm/new_release_bc_both_m1_model.dat\n"
     ]
    },
    {
     "name": "stdout",
     "output_type": "stream",
     "text": [
      "GPz++ Run (mixture 3/4):  50%|██████████████████████████████                              | 2/4 [00:03<00:03,  1.97s/it]"
     ]
    },
    {
     "name": "stderr",
     "output_type": "stream",
     "text": [
      "WARNING:root:Removing existing model file MPhys/data_release/gmm/new_release_bc_both_m2_model.dat\n"
     ]
    },
    {
     "name": "stdout",
     "output_type": "stream",
     "text": [
      "GPz++ Run (mixture 4/4):  75%|█████████████████████████████████████████████               | 3/4 [00:05<00:02,  2.01s/it]"
     ]
    },
    {
     "name": "stderr",
     "output_type": "stream",
     "text": [
      "WARNING:root:Removing existing model file MPhys/data_release/gmm/new_release_bc_both_m3_model.dat\n"
     ]
    },
    {
     "name": "stdout",
     "output_type": "stream",
     "text": [
      "GPz++ Run (mixture 4/4): 100%|████████████████████████████████████████████████████████████| 4/4 [00:06<00:00,  1.74s/it]\n",
      "GPz++ Run (mixture 1/4):   0%|                                                                    | 0/4 [00:00<?, ?it/s]"
     ]
    },
    {
     "name": "stderr",
     "output_type": "stream",
     "text": [
      "WARNING:root:Removing existing model file MPhys/data_release/gmm/new_release_bc_both_m0_model.dat\n"
     ]
    },
    {
     "name": "stdout",
     "output_type": "stream",
     "text": [
      "GPz++ Run (mixture 2/4):  25%|███████████████                                             | 1/4 [00:01<00:03,  1.10s/it]"
     ]
    },
    {
     "name": "stderr",
     "output_type": "stream",
     "text": [
      "WARNING:root:Removing existing model file MPhys/data_release/gmm/new_release_bc_both_m1_model.dat\n"
     ]
    },
    {
     "name": "stdout",
     "output_type": "stream",
     "text": [
      "GPz++ Run (mixture 3/4):  50%|██████████████████████████████                              | 2/4 [00:03<00:03,  2.00s/it]"
     ]
    },
    {
     "name": "stderr",
     "output_type": "stream",
     "text": [
      "WARNING:root:Removing existing model file MPhys/data_release/gmm/new_release_bc_both_m2_model.dat\n"
     ]
    },
    {
     "name": "stdout",
     "output_type": "stream",
     "text": [
      "GPz++ Run (mixture 4/4):  75%|█████████████████████████████████████████████               | 3/4 [00:05<00:02,  2.05s/it]"
     ]
    },
    {
     "name": "stderr",
     "output_type": "stream",
     "text": [
      "WARNING:root:Removing existing model file MPhys/data_release/gmm/new_release_bc_both_m3_model.dat\n"
     ]
    },
    {
     "name": "stdout",
     "output_type": "stream",
     "text": [
      "GPz++ Run (mixture 4/4): 100%|████████████████████████████████████████████████████████████| 4/4 [00:07<00:00,  1.77s/it]\n",
      "GPz++ Run (mixture 1/4):   0%|                                                                    | 0/4 [00:00<?, ?it/s]"
     ]
    },
    {
     "name": "stderr",
     "output_type": "stream",
     "text": [
      "WARNING:root:Removing existing model file MPhys/data_release/gmm/new_release_bc_both_m0_model.dat\n"
     ]
    },
    {
     "name": "stdout",
     "output_type": "stream",
     "text": [
      "GPz++ Run (mixture 2/4):  25%|███████████████                                             | 1/4 [00:01<00:03,  1.10s/it]"
     ]
    },
    {
     "name": "stderr",
     "output_type": "stream",
     "text": [
      "WARNING:root:Removing existing model file MPhys/data_release/gmm/new_release_bc_both_m1_model.dat\n"
     ]
    },
    {
     "name": "stdout",
     "output_type": "stream",
     "text": [
      "GPz++ Run (mixture 3/4):  50%|██████████████████████████████                              | 2/4 [00:03<00:03,  1.92s/it]"
     ]
    },
    {
     "name": "stderr",
     "output_type": "stream",
     "text": [
      "WARNING:root:Removing existing model file MPhys/data_release/gmm/new_release_bc_both_m2_model.dat\n"
     ]
    },
    {
     "name": "stdout",
     "output_type": "stream",
     "text": [
      "GPz++ Run (mixture 4/4):  75%|█████████████████████████████████████████████               | 3/4 [00:05<00:01,  1.83s/it]"
     ]
    },
    {
     "name": "stderr",
     "output_type": "stream",
     "text": [
      "WARNING:root:Removing existing model file MPhys/data_release/gmm/new_release_bc_both_m3_model.dat\n"
     ]
    },
    {
     "name": "stdout",
     "output_type": "stream",
     "text": [
      "GPz++ Run (mixture 4/4): 100%|████████████████████████████████████████████████████████████| 4/4 [00:06<00:00,  1.65s/it]\n",
      "GPz++ Run (mixture 1/4):   0%|                                                                    | 0/4 [00:00<?, ?it/s]"
     ]
    },
    {
     "name": "stderr",
     "output_type": "stream",
     "text": [
      "WARNING:root:Removing existing model file MPhys/data_release/gmm/new_release_bc_both_m0_model.dat\n"
     ]
    },
    {
     "name": "stdout",
     "output_type": "stream",
     "text": [
      "GPz++ Run (mixture 2/4):  25%|███████████████                                             | 1/4 [00:01<00:03,  1.10s/it]"
     ]
    },
    {
     "name": "stderr",
     "output_type": "stream",
     "text": [
      "WARNING:root:Removing existing model file MPhys/data_release/gmm/new_release_bc_both_m1_model.dat\n"
     ]
    },
    {
     "name": "stdout",
     "output_type": "stream",
     "text": [
      "GPz++ Run (mixture 3/4):  50%|██████████████████████████████                              | 2/4 [00:03<00:03,  1.91s/it]"
     ]
    },
    {
     "name": "stderr",
     "output_type": "stream",
     "text": [
      "WARNING:root:Removing existing model file MPhys/data_release/gmm/new_release_bc_both_m2_model.dat\n"
     ]
    },
    {
     "name": "stdout",
     "output_type": "stream",
     "text": [
      "GPz++ Run (mixture 4/4):  75%|█████████████████████████████████████████████               | 3/4 [00:05<00:01,  1.92s/it]"
     ]
    },
    {
     "name": "stderr",
     "output_type": "stream",
     "text": [
      "WARNING:root:Removing existing model file MPhys/data_release/gmm/new_release_bc_both_m3_model.dat\n"
     ]
    },
    {
     "name": "stdout",
     "output_type": "stream",
     "text": [
      "GPz++ Run (mixture 4/4): 100%|████████████████████████████████████████████████████████████| 4/4 [00:06<00:00,  1.70s/it]\n",
      "GPz++ Run (mixture 1/4):   0%|                                                                    | 0/4 [00:00<?, ?it/s]"
     ]
    },
    {
     "name": "stderr",
     "output_type": "stream",
     "text": [
      "WARNING:root:Removing existing model file MPhys/data_release/gmm/new_release_bc_both_m0_model.dat\n"
     ]
    },
    {
     "name": "stdout",
     "output_type": "stream",
     "text": [
      "GPz++ Run (mixture 2/4):  25%|███████████████                                             | 1/4 [00:01<00:03,  1.11s/it]"
     ]
    },
    {
     "name": "stderr",
     "output_type": "stream",
     "text": [
      "WARNING:root:Removing existing model file MPhys/data_release/gmm/new_release_bc_both_m1_model.dat\n"
     ]
    },
    {
     "name": "stdout",
     "output_type": "stream",
     "text": [
      "GPz++ Run (mixture 3/4):  50%|██████████████████████████████                              | 2/4 [00:03<00:04,  2.12s/it]"
     ]
    },
    {
     "name": "stderr",
     "output_type": "stream",
     "text": [
      "WARNING:root:Removing existing model file MPhys/data_release/gmm/new_release_bc_both_m2_model.dat\n"
     ]
    },
    {
     "name": "stdout",
     "output_type": "stream",
     "text": [
      "GPz++ Run (mixture 4/4):  75%|█████████████████████████████████████████████               | 3/4 [00:06<00:02,  2.10s/it]"
     ]
    },
    {
     "name": "stderr",
     "output_type": "stream",
     "text": [
      "WARNING:root:Removing existing model file MPhys/data_release/gmm/new_release_bc_both_m3_model.dat\n"
     ]
    },
    {
     "name": "stdout",
     "output_type": "stream",
     "text": [
      "GPz++ Run (mixture 4/4): 100%|████████████████████████████████████████████████████████████| 4/4 [00:07<00:00,  1.80s/it]\n",
      "GPz++ Run (mixture 1/4):   0%|                                                                    | 0/4 [00:00<?, ?it/s]"
     ]
    },
    {
     "name": "stderr",
     "output_type": "stream",
     "text": [
      "WARNING:root:Removing existing model file MPhys/data_release/gmm/new_release_bc_both_m0_model.dat\n"
     ]
    },
    {
     "name": "stdout",
     "output_type": "stream",
     "text": [
      "GPz++ Run (mixture 2/4):  25%|███████████████                                             | 1/4 [00:01<00:03,  1.09s/it]"
     ]
    },
    {
     "name": "stderr",
     "output_type": "stream",
     "text": [
      "WARNING:root:Removing existing model file MPhys/data_release/gmm/new_release_bc_both_m1_model.dat\n"
     ]
    },
    {
     "name": "stdout",
     "output_type": "stream",
     "text": [
      "GPz++ Run (mixture 3/4):  50%|██████████████████████████████                              | 2/4 [00:04<00:04,  2.17s/it]"
     ]
    },
    {
     "name": "stderr",
     "output_type": "stream",
     "text": [
      "WARNING:root:Removing existing model file MPhys/data_release/gmm/new_release_bc_both_m2_model.dat\n"
     ]
    },
    {
     "name": "stdout",
     "output_type": "stream",
     "text": [
      "GPz++ Run (mixture 4/4):  75%|█████████████████████████████████████████████               | 3/4 [00:05<00:02,  2.08s/it]"
     ]
    },
    {
     "name": "stderr",
     "output_type": "stream",
     "text": [
      "WARNING:root:Removing existing model file MPhys/data_release/gmm/new_release_bc_both_m3_model.dat\n"
     ]
    },
    {
     "name": "stdout",
     "output_type": "stream",
     "text": [
      "GPz++ Run (mixture 4/4): 100%|████████████████████████████████████████████████████████████| 4/4 [00:07<00:00,  1.80s/it]\n",
      "GPz++ Run (mixture 1/4):   0%|                                                                    | 0/4 [00:00<?, ?it/s]"
     ]
    },
    {
     "name": "stderr",
     "output_type": "stream",
     "text": [
      "WARNING:root:Removing existing model file MPhys/data_release/gmm/new_release_bc_both_m0_model.dat\n"
     ]
    },
    {
     "name": "stdout",
     "output_type": "stream",
     "text": [
      "GPz++ Run (mixture 2/4):  25%|███████████████                                             | 1/4 [00:01<00:03,  1.11s/it]"
     ]
    },
    {
     "name": "stderr",
     "output_type": "stream",
     "text": [
      "WARNING:root:Removing existing model file MPhys/data_release/gmm/new_release_bc_both_m1_model.dat\n"
     ]
    },
    {
     "name": "stdout",
     "output_type": "stream",
     "text": [
      "GPz++ Run (mixture 3/4):  50%|██████████████████████████████                              | 2/4 [00:03<00:04,  2.02s/it]"
     ]
    },
    {
     "name": "stderr",
     "output_type": "stream",
     "text": [
      "WARNING:root:Removing existing model file MPhys/data_release/gmm/new_release_bc_both_m2_model.dat\n"
     ]
    },
    {
     "name": "stdout",
     "output_type": "stream",
     "text": [
      "GPz++ Run (mixture 4/4):  75%|█████████████████████████████████████████████               | 3/4 [00:05<00:01,  1.84s/it]"
     ]
    },
    {
     "name": "stderr",
     "output_type": "stream",
     "text": [
      "WARNING:root:Removing existing model file MPhys/data_release/gmm/new_release_bc_both_m3_model.dat\n"
     ]
    },
    {
     "name": "stdout",
     "output_type": "stream",
     "text": [
      "GPz++ Run (mixture 4/4): 100%|████████████████████████████████████████████████████████████| 4/4 [00:06<00:00,  1.66s/it]\n",
      "GPz++ Run (mixture 1/4):   0%|                                                                    | 0/4 [00:00<?, ?it/s]"
     ]
    },
    {
     "name": "stderr",
     "output_type": "stream",
     "text": [
      "WARNING:root:Removing existing model file MPhys/data_release/gmm/new_release_bc_both_m0_model.dat\n"
     ]
    },
    {
     "name": "stdout",
     "output_type": "stream",
     "text": [
      "GPz++ Run (mixture 2/4):  25%|███████████████                                             | 1/4 [00:01<00:03,  1.11s/it]"
     ]
    },
    {
     "name": "stderr",
     "output_type": "stream",
     "text": [
      "WARNING:root:Removing existing model file MPhys/data_release/gmm/new_release_bc_both_m1_model.dat\n"
     ]
    },
    {
     "name": "stdout",
     "output_type": "stream",
     "text": [
      "GPz++ Run (mixture 3/4):  50%|██████████████████████████████                              | 2/4 [00:03<00:04,  2.09s/it]"
     ]
    },
    {
     "name": "stderr",
     "output_type": "stream",
     "text": [
      "WARNING:root:Removing existing model file MPhys/data_release/gmm/new_release_bc_both_m2_model.dat\n"
     ]
    },
    {
     "name": "stdout",
     "output_type": "stream",
     "text": [
      "GPz++ Run (mixture 4/4):  75%|█████████████████████████████████████████████               | 3/4 [00:05<00:02,  2.03s/it]"
     ]
    },
    {
     "name": "stderr",
     "output_type": "stream",
     "text": [
      "WARNING:root:Removing existing model file MPhys/data_release/gmm/new_release_bc_both_m3_model.dat\n"
     ]
    },
    {
     "name": "stdout",
     "output_type": "stream",
     "text": [
      "GPz++ Run (mixture 4/4): 100%|████████████████████████████████████████████████████████████| 4/4 [00:07<00:00,  1.76s/it]\n",
      "GPz++ Run (mixture 1/4):   0%|                                                                    | 0/4 [00:00<?, ?it/s]"
     ]
    },
    {
     "name": "stderr",
     "output_type": "stream",
     "text": [
      "WARNING:root:Removing existing model file MPhys/data_release/gmm/new_release_bc_both_m0_model.dat\n"
     ]
    },
    {
     "name": "stdout",
     "output_type": "stream",
     "text": [
      "GPz++ Run (mixture 2/4):  25%|███████████████                                             | 1/4 [00:01<00:03,  1.12s/it]"
     ]
    },
    {
     "name": "stderr",
     "output_type": "stream",
     "text": [
      "WARNING:root:Removing existing model file MPhys/data_release/gmm/new_release_bc_both_m1_model.dat\n"
     ]
    },
    {
     "name": "stdout",
     "output_type": "stream",
     "text": [
      "GPz++ Run (mixture 3/4):  50%|██████████████████████████████                              | 2/4 [00:04<00:04,  2.27s/it]"
     ]
    },
    {
     "name": "stderr",
     "output_type": "stream",
     "text": [
      "WARNING:root:Removing existing model file MPhys/data_release/gmm/new_release_bc_both_m2_model.dat\n"
     ]
    },
    {
     "name": "stdout",
     "output_type": "stream",
     "text": [
      "GPz++ Run (mixture 4/4):  75%|█████████████████████████████████████████████               | 3/4 [00:06<00:02,  2.10s/it]"
     ]
    },
    {
     "name": "stderr",
     "output_type": "stream",
     "text": [
      "WARNING:root:Removing existing model file MPhys/data_release/gmm/new_release_bc_both_m3_model.dat\n"
     ]
    },
    {
     "name": "stdout",
     "output_type": "stream",
     "text": [
      "GPz++ Run (mixture 4/4): 100%|████████████████████████████████████████████████████████████| 4/4 [00:07<00:00,  1.83s/it]\n"
     ]
    }
   ],
   "source": [
    "da_c = np.zeros(1)\n",
    "while da_c ==0:\n",
    "    combined_run, paths = test.run_training(catalogue, outdir=f'{directory}',\n",
    "                             basename=f'new_release_bc_both',\n",
    "                             gmm_output=train_mixtures2,\n",
    "                             bash_script=False,\n",
    "                             weight_col='weights',\n",
    "                             mag_prefix='lupt_', \n",
    "                             max_output = 16,\n",
    "                             error_prefix='lupterr_', id_col='id',\n",
    "                             bands = f'^lupt_(f115w-clear|f200w-clear|f356w-clear|f444w-clear)$',\n",
    "                             total_basis_functions=n, do_iteration=False, verbose=False)\n",
    "#   \n",
    "    for i in range(len(combined_run)):\n",
    "        if combined_run['id'][i]==61853:\n",
    "            da_c = i"
   ]
  },
  {
   "cell_type": "code",
   "execution_count": 73,
   "id": "9a9f5a9c",
   "metadata": {},
   "outputs": [
    {
     "data": {
      "text/html": [
       "<i>Row index=426</i>\n",
       "<table id=\"table140619911371664\">\n",
       "<thead><tr><th>field</th><th>id</th><th>ra</th><th>dec</th><th>z_spec</th><th>lupt_f115w-clear</th><th>lupterr_f115w-clear</th><th>lupt_f200w-clear</th><th>lupterr_f200w-clear</th><th>lupt_f356w-clear</th><th>lupterr_f356w-clear</th><th>lupt_f444w-clear</th><th>lupterr_f444w-clear</th><th>weights</th><th>value</th><th>uncertainty</th><th>var.density</th><th>var.tr.noise</th><th>var.in.noise</th></tr></thead>\n",
       "<thead><tr><th>str13</th><th>int64</th><th>float64</th><th>float64</th><th>float64</th><th>float64</th><th>float64</th><th>float64</th><th>float64</th><th>float64</th><th>float64</th><th>float64</th><th>float64</th><th>float64</th><th>float64</th><th>float64</th><th>float64</th><th>float64</th><th>float64</th></tr></thead>\n",
       "<tr><td>ceers</td><td>61853</td><td>214.94313835441517</td><td>52.94244510246539</td><td>11.4109</td><td>32.23151178338668</td><td>0.21031000646223602</td><td>27.81805342514984</td><td>0.08975659142896969</td><td>28.197086519373986</td><td>0.1077509091811779</td><td>28.22923942073591</td><td>0.17501765760760163</td><td>22.701407430697053</td><td>2.112328</td><td>1.573196</td><td>0.1626226</td><td>2.245669</td><td>0.06665369</td></tr>\n",
       "</table>"
      ],
      "text/plain": [
       "<Row index=426>\n",
       "field   id          ra                dec         z_spec  lupt_f115w-clear lupterr_f115w-clear  lupt_f200w-clear lupterr_f200w-clear  lupt_f356w-clear  lupterr_f356w-clear  lupt_f444w-clear lupterr_f444w-clear      weights        value   uncertainty var.density var.tr.noise var.in.noise\n",
       "str13 int64      float64            float64      float64      float64            float64            float64            float64            float64             float64            float64            float64            float64       float64    float64     float64     float64      float64   \n",
       "----- ----- ------------------ ----------------- ------- ----------------- ------------------- ----------------- ------------------- ------------------ ------------------- ----------------- ------------------- ------------------ -------- ----------- ----------- ------------ ------------\n",
       "ceers 61853 214.94313835441517 52.94244510246539 11.4109 32.23151178338668 0.21031000646223602 27.81805342514984 0.08975659142896969 28.197086519373986  0.1077509091811779 28.22923942073591 0.17501765760760163 22.701407430697053 2.112328    1.573196   0.1626226     2.245669   0.06665369"
      ]
     },
     "execution_count": 73,
     "metadata": {},
     "output_type": "execute_result"
    }
   ],
   "source": [
    "combined_run[da_c]"
   ]
  },
  {
   "cell_type": "markdown",
   "id": "d8043bd3",
   "metadata": {},
   "source": [
    "# All Plots"
   ]
  },
  {
   "cell_type": "code",
   "execution_count": 37,
   "id": "923f1c67",
   "metadata": {},
   "outputs": [],
   "source": [
    "count = 0\n",
    "simple_sig=[]\n",
    "simple_olf=[]\n",
    "simple_bias=[]\n",
    "weight_sig=[]\n",
    "weight_olf=[]\n",
    "weight_bias=[]\n",
    "divide_sig=[]\n",
    "divide_olf=[]\n",
    "divide_bias=[]\n",
    "combined_sig=[]\n",
    "combined_olf=[]\n",
    "combined_bias=[]\n",
    "while count<=500:\n",
    "    simple_sub = np.random.choice(simple_run,300,p=simple_run['weights']/np.sum(simple_run['weights']),replace= True)\n",
    "    weights_sub = np.random.choice(weights_run,300,p=weights_run['weights']/np.sum(weights_run['weights']),replace= True)\n",
    "    divide_sub = np.random.choice(divide_run,300,p=divide_run['weights']/np.sum(divide_run['weights']),replace= True)\n",
    "    combined_sub = np.random.choice(combined_run,300,p=combined_run['weights']/np.sum(combined_run['weights']),replace= True)\n",
    "\n",
    "    stats_simple_sub = calcStats(simple_sub['z_spec'], simple_sub['value'])\n",
    "    stats_weight_sub = calcStats(weights_sub['z_spec'], weights_sub['value'])\n",
    "    stats_divide_sub = calcStats(divide_sub['z_spec'], divide_sub['value'])\n",
    "    stats_combined_sub = calcStats(combined_sub['z_spec'], combined_sub['value'])\n",
    "    \n",
    "    \n",
    "    simple_sig.append(stats_simple_sub[0])\n",
    "    simple_olf.append(stats_simple_sub[2])\n",
    "    simple_bias.append(stats_simple_sub[3])\n",
    "    \n",
    "    weight_sig.append(stats_weight_sub[0])\n",
    "    weight_olf.append(stats_weight_sub[2])\n",
    "    weight_bias.append(stats_weight_sub[3])\n",
    "    \n",
    "    divide_sig.append(stats_divide_sub[0])\n",
    "    divide_olf.append(stats_divide_sub[2])\n",
    "    divide_bias.append(stats_divide_sub[3])\n",
    "    \n",
    "    combined_sig.append(stats_combined_sub[0])\n",
    "    combined_olf.append(stats_combined_sub[2])\n",
    "    combined_bias.append(stats_combined_sub[3])\n",
    "\n",
    "    count+=1"
   ]
  },
  {
   "cell_type": "code",
   "execution_count": 38,
   "id": "9ab1323b",
   "metadata": {},
   "outputs": [
    {
     "name": "stdout",
     "output_type": "stream",
     "text": [
      "0.32597848226481874 0.3324627104696472\n"
     ]
    }
   ],
   "source": [
    "print(np.median(simple_sig),np.mean(weight_sig))"
   ]
  },
  {
   "cell_type": "code",
   "execution_count": 39,
   "id": "97f7d195",
   "metadata": {},
   "outputs": [],
   "source": [
    "simple_sig_av=np.nanmedian(simple_sig)\n",
    "simple_olf_av=np.nanmedian(simple_olf)\n",
    "simple_bias_av=np.nanmedian(simple_bias)\n",
    "weight_sig_av=np.nanmedian(weight_sig)\n",
    "weight_olf_av=np.nanmedian(weight_olf)\n",
    "weight_bias_av=np.nanmedian(weight_bias)\n",
    "divide_sig_av=np.nanmedian(divide_sig)\n",
    "divide_olf_av=np.nanmedian(divide_olf)\n",
    "divide_bias_av=np.nanmedian(divide_bias)\n",
    "combined_sig_av=np.nanmedian(combined_sig)\n",
    "combined_olf_av=np.nanmedian(combined_olf)\n",
    "combined_bias_av=np.nanmedian(combined_bias)"
   ]
  },
  {
   "cell_type": "code",
   "execution_count": null,
   "id": "e2a694d2",
   "metadata": {},
   "outputs": [],
   "source": []
  },
  {
   "cell_type": "code",
   "execution_count": 40,
   "id": "bbae7334",
   "metadata": {},
   "outputs": [],
   "source": [
    "\n",
    "sigs_w = [simple_sig_av,weight_sig_av,divide_sig_av,combined_sig_av]\n",
    "olf_w=[simple_olf_av,weight_olf_av,divide_olf_av,combined_olf_av]\n",
    "bias_w=[simple_bias_av,weight_bias_av,divide_bias_av,combined_bias_av]"
   ]
  },
  {
   "cell_type": "code",
   "execution_count": 41,
   "id": "22df118a",
   "metadata": {},
   "outputs": [],
   "source": [
    "#col=[]\n",
    "#cmap = plt.get_cmap('BuPu') \n",
    "#for i in np.linspace(0,0.5,4): \n",
    "#    col.append(cmap(i))\n",
    "col=[]\n",
    "cmap = plt.get_cmap('YlOrRd') \n",
    "for i in np.linspace(0.3,0.9,4): \n",
    "    col.append(cmap(i))"
   ]
  },
  {
   "cell_type": "code",
   "execution_count": 42,
   "id": "7e44a28e",
   "metadata": {
    "scrolled": true
   },
   "outputs": [
    {
     "data": {
      "text/plain": [
       "Text(0, 0.5, '$\\\\text{z}_{\\\\text{phot}}$')"
      ]
     },
     "execution_count": 42,
     "metadata": {},
     "output_type": "execute_result"
    },
    {
     "name": "stderr",
     "output_type": "stream",
     "text": [
      "/tmp/ipykernel_37386/4159042198.py:2: RuntimeWarning: invalid value encountered in log10\n",
      "  return np.log10(1+x)\n",
      "/tmp/ipykernel_37386/4159042198.py:2: RuntimeWarning: invalid value encountered in log10\n",
      "  return np.log10(1+x)\n",
      "/tmp/ipykernel_37386/4159042198.py:2: RuntimeWarning: invalid value encountered in log10\n",
      "  return np.log10(1+x)\n",
      "/tmp/ipykernel_37386/4159042198.py:2: RuntimeWarning: invalid value encountered in log10\n",
      "  return np.log10(1+x)\n",
      "/tmp/ipykernel_37386/4159042198.py:2: RuntimeWarning: invalid value encountered in log10\n",
      "  return np.log10(1+x)\n"
     ]
    },
    {
     "data": {
      "image/png": "[encoded data removed]",
      "text/plain": [
       "<Figure size 1200x1000 with 4 Axes>"
      ]
     },
     "metadata": {
      "needs_background": "light"
     },
     "output_type": "display_data"
    }
   ],
   "source": [
    "Fig, Ax = plt.subplots(2,2,figsize=(12,10),sharex =True,sharey=True)\n",
    "plt.subplots_adjust(wspace=0.1, hspace=0.1)\n",
    "useLatex()\n",
    "plt.rcParams.update({\"font.size\":14})\n",
    "Ax[0,0].errorbar(simple_run['z_spec'], simple_run['value'], \n",
    "            yerr=simple_run['uncertainty'], \n",
    "            fmt='o', ms=3, color=col[0], ecolor=col[0], alpha=0.5)\n",
    "\n",
    "Ax[0,1].errorbar(weights_run['z_spec'], weights_run['value'], \n",
    "            yerr=weights_run['uncertainty'], \n",
    "            fmt='o', ms=3, color=col[1], ecolor=col[1], alpha=0.4)\n",
    "Ax[1,0].errorbar(divide_run['z_spec'], divide_run['value'], \n",
    "            yerr=divide_run['uncertainty'], \n",
    "            fmt='o', ms=3, color=col[2], ecolor=col[2], alpha=0.4)\n",
    "Ax[1,1].errorbar(combined_run['z_spec'], combined_run['value'], \n",
    "            yerr=combined_run['uncertainty'], \n",
    "            fmt='o', ms=3, color=col[3], ecolor=col[3], alpha=0.4)\n",
    "\n",
    "labels = ['Simple', 'Weighted','Divide','Divide+Weighted']\n",
    "\n",
    "stats_simple = calcStats(simple_run['z_spec'], simple_run['value'])\n",
    "stats_weight = calcStats(weights_run['z_spec'], weights_run['value'])\n",
    "stats_divide = calcStats(divide_run['z_spec'], divide_run['value'])\n",
    "stats_combined = calcStats(combined_run['z_spec'], combined_run['value'])\n",
    "\n",
    "\n",
    "\n",
    "stats = [stats_simple, stats_weight,stats_divide,stats_combined]\n",
    "\n",
    "\n",
    "for i, ax in enumerate(Ax.flatten()):\n",
    "    \n",
    "    ax.set_xlim([0, 14])\n",
    "    ax.set_ylim([0, 14])\n",
    "    \n",
    "    ax.set_yscale('function', functions=(forward, inverse))\n",
    "    ax.set_xscale('function', functions=(forward, inverse))\n",
    "    ax.plot([0, 14], [0, 14], '--', color='0.5', lw=2)\n",
    "    \n",
    "    ax.set_title(labels[i], size=16)\n",
    "    #simple_sig = stats[0][0]\n",
    "    #simple_olf = stats[0][2]\n",
    "    #weighted_sig = stats[1][0]\n",
    "    #weighted_olf = stats[1][2]\n",
    "    ax.text(0.1, 11.5, f'$\\sigma = $ {stats[i][0]:.3f} ({sigs_w[i]:.3f})')\n",
    "    ax.text(0.1, 9.5, f'OLF = {stats[i][2]:.3f} ({olf_w[i]:.3f})')\n",
    "    ax.text(0.1, 8, f'$\\Delta$ z = {stats[i][3]:.3f} ({bias_w[i]:.3f})')\n",
    "Ax[1,0].set_xlabel(r'$\\text{z}_{\\text{spec}}$',fontsize=16)\n",
    "Ax[1,1].set_xlabel(r'$\\text{z}_{\\text{spec}}$',fontsize=16)\n",
    "Ax[0,0].set_ylabel(r'$\\text{z}_{\\text{phot}}$',fontsize=16)\n",
    "Ax[1,0].set_ylabel(r'$\\text{z}_{\\text{phot}}$',fontsize=16)\n",
    "#plt.savefig('MPhys/data_release/plots/bc_gmm_lower_divide_thresh.pdf',bbox_inches='tight')"
   ]
  },
  {
   "cell_type": "markdown",
   "id": "1f8b59c5",
   "metadata": {},
   "source": [
    "# High Z Stats\n"
   ]
  },
  {
   "cell_type": "code",
   "execution_count": null,
   "id": "7e325497",
   "metadata": {},
   "outputs": [],
   "source": [
    "simp_good = np.zeros(len(simple_run))\n",
    "for i in range(len(simple_run)):\n",
    "    if simple_run['value'][i]>=4:\n",
    "        simp_good[i]=1\n",
    "simple_highz = simple_run[np.array(simp_good,dtype =bool)]\n",
    "\n",
    "weights_good = np.zeros(len(weights_run))\n",
    "for i in range(len(simple_run)):\n",
    "    if weights_run['value'][i]>=4:\n",
    "        weights_good[i]=1\n",
    "weights_highz = weights_run[np.array(weights_good,dtype =bool)]\n",
    "\n",
    "divide_good = np.zeros(len(divide_run))\n",
    "for i in range(len(divide_run)):\n",
    "    if divide_run['value'][i]>=4:\n",
    "        divide_good[i]=1\n",
    "divide_highz =divide_run[np.array(divide_good,dtype =bool)]\n",
    "\n",
    "combined_good = np.zeros(len(combined_run))\n",
    "for i in range(len(combined_run)):\n",
    "    if combined_run['value'][i]>=4:\n",
    "        combined_good[i]=1\n",
    "combined_highz = combined_run[np.array(combined_good,dtype =bool)]"
   ]
  },
  {
   "cell_type": "code",
   "execution_count": null,
   "id": "37f4e20f",
   "metadata": {},
   "outputs": [],
   "source": [
    "count = 0\n",
    "simple_sig_highz=[]\n",
    "simple_olf_highz=[]\n",
    "simple_bias_highz=[]\n",
    "weight_sig_highz=[]\n",
    "weight_olf_highz=[]\n",
    "weight_bias_highz=[]\n",
    "divide_sig_highz=[]\n",
    "divide_olf_highz=[]\n",
    "divide_bias_highz=[]\n",
    "combined_sig_highz=[]\n",
    "combined_olf_highz=[]\n",
    "combined_bias_highz=[]\n",
    "while count<=500:\n",
    "    simple_sub_highz = np.random.choice(simple_highz,300,p=simple_highz['weights']/np.sum(simple_highz['weights']),replace= True)\n",
    "    weights_sub_highz = np.random.choice(weights_highz,300,p=weights_highz['weights']/np.sum(weights_highz['weights']),replace= True)\n",
    "    divide_sub_highz = np.random.choice(divide_highz,300,p=divide_highz['weights']/np.sum(divide_highz['weights']),replace= True)\n",
    "    combined_sub_highz = np.random.choice(combined_highz,300,p=combined_highz['weights']/np.sum(combined_highz['weights']),replace= True)\n",
    "\n",
    "    stats_simple_sub_highz = calcStats(simple_sub['z_spec'], simple_sub['value'])\n",
    "    stats_weight_sub_highz = calcStats(weights_sub['z_spec'], weights_sub['value'])\n",
    "    stats_divide_sub_highz = calcStats(divide_sub['z_spec'], divide_sub['value'])\n",
    "    stats_combined_sub_highz = calcStats(combined_sub['z_spec'], combined_sub['value'])\n",
    "    \n",
    "    \n",
    "    simple_sig_highz.append(stats_simple_sub_highz[0])\n",
    "    simple_olf_highz.append(stats_simple_sub_highz[2])\n",
    "    simple_bias_highz.append(stats_simple_sub_highz[3])\n",
    "    \n",
    "    weight_sig_highz.append(stats_weight_sub_highz[0])\n",
    "    weight_olf_highz.append(stats_weight_sub_highz[2])\n",
    "    weight_bias_highz.append(stats_weight_sub_highz[3])\n",
    "    \n",
    "    divide_sig_highz.append(stats_divide_sub_highz[0])\n",
    "    divide_olf_highz.append(stats_divide_sub_highz[2])\n",
    "    divide_bias_highz.append(stats_divide_sub_highz[3])\n",
    "    \n",
    "    combined_sig_highz.append(stats_combined_sub_highz[0])\n",
    "    combined_olf_highz.append(stats_combined_sub_highz[2])\n",
    "    combined_bias_highz.append(stats_combined_sub_highz[3])\n",
    "\n",
    "    count+=1"
   ]
  },
  {
   "cell_type": "code",
   "execution_count": null,
   "id": "390a098e",
   "metadata": {},
   "outputs": [],
   "source": [
    "simple_sig_av_highz=np.nanmedian(simple_sig_highz)\n",
    "simple_olf_av_highz=np.nanmedian(simple_olf_highz)\n",
    "simple_bias_av_highz=np.nanmedian(simple_bias_highz)\n",
    "weight_sig_av_highz=np.nanmedian(weight_sig_highz)\n",
    "weight_olf_av_highz=np.nanmedian(weight_olf_highz)\n",
    "weight_bias_av_highz=np.nanmedian(weight_bias_highz)\n",
    "divide_sig_av_highz=np.nanmedian(divide_sig_highz)\n",
    "divide_olf_av_highz=np.nanmedian(divide_olf_highz)\n",
    "divide_bias_av_highz=np.nanmedian(divide_bias)\n",
    "combined_sig_av_highz=np.nanmedian(combined_sig_highz)\n",
    "combined_olf_av_highz=np.nanmedian(combined_olf_highz)\n",
    "combined_bias_av_highz=np.nanmedian(combined_bias_highz)"
   ]
  },
  {
   "cell_type": "code",
   "execution_count": null,
   "id": "be167915",
   "metadata": {},
   "outputs": [],
   "source": [
    "stats_simple_highz = calcStats(simple_highz['z_spec'], simple_highz['value'])\n",
    "stats_weight_highz = calcStats(weights_highz['z_spec'], weights_highz['value'])\n",
    "stats_divide_highz = calcStats(divide_highz['z_spec'], divide_highz['value'])\n",
    "stats_combined_highz = calcStats(combined_highz['z_spec'], combined_highz['value'])"
   ]
  },
  {
   "cell_type": "code",
   "execution_count": null,
   "id": "04bf18dc",
   "metadata": {},
   "outputs": [],
   "source": [
    "highz_comp = Table(names =('Filter',r'$\\sigma_{\\text{NMAD}}$',r'High z $\\sigma_{\\text{NMAD}}$', r'OLF',r'High z OLF',r'$\\Delta$z',r'High z $\\Delta$z'),dtype =(str,float,float,float,float,float,float))\n",
    "#highz_comp.add_column(Column(filt[0],name = 'Filter'))"
   ]
  },
  {
   "cell_type": "code",
   "execution_count": null,
   "id": "b07c2533",
   "metadata": {},
   "outputs": [],
   "source": [
    "\n",
    "highz_comp.add_row((['Simple'],np.round(stats_simple[0],3),np.round(stats_simple_highz[0],3),np.round(stats_simple[2],3),np.round(stats_simple_highz[2],3),np.round(stats_simple[3],3),np.round(stats_simple_highz[3],3)))\n",
    "highz_comp.add_row((['Weighted'],np.round(stats_weight[0],3),np.round(stats_weight_highz[0],3),np.round(stats_weight[2],3),np.round(stats_weight_highz[2],3),np.round(stats_weight[3],3),np.round(stats_weight_highz[3],3)))\n",
    "highz_comp.add_row((['Divided'],np.round(stats_divide[0],3),np.round(stats_divide_highz[0],3),np.round(stats_divide[2],3),np.round(stats_divide_highz[2],3),np.round(stats_divide[3],3),np.round(stats_divide_highz[3],3)))\n",
    "highz_comp.add_row((['Combined'],np.round(stats_combined[0],3),np.round(stats_combined_highz[0],3),np.round(stats_combined[2],3),np.round(stats_combined_highz[2],3),np.round(stats_combined[3],3),np.round(stats_combined_highz[3],3)))"
   ]
  },
  {
   "cell_type": "code",
   "execution_count": null,
   "id": "cc539359",
   "metadata": {},
   "outputs": [],
   "source": [
    "highz_comp"
   ]
  },
  {
   "cell_type": "code",
   "execution_count": null,
   "id": "71a5ec8a",
   "metadata": {},
   "outputs": [],
   "source": [
    "ascii.write(highz_comp, format=\"latex\", latexdict=ascii.latex.latexdicts['AA'])"
   ]
  },
  {
   "cell_type": "code",
   "execution_count": null,
   "id": "fbba9c7c",
   "metadata": {},
   "outputs": [],
   "source": [
    "ns_simple = Table.read('MPhys/gmm_cats/nsplit_simple_stats.cat',format = 'ascii.commented_header')\n",
    "ns_weight = Table.read('MPhys/gmm_cats/nsplit_weight_stats.cat',format = 'ascii.commented_header')\n",
    "ns_divide = Table.read('MPhys/gmm_cats/nsplit_divide_stats.cat',format = 'ascii.commented_header')\n",
    "ns_both = Table.read('MPhys/gmm_cats/nsplit_both_stats.cat',format = 'ascii.commented_header')"
   ]
  },
  {
   "cell_type": "code",
   "execution_count": null,
   "id": "94cb902e",
   "metadata": {},
   "outputs": [],
   "source": [
    "ns_simple.add_row((2,f'{stats[0][0]:.3f}',f'{sigs_w[0]:.3f}',f'{stats[0][2]:.3f}',f'{olf_w[0]:.3f}'))\n",
    "ns_weight.add_row((2,f'{stats[1][0]:.3f}',f'{sigs_w[1]:.3f}',f'{stats[1][2]:.3f}',f'{olf_w[1]:.3f}'))\n",
    "ns_divide.add_row((2,f'{stats[2][0]:.3f}',f'{sigs_w[2]:.3f}',f'{stats[2][2]:.3f}',f'{olf_w[2]:.3f}'))\n",
    "ns_both.add_row((2,f'{stats[3][0]:.3f}',f'{sigs_w[3]:.3f}',f'{stats[3][2]:.3f}',f'{olf_w[3]:.3f}'))"
   ]
  },
  {
   "cell_type": "code",
   "execution_count": null,
   "id": "4a461614",
   "metadata": {},
   "outputs": [],
   "source": [
    "ns_simple"
   ]
  },
  {
   "cell_type": "code",
   "execution_count": null,
   "id": "cbf18dd7",
   "metadata": {},
   "outputs": [],
   "source": [
    "ns_simple.write('MPhys/gmm_cats/nsplit_simple_stats.cat',format = 'ascii.commented_header',overwrite=True)\n",
    "ns_weight.write('MPhys/gmm_cats/nsplit_weight_stats.cat',format = 'ascii.commented_header',overwrite=True)\n",
    "ns_divide.write('MPhys/gmm_cats/nsplit_divide_stats.cat',format = 'ascii.commented_header',overwrite=True)\n",
    "ns_both.write('MPhys/gmm_cats/nsplit_both_stats.cat',format = 'ascii.commented_header',overwrite=True)"
   ]
  },
  {
   "cell_type": "code",
   "execution_count": null,
   "id": "766ac2e2",
   "metadata": {},
   "outputs": [],
   "source": [
    "gmm_tab = Table.read('MPhys/gmm_cats/stats_table_bc.fits',format='fits')"
   ]
  },
  {
   "cell_type": "code",
   "execution_count": null,
   "id": "394deb85",
   "metadata": {},
   "outputs": [],
   "source": []
  },
  {
   "cell_type": "code",
   "execution_count": null,
   "id": "8be23954",
   "metadata": {},
   "outputs": [],
   "source": [
    "gmm_tab.add_row((4,kl[0],kl[1],f'{stats[0][0]:.3f}',f'{sigs_w[0]:.3f}',f'{stats[1][0]:.3f}',f'{sigs_w[1]:.3f}',\n",
    "              f'{stats[2][0]:.3f}',f'{sigs_w[2]:.3f}',f'{stats[3][0]:.3f}',f'{sigs_w[3]:.3f}',\n",
    "              f'{stats[0][2]:.3f}',f'{olf_w[0]:.3f}',f'{stats[1][2]:.3f}',f'{olf_w[1]:.3f}',f'{stats[2][2]:.3f}',f'{olf_w[2]:.3f}',\n",
    "              f'{stats[3][2]:.3f}',f'{olf_w[3]:.3f}',f'{stats[0][3]:.3f}',f'{bias_w[0]:.3f}',\n",
    "              f'{stats[1][3]:.3f}',f'{bias_w[1]:.3f}', f'{stats[2][3]:.3f}',f'{bias_w[2]:.3f}', f'{stats[3][3]:.3f}',f'{bias_w[3]:.3f}'))"
   ]
  },
  {
   "cell_type": "code",
   "execution_count": null,
   "id": "bcd9966f",
   "metadata": {},
   "outputs": [],
   "source": [
    "gmm_tab.sort('permutation')\n"
   ]
  },
  {
   "cell_type": "code",
   "execution_count": null,
   "id": "e6292622",
   "metadata": {},
   "outputs": [],
   "source": [
    "simp_sig_w = np.round(simp_weight_stats['sigs'],3)\n",
    "simp_olf_w = np.round(simp_weight_stats['olfs'],3)\n",
    "simp_bias_w = np.round(simp_weight_stats['bias'],3)\n"
   ]
  },
  {
   "cell_type": "code",
   "execution_count": null,
   "id": "70f2a265",
   "metadata": {},
   "outputs": [],
   "source": [
    "gmm_tab['simp_olf_weight'] = simp_olf_w\n",
    "gmm_tab['simp_bias_weight'] = simp_bias_w"
   ]
  },
  {
   "cell_type": "code",
   "execution_count": null,
   "id": "11a9886e",
   "metadata": {},
   "outputs": [],
   "source": [
    "gmm_tab.write('MPhys/gmm_cats/stats_table_bc.fits',format='fits',overwrite=True)"
   ]
  },
  {
   "cell_type": "code",
   "execution_count": null,
   "id": "e0b7d91d",
   "metadata": {},
   "outputs": [],
   "source": [
    " remove=np.ones(len(comp_f160w))\n",
    "for i in range(len(comp_f160w)):\n",
    "    if comp_f160w['kl'][i]==0.7603421388690541:# or comp_t['permutation'][i]==7 or comp_t['permutation'][i]==8 or comp_t['permutation'][i]==9:\n",
    "        remove[i] =0\n",
    "comp_f160w=comp_f160w[np.array(remove,dtype=bool)]      "
   ]
  },
  {
   "cell_type": "code",
   "execution_count": null,
   "id": "6d212b52",
   "metadata": {},
   "outputs": [],
   "source": [
    "comp_f160w = Table(names=('permutation','kl','kl_weight','simp_sig','simp_sig_weight','weight_sig','weight_sig_weight',\n",
    "               'div_sig','div_sig_weight','comb_sig','comb_sig_weight','simp_olf','simp_olf_weight','weight_olf','weight_olf_weight',\n",
    "               'div_olf','div_olf_weight','comb_olf','comb_olf_weight',\n",
    "               'simp_bias','simp_bias_weight','weight_bias','weight_bias_weight',\n",
    "               'div_bias','div_bias_weight','comb_bias','comb_bias_weight'))"
   ]
  },
  {
   "cell_type": "markdown",
   "id": "675fd947",
   "metadata": {},
   "source": [
    "# BIC"
   ]
  },
  {
   "cell_type": "code",
   "execution_count": null,
   "id": "779cdc9c",
   "metadata": {},
   "outputs": [],
   "source": [
    "bics = Table.read('MPhys/gmm_cats/bics_table.csv',format='csv')"
   ]
  },
  {
   "cell_type": "code",
   "execution_count": null,
   "id": "36b357df",
   "metadata": {},
   "outputs": [],
   "source": [
    "\n",
    "for i in x:\n",
    "    st = time.time()\n",
    "    gmm = GMMbasic(X_pop=X_pop, \n",
    "           X_train=X_train, \n",
    "           Y_train=catalogue['z_spec'], \n",
    "           ncomp=i,niter=100)\n",
    "    bic_pop = gmm.gmm_pop.bic(X_pop)\n",
    "    et = time.time()\n",
    "    dt = et-st\n",
    "    bics.add_row((i,bic_pop,dt))\n",
    "    print(str(i)+' complete')\n"
   ]
  },
  {
   "cell_type": "code",
   "execution_count": null,
   "id": "73fb4303",
   "metadata": {},
   "outputs": [],
   "source": [
    "n=bics['N'][2:len(bics)]\n",
    "b = bics['BIC_pop'][2:len(bics)]"
   ]
  },
  {
   "cell_type": "code",
   "execution_count": null,
   "id": "3136a137",
   "metadata": {},
   "outputs": [],
   "source": []
  },
  {
   "cell_type": "code",
   "execution_count": null,
   "id": "d8d8b1bf",
   "metadata": {},
   "outputs": [],
   "source": [
    "bics = Table.read('MPhys/gmm_cats/bics_table.csv',format='csv')\n",
    "fig,ax1 = plt.subplots(figsize=(5,4))\n",
    "fig.tight_layout()\n",
    "useLatex()\n",
    "plt.axvline(4,color = 'lightgrey',lw = 8)\n",
    "ax1.plot(n,b,marker = 'o',color = 'darkorange',label = 'BIC')\n",
    "ax1.set_ylabel('BIC',fontsize=14)\n",
    "ax1.set_xlabel('N',fontsize=14)\n",
    "ax2 = ax1.twinx()\n",
    "ax2.set_ylabel('Time (s)',fontsize=14)\n",
    "ax2.plot(bics['N'][2:len(bics)],bics['time'][2:len(bics)],marker = '.',linestyle= 'dotted',color ='cornflowerblue' ,label='Time')\n",
    "fig.legend(loc = 'lower left',bbox_to_anchor =(0.67,0.155))\n",
    "plt.xticks(bics['N'][2:len(bics)])\n",
    "plt.savefig('MPhys/gmm_cats/plots/bic_comparison.pdf', bbox_inches = 'tight')\n",
    "plt.show()\n"
   ]
  },
  {
   "cell_type": "markdown",
   "id": "8d50085f",
   "metadata": {},
   "source": [
    "# CDF Plots"
   ]
  },
  {
   "cell_type": "code",
   "execution_count": null,
   "id": "0ed16706",
   "metadata": {},
   "outputs": [],
   "source": [
    "col=[]\n",
    "cmap = plt.get_cmap('YlOrRd') \n",
    "for i in np.linspace(0.3,0.9,4): \n",
    "    col.append(cmap(i))\n"
   ]
  },
  {
   "cell_type": "code",
   "execution_count": null,
   "id": "8e3685b8",
   "metadata": {},
   "outputs": [],
   "source": [
    "print(len(col))"
   ]
  },
  {
   "cell_type": "code",
   "execution_count": null,
   "id": "cb8d0a8e",
   "metadata": {},
   "outputs": [],
   "source": [
    "eazy = Table.read('MPhys/data_release/select_bc_filters_eazy_output.fits',format='fits')\n",
    "pred =  Table.read('MPhys/data_release/gpz_input/bc_pred.cat', format='ascii.commented_header')\n",
    "eazy.rename_column('z_best','value')\n",
    "eazy.rename_column('z_p50','uncertainty')\n",
    "#z_spec = eazy['z_spec']"
   ]
  },
  {
   "cell_type": "code",
   "execution_count": null,
   "id": "292cda94",
   "metadata": {},
   "outputs": [],
   "source": [
    "fig, ax = plt.subplots(1, 2,sharey=True, figsize=(9,4.5))\n",
    "fig.tight_layout()\n",
    "useLatex()\n",
    "plt.rcParams.update({'font.size': 14})\n",
    "augs = [simple_run,weights_run,divide_run,combined_run]\n",
    "labels = ['Simple','Weighted','Divide','Divide+Weighted']\n",
    "for aug,j in zip(augs,range(len(col))):\n",
    "    #delta_z = []\n",
    "    phot_z = aug['value']\n",
    "    spec_z = aug['z_spec']\n",
    "    c=[]\n",
    "    c_corr=[]\n",
    "    uncert=aug['uncertainty']\n",
    "    uncert_corr=aug['uncertainty']*0.71\n",
    "    \n",
    "    #print(len(phot_z))\n",
    "    for i in range(len(phot_z)):\n",
    "        delta_z=(float(phot_z[i])-float(spec_z[i]))\n",
    "        n = float(-delta_z)/(uncert[i]*np.sqrt(2))\n",
    "        c.append(np.abs(math.erf(n)))\n",
    "        n_corr = float(-delta_z)/(uncert_corr[i]*np.sqrt(2))\n",
    "        c_corr.append(np.abs(math.erf(n_corr)))\n",
    "\n",
    "    \n",
    "    ax[0].ecdf(c,color = col[j],label= labels[j])\n",
    "    ax[1].ecdf(c_corr,color = col[j])\n",
    "x = np.linspace(0,1,10)\n",
    "ax[0].plot(x,x,color='grey',linestyle='--')\n",
    "ax[0].set_xlabel('c',fontsize=14)\n",
    "ax[1].set_xlabel('c',fontsize=14)\n",
    "ax[1].plot(x,x,color='grey',linestyle='--')\n",
    "ax[0].text(0.25,0.3,'Errors Overestimated', color = 'grey',rotation = 45,fontsize = '14')\n",
    "ax[0].text(0.3,0.25,'Errors Underestimated', color = 'grey',rotation = 45,fontsize = '14')\n",
    "ax[1].text(0.2,0.35,'Errors Overestimated', color = 'grey',rotation = 45,fontsize = '14')\n",
    "ax[1].text(0.35,0.2,'Errors Underestimated', color = 'grey',rotation = 45,fontsize = '14')\n",
    "ax[0].legend(frameon=False,loc = 'upper left',fontsize = 12)\n",
    "\n",
    "ax[0].set_ylabel('F(c)',fontsize=14)\n",
    "ax[0].set_xlim(0,1)\n",
    "ax[0].set_ylim(0,1)\n",
    "ax[1].set_xlim(0,1)\n",
    "ax[1].set_ylim(0,1)\n",
    "ax[0].set_title('Raw')\n",
    "ax[1].set_title('Corrected')\n",
    "\n",
    "plt.subplots_adjust(wspace=0., hspace=0)\n",
    "\n",
    "ax[0].set_xticks(np.arange(0,1,0.2))\n",
    "ax[1].set_xticks(np.arange(0,1.2,0.2))\n",
    "\n",
    "plt.savefig('MPhys/gmm_cats/plots/cdf_augs_base_feat_filt.pdf',bbox_inches='tight')"
   ]
  },
  {
   "cell_type": "markdown",
   "id": "627093c1",
   "metadata": {},
   "source": [
    "# Individual Plots\n"
   ]
  },
  {
   "cell_type": "code",
   "execution_count": null,
   "id": "e85990de",
   "metadata": {},
   "outputs": [],
   "source": [
    "# Function x**(1/2)\n",
    "\n",
    "Fig, Ax = plt.subplots(1,1,figsize=(5,5))\n",
    "useLatex()\n",
    "plt.rcParams.update({\"font.size\":13})\n",
    "Ax.errorbar(simple_run['z_spec'], simple_run['value'], \n",
    "            yerr=simple_run['uncertainty'], \n",
    "            fmt='o', ms=3, color='k', ecolor='k', alpha=0.2)\n",
    "Ax.set_xlim([0, 14])\n",
    "Ax.set_ylim([0, 14])\n",
    "#\n",
    "Ax.set_yscale('function', functions=(forward, inverse))\n",
    "Ax.set_xscale('function', functions=(forward, inverse))\n",
    "\n",
    "\n",
    "Ax.plot([0, 14], [0, 14], '--', color='0.5', lw=2)\n",
    "Ax.set_xlabel(r'$\\text{z}_{\\text{spec}}$',fontsize=13)\n",
    "Ax.set_ylabel(r'$\\text{z}_{\\text{phot}}$',fontsize=13)\n",
    "#plt.savefig(f'MPhys/gmm_cats/plots/f435w_simple.png', bbox_inches='tight')"
   ]
  },
  {
   "cell_type": "code",
   "execution_count": null,
   "id": "016b9ad2",
   "metadata": {},
   "outputs": [],
   "source": [
    "Fig, Ax = plt.subplots(1,2,figsize=(9,4))\n",
    "useLatex()\n",
    "plt.rcParams.update({\"font.size\":12})\n",
    "Ax[0].errorbar(simple_run['z_spec'], simple_run['value'], \n",
    "            yerr=simple_run['uncertainty'], \n",
    "            fmt='o', ms=3, color='k', ecolor='k', alpha=0.2)\n",
    "\n",
    "Ax[1].errorbar(weights_run['z_spec'], weights_run['value'], \n",
    "            yerr=weights_run['uncertainty'], \n",
    "            fmt='o', ms=3, color='steelblue', ecolor='steelblue', alpha=0.4)\n",
    "\n",
    "labels = ['Simple', 'Weighted']\n",
    "\n",
    "stats_simple = calcStats(simple_run['z_spec'], simple_run['value'])\n",
    "stats_weight = calcStats(weights_run['z_spec'], weights_run['value'])\n",
    "\n",
    "stats = [stats_simple, stats_weight]\n",
    "\n",
    "for i, ax in enumerate(Ax):\n",
    "    ax.set_xlim([0, 14])\n",
    "    ax.set_ylim([0, 14])\n",
    "    \n",
    "    ax.set_yscale('function', functions=(forward, inverse))\n",
    "    ax.set_xscale('function', functions=(forward, inverse))\n",
    "    ax.plot([0, 14], [0, 14], '--', color='0.5', lw=2)\n",
    "    ax.set_xlabel(r'$\\text{z}_{\\text{spec}}$',fontsize=13)\n",
    "    ax.set_ylabel(r'$\\text{z}_{\\text{phot}}$',fontsize=13)\n",
    "    ax.set_title(labels[i], size=13)\n",
    "    #simple_sig = stats[0][0]\n",
    "    #simple_olf = stats[0][2]\n",
    "    #weighted_sig = stats[1][0]\n",
    "    #weighted_olf = stats[1][2]\n",
    "    ax.text(0.1, 11.5, f'$\\sigma = $ {stats[i][0]:.3f}')\n",
    "    ax.text(0.1, 9.5, f'OLF = {stats[i][2]:.3f}')\n",
    "    ax.text(0.1, 8, f'$\\Delta$ z = {stats[i][3]:.3f}')\n",
    "\n",
    "plt.savefig(f'MPhys/gmm_cats/plots/csl_vs_simple_f435w_base_feat.pdf',bbox_inches='tight')"
   ]
  },
  {
   "cell_type": "code",
   "execution_count": null,
   "id": "fa04d945",
   "metadata": {},
   "outputs": [],
   "source": [
    "Fig, Ax = plt.subplots(1,2,figsize=(9,4))\n",
    "useLatex()\n",
    "plt.rcParams.update({\"font.size\":13})\n",
    "Ax[0].errorbar(simple_run['z_spec'], simple_run['value'], \n",
    "            yerr=simple_run['uncertainty'], \n",
    "            fmt='o', ms=3, color='k', ecolor='k', alpha=0.2)\n",
    "\n",
    "Ax[1].errorbar(divide_run['z_spec'], divide_run['value'], \n",
    "            yerr=divide_run['uncertainty'], \n",
    "            fmt='o', ms=3, color='steelblue', ecolor='steelblue', alpha=0.4)\n",
    "\n",
    "labels = ['No divide', 'Divide']\n",
    "\n",
    "stats_simple = calcStats(simple_run['z_spec'], simple_run['value'])\n",
    "stats_divide = calcStats(divide_run['z_spec'], divide_run['value'])\n",
    "\n",
    "stats = [stats_simple, stats_divide]\n",
    "\n",
    "for i, ax in enumerate(Ax):\n",
    "    ax.set_xlim([0, 14])\n",
    "    ax.set_ylim([0, 14])\n",
    "\n",
    "    ax.set_yscale('function', functions=(forward, inverse))\n",
    "    ax.set_xscale('function', functions=(forward, inverse))\n",
    "    ax.plot([0, 14], [0, 14], '--', color='0.5', lw=2)\n",
    "    ax.set_xlabel(r'$\\text{z}_{\\text{spec}}$',fontsize=13)\n",
    "    ax.set_ylabel(r'$\\text{z}_{\\text{phot}}$',fontsize=13)\n",
    "    ax.set_title(labels[i], size=13)\n",
    "\n",
    "    \n",
    "   \n",
    "    ax.text(0.1, 11.5, f'$\\sigma = $ {stats[i][0]:.3f}',fontsize=12)\n",
    "    ax.text(0.1, 9.5, f'OLF = {stats[i][2]:.3f}',fontsize=12)   \n",
    "    ax.text(0.1,8, f'$\\Delta$ z = {stats[i][3]:.3f}',fontsize=12)\n",
    "\n",
    "\n",
    "\n",
    "\n",
    "plt.savefig(f'MPhys/gmm_cats/plots/divide_f435w_base_feat.pdf',bbox_inches='tight')"
   ]
  },
  {
   "cell_type": "code",
   "execution_count": null,
   "id": "6e837b38",
   "metadata": {},
   "outputs": [],
   "source": [
    "Fig, Ax = plt.subplots(1,2,figsize=(9,4))\n",
    "useLatex()\n",
    "plt.rcParams.update({\"font.size\":13})\n",
    "Ax[0].errorbar(simple_run['z_spec'], simple_run['value'], \n",
    "            yerr=simple_run['uncertainty'], \n",
    "            fmt='o', ms=3, color='k', ecolor='k', alpha=0.2)\n",
    "\n",
    "Ax[1].errorbar(combined_run['z_spec'], combined_run['value'], \n",
    "            yerr=combined_run['uncertainty'], \n",
    "            fmt='o', ms=3, color='steelblue', ecolor='steelblue', alpha=0.4)\n",
    "\n",
    "labels = ['No divide', 'Divide + Weight']\n",
    "\n",
    "stats_simple = calcStats(simple_run['z_spec'], simple_run['value'])\n",
    "stats_combined = calcStats(combined_run['z_spec'], combined_run['value'])\n",
    "\n",
    "stats = [stats_simple, stats_combined]\n",
    "\n",
    "for i, ax in enumerate(Ax):\n",
    "    ax.set_xlim([0, 14])\n",
    "    ax.set_ylim([0, 14])\n",
    "\n",
    "    ax.set_yscale('function', functions=(forward, inverse))\n",
    "    ax.set_xscale('function', functions=(forward, inverse))\n",
    "    ax.plot([0, 14], [0, 14], '--', color='0.5', lw=2)\n",
    "    ax.set_xlabel(r'$\\text{z}_{\\text{spec}}$',fontsize=13)\n",
    "    ax.set_ylabel(r'$\\text{z}_{\\text{phot}}$',fontsize=13)\n",
    "    ax.set_title(labels[i], size=13)\n",
    "    \n",
    "    ax.text(0.1, 11.5, f'$\\sigma = $ {stats[i][0]:.3f}',fontsize=12)\n",
    "    ax.text(0.1, 9.5, f'OLF = {stats[i][2]:.3f}',fontsize=12)\n",
    "    ax.text(0.1, 8, f'$\\Delta$ z = {stats[i][3]:.3f}',fontsize=12)\n",
    "\n",
    "plt.savefig(f'MPhys/gmm_cats/plots/divide_weight_f435w_base_feat.png',bbox_inches='tight')"
   ]
  },
  {
   "cell_type": "markdown",
   "id": "b22e2af5",
   "metadata": {},
   "source": [
    "# ML Comparison to Donnan Galaxy\n"
   ]
  },
  {
   "cell_type": "code",
   "execution_count": null,
   "id": "334e832c",
   "metadata": {},
   "outputs": [],
   "source": [
    "simp_c= np.round(simple_run['value'][572],3)\n",
    "weight_c = np.round(weights_run['value'][1890],3)\n",
    "divide_c=np.round(divide_run['value'][487],3)\n",
    "combined_c=np.round(combined_run['value'][523],3)\n",
    "specz = np.round(simple_run['z_spec'][572],3)\n",
    "\n",
    "simp_err= np.round(simple_run['uncertainty'][572],3)\n",
    "weight_err = np.round(weights_run['uncertainty'][1890],3)\n",
    "divide_err=np.round(divide_run['uncertainty'][487],3)\n",
    "combined_err=np.round(combined_run['uncertainty'][523],3)"
   ]
  },
  {
   "cell_type": "code",
   "execution_count": 81,
   "id": "3d4c1984",
   "metadata": {},
   "outputs": [],
   "source": [
    "maisie = [5.398328,3.622819,3.654491,2.112328]\n",
    "maisie_err = [4.131295,1.559316,1.836146,1.573196]\n",
    "donnan = [5.711195, 3.275324,4.539692,2.793191]\n",
    "donnan_err = [6.26575,2.0600232,1.632829,1.204514]\n",
    "specz = []"
   ]
  },
  {
   "cell_type": "code",
   "execution_count": 123,
   "id": "8a81200f",
   "metadata": {},
   "outputs": [
    {
     "data": {
      "image/png": "[encoded data removed]",
      "text/plain": [
       "<Figure size 1000x400 with 2 Axes>"
      ]
     },
     "metadata": {
      "needs_background": "light"
     },
     "output_type": "display_data"
    }
   ],
   "source": [
    "fig,ax=plt.subplots(1,2,figsize=(10,4),sharey=True)\n",
    "#points  = []\n",
    "cdon = [16.4]\n",
    "#err = [simp_err,weight_err,divide_err,combined_err]\n",
    "x = [1,2,3,4]\n",
    "x_tf=['Template \\nFitting']\n",
    "x_labels =['Simple','Weighted','Divide','Combined']\n",
    "ax[0].axhline(4.9084,linestyle = '--',color = 'k',alpha=0.6,lw=1)\n",
    "ax[1].axhline(11.4109,linestyle = '--',color = 'k',alpha=0.6,lw=1)\n",
    "ax[1].errorbar(x_labels,maisie,yerr = maisie_err, marker = '.', linestyle='None',color = 'darkorange',lw=1,capsize=3,label ='This Work')\n",
    "ax[0].errorbar(x_labels,donnan,yerr = donnan_err, marker = '.', linestyle='None',color = 'darkorange',lw=1,capsize=3,label ='This Work')\n",
    "ax[0].errorbar(x_tf,16.39, yerr = np.array([[0.22]*len(x_tf),[0.32]*len(x_tf)]), marker = '.', linestyle='None',color = 'royalblue',lw=1,capsize=3,label ='Donnan et al. (2023)')\n",
    "ax[0].legend(frameon=False)\n",
    "ax[0].set_ylabel('Redshift')\n",
    "plt.subplots_adjust(wspace=0.1)\n",
    "ax[0].set_title('CEERS-93316')\n",
    "ax[1].set_title(\"Maisie\\'s Galaxy\")\n",
    "\n",
    "plt.savefig('MPhys/ceers_tf_ml_comparison.pdf',bbox_inches='tight')"
   ]
  },
  {
   "cell_type": "code",
   "execution_count": null,
   "id": "1e107646",
   "metadata": {},
   "outputs": [],
   "source": [
    "ceer = Table(names=(r'$z_{\\text{spec}}$','Simple','Weighted','Divide','Combined'))"
   ]
  },
  {
   "cell_type": "code",
   "execution_count": null,
   "id": "5a755d4f",
   "metadata": {},
   "outputs": [],
   "source": [
    "ceer.add_row((specz,simp_c,weight_c,divide_c,combined_c))"
   ]
  },
  {
   "cell_type": "code",
   "execution_count": null,
   "id": "42cf3382",
   "metadata": {},
   "outputs": [],
   "source": [
    "ceer"
   ]
  },
  {
   "cell_type": "code",
   "execution_count": null,
   "id": "a59b7381",
   "metadata": {},
   "outputs": [],
   "source": [
    "ascii.write(ceer, format=\"latex\", latexdict=ascii.latex.latexdicts['AA'])"
   ]
  }
 ],
 "metadata": {
  "kernelspec": {
   "display_name": "Python 3 (ipykernel)",
   "language": "python",
   "name": "python3"
  },
  "language_info": {
   "codemirror_mode": {
    "name": "ipython",
    "version": 3
   },
   "file_extension": ".py",
   "mimetype": "text/x-python",
   "name": "python",
   "nbconvert_exporter": "python",
   "pygments_lexer": "ipython3",
   "version": "3.11.5"
  }
 },
 "nbformat": 4,
 "nbformat_minor": 5
}
